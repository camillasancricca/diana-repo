{
 "cells": [
  {
   "cell_type": "code",
   "execution_count": 34,
   "outputs": [],
   "source": [
    "import pandas as pd"
   ],
   "metadata": {
    "collapsed": false
   }
  },
  {
   "cell_type": "code",
   "execution_count": 35,
   "outputs": [
    {
     "data": {
      "text/plain": "         dataset technique      rmse\n0        acustic       IQR  0.140949\n1        acustic       ISO  0.061785\n2        acustic      PERC  0.029374\n3        acustic       STD  0.069393\n4        acustic       ZSB  0.131240\n5        acustic       KNN  0.383810\n6        acustic       LOF  0.172969\n7         cancer       IQR  0.169253\n8         cancer       ISO  0.036651\n9         cancer      PERC  0.011883\n10        cancer       STD  0.031492\n11        cancer       ZSB  0.222968\n12        cancer       KNN  0.246495\n13        cancer       LOF  0.195254\n14         ecoli       IQR  0.147312\n15         ecoli       ISO  0.053932\n16         ecoli      PERC  0.054474\n17         ecoli       STD  0.058603\n18         ecoli       ZSB  0.154864\n19         ecoli       KNN  0.316815\n20         ecoli       LOF  0.147166\n21         frogs       IQR  0.168617\n22         frogs       ISO  0.042439\n23         frogs      PERC  0.014945\n24         frogs       STD  0.052912\n25         frogs       ZSB  0.153738\n26         frogs       KNN  0.311238\n27         frogs       LOF  0.183862\n28        letter       IQR  0.128752\n29        letter       ISO  0.061255\n30        letter      PERC  0.024323\n31        letter       STD  0.060396\n32        letter       ZSB  0.122322\n33        letter       KNN  0.277993\n34        letter       LOF  0.080936\n35           oil       IQR  0.167938\n36           oil       ISO  0.052634\n37           oil      PERC  0.027778\n38           oil       STD  0.062809\n39           oil       ZSB  0.114172\n40           oil       KNN  0.294658\n41           oil       LOF  0.076557\n42    qualityred       IQR  0.142342\n43    qualityred       ISO  0.041791\n44    qualityred      PERC  0.014816\n45    qualityred       STD  0.050595\n46    qualityred       ZSB  0.130992\n47    qualityred       KNN  0.238298\n48    qualityred       LOF  0.158132\n49  qualitywhite       IQR  0.126450\n50  qualitywhite       ISO  0.056760\n51  qualitywhite      PERC  0.018539\n52  qualitywhite       STD  0.052628\n53  qualitywhite       ZSB  0.099800\n54  qualitywhite       KNN  0.284600\n55  qualitywhite       LOF  0.165696",
      "text/html": "<div>\n<style scoped>\n    .dataframe tbody tr th:only-of-type {\n        vertical-align: middle;\n    }\n\n    .dataframe tbody tr th {\n        vertical-align: top;\n    }\n\n    .dataframe thead th {\n        text-align: right;\n    }\n</style>\n<table border=\"1\" class=\"dataframe\">\n  <thead>\n    <tr style=\"text-align: right;\">\n      <th></th>\n      <th>dataset</th>\n      <th>technique</th>\n      <th>rmse</th>\n    </tr>\n  </thead>\n  <tbody>\n    <tr>\n      <th>0</th>\n      <td>acustic</td>\n      <td>IQR</td>\n      <td>0.140949</td>\n    </tr>\n    <tr>\n      <th>1</th>\n      <td>acustic</td>\n      <td>ISO</td>\n      <td>0.061785</td>\n    </tr>\n    <tr>\n      <th>2</th>\n      <td>acustic</td>\n      <td>PERC</td>\n      <td>0.029374</td>\n    </tr>\n    <tr>\n      <th>3</th>\n      <td>acustic</td>\n      <td>STD</td>\n      <td>0.069393</td>\n    </tr>\n    <tr>\n      <th>4</th>\n      <td>acustic</td>\n      <td>ZSB</td>\n      <td>0.131240</td>\n    </tr>\n    <tr>\n      <th>5</th>\n      <td>acustic</td>\n      <td>KNN</td>\n      <td>0.383810</td>\n    </tr>\n    <tr>\n      <th>6</th>\n      <td>acustic</td>\n      <td>LOF</td>\n      <td>0.172969</td>\n    </tr>\n    <tr>\n      <th>7</th>\n      <td>cancer</td>\n      <td>IQR</td>\n      <td>0.169253</td>\n    </tr>\n    <tr>\n      <th>8</th>\n      <td>cancer</td>\n      <td>ISO</td>\n      <td>0.036651</td>\n    </tr>\n    <tr>\n      <th>9</th>\n      <td>cancer</td>\n      <td>PERC</td>\n      <td>0.011883</td>\n    </tr>\n    <tr>\n      <th>10</th>\n      <td>cancer</td>\n      <td>STD</td>\n      <td>0.031492</td>\n    </tr>\n    <tr>\n      <th>11</th>\n      <td>cancer</td>\n      <td>ZSB</td>\n      <td>0.222968</td>\n    </tr>\n    <tr>\n      <th>12</th>\n      <td>cancer</td>\n      <td>KNN</td>\n      <td>0.246495</td>\n    </tr>\n    <tr>\n      <th>13</th>\n      <td>cancer</td>\n      <td>LOF</td>\n      <td>0.195254</td>\n    </tr>\n    <tr>\n      <th>14</th>\n      <td>ecoli</td>\n      <td>IQR</td>\n      <td>0.147312</td>\n    </tr>\n    <tr>\n      <th>15</th>\n      <td>ecoli</td>\n      <td>ISO</td>\n      <td>0.053932</td>\n    </tr>\n    <tr>\n      <th>16</th>\n      <td>ecoli</td>\n      <td>PERC</td>\n      <td>0.054474</td>\n    </tr>\n    <tr>\n      <th>17</th>\n      <td>ecoli</td>\n      <td>STD</td>\n      <td>0.058603</td>\n    </tr>\n    <tr>\n      <th>18</th>\n      <td>ecoli</td>\n      <td>ZSB</td>\n      <td>0.154864</td>\n    </tr>\n    <tr>\n      <th>19</th>\n      <td>ecoli</td>\n      <td>KNN</td>\n      <td>0.316815</td>\n    </tr>\n    <tr>\n      <th>20</th>\n      <td>ecoli</td>\n      <td>LOF</td>\n      <td>0.147166</td>\n    </tr>\n    <tr>\n      <th>21</th>\n      <td>frogs</td>\n      <td>IQR</td>\n      <td>0.168617</td>\n    </tr>\n    <tr>\n      <th>22</th>\n      <td>frogs</td>\n      <td>ISO</td>\n      <td>0.042439</td>\n    </tr>\n    <tr>\n      <th>23</th>\n      <td>frogs</td>\n      <td>PERC</td>\n      <td>0.014945</td>\n    </tr>\n    <tr>\n      <th>24</th>\n      <td>frogs</td>\n      <td>STD</td>\n      <td>0.052912</td>\n    </tr>\n    <tr>\n      <th>25</th>\n      <td>frogs</td>\n      <td>ZSB</td>\n      <td>0.153738</td>\n    </tr>\n    <tr>\n      <th>26</th>\n      <td>frogs</td>\n      <td>KNN</td>\n      <td>0.311238</td>\n    </tr>\n    <tr>\n      <th>27</th>\n      <td>frogs</td>\n      <td>LOF</td>\n      <td>0.183862</td>\n    </tr>\n    <tr>\n      <th>28</th>\n      <td>letter</td>\n      <td>IQR</td>\n      <td>0.128752</td>\n    </tr>\n    <tr>\n      <th>29</th>\n      <td>letter</td>\n      <td>ISO</td>\n      <td>0.061255</td>\n    </tr>\n    <tr>\n      <th>30</th>\n      <td>letter</td>\n      <td>PERC</td>\n      <td>0.024323</td>\n    </tr>\n    <tr>\n      <th>31</th>\n      <td>letter</td>\n      <td>STD</td>\n      <td>0.060396</td>\n    </tr>\n    <tr>\n      <th>32</th>\n      <td>letter</td>\n      <td>ZSB</td>\n      <td>0.122322</td>\n    </tr>\n    <tr>\n      <th>33</th>\n      <td>letter</td>\n      <td>KNN</td>\n      <td>0.277993</td>\n    </tr>\n    <tr>\n      <th>34</th>\n      <td>letter</td>\n      <td>LOF</td>\n      <td>0.080936</td>\n    </tr>\n    <tr>\n      <th>35</th>\n      <td>oil</td>\n      <td>IQR</td>\n      <td>0.167938</td>\n    </tr>\n    <tr>\n      <th>36</th>\n      <td>oil</td>\n      <td>ISO</td>\n      <td>0.052634</td>\n    </tr>\n    <tr>\n      <th>37</th>\n      <td>oil</td>\n      <td>PERC</td>\n      <td>0.027778</td>\n    </tr>\n    <tr>\n      <th>38</th>\n      <td>oil</td>\n      <td>STD</td>\n      <td>0.062809</td>\n    </tr>\n    <tr>\n      <th>39</th>\n      <td>oil</td>\n      <td>ZSB</td>\n      <td>0.114172</td>\n    </tr>\n    <tr>\n      <th>40</th>\n      <td>oil</td>\n      <td>KNN</td>\n      <td>0.294658</td>\n    </tr>\n    <tr>\n      <th>41</th>\n      <td>oil</td>\n      <td>LOF</td>\n      <td>0.076557</td>\n    </tr>\n    <tr>\n      <th>42</th>\n      <td>qualityred</td>\n      <td>IQR</td>\n      <td>0.142342</td>\n    </tr>\n    <tr>\n      <th>43</th>\n      <td>qualityred</td>\n      <td>ISO</td>\n      <td>0.041791</td>\n    </tr>\n    <tr>\n      <th>44</th>\n      <td>qualityred</td>\n      <td>PERC</td>\n      <td>0.014816</td>\n    </tr>\n    <tr>\n      <th>45</th>\n      <td>qualityred</td>\n      <td>STD</td>\n      <td>0.050595</td>\n    </tr>\n    <tr>\n      <th>46</th>\n      <td>qualityred</td>\n      <td>ZSB</td>\n      <td>0.130992</td>\n    </tr>\n    <tr>\n      <th>47</th>\n      <td>qualityred</td>\n      <td>KNN</td>\n      <td>0.238298</td>\n    </tr>\n    <tr>\n      <th>48</th>\n      <td>qualityred</td>\n      <td>LOF</td>\n      <td>0.158132</td>\n    </tr>\n    <tr>\n      <th>49</th>\n      <td>qualitywhite</td>\n      <td>IQR</td>\n      <td>0.126450</td>\n    </tr>\n    <tr>\n      <th>50</th>\n      <td>qualitywhite</td>\n      <td>ISO</td>\n      <td>0.056760</td>\n    </tr>\n    <tr>\n      <th>51</th>\n      <td>qualitywhite</td>\n      <td>PERC</td>\n      <td>0.018539</td>\n    </tr>\n    <tr>\n      <th>52</th>\n      <td>qualitywhite</td>\n      <td>STD</td>\n      <td>0.052628</td>\n    </tr>\n    <tr>\n      <th>53</th>\n      <td>qualitywhite</td>\n      <td>ZSB</td>\n      <td>0.099800</td>\n    </tr>\n    <tr>\n      <th>54</th>\n      <td>qualitywhite</td>\n      <td>KNN</td>\n      <td>0.284600</td>\n    </tr>\n    <tr>\n      <th>55</th>\n      <td>qualitywhite</td>\n      <td>LOF</td>\n      <td>0.165696</td>\n    </tr>\n  </tbody>\n</table>\n</div>"
     },
     "execution_count": 35,
     "metadata": {},
     "output_type": "execute_result"
    }
   ],
   "source": [
    "rmse = pd.read_csv('prediction_accuracy.csv')\n",
    "rmse"
   ],
   "metadata": {
    "collapsed": false
   }
  },
  {
   "cell_type": "code",
   "execution_count": 36,
   "outputs": [
    {
     "data": {
      "text/plain": "  technique      rmse\n0       IQR  0.144827\n1       ISO  0.053283\n2       KNN  0.289629\n3       LOF  0.161914\n4      PERC  0.021431\n5       STD  0.055758\n6       ZSB  0.131116",
      "text/html": "<div>\n<style scoped>\n    .dataframe tbody tr th:only-of-type {\n        vertical-align: middle;\n    }\n\n    .dataframe tbody tr th {\n        vertical-align: top;\n    }\n\n    .dataframe thead th {\n        text-align: right;\n    }\n</style>\n<table border=\"1\" class=\"dataframe\">\n  <thead>\n    <tr style=\"text-align: right;\">\n      <th></th>\n      <th>technique</th>\n      <th>rmse</th>\n    </tr>\n  </thead>\n  <tbody>\n    <tr>\n      <th>0</th>\n      <td>IQR</td>\n      <td>0.144827</td>\n    </tr>\n    <tr>\n      <th>1</th>\n      <td>ISO</td>\n      <td>0.053283</td>\n    </tr>\n    <tr>\n      <th>2</th>\n      <td>KNN</td>\n      <td>0.289629</td>\n    </tr>\n    <tr>\n      <th>3</th>\n      <td>LOF</td>\n      <td>0.161914</td>\n    </tr>\n    <tr>\n      <th>4</th>\n      <td>PERC</td>\n      <td>0.021431</td>\n    </tr>\n    <tr>\n      <th>5</th>\n      <td>STD</td>\n      <td>0.055758</td>\n    </tr>\n    <tr>\n      <th>6</th>\n      <td>ZSB</td>\n      <td>0.131116</td>\n    </tr>\n  </tbody>\n</table>\n</div>"
     },
     "execution_count": 36,
     "metadata": {},
     "output_type": "execute_result"
    }
   ],
   "source": [
    "rmse = rmse[['technique','rmse']].groupby(['technique']).median().reset_index().copy()\n",
    "rmse"
   ],
   "metadata": {
    "collapsed": false
   }
  },
  {
   "cell_type": "code",
   "execution_count": 37,
   "outputs": [],
   "source": [
    "KBA = pd.read_csv('KBA.csv')"
   ],
   "metadata": {
    "collapsed": false
   }
  },
  {
   "cell_type": "code",
   "execution_count": 38,
   "outputs": [
    {
     "data": {
      "text/plain": "               name                           column_name    n_tuples  \\\n0           acustic  _HarmonicChangeDetectionFunction_Std   57.142854   \n1           acustic  _HarmonicChangeDetectionFunction_Std   57.142854   \n2           acustic  _HarmonicChangeDetectionFunction_Std   57.142854   \n3           acustic  _HarmonicChangeDetectionFunction_Std   57.142854   \n4           acustic  _HarmonicChangeDetectionFunction_Std   57.142854   \n...             ...                                   ...         ...   \n21275  qualitywhite                   free sulfur dioxide  699.714244   \n21276  qualitywhite                   free sulfur dioxide  699.714244   \n21277  qualitywhite                   free sulfur dioxide  699.714244   \n21278  qualitywhite                   free sulfur dioxide  699.714244   \n21279  qualitywhite                   free sulfur dioxide  699.714244   \n\n       uniqueness        min         max       mean     median         std  \\\n0        0.069307   -9.56093   68.569392  27.240555  27.039611   11.474756   \n1        0.069307   -9.56093   68.569392  27.240555  27.039611   11.474756   \n2        0.069307   -9.56093   68.569392  27.240555  27.039611   11.474756   \n3        0.069307   -9.56093   68.569392  27.240555  27.039611   11.474756   \n4        0.069307   -9.56093   68.569392  27.240555  27.039611   11.474756   \n...           ...        ...         ...        ...        ...         ...   \n21275    0.075081 -727.82837  769.996255   9.398652   4.714289  314.545650   \n21276    0.075081 -727.82837  769.996255   9.398652   4.714289  314.545650   \n21277    0.075081 -727.82837  769.996255   9.398652   4.714289  314.545650   \n21278    0.075081 -727.82837  769.996255   9.398652   4.714289  314.545650   \n21279    0.075081 -727.82837  769.996255   9.398652   4.714289  314.545650   \n\n       skewness  ...     k_min     k_max     s_min     s_max   entropy  \\\n0     -0.027650  ...  0.014073  0.058649  0.019161  0.075845  0.722631   \n1     -0.027650  ...  0.014073  0.058649  0.019161  0.075845  0.722631   \n2     -0.027650  ...  0.014073  0.058649  0.019161  0.075845  0.722631   \n3     -0.027650  ...  0.014073  0.058649  0.019161  0.075845  0.722631   \n4     -0.027650  ...  0.014073  0.058649  0.019161  0.075845  0.722631   \n...         ...  ...       ...       ...       ...       ...       ...   \n21275  0.010022  ...  0.000096  0.001811  0.000108  0.002712  0.957529   \n21276  0.010022  ...  0.000096  0.001811  0.000108  0.002712  0.957529   \n21277  0.010022  ...  0.000096  0.001811  0.000108  0.002712  0.957529   \n21278  0.010022  ...  0.000096  0.001811  0.000108  0.002712  0.957529   \n21279  0.010022  ...  0.000096  0.001811  0.000108  0.002712  0.957529   \n\n       density  percentage_outliers  std_outliers  technique_accuracy  \\\n0       0.0002                 10.0             1                 IQR   \n1       0.0002                 10.0             1                 ISO   \n2       0.0002                 10.0             1                PERC   \n3       0.0002                 10.0             1                 STD   \n4       0.0002                 10.0             1                 ZSB   \n...        ...                  ...           ...                 ...   \n21275   0.0000                 50.0           100                PERC   \n21276   0.0000                 50.0           100                 STD   \n21277   0.0000                 50.0           100                 ZSB   \n21278   0.0000                 50.0           100                 KNN   \n21279   0.0000                 50.0           100                 LOF   \n\n       f1_technique  \n0          0.946685  \n1          0.855497  \n2          0.328122  \n3          0.401353  \n4          0.942134  \n...             ...  \n21275      0.077195  \n21276      0.000000  \n21277      0.986235  \n21278      0.985120  \n21279      0.140882  \n\n[21280 rows x 25 columns]",
      "text/html": "<div>\n<style scoped>\n    .dataframe tbody tr th:only-of-type {\n        vertical-align: middle;\n    }\n\n    .dataframe tbody tr th {\n        vertical-align: top;\n    }\n\n    .dataframe thead th {\n        text-align: right;\n    }\n</style>\n<table border=\"1\" class=\"dataframe\">\n  <thead>\n    <tr style=\"text-align: right;\">\n      <th></th>\n      <th>name</th>\n      <th>column_name</th>\n      <th>n_tuples</th>\n      <th>uniqueness</th>\n      <th>min</th>\n      <th>max</th>\n      <th>mean</th>\n      <th>median</th>\n      <th>std</th>\n      <th>skewness</th>\n      <th>...</th>\n      <th>k_min</th>\n      <th>k_max</th>\n      <th>s_min</th>\n      <th>s_max</th>\n      <th>entropy</th>\n      <th>density</th>\n      <th>percentage_outliers</th>\n      <th>std_outliers</th>\n      <th>technique_accuracy</th>\n      <th>f1_technique</th>\n    </tr>\n  </thead>\n  <tbody>\n    <tr>\n      <th>0</th>\n      <td>acustic</td>\n      <td>_HarmonicChangeDetectionFunction_Std</td>\n      <td>57.142854</td>\n      <td>0.069307</td>\n      <td>-9.56093</td>\n      <td>68.569392</td>\n      <td>27.240555</td>\n      <td>27.039611</td>\n      <td>11.474756</td>\n      <td>-0.027650</td>\n      <td>...</td>\n      <td>0.014073</td>\n      <td>0.058649</td>\n      <td>0.019161</td>\n      <td>0.075845</td>\n      <td>0.722631</td>\n      <td>0.0002</td>\n      <td>10.0</td>\n      <td>1</td>\n      <td>IQR</td>\n      <td>0.946685</td>\n    </tr>\n    <tr>\n      <th>1</th>\n      <td>acustic</td>\n      <td>_HarmonicChangeDetectionFunction_Std</td>\n      <td>57.142854</td>\n      <td>0.069307</td>\n      <td>-9.56093</td>\n      <td>68.569392</td>\n      <td>27.240555</td>\n      <td>27.039611</td>\n      <td>11.474756</td>\n      <td>-0.027650</td>\n      <td>...</td>\n      <td>0.014073</td>\n      <td>0.058649</td>\n      <td>0.019161</td>\n      <td>0.075845</td>\n      <td>0.722631</td>\n      <td>0.0002</td>\n      <td>10.0</td>\n      <td>1</td>\n      <td>ISO</td>\n      <td>0.855497</td>\n    </tr>\n    <tr>\n      <th>2</th>\n      <td>acustic</td>\n      <td>_HarmonicChangeDetectionFunction_Std</td>\n      <td>57.142854</td>\n      <td>0.069307</td>\n      <td>-9.56093</td>\n      <td>68.569392</td>\n      <td>27.240555</td>\n      <td>27.039611</td>\n      <td>11.474756</td>\n      <td>-0.027650</td>\n      <td>...</td>\n      <td>0.014073</td>\n      <td>0.058649</td>\n      <td>0.019161</td>\n      <td>0.075845</td>\n      <td>0.722631</td>\n      <td>0.0002</td>\n      <td>10.0</td>\n      <td>1</td>\n      <td>PERC</td>\n      <td>0.328122</td>\n    </tr>\n    <tr>\n      <th>3</th>\n      <td>acustic</td>\n      <td>_HarmonicChangeDetectionFunction_Std</td>\n      <td>57.142854</td>\n      <td>0.069307</td>\n      <td>-9.56093</td>\n      <td>68.569392</td>\n      <td>27.240555</td>\n      <td>27.039611</td>\n      <td>11.474756</td>\n      <td>-0.027650</td>\n      <td>...</td>\n      <td>0.014073</td>\n      <td>0.058649</td>\n      <td>0.019161</td>\n      <td>0.075845</td>\n      <td>0.722631</td>\n      <td>0.0002</td>\n      <td>10.0</td>\n      <td>1</td>\n      <td>STD</td>\n      <td>0.401353</td>\n    </tr>\n    <tr>\n      <th>4</th>\n      <td>acustic</td>\n      <td>_HarmonicChangeDetectionFunction_Std</td>\n      <td>57.142854</td>\n      <td>0.069307</td>\n      <td>-9.56093</td>\n      <td>68.569392</td>\n      <td>27.240555</td>\n      <td>27.039611</td>\n      <td>11.474756</td>\n      <td>-0.027650</td>\n      <td>...</td>\n      <td>0.014073</td>\n      <td>0.058649</td>\n      <td>0.019161</td>\n      <td>0.075845</td>\n      <td>0.722631</td>\n      <td>0.0002</td>\n      <td>10.0</td>\n      <td>1</td>\n      <td>ZSB</td>\n      <td>0.942134</td>\n    </tr>\n    <tr>\n      <th>...</th>\n      <td>...</td>\n      <td>...</td>\n      <td>...</td>\n      <td>...</td>\n      <td>...</td>\n      <td>...</td>\n      <td>...</td>\n      <td>...</td>\n      <td>...</td>\n      <td>...</td>\n      <td>...</td>\n      <td>...</td>\n      <td>...</td>\n      <td>...</td>\n      <td>...</td>\n      <td>...</td>\n      <td>...</td>\n      <td>...</td>\n      <td>...</td>\n      <td>...</td>\n      <td>...</td>\n    </tr>\n    <tr>\n      <th>21275</th>\n      <td>qualitywhite</td>\n      <td>free sulfur dioxide</td>\n      <td>699.714244</td>\n      <td>0.075081</td>\n      <td>-727.82837</td>\n      <td>769.996255</td>\n      <td>9.398652</td>\n      <td>4.714289</td>\n      <td>314.545650</td>\n      <td>0.010022</td>\n      <td>...</td>\n      <td>0.000096</td>\n      <td>0.001811</td>\n      <td>0.000108</td>\n      <td>0.002712</td>\n      <td>0.957529</td>\n      <td>0.0000</td>\n      <td>50.0</td>\n      <td>100</td>\n      <td>PERC</td>\n      <td>0.077195</td>\n    </tr>\n    <tr>\n      <th>21276</th>\n      <td>qualitywhite</td>\n      <td>free sulfur dioxide</td>\n      <td>699.714244</td>\n      <td>0.075081</td>\n      <td>-727.82837</td>\n      <td>769.996255</td>\n      <td>9.398652</td>\n      <td>4.714289</td>\n      <td>314.545650</td>\n      <td>0.010022</td>\n      <td>...</td>\n      <td>0.000096</td>\n      <td>0.001811</td>\n      <td>0.000108</td>\n      <td>0.002712</td>\n      <td>0.957529</td>\n      <td>0.0000</td>\n      <td>50.0</td>\n      <td>100</td>\n      <td>STD</td>\n      <td>0.000000</td>\n    </tr>\n    <tr>\n      <th>21277</th>\n      <td>qualitywhite</td>\n      <td>free sulfur dioxide</td>\n      <td>699.714244</td>\n      <td>0.075081</td>\n      <td>-727.82837</td>\n      <td>769.996255</td>\n      <td>9.398652</td>\n      <td>4.714289</td>\n      <td>314.545650</td>\n      <td>0.010022</td>\n      <td>...</td>\n      <td>0.000096</td>\n      <td>0.001811</td>\n      <td>0.000108</td>\n      <td>0.002712</td>\n      <td>0.957529</td>\n      <td>0.0000</td>\n      <td>50.0</td>\n      <td>100</td>\n      <td>ZSB</td>\n      <td>0.986235</td>\n    </tr>\n    <tr>\n      <th>21278</th>\n      <td>qualitywhite</td>\n      <td>free sulfur dioxide</td>\n      <td>699.714244</td>\n      <td>0.075081</td>\n      <td>-727.82837</td>\n      <td>769.996255</td>\n      <td>9.398652</td>\n      <td>4.714289</td>\n      <td>314.545650</td>\n      <td>0.010022</td>\n      <td>...</td>\n      <td>0.000096</td>\n      <td>0.001811</td>\n      <td>0.000108</td>\n      <td>0.002712</td>\n      <td>0.957529</td>\n      <td>0.0000</td>\n      <td>50.0</td>\n      <td>100</td>\n      <td>KNN</td>\n      <td>0.985120</td>\n    </tr>\n    <tr>\n      <th>21279</th>\n      <td>qualitywhite</td>\n      <td>free sulfur dioxide</td>\n      <td>699.714244</td>\n      <td>0.075081</td>\n      <td>-727.82837</td>\n      <td>769.996255</td>\n      <td>9.398652</td>\n      <td>4.714289</td>\n      <td>314.545650</td>\n      <td>0.010022</td>\n      <td>...</td>\n      <td>0.000096</td>\n      <td>0.001811</td>\n      <td>0.000108</td>\n      <td>0.002712</td>\n      <td>0.957529</td>\n      <td>0.0000</td>\n      <td>50.0</td>\n      <td>100</td>\n      <td>LOF</td>\n      <td>0.140882</td>\n    </tr>\n  </tbody>\n</table>\n<p>21280 rows × 25 columns</p>\n</div>"
     },
     "execution_count": 38,
     "metadata": {},
     "output_type": "execute_result"
    }
   ],
   "source": [
    "KBA"
   ],
   "metadata": {
    "collapsed": false
   }
  },
  {
   "cell_type": "code",
   "execution_count": 39,
   "outputs": [
    {
     "data": {
      "text/plain": "       percentage_outliers technique_accuracy  f1_technique\n0                     10.0                IQR      0.946685\n1                     10.0                ISO      0.855497\n2                     10.0               PERC      0.328122\n3                     10.0                STD      0.401353\n4                     10.0                ZSB      0.942134\n...                    ...                ...           ...\n21275                 50.0               PERC      0.077195\n21276                 50.0                STD      0.000000\n21277                 50.0                ZSB      0.986235\n21278                 50.0                KNN      0.985120\n21279                 50.0                LOF      0.140882\n\n[21280 rows x 3 columns]",
      "text/html": "<div>\n<style scoped>\n    .dataframe tbody tr th:only-of-type {\n        vertical-align: middle;\n    }\n\n    .dataframe tbody tr th {\n        vertical-align: top;\n    }\n\n    .dataframe thead th {\n        text-align: right;\n    }\n</style>\n<table border=\"1\" class=\"dataframe\">\n  <thead>\n    <tr style=\"text-align: right;\">\n      <th></th>\n      <th>percentage_outliers</th>\n      <th>technique_accuracy</th>\n      <th>f1_technique</th>\n    </tr>\n  </thead>\n  <tbody>\n    <tr>\n      <th>0</th>\n      <td>10.0</td>\n      <td>IQR</td>\n      <td>0.946685</td>\n    </tr>\n    <tr>\n      <th>1</th>\n      <td>10.0</td>\n      <td>ISO</td>\n      <td>0.855497</td>\n    </tr>\n    <tr>\n      <th>2</th>\n      <td>10.0</td>\n      <td>PERC</td>\n      <td>0.328122</td>\n    </tr>\n    <tr>\n      <th>3</th>\n      <td>10.0</td>\n      <td>STD</td>\n      <td>0.401353</td>\n    </tr>\n    <tr>\n      <th>4</th>\n      <td>10.0</td>\n      <td>ZSB</td>\n      <td>0.942134</td>\n    </tr>\n    <tr>\n      <th>...</th>\n      <td>...</td>\n      <td>...</td>\n      <td>...</td>\n    </tr>\n    <tr>\n      <th>21275</th>\n      <td>50.0</td>\n      <td>PERC</td>\n      <td>0.077195</td>\n    </tr>\n    <tr>\n      <th>21276</th>\n      <td>50.0</td>\n      <td>STD</td>\n      <td>0.000000</td>\n    </tr>\n    <tr>\n      <th>21277</th>\n      <td>50.0</td>\n      <td>ZSB</td>\n      <td>0.986235</td>\n    </tr>\n    <tr>\n      <th>21278</th>\n      <td>50.0</td>\n      <td>KNN</td>\n      <td>0.985120</td>\n    </tr>\n    <tr>\n      <th>21279</th>\n      <td>50.0</td>\n      <td>LOF</td>\n      <td>0.140882</td>\n    </tr>\n  </tbody>\n</table>\n<p>21280 rows × 3 columns</p>\n</div>"
     },
     "execution_count": 39,
     "metadata": {},
     "output_type": "execute_result"
    }
   ],
   "source": [
    "perf = KBA[['percentage_outliers','technique_accuracy','f1_technique']]\n",
    "perf"
   ],
   "metadata": {
    "collapsed": false
   }
  },
  {
   "cell_type": "code",
   "execution_count": 40,
   "outputs": [
    {
     "data": {
      "text/plain": "    percentage_outliers technique_accuracy  f1_technique\n0                  10.0                IQR      0.109538\n1                  10.0                ISO      0.035882\n2                  10.0                KNN      0.349097\n3                  10.0                LOF      0.184411\n4                  10.0               PERC      0.021244\n5                  10.0                STD      0.054199\n6                  10.0                ZSB      0.174330\n7                  20.0                IQR      0.085486\n8                  20.0                ISO      0.029431\n9                  20.0                KNN      0.285102\n10                 20.0                LOF      0.130881\n11                 20.0               PERC      0.010806\n12                 20.0                STD      0.091420\n13                 20.0                ZSB      0.100478\n14                 30.0                IQR      0.103673\n15                 30.0                ISO      0.025744\n16                 30.0                KNN      0.232556\n17                 30.0                LOF      0.100936\n18                 30.0               PERC      0.007923\n19                 30.0                STD      0.035754\n20                 30.0                ZSB      0.053814\n21                 40.0                IQR      0.155334\n22                 40.0                ISO      0.022583\n23                 40.0                KNN      0.187449\n24                 40.0                LOF      0.085032\n25                 40.0               PERC      0.005985\n26                 40.0                STD      0.001230\n27                 40.0                ZSB      0.066886\n28                 50.0                IQR      0.308940\n29                 50.0                ISO      0.020638\n30                 50.0                KNN      0.147339\n31                 50.0                LOF      0.077192\n32                 50.0               PERC      0.004643\n33                 50.0                STD      0.000000\n34                 50.0                ZSB      0.222707",
      "text/html": "<div>\n<style scoped>\n    .dataframe tbody tr th:only-of-type {\n        vertical-align: middle;\n    }\n\n    .dataframe tbody tr th {\n        vertical-align: top;\n    }\n\n    .dataframe thead th {\n        text-align: right;\n    }\n</style>\n<table border=\"1\" class=\"dataframe\">\n  <thead>\n    <tr style=\"text-align: right;\">\n      <th></th>\n      <th>percentage_outliers</th>\n      <th>technique_accuracy</th>\n      <th>f1_technique</th>\n    </tr>\n  </thead>\n  <tbody>\n    <tr>\n      <th>0</th>\n      <td>10.0</td>\n      <td>IQR</td>\n      <td>0.109538</td>\n    </tr>\n    <tr>\n      <th>1</th>\n      <td>10.0</td>\n      <td>ISO</td>\n      <td>0.035882</td>\n    </tr>\n    <tr>\n      <th>2</th>\n      <td>10.0</td>\n      <td>KNN</td>\n      <td>0.349097</td>\n    </tr>\n    <tr>\n      <th>3</th>\n      <td>10.0</td>\n      <td>LOF</td>\n      <td>0.184411</td>\n    </tr>\n    <tr>\n      <th>4</th>\n      <td>10.0</td>\n      <td>PERC</td>\n      <td>0.021244</td>\n    </tr>\n    <tr>\n      <th>5</th>\n      <td>10.0</td>\n      <td>STD</td>\n      <td>0.054199</td>\n    </tr>\n    <tr>\n      <th>6</th>\n      <td>10.0</td>\n      <td>ZSB</td>\n      <td>0.174330</td>\n    </tr>\n    <tr>\n      <th>7</th>\n      <td>20.0</td>\n      <td>IQR</td>\n      <td>0.085486</td>\n    </tr>\n    <tr>\n      <th>8</th>\n      <td>20.0</td>\n      <td>ISO</td>\n      <td>0.029431</td>\n    </tr>\n    <tr>\n      <th>9</th>\n      <td>20.0</td>\n      <td>KNN</td>\n      <td>0.285102</td>\n    </tr>\n    <tr>\n      <th>10</th>\n      <td>20.0</td>\n      <td>LOF</td>\n      <td>0.130881</td>\n    </tr>\n    <tr>\n      <th>11</th>\n      <td>20.0</td>\n      <td>PERC</td>\n      <td>0.010806</td>\n    </tr>\n    <tr>\n      <th>12</th>\n      <td>20.0</td>\n      <td>STD</td>\n      <td>0.091420</td>\n    </tr>\n    <tr>\n      <th>13</th>\n      <td>20.0</td>\n      <td>ZSB</td>\n      <td>0.100478</td>\n    </tr>\n    <tr>\n      <th>14</th>\n      <td>30.0</td>\n      <td>IQR</td>\n      <td>0.103673</td>\n    </tr>\n    <tr>\n      <th>15</th>\n      <td>30.0</td>\n      <td>ISO</td>\n      <td>0.025744</td>\n    </tr>\n    <tr>\n      <th>16</th>\n      <td>30.0</td>\n      <td>KNN</td>\n      <td>0.232556</td>\n    </tr>\n    <tr>\n      <th>17</th>\n      <td>30.0</td>\n      <td>LOF</td>\n      <td>0.100936</td>\n    </tr>\n    <tr>\n      <th>18</th>\n      <td>30.0</td>\n      <td>PERC</td>\n      <td>0.007923</td>\n    </tr>\n    <tr>\n      <th>19</th>\n      <td>30.0</td>\n      <td>STD</td>\n      <td>0.035754</td>\n    </tr>\n    <tr>\n      <th>20</th>\n      <td>30.0</td>\n      <td>ZSB</td>\n      <td>0.053814</td>\n    </tr>\n    <tr>\n      <th>21</th>\n      <td>40.0</td>\n      <td>IQR</td>\n      <td>0.155334</td>\n    </tr>\n    <tr>\n      <th>22</th>\n      <td>40.0</td>\n      <td>ISO</td>\n      <td>0.022583</td>\n    </tr>\n    <tr>\n      <th>23</th>\n      <td>40.0</td>\n      <td>KNN</td>\n      <td>0.187449</td>\n    </tr>\n    <tr>\n      <th>24</th>\n      <td>40.0</td>\n      <td>LOF</td>\n      <td>0.085032</td>\n    </tr>\n    <tr>\n      <th>25</th>\n      <td>40.0</td>\n      <td>PERC</td>\n      <td>0.005985</td>\n    </tr>\n    <tr>\n      <th>26</th>\n      <td>40.0</td>\n      <td>STD</td>\n      <td>0.001230</td>\n    </tr>\n    <tr>\n      <th>27</th>\n      <td>40.0</td>\n      <td>ZSB</td>\n      <td>0.066886</td>\n    </tr>\n    <tr>\n      <th>28</th>\n      <td>50.0</td>\n      <td>IQR</td>\n      <td>0.308940</td>\n    </tr>\n    <tr>\n      <th>29</th>\n      <td>50.0</td>\n      <td>ISO</td>\n      <td>0.020638</td>\n    </tr>\n    <tr>\n      <th>30</th>\n      <td>50.0</td>\n      <td>KNN</td>\n      <td>0.147339</td>\n    </tr>\n    <tr>\n      <th>31</th>\n      <td>50.0</td>\n      <td>LOF</td>\n      <td>0.077192</td>\n    </tr>\n    <tr>\n      <th>32</th>\n      <td>50.0</td>\n      <td>PERC</td>\n      <td>0.004643</td>\n    </tr>\n    <tr>\n      <th>33</th>\n      <td>50.0</td>\n      <td>STD</td>\n      <td>0.000000</td>\n    </tr>\n    <tr>\n      <th>34</th>\n      <td>50.0</td>\n      <td>ZSB</td>\n      <td>0.222707</td>\n    </tr>\n  </tbody>\n</table>\n</div>"
     },
     "execution_count": 40,
     "metadata": {},
     "output_type": "execute_result"
    }
   ],
   "source": [
    "std = perf.groupby(['percentage_outliers','technique_accuracy']).std().reset_index().copy()\n",
    "std"
   ],
   "metadata": {
    "collapsed": false
   }
  },
  {
   "cell_type": "code",
   "execution_count": 22,
   "outputs": [
    {
     "data": {
      "text/plain": "  technique      rmse       std\n0       IQR  0.144827  0.205184\n1       ISO  0.053283  0.225610\n2       KNN  0.289629  0.264132\n3       LOF  0.161914  0.135926\n4      PERC  0.021431  0.096340\n5       STD  0.055758  0.241059\n6       ZSB  0.131116  0.159219",
      "text/html": "<div>\n<style scoped>\n    .dataframe tbody tr th:only-of-type {\n        vertical-align: middle;\n    }\n\n    .dataframe tbody tr th {\n        vertical-align: top;\n    }\n\n    .dataframe thead th {\n        text-align: right;\n    }\n</style>\n<table border=\"1\" class=\"dataframe\">\n  <thead>\n    <tr style=\"text-align: right;\">\n      <th></th>\n      <th>technique</th>\n      <th>rmse</th>\n      <th>std</th>\n    </tr>\n  </thead>\n  <tbody>\n    <tr>\n      <th>0</th>\n      <td>IQR</td>\n      <td>0.144827</td>\n      <td>0.205184</td>\n    </tr>\n    <tr>\n      <th>1</th>\n      <td>ISO</td>\n      <td>0.053283</td>\n      <td>0.225610</td>\n    </tr>\n    <tr>\n      <th>2</th>\n      <td>KNN</td>\n      <td>0.289629</td>\n      <td>0.264132</td>\n    </tr>\n    <tr>\n      <th>3</th>\n      <td>LOF</td>\n      <td>0.161914</td>\n      <td>0.135926</td>\n    </tr>\n    <tr>\n      <th>4</th>\n      <td>PERC</td>\n      <td>0.021431</td>\n      <td>0.096340</td>\n    </tr>\n    <tr>\n      <th>5</th>\n      <td>STD</td>\n      <td>0.055758</td>\n      <td>0.241059</td>\n    </tr>\n    <tr>\n      <th>6</th>\n      <td>ZSB</td>\n      <td>0.131116</td>\n      <td>0.159219</td>\n    </tr>\n  </tbody>\n</table>\n</div>"
     },
     "execution_count": 22,
     "metadata": {},
     "output_type": "execute_result"
    }
   ],
   "source": [
    "rmse['std'] = std['f1_technique']\n",
    "rmse"
   ],
   "metadata": {
    "collapsed": false
   }
  },
  {
   "cell_type": "code",
   "execution_count": 25,
   "outputs": [],
   "source": [
    "rmse['P'] = 0"
   ],
   "metadata": {
    "collapsed": false
   }
  },
  {
   "cell_type": "code",
   "execution_count": 31,
   "outputs": [
    {
     "name": "stderr",
     "output_type": "stream",
     "text": [
      "/var/folders/28/s2pb4zq55c74809tjsxsq73c0000gn/T/ipykernel_65981/835716391.py:2: FutureWarning: ChainedAssignmentError: behaviour will change in pandas 3.0!\n",
      "You are setting values through chained assignment. Currently this works in certain cases, but when using Copy-on-Write (which will become the default behaviour in pandas 3.0) this will never work to update the original DataFrame or Series, because the intermediate object on which we are setting values will behave as a copy.\n",
      "A typical example is when you are setting values in a column of a DataFrame, like:\n",
      "\n",
      "df[\"col\"][row_indexer] = value\n",
      "\n",
      "Use `df.loc[row_indexer, \"col\"] = values` instead, to perform the assignment in a single step and ensure this keeps updating the original `df`.\n",
      "\n",
      "See the caveats in the documentation: https://pandas.pydata.org/pandas-docs/stable/user_guide/indexing.html#returning-a-view-versus-a-copy\n",
      "\n",
      "  rmse['P'].loc[i] = (rmse['rmse'][i]/rmse['std'][i])*100\n",
      "/var/folders/28/s2pb4zq55c74809tjsxsq73c0000gn/T/ipykernel_65981/835716391.py:2: SettingWithCopyWarning: \n",
      "A value is trying to be set on a copy of a slice from a DataFrame\n",
      "\n",
      "See the caveats in the documentation: https://pandas.pydata.org/pandas-docs/stable/user_guide/indexing.html#returning-a-view-versus-a-copy\n",
      "  rmse['P'].loc[i] = (rmse['rmse'][i]/rmse['std'][i])*100\n",
      "/var/folders/28/s2pb4zq55c74809tjsxsq73c0000gn/T/ipykernel_65981/835716391.py:2: FutureWarning: Setting an item of incompatible dtype is deprecated and will raise an error in a future version of pandas. Value '70.58408730853539' has dtype incompatible with int64, please explicitly cast to a compatible dtype first.\n",
      "  rmse['P'].loc[i] = (rmse['rmse'][i]/rmse['std'][i])*100\n",
      "/var/folders/28/s2pb4zq55c74809tjsxsq73c0000gn/T/ipykernel_65981/835716391.py:2: FutureWarning: ChainedAssignmentError: behaviour will change in pandas 3.0!\n",
      "You are setting values through chained assignment. Currently this works in certain cases, but when using Copy-on-Write (which will become the default behaviour in pandas 3.0) this will never work to update the original DataFrame or Series, because the intermediate object on which we are setting values will behave as a copy.\n",
      "A typical example is when you are setting values in a column of a DataFrame, like:\n",
      "\n",
      "df[\"col\"][row_indexer] = value\n",
      "\n",
      "Use `df.loc[row_indexer, \"col\"] = values` instead, to perform the assignment in a single step and ensure this keeps updating the original `df`.\n",
      "\n",
      "See the caveats in the documentation: https://pandas.pydata.org/pandas-docs/stable/user_guide/indexing.html#returning-a-view-versus-a-copy\n",
      "\n",
      "  rmse['P'].loc[i] = (rmse['rmse'][i]/rmse['std'][i])*100\n"
     ]
    }
   ],
   "source": [
    "for i in range(0, len(rmse)):\n",
    "       rmse['P'].loc[i] = (rmse['rmse'][i]/rmse['std'][i])*100"
   ],
   "metadata": {
    "collapsed": false
   }
  },
  {
   "cell_type": "code",
   "execution_count": 32,
   "outputs": [],
   "source": [
    "rmse.to_csv('B-PerfError.csv', index=False)\n"
   ],
   "metadata": {
    "collapsed": false
   }
  },
  {
   "cell_type": "code",
   "execution_count": 33,
   "outputs": [
    {
     "data": {
      "text/plain": "  technique      rmse       std           P\n0       IQR  0.144827  0.205184   70.584087\n1       ISO  0.053283  0.225610   23.617320\n2       KNN  0.289629  0.264132  109.653219\n3       LOF  0.161914  0.135926  119.119592\n4      PERC  0.021431  0.096340   22.245262\n5       STD  0.055758  0.241059   23.130362\n6       ZSB  0.131116  0.159219   82.349069",
      "text/html": "<div>\n<style scoped>\n    .dataframe tbody tr th:only-of-type {\n        vertical-align: middle;\n    }\n\n    .dataframe tbody tr th {\n        vertical-align: top;\n    }\n\n    .dataframe thead th {\n        text-align: right;\n    }\n</style>\n<table border=\"1\" class=\"dataframe\">\n  <thead>\n    <tr style=\"text-align: right;\">\n      <th></th>\n      <th>technique</th>\n      <th>rmse</th>\n      <th>std</th>\n      <th>P</th>\n    </tr>\n  </thead>\n  <tbody>\n    <tr>\n      <th>0</th>\n      <td>IQR</td>\n      <td>0.144827</td>\n      <td>0.205184</td>\n      <td>70.584087</td>\n    </tr>\n    <tr>\n      <th>1</th>\n      <td>ISO</td>\n      <td>0.053283</td>\n      <td>0.225610</td>\n      <td>23.617320</td>\n    </tr>\n    <tr>\n      <th>2</th>\n      <td>KNN</td>\n      <td>0.289629</td>\n      <td>0.264132</td>\n      <td>109.653219</td>\n    </tr>\n    <tr>\n      <th>3</th>\n      <td>LOF</td>\n      <td>0.161914</td>\n      <td>0.135926</td>\n      <td>119.119592</td>\n    </tr>\n    <tr>\n      <th>4</th>\n      <td>PERC</td>\n      <td>0.021431</td>\n      <td>0.096340</td>\n      <td>22.245262</td>\n    </tr>\n    <tr>\n      <th>5</th>\n      <td>STD</td>\n      <td>0.055758</td>\n      <td>0.241059</td>\n      <td>23.130362</td>\n    </tr>\n    <tr>\n      <th>6</th>\n      <td>ZSB</td>\n      <td>0.131116</td>\n      <td>0.159219</td>\n      <td>82.349069</td>\n    </tr>\n  </tbody>\n</table>\n</div>"
     },
     "execution_count": 33,
     "metadata": {},
     "output_type": "execute_result"
    }
   ],
   "source": [
    "rmse\n"
   ],
   "metadata": {
    "collapsed": false
   }
  },
  {
   "cell_type": "code",
   "execution_count": null,
   "outputs": [],
   "source": [],
   "metadata": {
    "collapsed": false
   }
  }
 ],
 "metadata": {
  "kernelspec": {
   "display_name": "Python 3",
   "language": "python",
   "name": "python3"
  },
  "language_info": {
   "codemirror_mode": {
    "name": "ipython",
    "version": 2
   },
   "file_extension": ".py",
   "mimetype": "text/x-python",
   "name": "python",
   "nbconvert_exporter": "python",
   "pygments_lexer": "ipython2",
   "version": "2.7.6"
  }
 },
 "nbformat": 4,
 "nbformat_minor": 0
}
