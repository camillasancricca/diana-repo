{
 "cells": [
  {
   "cell_type": "code",
   "execution_count": 1,
   "outputs": [
    {
     "data": {
      "text/plain": "              median\ndataset             \ncharacter   9.007418\nconsumer    8.905530\ngalaxy      8.469802\nheart      10.045384\npet        16.185833\nweather    11.050087",
      "text/html": "<div>\n<style scoped>\n    .dataframe tbody tr th:only-of-type {\n        vertical-align: middle;\n    }\n\n    .dataframe tbody tr th {\n        vertical-align: top;\n    }\n\n    .dataframe thead th {\n        text-align: right;\n    }\n</style>\n<table border=\"1\" class=\"dataframe\">\n  <thead>\n    <tr style=\"text-align: right;\">\n      <th></th>\n      <th>median</th>\n    </tr>\n    <tr>\n      <th>dataset</th>\n      <th></th>\n    </tr>\n  </thead>\n  <tbody>\n    <tr>\n      <th>character</th>\n      <td>9.007418</td>\n    </tr>\n    <tr>\n      <th>consumer</th>\n      <td>8.905530</td>\n    </tr>\n    <tr>\n      <th>galaxy</th>\n      <td>8.469802</td>\n    </tr>\n    <tr>\n      <th>heart</th>\n      <td>10.045384</td>\n    </tr>\n    <tr>\n      <th>pet</th>\n      <td>16.185833</td>\n    </tr>\n    <tr>\n      <th>weather</th>\n      <td>11.050087</td>\n    </tr>\n  </tbody>\n</table>\n</div>"
     },
     "execution_count": 1,
     "metadata": {},
     "output_type": "execute_result"
    }
   ],
   "source": [
    "import pandas as pd\n",
    "df = pd.read_csv('A-Dissimilarity.csv')\n",
    "df[['dataset','median']].groupby(['dataset']).median()"
   ],
   "metadata": {
    "collapsed": false
   }
  },
  {
   "cell_type": "code",
   "execution_count": null,
   "outputs": [],
   "source": [],
   "metadata": {
    "collapsed": false
   }
  },
  {
   "cell_type": "code",
   "execution_count": null,
   "outputs": [],
   "source": [],
   "metadata": {
    "collapsed": false
   }
  },
  {
   "cell_type": "code",
   "execution_count": 71,
   "outputs": [],
   "source": [
    "import pandas as pd"
   ],
   "metadata": {
    "collapsed": false
   }
  },
  {
   "cell_type": "code",
   "execution_count": 72,
   "outputs": [],
   "source": [
    "df = pd.read_csv('Dissimilarity.csv')"
   ],
   "metadata": {
    "collapsed": false
   }
  },
  {
   "cell_type": "code",
   "execution_count": 73,
   "outputs": [],
   "source": [
    "df[['dataset','name','perc','mean','median']].to_csv('A-Dissimilarity.csv',index=False)"
   ],
   "metadata": {
    "collapsed": false
   }
  },
  {
   "cell_type": "code",
   "execution_count": null,
   "outputs": [],
   "source": [],
   "metadata": {
    "collapsed": false
   }
  },
  {
   "cell_type": "code",
   "execution_count": null,
   "outputs": [],
   "source": [],
   "metadata": {
    "collapsed": false
   }
  },
  {
   "cell_type": "code",
   "execution_count": 65,
   "outputs": [],
   "source": [
    "import pandas as pd"
   ],
   "metadata": {
    "collapsed": false
   }
  },
  {
   "cell_type": "code",
   "execution_count": 66,
   "outputs": [],
   "source": [
    "neigh = ['0', '1', '2', '3', '4', '5', '6', '7', '8',\n",
    "       '9', '10', '11', '12', '13', '14', '15', '16', '17', '18', '19', '20',\n",
    "       '21', '22', '23', '24', '25', '26', '27', '28', '29', '30', '31', '32',\n",
    "       '33', '34']"
   ],
   "metadata": {
    "collapsed": false
   }
  },
  {
   "cell_type": "code",
   "execution_count": 67,
   "outputs": [],
   "source": [
    "df = pd.read_csv('distances_all.csv')\n",
    "df[neigh] = df[neigh]/2*100"
   ],
   "metadata": {
    "collapsed": false
   }
  },
  {
   "cell_type": "code",
   "execution_count": 68,
   "outputs": [],
   "source": [
    "df['mean'] = df[neigh].mean(numeric_only=True, axis=1)"
   ],
   "metadata": {
    "collapsed": false
   }
  },
  {
   "cell_type": "code",
   "execution_count": 69,
   "outputs": [],
   "source": [
    "df['median'] = df[neigh].median(numeric_only=True, axis=1)"
   ],
   "metadata": {
    "collapsed": false
   }
  },
  {
   "cell_type": "code",
   "execution_count": 70,
   "outputs": [],
   "source": [
    "df.to_csv('Dissimilarity.csv',index=False)"
   ],
   "metadata": {
    "collapsed": false
   }
  },
  {
   "cell_type": "code",
   "execution_count": null,
   "outputs": [],
   "source": [],
   "metadata": {
    "collapsed": false
   }
  },
  {
   "cell_type": "code",
   "execution_count": 36,
   "metadata": {
    "collapsed": true
   },
   "outputs": [],
   "source": [
    "from sklearn.neighbors import NearestNeighbors\n",
    "import pandas as pd\n",
    "import numpy as np\n",
    "from dirty_data import injection\n",
    "import data_profile_extraction as dp\n",
    "import numerical\n",
    "from sklearn.preprocessing import StandardScaler\n",
    "\n",
    "N = 35\n",
    "\n",
    "def knn(N, KB, sample):\n",
    "    neigh = NearestNeighbors(n_neighbors=N, metric='cosine')\n",
    "    neigh.fit(KB)\n",
    "    #neigh.kneighbors(sample, N, return_distance=False)\n",
    "    return neigh.kneighbors(sample, N, return_distance=True)"
   ]
  },
  {
   "cell_type": "code",
   "execution_count": 37,
   "outputs": [],
   "source": [
    "num = ['Temperature','Precipitation','AtmosphericPressure','AgeMonths','Strength','Intelligence','eastwest','northsouth','radialposition','oldpeak','CustomerAge','CustomerSatisfaction']"
   ],
   "metadata": {
    "collapsed": false
   }
  },
  {
   "cell_type": "code",
   "execution_count": 38,
   "outputs": [],
   "source": [
    "KBA = pd.read_csv('KBA.csv')\n",
    "\n",
    "columns_A = ['n_tuples', 'uniqueness', 'min', 'max', 'mean',\n",
    "       'median', 'std', 'skewness', 'kurtosis', 'mad', 'iqr', 'p_min', 'p_max',\n",
    "       'k_min', 'k_max', 's_min', 's_max', 'entropy', 'density',\n",
    "       'percentage_outliers']"
   ],
   "metadata": {
    "collapsed": false
   }
  },
  {
   "cell_type": "code",
   "execution_count": 39,
   "outputs": [],
   "source": [
    "KBA = KBA[columns_A] ### n_neighbors=35"
   ],
   "metadata": {
    "collapsed": false
   }
  },
  {
   "cell_type": "code",
   "execution_count": 40,
   "outputs": [],
   "source": [
    "w_df = pd.read_csv('datasets/weather.csv')\n",
    "p_df = pd.read_csv('datasets/pet.csv')\n",
    "c_df = pd.read_csv('datasets/character.csv')\n",
    "\n",
    "con_df = pd.read_csv('datasets/consumer.csv')\n",
    "g_df = pd.read_csv('datasets/galaxy.csv')\n",
    "h_df = pd.read_csv('datasets/heart.csv')"
   ],
   "metadata": {
    "collapsed": false
   }
  },
  {
   "cell_type": "code",
   "execution_count": 61,
   "outputs": [],
   "source": [
    "#df = w_df\n",
    "#df = p_df\n",
    "#df = c_df\n",
    "#df = con_df\n",
    "#df = g_df\n",
    "df =h_df\n",
    "\n",
    "#selected_features = ['Temperature','Precipitation','AtmosphericPressure']\n",
    "#selected_features = ['AgeMonths','Vaccinated','Size']\n",
    "#selected_features = ['Strength','Intelligence','Weaknesses']\n",
    "#selected_features = ['CustomerAge','CustomerSatisfaction','CustomerGender']\n",
    "#selected_features = ['eastwest','northsouth','radialposition']\n",
    "selected_features = ['oldpeak','cp','thal']\n",
    "\n",
    "#name_class = 'WeatherType'\n",
    "#name_class = 'AdoptionLikelihood'\n",
    "#name_class = 'BattleOutcome'\n",
    "#name_class = 'PurchaseIntent'\n",
    "#name_class = 'class'\n",
    "name_class = 'disease'"
   ],
   "metadata": {
    "collapsed": false
   }
  },
  {
   "cell_type": "code",
   "execution_count": 62,
   "outputs": [
    {
     "name": "stdout",
     "output_type": "stream",
     "text": [
      "saved dirty dataset 50%\n",
      "saved dirty dataset 60%\n",
      "saved dirty dataset 70%\n",
      "saved dirty dataset 80%\n",
      "saved dirty dataset 90%\n"
     ]
    }
   ],
   "source": [
    "profiles_num = pd.DataFrame([])\n",
    "profiles_cat = pd.DataFrame([])\n",
    "\n",
    "perc_quality = [50, 60, 70, 80, 90]\n",
    "\n",
    "for perc in perc_quality:\n",
    "    df_dirt = injection(df, name_class, perc/100, 10, 1)\n",
    "    for s in selected_features:\n",
    "\n",
    "        if s in num:\n",
    "\n",
    "            test = np.array(numerical.get_features_num(df_dirt, s, perc))\n",
    "            test = pd.DataFrame(test.reshape(-1, len(test)), columns=columns_A)\n",
    "            profiles_num = pd.concat([profiles_num,test[columns_A]])"
   ],
   "metadata": {
    "collapsed": false
   }
  },
  {
   "cell_type": "code",
   "execution_count": 63,
   "outputs": [],
   "source": [
    "### standardization\n",
    "scalerNum = StandardScaler().fit(KBA)\n",
    "KBA = scalerNum.transform(KBA)\n",
    "profiles_num = scalerNum.transform(profiles_num)"
   ],
   "metadata": {
    "collapsed": false
   }
  },
  {
   "cell_type": "code",
   "execution_count": 55,
   "outputs": [],
   "source": [],
   "metadata": {
    "collapsed": false
   }
  },
  {
   "cell_type": "code",
   "execution_count": 43,
   "outputs": [],
   "source": [],
   "metadata": {
    "collapsed": false
   }
  },
  {
   "cell_type": "code",
   "execution_count": 44,
   "outputs": [],
   "source": [
    "## weather\n",
    "distances = knn(35,KBA, profiles_num)\n",
    "pd.DataFrame(distances[0]).to_csv('distances_w.csv',index=False)"
   ],
   "metadata": {
    "collapsed": false
   }
  },
  {
   "cell_type": "code",
   "execution_count": 32,
   "outputs": [],
   "source": [],
   "metadata": {
    "collapsed": false
   }
  },
  {
   "cell_type": "code",
   "execution_count": 32,
   "outputs": [],
   "source": [],
   "metadata": {
    "collapsed": false
   }
  },
  {
   "cell_type": "code",
   "execution_count": 48,
   "outputs": [],
   "source": [
    "## galaxy\n",
    "distances = knn(35,KBA, profiles_num)\n",
    "pd.DataFrame(distances[0]).to_csv('distances_g.csv',index=False)"
   ],
   "metadata": {
    "collapsed": false
   }
  },
  {
   "cell_type": "code",
   "execution_count": 33,
   "outputs": [],
   "source": [],
   "metadata": {
    "collapsed": false
   }
  },
  {
   "cell_type": "code",
   "execution_count": null,
   "outputs": [],
   "source": [],
   "metadata": {
    "collapsed": false
   }
  },
  {
   "cell_type": "code",
   "execution_count": 52,
   "outputs": [],
   "source": [
    "# pet\n",
    "distances = knn(35,KBA, profiles_num)\n",
    "pd.DataFrame(distances[0]).to_csv('distances_p.csv',index=False)"
   ],
   "metadata": {
    "collapsed": false
   }
  },
  {
   "cell_type": "code",
   "execution_count": null,
   "outputs": [],
   "source": [],
   "metadata": {
    "collapsed": false
   }
  },
  {
   "cell_type": "code",
   "execution_count": null,
   "outputs": [],
   "source": [],
   "metadata": {
    "collapsed": false
   }
  },
  {
   "cell_type": "code",
   "execution_count": 64,
   "outputs": [],
   "source": [
    "# heart\n",
    "distances = knn(35, KBA, profiles_num)\n",
    "pd.DataFrame(distances[0]).to_csv('distances_h.csv',index=False)"
   ],
   "metadata": {
    "collapsed": false
   }
  },
  {
   "cell_type": "code",
   "execution_count": null,
   "outputs": [],
   "source": [],
   "metadata": {
    "collapsed": false
   }
  },
  {
   "cell_type": "code",
   "execution_count": null,
   "outputs": [],
   "source": [],
   "metadata": {
    "collapsed": false
   }
  },
  {
   "cell_type": "code",
   "execution_count": 56,
   "outputs": [],
   "source": [
    "# character\n",
    "distances = knn(35, KBA, profiles_num)\n",
    "pd.DataFrame(distances[0]).to_csv('distances_c.csv',index=False)"
   ],
   "metadata": {
    "collapsed": false
   }
  },
  {
   "cell_type": "code",
   "execution_count": null,
   "outputs": [],
   "source": [],
   "metadata": {
    "collapsed": false
   }
  },
  {
   "cell_type": "code",
   "execution_count": null,
   "outputs": [],
   "source": [],
   "metadata": {
    "collapsed": false
   }
  },
  {
   "cell_type": "code",
   "execution_count": 60,
   "outputs": [],
   "source": [
    "# consumer\n",
    "distances = knn(35, KBA, profiles_num)\n",
    "pd.DataFrame(distances[0]).to_csv('distances_con.csv',index=False)"
   ],
   "metadata": {
    "collapsed": false
   }
  },
  {
   "cell_type": "code",
   "execution_count": 19,
   "outputs": [],
   "source": [],
   "metadata": {
    "collapsed": false
   }
  },
  {
   "cell_type": "code",
   "execution_count": 19,
   "outputs": [],
   "source": [],
   "metadata": {
    "collapsed": false
   }
  },
  {
   "cell_type": "code",
   "execution_count": 19,
   "outputs": [],
   "source": [],
   "metadata": {
    "collapsed": false
   }
  },
  {
   "cell_type": "code",
   "execution_count": 19,
   "outputs": [],
   "source": [],
   "metadata": {
    "collapsed": false
   }
  }
 ],
 "metadata": {
  "kernelspec": {
   "display_name": "Python 3",
   "language": "python",
   "name": "python3"
  },
  "language_info": {
   "codemirror_mode": {
    "name": "ipython",
    "version": 2
   },
   "file_extension": ".py",
   "mimetype": "text/x-python",
   "name": "python",
   "nbconvert_exporter": "python",
   "pygments_lexer": "ipython2",
   "version": "2.7.6"
  }
 },
 "nbformat": 4,
 "nbformat_minor": 0
}
