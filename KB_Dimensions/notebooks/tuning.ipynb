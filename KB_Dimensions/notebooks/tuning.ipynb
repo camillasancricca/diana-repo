{
 "cells": [
  {
   "cell_type": "code",
   "execution_count": 3,
   "outputs": [],
   "source": [
    "import pandas as pd\n",
    "from sklearn.neighbors import KNeighborsRegressor\n",
    "from sklearn.preprocessing import StandardScaler\n",
    "import numpy as np\n",
    "from sklearn.metrics import root_mean_squared_error\n",
    "from scripts import dataset\n",
    "import warnings\n",
    "warnings.filterwarnings(\"ignore\")\n",
    "\n",
    "original_data = pd.read_json(\"../kb/KBR.json\")\n",
    "\n",
    "dimensions = original_data.dimension.unique()\n",
    "models = original_data.model.unique()\n",
    "datasets = original_data.name.unique()\n",
    "\n",
    "datasets_fd = [\"BachChoralHarmony\", \"bank\", \"cancer\", \"mushrooms\", \"soybean\"]\n",
    "\n",
    "data_impact = dataset.get_dataset()\n",
    "\n",
    "def training_testing(distance, k):\n",
    "    with open(\"../results/results_prediction_impact.csv\", \"w\") as f:\n",
    "        f.write(\"dataset,model,dimension,rmse\\n\")\n",
    "        for dataset in datasets:\n",
    "            for model in models:\n",
    "                for dimension in dimensions:\n",
    "\n",
    "                    data = data_impact.copy()\n",
    "\n",
    "                    if dimension == \"consistency\" and (dataset in datasets_fd):\n",
    "\n",
    "                        df = data[(data[\"model\"] == model) & (data[\"dimension\"] == dimension) & (\n",
    "                                    (data[\"name\"] == \"BachChoralHarmony\") | (data[\"name\"] == \"mushrooms\") | (\n",
    "                                        data[\"name\"] == \"bank\") | (data[\"name\"] == \"cancer\") | (\n",
    "                                                data[\"name\"] == \"soybean\"))].copy()\n",
    "\n",
    "                        train = df[df[\"name\"] != dataset]\n",
    "                        test = df[df[\"name\"] == dataset]\n",
    "\n",
    "                        columns = df.columns\n",
    "                        features = columns.drop(\n",
    "                            [\"name\", \"dimension\", \"model\", \"score\", \"impact\", \"p_correlated_features_0.5\",\n",
    "                             \"p_correlated_features_0.6\", \"p_correlated_features_0.7\", \"p_correlated_features_0.8\",\n",
    "                             \"p_correlated_features_0.9\"])\n",
    "\n",
    "                        X_train = train[features]\n",
    "                        y_train = train[\"impact\"]\n",
    "                        X_test = test[features]\n",
    "                        y_test = test[\"impact\"]\n",
    "\n",
    "                        X_train = StandardScaler().fit_transform(X_train)\n",
    "                        X_train = np.nan_to_num(X_train)\n",
    "\n",
    "                        X_test = StandardScaler().fit_transform(X_test)\n",
    "                        X_test = np.nan_to_num(X_test)\n",
    "\n",
    "                        knn = KNeighborsRegressor(n_neighbors=k, metric=distance)\n",
    "                        knn.fit(X_train, y_train)\n",
    "                        y_pred = knn.predict(X_test)\n",
    "                        error = root_mean_squared_error(y_test, y_pred)\n",
    "                        #print(dataset+\": \"+str(error))\n",
    "                        f.write(dataset + \",\" + model + \",\" + dimension + \",\" + str(error) + \"\\n\")\n",
    "\n",
    "                    elif dimension != \"consistency\":\n",
    "\n",
    "                        df = data[(data[\"model\"] == model) & (data[\"dimension\"] == dimension)].copy()\n",
    "\n",
    "                        train = df[df[\"name\"] != dataset]\n",
    "                        test = df[df[\"name\"] == dataset]\n",
    "\n",
    "                        columns = df.columns\n",
    "                        features = columns.drop(\n",
    "                            [\"name\", \"dimension\", \"model\", \"score\", \"impact\", \"p_correlated_features_0.5\",\n",
    "                             \"p_correlated_features_0.6\", \"p_correlated_features_0.7\", \"p_correlated_features_0.8\",\n",
    "                             \"p_correlated_features_0.9\"])\n",
    "\n",
    "                        X_train = train[features]\n",
    "                        y_train = train[\"impact\"]\n",
    "                        X_test = test[features]\n",
    "                        y_test = test[\"impact\"]\n",
    "\n",
    "                        X_train = StandardScaler().fit_transform(X_train)\n",
    "                        X_train = np.nan_to_num(X_train)\n",
    "\n",
    "                        X_test = StandardScaler().fit_transform(X_test)\n",
    "                        X_test = np.nan_to_num(X_test)\n",
    "\n",
    "                        knn = KNeighborsRegressor(n_neighbors=k, metric=distance)\n",
    "                        knn.fit(X_train, y_train)\n",
    "                        y_pred = knn.predict(X_test)\n",
    "                        error = root_mean_squared_error(y_test, y_pred)\n",
    "                        #print(dataset+\": \"+str(error))\n",
    "                        f.write(dataset + \",\" + model + \",\" + dimension + \",\" + str(error) + \"\\n\")\n",
    "\n",
    "    data = pd.read_csv(\"../results/results_prediction_impact.csv\")\n",
    "    print(\"Done! Final RMSE for \"+distance+\" and \"+str(k)+\" neighbours: \"+str(data.rmse.mean()))"
   ],
   "metadata": {
    "collapsed": false
   }
  },
  {
   "cell_type": "code",
   "execution_count": 4,
   "outputs": [
    {
     "name": "stdout",
     "output_type": "stream",
     "text": [
      "Done! Final RMSE for cosine and 14 neighbours: 0.14585447998377396\n",
      "Done! Final RMSE for euclidean and 14 neighbours: 0.1367176584399224\n",
      "Done! Final RMSE for manhattan and 14 neighbours: 0.1344474223217409\n"
     ]
    }
   ],
   "source": [
    "for distance in ['cosine','euclidean','manhattan']:\n",
    "    training_testing(distance, 14)"
   ],
   "metadata": {
    "collapsed": false
   }
  },
  {
   "cell_type": "code",
   "execution_count": 7,
   "outputs": [
    {
     "name": "stdout",
     "output_type": "stream",
     "text": [
      "Done! Final RMSE for manhattan and 6 neighbours: 0.14455334071991155\n",
      "Done! Final RMSE for manhattan and 8 neighbours: 0.1396082024193386\n",
      "Done! Final RMSE for manhattan and 10 neighbours: 0.13692906640306862\n",
      "Done! Final RMSE for manhattan and 12 neighbours: 0.13518459137687308\n",
      "Done! Final RMSE for manhattan and 14 neighbours: 0.1344474223217409\n",
      "Done! Final RMSE for manhattan and 16 neighbours: 0.13441317404519837\n"
     ]
    }
   ],
   "source": [
    "for k in [6,8,10,12,14,16]:\n",
    "    training_testing('manhattan', k)"
   ],
   "metadata": {
    "collapsed": false
   }
  },
  {
   "cell_type": "code",
   "execution_count": 10,
   "outputs": [
    {
     "name": "stdout",
     "output_type": "stream",
     "text": [
      "Done! Final RMSE for manhattan and 13 neighbours: 0.13472700213379546\n",
      "Done! Final RMSE for manhattan and 14 neighbours: 0.1344474223217409\n",
      "Done! Final RMSE for manhattan and 15 neighbours: 0.13464626295638926\n",
      "Done! Final RMSE for manhattan and 16 neighbours: 0.13441317404519837\n",
      "Done! Final RMSE for manhattan and 17 neighbours: 0.134041287912328\n",
      "Done! Final RMSE for manhattan and 18 neighbours: 0.13381574555676198\n",
      "Done! Final RMSE for manhattan and 19 neighbours: 0.13377086437265032\n",
      "Done! Final RMSE for manhattan and 20 neighbours: 0.13361985273748317\n"
     ]
    }
   ],
   "source": [
    "for k in [13,14,15,16,17,18,19,20]:\n",
    "    training_testing('manhattan', k)\n"
   ],
   "metadata": {
    "collapsed": false
   }
  },
  {
   "cell_type": "code",
   "execution_count": null,
   "outputs": [],
   "source": [
    "### best k = 14"
   ],
   "metadata": {
    "collapsed": false
   }
  },
  {
   "cell_type": "code",
   "execution_count": 11,
   "outputs": [
    {
     "name": "stdout",
     "output_type": "stream",
     "text": [
      "Done! Final RMSE for cosine and 14 neighbours: 0.14585447998377396\n",
      "Done! Final RMSE for euclidean and 14 neighbours: 0.1367176584399224\n",
      "Done! Final RMSE for manhattan and 14 neighbours: 0.1344474223217409\n"
     ]
    }
   ],
   "source": [
    "for distance in ['cosine','euclidean','manhattan']:\n",
    "    training_testing(distance, 14)\n"
   ],
   "metadata": {
    "collapsed": false
   }
  },
  {
   "cell_type": "code",
   "execution_count": null,
   "outputs": [],
   "source": [
    "### best distance = manhattan\n"
   ],
   "metadata": {
    "collapsed": false
   }
  }
 ],
 "metadata": {
  "kernelspec": {
   "display_name": "Python 3",
   "language": "python",
   "name": "python3"
  },
  "language_info": {
   "codemirror_mode": {
    "name": "ipython",
    "version": 2
   },
   "file_extension": ".py",
   "mimetype": "text/x-python",
   "name": "python",
   "nbconvert_exporter": "python",
   "pygments_lexer": "ipython2",
   "version": "2.7.6"
  }
 },
 "nbformat": 4,
 "nbformat_minor": 0
}
