{
 "cells": [
  {
   "cell_type": "code",
   "execution_count": 1,
   "outputs": [],
   "source": [
    "import warnings\n",
    "warnings.filterwarnings(\"ignore\")\n",
    "import pandas as pd\n",
    "import numpy as np\n",
    "from scripts import dataset\n",
    "from scripts import tt"
   ],
   "metadata": {
    "collapsed": false
   }
  },
  {
   "cell_type": "code",
   "execution_count": 22,
   "outputs": [],
   "source": [
    "original_data = pd.read_json(\"../kb/KBR.json\")\n",
    "\n",
    "original_data = original_data[original_data.dimension != 'consistency']\n",
    "\n",
    "dimensions = original_data.dimension.unique()\n",
    "models = original_data.model.unique()\n",
    "datasets = original_data.name.unique()\n",
    "\n",
    "datasets_fd = [\"BachChoralHarmony\", \"bank\", \"cancer\", \"mushrooms\", \"soybean\"]\n",
    "\n",
    "data_copy = dataset.get_dataset()\n",
    "\n",
    "data_copy = data_copy[data_copy.dimension != 'consistency']"
   ],
   "metadata": {
    "collapsed": false
   }
  },
  {
   "cell_type": "code",
   "execution_count": 23,
   "outputs": [],
   "source": [
    "### evaluation del ranking"
   ],
   "metadata": {
    "collapsed": false
   }
  },
  {
   "cell_type": "code",
   "execution_count": 24,
   "outputs": [
    {
     "name": "stdout",
     "output_type": "stream",
     "text": [
      "Done!\n"
     ]
    }
   ],
   "source": [
    "tt.test_rankings()"
   ],
   "metadata": {
    "collapsed": false
   }
  },
  {
   "cell_type": "code",
   "execution_count": 25,
   "outputs": [],
   "source": [
    "pred_dim = []\n",
    "pred_score = []"
   ],
   "metadata": {
    "collapsed": false
   }
  },
  {
   "cell_type": "code",
   "execution_count": 26,
   "outputs": [
    {
     "name": "stdout",
     "output_type": "stream",
     "text": [
      "Done!\n"
     ]
    }
   ],
   "source": [
    "tt.evaluate_rankings()"
   ],
   "metadata": {
    "collapsed": false
   }
  },
  {
   "cell_type": "code",
   "execution_count": 19,
   "outputs": [
    {
     "data": {
      "text/plain": "                      dataset         model     dimension      real      pred\n0                   abalone_0  DecisionTree  completeness  0.765890  0.926588\n1                   abalone_1  DecisionTree  completeness  0.805338  0.898511\n2                   abalone_2  DecisionTree  completeness  0.840417  0.902173\n3                   abalone_3  DecisionTree  completeness  0.901727  0.906498\n4                   abalone_4  DecisionTree  completeness  0.990326  0.911736\n...                       ...           ...           ...       ...       ...\n1645  wall-robot-navigation_0           SVC      accuracy  0.352863  0.618745\n1646  wall-robot-navigation_1           SVC      accuracy  0.371848  0.638558\n1647  wall-robot-navigation_2           SVC      accuracy  0.350599  0.574945\n1648  wall-robot-navigation_3           SVC      accuracy  0.322374  0.602149\n1649  wall-robot-navigation_4           SVC      accuracy  0.441342  0.682134\n\n[1650 rows x 5 columns]",
      "text/html": "<div>\n<style scoped>\n    .dataframe tbody tr th:only-of-type {\n        vertical-align: middle;\n    }\n\n    .dataframe tbody tr th {\n        vertical-align: top;\n    }\n\n    .dataframe thead th {\n        text-align: right;\n    }\n</style>\n<table border=\"1\" class=\"dataframe\">\n  <thead>\n    <tr style=\"text-align: right;\">\n      <th></th>\n      <th>dataset</th>\n      <th>model</th>\n      <th>dimension</th>\n      <th>real</th>\n      <th>pred</th>\n    </tr>\n  </thead>\n  <tbody>\n    <tr>\n      <th>0</th>\n      <td>abalone_0</td>\n      <td>DecisionTree</td>\n      <td>completeness</td>\n      <td>0.765890</td>\n      <td>0.926588</td>\n    </tr>\n    <tr>\n      <th>1</th>\n      <td>abalone_1</td>\n      <td>DecisionTree</td>\n      <td>completeness</td>\n      <td>0.805338</td>\n      <td>0.898511</td>\n    </tr>\n    <tr>\n      <th>2</th>\n      <td>abalone_2</td>\n      <td>DecisionTree</td>\n      <td>completeness</td>\n      <td>0.840417</td>\n      <td>0.902173</td>\n    </tr>\n    <tr>\n      <th>3</th>\n      <td>abalone_3</td>\n      <td>DecisionTree</td>\n      <td>completeness</td>\n      <td>0.901727</td>\n      <td>0.906498</td>\n    </tr>\n    <tr>\n      <th>4</th>\n      <td>abalone_4</td>\n      <td>DecisionTree</td>\n      <td>completeness</td>\n      <td>0.990326</td>\n      <td>0.911736</td>\n    </tr>\n    <tr>\n      <th>...</th>\n      <td>...</td>\n      <td>...</td>\n      <td>...</td>\n      <td>...</td>\n      <td>...</td>\n    </tr>\n    <tr>\n      <th>1645</th>\n      <td>wall-robot-navigation_0</td>\n      <td>SVC</td>\n      <td>accuracy</td>\n      <td>0.352863</td>\n      <td>0.618745</td>\n    </tr>\n    <tr>\n      <th>1646</th>\n      <td>wall-robot-navigation_1</td>\n      <td>SVC</td>\n      <td>accuracy</td>\n      <td>0.371848</td>\n      <td>0.638558</td>\n    </tr>\n    <tr>\n      <th>1647</th>\n      <td>wall-robot-navigation_2</td>\n      <td>SVC</td>\n      <td>accuracy</td>\n      <td>0.350599</td>\n      <td>0.574945</td>\n    </tr>\n    <tr>\n      <th>1648</th>\n      <td>wall-robot-navigation_3</td>\n      <td>SVC</td>\n      <td>accuracy</td>\n      <td>0.322374</td>\n      <td>0.602149</td>\n    </tr>\n    <tr>\n      <th>1649</th>\n      <td>wall-robot-navigation_4</td>\n      <td>SVC</td>\n      <td>accuracy</td>\n      <td>0.441342</td>\n      <td>0.682134</td>\n    </tr>\n  </tbody>\n</table>\n<p>1650 rows × 5 columns</p>\n</div>"
     },
     "execution_count": 19,
     "metadata": {},
     "output_type": "execute_result"
    }
   ],
   "source": [
    "rankings = pd.read_csv(\"../results/results_ranking_evaluation.csv\")\n",
    "rankings"
   ],
   "metadata": {
    "collapsed": false
   }
  },
  {
   "cell_type": "code",
   "execution_count": 20,
   "outputs": [
    {
     "data": {
      "text/plain": "                     dataset               model  ranking_eval  \\\n0                  abalone_0        DecisionTree           0.0   \n1                  abalone_0  LogisticRegression           1.0   \n2                  abalone_0                 KNN           1.0   \n3                  abalone_0        RandomForest           1.0   \n4                  abalone_0            AdaBoost           0.0   \n..                       ...                 ...           ...   \n745  wall-robot-navigation_4  LogisticRegression           1.0   \n746  wall-robot-navigation_4                 KNN           1.0   \n747  wall-robot-navigation_4        RandomForest           0.0   \n748  wall-robot-navigation_4            AdaBoost           0.0   \n749  wall-robot-navigation_4                 SVC           1.0   \n\n                    ranking_real                 ranking_pred  \\\n0    ['completeness' 'accuracy']  ['accuracy' 'completeness']   \n1    ['accuracy' 'completeness']  ['accuracy' 'completeness']   \n2    ['accuracy' 'completeness']  ['accuracy' 'completeness']   \n3    ['accuracy' 'completeness']  ['accuracy' 'completeness']   \n4    ['completeness' 'accuracy']  ['accuracy' 'completeness']   \n..                           ...                          ...   \n745  ['accuracy' 'completeness']  ['accuracy' 'completeness']   \n746  ['accuracy' 'completeness']  ['accuracy' 'completeness']   \n747  ['accuracy' 'completeness']  ['completeness' 'accuracy']   \n748  ['completeness' 'accuracy']  ['accuracy' 'completeness']   \n749  ['accuracy' 'completeness']  ['accuracy' 'completeness']   \n\n                  value_real               value_pred  \n0    [0.76589018 0.81065113]  [0.71757723 0.92658765]  \n1    [0.59913287 0.82957761]  [0.62398985 0.93969753]  \n2    [0.65651218 0.85711745]  [0.59185609 0.93377876]  \n3    [0.78598963 0.87738755]  [0.76913906 0.94596356]  \n4    [0.71600238 0.84769537]  [0.84821748 0.86591785]  \n..                       ...                      ...  \n745  [0.51867583 0.86567347]  [0.73001117 0.95184968]  \n746  [0.85376707 0.93745886]  [0.83682697 0.9663684 ]  \n747  [0.946756   0.96250289]  [0.94154472 0.96259183]  \n748  [0.99231298 1.15981565]  [0.8917544  0.95523212]  \n749  [0.4413419  0.63336062]  [0.68213426 0.95163265]  \n\n[750 rows x 7 columns]",
      "text/html": "<div>\n<style scoped>\n    .dataframe tbody tr th:only-of-type {\n        vertical-align: middle;\n    }\n\n    .dataframe tbody tr th {\n        vertical-align: top;\n    }\n\n    .dataframe thead th {\n        text-align: right;\n    }\n</style>\n<table border=\"1\" class=\"dataframe\">\n  <thead>\n    <tr style=\"text-align: right;\">\n      <th></th>\n      <th>dataset</th>\n      <th>model</th>\n      <th>ranking_eval</th>\n      <th>ranking_real</th>\n      <th>ranking_pred</th>\n      <th>value_real</th>\n      <th>value_pred</th>\n    </tr>\n  </thead>\n  <tbody>\n    <tr>\n      <th>0</th>\n      <td>abalone_0</td>\n      <td>DecisionTree</td>\n      <td>0.0</td>\n      <td>['completeness' 'accuracy']</td>\n      <td>['accuracy' 'completeness']</td>\n      <td>[0.76589018 0.81065113]</td>\n      <td>[0.71757723 0.92658765]</td>\n    </tr>\n    <tr>\n      <th>1</th>\n      <td>abalone_0</td>\n      <td>LogisticRegression</td>\n      <td>1.0</td>\n      <td>['accuracy' 'completeness']</td>\n      <td>['accuracy' 'completeness']</td>\n      <td>[0.59913287 0.82957761]</td>\n      <td>[0.62398985 0.93969753]</td>\n    </tr>\n    <tr>\n      <th>2</th>\n      <td>abalone_0</td>\n      <td>KNN</td>\n      <td>1.0</td>\n      <td>['accuracy' 'completeness']</td>\n      <td>['accuracy' 'completeness']</td>\n      <td>[0.65651218 0.85711745]</td>\n      <td>[0.59185609 0.93377876]</td>\n    </tr>\n    <tr>\n      <th>3</th>\n      <td>abalone_0</td>\n      <td>RandomForest</td>\n      <td>1.0</td>\n      <td>['accuracy' 'completeness']</td>\n      <td>['accuracy' 'completeness']</td>\n      <td>[0.78598963 0.87738755]</td>\n      <td>[0.76913906 0.94596356]</td>\n    </tr>\n    <tr>\n      <th>4</th>\n      <td>abalone_0</td>\n      <td>AdaBoost</td>\n      <td>0.0</td>\n      <td>['completeness' 'accuracy']</td>\n      <td>['accuracy' 'completeness']</td>\n      <td>[0.71600238 0.84769537]</td>\n      <td>[0.84821748 0.86591785]</td>\n    </tr>\n    <tr>\n      <th>...</th>\n      <td>...</td>\n      <td>...</td>\n      <td>...</td>\n      <td>...</td>\n      <td>...</td>\n      <td>...</td>\n      <td>...</td>\n    </tr>\n    <tr>\n      <th>745</th>\n      <td>wall-robot-navigation_4</td>\n      <td>LogisticRegression</td>\n      <td>1.0</td>\n      <td>['accuracy' 'completeness']</td>\n      <td>['accuracy' 'completeness']</td>\n      <td>[0.51867583 0.86567347]</td>\n      <td>[0.73001117 0.95184968]</td>\n    </tr>\n    <tr>\n      <th>746</th>\n      <td>wall-robot-navigation_4</td>\n      <td>KNN</td>\n      <td>1.0</td>\n      <td>['accuracy' 'completeness']</td>\n      <td>['accuracy' 'completeness']</td>\n      <td>[0.85376707 0.93745886]</td>\n      <td>[0.83682697 0.9663684 ]</td>\n    </tr>\n    <tr>\n      <th>747</th>\n      <td>wall-robot-navigation_4</td>\n      <td>RandomForest</td>\n      <td>0.0</td>\n      <td>['accuracy' 'completeness']</td>\n      <td>['completeness' 'accuracy']</td>\n      <td>[0.946756   0.96250289]</td>\n      <td>[0.94154472 0.96259183]</td>\n    </tr>\n    <tr>\n      <th>748</th>\n      <td>wall-robot-navigation_4</td>\n      <td>AdaBoost</td>\n      <td>0.0</td>\n      <td>['completeness' 'accuracy']</td>\n      <td>['accuracy' 'completeness']</td>\n      <td>[0.99231298 1.15981565]</td>\n      <td>[0.8917544  0.95523212]</td>\n    </tr>\n    <tr>\n      <th>749</th>\n      <td>wall-robot-navigation_4</td>\n      <td>SVC</td>\n      <td>1.0</td>\n      <td>['accuracy' 'completeness']</td>\n      <td>['accuracy' 'completeness']</td>\n      <td>[0.4413419  0.63336062]</td>\n      <td>[0.68213426 0.95163265]</td>\n    </tr>\n  </tbody>\n</table>\n<p>750 rows × 7 columns</p>\n</div>"
     },
     "execution_count": 20,
     "metadata": {},
     "output_type": "execute_result"
    }
   ],
   "source": [
    "rankings = pd.read_csv(\"../results/results_ranking_evaluation_total.csv\")\n",
    "rankings\n"
   ],
   "metadata": {
    "collapsed": false
   }
  },
  {
   "cell_type": "code",
   "execution_count": 21,
   "outputs": [
    {
     "data": {
      "text/plain": "       ranking_eval\ncount    750.000000\nmean       0.743111\nstd        0.420255\nmin        0.000000\n25%        0.333333\n50%        1.000000\n75%        1.000000\nmax        1.000000",
      "text/html": "<div>\n<style scoped>\n    .dataframe tbody tr th:only-of-type {\n        vertical-align: middle;\n    }\n\n    .dataframe tbody tr th {\n        vertical-align: top;\n    }\n\n    .dataframe thead th {\n        text-align: right;\n    }\n</style>\n<table border=\"1\" class=\"dataframe\">\n  <thead>\n    <tr style=\"text-align: right;\">\n      <th></th>\n      <th>ranking_eval</th>\n    </tr>\n  </thead>\n  <tbody>\n    <tr>\n      <th>count</th>\n      <td>750.000000</td>\n    </tr>\n    <tr>\n      <th>mean</th>\n      <td>0.743111</td>\n    </tr>\n    <tr>\n      <th>std</th>\n      <td>0.420255</td>\n    </tr>\n    <tr>\n      <th>min</th>\n      <td>0.000000</td>\n    </tr>\n    <tr>\n      <th>25%</th>\n      <td>0.333333</td>\n    </tr>\n    <tr>\n      <th>50%</th>\n      <td>1.000000</td>\n    </tr>\n    <tr>\n      <th>75%</th>\n      <td>1.000000</td>\n    </tr>\n    <tr>\n      <th>max</th>\n      <td>1.000000</td>\n    </tr>\n  </tbody>\n</table>\n</div>"
     },
     "execution_count": 21,
     "metadata": {},
     "output_type": "execute_result"
    }
   ],
   "source": [
    "rankings.describe()\n"
   ],
   "metadata": {
    "collapsed": false
   }
  },
  {
   "cell_type": "code",
   "execution_count": 10,
   "outputs": [
    {
     "data": {
      "text/plain": "ranking_eval\n1.000000    541\n0.000000    160\n0.333333     49\nName: count, dtype: int64"
     },
     "execution_count": 10,
     "metadata": {},
     "output_type": "execute_result"
    }
   ],
   "source": [
    "rankings.ranking_eval.value_counts()\n"
   ],
   "metadata": {
    "collapsed": false
   }
  },
  {
   "cell_type": "code",
   "execution_count": 11,
   "outputs": [],
   "source": [
    "### nel 75% dei casi abbiamo il ranking corretto\n",
    "### in particolare nel 72% dei casi abbiamo il ranking totalmente corretto\n",
    "### nel 6.5% dei casi abbiamo solo una dimensione su 3 corretta (perchè la altre due sono scambiate)"
   ],
   "metadata": {
    "collapsed": false
   }
  },
  {
   "cell_type": "code",
   "execution_count": 12,
   "outputs": [],
   "source": [
    "wrong = rankings[rankings.ranking_eval < 1]\n"
   ],
   "metadata": {
    "collapsed": false
   }
  },
  {
   "cell_type": "code",
   "execution_count": 13,
   "outputs": [
    {
     "data": {
      "text/plain": "array(['abalone_0', 'abalone_1', 'abalone_2', 'abalone_3', 'abalone_4',\n       'BachChoralHarmony_0', 'BachChoralHarmony_2',\n       'BachChoralHarmony_4', 'bank_0', 'bank_1', 'bank_2', 'bank_3',\n       'bank_4', 'cancer_0', 'cancer_1', 'cancer_2', 'cancer_3',\n       'cancer_4', 'car_0', 'car_1', 'car_2', 'car_3', 'car_4',\n       'default of credit card clients_0',\n       'default of credit card clients_1',\n       'default of credit card clients_2',\n       'default of credit card clients_3',\n       'default of credit card clients_4', 'drug_0', 'drug_2', 'drug_3',\n       'drug_4', 'electricity-normalized_1', 'electricity-normalized_3',\n       'electricity-normalized_4', 'fried_0', 'fried_1', 'fried_3',\n       'frogs_1', 'frogs_2', 'frogs_3', 'frogs_4', 'german_3', 'german_4',\n       'house_0', 'house_1', 'house_2', 'house_3', 'house_4', 'iris_3',\n       'iris_4', 'letter_0', 'letter_2', 'letter_3', 'letter_4',\n       'mushrooms_0', 'mushrooms_1', 'mushrooms_2', 'mushrooms_3',\n       'mushrooms_4', 'mv_0', 'mv_2', 'mv_3', 'mv_4', 'nursery_0',\n       'nursery_1', 'nursery_2', 'nursery_3', 'nursery_4', 'phoneme_0',\n       'phoneme_1', 'phoneme_4', 'ringnorm_4',\n       'Run_or_walk_information_0', 'Run_or_walk_information_1',\n       'Run_or_walk_information_2', 'Run_or_walk_information_4',\n       'shuttle_1', 'shuttle_2', 'shuttle_3', 'soybean_0', 'soybean_1',\n       'soybean_2', 'soybean_3', 'soybean_4', 'stars_1', 'stars_2',\n       'stars_3', 'stars_4', 'visualizing_soil_0', 'visualizing_soil_1',\n       'visualizing_soil_2', 'visualizing_soil_3', 'visualizing_soil_4',\n       'wall-robot-navigation_0', 'wall-robot-navigation_1',\n       'wall-robot-navigation_2', 'wall-robot-navigation_3',\n       'wall-robot-navigation_4'], dtype=object)"
     },
     "execution_count": 13,
     "metadata": {},
     "output_type": "execute_result"
    }
   ],
   "source": [
    "wrong.dataset.unique()\n"
   ],
   "metadata": {
    "collapsed": false
   }
  },
  {
   "cell_type": "code",
   "execution_count": 14,
   "outputs": [
    {
     "data": {
      "text/plain": "array(['DecisionTree', 'AdaBoost', 'RandomForest', 'LogisticRegression',\n       'SVC', 'KNN'], dtype=object)"
     },
     "execution_count": 14,
     "metadata": {},
     "output_type": "execute_result"
    }
   ],
   "source": [
    "wrong.model.unique()\n"
   ],
   "metadata": {
    "collapsed": false
   }
  },
  {
   "cell_type": "code",
   "execution_count": 15,
   "outputs": [
    {
     "data": {
      "text/plain": "ranking_real\n['completeness' 'accuracy']                  113\n['accuracy' 'completeness']                   42\n['completeness' 'accuracy' 'consistency']     25\n['accuracy' 'consistency' 'completeness']     16\n['accuracy' 'completeness' 'consistency']      8\n['consistency' 'completeness' 'accuracy']      3\n['completeness' 'consistency' 'accuracy']      2\nName: count, dtype: int64"
     },
     "execution_count": 15,
     "metadata": {},
     "output_type": "execute_result"
    }
   ],
   "source": [
    "wrong.ranking_real.value_counts()\n"
   ],
   "metadata": {
    "collapsed": false
   }
  },
  {
   "cell_type": "code",
   "execution_count": 16,
   "outputs": [
    {
     "data": {
      "text/plain": "ranking_pred\n['accuracy' 'completeness']                  113\n['accuracy' 'completeness' 'consistency']     43\n['completeness' 'accuracy']                   42\n['completeness' 'accuracy' 'consistency']     11\nName: count, dtype: int64"
     },
     "execution_count": 16,
     "metadata": {},
     "output_type": "execute_result"
    }
   ],
   "source": [
    "wrong.ranking_pred.value_counts()\n"
   ],
   "metadata": {
    "collapsed": false
   }
  },
  {
   "cell_type": "code",
   "execution_count": 17,
   "outputs": [
    {
     "data": {
      "text/plain": "                     dataset         model  ranking_eval  \\\n0                  abalone_0  DecisionTree           0.0   \n4                  abalone_0      AdaBoost           0.0   \n10                 abalone_1      AdaBoost           0.0   \n12                 abalone_2  DecisionTree           0.0   \n16                 abalone_2      AdaBoost           0.0   \n..                       ...           ...           ...   \n736  wall-robot-navigation_2      AdaBoost           0.0   \n741  wall-robot-navigation_3  RandomForest           0.0   \n742  wall-robot-navigation_3      AdaBoost           0.0   \n747  wall-robot-navigation_4  RandomForest           0.0   \n748  wall-robot-navigation_4      AdaBoost           0.0   \n\n                    ranking_real                 ranking_pred  \\\n0    ['completeness' 'accuracy']  ['accuracy' 'completeness']   \n4    ['completeness' 'accuracy']  ['accuracy' 'completeness']   \n10   ['completeness' 'accuracy']  ['accuracy' 'completeness']   \n12   ['completeness' 'accuracy']  ['accuracy' 'completeness']   \n16   ['accuracy' 'completeness']  ['completeness' 'accuracy']   \n..                           ...                          ...   \n736  ['completeness' 'accuracy']  ['accuracy' 'completeness']   \n741  ['accuracy' 'completeness']  ['completeness' 'accuracy']   \n742  ['completeness' 'accuracy']  ['accuracy' 'completeness']   \n747  ['accuracy' 'completeness']  ['completeness' 'accuracy']   \n748  ['completeness' 'accuracy']  ['accuracy' 'completeness']   \n\n                  value_real               value_pred  \n0    [0.76589018 0.81065113]  [0.71757723 0.92658765]  \n4    [0.71600238 0.84769537]  [0.84821748 0.86591785]  \n10   [0.71686303 0.86271963]  [0.8302403  0.95979445]  \n12   [0.84041742 0.88314255]  [0.82790576 0.90217272]  \n16   [0.71694682 0.84018426]  [0.87604969 0.89995697]  \n..                       ...                      ...  \n736  [1.01044103 1.01609996]  [0.83342483 0.88557725]  \n741  [0.91722645 0.92891672]  [0.94145208 0.94855794]  \n742  [1.07204625 1.08338581]  [0.85400908 0.92638422]  \n747  [0.946756   0.96250289]  [0.94154472 0.96259183]  \n748  [0.99231298 1.15981565]  [0.8917544  0.95523212]  \n\n[209 rows x 7 columns]",
      "text/html": "<div>\n<style scoped>\n    .dataframe tbody tr th:only-of-type {\n        vertical-align: middle;\n    }\n\n    .dataframe tbody tr th {\n        vertical-align: top;\n    }\n\n    .dataframe thead th {\n        text-align: right;\n    }\n</style>\n<table border=\"1\" class=\"dataframe\">\n  <thead>\n    <tr style=\"text-align: right;\">\n      <th></th>\n      <th>dataset</th>\n      <th>model</th>\n      <th>ranking_eval</th>\n      <th>ranking_real</th>\n      <th>ranking_pred</th>\n      <th>value_real</th>\n      <th>value_pred</th>\n    </tr>\n  </thead>\n  <tbody>\n    <tr>\n      <th>0</th>\n      <td>abalone_0</td>\n      <td>DecisionTree</td>\n      <td>0.0</td>\n      <td>['completeness' 'accuracy']</td>\n      <td>['accuracy' 'completeness']</td>\n      <td>[0.76589018 0.81065113]</td>\n      <td>[0.71757723 0.92658765]</td>\n    </tr>\n    <tr>\n      <th>4</th>\n      <td>abalone_0</td>\n      <td>AdaBoost</td>\n      <td>0.0</td>\n      <td>['completeness' 'accuracy']</td>\n      <td>['accuracy' 'completeness']</td>\n      <td>[0.71600238 0.84769537]</td>\n      <td>[0.84821748 0.86591785]</td>\n    </tr>\n    <tr>\n      <th>10</th>\n      <td>abalone_1</td>\n      <td>AdaBoost</td>\n      <td>0.0</td>\n      <td>['completeness' 'accuracy']</td>\n      <td>['accuracy' 'completeness']</td>\n      <td>[0.71686303 0.86271963]</td>\n      <td>[0.8302403  0.95979445]</td>\n    </tr>\n    <tr>\n      <th>12</th>\n      <td>abalone_2</td>\n      <td>DecisionTree</td>\n      <td>0.0</td>\n      <td>['completeness' 'accuracy']</td>\n      <td>['accuracy' 'completeness']</td>\n      <td>[0.84041742 0.88314255]</td>\n      <td>[0.82790576 0.90217272]</td>\n    </tr>\n    <tr>\n      <th>16</th>\n      <td>abalone_2</td>\n      <td>AdaBoost</td>\n      <td>0.0</td>\n      <td>['accuracy' 'completeness']</td>\n      <td>['completeness' 'accuracy']</td>\n      <td>[0.71694682 0.84018426]</td>\n      <td>[0.87604969 0.89995697]</td>\n    </tr>\n    <tr>\n      <th>...</th>\n      <td>...</td>\n      <td>...</td>\n      <td>...</td>\n      <td>...</td>\n      <td>...</td>\n      <td>...</td>\n      <td>...</td>\n    </tr>\n    <tr>\n      <th>736</th>\n      <td>wall-robot-navigation_2</td>\n      <td>AdaBoost</td>\n      <td>0.0</td>\n      <td>['completeness' 'accuracy']</td>\n      <td>['accuracy' 'completeness']</td>\n      <td>[1.01044103 1.01609996]</td>\n      <td>[0.83342483 0.88557725]</td>\n    </tr>\n    <tr>\n      <th>741</th>\n      <td>wall-robot-navigation_3</td>\n      <td>RandomForest</td>\n      <td>0.0</td>\n      <td>['accuracy' 'completeness']</td>\n      <td>['completeness' 'accuracy']</td>\n      <td>[0.91722645 0.92891672]</td>\n      <td>[0.94145208 0.94855794]</td>\n    </tr>\n    <tr>\n      <th>742</th>\n      <td>wall-robot-navigation_3</td>\n      <td>AdaBoost</td>\n      <td>0.0</td>\n      <td>['completeness' 'accuracy']</td>\n      <td>['accuracy' 'completeness']</td>\n      <td>[1.07204625 1.08338581]</td>\n      <td>[0.85400908 0.92638422]</td>\n    </tr>\n    <tr>\n      <th>747</th>\n      <td>wall-robot-navigation_4</td>\n      <td>RandomForest</td>\n      <td>0.0</td>\n      <td>['accuracy' 'completeness']</td>\n      <td>['completeness' 'accuracy']</td>\n      <td>[0.946756   0.96250289]</td>\n      <td>[0.94154472 0.96259183]</td>\n    </tr>\n    <tr>\n      <th>748</th>\n      <td>wall-robot-navigation_4</td>\n      <td>AdaBoost</td>\n      <td>0.0</td>\n      <td>['completeness' 'accuracy']</td>\n      <td>['accuracy' 'completeness']</td>\n      <td>[0.99231298 1.15981565]</td>\n      <td>[0.8917544  0.95523212]</td>\n    </tr>\n  </tbody>\n</table>\n<p>209 rows × 7 columns</p>\n</div>"
     },
     "execution_count": 17,
     "metadata": {},
     "output_type": "execute_result"
    }
   ],
   "source": [
    "wrong\n"
   ],
   "metadata": {
    "collapsed": false
   }
  },
  {
   "cell_type": "code",
   "execution_count": 18,
   "outputs": [],
   "source": [
    "### controllo la differenza nel ranking real"
   ],
   "metadata": {
    "collapsed": false
   }
  },
  {
   "cell_type": "code",
   "execution_count": 19,
   "outputs": [
    {
     "name": "stdout",
     "output_type": "stream",
     "text": [
      "[0.76589018 0.81065113]\n",
      "[0.71600238 0.84769537]\n",
      "[0.71686303 0.86271963]\n",
      "[0.84041742 0.88314255]\n",
      "[0.71694682 0.84018426]\n",
      "[0.90172666 0.92078931]\n",
      "[0.85665293 0.86250357]\n",
      "[0.94908976 0.99032578]\n",
      "[0.85922217 0.93183873]\n",
      "[0.82241864 0.98525708]\n",
      "[0.67975679 0.71160472 0.86543824]\n",
      "[0.58549451 0.60313034 0.85078554]\n",
      "[0.7025672  0.73931941 0.80146686]\n",
      "[0.62729765 0.73352923 1.15732647]\n",
      "[0.86920717 0.87890568 0.89259998]\n",
      "[0.84511747 0.87641012 0.89426608]\n",
      "[0.76734859 0.84179307 1.46525735]\n",
      "[0.96857095 0.97367834 0.97787163]\n",
      "[0.95528588 0.98282615 0.99561069]\n",
      "[0.94851755 0.95680561 0.96855374]\n",
      "[0.91087031 0.94996614 0.95396135]\n",
      "[0.97594389 0.98336509 0.98821823]\n",
      "[0.95084968 0.97082716 0.99240604]\n",
      "[0.95387938 0.96847246 0.97186355]\n",
      "[0.96699141 0.97696467 0.99758777]\n",
      "[0.91248049 0.92860139 0.95378796]\n",
      "[0.97945222 0.98804307 0.99044527]\n",
      "[0.94127887 0.96335318 0.98341376]\n",
      "[0.9419718  0.96507909 0.97279905]\n",
      "[0.93278887 0.97330282 0.97403325]\n",
      "[0.99273509 0.99314227 1.00183535]\n",
      "[0.93621621 0.96522265 0.98020093]\n",
      "[0.97977224 0.98356611 0.99338779]\n",
      "[0.99241309 0.99371188 0.99628855]\n",
      "[0.96287947 0.96904738 0.99626566]\n",
      "[0.96038786 0.99788904 1.00134182]\n",
      "[0.99330332 0.9933088  0.99769249]\n",
      "[0.9581031  0.96244145 1.00008154]\n",
      "[0.95903103 0.98625354 0.99677577]\n",
      "[0.98779831 0.98883024 0.99972945]\n",
      "[0.88751795 1.01036746 1.01229669]\n",
      "[0.98840343 0.99671213 1.00008125]\n",
      "[1.00151641 1.00169738 1.01524904]\n",
      "[0.98641269 0.99134098 1.00319573]\n",
      "[0.98791434 1.00167998 1.00665799]\n",
      "[0.97243271 0.9783536  0.99327758]\n",
      "[0.66302493 0.74870578]\n",
      "[0.75795041 0.85286862]\n",
      "[0.66314137 0.70773961]\n",
      "[0.84500688 0.92419039]\n",
      "[0.69362653 0.75991311]\n",
      "[0.78828593 0.87075119]\n",
      "[0.70930117 0.75742801]\n",
      "[0.86853435 0.92702172]\n",
      "[0.75999699 0.82877503]\n",
      "[0.80985983 0.86961006]\n",
      "[0.7446049  0.75109383]\n",
      "[0.75325445 0.80353941]\n",
      "[0.88579565 0.96915341]\n",
      "[0.80445333 0.86615224]\n",
      "[0.86311488 0.90924334]\n",
      "[0.8272647  0.84548302]\n",
      "[0.90102588 0.93788723]\n",
      "[0.90939407 0.9096679 ]\n",
      "[0.92170908 0.95869196]\n",
      "[0.83095466 0.83317926]\n",
      "[0.90625834 0.91008137]\n",
      "[0.9366544  0.98067681]\n",
      "[0.74131855 1.01642753]\n",
      "[0.96955877 0.97237642]\n",
      "[0.83700445 1.03456919]\n",
      "[0.97787661 0.98138419]\n",
      "[0.96888405 0.96998158]\n",
      "[0.8762412  1.03769983]\n",
      "[0.89418146 1.03172721]\n",
      "[0.98274834 1.00532728]\n",
      "[0.98737645 0.98824885]\n",
      "[0.78233693 1.02962444]\n",
      "[0.54140464 0.56003746]\n",
      "[0.56607446 0.60160296]\n",
      "[0.66153854 0.73704468]\n",
      "[0.65974722 0.70529797]\n",
      "[0.75039882 0.79385001]\n",
      "[0.88721527 0.8916018 ]\n",
      "[0.89372633 0.90436784]\n",
      "[0.166659   0.58584289]\n",
      "[0.87687287 0.87910926]\n",
      "[0.88382404 0.90721324]\n",
      "[0.93051876 0.93055228]\n",
      "[0.92644635 0.94320886]\n",
      "[0.95119855 0.95468509]\n",
      "[0.89830567 0.90757869]\n",
      "[0.81018261 0.81468668]\n",
      "[0.84017291 0.84247038]\n",
      "[0.58619221 0.67047206]\n",
      "[0.87571375 0.90663576]\n",
      "[0.8916484  0.91480841]\n",
      "[1.06058627 1.20288219]\n",
      "[1.23786269 1.27734293]\n",
      "[1.15965303 1.34162041]\n",
      "[0.97298978 0.98507434]\n",
      "[1.14541076 1.31546986]\n",
      "[0.93551491 0.93589585]\n",
      "[0.97889838 0.99034706]\n",
      "[0.99023215 1.02354977]\n",
      "[0.93416377 0.95329774]\n",
      "[0.9650605  1.00285199]\n",
      "[0.90285365 0.92540347]\n",
      "[0.92085927 0.92747954]\n",
      "[0.98251076 0.99511319]\n",
      "[0.92514389 0.94007621]\n",
      "[0.92221154 0.96510725]\n",
      "[1.01054655 1.03198134]\n",
      "[0.9070158  0.99632226]\n",
      "[0.96636547 1.01430526]\n",
      "[0.98438136 0.99944192]\n",
      "[0.57615066 0.8636799 ]\n",
      "[0.95000754 1.01559426]\n",
      "[0.54988171 0.8519767 ]\n",
      "[0.91788035 0.93399521]\n",
      "[0.86905105 1.55073978]\n",
      "[0.64466383 0.75246911]\n",
      "[0.73632824 1.90520261]\n",
      "[0.65748096 0.7856485 ]\n",
      "[0.84143979 0.89461773]\n",
      "[1.01095341 1.26501493]\n",
      "[0.93562869 0.95108809 0.99972377]\n",
      "[0.95220037 0.97125741 0.99972383]\n",
      "[0.94667118 0.97208812 1.00000001]\n",
      "[0.96436598 0.9809352  1.        ]\n",
      "[0.95633291 0.96656696 1.00000001]\n",
      "[0.98094487 0.98452981 0.99972382]\n",
      "[0.97541027 0.97955525 1.00027626]\n",
      "[0.98287861 0.99143899 0.99944766]\n",
      "[0.9919888  0.99226464 1.00027626]\n",
      "[0.99088761 0.9961334  0.99944765]\n",
      "[0.99060589 0.99336943 1.00027626]\n",
      "[0.82217423 0.8334492 ]\n",
      "[0.52176439 0.59707142]\n",
      "[0.89256734 0.8931337 ]\n",
      "[0.91849503 0.94750403]\n",
      "[0.95741715 0.96566266]\n",
      "[0.94828741 0.97444039]\n",
      "[0.62510876 0.66393875]\n",
      "[0.66116311 0.76247321]\n",
      "[0.57347345 0.62766829]\n",
      "[0.68680203 0.72203771]\n",
      "[0.73441319 0.76221712]\n",
      "[0.73682726 0.77461643]\n",
      "[0.67805615 0.75384292]\n",
      "[0.80993431 0.8346325 ]\n",
      "[0.89726148 0.91090539]\n",
      "[0.827933  0.8982133]\n",
      "[0.83760267 0.90879186]\n",
      "[0.9657659 0.9808079]\n",
      "[0.98757674 0.98860567]\n",
      "[0.88652266 1.00018467]\n",
      "[0.95993616 0.99729408]\n",
      "[0.83918496 0.85121657]\n",
      "[0.8832159  0.89003179]\n",
      "[0.9199876  0.92423423]\n",
      "[0.97812502 0.97885406]\n",
      "[0.98152171 0.98567825]\n",
      "[0.97609959 0.98002127]\n",
      "[0.79023258 0.92116232]\n",
      "[0.53154314 0.58664666]\n",
      "[0.56355646 0.58070181]\n",
      "[0.60506811 0.65290756]\n",
      "[0.38125529 0.44371646 1.0639303 ]\n",
      "[0.48274453 0.59794643 1.01095646]\n",
      "[0.57970253 0.62051335 0.99660552]\n",
      "[0.71105738 0.74532302 0.99757016]\n",
      "[0.51255858 0.67071861 0.99545647]\n",
      "[0.76367927 0.83461017 1.06904741]\n",
      "[0.91381534 0.93723423 1.03517978]\n",
      "[0.62931463 1.15664698]\n",
      "[0.85384677 0.87745261]\n",
      "[0.32708703 0.82282312]\n",
      "[0.89492505 0.97496367]\n",
      "[0.8897846  0.98598618]\n",
      "[0.77076285 0.87558616]\n",
      "[0.95799306 0.96748698]\n",
      "[0.80706057 0.8441027 ]\n",
      "[0.78705622 0.80907876]\n",
      "[0.79365341 0.82731517]\n",
      "[0.80317896 0.86346736]\n",
      "[0.84484931 0.89268346]\n",
      "[0.8265238  0.85432722]\n",
      "[0.82699469 0.86666802]\n",
      "[0.84584056 0.89010724]\n",
      "[0.89844784 0.91566519]\n",
      "[0.87346769 0.88828276]\n",
      "[0.87761521 0.90788973]\n",
      "[0.88462967 0.91923667]\n",
      "[0.92957908 0.93920146]\n",
      "[0.91293777 0.92572901]\n",
      "[0.91714243 0.95146883]\n",
      "[0.9654547  0.97686896]\n",
      "[0.93604865 0.94092963]\n",
      "[0.95157952 0.95760578]\n",
      "[0.95791054 0.96861834]\n",
      "[0.32377703 0.35286309]\n",
      "[0.91847173 0.93065803]\n",
      "[0.3320656  0.37184775]\n",
      "[1.01044103 1.01609996]\n",
      "[0.91722645 0.92891672]\n",
      "[1.07204625 1.08338581]\n",
      "[0.946756   0.96250289]\n",
      "[0.99231298 1.15981565]\n"
     ]
    }
   ],
   "source": [
    "variance_impact = []\n",
    "wrong = wrong.reset_index(drop=True)\n",
    "for i in range(0,len(wrong)):\n",
    "    s = wrong.loc[i].value_real\n",
    "    print(s)\n",
    "    s = s.replace(\".        ]\",\".0]\")\n",
    "    s = s.replace(\"   \",\" \")\n",
    "    s = s.replace(\"  \",\" \")\n",
    "    s = s.replace(\" ]\",\"]\")\n",
    "    s = s.replace(\"\\'\",\"\")\n",
    "    s = s.replace(\"[\",\"\")\n",
    "    s = s.replace(\"]\",\"\")\n",
    "    s = s.split(\" \")\n",
    "    s = np.array(s)\n",
    "    s = s.astype(float)\n",
    "\n",
    "    variance_impact.append(s[0] - s[1])"
   ],
   "metadata": {
    "collapsed": false
   }
  },
  {
   "cell_type": "code",
   "execution_count": 20,
   "outputs": [],
   "source": [
    "variance_impact = pd.DataFrame(variance_impact)\n"
   ],
   "metadata": {
    "collapsed": false
   }
  },
  {
   "cell_type": "code",
   "execution_count": 21,
   "outputs": [],
   "source": [
    "variance_impact = abs(variance_impact)\n"
   ],
   "metadata": {
    "collapsed": false
   }
  },
  {
   "cell_type": "code",
   "execution_count": 22,
   "outputs": [
    {
     "data": {
      "text/plain": "                0\ncount  209.000000\nmean     0.059677\nstd      0.116403\nmin      0.000005\n25%      0.009699\n50%      0.027803\n75%      0.061699\nmax      1.168874",
      "text/html": "<div>\n<style scoped>\n    .dataframe tbody tr th:only-of-type {\n        vertical-align: middle;\n    }\n\n    .dataframe tbody tr th {\n        vertical-align: top;\n    }\n\n    .dataframe thead th {\n        text-align: right;\n    }\n</style>\n<table border=\"1\" class=\"dataframe\">\n  <thead>\n    <tr style=\"text-align: right;\">\n      <th></th>\n      <th>0</th>\n    </tr>\n  </thead>\n  <tbody>\n    <tr>\n      <th>count</th>\n      <td>209.000000</td>\n    </tr>\n    <tr>\n      <th>mean</th>\n      <td>0.059677</td>\n    </tr>\n    <tr>\n      <th>std</th>\n      <td>0.116403</td>\n    </tr>\n    <tr>\n      <th>min</th>\n      <td>0.000005</td>\n    </tr>\n    <tr>\n      <th>25%</th>\n      <td>0.009699</td>\n    </tr>\n    <tr>\n      <th>50%</th>\n      <td>0.027803</td>\n    </tr>\n    <tr>\n      <th>75%</th>\n      <td>0.061699</td>\n    </tr>\n    <tr>\n      <th>max</th>\n      <td>1.168874</td>\n    </tr>\n  </tbody>\n</table>\n</div>"
     },
     "execution_count": 22,
     "metadata": {},
     "output_type": "execute_result"
    }
   ],
   "source": [
    "variance_impact.describe()\n"
   ],
   "metadata": {
    "collapsed": false
   }
  },
  {
   "cell_type": "code",
   "execution_count": 23,
   "outputs": [
    {
     "data": {
      "text/plain": "            0\n0    0.044761\n1    0.131693\n2    0.145857\n3    0.042725\n4    0.123237\n..        ...\n204  0.005659\n205  0.011690\n206  0.011340\n207  0.015747\n208  0.167503\n\n[209 rows x 1 columns]",
      "text/html": "<div>\n<style scoped>\n    .dataframe tbody tr th:only-of-type {\n        vertical-align: middle;\n    }\n\n    .dataframe tbody tr th {\n        vertical-align: top;\n    }\n\n    .dataframe thead th {\n        text-align: right;\n    }\n</style>\n<table border=\"1\" class=\"dataframe\">\n  <thead>\n    <tr style=\"text-align: right;\">\n      <th></th>\n      <th>0</th>\n    </tr>\n  </thead>\n  <tbody>\n    <tr>\n      <th>0</th>\n      <td>0.044761</td>\n    </tr>\n    <tr>\n      <th>1</th>\n      <td>0.131693</td>\n    </tr>\n    <tr>\n      <th>2</th>\n      <td>0.145857</td>\n    </tr>\n    <tr>\n      <th>3</th>\n      <td>0.042725</td>\n    </tr>\n    <tr>\n      <th>4</th>\n      <td>0.123237</td>\n    </tr>\n    <tr>\n      <th>...</th>\n      <td>...</td>\n    </tr>\n    <tr>\n      <th>204</th>\n      <td>0.005659</td>\n    </tr>\n    <tr>\n      <th>205</th>\n      <td>0.011690</td>\n    </tr>\n    <tr>\n      <th>206</th>\n      <td>0.011340</td>\n    </tr>\n    <tr>\n      <th>207</th>\n      <td>0.015747</td>\n    </tr>\n    <tr>\n      <th>208</th>\n      <td>0.167503</td>\n    </tr>\n  </tbody>\n</table>\n<p>209 rows × 1 columns</p>\n</div>"
     },
     "execution_count": 23,
     "metadata": {},
     "output_type": "execute_result"
    }
   ],
   "source": [
    "variance_impact"
   ],
   "metadata": {
    "collapsed": false
   }
  },
  {
   "cell_type": "code",
   "execution_count": 24,
   "outputs": [],
   "source": [
    "### succede quando i ranking sono molto vicini tra di loro --> il 75% percentile è 0.06\n",
    "### in media se ho un threshold di similarità di impatto che si aggira intorno al 5% allora il nostro ranking non è più affidabile!\n"
   ],
   "metadata": {
    "collapsed": false
   }
  },
  {
   "cell_type": "code",
   "execution_count": null,
   "outputs": [],
   "source": [],
   "metadata": {
    "collapsed": false
   }
  }
 ],
 "metadata": {
  "kernelspec": {
   "display_name": "Python 3",
   "language": "python",
   "name": "python3"
  },
  "language_info": {
   "codemirror_mode": {
    "name": "ipython",
    "version": 2
   },
   "file_extension": ".py",
   "mimetype": "text/x-python",
   "name": "python",
   "nbconvert_exporter": "python",
   "pygments_lexer": "ipython2",
   "version": "2.7.6"
  }
 },
 "nbformat": 4,
 "nbformat_minor": 0
}
