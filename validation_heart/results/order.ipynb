{
 "cells": [
  {
   "cell_type": "code",
   "execution_count": 1,
   "metadata": {
    "collapsed": true
   },
   "outputs": [],
   "source": [
    "import pandas as pd"
   ]
  },
  {
   "cell_type": "code",
   "execution_count": 2,
   "outputs": [],
   "source": [
    "schedule = pd.read_csv('schedule/compiled_sample_schedule.csv')"
   ],
   "metadata": {
    "collapsed": false
   }
  },
  {
   "cell_type": "code",
   "execution_count": 3,
   "outputs": [],
   "source": [
    "schedule_50 = schedule[schedule.quality == 50]\n",
    "schedule_60 = schedule[schedule.quality == 60]\n",
    "schedule_70 = schedule[schedule.quality == 70]\n",
    "schedule_80 = schedule[schedule.quality == 80]\n",
    "schedule_90 = schedule[schedule.quality == 90]\n"
   ],
   "metadata": {
    "collapsed": false
   }
  },
  {
   "cell_type": "code",
   "execution_count": 4,
   "outputs": [
    {
     "name": "stdout",
     "output_type": "stream",
     "text": [
      "-----Order for LogisticRegression-----\n",
      "imp_col_1\n",
      "oldpeak    18\n",
      "thal       14\n",
      "cp          8\n",
      "Name: count, dtype: int64\n",
      "imp_col_2\n",
      "oldpeak    20\n",
      "thal       17\n",
      "cp          3\n",
      "Name: count, dtype: int64\n",
      "imp_col_3\n",
      "cp         29\n",
      "thal        9\n",
      "oldpeak     2\n",
      "Name: count, dtype: int64\n",
      "-----Order for SVC-----\n",
      "imp_col_1\n",
      "cp         22\n",
      "oldpeak    10\n",
      "thal        8\n",
      "Name: count, dtype: int64\n",
      "imp_col_2\n",
      "thal       22\n",
      "oldpeak    18\n",
      "Name: count, dtype: int64\n",
      "imp_col_3\n",
      "cp         18\n",
      "oldpeak    12\n",
      "thal       10\n",
      "Name: count, dtype: int64\n"
     ]
    }
   ],
   "source": [
    "for a in ['LogisticRegression','SVC']:\n",
    "    print('-----'+'Order for '+a+'-----')\n",
    "    schedule_90 = schedule_90.sort_values(by=[a+'_2'], ascending=False)\n",
    "    print(schedule_90[0:40].imp_col_1.value_counts())\n",
    "    print(schedule_90[0:40].imp_col_2.value_counts())\n",
    "    print(schedule_90[0:40].imp_col_3.value_counts())"
   ],
   "metadata": {
    "collapsed": false
   }
  },
  {
   "cell_type": "code",
   "execution_count": 5,
   "outputs": [],
   "source": [
    "### 90% Prevale LR: oldpeak, thal, cp\n",
    "### 90% Prevale SVC: cp, thal, oldpeak\n",
    "\n",
    "##sono comunque così variabili!"
   ],
   "metadata": {
    "collapsed": false
   }
  },
  {
   "cell_type": "code",
   "execution_count": 6,
   "outputs": [
    {
     "name": "stdout",
     "output_type": "stream",
     "text": [
      "-----Order for LogisticRegression-----\n",
      "imp_col_1\n",
      "cp         21\n",
      "thal       15\n",
      "oldpeak     4\n",
      "Name: count, dtype: int64\n",
      "imp_col_2\n",
      "oldpeak    23\n",
      "cp         15\n",
      "thal        2\n",
      "Name: count, dtype: int64\n",
      "imp_col_3\n",
      "thal       23\n",
      "oldpeak    13\n",
      "cp          4\n",
      "Name: count, dtype: int64\n",
      "-----Order for SVC-----\n",
      "imp_col_1\n",
      "cp         21\n",
      "thal       10\n",
      "oldpeak     9\n",
      "Name: count, dtype: int64\n",
      "imp_col_2\n",
      "oldpeak    20\n",
      "cp         10\n",
      "thal       10\n",
      "Name: count, dtype: int64\n",
      "imp_col_3\n",
      "thal       20\n",
      "oldpeak    11\n",
      "cp          9\n",
      "Name: count, dtype: int64\n"
     ]
    }
   ],
   "source": [
    "for a in ['LogisticRegression','SVC']:\n",
    "    print('-----'+'Order for '+a+'-----')\n",
    "    schedule_50 = schedule_50.sort_values(by=[a+'_2'], ascending=False)\n",
    "    print(schedule_50[0:40].imp_col_1.value_counts())\n",
    "    print(schedule_50[0:40].imp_col_2.value_counts())\n",
    "    print(schedule_50[0:40].imp_col_3.value_counts())\n"
   ],
   "metadata": {
    "collapsed": false
   }
  },
  {
   "cell_type": "code",
   "execution_count": null,
   "outputs": [],
   "source": [
    "### 90% Prevale LR: cp, oldpeak, thal\n",
    "### 90% Prevale SVC: cp, oldpeak, thal\n",
    "\n",
    "##sono comunque così variabili!"
   ],
   "metadata": {
    "collapsed": false
   }
  },
  {
   "cell_type": "code",
   "execution_count": null,
   "outputs": [],
   "source": [],
   "metadata": {
    "collapsed": false
   }
  }
 ],
 "metadata": {
  "kernelspec": {
   "display_name": "Python 3",
   "language": "python",
   "name": "python3"
  },
  "language_info": {
   "codemirror_mode": {
    "name": "ipython",
    "version": 2
   },
   "file_extension": ".py",
   "mimetype": "text/x-python",
   "name": "python",
   "nbconvert_exporter": "python",
   "pygments_lexer": "ipython2",
   "version": "2.7.6"
  }
 },
 "nbformat": 4,
 "nbformat_minor": 0
}
