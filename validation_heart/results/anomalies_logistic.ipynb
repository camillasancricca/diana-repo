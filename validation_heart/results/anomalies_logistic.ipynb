{
 "cells": [
  {
   "cell_type": "code",
   "execution_count": 1,
   "metadata": {
    "collapsed": true
   },
   "outputs": [],
   "source": [
    "import pandas as pd\n",
    "import dirty_data as d\n",
    "from sklearn.linear_model import LogisticRegression\n",
    "import matplotlib.pyplot as plt\n",
    "import numpy as np\n",
    "import imputation as i\n",
    "import outlier_detection as od\n",
    "from utils import encoding_categorical_variables as enc\n",
    "from sklearn.preprocessing import StandardScaler"
   ]
  },
  {
   "cell_type": "code",
   "execution_count": 2,
   "outputs": [],
   "source": [
    "df = pd.read_csv(\"../dataset/heart.csv\")\n",
    "name_class = 'disease'\n",
    "\n",
    "selected_features = ['oldpeak','cp','thal', name_class]\n",
    "selected_features_only = ['oldpeak','cp','thal']\n",
    "df = df[selected_features]\n",
    "quality = pd.DataFrame([50,60,70,80,90])\n",
    "perc_quality = [50,60,70,80,90]\n",
    "\n",
    "param = {\n",
    "    'DecisionTree': 70,\n",
    "    'LogisticRegression': 1,\n",
    "    'KNN': 8,\n",
    "    'RandomForest': 70,\n",
    "    'AdaBoost': 90,\n",
    "    'SVC': 1\n",
    "}"
   ],
   "metadata": {
    "collapsed": false
   }
  },
  {
   "cell_type": "code",
   "execution_count": 4,
   "outputs": [],
   "source": [
    "def improve_completeness(df, imp_1, imp_2, imp_3, imp_col_1, imp_col_2, imp_col_3, name_class):\n",
    "    df_clean = df[selected_features_only].copy()\n",
    "\n",
    "    df_clean = i.impute(df_clean, imp_1, imp_col_1)\n",
    "    df_clean = i.impute(df_clean, imp_2, imp_col_2)\n",
    "    df_clean = i.impute(df_clean, imp_3, imp_col_3)\n",
    "\n",
    "    df_clean[name_class] = df[name_class]\n",
    "\n",
    "    return df_clean\n",
    "\n",
    "def improve_accuracy(df, od_1, od_2, imp_1, imp_2, imp_3, imp_col_1, imp_col_2, imp_col_3, name_class):\n",
    "\n",
    "    df_clean = df.copy()\n",
    "\n",
    "    indexes_1 = od.outliers(df_clean, od_1, selected_features[0])\n",
    "    indexes_2 = od.outliers(df_clean, od_2, selected_features[1])\n",
    "\n",
    "    df_clean.loc[indexes_1,selected_features[0]] = np.nan\n",
    "    df_clean.loc[indexes_2,selected_features[1]] = np.nan\n",
    "\n",
    "    df_clean[name_class] = df[name_class]\n",
    "\n",
    "    df_clean = improve_completeness(df_clean, imp_1, imp_2, imp_3, imp_col_1, imp_col_2, imp_col_3, name_class)\n",
    "\n",
    "    return df_clean"
   ],
   "metadata": {
    "collapsed": false
   }
  },
  {
   "cell_type": "code",
   "execution_count": 5,
   "outputs": [
    {
     "name": "stdout",
     "output_type": "stream",
     "text": [
      "saved dirty dataset 50%\n",
      "saved dirty dataset 90%\n"
     ]
    }
   ],
   "source": [
    "df_dirt_50 = d.injection(df, name_class, 50/100, 10, 1)\n",
    "df_dirt_90 = d.injection(df, name_class, 90/100, 10, 1)\n",
    "df_100 = df"
   ],
   "metadata": {
    "collapsed": false
   }
  },
  {
   "cell_type": "code",
   "execution_count": 5,
   "outputs": [],
   "source": [],
   "metadata": {
    "collapsed": false
   }
  },
  {
   "cell_type": "code",
   "execution_count": 6,
   "outputs": [
    {
     "data": {
      "text/plain": "array([[-0.4685333 ,  0.15027832,  0.30213017,  0.29797536, -0.59553746,\n         0.05123067,  0.55093318, -0.00208084, -0.10118001, -0.48928184,\n        -0.06433745]])"
     },
     "execution_count": 6,
     "metadata": {},
     "output_type": "execute_result"
    }
   ],
   "source": [
    "### quality 90%\n",
    "\n",
    "clf = LogisticRegression(C=param['LogisticRegression'])\n",
    "\n",
    "X = enc(df_dirt_90[selected_features_only])\n",
    "X = StandardScaler().fit_transform(X)\n",
    "X = np.nan_to_num(X)\n",
    "\n",
    "df_dirt_60 = clf.fit(X, df_dirt_90[name_class])\n",
    "importances_1 = df_dirt_60.coef_\n",
    "importances_1"
   ],
   "metadata": {
    "collapsed": false
   }
  },
  {
   "cell_type": "code",
   "execution_count": 7,
   "outputs": [
    {
     "data": {
      "text/plain": "array([[-0.8662592 ,  0.23369883,  0.13871986,  0.39692036, -0.58685025,\n         0.        ,  0.49274411, -0.03789612, -0.06492551, -0.46589098,\n         0.        ]])"
     },
     "execution_count": 7,
     "metadata": {},
     "output_type": "execute_result"
    }
   ],
   "source": [
    "### quality 100%\n",
    "\n",
    "clf = LogisticRegression(C=param['LogisticRegression'])\n",
    "\n",
    "X = enc(df_100[selected_features_only])\n",
    "X = StandardScaler().fit_transform(X)\n",
    "X = np.nan_to_num(X)\n",
    "\n",
    "df_100 = clf.fit(X, df_100[name_class])\n",
    "importances_2 = df_100.coef_\n",
    "importances_2"
   ],
   "metadata": {
    "collapsed": false
   }
  },
  {
   "cell_type": "code",
   "execution_count": 8,
   "outputs": [
    {
     "data": {
      "text/plain": "array([[ 0.07154123,  0.09746743,  0.40671467,  0.40329425, -0.58627628,\n        -0.02660781,  0.45011855, -0.01448909,  0.07789161, -0.49134566,\n        -0.00935601]])"
     },
     "execution_count": 8,
     "metadata": {},
     "output_type": "execute_result"
    }
   ],
   "source": [
    "### quality 50%\n",
    "\n",
    "clf = LogisticRegression(C=param['LogisticRegression'])\n",
    "\n",
    "X = enc(df_dirt_50[selected_features_only])\n",
    "X = StandardScaler().fit_transform(X)\n",
    "X = np.nan_to_num(X)\n",
    "\n",
    "df_dirt_60 = clf.fit(X, df_dirt_90[name_class])\n",
    "importances_3 = df_dirt_60.coef_\n",
    "importances_3"
   ],
   "metadata": {
    "collapsed": false
   }
  },
  {
   "cell_type": "code",
   "execution_count": 9,
   "outputs": [
    {
     "name": "stdout",
     "output_type": "stream",
     "text": [
      "[[-0.4685333   0.15027832  0.30213017  0.29797536 -0.59553746  0.05123067\n",
      "   0.55093318 -0.00208084 -0.10118001 -0.48928184 -0.06433745]]\n",
      "[[-0.8662592   0.23369883  0.13871986  0.39692036 -0.58685025  0.\n",
      "   0.49274411 -0.03789612 -0.06492551 -0.46589098  0.        ]]\n",
      "[[ 0.07154123  0.09746743  0.40671467  0.40329425 -0.58627628 -0.02660781\n",
      "   0.45011855 -0.01448909  0.07789161 -0.49134566 -0.00935601]]\n"
     ]
    }
   ],
   "source": [
    "print(importances_1)\n",
    "print(importances_2)\n",
    "print(importances_3)\n"
   ],
   "metadata": {
    "collapsed": false
   }
  },
  {
   "cell_type": "code",
   "execution_count": null,
   "outputs": [],
   "source": [],
   "metadata": {
    "collapsed": false
   }
  }
 ],
 "metadata": {
  "kernelspec": {
   "display_name": "Python 3",
   "language": "python",
   "name": "python3"
  },
  "language_info": {
   "codemirror_mode": {
    "name": "ipython",
    "version": 2
   },
   "file_extension": ".py",
   "mimetype": "text/x-python",
   "name": "python",
   "nbconvert_exporter": "python",
   "pygments_lexer": "ipython2",
   "version": "2.7.6"
  }
 },
 "nbformat": 4,
 "nbformat_minor": 0
}
