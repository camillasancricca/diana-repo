{
 "cells": [
  {
   "cell_type": "code",
   "execution_count": null,
   "outputs": [],
   "source": [
    "### https://www.kaggle.com/datasets/ybifoundation/handlingmissingvalues"
   ],
   "metadata": {
    "collapsed": false
   }
  },
  {
   "cell_type": "code",
   "execution_count": 293,
   "metadata": {
    "collapsed": true
   },
   "outputs": [],
   "source": [
    "import pandas as pd\n",
    "import matplotlib.pyplot as plt\n",
    "import numpy as np"
   ]
  },
  {
   "cell_type": "code",
   "execution_count": 294,
   "outputs": [
    {
     "data": {
      "text/plain": "      Gender Married   Age Graduat     Profession  Experience SpendingScore  \\\n0       Male      No  22.0      No     Healthcare         1.0           Low   \n1        NaN     Yes  38.0     Yes       Engineer         NaN       Average   \n2     Female     Yes   NaN     Yes       Engineer         1.0           Low   \n3       Male     Yes   NaN     Yes         Lawyer         0.0          High   \n4        NaN     Yes  40.0     Yes  Entertainment         NaN          High   \n...      ...     ...   ...     ...            ...         ...           ...   \n8063    Male      No  22.0      No            NaN         0.0           Low   \n8064    Male      No  35.0      No      Executive         3.0           Low   \n8065  Female      No  33.0     Yes     Healthcare         1.0           Low   \n8066  Female      No  27.0     Yes     Healthcare         1.0           Low   \n8067    Male     Yes  37.0     Yes      Executive         0.0       Average   \n\n      FamilySize  \n0            NaN  \n1            3.0  \n2            1.0  \n3            2.0  \n4            6.0  \n...          ...  \n8063         7.0  \n8064         4.0  \n8065         1.0  \n8066         4.0  \n8067         3.0  \n\n[8068 rows x 8 columns]",
      "text/html": "<div>\n<style scoped>\n    .dataframe tbody tr th:only-of-type {\n        vertical-align: middle;\n    }\n\n    .dataframe tbody tr th {\n        vertical-align: top;\n    }\n\n    .dataframe thead th {\n        text-align: right;\n    }\n</style>\n<table border=\"1\" class=\"dataframe\">\n  <thead>\n    <tr style=\"text-align: right;\">\n      <th></th>\n      <th>Gender</th>\n      <th>Married</th>\n      <th>Age</th>\n      <th>Graduat</th>\n      <th>Profession</th>\n      <th>Experience</th>\n      <th>SpendingScore</th>\n      <th>FamilySize</th>\n    </tr>\n  </thead>\n  <tbody>\n    <tr>\n      <th>0</th>\n      <td>Male</td>\n      <td>No</td>\n      <td>22.0</td>\n      <td>No</td>\n      <td>Healthcare</td>\n      <td>1.0</td>\n      <td>Low</td>\n      <td>NaN</td>\n    </tr>\n    <tr>\n      <th>1</th>\n      <td>NaN</td>\n      <td>Yes</td>\n      <td>38.0</td>\n      <td>Yes</td>\n      <td>Engineer</td>\n      <td>NaN</td>\n      <td>Average</td>\n      <td>3.0</td>\n    </tr>\n    <tr>\n      <th>2</th>\n      <td>Female</td>\n      <td>Yes</td>\n      <td>NaN</td>\n      <td>Yes</td>\n      <td>Engineer</td>\n      <td>1.0</td>\n      <td>Low</td>\n      <td>1.0</td>\n    </tr>\n    <tr>\n      <th>3</th>\n      <td>Male</td>\n      <td>Yes</td>\n      <td>NaN</td>\n      <td>Yes</td>\n      <td>Lawyer</td>\n      <td>0.0</td>\n      <td>High</td>\n      <td>2.0</td>\n    </tr>\n    <tr>\n      <th>4</th>\n      <td>NaN</td>\n      <td>Yes</td>\n      <td>40.0</td>\n      <td>Yes</td>\n      <td>Entertainment</td>\n      <td>NaN</td>\n      <td>High</td>\n      <td>6.0</td>\n    </tr>\n    <tr>\n      <th>...</th>\n      <td>...</td>\n      <td>...</td>\n      <td>...</td>\n      <td>...</td>\n      <td>...</td>\n      <td>...</td>\n      <td>...</td>\n      <td>...</td>\n    </tr>\n    <tr>\n      <th>8063</th>\n      <td>Male</td>\n      <td>No</td>\n      <td>22.0</td>\n      <td>No</td>\n      <td>NaN</td>\n      <td>0.0</td>\n      <td>Low</td>\n      <td>7.0</td>\n    </tr>\n    <tr>\n      <th>8064</th>\n      <td>Male</td>\n      <td>No</td>\n      <td>35.0</td>\n      <td>No</td>\n      <td>Executive</td>\n      <td>3.0</td>\n      <td>Low</td>\n      <td>4.0</td>\n    </tr>\n    <tr>\n      <th>8065</th>\n      <td>Female</td>\n      <td>No</td>\n      <td>33.0</td>\n      <td>Yes</td>\n      <td>Healthcare</td>\n      <td>1.0</td>\n      <td>Low</td>\n      <td>1.0</td>\n    </tr>\n    <tr>\n      <th>8066</th>\n      <td>Female</td>\n      <td>No</td>\n      <td>27.0</td>\n      <td>Yes</td>\n      <td>Healthcare</td>\n      <td>1.0</td>\n      <td>Low</td>\n      <td>4.0</td>\n    </tr>\n    <tr>\n      <th>8067</th>\n      <td>Male</td>\n      <td>Yes</td>\n      <td>37.0</td>\n      <td>Yes</td>\n      <td>Executive</td>\n      <td>0.0</td>\n      <td>Average</td>\n      <td>3.0</td>\n    </tr>\n  </tbody>\n</table>\n<p>8068 rows × 8 columns</p>\n</div>"
     },
     "execution_count": 294,
     "metadata": {},
     "output_type": "execute_result"
    }
   ],
   "source": [
    "df = pd.read_csv('dataset/people.csv', na_values=['?','#','**'])\n",
    "df"
   ],
   "metadata": {
    "collapsed": false
   }
  },
  {
   "cell_type": "code",
   "execution_count": 295,
   "outputs": [
    {
     "data": {
      "text/plain": "Gender            12\nMarried          140\nAge               14\nGraduat           78\nProfession       124\nExperience       829\nSpendingScore      0\nFamilySize       336\ndtype: int64"
     },
     "execution_count": 295,
     "metadata": {},
     "output_type": "execute_result"
    }
   ],
   "source": [
    "df.isnull().sum()"
   ],
   "metadata": {
    "collapsed": false
   }
  },
  {
   "cell_type": "code",
   "execution_count": 296,
   "outputs": [],
   "source": [
    "def check_datatypes(df):\n",
    "    for col in df.columns:\n",
    "        if (df[col].dtype == \"bool\"):\n",
    "            df[col] = df[col].astype('string')\n",
    "            df[col] = df[col].astype('object')\n",
    "    return df\n",
    "\n",
    "def injection(dataset, seed, name_class):\n",
    "\n",
    "    np.random.seed(seed)\n",
    "    df_dirt = dataset.copy()\n",
    "\n",
    "    df_dirt = check_datatypes(df_dirt)\n",
    "\n",
    "    rand = np.random.randint(3, size=(df.shape[0],df.shape[1]))\n",
    "\n",
    "    for i in range(0,len(df.columns)):\n",
    "        if df.columns[i] != name_class:\n",
    "            df_dirt.loc[rand[:, i] == 1, df.columns[i]] = np.nan\n",
    "\n",
    "    return df_dirt"
   ],
   "metadata": {
    "collapsed": false
   }
  },
  {
   "cell_type": "code",
   "execution_count": 297,
   "outputs": [],
   "source": [
    "df_null = injection(df, 1, 'Married')"
   ],
   "metadata": {
    "collapsed": false
   }
  },
  {
   "cell_type": "code",
   "execution_count": 298,
   "outputs": [
    {
     "data": {
      "text/plain": "Gender           2721\nMarried           140\nAge              2669\nGraduat          2813\nProfession       2719\nExperience       3187\nSpendingScore    2783\nFamilySize       2855\ndtype: int64"
     },
     "execution_count": 298,
     "metadata": {},
     "output_type": "execute_result"
    }
   ],
   "source": [
    "df_null.isnull().sum()"
   ],
   "metadata": {
    "collapsed": false
   }
  },
  {
   "cell_type": "code",
   "execution_count": 299,
   "outputs": [
    {
     "data": {
      "text/plain": "np.float64(19.71938522558255)"
     },
     "execution_count": 299,
     "metadata": {},
     "output_type": "execute_result"
    }
   ],
   "source": [
    "df_null.isnull().sum().sum()/df_null.shape[0]*df_null.shape[1]"
   ],
   "metadata": {
    "collapsed": false
   }
  },
  {
   "cell_type": "code",
   "execution_count": 300,
   "outputs": [],
   "source": [
    "df = df_null.copy()"
   ],
   "metadata": {
    "collapsed": false
   }
  },
  {
   "cell_type": "code",
   "execution_count": 301,
   "outputs": [],
   "source": [
    "NUM = list(df.select_dtypes(include=['int64','float64']).columns)"
   ],
   "metadata": {
    "collapsed": false
   }
  },
  {
   "cell_type": "code",
   "execution_count": 302,
   "outputs": [
    {
     "data": {
      "text/plain": "['Age', 'Experience', 'FamilySize']"
     },
     "execution_count": 302,
     "metadata": {},
     "output_type": "execute_result"
    }
   ],
   "source": [
    "NUM"
   ],
   "metadata": {
    "collapsed": false
   }
  },
  {
   "cell_type": "code",
   "execution_count": 303,
   "outputs": [
    {
     "name": "stdout",
     "output_type": "stream",
     "text": [
      "Age\n"
     ]
    },
    {
     "data": {
      "text/plain": "<Figure size 640x480 with 1 Axes>",
      "image/png": "[encoded data removed]"
     },
     "metadata": {},
     "output_type": "display_data"
    },
    {
     "name": "stdout",
     "output_type": "stream",
     "text": [
      "Experience\n"
     ]
    },
    {
     "data": {
      "text/plain": "<Figure size 640x480 with 1 Axes>",
      "image/png": "[encoded data removed]"
     },
     "metadata": {},
     "output_type": "display_data"
    },
    {
     "name": "stdout",
     "output_type": "stream",
     "text": [
      "FamilySize\n"
     ]
    },
    {
     "data": {
      "text/plain": "<Figure size 640x480 with 1 Axes>",
      "image/png": "[encoded data removed]"
     },
     "metadata": {},
     "output_type": "display_data"
    }
   ],
   "source": [
    "for col in NUM:\n",
    "    print(col)\n",
    "    plt.boxplot(df[col].dropna())\n",
    "    plt.show()\n"
   ],
   "metadata": {
    "collapsed": false
   }
  },
  {
   "cell_type": "code",
   "execution_count": 304,
   "outputs": [],
   "source": [
    "import scripts.algorithms_class as a\n"
   ],
   "metadata": {
    "collapsed": false
   }
  },
  {
   "cell_type": "code",
   "execution_count": 305,
   "outputs": [],
   "source": [
    "df = df_null.copy()"
   ],
   "metadata": {
    "collapsed": false
   }
  },
  {
   "cell_type": "code",
   "execution_count": 306,
   "outputs": [
    {
     "data": {
      "text/plain": "Index(['Gender', 'Married', 'Age', 'Graduat', 'Profession', 'Experience',\n       'SpendingScore', 'FamilySize'],\n      dtype='object')"
     },
     "execution_count": 306,
     "metadata": {},
     "output_type": "execute_result"
    }
   ],
   "source": [
    "df.columns"
   ],
   "metadata": {
    "collapsed": false
   }
  },
  {
   "cell_type": "code",
   "execution_count": 307,
   "outputs": [
    {
     "data": {
      "text/plain": "Married\nYes    4643\nNo     3285\nName: count, dtype: int64"
     },
     "execution_count": 307,
     "metadata": {},
     "output_type": "execute_result"
    }
   ],
   "source": [
    "df.Married.value_counts()"
   ],
   "metadata": {
    "collapsed": false
   }
  },
  {
   "cell_type": "code",
   "execution_count": 308,
   "outputs": [],
   "source": [
    "cols = ['Gender', 'Age', 'Graduat', 'Profession', 'Experience',\n",
    "        'SpendingScore', 'FamilySize']\n",
    "target = ['Married']"
   ],
   "metadata": {
    "collapsed": false
   }
  },
  {
   "cell_type": "code",
   "execution_count": 309,
   "outputs": [],
   "source": [
    "df = df[df['Married'].notna()]"
   ],
   "metadata": {
    "collapsed": false
   }
  },
  {
   "cell_type": "code",
   "execution_count": 310,
   "outputs": [
    {
     "name": "stdout",
     "output_type": "stream",
     "text": [
      "Training for RandomForest...\n",
      "0.823329359364195\n"
     ]
    },
    {
     "data": {
      "text/plain": "np.float64(0.823329359364195)"
     },
     "execution_count": 310,
     "metadata": {},
     "output_type": "execute_result"
    }
   ],
   "source": [
    "a.classification(df[cols], df[target], 'RandomForest', 250, 4)\n"
   ],
   "metadata": {
    "collapsed": false
   }
  },
  {
   "cell_type": "code",
   "execution_count": 311,
   "outputs": [
    {
     "data": {
      "text/plain": "np.float64(19.58425832492432)"
     },
     "execution_count": 311,
     "metadata": {},
     "output_type": "execute_result"
    }
   ],
   "source": [
    "df.isnull().sum().sum()/df.shape[0]*df.shape[1]"
   ],
   "metadata": {
    "collapsed": false
   }
  },
  {
   "cell_type": "code",
   "execution_count": 312,
   "outputs": [
    {
     "name": "stdout",
     "output_type": "stream",
     "text": [
      "Gender\n",
      "0.3377901109989909\n",
      "Married\n",
      "0.0\n",
      "Age\n",
      "0.3307265388496468\n",
      "Graduat\n",
      "0.34926841574167505\n",
      "Profession\n",
      "0.33690716448032293\n",
      "Experience\n",
      "0.39455095862764883\n",
      "SpendingScore\n",
      "0.34485368314833503\n",
      "FamilySize\n",
      "0.35393541876892026\n"
     ]
    }
   ],
   "source": [
    "for col in df.columns:\n",
    "    print(col)\n",
    "    print(df[col].isnull().sum()/len(df))"
   ],
   "metadata": {
    "collapsed": false
   }
  },
  {
   "cell_type": "code",
   "execution_count": 313,
   "outputs": [],
   "source": [
    "df.to_csv('dataset/people.csv',index=False)"
   ],
   "metadata": {
    "collapsed": false
   }
  },
  {
   "cell_type": "code",
   "execution_count": 313,
   "outputs": [],
   "source": [],
   "metadata": {
    "collapsed": false
   }
  },
  {
   "cell_type": "code",
   "execution_count": 313,
   "outputs": [],
   "source": [],
   "metadata": {
    "collapsed": false
   }
  },
  {
   "cell_type": "code",
   "execution_count": 313,
   "outputs": [],
   "source": [],
   "metadata": {
    "collapsed": false
   }
  },
  {
   "cell_type": "code",
   "execution_count": 314,
   "outputs": [],
   "source": [
    "df = pd.read_csv(\"dataset/people.csv\")\n",
    "name_class = 'Married'\n",
    "selected_features = ['Gender', 'Age', 'Graduat', 'Profession', 'Experience',\n",
    "        'SpendingScore', 'FamilySize', name_class]\n",
    "selected_features_only = ['Gender', 'Age', 'Graduat', 'Profession', 'Experience',\n",
    "        'SpendingScore', 'FamilySize']\n",
    "df = df[selected_features]"
   ],
   "metadata": {
    "collapsed": false
   }
  },
  {
   "cell_type": "code",
   "execution_count": 315,
   "outputs": [],
   "source": [
    "models = ['DecisionTree','LogisticRegression','KNN','RandomForest','AdaBoost','SVC']"
   ],
   "metadata": {
    "collapsed": false
   }
  },
  {
   "cell_type": "code",
   "execution_count": 325,
   "outputs": [
    {
     "name": "stdout",
     "output_type": "stream",
     "text": [
      "Training for AdaBoost...\n",
      "0.8372018954314824\n",
      "Training for AdaBoost...\n",
      "0.83083008084166\n",
      "Training for AdaBoost...\n",
      "0.8369184594357943\n",
      "Training for AdaBoost...\n",
      "0.8387265176381474\n",
      "Training for AdaBoost...\n",
      "0.8367497089110327\n"
     ]
    }
   ],
   "source": [
    "for i in [100, 150, 200, 250, 300]:\n",
    "    a.classification(df[selected_features_only], df[name_class], 'AdaBoost', i, 4)"
   ],
   "metadata": {
    "collapsed": false
   }
  },
  {
   "cell_type": "code",
   "execution_count": 327,
   "outputs": [
    {
     "name": "stdout",
     "output_type": "stream",
     "text": [
      "Training for DecisionTree...\n",
      "0.7869767219384127\n",
      "Training for LogisticRegression...\n",
      "0.8261686643272952\n",
      "Training for KNN...\n",
      "0.7984707248112525\n",
      "Training for RandomForest...\n",
      "0.8099274505380798\n",
      "Training for AdaBoost...\n",
      "0.8333983209673936\n",
      "Training for SVC...\n",
      "0.5983935875560802\n"
     ]
    }
   ],
   "source": [
    "param = {\n",
    "    'DecisionTree': 200,\n",
    "    'LogisticRegression': 1,\n",
    "    'KNN': 30,\n",
    "    'RandomForest': 250,\n",
    "    'AdaBoost': 100,\n",
    "    'SVC': 1\n",
    "}\n",
    "\n",
    "for m in models:\n",
    "    a.classification(df[selected_features_only], df[name_class], m, param[m], 4)"
   ],
   "metadata": {
    "collapsed": false
   }
  },
  {
   "cell_type": "code",
   "execution_count": null,
   "outputs": [],
   "source": [],
   "metadata": {
    "collapsed": false
   }
  }
 ],
 "metadata": {
  "kernelspec": {
   "display_name": "Python 3",
   "language": "python",
   "name": "python3"
  },
  "language_info": {
   "codemirror_mode": {
    "name": "ipython",
    "version": 2
   },
   "file_extension": ".py",
   "mimetype": "text/x-python",
   "name": "python",
   "nbconvert_exporter": "python",
   "pygments_lexer": "ipython2",
   "version": "2.7.6"
  }
 },
 "nbformat": 4,
 "nbformat_minor": 0
}
