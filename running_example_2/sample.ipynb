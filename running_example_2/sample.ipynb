{
 "cells": [
  {
   "cell_type": "code",
   "execution_count": 13,
   "metadata": {
    "collapsed": true
   },
   "outputs": [
    {
     "data": {
      "text/plain": "      Gender Married   Age Graduat  Profession  Experience SpendingScore  \\\n0        NaN      No  22.0     NaN         NaN         1.0           Low   \n1        NaN     Yes  38.0     Yes         NaN         NaN       Average   \n2        NaN     Yes   NaN     Yes    Engineer         1.0           NaN   \n3       Male     Yes   NaN     NaN      Lawyer         0.0          High   \n4        NaN     Yes   NaN     Yes         NaN         NaN          High   \n...      ...     ...   ...     ...         ...         ...           ...   \n7923    Male      No  22.0      No         NaN         NaN           Low   \n7924    Male      No  35.0     NaN   Executive         3.0           Low   \n7925  Female      No   NaN     Yes  Healthcare         NaN           Low   \n7926  Female      No  27.0     Yes         NaN         1.0           NaN   \n7927     NaN     Yes   NaN     NaN         NaN         0.0           NaN   \n\n      FamilySize  \n0            NaN  \n1            3.0  \n2            1.0  \n3            NaN  \n4            6.0  \n...          ...  \n7923         NaN  \n7924         4.0  \n7925         NaN  \n7926         4.0  \n7927         3.0  \n\n[7928 rows x 8 columns]",
      "text/html": "<div>\n<style scoped>\n    .dataframe tbody tr th:only-of-type {\n        vertical-align: middle;\n    }\n\n    .dataframe tbody tr th {\n        vertical-align: top;\n    }\n\n    .dataframe thead th {\n        text-align: right;\n    }\n</style>\n<table border=\"1\" class=\"dataframe\">\n  <thead>\n    <tr style=\"text-align: right;\">\n      <th></th>\n      <th>Gender</th>\n      <th>Married</th>\n      <th>Age</th>\n      <th>Graduat</th>\n      <th>Profession</th>\n      <th>Experience</th>\n      <th>SpendingScore</th>\n      <th>FamilySize</th>\n    </tr>\n  </thead>\n  <tbody>\n    <tr>\n      <th>0</th>\n      <td>NaN</td>\n      <td>No</td>\n      <td>22.0</td>\n      <td>NaN</td>\n      <td>NaN</td>\n      <td>1.0</td>\n      <td>Low</td>\n      <td>NaN</td>\n    </tr>\n    <tr>\n      <th>1</th>\n      <td>NaN</td>\n      <td>Yes</td>\n      <td>38.0</td>\n      <td>Yes</td>\n      <td>NaN</td>\n      <td>NaN</td>\n      <td>Average</td>\n      <td>3.0</td>\n    </tr>\n    <tr>\n      <th>2</th>\n      <td>NaN</td>\n      <td>Yes</td>\n      <td>NaN</td>\n      <td>Yes</td>\n      <td>Engineer</td>\n      <td>1.0</td>\n      <td>NaN</td>\n      <td>1.0</td>\n    </tr>\n    <tr>\n      <th>3</th>\n      <td>Male</td>\n      <td>Yes</td>\n      <td>NaN</td>\n      <td>NaN</td>\n      <td>Lawyer</td>\n      <td>0.0</td>\n      <td>High</td>\n      <td>NaN</td>\n    </tr>\n    <tr>\n      <th>4</th>\n      <td>NaN</td>\n      <td>Yes</td>\n      <td>NaN</td>\n      <td>Yes</td>\n      <td>NaN</td>\n      <td>NaN</td>\n      <td>High</td>\n      <td>6.0</td>\n    </tr>\n    <tr>\n      <th>...</th>\n      <td>...</td>\n      <td>...</td>\n      <td>...</td>\n      <td>...</td>\n      <td>...</td>\n      <td>...</td>\n      <td>...</td>\n      <td>...</td>\n    </tr>\n    <tr>\n      <th>7923</th>\n      <td>Male</td>\n      <td>No</td>\n      <td>22.0</td>\n      <td>No</td>\n      <td>NaN</td>\n      <td>NaN</td>\n      <td>Low</td>\n      <td>NaN</td>\n    </tr>\n    <tr>\n      <th>7924</th>\n      <td>Male</td>\n      <td>No</td>\n      <td>35.0</td>\n      <td>NaN</td>\n      <td>Executive</td>\n      <td>3.0</td>\n      <td>Low</td>\n      <td>4.0</td>\n    </tr>\n    <tr>\n      <th>7925</th>\n      <td>Female</td>\n      <td>No</td>\n      <td>NaN</td>\n      <td>Yes</td>\n      <td>Healthcare</td>\n      <td>NaN</td>\n      <td>Low</td>\n      <td>NaN</td>\n    </tr>\n    <tr>\n      <th>7926</th>\n      <td>Female</td>\n      <td>No</td>\n      <td>27.0</td>\n      <td>Yes</td>\n      <td>NaN</td>\n      <td>1.0</td>\n      <td>NaN</td>\n      <td>4.0</td>\n    </tr>\n    <tr>\n      <th>7927</th>\n      <td>NaN</td>\n      <td>Yes</td>\n      <td>NaN</td>\n      <td>NaN</td>\n      <td>NaN</td>\n      <td>0.0</td>\n      <td>NaN</td>\n      <td>3.0</td>\n    </tr>\n  </tbody>\n</table>\n<p>7928 rows × 8 columns</p>\n</div>"
     },
     "execution_count": 13,
     "metadata": {},
     "output_type": "execute_result"
    }
   ],
   "source": [
    "import pandas as pd\n",
    "import matplotlib.pyplot as plt\n",
    "\n",
    "df = pd.read_csv('dataset/people.csv')\n",
    "df\n"
   ]
  },
  {
   "cell_type": "code",
   "execution_count": 14,
   "outputs": [
    {
     "data": {
      "text/plain": "Gender           2678\nMarried             0\nAge              2622\nGraduat          2769\nProfession       2671\nExperience       3128\nSpendingScore    2734\nFamilySize       2806\ndtype: int64"
     },
     "execution_count": 14,
     "metadata": {},
     "output_type": "execute_result"
    }
   ],
   "source": [
    "df.isnull().sum()\n"
   ],
   "metadata": {
    "collapsed": false
   }
  },
  {
   "cell_type": "code",
   "execution_count": 15,
   "outputs": [
    {
     "data": {
      "text/plain": "np.float64(19.58425832492432)"
     },
     "execution_count": 15,
     "metadata": {},
     "output_type": "execute_result"
    }
   ],
   "source": [
    "df.isnull().sum().sum()/df.shape[0]*df.shape[1]\n"
   ],
   "metadata": {
    "collapsed": false
   }
  },
  {
   "cell_type": "code",
   "execution_count": 16,
   "outputs": [],
   "source": [
    "df_s = df.sample(n=2000)\n"
   ],
   "metadata": {
    "collapsed": false
   }
  },
  {
   "cell_type": "code",
   "execution_count": 17,
   "outputs": [
    {
     "data": {
      "text/plain": "      Gender Married   Age Graduat     Profession  Experience SpendingScore  \\\n5427    Male      No  19.0     NaN     Healthcare         NaN           Low   \n1199  Female     Yes  65.0     Yes         Lawyer         1.0           NaN   \n7191  Female     Yes  77.0     Yes            NaN         NaN          High   \n3429    Male     Yes   NaN     Yes         Artist         0.0           NaN   \n2287     NaN      No  22.0      No     Healthcare         NaN           NaN   \n...      ...     ...   ...     ...            ...         ...           ...   \n1829    Male      No  29.0     NaN     Healthcare         6.0           Low   \n157      NaN     Yes  35.0     Yes            NaN         3.0       Average   \n5354    Male      No   NaN     NaN  Entertainment         NaN           Low   \n7225  Female     Yes  39.0     NaN  Entertainment         NaN           Low   \n1987  Female     Yes  60.0     NaN         Doctor         NaN       Average   \n\n      FamilySize  \n5427         4.0  \n1199         2.0  \n7191         NaN  \n3429         NaN  \n2287         4.0  \n...          ...  \n1829         3.0  \n157          3.0  \n5354         NaN  \n7225         2.0  \n1987         2.0  \n\n[2000 rows x 8 columns]",
      "text/html": "<div>\n<style scoped>\n    .dataframe tbody tr th:only-of-type {\n        vertical-align: middle;\n    }\n\n    .dataframe tbody tr th {\n        vertical-align: top;\n    }\n\n    .dataframe thead th {\n        text-align: right;\n    }\n</style>\n<table border=\"1\" class=\"dataframe\">\n  <thead>\n    <tr style=\"text-align: right;\">\n      <th></th>\n      <th>Gender</th>\n      <th>Married</th>\n      <th>Age</th>\n      <th>Graduat</th>\n      <th>Profession</th>\n      <th>Experience</th>\n      <th>SpendingScore</th>\n      <th>FamilySize</th>\n    </tr>\n  </thead>\n  <tbody>\n    <tr>\n      <th>5427</th>\n      <td>Male</td>\n      <td>No</td>\n      <td>19.0</td>\n      <td>NaN</td>\n      <td>Healthcare</td>\n      <td>NaN</td>\n      <td>Low</td>\n      <td>4.0</td>\n    </tr>\n    <tr>\n      <th>1199</th>\n      <td>Female</td>\n      <td>Yes</td>\n      <td>65.0</td>\n      <td>Yes</td>\n      <td>Lawyer</td>\n      <td>1.0</td>\n      <td>NaN</td>\n      <td>2.0</td>\n    </tr>\n    <tr>\n      <th>7191</th>\n      <td>Female</td>\n      <td>Yes</td>\n      <td>77.0</td>\n      <td>Yes</td>\n      <td>NaN</td>\n      <td>NaN</td>\n      <td>High</td>\n      <td>NaN</td>\n    </tr>\n    <tr>\n      <th>3429</th>\n      <td>Male</td>\n      <td>Yes</td>\n      <td>NaN</td>\n      <td>Yes</td>\n      <td>Artist</td>\n      <td>0.0</td>\n      <td>NaN</td>\n      <td>NaN</td>\n    </tr>\n    <tr>\n      <th>2287</th>\n      <td>NaN</td>\n      <td>No</td>\n      <td>22.0</td>\n      <td>No</td>\n      <td>Healthcare</td>\n      <td>NaN</td>\n      <td>NaN</td>\n      <td>4.0</td>\n    </tr>\n    <tr>\n      <th>...</th>\n      <td>...</td>\n      <td>...</td>\n      <td>...</td>\n      <td>...</td>\n      <td>...</td>\n      <td>...</td>\n      <td>...</td>\n      <td>...</td>\n    </tr>\n    <tr>\n      <th>1829</th>\n      <td>Male</td>\n      <td>No</td>\n      <td>29.0</td>\n      <td>NaN</td>\n      <td>Healthcare</td>\n      <td>6.0</td>\n      <td>Low</td>\n      <td>3.0</td>\n    </tr>\n    <tr>\n      <th>157</th>\n      <td>NaN</td>\n      <td>Yes</td>\n      <td>35.0</td>\n      <td>Yes</td>\n      <td>NaN</td>\n      <td>3.0</td>\n      <td>Average</td>\n      <td>3.0</td>\n    </tr>\n    <tr>\n      <th>5354</th>\n      <td>Male</td>\n      <td>No</td>\n      <td>NaN</td>\n      <td>NaN</td>\n      <td>Entertainment</td>\n      <td>NaN</td>\n      <td>Low</td>\n      <td>NaN</td>\n    </tr>\n    <tr>\n      <th>7225</th>\n      <td>Female</td>\n      <td>Yes</td>\n      <td>39.0</td>\n      <td>NaN</td>\n      <td>Entertainment</td>\n      <td>NaN</td>\n      <td>Low</td>\n      <td>2.0</td>\n    </tr>\n    <tr>\n      <th>1987</th>\n      <td>Female</td>\n      <td>Yes</td>\n      <td>60.0</td>\n      <td>NaN</td>\n      <td>Doctor</td>\n      <td>NaN</td>\n      <td>Average</td>\n      <td>2.0</td>\n    </tr>\n  </tbody>\n</table>\n<p>2000 rows × 8 columns</p>\n</div>"
     },
     "execution_count": 17,
     "metadata": {},
     "output_type": "execute_result"
    }
   ],
   "source": [
    "df_s\n"
   ],
   "metadata": {
    "collapsed": false
   }
  },
  {
   "cell_type": "code",
   "execution_count": 18,
   "outputs": [
    {
     "data": {
      "text/plain": "Gender           690\nMarried            0\nAge              678\nGraduat          701\nProfession       707\nExperience       771\nSpendingScore    695\nFamilySize       705\ndtype: int64"
     },
     "execution_count": 18,
     "metadata": {},
     "output_type": "execute_result"
    }
   ],
   "source": [
    "df_s.isnull().sum()"
   ],
   "metadata": {
    "collapsed": false
   }
  },
  {
   "cell_type": "code",
   "execution_count": 19,
   "outputs": [
    {
     "data": {
      "text/plain": "np.float64(19.788)"
     },
     "execution_count": 19,
     "metadata": {},
     "output_type": "execute_result"
    }
   ],
   "source": [
    "df_s.isnull().sum().sum() / df_s.shape[0] * df_s.shape[1]\n"
   ],
   "metadata": {
    "collapsed": false
   }
  },
  {
   "cell_type": "code",
   "execution_count": 20,
   "outputs": [
    {
     "name": "stdout",
     "output_type": "stream",
     "text": [
      "Age\n"
     ]
    },
    {
     "data": {
      "text/plain": "<Figure size 640x480 with 1 Axes>",
      "image/png": "[encoded data removed]"
     },
     "metadata": {},
     "output_type": "display_data"
    },
    {
     "name": "stdout",
     "output_type": "stream",
     "text": [
      "Experience\n"
     ]
    },
    {
     "data": {
      "text/plain": "<Figure size 640x480 with 1 Axes>",
      "image/png": "[encoded data removed]"
     },
     "metadata": {},
     "output_type": "display_data"
    },
    {
     "name": "stdout",
     "output_type": "stream",
     "text": [
      "FamilySize\n"
     ]
    },
    {
     "data": {
      "text/plain": "<Figure size 640x480 with 1 Axes>",
      "image/png": "[encoded data removed]"
     },
     "metadata": {},
     "output_type": "display_data"
    }
   ],
   "source": [
    "NUM = list(df_s.select_dtypes(include=['int64','float64']).columns)\n",
    "for col in NUM:\n",
    "    print(col)\n",
    "    plt.boxplot(df_s[col].dropna())\n",
    "    plt.show()\n"
   ],
   "metadata": {
    "collapsed": false
   }
  },
  {
   "cell_type": "code",
   "execution_count": 21,
   "outputs": [
    {
     "name": "stdout",
     "output_type": "stream",
     "text": [
      "Training for DecisionTree...\n",
      "0.7859749101057054\n",
      "Training for LogisticRegression...\n",
      "0.8108520130520723\n",
      "Training for KNN...\n",
      "0.7942443851527763\n",
      "Training for RandomForest...\n",
      "0.8135836063627642\n",
      "Training for AdaBoost...\n",
      "0.8248121243551974\n",
      "Training for SVC...\n",
      "0.8033499643733593\n"
     ]
    }
   ],
   "source": [
    "import scripts.algorithms_class as a\n",
    "\n",
    "models = ['DecisionTree','LogisticRegression','KNN','RandomForest','AdaBoost','SVC']\n",
    "\n",
    "name_class = 'Married'\n",
    "selected_features = ['Gender', 'Age', 'Graduat', 'Profession', 'Experience',\n",
    "        'SpendingScore', 'FamilySize', name_class]\n",
    "selected_features_only = ['Gender', 'Age', 'Graduat', 'Profession', 'Experience',\n",
    "        'SpendingScore', 'FamilySize']\n",
    "df_s = df_s[selected_features]\n",
    "\n",
    "param = {\n",
    "    'DecisionTree': 200,\n",
    "    'LogisticRegression': 1,\n",
    "    'KNN': 30,\n",
    "    'RandomForest': 250,\n",
    "    'AdaBoost': 100,\n",
    "    'SVC': 1\n",
    "}\n",
    "\n",
    "for m in models:\n",
    "    a.classification(df_s[selected_features_only], df_s[name_class], m, param[m], 4)\n"
   ],
   "metadata": {
    "collapsed": false
   }
  },
  {
   "cell_type": "code",
   "execution_count": 22,
   "outputs": [],
   "source": [
    "df_s.to_csv('dataset/people.csv',index=False)\n"
   ],
   "metadata": {
    "collapsed": false
   }
  },
  {
   "cell_type": "code",
   "execution_count": null,
   "outputs": [],
   "source": [],
   "metadata": {
    "collapsed": false
   }
  }
 ],
 "metadata": {
  "kernelspec": {
   "display_name": "Python 3",
   "language": "python",
   "name": "python3"
  },
  "language_info": {
   "codemirror_mode": {
    "name": "ipython",
    "version": 2
   },
   "file_extension": ".py",
   "mimetype": "text/x-python",
   "name": "python",
   "nbconvert_exporter": "python",
   "pygments_lexer": "ipython2",
   "version": "2.7.6"
  }
 },
 "nbformat": 4,
 "nbformat_minor": 0
}
