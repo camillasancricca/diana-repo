{
 "cells": [
  {
   "cell_type": "code",
   "execution_count": 1,
   "metadata": {
    "collapsed": true
   },
   "outputs": [],
   "source": [
    "import pandas as pd"
   ]
  },
  {
   "cell_type": "code",
   "execution_count": 2,
   "outputs": [],
   "source": [
    "categorical_variables = ['Gender', 'Graduat', 'Profession', 'SpendingScore']\n",
    "numerical_variables = ['Age', 'Experience', 'FamilySize']\n",
    "selected_features = ['Gender', 'Age', 'Graduat', 'Profession', 'Experience', 'SpendingScore', 'FamilySize']\n",
    "\n",
    "imputation_techniques_num = ['impute_mean','impute_median','impute_linear_regression','impute_cmeans']\n",
    "imputation_techniques_cat = ['impute_mode','impute_logistic_regression']"
   ],
   "metadata": {
    "collapsed": false
   }
  },
  {
   "cell_type": "code",
   "execution_count": 3,
   "outputs": [
    {
     "ename": "KeyboardInterrupt",
     "evalue": "",
     "output_type": "error",
     "traceback": [
      "\u001B[0;31m---------------------------------------------------------------------------\u001B[0m",
      "\u001B[0;31mParserError\u001B[0m                               Traceback (most recent call last)",
      "File \u001B[0;32m~/PycharmProjects/validationDIANA/venv/lib/python3.11/site-packages/pandas/io/parsers/readers.py:1923\u001B[0m, in \u001B[0;36mTextFileReader.read\u001B[0;34m(self, nrows)\u001B[0m\n\u001B[1;32m   1917\u001B[0m \u001B[38;5;28;01mtry\u001B[39;00m:\n\u001B[1;32m   1918\u001B[0m     \u001B[38;5;66;03m# error: \"ParserBase\" has no attribute \"read\"\u001B[39;00m\n\u001B[1;32m   1919\u001B[0m     (\n\u001B[1;32m   1920\u001B[0m         index,\n\u001B[1;32m   1921\u001B[0m         columns,\n\u001B[1;32m   1922\u001B[0m         col_dict,\n\u001B[0;32m-> 1923\u001B[0m     ) \u001B[38;5;241m=\u001B[39m \u001B[38;5;28;43mself\u001B[39;49m\u001B[38;5;241;43m.\u001B[39;49m\u001B[43m_engine\u001B[49m\u001B[38;5;241;43m.\u001B[39;49m\u001B[43mread\u001B[49m\u001B[43m(\u001B[49m\u001B[43m  \u001B[49m\u001B[38;5;66;43;03m# type: ignore[attr-defined]\u001B[39;49;00m\n\u001B[1;32m   1924\u001B[0m \u001B[43m        \u001B[49m\u001B[43mnrows\u001B[49m\n\u001B[1;32m   1925\u001B[0m \u001B[43m    \u001B[49m\u001B[43m)\u001B[49m\n\u001B[1;32m   1926\u001B[0m \u001B[38;5;28;01mexcept\u001B[39;00m \u001B[38;5;167;01mException\u001B[39;00m:\n",
      "File \u001B[0;32m~/PycharmProjects/validationDIANA/venv/lib/python3.11/site-packages/pandas/io/parsers/c_parser_wrapper.py:234\u001B[0m, in \u001B[0;36mCParserWrapper.read\u001B[0;34m(self, nrows)\u001B[0m\n\u001B[1;32m    233\u001B[0m \u001B[38;5;28;01mif\u001B[39;00m \u001B[38;5;28mself\u001B[39m\u001B[38;5;241m.\u001B[39mlow_memory:\n\u001B[0;32m--> 234\u001B[0m     chunks \u001B[38;5;241m=\u001B[39m \u001B[38;5;28;43mself\u001B[39;49m\u001B[38;5;241;43m.\u001B[39;49m\u001B[43m_reader\u001B[49m\u001B[38;5;241;43m.\u001B[39;49m\u001B[43mread_low_memory\u001B[49m\u001B[43m(\u001B[49m\u001B[43mnrows\u001B[49m\u001B[43m)\u001B[49m\n\u001B[1;32m    235\u001B[0m     \u001B[38;5;66;03m# destructive to chunks\u001B[39;00m\n",
      "File \u001B[0;32mparsers.pyx:838\u001B[0m, in \u001B[0;36mpandas._libs.parsers.TextReader.read_low_memory\u001B[0;34m()\u001B[0m\n",
      "File \u001B[0;32mparsers.pyx:905\u001B[0m, in \u001B[0;36mpandas._libs.parsers.TextReader._read_rows\u001B[0;34m()\u001B[0m\n",
      "File \u001B[0;32mparsers.pyx:874\u001B[0m, in \u001B[0;36mpandas._libs.parsers.TextReader._tokenize_rows\u001B[0;34m()\u001B[0m\n",
      "File \u001B[0;32mparsers.pyx:891\u001B[0m, in \u001B[0;36mpandas._libs.parsers.TextReader._check_tokenize_status\u001B[0;34m()\u001B[0m\n",
      "File \u001B[0;32mparsers.pyx:2061\u001B[0m, in \u001B[0;36mpandas._libs.parsers.raise_parser_error\u001B[0;34m()\u001B[0m\n",
      "\u001B[0;31mParserError\u001B[0m: Error tokenizing data. C error: Calling read(nbytes) on source failed. Try engine='python'.",
      "\nDuring handling of the above exception, another exception occurred:\n",
      "\u001B[0;31mKeyboardInterrupt\u001B[0m                         Traceback (most recent call last)",
      "Cell \u001B[0;32mIn[3], line 1\u001B[0m\n\u001B[0;32m----> 1\u001B[0m sample \u001B[38;5;241m=\u001B[39m \u001B[43mpd\u001B[49m\u001B[38;5;241;43m.\u001B[39;49m\u001B[43mread_csv\u001B[49m\u001B[43m(\u001B[49m\u001B[38;5;124;43m'\u001B[39;49m\u001B[38;5;124;43mscripts/schedule/sample_schedule.csv\u001B[39;49m\u001B[38;5;124;43m'\u001B[39;49m\u001B[43m)\u001B[49m\n",
      "File \u001B[0;32m~/PycharmProjects/validationDIANA/venv/lib/python3.11/site-packages/pandas/io/parsers/readers.py:1026\u001B[0m, in \u001B[0;36mread_csv\u001B[0;34m(filepath_or_buffer, sep, delimiter, header, names, index_col, usecols, dtype, engine, converters, true_values, false_values, skipinitialspace, skiprows, skipfooter, nrows, na_values, keep_default_na, na_filter, verbose, skip_blank_lines, parse_dates, infer_datetime_format, keep_date_col, date_parser, date_format, dayfirst, cache_dates, iterator, chunksize, compression, thousands, decimal, lineterminator, quotechar, quoting, doublequote, escapechar, comment, encoding, encoding_errors, dialect, on_bad_lines, delim_whitespace, low_memory, memory_map, float_precision, storage_options, dtype_backend)\u001B[0m\n\u001B[1;32m   1013\u001B[0m kwds_defaults \u001B[38;5;241m=\u001B[39m _refine_defaults_read(\n\u001B[1;32m   1014\u001B[0m     dialect,\n\u001B[1;32m   1015\u001B[0m     delimiter,\n\u001B[0;32m   (...)\u001B[0m\n\u001B[1;32m   1022\u001B[0m     dtype_backend\u001B[38;5;241m=\u001B[39mdtype_backend,\n\u001B[1;32m   1023\u001B[0m )\n\u001B[1;32m   1024\u001B[0m kwds\u001B[38;5;241m.\u001B[39mupdate(kwds_defaults)\n\u001B[0;32m-> 1026\u001B[0m \u001B[38;5;28;01mreturn\u001B[39;00m \u001B[43m_read\u001B[49m\u001B[43m(\u001B[49m\u001B[43mfilepath_or_buffer\u001B[49m\u001B[43m,\u001B[49m\u001B[43m \u001B[49m\u001B[43mkwds\u001B[49m\u001B[43m)\u001B[49m\n",
      "File \u001B[0;32m~/PycharmProjects/validationDIANA/venv/lib/python3.11/site-packages/pandas/io/parsers/readers.py:626\u001B[0m, in \u001B[0;36m_read\u001B[0;34m(filepath_or_buffer, kwds)\u001B[0m\n\u001B[1;32m    623\u001B[0m     \u001B[38;5;28;01mreturn\u001B[39;00m parser\n\u001B[1;32m    625\u001B[0m \u001B[38;5;28;01mwith\u001B[39;00m parser:\n\u001B[0;32m--> 626\u001B[0m     \u001B[38;5;28;01mreturn\u001B[39;00m \u001B[43mparser\u001B[49m\u001B[38;5;241;43m.\u001B[39;49m\u001B[43mread\u001B[49m\u001B[43m(\u001B[49m\u001B[43mnrows\u001B[49m\u001B[43m)\u001B[49m\n",
      "File \u001B[0;32m~/PycharmProjects/validationDIANA/venv/lib/python3.11/site-packages/pandas/io/parsers/readers.py:1927\u001B[0m, in \u001B[0;36mTextFileReader.read\u001B[0;34m(self, nrows)\u001B[0m\n\u001B[1;32m   1919\u001B[0m     (\n\u001B[1;32m   1920\u001B[0m         index,\n\u001B[1;32m   1921\u001B[0m         columns,\n\u001B[0;32m   (...)\u001B[0m\n\u001B[1;32m   1924\u001B[0m         nrows\n\u001B[1;32m   1925\u001B[0m     )\n\u001B[1;32m   1926\u001B[0m \u001B[38;5;28;01mexcept\u001B[39;00m \u001B[38;5;167;01mException\u001B[39;00m:\n\u001B[0;32m-> 1927\u001B[0m     \u001B[38;5;28;43mself\u001B[39;49m\u001B[38;5;241;43m.\u001B[39;49m\u001B[43mclose\u001B[49m\u001B[43m(\u001B[49m\u001B[43m)\u001B[49m\n\u001B[1;32m   1928\u001B[0m     \u001B[38;5;28;01mraise\u001B[39;00m\n\u001B[1;32m   1930\u001B[0m \u001B[38;5;28;01mif\u001B[39;00m index \u001B[38;5;129;01mis\u001B[39;00m \u001B[38;5;28;01mNone\u001B[39;00m:\n",
      "File \u001B[0;32m~/PycharmProjects/validationDIANA/venv/lib/python3.11/site-packages/pandas/io/parsers/readers.py:1622\u001B[0m, in \u001B[0;36mTextFileReader.close\u001B[0;34m(self)\u001B[0m\n\u001B[1;32m   1619\u001B[0m     \u001B[38;5;28mself\u001B[39m\u001B[38;5;241m.\u001B[39mhandles: IOHandles \u001B[38;5;241m|\u001B[39m \u001B[38;5;28;01mNone\u001B[39;00m \u001B[38;5;241m=\u001B[39m \u001B[38;5;28;01mNone\u001B[39;00m\n\u001B[1;32m   1620\u001B[0m     \u001B[38;5;28mself\u001B[39m\u001B[38;5;241m.\u001B[39m_engine \u001B[38;5;241m=\u001B[39m \u001B[38;5;28mself\u001B[39m\u001B[38;5;241m.\u001B[39m_make_engine(f, \u001B[38;5;28mself\u001B[39m\u001B[38;5;241m.\u001B[39mengine)\n\u001B[0;32m-> 1622\u001B[0m \u001B[38;5;28;01mdef\u001B[39;00m \u001B[38;5;21mclose\u001B[39m(\u001B[38;5;28mself\u001B[39m) \u001B[38;5;241m-\u001B[39m\u001B[38;5;241m>\u001B[39m \u001B[38;5;28;01mNone\u001B[39;00m:\n\u001B[1;32m   1623\u001B[0m     \u001B[38;5;28;01mif\u001B[39;00m \u001B[38;5;28mself\u001B[39m\u001B[38;5;241m.\u001B[39mhandles \u001B[38;5;129;01mis\u001B[39;00m \u001B[38;5;129;01mnot\u001B[39;00m \u001B[38;5;28;01mNone\u001B[39;00m:\n\u001B[1;32m   1624\u001B[0m         \u001B[38;5;28mself\u001B[39m\u001B[38;5;241m.\u001B[39mhandles\u001B[38;5;241m.\u001B[39mclose()\n",
      "\u001B[0;31mKeyboardInterrupt\u001B[0m: "
     ]
    }
   ],
   "source": [
    "sample = pd.read_csv('scripts/schedule/sample_schedule.csv')"
   ],
   "metadata": {
    "collapsed": false
   }
  },
  {
   "cell_type": "code",
   "execution_count": null,
   "outputs": [],
   "source": [
    "sample = pd.read_csv('scripts/schedule/sample_schedule.csv')\n",
    "print('Comparing df1...')\n",
    "d = sample[((sample.imp_col_1.isin(numerical_variables))) & (sample.imp_1.isin(imputation_techniques_cat))]\n",
    "sample = sample[~sample.apply(tuple, 1).isin(d.apply(tuple, 1))]\n",
    "sample.to_csv('scripts/schedule/sample_schedule.csv', index=False)"
   ],
   "metadata": {
    "collapsed": false,
    "pycharm": {
     "is_executing": true
    }
   }
  },
  {
   "cell_type": "code",
   "execution_count": null,
   "outputs": [],
   "source": [
    "sample = pd.read_csv('scripts/schedule/sample_schedule.csv')\n",
    "print('Comparing df2...')\n",
    "d = sample[((sample.imp_col_2.isin(numerical_variables))) & (sample.imp_2.isin(imputation_techniques_cat))]\n",
    "sample = sample[~sample.apply(tuple, 1).isin(d.apply(tuple, 1))]\n",
    "sample.to_csv('scripts/schedule/sample_schedule.csv', index=False)"
   ],
   "metadata": {
    "collapsed": false
   }
  },
  {
   "cell_type": "code",
   "execution_count": null,
   "outputs": [],
   "source": [
    "sample = pd.read_csv('schedule/sample_schedule.csv')\n",
    "print('Comparing df4...')\n",
    "d = sample[((sample.imp_col_4.isin(numerical_variables))) & (sample.imp_4.isin(imputation_techniques_cat))]\n",
    "sample = sample[~sample.apply(tuple, 1).isin(d.apply(tuple, 1))]\n",
    "sample.to_csv('schedule/sample_schedule.csv', index=False)"
   ],
   "metadata": {
    "collapsed": false
   }
  },
  {
   "cell_type": "code",
   "execution_count": null,
   "outputs": [],
   "source": [
    "sample = pd.read_csv('schedule/sample_schedule.csv')\n",
    "print('Comparing df5...')\n",
    "d = sample[((sample.imp_col_5.isin(numerical_variables))) & (sample.imp_5.isin(imputation_techniques_cat))]\n",
    "sample = sample[~sample.apply(tuple, 1).isin(d.apply(tuple, 1))]\n",
    "sample.to_csv('schedule/sample_schedule.csv', index=False)"
   ],
   "metadata": {
    "collapsed": false
   }
  },
  {
   "cell_type": "code",
   "execution_count": null,
   "outputs": [],
   "source": [
    "sample = pd.read_csv('schedule/sample_schedule.csv')\n",
    "print('Comparing df6...')\n",
    "d = sample[((sample.imp_col_6.isin(numerical_variables))) & (sample.imp_6.isin(imputation_techniques_cat))]\n",
    "sample = sample[~sample.apply(tuple, 1).isin(d.apply(tuple, 1))]\n",
    "sample.to_csv('schedule/sample_schedule.csv', index=False)"
   ],
   "metadata": {
    "collapsed": false
   }
  },
  {
   "cell_type": "code",
   "execution_count": null,
   "outputs": [],
   "source": [
    "sample = pd.read_csv('schedule/sample_schedule.csv')\n",
    "print('Comparing df7...')\n",
    "d = sample[((sample.imp_col_7.isin(numerical_variables))) & (sample.imp_7.isin(imputation_techniques_cat))]\n",
    "sample = sample[~sample.apply(tuple, 1).isin(d.apply(tuple, 1))]\n",
    "sample.to_csv('schedule/sample_schedule.csv', index=False)"
   ],
   "metadata": {
    "collapsed": false
   }
  },
  {
   "cell_type": "code",
   "execution_count": null,
   "outputs": [],
   "source": [
    "sample = pd.read_csv('schedule/sample_schedule.csv')\n",
    "print('Comparing df8...')\n",
    "d = sample[((sample.imp_col_1.isin(categorical_variables))) & (sample.imp_1.isin(imputation_techniques_num))]\n",
    "sample = sample[~sample.apply(tuple, 1).isin(d.apply(tuple, 1))]\n",
    "sample.to_csv('schedule/sample_schedule.csv', index=False)"
   ],
   "metadata": {
    "collapsed": false
   }
  },
  {
   "cell_type": "code",
   "execution_count": null,
   "outputs": [],
   "source": [
    "sample = pd.read_csv('schedule/sample_schedule.csv')\n",
    "print('Comparing df9...')\n",
    "d = sample[((sample.imp_col_2.isin(categorical_variables))) & (sample.imp_2.isin(imputation_techniques_num))]\n",
    "sample = sample[~sample.apply(tuple, 1).isin(d.apply(tuple, 1))]\n",
    "sample.to_csv('schedule/sample_schedule.csv', index=False)"
   ],
   "metadata": {
    "collapsed": false
   }
  },
  {
   "cell_type": "code",
   "execution_count": null,
   "outputs": [],
   "source": [
    "sample = pd.read_csv('schedule/sample_schedule.csv')\n",
    "print('Comparing df10...')\n",
    "d = sample[((sample.imp_col_3.isin(categorical_variables))) & (sample.imp_3.isin(imputation_techniques_num))]\n",
    "sample = sample[~sample.apply(tuple, 1).isin(d.apply(tuple, 1))]\n",
    "sample.to_csv('schedule/sample_schedule.csv', index=False)"
   ],
   "metadata": {
    "collapsed": false
   }
  },
  {
   "cell_type": "code",
   "execution_count": null,
   "outputs": [],
   "source": [
    "sample = pd.read_csv('schedule/sample_schedule.csv')\n",
    "print('Comparing df11...')\n",
    "d = sample[((sample.imp_col_4.isin(categorical_variables))) & (sample.imp_4.isin(imputation_techniques_num))]\n",
    "sample = sample[~sample.apply(tuple, 1).isin(d.apply(tuple, 1))]\n",
    "sample.to_csv('schedule/sample_schedule.csv', index=False)"
   ],
   "metadata": {
    "collapsed": false
   }
  },
  {
   "cell_type": "code",
   "execution_count": null,
   "outputs": [],
   "source": [
    "sample = pd.read_csv('schedule/sample_schedule.csv')\n",
    "print('Comparing df12...')\n",
    "d = sample[((sample.imp_col_5.isin(categorical_variables))) & (sample.imp_5.isin(imputation_techniques_num))]\n",
    "sample = sample[~sample.apply(tuple, 1).isin(d.apply(tuple, 1))]\n",
    "sample.to_csv('schedule/sample_schedule.csv', index=False)"
   ],
   "metadata": {
    "collapsed": false
   }
  },
  {
   "cell_type": "code",
   "execution_count": null,
   "outputs": [],
   "source": [
    "sample = pd.read_csv('schedule/sample_schedule.csv')\n",
    "print('Comparing df13...')\n",
    "d = sample[((sample.imp_col_6.isin(categorical_variables))) & (sample.imp_6.isin(imputation_techniques_num))]\n",
    "sample = sample[~sample.apply(tuple, 1).isin(d.apply(tuple, 1))]\n",
    "sample.to_csv('schedule/sample_schedule.csv', index=False)"
   ],
   "metadata": {
    "collapsed": false
   }
  },
  {
   "cell_type": "code",
   "execution_count": null,
   "outputs": [],
   "source": [
    "sample = pd.read_csv('schedule/sample_schedule.csv')\n",
    "print('Comparing df14...')\n",
    "d = sample[((sample.imp_col_7.isin(categorical_variables))) & (sample.imp_7.isin(imputation_techniques_num))]\n",
    "sample = sample[~sample.apply(tuple, 1).isin(d.apply(tuple, 1))]\n",
    "sample.to_csv('schedule/sample_schedule.csv', index=False)"
   ],
   "metadata": {
    "collapsed": false
   }
  },
  {
   "cell_type": "code",
   "execution_count": null,
   "outputs": [],
   "source": [
    "sample = pd.read_csv('schedule/sample_schedule.csv')\n",
    "print('Comparing df3...')\n",
    "d = sample[((sample.imp_col_3.isin(numerical_variables))) & (sample.imp_3.isin(imputation_techniques_cat))]\n",
    "sample = sample[~sample.apply(tuple, 1).isin(d.apply(tuple, 1))]\n",
    "sample.to_csv('schedule/sample_schedule.csv', index=False)\n"
   ],
   "metadata": {
    "collapsed": false
   }
  }
 ],
 "metadata": {
  "kernelspec": {
   "display_name": "Python 3",
   "language": "python",
   "name": "python3"
  },
  "language_info": {
   "codemirror_mode": {
    "name": "ipython",
    "version": 2
   },
   "file_extension": ".py",
   "mimetype": "text/x-python",
   "name": "python",
   "nbconvert_exporter": "python",
   "pygments_lexer": "ipython2",
   "version": "2.7.6"
  }
 },
 "nbformat": 4,
 "nbformat_minor": 0
}
