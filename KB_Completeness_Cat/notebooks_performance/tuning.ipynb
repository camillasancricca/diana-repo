{
 "cells": [
  {
   "cell_type": "code",
   "execution_count": 7,
   "outputs": [],
   "source": [
    "import pandas as pd\n",
    "from sklearn.neighbors import KNeighborsRegressor\n",
    "from sklearn.preprocessing import StandardScaler\n",
    "import numpy as np\n",
    "from sklearn.metrics import root_mean_squared_error\n",
    "from scripts import kb\n",
    "from scripts import tt\n",
    "import warnings\n",
    "warnings.filterwarnings(\"ignore\")\n",
    "\n",
    "kb_completeness = kb.get_kb_completeness()"
   ],
   "metadata": {
    "collapsed": false
   }
  },
  {
   "cell_type": "code",
   "execution_count": 9,
   "outputs": [],
   "source": [
    "datasets = kb_completeness.name.unique()\n",
    "objects = kb_completeness.column_name.unique()\n",
    "ml_algorithms = kb_completeness.ml_algorithm.unique()\n",
    "\n",
    "columns_X = ['n_tuples', 'constancy',\n",
    "       'imbalance', 'uniqueness', 'unalikeability', 'entropy', 'density',\n",
    "       'mean_char', 'std_char', 'skewness_char', 'kurtosis_char', 'min_char',\n",
    "       'max_char', 'missing_perc']\n",
    "\n",
    "techniques = ['impute_standard', 'impute_mode',\n",
    "       'impute_random', 'impute_knn', 'impute_mice',\n",
    "       'impute_logistic_regression', 'impute_random_forest', 'impute_kproto']\n",
    "\n",
    "def training_testing_completeness(distance, k):\n",
    "    with open(\"../results/prediction_completeness.csv\", \"w\") as f1:\n",
    "        f1.write(\"dataset,model,technique,rmse\\n\")\n",
    "\n",
    "        for dataset in datasets:\n",
    "            for model in ml_algorithms:\n",
    "                for technique in techniques:\n",
    "\n",
    "                    data = kb_completeness.copy()\n",
    "\n",
    "                    df = data[(data[\"ml_algorithm\"] == model)].copy()\n",
    "\n",
    "                    train = df[df[\"name\"] != dataset]\n",
    "                    test = df[df[\"name\"] == dataset]\n",
    "\n",
    "                    X_train = train[columns_X]\n",
    "                    y_train = train[technique]\n",
    "                    X_test = test[columns_X]\n",
    "                    y_test = test[technique]\n",
    "\n",
    "                    X_test_not_scaled = X_test.reset_index(drop=True).copy()\n",
    "\n",
    "                    X_train = StandardScaler().fit_transform(X_train)\n",
    "                    X_train = np.nan_to_num(X_train)\n",
    "\n",
    "                    X_test = StandardScaler().fit_transform(X_test)\n",
    "                    X_test = np.nan_to_num(X_test)\n",
    "\n",
    "                    knn = KNeighborsRegressor(n_neighbors=k, metric=distance)\n",
    "                    knn.fit(X_train, y_train)\n",
    "\n",
    "                    y_pred = knn.predict(X_test)\n",
    "                    error = root_mean_squared_error(y_test, y_pred)\n",
    "                    #print(dataset+\": \"+str(error))\n",
    "                    f1.write(dataset + \",\" + model + \",\" + technique + \",\" + str(error) + \"\\n\")\n",
    "\n",
    "    data = pd.read_csv(\"../results/prediction_completeness.csv\")\n",
    "    print(\"Done! Final RMSE for \"+distance+\" and \"+str(k)+\" neighbours: \"+str(data.rmse.mean()))"
   ],
   "metadata": {
    "collapsed": false
   }
  },
  {
   "cell_type": "code",
   "execution_count": 10,
   "outputs": [
    {
     "name": "stdout",
     "output_type": "stream",
     "text": [
      "Done! Final RMSE for cosine and 14 neighbours: 0.28223076261854035\n",
      "Done! Final RMSE for euclidean and 14 neighbours: 0.2581437353366429\n",
      "Done! Final RMSE for manhattan and 14 neighbours: 0.24912381885348828\n"
     ]
    }
   ],
   "source": [
    "for distance in ['cosine','euclidean','manhattan']:\n",
    "    training_testing_completeness(distance, 14)"
   ],
   "metadata": {
    "collapsed": false
   }
  },
  {
   "cell_type": "code",
   "execution_count": 12,
   "outputs": [
    {
     "name": "stdout",
     "output_type": "stream",
     "text": [
      "Done! Final RMSE for manhattan and 6 neighbours: 0.2568508803924446\n",
      "Done! Final RMSE for manhattan and 8 neighbours: 0.2547787010031717\n",
      "Done! Final RMSE for manhattan and 10 neighbours: 0.2528791130492213\n",
      "Done! Final RMSE for manhattan and 12 neighbours: 0.2492238051379258\n",
      "Done! Final RMSE for manhattan and 14 neighbours: 0.24912381885348828\n",
      "Done! Final RMSE for manhattan and 16 neighbours: 0.24693435530040247\n"
     ]
    }
   ],
   "source": [
    "for k in [6,8,10,12,14,16]:\n",
    "    training_testing_completeness('manhattan', k)"
   ],
   "metadata": {
    "collapsed": false
   }
  },
  {
   "cell_type": "code",
   "execution_count": 14,
   "outputs": [
    {
     "name": "stdout",
     "output_type": "stream",
     "text": [
      "Done! Final RMSE for manhattan and 16 neighbours: 0.24693435530040247\n",
      "Done! Final RMSE for manhattan and 17 neighbours: 0.2465750529121183\n",
      "Done! Final RMSE for manhattan and 18 neighbours: 0.2456570173479543\n",
      "Done! Final RMSE for manhattan and 19 neighbours: 0.24474936752829052\n",
      "Done! Final RMSE for manhattan and 20 neighbours: 0.24436143598909366\n"
     ]
    }
   ],
   "source": [
    "for k in [16,17,18,19,20]:\n",
    "    training_testing_completeness('manhattan', k)\n"
   ],
   "metadata": {
    "collapsed": false
   }
  },
  {
   "cell_type": "code",
   "execution_count": 15,
   "outputs": [
    {
     "name": "stdout",
     "output_type": "stream",
     "text": [
      "Done! Final RMSE for manhattan and 28 neighbours: 0.24031303491138986\n",
      "Done! Final RMSE for manhattan and 30 neighbours: 0.23985426403517782\n"
     ]
    }
   ],
   "source": [
    "for k in [28,30]:\n",
    "    training_testing_completeness('manhattan', k)\n"
   ],
   "metadata": {
    "collapsed": false
   }
  },
  {
   "cell_type": "code",
   "execution_count": 16,
   "outputs": [
    {
     "name": "stdout",
     "output_type": "stream",
     "text": [
      "Done! Final RMSE for manhattan and 35 neighbours: 0.23753230560278488\n",
      "Done! Final RMSE for manhattan and 40 neighbours: 0.23515027435497998\n"
     ]
    }
   ],
   "source": [
    "for k in [35,40]:\n",
    "    training_testing_completeness('manhattan', k)\n"
   ],
   "metadata": {
    "collapsed": false
   }
  },
  {
   "cell_type": "code",
   "execution_count": 17,
   "outputs": [
    {
     "name": "stdout",
     "output_type": "stream",
     "text": [
      "Done! Final RMSE for manhattan and 29 neighbours: 0.24005730201911626\n",
      "Done! Final RMSE for manhattan and 30 neighbours: 0.23985426403517782\n",
      "Done! Final RMSE for manhattan and 31 neighbours: 0.23944081485166535\n",
      "Done! Final RMSE for manhattan and 32 neighbours: 0.23894062829128193\n",
      "Done! Final RMSE for manhattan and 33 neighbours: 0.2384035931793092\n"
     ]
    }
   ],
   "source": [
    "for k in [29,30,31,32,33]:\n",
    "    training_testing_completeness('manhattan', k)\n"
   ],
   "metadata": {
    "collapsed": false
   }
  },
  {
   "cell_type": "code",
   "execution_count": 18,
   "outputs": [
    {
     "name": "stdout",
     "output_type": "stream",
     "text": [
      "Done! Final RMSE for manhattan and 25 neighbours: 0.2419999650106256\n",
      "Done! Final RMSE for manhattan and 26 neighbours: 0.24119666278860027\n",
      "Done! Final RMSE for manhattan and 27 neighbours: 0.24098328920500114\n",
      "Done! Final RMSE for manhattan and 28 neighbours: 0.24031303491138986\n",
      "Done! Final RMSE for manhattan and 29 neighbours: 0.24005730201911626\n",
      "Done! Final RMSE for manhattan and 30 neighbours: 0.23985426403517782\n",
      "Done! Final RMSE for manhattan and 31 neighbours: 0.23944081485166535\n",
      "Done! Final RMSE for manhattan and 32 neighbours: 0.23894062829128193\n",
      "Done! Final RMSE for manhattan and 33 neighbours: 0.2384035931793092\n",
      "Done! Final RMSE for manhattan and 34 neighbours: 0.23791266516624193\n",
      "Done! Final RMSE for manhattan and 35 neighbours: 0.23753230560278488\n"
     ]
    }
   ],
   "source": [
    "for k in [25,26,27,28,29,30,31,32,33,34,35]:\n",
    "    training_testing_completeness('manhattan', k)"
   ],
   "metadata": {
    "collapsed": false
   }
  },
  {
   "cell_type": "code",
   "execution_count": 19,
   "outputs": [
    {
     "name": "stdout",
     "output_type": "stream",
     "text": [
      "Done! Final RMSE for manhattan and 35 neighbours: 0.23753230560278488\n",
      "Done! Final RMSE for manhattan and 36 neighbours: 0.2368785180316553\n",
      "Done! Final RMSE for manhattan and 37 neighbours: 0.2364316367515493\n",
      "Done! Final RMSE for manhattan and 38 neighbours: 0.2358245938286988\n",
      "Done! Final RMSE for manhattan and 39 neighbours: 0.23546993857763654\n",
      "Done! Final RMSE for manhattan and 40 neighbours: 0.23515027435497998\n"
     ]
    }
   ],
   "source": [
    "for k in [35,36,37,38,39,40]:\n",
    "    training_testing_completeness('manhattan', k)"
   ],
   "metadata": {
    "collapsed": false
   }
  },
  {
   "cell_type": "code",
   "execution_count": 20,
   "outputs": [],
   "source": [
    "### best k = 35"
   ],
   "metadata": {
    "collapsed": false
   }
  },
  {
   "cell_type": "code",
   "execution_count": 21,
   "outputs": [
    {
     "name": "stdout",
     "output_type": "stream",
     "text": [
      "Done! Final RMSE for cosine and 35 neighbours: 0.269264002667985\n",
      "Done! Final RMSE for euclidean and 35 neighbours: 0.23920020888147323\n",
      "Done! Final RMSE for manhattan and 35 neighbours: 0.23753230560278488\n"
     ]
    }
   ],
   "source": [
    "for distance in ['cosine','euclidean','manhattan']:\n",
    "    training_testing_completeness(distance, 35)\n"
   ],
   "metadata": {
    "collapsed": false
   }
  },
  {
   "cell_type": "code",
   "execution_count": 22,
   "outputs": [],
   "source": [
    "### best distance is cosine\n"
   ],
   "metadata": {
    "collapsed": false
   }
  },
  {
   "cell_type": "code",
   "execution_count": null,
   "outputs": [],
   "source": [],
   "metadata": {
    "collapsed": false
   }
  }
 ],
 "metadata": {
  "kernelspec": {
   "display_name": "Python 3",
   "language": "python",
   "name": "python3"
  },
  "language_info": {
   "codemirror_mode": {
    "name": "ipython",
    "version": 2
   },
   "file_extension": ".py",
   "mimetype": "text/x-python",
   "name": "python",
   "nbconvert_exporter": "python",
   "pygments_lexer": "ipython2",
   "version": "2.7.6"
  }
 },
 "nbformat": 4,
 "nbformat_minor": 0
}
