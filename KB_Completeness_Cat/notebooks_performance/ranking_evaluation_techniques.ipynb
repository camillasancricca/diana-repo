{
 "cells": [
  {
   "cell_type": "code",
   "execution_count": 1,
   "outputs": [],
   "source": [
    "import pandas as pd\n",
    "from scripts import tt\n",
    "from scripts import kb\n",
    "import numpy as np\n",
    "import warnings\n",
    "warnings.filterwarnings(\"ignore\")"
   ],
   "metadata": {
    "collapsed": false
   }
  },
  {
   "cell_type": "code",
   "execution_count": 2,
   "outputs": [
    {
     "data": {
      "text/plain": "                  name column_name  n_tuples  missing_perc  constancy  \\\n0              abalone         Sex    4177.0      0.500287     0.3663   \n1              abalone         Sex    4177.0      0.500287     0.3663   \n2              abalone         Sex    4177.0      0.500287     0.3663   \n3              abalone         Sex    4177.0      0.500287     0.3663   \n4              abalone         Sex    4177.0      0.500287     0.3663   \n...                ...         ...       ...           ...        ...   \n2095  visualizing_soil        isns    8641.0      0.050862     0.7594   \n2096  visualizing_soil        isns    8641.0      0.050862     0.7594   \n2097  visualizing_soil        isns    8641.0      0.050862     0.7594   \n2098  visualizing_soil        isns    8641.0      0.050862     0.7594   \n2099  visualizing_soil        isns    8641.0      0.050862     0.7594   \n\n      imbalance  uniqueness  unalikeability   entropy    density  ...  \\\n0      1.197025    0.001425        0.664975  1.095625   2.161625  ...   \n1      1.197025    0.001425        0.664975  1.095625   2.161625  ...   \n2      1.197025    0.001425        0.664975  1.095625   2.161625  ...   \n3      1.197025    0.001425        0.664975  1.095625   2.161625  ...   \n4      1.197025    0.001425        0.664975  1.095625   2.161625  ...   \n...         ...         ...             ...       ...        ...  ...   \n2095   3.156188    0.000200        0.365475  0.551775  28.338088  ...   \n2096   3.156188    0.000200        0.365475  0.551775  28.338088  ...   \n2097   3.156188    0.000200        0.365475  0.551775  28.338088  ...   \n2098   3.156188    0.000200        0.365475  0.551775  28.338088  ...   \n2099   3.156188    0.000200        0.365475  0.551775  28.338088  ...   \n\n      max_char        ml_algorithm  impute_standard  impute_mode  \\\n0          1.0        DecisionTree         0.209951     0.210912   \n1          1.0  LogisticRegression         0.220032     0.216956   \n2          1.0                 KNN         0.193871     0.193707   \n3          1.0        RandomForest         0.216502     0.217733   \n4          1.0            AdaBoost         0.098650     0.098650   \n...        ...                 ...              ...          ...   \n2095       1.0  LogisticRegression         0.984639     0.979579   \n2096       1.0                 KNN         0.986839     0.989026   \n2097       1.0        RandomForest         0.994026     0.993448   \n2098       1.0            AdaBoost         0.996229     0.993327   \n2099       1.0                 SVC         0.941822     0.836314   \n\n      impute_random  impute_knn impute_mice  impute_logistic_regression  \\\n0          0.210582    0.210045    0.209968                    0.211534   \n1          0.217551    0.219758    0.219789                    0.225123   \n2          0.193955    0.191448    0.191404                    0.196984   \n3          0.217094    0.215796    0.215641                    0.219776   \n4          0.098650    0.098650    0.098650                    0.098650   \n...             ...         ...         ...                         ...   \n2095       0.975251    0.992765    0.992801                    0.979579   \n2096       0.985875    0.992720    0.992756                    0.989026   \n2097       0.989696    0.996963    0.997023                    0.993544   \n2098       0.990155    0.996686    0.996722                    0.993327   \n2099       0.854400    0.963295    0.962665                    0.836314   \n\n      impute_random_forest  impute_kproto  \n0                 0.211246       0.210942  \n1                 0.223463       0.216956  \n2                 0.193604       0.193707  \n3                 0.220286       0.218503  \n4                 0.098650       0.098650  \n...                    ...            ...  \n2095              0.998047       0.979579  \n2096              0.995131       0.989026  \n2097              0.999434       0.993484  \n2098              0.999265       0.993327  \n2099              0.974234       0.836314  \n\n[2100 rows x 25 columns]",
      "text/html": "<div>\n<style scoped>\n    .dataframe tbody tr th:only-of-type {\n        vertical-align: middle;\n    }\n\n    .dataframe tbody tr th {\n        vertical-align: top;\n    }\n\n    .dataframe thead th {\n        text-align: right;\n    }\n</style>\n<table border=\"1\" class=\"dataframe\">\n  <thead>\n    <tr style=\"text-align: right;\">\n      <th></th>\n      <th>name</th>\n      <th>column_name</th>\n      <th>n_tuples</th>\n      <th>missing_perc</th>\n      <th>constancy</th>\n      <th>imbalance</th>\n      <th>uniqueness</th>\n      <th>unalikeability</th>\n      <th>entropy</th>\n      <th>density</th>\n      <th>...</th>\n      <th>max_char</th>\n      <th>ml_algorithm</th>\n      <th>impute_standard</th>\n      <th>impute_mode</th>\n      <th>impute_random</th>\n      <th>impute_knn</th>\n      <th>impute_mice</th>\n      <th>impute_logistic_regression</th>\n      <th>impute_random_forest</th>\n      <th>impute_kproto</th>\n    </tr>\n  </thead>\n  <tbody>\n    <tr>\n      <th>0</th>\n      <td>abalone</td>\n      <td>Sex</td>\n      <td>4177.0</td>\n      <td>0.500287</td>\n      <td>0.3663</td>\n      <td>1.197025</td>\n      <td>0.001425</td>\n      <td>0.664975</td>\n      <td>1.095625</td>\n      <td>2.161625</td>\n      <td>...</td>\n      <td>1.0</td>\n      <td>DecisionTree</td>\n      <td>0.209951</td>\n      <td>0.210912</td>\n      <td>0.210582</td>\n      <td>0.210045</td>\n      <td>0.209968</td>\n      <td>0.211534</td>\n      <td>0.211246</td>\n      <td>0.210942</td>\n    </tr>\n    <tr>\n      <th>1</th>\n      <td>abalone</td>\n      <td>Sex</td>\n      <td>4177.0</td>\n      <td>0.500287</td>\n      <td>0.3663</td>\n      <td>1.197025</td>\n      <td>0.001425</td>\n      <td>0.664975</td>\n      <td>1.095625</td>\n      <td>2.161625</td>\n      <td>...</td>\n      <td>1.0</td>\n      <td>LogisticRegression</td>\n      <td>0.220032</td>\n      <td>0.216956</td>\n      <td>0.217551</td>\n      <td>0.219758</td>\n      <td>0.219789</td>\n      <td>0.225123</td>\n      <td>0.223463</td>\n      <td>0.216956</td>\n    </tr>\n    <tr>\n      <th>2</th>\n      <td>abalone</td>\n      <td>Sex</td>\n      <td>4177.0</td>\n      <td>0.500287</td>\n      <td>0.3663</td>\n      <td>1.197025</td>\n      <td>0.001425</td>\n      <td>0.664975</td>\n      <td>1.095625</td>\n      <td>2.161625</td>\n      <td>...</td>\n      <td>1.0</td>\n      <td>KNN</td>\n      <td>0.193871</td>\n      <td>0.193707</td>\n      <td>0.193955</td>\n      <td>0.191448</td>\n      <td>0.191404</td>\n      <td>0.196984</td>\n      <td>0.193604</td>\n      <td>0.193707</td>\n    </tr>\n    <tr>\n      <th>3</th>\n      <td>abalone</td>\n      <td>Sex</td>\n      <td>4177.0</td>\n      <td>0.500287</td>\n      <td>0.3663</td>\n      <td>1.197025</td>\n      <td>0.001425</td>\n      <td>0.664975</td>\n      <td>1.095625</td>\n      <td>2.161625</td>\n      <td>...</td>\n      <td>1.0</td>\n      <td>RandomForest</td>\n      <td>0.216502</td>\n      <td>0.217733</td>\n      <td>0.217094</td>\n      <td>0.215796</td>\n      <td>0.215641</td>\n      <td>0.219776</td>\n      <td>0.220286</td>\n      <td>0.218503</td>\n    </tr>\n    <tr>\n      <th>4</th>\n      <td>abalone</td>\n      <td>Sex</td>\n      <td>4177.0</td>\n      <td>0.500287</td>\n      <td>0.3663</td>\n      <td>1.197025</td>\n      <td>0.001425</td>\n      <td>0.664975</td>\n      <td>1.095625</td>\n      <td>2.161625</td>\n      <td>...</td>\n      <td>1.0</td>\n      <td>AdaBoost</td>\n      <td>0.098650</td>\n      <td>0.098650</td>\n      <td>0.098650</td>\n      <td>0.098650</td>\n      <td>0.098650</td>\n      <td>0.098650</td>\n      <td>0.098650</td>\n      <td>0.098650</td>\n    </tr>\n    <tr>\n      <th>...</th>\n      <td>...</td>\n      <td>...</td>\n      <td>...</td>\n      <td>...</td>\n      <td>...</td>\n      <td>...</td>\n      <td>...</td>\n      <td>...</td>\n      <td>...</td>\n      <td>...</td>\n      <td>...</td>\n      <td>...</td>\n      <td>...</td>\n      <td>...</td>\n      <td>...</td>\n      <td>...</td>\n      <td>...</td>\n      <td>...</td>\n      <td>...</td>\n      <td>...</td>\n      <td>...</td>\n    </tr>\n    <tr>\n      <th>2095</th>\n      <td>visualizing_soil</td>\n      <td>isns</td>\n      <td>8641.0</td>\n      <td>0.050862</td>\n      <td>0.7594</td>\n      <td>3.156188</td>\n      <td>0.000200</td>\n      <td>0.365475</td>\n      <td>0.551775</td>\n      <td>28.338088</td>\n      <td>...</td>\n      <td>1.0</td>\n      <td>LogisticRegression</td>\n      <td>0.984639</td>\n      <td>0.979579</td>\n      <td>0.975251</td>\n      <td>0.992765</td>\n      <td>0.992801</td>\n      <td>0.979579</td>\n      <td>0.998047</td>\n      <td>0.979579</td>\n    </tr>\n    <tr>\n      <th>2096</th>\n      <td>visualizing_soil</td>\n      <td>isns</td>\n      <td>8641.0</td>\n      <td>0.050862</td>\n      <td>0.7594</td>\n      <td>3.156188</td>\n      <td>0.000200</td>\n      <td>0.365475</td>\n      <td>0.551775</td>\n      <td>28.338088</td>\n      <td>...</td>\n      <td>1.0</td>\n      <td>KNN</td>\n      <td>0.986839</td>\n      <td>0.989026</td>\n      <td>0.985875</td>\n      <td>0.992720</td>\n      <td>0.992756</td>\n      <td>0.989026</td>\n      <td>0.995131</td>\n      <td>0.989026</td>\n    </tr>\n    <tr>\n      <th>2097</th>\n      <td>visualizing_soil</td>\n      <td>isns</td>\n      <td>8641.0</td>\n      <td>0.050862</td>\n      <td>0.7594</td>\n      <td>3.156188</td>\n      <td>0.000200</td>\n      <td>0.365475</td>\n      <td>0.551775</td>\n      <td>28.338088</td>\n      <td>...</td>\n      <td>1.0</td>\n      <td>RandomForest</td>\n      <td>0.994026</td>\n      <td>0.993448</td>\n      <td>0.989696</td>\n      <td>0.996963</td>\n      <td>0.997023</td>\n      <td>0.993544</td>\n      <td>0.999434</td>\n      <td>0.993484</td>\n    </tr>\n    <tr>\n      <th>2098</th>\n      <td>visualizing_soil</td>\n      <td>isns</td>\n      <td>8641.0</td>\n      <td>0.050862</td>\n      <td>0.7594</td>\n      <td>3.156188</td>\n      <td>0.000200</td>\n      <td>0.365475</td>\n      <td>0.551775</td>\n      <td>28.338088</td>\n      <td>...</td>\n      <td>1.0</td>\n      <td>AdaBoost</td>\n      <td>0.996229</td>\n      <td>0.993327</td>\n      <td>0.990155</td>\n      <td>0.996686</td>\n      <td>0.996722</td>\n      <td>0.993327</td>\n      <td>0.999265</td>\n      <td>0.993327</td>\n    </tr>\n    <tr>\n      <th>2099</th>\n      <td>visualizing_soil</td>\n      <td>isns</td>\n      <td>8641.0</td>\n      <td>0.050862</td>\n      <td>0.7594</td>\n      <td>3.156188</td>\n      <td>0.000200</td>\n      <td>0.365475</td>\n      <td>0.551775</td>\n      <td>28.338088</td>\n      <td>...</td>\n      <td>1.0</td>\n      <td>SVC</td>\n      <td>0.941822</td>\n      <td>0.836314</td>\n      <td>0.854400</td>\n      <td>0.963295</td>\n      <td>0.962665</td>\n      <td>0.836314</td>\n      <td>0.974234</td>\n      <td>0.836314</td>\n    </tr>\n  </tbody>\n</table>\n<p>2100 rows × 25 columns</p>\n</div>"
     },
     "execution_count": 2,
     "metadata": {},
     "output_type": "execute_result"
    }
   ],
   "source": [
    "kb_completeness = kb.get_kb_completeness()\n",
    "kb_completeness"
   ],
   "metadata": {
    "collapsed": false
   }
  },
  {
   "cell_type": "code",
   "execution_count": 3,
   "outputs": [],
   "source": [
    "techniques = ['impute_standard', 'impute_mode',\n",
    "       'impute_random', 'impute_knn', 'impute_mice',\n",
    "       'impute_logistic_regression', 'impute_random_forest', 'impute_kproto']\n"
   ],
   "metadata": {
    "collapsed": false
   }
  },
  {
   "cell_type": "code",
   "execution_count": 4,
   "outputs": [
    {
     "data": {
      "text/plain": "       impute_standard  impute_mode  impute_random   impute_knn  impute_mice  \\\ncount      2100.000000  2100.000000    2100.000000  2100.000000  2100.000000   \nmean          0.707625     0.704346       0.699892     0.705349     0.705368   \nstd           0.233166     0.235296       0.235708     0.238141     0.238098   \nmin           0.024805     0.024805       0.025169     0.026549     0.026549   \n25%           0.612431     0.603767       0.605621     0.598769     0.599187   \n50%           0.766175     0.763805       0.763688     0.766175     0.766016   \n75%           0.895929     0.903246       0.883394     0.924916     0.924414   \nmax           0.997412     0.998265       0.997834     0.998261     0.999129   \n\n       impute_logistic_regression  impute_random_forest  impute_kproto  \ncount                 2100.000000           2100.000000    2100.000000  \nmean                     0.704717              0.706140       0.704180  \nstd                      0.236770              0.239588       0.235276  \nmin                      0.024561              0.025155       0.024805  \n25%                      0.600227              0.600212       0.602664  \n50%                      0.763802              0.766175       0.763514  \n75%                      0.921857              0.929846       0.903246  \nmax                      0.998696              0.999434       0.997824  ",
      "text/html": "<div>\n<style scoped>\n    .dataframe tbody tr th:only-of-type {\n        vertical-align: middle;\n    }\n\n    .dataframe tbody tr th {\n        vertical-align: top;\n    }\n\n    .dataframe thead th {\n        text-align: right;\n    }\n</style>\n<table border=\"1\" class=\"dataframe\">\n  <thead>\n    <tr style=\"text-align: right;\">\n      <th></th>\n      <th>impute_standard</th>\n      <th>impute_mode</th>\n      <th>impute_random</th>\n      <th>impute_knn</th>\n      <th>impute_mice</th>\n      <th>impute_logistic_regression</th>\n      <th>impute_random_forest</th>\n      <th>impute_kproto</th>\n    </tr>\n  </thead>\n  <tbody>\n    <tr>\n      <th>count</th>\n      <td>2100.000000</td>\n      <td>2100.000000</td>\n      <td>2100.000000</td>\n      <td>2100.000000</td>\n      <td>2100.000000</td>\n      <td>2100.000000</td>\n      <td>2100.000000</td>\n      <td>2100.000000</td>\n    </tr>\n    <tr>\n      <th>mean</th>\n      <td>0.707625</td>\n      <td>0.704346</td>\n      <td>0.699892</td>\n      <td>0.705349</td>\n      <td>0.705368</td>\n      <td>0.704717</td>\n      <td>0.706140</td>\n      <td>0.704180</td>\n    </tr>\n    <tr>\n      <th>std</th>\n      <td>0.233166</td>\n      <td>0.235296</td>\n      <td>0.235708</td>\n      <td>0.238141</td>\n      <td>0.238098</td>\n      <td>0.236770</td>\n      <td>0.239588</td>\n      <td>0.235276</td>\n    </tr>\n    <tr>\n      <th>min</th>\n      <td>0.024805</td>\n      <td>0.024805</td>\n      <td>0.025169</td>\n      <td>0.026549</td>\n      <td>0.026549</td>\n      <td>0.024561</td>\n      <td>0.025155</td>\n      <td>0.024805</td>\n    </tr>\n    <tr>\n      <th>25%</th>\n      <td>0.612431</td>\n      <td>0.603767</td>\n      <td>0.605621</td>\n      <td>0.598769</td>\n      <td>0.599187</td>\n      <td>0.600227</td>\n      <td>0.600212</td>\n      <td>0.602664</td>\n    </tr>\n    <tr>\n      <th>50%</th>\n      <td>0.766175</td>\n      <td>0.763805</td>\n      <td>0.763688</td>\n      <td>0.766175</td>\n      <td>0.766016</td>\n      <td>0.763802</td>\n      <td>0.766175</td>\n      <td>0.763514</td>\n    </tr>\n    <tr>\n      <th>75%</th>\n      <td>0.895929</td>\n      <td>0.903246</td>\n      <td>0.883394</td>\n      <td>0.924916</td>\n      <td>0.924414</td>\n      <td>0.921857</td>\n      <td>0.929846</td>\n      <td>0.903246</td>\n    </tr>\n    <tr>\n      <th>max</th>\n      <td>0.997412</td>\n      <td>0.998265</td>\n      <td>0.997834</td>\n      <td>0.998261</td>\n      <td>0.999129</td>\n      <td>0.998696</td>\n      <td>0.999434</td>\n      <td>0.997824</td>\n    </tr>\n  </tbody>\n</table>\n</div>"
     },
     "execution_count": 4,
     "metadata": {},
     "output_type": "execute_result"
    }
   ],
   "source": [
    "kb_completeness[techniques].describe()"
   ],
   "metadata": {
    "collapsed": false
   }
  },
  {
   "cell_type": "code",
   "execution_count": 5,
   "outputs": [],
   "source": [
    "### differenze di performance\n",
    "\n",
    "### differenza di impatto con varianza 0.2 (20%)\n",
    "### è da provare sia kb_performance sia kb_impact"
   ],
   "metadata": {
    "collapsed": false
   }
  },
  {
   "cell_type": "code",
   "execution_count": 6,
   "outputs": [
    {
     "name": "stdout",
     "output_type": "stream",
     "text": [
      "abalone: 0.6064970740027004\n",
      "abalone: 0.5975662346477485\n",
      "abalone: 0.5951309458884462\n",
      "abalone: 0.5939937722906682\n",
      "abalone: 0.5943072575757179\n",
      "abalone: 0.5959981545377766\n",
      "abalone: 0.5962083519924771\n",
      "abalone: 0.5975202962701844\n",
      "abalone: 0.5806830399211668\n",
      "abalone: 0.5757796881229355\n",
      "abalone: 0.5753647488400859\n",
      "abalone: 0.574765256319619\n",
      "abalone: 0.5748807234527852\n",
      "abalone: 0.573387108001269\n",
      "abalone: 0.5766587855933559\n",
      "abalone: 0.5754024476136089\n",
      "abalone: 0.5369488337979986\n",
      "abalone: 0.546368657884697\n",
      "abalone: 0.5470638482208509\n",
      "abalone: 0.5496086931419255\n",
      "abalone: 0.549398710544601\n",
      "abalone: 0.5486357919166036\n",
      "abalone: 0.5497167795860358\n",
      "abalone: 0.5468289260561932\n",
      "abalone: 0.6009624713291987\n",
      "abalone: 0.5935572392958033\n",
      "abalone: 0.5953760153839542\n",
      "abalone: 0.5915018567326422\n",
      "abalone: 0.5914460080575975\n",
      "abalone: 0.5924002644933347\n",
      "abalone: 0.5923943131338986\n",
      "abalone: 0.5929891146284734\n",
      "abalone: 0.6510324541564362\n",
      "abalone: 0.6487539274972374\n",
      "abalone: 0.6479558862564517\n",
      "abalone: 0.647084246768488\n",
      "abalone: 0.6474742137268672\n",
      "abalone: 0.6487281158319238\n",
      "abalone: 0.6490532153274393\n",
      "abalone: 0.6498824814132513\n",
      "abalone: 0.5258248128917252\n",
      "abalone: 0.5193565688982515\n",
      "abalone: 0.49437012082038145\n",
      "abalone: 0.49672713116304695\n",
      "abalone: 0.4961917381473119\n",
      "abalone: 0.5037028543509314\n",
      "abalone: 0.5047751261897033\n",
      "abalone: 0.512383196868586\n",
      "BachChoralHarmony: 0.41595304315815357\n",
      "BachChoralHarmony: 0.4106025002030994\n",
      "BachChoralHarmony: 0.4185751453037082\n",
      "BachChoralHarmony: 0.4170714524905986\n",
      "BachChoralHarmony: 0.4173229750812923\n",
      "BachChoralHarmony: 0.40800400461300446\n",
      "BachChoralHarmony: 0.42303107061163003\n",
      "BachChoralHarmony: 0.4104606157511662\n",
      "BachChoralHarmony: 0.33322034896908853\n",
      "BachChoralHarmony: 0.3297229519833554\n",
      "BachChoralHarmony: 0.3367232138070062\n",
      "BachChoralHarmony: 0.33959749200276185\n",
      "BachChoralHarmony: 0.33980902295173787\n",
      "BachChoralHarmony: 0.33321206858087116\n",
      "BachChoralHarmony: 0.3468467460430958\n",
      "BachChoralHarmony: 0.32943232843798526\n",
      "BachChoralHarmony: 0.36286590709322997\n",
      "BachChoralHarmony: 0.3631735289492252\n",
      "BachChoralHarmony: 0.3714581537419918\n",
      "BachChoralHarmony: 0.37245787667902525\n",
      "BachChoralHarmony: 0.37244867261560155\n",
      "BachChoralHarmony: 0.368406542847959\n",
      "BachChoralHarmony: 0.37504333794105144\n",
      "BachChoralHarmony: 0.36345820463219697\n",
      "BachChoralHarmony: 0.3732675094526493\n",
      "BachChoralHarmony: 0.3700133881539397\n",
      "BachChoralHarmony: 0.3790363895233663\n",
      "BachChoralHarmony: 0.38188840374523214\n",
      "BachChoralHarmony: 0.3818588330175756\n",
      "BachChoralHarmony: 0.37398065584709883\n",
      "BachChoralHarmony: 0.3875790371251704\n",
      "BachChoralHarmony: 0.370057453058197\n",
      "BachChoralHarmony: 0.7128307475597965\n",
      "BachChoralHarmony: 0.7161326964955533\n",
      "BachChoralHarmony: 0.7116048027951746\n",
      "BachChoralHarmony: 0.7063856043920044\n",
      "BachChoralHarmony: 0.7075150418384936\n",
      "BachChoralHarmony: 0.7061449091346399\n",
      "BachChoralHarmony: 0.7063689941659937\n",
      "BachChoralHarmony: 0.7126253109168011\n",
      "BachChoralHarmony: 0.19045044361070212\n",
      "BachChoralHarmony: 0.16657549762745574\n",
      "BachChoralHarmony: 0.17699157168186955\n",
      "BachChoralHarmony: 0.20100747094211777\n",
      "BachChoralHarmony: 0.20181306775792449\n",
      "BachChoralHarmony: 0.16240206762506262\n",
      "BachChoralHarmony: 0.2113450177857719\n",
      "BachChoralHarmony: 0.16617486727138361\n",
      "bank: 0.20872044475884666\n",
      "bank: 0.21144110752644094\n",
      "bank: 0.2140962369721859\n",
      "bank: 0.212751816603676\n",
      "bank: 0.21268749534962259\n",
      "bank: 0.2092824369160298\n",
      "bank: 0.2110445801229745\n",
      "bank: 0.21122858159834593\n",
      "bank: 0.19205004082110794\n",
      "bank: 0.19667624600761227\n",
      "bank: 0.19966208720934286\n",
      "bank: 0.199128754255963\n",
      "bank: 0.19912703396227727\n",
      "bank: 0.19761413717173573\n",
      "bank: 0.19805937024523637\n",
      "bank: 0.19672254818834073\n",
      "bank: 0.20170766812765425\n",
      "bank: 0.20192846428115466\n",
      "bank: 0.2068356488268715\n",
      "bank: 0.2027608190628989\n",
      "bank: 0.2027401084764844\n",
      "bank: 0.20123185356107975\n",
      "bank: 0.20082363045616702\n",
      "bank: 0.20191195716056845\n",
      "bank: 0.18748884761105808\n",
      "bank: 0.19007030363259442\n",
      "bank: 0.19250937636845109\n",
      "bank: 0.19194037576631076\n",
      "bank: 0.1921918733179091\n",
      "bank: 0.19043639214915015\n",
      "bank: 0.19209287254304\n",
      "bank: 0.18983023067307706\n",
      "bank: 0.2967268797162161\n",
      "bank: 0.29714239573897205\n",
      "bank: 0.29981918966081694\n",
      "bank: 0.2990994915554781\n",
      "bank: 0.2984587409006939\n",
      "bank: 0.29821976744868955\n",
      "bank: 0.2987573714605999\n",
      "bank: 0.2977621065610579\n",
      "bank: 0.18142068461416214\n",
      "bank: 0.18831155053940002\n",
      "bank: 0.19975986392687958\n",
      "bank: 0.18133234463704798\n",
      "bank: 0.1813635762375788\n",
      "bank: 0.18065538555836677\n",
      "bank: 0.1799091484012225\n",
      "bank: 0.18734027362631628\n",
      "car: 0.13966694076556554\n",
      "car: 0.14053399038378056\n",
      "car: 0.1420374285102421\n",
      "car: 0.14238374862089034\n",
      "car: 0.14235481271200484\n",
      "car: 0.14038897765874203\n",
      "car: 0.14183455053996644\n",
      "car: 0.1406126074239763\n",
      "car: 0.12878561514949793\n",
      "car: 0.13250432882244406\n",
      "car: 0.13373045289929497\n",
      "car: 0.13537979735186384\n",
      "car: 0.13594643784618374\n",
      "car: 0.13345569954086323\n",
      "car: 0.13593500589264734\n",
      "car: 0.133085893833254\n",
      "car: 0.12897057929315284\n",
      "car: 0.12607332992653794\n",
      "car: 0.12883605292001865\n",
      "car: 0.12934388075751288\n",
      "car: 0.12955383038790716\n",
      "car: 0.12895637857364622\n",
      "car: 0.12830132811912243\n",
      "car: 0.12684943948130625\n",
      "car: 0.13116189306923412\n",
      "car: 0.1332903708121959\n",
      "car: 0.13540464014578057\n",
      "car: 0.1357121659669809\n",
      "car: 0.13639644504868315\n",
      "car: 0.13481748758106327\n",
      "car: 0.1359697025552632\n",
      "car: 0.13341575540610848\n",
      "car: 0.13421589782620053\n",
      "car: 0.14011739007661353\n",
      "car: 0.1370854481698975\n",
      "car: 0.1351075454140956\n",
      "car: 0.13617891206427749\n",
      "car: 0.1359960632287237\n",
      "car: 0.1379693917295644\n",
      "car: 0.1384322856961054\n",
      "car: 0.15273984650240666\n",
      "car: 0.15547125917183277\n",
      "car: 0.18824728690483203\n",
      "car: 0.19043545969547684\n",
      "car: 0.19655850666433183\n",
      "car: 0.19697459372457787\n",
      "car: 0.21610671425840125\n",
      "car: 0.1715899354040025\n",
      "drug: 0.19657223208917415\n",
      "drug: 0.19605064292358945\n",
      "drug: 0.20018629578903363\n",
      "drug: 0.19520321699506735\n",
      "drug: 0.19475591068090656\n",
      "drug: 0.195256336990678\n",
      "drug: 0.1930350647697677\n",
      "drug: 0.19583695628200967\n",
      "drug: 0.1612032543146999\n",
      "drug: 0.16947760876344928\n",
      "drug: 0.17504338974266234\n",
      "drug: 0.1658606438631773\n",
      "drug: 0.16540972638514756\n",
      "drug: 0.16867275204149548\n",
      "drug: 0.16164819879454898\n",
      "drug: 0.1694510064083691\n",
      "drug: 0.13123840596817604\n",
      "drug: 0.11601088670160661\n",
      "drug: 0.10171428761302058\n",
      "drug: 0.1263099910550435\n",
      "drug: 0.12604220626330997\n",
      "drug: 0.12056516297866039\n",
      "drug: 0.1172694696342194\n",
      "drug: 0.1160860992507211\n",
      "drug: 0.18865289171584593\n",
      "drug: 0.18835275345973868\n",
      "drug: 0.1941979087003442\n",
      "drug: 0.18697517670396188\n",
      "drug: 0.18714520880637073\n",
      "drug: 0.18767308357983262\n",
      "drug: 0.18601217972879272\n",
      "drug: 0.1878808205993552\n",
      "drug: 0.07557815911491549\n",
      "drug: 0.0788334432107116\n",
      "drug: 0.07914876452877362\n",
      "drug: 0.0793818564188762\n",
      "drug: 0.07967353982235675\n",
      "drug: 0.08123855760196508\n",
      "drug: 0.0793207251881989\n",
      "drug: 0.08011718246794212\n",
      "drug: 0.20109487912574195\n",
      "drug: 0.23943332956910185\n",
      "drug: 0.24070594451273924\n",
      "drug: 0.20895797616552308\n",
      "drug: 0.20921350337272382\n",
      "drug: 0.24068412792214994\n",
      "drug: 0.19767811873187915\n",
      "drug: 0.23848065063956503\n",
      "electricity-normalized: 0.05005839559279596\n",
      "electricity-normalized: 0.044759581747316264\n",
      "electricity-normalized: 0.04518882993893137\n",
      "electricity-normalized: 0.04318981849515314\n",
      "electricity-normalized: 0.04329146211983125\n",
      "electricity-normalized: 0.04427880320662848\n",
      "electricity-normalized: 0.04476953648208179\n",
      "electricity-normalized: 0.04470738713139762\n",
      "electricity-normalized: 0.052475119238472076\n",
      "electricity-normalized: 0.04753627145862895\n",
      "electricity-normalized: 0.04886997260773831\n",
      "electricity-normalized: 0.04819384830937958\n",
      "electricity-normalized: 0.048284827166132735\n",
      "electricity-normalized: 0.048119261817558476\n",
      "electricity-normalized: 0.05054278738064459\n",
      "electricity-normalized: 0.04721341204871542\n",
      "electricity-normalized: 0.04977175750509548\n",
      "electricity-normalized: 0.04474393845334611\n",
      "electricity-normalized: 0.04412338737114472\n",
      "electricity-normalized: 0.04277250003704316\n",
      "electricity-normalized: 0.04327844238482873\n",
      "electricity-normalized: 0.041923820976616163\n",
      "electricity-normalized: 0.04238495352007453\n",
      "electricity-normalized: 0.04435352393669329\n",
      "electricity-normalized: 0.03919569335300891\n",
      "electricity-normalized: 0.03719004240302688\n",
      "electricity-normalized: 0.039610054174369295\n",
      "electricity-normalized: 0.03782345925031769\n",
      "electricity-normalized: 0.03790110013238697\n",
      "electricity-normalized: 0.03801042775847272\n",
      "electricity-normalized: 0.03828635788977788\n",
      "electricity-normalized: 0.0372729483271763\n",
      "electricity-normalized: 0.04937809328776801\n",
      "electricity-normalized: 0.050535627362574186\n",
      "electricity-normalized: 0.05103123448747157\n",
      "electricity-normalized: 0.05100336892354943\n",
      "electricity-normalized: 0.05102959845586011\n",
      "electricity-normalized: 0.049843210149359475\n",
      "electricity-normalized: 0.04928176762871874\n",
      "electricity-normalized: 0.050166343818509616\n",
      "electricity-normalized: 0.19573646094809186\n",
      "electricity-normalized: 0.18123012056992674\n",
      "electricity-normalized: 0.16366019340081367\n",
      "electricity-normalized: 0.17261235707270042\n",
      "electricity-normalized: 0.17183063745999805\n",
      "electricity-normalized: 0.16492742139944677\n",
      "electricity-normalized: 0.17480824757145894\n",
      "electricity-normalized: 0.1742932483663187\n",
      "german: 0.19324471910169214\n",
      "german: 0.190380710135434\n",
      "german: 0.18362866719136056\n",
      "german: 0.19390246085295362\n",
      "german: 0.19369466738617522\n",
      "german: 0.19393849790557408\n",
      "german: 0.19507705085004767\n",
      "german: 0.19037396440096394\n",
      "german: 0.20337148738959238\n",
      "german: 0.2008029296662805\n",
      "german: 0.18988537137150477\n",
      "german: 0.20706362887774246\n",
      "german: 0.20696737777900473\n",
      "german: 0.20323336165139513\n",
      "german: 0.21014036414739398\n",
      "german: 0.20075625706443037\n",
      "german: 0.17036437293017007\n",
      "german: 0.1666382228877541\n",
      "german: 0.16335183299831238\n",
      "german: 0.17646956013714743\n",
      "german: 0.17637103071914687\n",
      "german: 0.17367245823179445\n",
      "german: 0.17640189598154177\n",
      "german: 0.16674806303386877\n",
      "german: 0.17357860870899294\n",
      "german: 0.16736531857581757\n",
      "german: 0.16203844712587387\n",
      "german: 0.1722420619194664\n",
      "german: 0.172045251011449\n",
      "german: 0.1707897916043669\n",
      "german: 0.1730801340355404\n",
      "german: 0.16727049260824756\n",
      "german: 0.14236432294666157\n",
      "german: 0.14041613151261947\n",
      "german: 0.13431610856719328\n",
      "german: 0.1445838595154528\n",
      "german: 0.14426092535045834\n",
      "german: 0.14201651188609957\n",
      "german: 0.14481070402273996\n",
      "german: 0.1404878317003997\n",
      "german: 0.1337630760595245\n",
      "german: 0.11881525882383544\n",
      "german: 0.1142655094428061\n",
      "german: 0.13737722307596148\n",
      "german: 0.1377513571792385\n",
      "german: 0.1148018722010655\n",
      "german: 0.15102369020006912\n",
      "german: 0.11875019286773165\n",
      "house: 0.08260518038092884\n",
      "house: 0.08201633826391207\n",
      "house: 0.08496776079155517\n",
      "house: 0.08109632761017874\n",
      "house: 0.08074657568047795\n",
      "house: 0.08048011755034781\n",
      "house: 0.08047537981735191\n",
      "house: 0.08184551992660985\n",
      "house: 0.08885327836778846\n",
      "house: 0.094427318728663\n",
      "house: 0.09713313977765288\n",
      "house: 0.09085952695912776\n",
      "house: 0.09074139973906567\n",
      "house: 0.09309581691398836\n",
      "house: 0.08855959920537955\n",
      "house: 0.09439286387621122\n",
      "house: 0.11026277093184132\n",
      "house: 0.1126653833021046\n",
      "house: 0.11500311268919113\n",
      "house: 0.11123316119080505\n",
      "house: 0.11071510926964341\n",
      "house: 0.11262518962909567\n",
      "house: 0.1088811662767791\n",
      "house: 0.11274076803284808\n",
      "house: 0.07817384080286703\n",
      "house: 0.08269499303969884\n",
      "house: 0.08322873277106961\n",
      "house: 0.08079153623231049\n",
      "house: 0.08068776416983794\n",
      "house: 0.08085881899053472\n",
      "house: 0.0806787395476845\n",
      "house: 0.08224202861558672\n",
      "house: 0.11662697834035678\n",
      "house: 0.12068413885484497\n",
      "house: 0.12413534254207413\n",
      "house: 0.12244549586596294\n",
      "house: 0.12224157450354041\n",
      "house: 0.1235892468572571\n",
      "house: 0.12037819304496183\n",
      "house: 0.12110489284811643\n",
      "house: 0.1404967884544612\n",
      "house: 0.15736465788639661\n",
      "house: 0.16070106586465607\n",
      "house: 0.14165673125447065\n",
      "house: 0.14183040562986415\n",
      "house: 0.15833883634829063\n",
      "house: 0.13452593316858322\n",
      "house: 0.15725372675264454\n",
      "mushrooms: 0.1962278196144146\n",
      "mushrooms: 0.19987195546881395\n",
      "mushrooms: 0.19581210334864804\n",
      "mushrooms: 0.20602233636184894\n",
      "mushrooms: 0.20582943590881816\n",
      "mushrooms: 0.200708554685178\n",
      "mushrooms: 0.2027677457664954\n",
      "mushrooms: 0.19989385801103576\n",
      "mushrooms: 0.19350557281208747\n",
      "mushrooms: 0.19889886607795726\n",
      "mushrooms: 0.18723301377966073\n",
      "mushrooms: 0.2025346516415122\n",
      "mushrooms: 0.20242891237162872\n",
      "mushrooms: 0.1992731516074577\n",
      "mushrooms: 0.19893597810891833\n",
      "mushrooms: 0.19892825365374844\n",
      "mushrooms: 0.23905953110636424\n",
      "mushrooms: 0.23421181378172173\n",
      "mushrooms: 0.2266186011861522\n",
      "mushrooms: 0.23883569439379673\n",
      "mushrooms: 0.2386257538195037\n",
      "mushrooms: 0.2369134933363636\n",
      "mushrooms: 0.23687600771951917\n",
      "mushrooms: 0.2341916710893418\n",
      "mushrooms: 0.18673394843938843\n",
      "mushrooms: 0.19264372986393224\n",
      "mushrooms: 0.1855726775826334\n",
      "mushrooms: 0.19823601705728794\n",
      "mushrooms: 0.19821729230537583\n",
      "mushrooms: 0.19393482902399362\n",
      "mushrooms: 0.1955271724668801\n",
      "mushrooms: 0.19247091466775584\n",
      "mushrooms: 0.29400487465404884\n",
      "mushrooms: 0.2888941514109758\n",
      "mushrooms: 0.27652335285779434\n",
      "mushrooms: 0.29960321126720885\n",
      "mushrooms: 0.29851278088166755\n",
      "mushrooms: 0.29895685354108326\n",
      "mushrooms: 0.30548500675758716\n",
      "mushrooms: 0.2904350226638998\n",
      "mushrooms: 0.2452655269392071\n",
      "mushrooms: 0.24515300168858395\n",
      "mushrooms: 0.2479975046402058\n",
      "mushrooms: 0.2614169437563569\n",
      "mushrooms: 0.2624340894700223\n",
      "mushrooms: 0.25881372498561817\n",
      "mushrooms: 0.26816885110828514\n",
      "mushrooms: 0.24347751739930054\n",
      "mv: 0.20637458955282884\n",
      "mv: 0.20855439288912084\n",
      "mv: 0.21186829198701154\n",
      "mv: 0.20766155449910426\n",
      "mv: 0.20757687748514456\n",
      "mv: 0.206667507676528\n",
      "mv: 0.20739560868661702\n",
      "mv: 0.2085417309834019\n",
      "mv: 0.19189156387761183\n",
      "mv: 0.19384612752396735\n",
      "mv: 0.19132571763519662\n",
      "mv: 0.2092679888314804\n",
      "mv: 0.20920580969112373\n",
      "mv: 0.2111251818959607\n",
      "mv: 0.20967295284476106\n",
      "mv: 0.1938847692298036\n",
      "mv: 0.24517991799626598\n",
      "mv: 0.23524667958010875\n",
      "mv: 0.24000027134844848\n",
      "mv: 0.23320103953003346\n",
      "mv: 0.23317997557262074\n",
      "mv: 0.23457502682721482\n",
      "mv: 0.2343109103939894\n",
      "mv: 0.23510337796229605\n",
      "mv: 0.20176235460409078\n",
      "mv: 0.20369856039992593\n",
      "mv: 0.20749292678250084\n",
      "mv: 0.20304892251707676\n",
      "mv: 0.20319751183430776\n",
      "mv: 0.20234680246773337\n",
      "mv: 0.20269087428796803\n",
      "mv: 0.20361608321145142\n",
      "mv: 0.2626319417701045\n",
      "mv: 0.2644863810324102\n",
      "mv: 0.2679903992724959\n",
      "mv: 0.2640198841247361\n",
      "mv: 0.2639744394616243\n",
      "mv: 0.26384780079523273\n",
      "mv: 0.26368030810714455\n",
      "mv: 0.2644382243714562\n",
      "mv: 0.0514523877450545\n",
      "mv: 0.0436623084924652\n",
      "mv: 0.047408943918971505\n",
      "mv: 0.03708768619693957\n",
      "mv: 0.0362719420936858\n",
      "mv: 0.0412970608280493\n",
      "mv: 0.03984069307774774\n",
      "mv: 0.04416152485672664\n",
      "nursery: 0.151514437257121\n",
      "nursery: 0.15495509541288077\n",
      "nursery: 0.15488455736735118\n",
      "nursery: 0.160723342443083\n",
      "nursery: 0.1607778447770354\n",
      "nursery: 0.15640758431207064\n",
      "nursery: 0.1594124468837161\n",
      "nursery: 0.1550509868924651\n",
      "nursery: 0.13518060881418775\n",
      "nursery: 0.14151814581316197\n",
      "nursery: 0.13909905539978262\n",
      "nursery: 0.14906573083402427\n",
      "nursery: 0.14907172857073497\n",
      "nursery: 0.14346480554444982\n",
      "nursery: 0.14695124310761148\n",
      "nursery: 0.14173305523352078\n",
      "nursery: 0.1344893580425437\n",
      "nursery: 0.143224063273938\n",
      "nursery: 0.1403910713008553\n",
      "nursery: 0.15146105822946282\n",
      "nursery: 0.15137365850457785\n",
      "nursery: 0.14948737959261707\n",
      "nursery: 0.15119560710711574\n",
      "nursery: 0.14361305409989414\n",
      "nursery: 0.14947299414879378\n",
      "nursery: 0.15406133874923403\n",
      "nursery: 0.15428001338538147\n",
      "nursery: 0.16112710689183043\n",
      "nursery: 0.1611955925743748\n",
      "nursery: 0.157304615058274\n",
      "nursery: 0.15977567591341518\n",
      "nursery: 0.1541794064387802\n",
      "nursery: 0.23822879026120228\n",
      "nursery: 0.21680621276345638\n",
      "nursery: 0.2263201605280695\n",
      "nursery: 0.26827501901884787\n",
      "nursery: 0.26430520880349323\n",
      "nursery: 0.2500682757618695\n",
      "nursery: 0.2717403528732195\n",
      "nursery: 0.23063858214216057\n",
      "nursery: 0.25618846565902464\n",
      "nursery: 0.24783941780894342\n",
      "nursery: 0.20356562416476726\n",
      "nursery: 0.1814488450709829\n",
      "nursery: 0.18327646096627082\n",
      "nursery: 0.19736271621788057\n",
      "nursery: 0.1946571118155465\n",
      "nursery: 0.22414289448869507\n",
      "soybean: 0.4962694440768834\n",
      "soybean: 0.49882560392484343\n",
      "soybean: 0.49930722286512336\n",
      "soybean: 0.5021237039993782\n",
      "soybean: 0.5021369886766011\n",
      "soybean: 0.4978490640230305\n",
      "soybean: 0.49963942248924365\n",
      "soybean: 0.4988679627504987\n",
      "soybean: 0.4636804499876738\n",
      "soybean: 0.4834986369733462\n",
      "soybean: 0.48308509120941173\n",
      "soybean: 0.490317770841421\n",
      "soybean: 0.4904188763730175\n",
      "soybean: 0.48457709435544716\n",
      "soybean: 0.49278032352074763\n",
      "soybean: 0.4834032182596801\n",
      "soybean: 0.42364894309194934\n",
      "soybean: 0.44186056793302886\n",
      "soybean: 0.4457539627270536\n",
      "soybean: 0.45103139433707784\n",
      "soybean: 0.450964393952808\n",
      "soybean: 0.44629778945013854\n",
      "soybean: 0.4489071279430693\n",
      "soybean: 0.44201816164645547\n",
      "soybean: 0.476048162855956\n",
      "soybean: 0.49619004929661614\n",
      "soybean: 0.4959086379312413\n",
      "soybean: 0.4989580273692766\n",
      "soybean: 0.49938773549365884\n",
      "soybean: 0.49836658651495563\n",
      "soybean: 0.5009027770263583\n",
      "soybean: 0.4961755735863456\n",
      "soybean: 0.5205929396910564\n",
      "soybean: 0.5217346423805446\n",
      "soybean: 0.5215911576412724\n",
      "soybean: 0.5254849808024508\n",
      "soybean: 0.5260034746663741\n",
      "soybean: 0.5214211564442374\n",
      "soybean: 0.5227478314545055\n",
      "soybean: 0.5220966126652838\n",
      "soybean: 0.3749918636658792\n",
      "soybean: 0.3760543639745907\n",
      "soybean: 0.373562066950085\n",
      "soybean: 0.39935968011704454\n",
      "soybean: 0.40015607963356503\n",
      "soybean: 0.37207217938520987\n",
      "soybean: 0.40854184758205536\n",
      "soybean: 0.37460657587670804\n",
      "stars: 0.2101524076758982\n",
      "stars: 0.2117221247742632\n",
      "stars: 0.21604890154287676\n",
      "stars: 0.21412364966102662\n",
      "stars: 0.21338020547202952\n",
      "stars: 0.21221911984150504\n",
      "stars: 0.20985193599294924\n",
      "stars: 0.2125745748474243\n",
      "stars: 0.19238138208900038\n",
      "stars: 0.19928002829444252\n",
      "stars: 0.1924684348604725\n",
      "stars: 0.20329281835793456\n",
      "stars: 0.20308197923406882\n",
      "stars: 0.20623669287774432\n",
      "stars: 0.2016956012437065\n",
      "stars: 0.1993051149870074\n",
      "stars: 0.15946461841760146\n",
      "stars: 0.16212928923825334\n",
      "stars: 0.12605209338099493\n",
      "stars: 0.1891364956828288\n",
      "stars: 0.18873575074047266\n",
      "stars: 0.1908097608811363\n",
      "stars: 0.1888740434494263\n",
      "stars: 0.16192431444017813\n",
      "stars: 0.20931960286719462\n",
      "stars: 0.21087056114536085\n",
      "stars: 0.21575004443906118\n",
      "stars: 0.21378128176260314\n",
      "stars: 0.21394665040280816\n",
      "stars: 0.2129290455858535\n",
      "stars: 0.21153541621936248\n",
      "stars: 0.21150563911838077\n",
      "stars: 0.2308099111577578\n",
      "stars: 0.23260303348081277\n",
      "stars: 0.22804025450850832\n",
      "stars: 0.23073963863778058\n",
      "stars: 0.23141928413958843\n",
      "stars: 0.22886920597534963\n",
      "stars: 0.22854755397664328\n",
      "stars: 0.2316788684498126\n",
      "stars: 0.2500777370917444\n",
      "stars: 0.26815188799824563\n",
      "stars: 0.23843732752857502\n",
      "stars: 0.24657353821286443\n",
      "stars: 0.24658352204202494\n",
      "stars: 0.2750085343925751\n",
      "stars: 0.2395832973345961\n",
      "stars: 0.26741416958694486\n",
      "visualizing_soil: 0.18251093023822726\n",
      "visualizing_soil: 0.1932479318081919\n",
      "visualizing_soil: 0.18470323191444654\n",
      "visualizing_soil: 0.20291460625709218\n",
      "visualizing_soil: 0.20271120757079578\n",
      "visualizing_soil: 0.19284853859104467\n",
      "visualizing_soil: 0.21236961614321606\n",
      "visualizing_soil: 0.1933689005931784\n",
      "visualizing_soil: 0.16272493550623066\n",
      "visualizing_soil: 0.16146890858271015\n",
      "visualizing_soil: 0.14045586340827285\n",
      "visualizing_soil: 0.18997003995489514\n",
      "visualizing_soil: 0.18994939917655654\n",
      "visualizing_soil: 0.1596261253652134\n",
      "visualizing_soil: 0.21246737396186838\n",
      "visualizing_soil: 0.16175602576077777\n",
      "visualizing_soil: 0.2595941235534015\n",
      "visualizing_soil: 0.24928807892734697\n",
      "visualizing_soil: 0.24132376302548017\n",
      "visualizing_soil: 0.25424398266208154\n",
      "visualizing_soil: 0.25465624799176567\n",
      "visualizing_soil: 0.24491738296156104\n",
      "visualizing_soil: 0.26725828565938076\n",
      "visualizing_soil: 0.24886165138012928\n",
      "visualizing_soil: 0.17620959839794217\n",
      "visualizing_soil: 0.18231039208488048\n",
      "visualizing_soil: 0.17064361727661836\n",
      "visualizing_soil: 0.19451067673667619\n",
      "visualizing_soil: 0.19483141214491898\n",
      "visualizing_soil: 0.180278542205195\n",
      "visualizing_soil: 0.20537035942660314\n",
      "visualizing_soil: 0.18222217730374524\n",
      "visualizing_soil: 0.275942910293625\n",
      "visualizing_soil: 0.2665281416662331\n",
      "visualizing_soil: 0.26528863938232145\n",
      "visualizing_soil: 0.27668519966738975\n",
      "visualizing_soil: 0.2765699521142956\n",
      "visualizing_soil: 0.26573422924030476\n",
      "visualizing_soil: 0.28820057595882187\n",
      "visualizing_soil: 0.2657901475605225\n",
      "visualizing_soil: 0.105296364365769\n",
      "visualizing_soil: 0.12295421255704947\n",
      "visualizing_soil: 0.10991501292894547\n",
      "visualizing_soil: 0.1837721885044676\n",
      "visualizing_soil: 0.18552543811320554\n",
      "visualizing_soil: 0.11150946786916598\n",
      "visualizing_soil: 0.28624873984948807\n",
      "visualizing_soil: 0.11900447536543306\n",
      "Done! Final RMSE: 0.23753230560278488\n",
      "Done!\n"
     ]
    }
   ],
   "source": [
    "tt.training_testing_completeness()\n",
    "tt.evaluate_techniques()"
   ],
   "metadata": {
    "collapsed": false
   }
  },
  {
   "cell_type": "code",
   "execution_count": 7,
   "outputs": [
    {
     "data": {
      "text/plain": "                 dataset               model  ranking_eval  \\\n0              abalone_0        DecisionTree         0.125   \n1              abalone_0  LogisticRegression         0.125   \n2              abalone_0                 KNN         0.000   \n3              abalone_0        RandomForest         0.125   \n4              abalone_0            AdaBoost         0.250   \n...                  ...                 ...           ...   \n2095  visualizing_soil_9  LogisticRegression         0.500   \n2096  visualizing_soil_9                 KNN         0.125   \n2097  visualizing_soil_9        RandomForest         0.500   \n2098  visualizing_soil_9            AdaBoost         0.500   \n2099  visualizing_soil_9                 SVC         0.250   \n\n                                           ranking_real  \\\n0     ['impute_logistic_regression' 'impute_random_f...   \n1     ['impute_logistic_regression' 'impute_random_f...   \n2     ['impute_logistic_regression' 'impute_random' ...   \n3     ['impute_random_forest' 'impute_logistic_regre...   \n4     ['impute_standard' 'impute_mode' 'impute_rando...   \n...                                                 ...   \n2095  ['impute_random_forest' 'impute_mice' 'impute_...   \n2096  ['impute_random_forest' 'impute_mice' 'impute_...   \n2097  ['impute_random_forest' 'impute_mice' 'impute_...   \n2098  ['impute_random_forest' 'impute_mice' 'impute_...   \n2099  ['impute_random_forest' 'impute_knn' 'impute_m...   \n\n                                           ranking_pred  \\\n0     ['impute_standard' 'impute_kproto' 'impute_mod...   \n1     ['impute_standard' 'impute_random_forest' 'imp...   \n2     ['impute_random_forest' 'impute_logistic_regre...   \n3     ['impute_standard' 'impute_random_forest' 'imp...   \n4     ['impute_standard' 'impute_mode' 'impute_kprot...   \n...                                                 ...   \n2095  ['impute_random_forest' 'impute_knn' 'impute_m...   \n2096  ['impute_random_forest' 'impute_knn' 'impute_l...   \n2097  ['impute_random_forest' 'impute_knn' 'impute_m...   \n2098  ['impute_random_forest' 'impute_mice' 'impute_...   \n2099  ['impute_standard' 'impute_knn' 'impute_random...   \n\n                                             value_real  \\\n0     [0.21153403 0.21124612 0.21094217 0.21091189 0...   \n1     [0.22512333 0.22346259 0.22003224 0.21978918 0...   \n2     [0.19698441 0.19395516 0.19387145 0.19370697 0...   \n3     [0.22028637 0.21977642 0.21850252 0.21773348 0...   \n4     [0.09865008 0.09865008 0.09865008 0.09865008 0...   \n...                                                 ...   \n2095  [0.99804727 0.99280132 0.99276518 0.9846387  0...   \n2096  [0.99513087 0.99275645 0.99272032 0.98902638 0...   \n2097  [0.99943356 0.99702318 0.99696294 0.99402579 0...   \n2098  [0.99926483 0.99672193 0.99668579 0.99622864 0...   \n2099  [0.97423407 0.96329527 0.96266515 0.94182183 0...   \n\n                                             value_pred  perc_completeness  \n0     [0.78797929 0.78104096 0.78101848 0.78073646 0...           0.500287  \n1     [0.77337203 0.77170634 0.76884538 0.76884538 0...           0.500287  \n2     [0.73154144 0.73137178 0.72986687 0.72969646 0...           0.500287  \n3     [0.79601548 0.7921078  0.79135453 0.78989674 0...           0.500287  \n4     [0.7420425  0.74015001 0.74009937 0.73988175 0...           0.500287  \n...                                                 ...                ...  \n2095  [0.81908981 0.81867885 0.81847289 0.81497349 0...           0.050862  \n2096  [0.78446959 0.78413914 0.783886   0.78387115 0...           0.050862  \n2097  [0.84347252 0.8427125  0.84251049 0.84249815 0...           0.050862  \n2098  [0.79205063 0.79185643 0.79159473 0.78781723 0...           0.050862  \n2099  [0.73409749 0.72093635 0.72090095 0.72061666 0...           0.050862  \n\n[2100 rows x 8 columns]",
      "text/html": "<div>\n<style scoped>\n    .dataframe tbody tr th:only-of-type {\n        vertical-align: middle;\n    }\n\n    .dataframe tbody tr th {\n        vertical-align: top;\n    }\n\n    .dataframe thead th {\n        text-align: right;\n    }\n</style>\n<table border=\"1\" class=\"dataframe\">\n  <thead>\n    <tr style=\"text-align: right;\">\n      <th></th>\n      <th>dataset</th>\n      <th>model</th>\n      <th>ranking_eval</th>\n      <th>ranking_real</th>\n      <th>ranking_pred</th>\n      <th>value_real</th>\n      <th>value_pred</th>\n      <th>perc_completeness</th>\n    </tr>\n  </thead>\n  <tbody>\n    <tr>\n      <th>0</th>\n      <td>abalone_0</td>\n      <td>DecisionTree</td>\n      <td>0.125</td>\n      <td>['impute_logistic_regression' 'impute_random_f...</td>\n      <td>['impute_standard' 'impute_kproto' 'impute_mod...</td>\n      <td>[0.21153403 0.21124612 0.21094217 0.21091189 0...</td>\n      <td>[0.78797929 0.78104096 0.78101848 0.78073646 0...</td>\n      <td>0.500287</td>\n    </tr>\n    <tr>\n      <th>1</th>\n      <td>abalone_0</td>\n      <td>LogisticRegression</td>\n      <td>0.125</td>\n      <td>['impute_logistic_regression' 'impute_random_f...</td>\n      <td>['impute_standard' 'impute_random_forest' 'imp...</td>\n      <td>[0.22512333 0.22346259 0.22003224 0.21978918 0...</td>\n      <td>[0.77337203 0.77170634 0.76884538 0.76884538 0...</td>\n      <td>0.500287</td>\n    </tr>\n    <tr>\n      <th>2</th>\n      <td>abalone_0</td>\n      <td>KNN</td>\n      <td>0.000</td>\n      <td>['impute_logistic_regression' 'impute_random' ...</td>\n      <td>['impute_random_forest' 'impute_logistic_regre...</td>\n      <td>[0.19698441 0.19395516 0.19387145 0.19370697 0...</td>\n      <td>[0.73154144 0.73137178 0.72986687 0.72969646 0...</td>\n      <td>0.500287</td>\n    </tr>\n    <tr>\n      <th>3</th>\n      <td>abalone_0</td>\n      <td>RandomForest</td>\n      <td>0.125</td>\n      <td>['impute_random_forest' 'impute_logistic_regre...</td>\n      <td>['impute_standard' 'impute_random_forest' 'imp...</td>\n      <td>[0.22028637 0.21977642 0.21850252 0.21773348 0...</td>\n      <td>[0.79601548 0.7921078  0.79135453 0.78989674 0...</td>\n      <td>0.500287</td>\n    </tr>\n    <tr>\n      <th>4</th>\n      <td>abalone_0</td>\n      <td>AdaBoost</td>\n      <td>0.250</td>\n      <td>['impute_standard' 'impute_mode' 'impute_rando...</td>\n      <td>['impute_standard' 'impute_mode' 'impute_kprot...</td>\n      <td>[0.09865008 0.09865008 0.09865008 0.09865008 0...</td>\n      <td>[0.7420425  0.74015001 0.74009937 0.73988175 0...</td>\n      <td>0.500287</td>\n    </tr>\n    <tr>\n      <th>...</th>\n      <td>...</td>\n      <td>...</td>\n      <td>...</td>\n      <td>...</td>\n      <td>...</td>\n      <td>...</td>\n      <td>...</td>\n      <td>...</td>\n    </tr>\n    <tr>\n      <th>2095</th>\n      <td>visualizing_soil_9</td>\n      <td>LogisticRegression</td>\n      <td>0.500</td>\n      <td>['impute_random_forest' 'impute_mice' 'impute_...</td>\n      <td>['impute_random_forest' 'impute_knn' 'impute_m...</td>\n      <td>[0.99804727 0.99280132 0.99276518 0.9846387  0...</td>\n      <td>[0.81908981 0.81867885 0.81847289 0.81497349 0...</td>\n      <td>0.050862</td>\n    </tr>\n    <tr>\n      <th>2096</th>\n      <td>visualizing_soil_9</td>\n      <td>KNN</td>\n      <td>0.125</td>\n      <td>['impute_random_forest' 'impute_mice' 'impute_...</td>\n      <td>['impute_random_forest' 'impute_knn' 'impute_l...</td>\n      <td>[0.99513087 0.99275645 0.99272032 0.98902638 0...</td>\n      <td>[0.78446959 0.78413914 0.783886   0.78387115 0...</td>\n      <td>0.050862</td>\n    </tr>\n    <tr>\n      <th>2097</th>\n      <td>visualizing_soil_9</td>\n      <td>RandomForest</td>\n      <td>0.500</td>\n      <td>['impute_random_forest' 'impute_mice' 'impute_...</td>\n      <td>['impute_random_forest' 'impute_knn' 'impute_m...</td>\n      <td>[0.99943356 0.99702318 0.99696294 0.99402579 0...</td>\n      <td>[0.84347252 0.8427125  0.84251049 0.84249815 0...</td>\n      <td>0.050862</td>\n    </tr>\n    <tr>\n      <th>2098</th>\n      <td>visualizing_soil_9</td>\n      <td>AdaBoost</td>\n      <td>0.500</td>\n      <td>['impute_random_forest' 'impute_mice' 'impute_...</td>\n      <td>['impute_random_forest' 'impute_mice' 'impute_...</td>\n      <td>[0.99926483 0.99672193 0.99668579 0.99622864 0...</td>\n      <td>[0.79205063 0.79185643 0.79159473 0.78781723 0...</td>\n      <td>0.050862</td>\n    </tr>\n    <tr>\n      <th>2099</th>\n      <td>visualizing_soil_9</td>\n      <td>SVC</td>\n      <td>0.250</td>\n      <td>['impute_random_forest' 'impute_knn' 'impute_m...</td>\n      <td>['impute_standard' 'impute_knn' 'impute_random...</td>\n      <td>[0.97423407 0.96329527 0.96266515 0.94182183 0...</td>\n      <td>[0.73409749 0.72093635 0.72090095 0.72061666 0...</td>\n      <td>0.050862</td>\n    </tr>\n  </tbody>\n</table>\n<p>2100 rows × 8 columns</p>\n</div>"
     },
     "execution_count": 7,
     "metadata": {},
     "output_type": "execute_result"
    }
   ],
   "source": [
    "rankings = pd.read_csv(\"../results/techniques_completeness_evaluation_total.csv\")\n",
    "rankings"
   ],
   "metadata": {
    "collapsed": false
   }
  },
  {
   "cell_type": "code",
   "execution_count": 8,
   "outputs": [
    {
     "data": {
      "text/plain": "       ranking_eval  perc_completeness\ncount   2100.000000        2100.000000\nmean       0.172679           0.274684\nstd        0.165049           0.143749\nmin        0.000000           0.042188\n25%        0.000000           0.149725\n50%        0.125000           0.280813\n75%        0.250000           0.400162\nmax        1.000000           0.523125",
      "text/html": "<div>\n<style scoped>\n    .dataframe tbody tr th:only-of-type {\n        vertical-align: middle;\n    }\n\n    .dataframe tbody tr th {\n        vertical-align: top;\n    }\n\n    .dataframe thead th {\n        text-align: right;\n    }\n</style>\n<table border=\"1\" class=\"dataframe\">\n  <thead>\n    <tr style=\"text-align: right;\">\n      <th></th>\n      <th>ranking_eval</th>\n      <th>perc_completeness</th>\n    </tr>\n  </thead>\n  <tbody>\n    <tr>\n      <th>count</th>\n      <td>2100.000000</td>\n      <td>2100.000000</td>\n    </tr>\n    <tr>\n      <th>mean</th>\n      <td>0.172679</td>\n      <td>0.274684</td>\n    </tr>\n    <tr>\n      <th>std</th>\n      <td>0.165049</td>\n      <td>0.143749</td>\n    </tr>\n    <tr>\n      <th>min</th>\n      <td>0.000000</td>\n      <td>0.042188</td>\n    </tr>\n    <tr>\n      <th>25%</th>\n      <td>0.000000</td>\n      <td>0.149725</td>\n    </tr>\n    <tr>\n      <th>50%</th>\n      <td>0.125000</td>\n      <td>0.280813</td>\n    </tr>\n    <tr>\n      <th>75%</th>\n      <td>0.250000</td>\n      <td>0.400162</td>\n    </tr>\n    <tr>\n      <th>max</th>\n      <td>1.000000</td>\n      <td>0.523125</td>\n    </tr>\n  </tbody>\n</table>\n</div>"
     },
     "execution_count": 8,
     "metadata": {},
     "output_type": "execute_result"
    }
   ],
   "source": [
    "rankings.describe()\n"
   ],
   "metadata": {
    "collapsed": false
   }
  },
  {
   "cell_type": "code",
   "execution_count": 9,
   "outputs": [
    {
     "data": {
      "text/plain": "ranking_eval\n0.125    682\n0.000    613\n0.250    431\n0.375    219\n0.500    108\n0.625     22\n0.750     21\n1.000      4\nName: count, dtype: int64"
     },
     "execution_count": 9,
     "metadata": {},
     "output_type": "execute_result"
    }
   ],
   "source": [
    "rankings.ranking_eval.value_counts()\n"
   ],
   "metadata": {
    "collapsed": false
   }
  },
  {
   "cell_type": "code",
   "execution_count": 10,
   "outputs": [],
   "source": [
    "### in media ci becchiamo sempre per il 17% delle posizioni"
   ],
   "metadata": {
    "collapsed": false
   }
  },
  {
   "cell_type": "code",
   "execution_count": 11,
   "outputs": [],
   "source": [
    "def get_ranking_values_array(s):\n",
    "    s = s.replace(\".        ]\",\".0]\")\n",
    "    s = s.replace(\"   \",\" \")\n",
    "    s = s.replace(\"  \",\" \")\n",
    "    s = s.replace(\" ]\",\"]\")\n",
    "    s = s.replace(\"\\'\",\"\")\n",
    "    s = s.replace(\"[\",\"\")\n",
    "    s = s.replace(\"]\",\"\")\n",
    "    s = s.replace(\"    \",\" \")\n",
    "    s = s.replace(\"   \",\" \")\n",
    "    s = s.replace(\"  \",\" \")\n",
    "    s = s.split(\" \")\n",
    "    s = np.array(s)\n",
    "    s = np.delete(s, np.where(s == ''))\n",
    "    s = s.astype(float)\n",
    "    return s\n",
    "\n",
    "def get_ranking_array(s):\n",
    "    s = s.replace(\".        ]\",\".0]\")\n",
    "    s = s.replace(\"   \",\" \")\n",
    "    s = s.replace(\"  \",\" \")\n",
    "    s = s.replace(\" ]\",\"]\")\n",
    "    s = s.replace(\"\\'\",\"\")\n",
    "    s = s.replace(\"[\",\"\")\n",
    "    s = s.replace(\"]\",\"\")\n",
    "    s = s.split(\" \")\n",
    "    s = np.array(s)\n",
    "    return s"
   ],
   "metadata": {
    "collapsed": false
   }
  },
  {
   "cell_type": "code",
   "execution_count": 12,
   "outputs": [],
   "source": [
    "diff = []\n",
    "for i in range(0,len(rankings)):\n",
    "    v = rankings.loc[i].value_real\n",
    "    values = get_ranking_values_array(v)\n",
    "    value_1 = values[0]\n",
    "    value_2 = values[7]\n",
    "    diff.append([rankings.loc[i].dataset,value_1 - value_2])"
   ],
   "metadata": {
    "collapsed": false
   }
  },
  {
   "cell_type": "code",
   "execution_count": 13,
   "outputs": [
    {
     "data": {
      "text/plain": "                       0         1\n0              abalone_0  0.001583\n1              abalone_0  0.008167\n2              abalone_0  0.005580\n3              abalone_0  0.004646\n4              abalone_0  0.000000\n...                  ...       ...\n2095  visualizing_soil_9  0.022796\n2096  visualizing_soil_9  0.009256\n2097  visualizing_soil_9  0.009738\n2098  visualizing_soil_9  0.009109\n2099  visualizing_soil_9  0.137920\n\n[2100 rows x 2 columns]",
      "text/html": "<div>\n<style scoped>\n    .dataframe tbody tr th:only-of-type {\n        vertical-align: middle;\n    }\n\n    .dataframe tbody tr th {\n        vertical-align: top;\n    }\n\n    .dataframe thead th {\n        text-align: right;\n    }\n</style>\n<table border=\"1\" class=\"dataframe\">\n  <thead>\n    <tr style=\"text-align: right;\">\n      <th></th>\n      <th>0</th>\n      <th>1</th>\n    </tr>\n  </thead>\n  <tbody>\n    <tr>\n      <th>0</th>\n      <td>abalone_0</td>\n      <td>0.001583</td>\n    </tr>\n    <tr>\n      <th>1</th>\n      <td>abalone_0</td>\n      <td>0.008167</td>\n    </tr>\n    <tr>\n      <th>2</th>\n      <td>abalone_0</td>\n      <td>0.005580</td>\n    </tr>\n    <tr>\n      <th>3</th>\n      <td>abalone_0</td>\n      <td>0.004646</td>\n    </tr>\n    <tr>\n      <th>4</th>\n      <td>abalone_0</td>\n      <td>0.000000</td>\n    </tr>\n    <tr>\n      <th>...</th>\n      <td>...</td>\n      <td>...</td>\n    </tr>\n    <tr>\n      <th>2095</th>\n      <td>visualizing_soil_9</td>\n      <td>0.022796</td>\n    </tr>\n    <tr>\n      <th>2096</th>\n      <td>visualizing_soil_9</td>\n      <td>0.009256</td>\n    </tr>\n    <tr>\n      <th>2097</th>\n      <td>visualizing_soil_9</td>\n      <td>0.009738</td>\n    </tr>\n    <tr>\n      <th>2098</th>\n      <td>visualizing_soil_9</td>\n      <td>0.009109</td>\n    </tr>\n    <tr>\n      <th>2099</th>\n      <td>visualizing_soil_9</td>\n      <td>0.137920</td>\n    </tr>\n  </tbody>\n</table>\n<p>2100 rows × 2 columns</p>\n</div>"
     },
     "execution_count": 13,
     "metadata": {},
     "output_type": "execute_result"
    }
   ],
   "source": [
    "diff = pd.DataFrame(diff)\n",
    "diff"
   ],
   "metadata": {
    "collapsed": false
   }
  },
  {
   "cell_type": "code",
   "execution_count": 14,
   "outputs": [
    {
     "data": {
      "text/plain": "count    2100.000000\nmean        0.023071\nstd         0.042095\nmin         0.000000\n25%         0.003610\n50%         0.009293\n75%         0.025390\nmax         0.430147\nName: 1, dtype: float64"
     },
     "execution_count": 14,
     "metadata": {},
     "output_type": "execute_result"
    }
   ],
   "source": [
    "diff[1].describe()\n"
   ],
   "metadata": {
    "collapsed": false
   }
  },
  {
   "cell_type": "code",
   "execution_count": 15,
   "outputs": [
    {
     "data": {
      "text/plain": "np.float64(0.009292660000000064)"
     },
     "execution_count": 15,
     "metadata": {},
     "output_type": "execute_result"
    }
   ],
   "source": [
    "diff[1].median()"
   ],
   "metadata": {
    "collapsed": false
   }
  },
  {
   "cell_type": "code",
   "execution_count": 16,
   "outputs": [],
   "source": [
    "### studio delle differenze di performance tra prima e ultima posizione del ranking delle tecniche (esperimenti)\n",
    "### media 2%\n",
    "### mediana 1% (anche il 50%-percentile)\n",
    "### massimo 43%\n",
    "### il 75%-percentile è 2%\n",
    "### relevance: perdiamo l'1% = mediana"
   ],
   "metadata": {
    "collapsed": false
   }
  },
  {
   "cell_type": "code",
   "execution_count": 16,
   "outputs": [],
   "source": [],
   "metadata": {
    "collapsed": false
   }
  },
  {
   "cell_type": "code",
   "execution_count": 16,
   "outputs": [],
   "source": [],
   "metadata": {
    "collapsed": false
   }
  },
  {
   "cell_type": "code",
   "execution_count": 17,
   "outputs": [],
   "source": [
    "### AVG PRECISION REC SYS"
   ],
   "metadata": {
    "collapsed": false
   }
  },
  {
   "cell_type": "code",
   "execution_count": 18,
   "outputs": [],
   "source": [
    "relevance = 0.01 ### stabilisco la relevance allo 0,5% (metà della mediana)\n",
    "N = 3\n",
    "#N = [1,3,5] ### queste di calcolano tutte e 3"
   ],
   "metadata": {
    "collapsed": false
   }
  },
  {
   "cell_type": "code",
   "execution_count": 19,
   "outputs": [],
   "source": [
    "### avg precision (rec sys)\n",
    "\n",
    "###  sum(k=1-->N) 1/m * P(k)*rel(k)\n",
    "### where\n",
    "### m is the number of relevant item (the number of technique in a performance threshold), is variable\n",
    "### N is the number of item to recommend. is a variable: top1, top3...\n",
    "### P(k) is the precision at cutoff k\n",
    "### rel(k) is 1 if the item is relevant\n",
    "### P(k)*rel(k) --> +1 if the item is present in the most relevant, +0 otherwise"
   ],
   "metadata": {
    "collapsed": false
   }
  },
  {
   "cell_type": "code",
   "execution_count": 20,
   "outputs": [],
   "source": [
    "precision = []\n",
    "\n",
    "for i in range(0,len(rankings)):\n",
    "    v1 = rankings.loc[i].ranking_real\n",
    "    v2 = rankings.loc[i].ranking_pred\n",
    "    v3 = rankings.loc[i].value_real\n",
    "    v4 = rankings.loc[i].value_pred\n",
    "\n",
    "    ### prendo tutti i valori\n",
    "    rank_real = get_ranking_array(v1)\n",
    "    rank_pred = get_ranking_array(v2)\n",
    "    values_real = get_ranking_values_array(v3)\n",
    "    values_pred = get_ranking_values_array(v4)\n",
    "\n",
    "    ### calcolo m\n",
    "    indexes = np.where(values_real > (values_real[0] - relevance))[0]\n",
    "    m = len(indexes)\n",
    "    ### calcolo precision\n",
    "    P_k = 0\n",
    "    for j in range(0, N):\n",
    "        tech = rank_pred[j]\n",
    "        if tech in rank_real[indexes]:\n",
    "            P_k += 1\n",
    "    precision.append([rankings.loc[i].dataset,rankings.loc[i].model,P_k/m,m])\n",
    "precision = pd.DataFrame(precision,columns=['dataset','model','precision','m'])"
   ],
   "metadata": {
    "collapsed": false
   }
  },
  {
   "cell_type": "code",
   "execution_count": 21,
   "outputs": [
    {
     "data": {
      "text/plain": "                 dataset               model  precision  m\n0              abalone_0        DecisionTree      0.375  8\n1              abalone_0  LogisticRegression      0.375  8\n2              abalone_0                 KNN      0.375  8\n3              abalone_0        RandomForest      0.375  8\n4              abalone_0            AdaBoost      0.375  8\n...                  ...                 ...        ... ..\n2095  visualizing_soil_9  LogisticRegression      1.000  3\n2096  visualizing_soil_9                 KNN      0.375  8\n2097  visualizing_soil_9        RandomForest      0.375  8\n2098  visualizing_soil_9            AdaBoost      0.375  8\n2099  visualizing_soil_9                 SVC      1.000  1\n\n[2100 rows x 4 columns]",
      "text/html": "<div>\n<style scoped>\n    .dataframe tbody tr th:only-of-type {\n        vertical-align: middle;\n    }\n\n    .dataframe tbody tr th {\n        vertical-align: top;\n    }\n\n    .dataframe thead th {\n        text-align: right;\n    }\n</style>\n<table border=\"1\" class=\"dataframe\">\n  <thead>\n    <tr style=\"text-align: right;\">\n      <th></th>\n      <th>dataset</th>\n      <th>model</th>\n      <th>precision</th>\n      <th>m</th>\n    </tr>\n  </thead>\n  <tbody>\n    <tr>\n      <th>0</th>\n      <td>abalone_0</td>\n      <td>DecisionTree</td>\n      <td>0.375</td>\n      <td>8</td>\n    </tr>\n    <tr>\n      <th>1</th>\n      <td>abalone_0</td>\n      <td>LogisticRegression</td>\n      <td>0.375</td>\n      <td>8</td>\n    </tr>\n    <tr>\n      <th>2</th>\n      <td>abalone_0</td>\n      <td>KNN</td>\n      <td>0.375</td>\n      <td>8</td>\n    </tr>\n    <tr>\n      <th>3</th>\n      <td>abalone_0</td>\n      <td>RandomForest</td>\n      <td>0.375</td>\n      <td>8</td>\n    </tr>\n    <tr>\n      <th>4</th>\n      <td>abalone_0</td>\n      <td>AdaBoost</td>\n      <td>0.375</td>\n      <td>8</td>\n    </tr>\n    <tr>\n      <th>...</th>\n      <td>...</td>\n      <td>...</td>\n      <td>...</td>\n      <td>...</td>\n    </tr>\n    <tr>\n      <th>2095</th>\n      <td>visualizing_soil_9</td>\n      <td>LogisticRegression</td>\n      <td>1.000</td>\n      <td>3</td>\n    </tr>\n    <tr>\n      <th>2096</th>\n      <td>visualizing_soil_9</td>\n      <td>KNN</td>\n      <td>0.375</td>\n      <td>8</td>\n    </tr>\n    <tr>\n      <th>2097</th>\n      <td>visualizing_soil_9</td>\n      <td>RandomForest</td>\n      <td>0.375</td>\n      <td>8</td>\n    </tr>\n    <tr>\n      <th>2098</th>\n      <td>visualizing_soil_9</td>\n      <td>AdaBoost</td>\n      <td>0.375</td>\n      <td>8</td>\n    </tr>\n    <tr>\n      <th>2099</th>\n      <td>visualizing_soil_9</td>\n      <td>SVC</td>\n      <td>1.000</td>\n      <td>1</td>\n    </tr>\n  </tbody>\n</table>\n<p>2100 rows × 4 columns</p>\n</div>"
     },
     "execution_count": 21,
     "metadata": {},
     "output_type": "execute_result"
    }
   ],
   "source": [
    "precision\n"
   ],
   "metadata": {
    "collapsed": false
   }
  },
  {
   "cell_type": "code",
   "execution_count": 22,
   "outputs": [
    {
     "data": {
      "text/plain": "precision\n0.375000    1090\n0.000000     258\n1.000000     168\n0.428571     153\n0.500000     114\n0.600000      74\n0.333333      66\n0.666667      42\n0.285714      32\n0.750000      28\n0.250000      26\n0.400000      24\n0.200000      16\n0.166667       9\nName: count, dtype: int64"
     },
     "execution_count": 22,
     "metadata": {},
     "output_type": "execute_result"
    }
   ],
   "source": [
    "precision.precision.value_counts()"
   ],
   "metadata": {
    "collapsed": false
   }
  },
  {
   "cell_type": "code",
   "execution_count": 23,
   "outputs": [
    {
     "data": {
      "text/plain": "m\n8    1090\n1     311\n7     185\n4     124\n5     120\n3     109\n2      86\n6      75\nName: count, dtype: int64"
     },
     "execution_count": 23,
     "metadata": {},
     "output_type": "execute_result"
    }
   ],
   "source": [
    "precision.m.value_counts()"
   ],
   "metadata": {
    "collapsed": false
   }
  },
  {
   "cell_type": "code",
   "execution_count": 24,
   "outputs": [
    {
     "data": {
      "text/plain": "         precision            m\ncount  2100.000000  2100.000000\nmean      0.402221     5.890952\nstd       0.234575     2.697027\nmin       0.000000     1.000000\n25%       0.375000     4.000000\n50%       0.375000     8.000000\n75%       0.428571     8.000000\nmax       1.000000     8.000000",
      "text/html": "<div>\n<style scoped>\n    .dataframe tbody tr th:only-of-type {\n        vertical-align: middle;\n    }\n\n    .dataframe tbody tr th {\n        vertical-align: top;\n    }\n\n    .dataframe thead th {\n        text-align: right;\n    }\n</style>\n<table border=\"1\" class=\"dataframe\">\n  <thead>\n    <tr style=\"text-align: right;\">\n      <th></th>\n      <th>precision</th>\n      <th>m</th>\n    </tr>\n  </thead>\n  <tbody>\n    <tr>\n      <th>count</th>\n      <td>2100.000000</td>\n      <td>2100.000000</td>\n    </tr>\n    <tr>\n      <th>mean</th>\n      <td>0.402221</td>\n      <td>5.890952</td>\n    </tr>\n    <tr>\n      <th>std</th>\n      <td>0.234575</td>\n      <td>2.697027</td>\n    </tr>\n    <tr>\n      <th>min</th>\n      <td>0.000000</td>\n      <td>1.000000</td>\n    </tr>\n    <tr>\n      <th>25%</th>\n      <td>0.375000</td>\n      <td>4.000000</td>\n    </tr>\n    <tr>\n      <th>50%</th>\n      <td>0.375000</td>\n      <td>8.000000</td>\n    </tr>\n    <tr>\n      <th>75%</th>\n      <td>0.428571</td>\n      <td>8.000000</td>\n    </tr>\n    <tr>\n      <th>max</th>\n      <td>1.000000</td>\n      <td>8.000000</td>\n    </tr>\n  </tbody>\n</table>\n</div>"
     },
     "execution_count": 24,
     "metadata": {},
     "output_type": "execute_result"
    }
   ],
   "source": [
    "precision.describe()\n"
   ],
   "metadata": {
    "collapsed": false
   }
  },
  {
   "cell_type": "code",
   "execution_count": 25,
   "outputs": [
    {
     "data": {
      "text/plain": "np.float64(0.375)"
     },
     "execution_count": 25,
     "metadata": {},
     "output_type": "execute_result"
    }
   ],
   "source": [
    "precision.precision.median()"
   ],
   "metadata": {
    "collapsed": false
   }
  },
  {
   "cell_type": "code",
   "execution_count": 26,
   "outputs": [
    {
     "data": {
      "text/plain": "np.float64(0.5)"
     },
     "execution_count": 26,
     "metadata": {},
     "output_type": "execute_result"
    }
   ],
   "source": [
    "precision[precision.m < 6].precision.median()"
   ],
   "metadata": {
    "collapsed": false
   }
  },
  {
   "cell_type": "code",
   "execution_count": null,
   "outputs": [],
   "source": [],
   "metadata": {
    "collapsed": false
   }
  },
  {
   "cell_type": "code",
   "execution_count": 114,
   "outputs": [],
   "source": [],
   "metadata": {
    "collapsed": false
   }
  },
  {
   "cell_type": "code",
   "execution_count": 64,
   "outputs": [],
   "source": [
    "### PRECISION FISSA CON N = m = 3"
   ],
   "metadata": {
    "collapsed": false
   }
  },
  {
   "cell_type": "code",
   "execution_count": 115,
   "outputs": [],
   "source": [
    "N = 3\n",
    "\n",
    "### stabilisco la relevance allo 0,3% (la mediana)\n",
    "precision = []\n",
    "\n",
    "for i in range(0, len(rankings)):\n",
    "    v1 = rankings.loc[i].ranking_real\n",
    "    v2 = rankings.loc[i].ranking_pred\n",
    "    v3 = rankings.loc[i].value_real\n",
    "    v4 = rankings.loc[i].value_pred\n",
    "\n",
    "    ### prendo tutti i valori\n",
    "    rank_real = get_ranking_array(v1)\n",
    "    rank_pred = get_ranking_array(v2)\n",
    "    values_real = get_ranking_values_array(v3)\n",
    "    values_pred = get_ranking_values_array(v4)\n",
    "\n",
    "    ### calcolo m\n",
    "    indexes = [0,1,2]\n",
    "    #N = len(indexes)\n",
    "    ### calcolo precision\n",
    "    P_k = 0\n",
    "    for j in range(0, N):\n",
    "        tech = rank_pred[j]\n",
    "        if tech in rank_real[indexes]:\n",
    "            P_k += 1\n",
    "    precision.append([rankings.loc[i].dataset, rankings.loc[i].model, P_k / N, N])\n",
    "precision = pd.DataFrame(precision, columns=['dataset', 'model', 'precision','N'])\n"
   ],
   "metadata": {
    "collapsed": false
   }
  },
  {
   "cell_type": "code",
   "execution_count": 116,
   "outputs": [
    {
     "data": {
      "text/plain": "precision\n0.333333    839\n0.666667    682\n0.000000    419\n1.000000    160\nName: count, dtype: int64"
     },
     "execution_count": 116,
     "metadata": {},
     "output_type": "execute_result"
    }
   ],
   "source": [
    "precision.precision.value_counts()"
   ],
   "metadata": {
    "collapsed": false
   }
  },
  {
   "cell_type": "code",
   "execution_count": 117,
   "outputs": [
    {
     "data": {
      "text/plain": "         precision       N\ncount  2100.000000  2100.0\nmean      0.425873     3.0\nstd       0.289124     0.0\nmin       0.000000     3.0\n25%       0.333333     3.0\n50%       0.333333     3.0\n75%       0.666667     3.0\nmax       1.000000     3.0",
      "text/html": "<div>\n<style scoped>\n    .dataframe tbody tr th:only-of-type {\n        vertical-align: middle;\n    }\n\n    .dataframe tbody tr th {\n        vertical-align: top;\n    }\n\n    .dataframe thead th {\n        text-align: right;\n    }\n</style>\n<table border=\"1\" class=\"dataframe\">\n  <thead>\n    <tr style=\"text-align: right;\">\n      <th></th>\n      <th>precision</th>\n      <th>N</th>\n    </tr>\n  </thead>\n  <tbody>\n    <tr>\n      <th>count</th>\n      <td>2100.000000</td>\n      <td>2100.0</td>\n    </tr>\n    <tr>\n      <th>mean</th>\n      <td>0.425873</td>\n      <td>3.0</td>\n    </tr>\n    <tr>\n      <th>std</th>\n      <td>0.289124</td>\n      <td>0.0</td>\n    </tr>\n    <tr>\n      <th>min</th>\n      <td>0.000000</td>\n      <td>3.0</td>\n    </tr>\n    <tr>\n      <th>25%</th>\n      <td>0.333333</td>\n      <td>3.0</td>\n    </tr>\n    <tr>\n      <th>50%</th>\n      <td>0.333333</td>\n      <td>3.0</td>\n    </tr>\n    <tr>\n      <th>75%</th>\n      <td>0.666667</td>\n      <td>3.0</td>\n    </tr>\n    <tr>\n      <th>max</th>\n      <td>1.000000</td>\n      <td>3.0</td>\n    </tr>\n  </tbody>\n</table>\n</div>"
     },
     "execution_count": 117,
     "metadata": {},
     "output_type": "execute_result"
    }
   ],
   "source": [
    "precision.describe()\n"
   ],
   "metadata": {
    "collapsed": false
   }
  },
  {
   "cell_type": "code",
   "execution_count": 118,
   "outputs": [
    {
     "data": {
      "text/plain": "np.float64(0.3333333333333333)"
     },
     "execution_count": 118,
     "metadata": {},
     "output_type": "execute_result"
    }
   ],
   "source": [
    "precision.precision.median()\n"
   ],
   "metadata": {
    "collapsed": false
   }
  },
  {
   "cell_type": "code",
   "execution_count": 118,
   "outputs": [],
   "source": [],
   "metadata": {
    "collapsed": false
   }
  },
  {
   "cell_type": "code",
   "execution_count": 101,
   "outputs": [],
   "source": [],
   "metadata": {
    "collapsed": false
   }
  },
  {
   "cell_type": "code",
   "execution_count": 119,
   "outputs": [],
   "source": [
    "### forse ha senso qui far variare anche la N insieme alla m:\n",
    "relevance = 0.01\n",
    "#N = 3\n",
    "\n",
    "precision = []\n",
    "\n",
    "for i in range(0, len(rankings)):\n",
    "    v1 = rankings.loc[i].ranking_real\n",
    "    v2 = rankings.loc[i].ranking_pred\n",
    "    v3 = rankings.loc[i].value_real\n",
    "    v4 = rankings.loc[i].value_pred\n",
    "\n",
    "    ### prendo tutti i valori\n",
    "    rank_real = get_ranking_array(v1)\n",
    "    rank_pred = get_ranking_array(v2)\n",
    "    values_real = get_ranking_values_array(v3)\n",
    "    values_pred = get_ranking_values_array(v4)\n",
    "\n",
    "    ### calcolo m\n",
    "    indexes = np.where(values_real > (values_real[0] - relevance))[0]\n",
    "    m = len(indexes)\n",
    "    ### calcolo precision\n",
    "    P_k = 0\n",
    "    for i in range(0, m):\n",
    "        tech = rank_pred[i]\n",
    "        if tech in rank_real[indexes]:\n",
    "            P_k += 1\n",
    "    precision.append([rankings.loc[i].dataset, P_k / m, m])\n",
    "precision = pd.DataFrame(precision, columns=['dataset', 'precision', 'm'])"
   ],
   "metadata": {
    "collapsed": false
   }
  },
  {
   "cell_type": "code",
   "execution_count": 120,
   "outputs": [
    {
     "data": {
      "text/plain": "precision\n1.000000    1307\n0.000000     288\n0.857143     123\n0.666667      77\n0.500000      72\n0.800000      62\n0.750000      37\n0.333333      32\n0.250000      30\n0.833333      30\n0.400000      21\n0.600000      21\nName: count, dtype: int64"
     },
     "execution_count": 120,
     "metadata": {},
     "output_type": "execute_result"
    }
   ],
   "source": [
    "precision.precision.value_counts()"
   ],
   "metadata": {
    "collapsed": false
   }
  },
  {
   "cell_type": "code",
   "execution_count": 121,
   "outputs": [
    {
     "data": {
      "text/plain": "m\n8    1090\n1     311\n7     185\n4     124\n5     120\n3     109\n2      86\n6      75\nName: count, dtype: int64"
     },
     "execution_count": 121,
     "metadata": {},
     "output_type": "execute_result"
    }
   ],
   "source": [
    "precision.m.value_counts()"
   ],
   "metadata": {
    "collapsed": false
   }
  },
  {
   "cell_type": "code",
   "execution_count": 122,
   "outputs": [
    {
     "data": {
      "text/plain": "         precision            m\ncount  2100.000000  2100.000000\nmean      0.781561     5.890952\nstd       0.354986     2.697027\nmin       0.000000     1.000000\n25%       0.666667     4.000000\n50%       1.000000     8.000000\n75%       1.000000     8.000000\nmax       1.000000     8.000000",
      "text/html": "<div>\n<style scoped>\n    .dataframe tbody tr th:only-of-type {\n        vertical-align: middle;\n    }\n\n    .dataframe tbody tr th {\n        vertical-align: top;\n    }\n\n    .dataframe thead th {\n        text-align: right;\n    }\n</style>\n<table border=\"1\" class=\"dataframe\">\n  <thead>\n    <tr style=\"text-align: right;\">\n      <th></th>\n      <th>precision</th>\n      <th>m</th>\n    </tr>\n  </thead>\n  <tbody>\n    <tr>\n      <th>count</th>\n      <td>2100.000000</td>\n      <td>2100.000000</td>\n    </tr>\n    <tr>\n      <th>mean</th>\n      <td>0.781561</td>\n      <td>5.890952</td>\n    </tr>\n    <tr>\n      <th>std</th>\n      <td>0.354986</td>\n      <td>2.697027</td>\n    </tr>\n    <tr>\n      <th>min</th>\n      <td>0.000000</td>\n      <td>1.000000</td>\n    </tr>\n    <tr>\n      <th>25%</th>\n      <td>0.666667</td>\n      <td>4.000000</td>\n    </tr>\n    <tr>\n      <th>50%</th>\n      <td>1.000000</td>\n      <td>8.000000</td>\n    </tr>\n    <tr>\n      <th>75%</th>\n      <td>1.000000</td>\n      <td>8.000000</td>\n    </tr>\n    <tr>\n      <th>max</th>\n      <td>1.000000</td>\n      <td>8.000000</td>\n    </tr>\n  </tbody>\n</table>\n</div>"
     },
     "execution_count": 122,
     "metadata": {},
     "output_type": "execute_result"
    }
   ],
   "source": [
    "precision.describe()"
   ],
   "metadata": {
    "collapsed": false
   }
  },
  {
   "cell_type": "code",
   "execution_count": 123,
   "outputs": [
    {
     "data": {
      "text/plain": "np.float64(1.0)"
     },
     "execution_count": 123,
     "metadata": {},
     "output_type": "execute_result"
    }
   ],
   "source": [
    "precision.precision.median()"
   ],
   "metadata": {
    "collapsed": false
   }
  },
  {
   "cell_type": "code",
   "execution_count": 124,
   "outputs": [],
   "source": [
    "### sempre precision = 1 con relevance = 0.01\n",
    "### sempre precision = 0.85 con relevance = 0.005\n",
    "### precision = 0.5 se abbasso la relevance a 0.001\n",
    "### la relevance più adatta potrebbe anche essere 0.005 (metà della mediana)"
   ],
   "metadata": {
    "collapsed": false
   }
  },
  {
   "cell_type": "code",
   "execution_count": null,
   "outputs": [],
   "source": [
    "### non cambia niente quindi teniamo 0.01 = la mediana\n"
   ],
   "metadata": {
    "collapsed": false
   }
  }
 ],
 "metadata": {
  "kernelspec": {
   "display_name": "Python 3",
   "language": "python",
   "name": "python3"
  },
  "language_info": {
   "codemirror_mode": {
    "name": "ipython",
    "version": 2
   },
   "file_extension": ".py",
   "mimetype": "text/x-python",
   "name": "python",
   "nbconvert_exporter": "python",
   "pygments_lexer": "ipython2",
   "version": "2.7.6"
  }
 },
 "nbformat": 4,
 "nbformat_minor": 0
}
