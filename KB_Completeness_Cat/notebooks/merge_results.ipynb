{
 "cells": [
  {
   "cell_type": "code",
   "execution_count": 23,
   "metadata": {
    "collapsed": true
   },
   "outputs": [],
   "source": [
    "import pandas as pd\n"
   ]
  },
  {
   "cell_type": "code",
   "execution_count": 24,
   "outputs": [],
   "source": [
    "exp_1 = pd.read_csv(\"../categorical/experiment_1_categorical.csv\")\n",
    "exp_2 = pd.read_csv(\"../categorical/experiment_2_categorical.csv\")\n",
    "exp_3 = pd.read_csv(\"../categorical/experiment_3_categorical.csv\")\n",
    "exp_4 = pd.read_csv(\"../categorical/experiment_4_categorical.csv\")\n",
    "exp_5 = pd.read_csv(\"../categorical/experiment_5_categorical.csv\")\n",
    "exp_6 = pd.read_csv(\"../categorical/experiment_6_categorical.csv\")\n",
    "exp_7 = pd.read_csv(\"../categorical/experiment_7_categorical.csv\")\n",
    "exp_8 = pd.read_csv(\"../categorical/experiment_8_categorical.csv\")\n"
   ],
   "metadata": {
    "collapsed": false
   }
  },
  {
   "cell_type": "code",
   "execution_count": 25,
   "outputs": [
    {
     "data": {
      "text/plain": "                  name column_name  n_tuples  missing_perc  constancy  \\\n0              abalone         Sex      4177        0.4989     0.3722   \n1              abalone         Sex      4177        0.4989     0.3722   \n2              abalone         Sex      4177        0.4989     0.3722   \n3              abalone         Sex      4177        0.4989     0.3722   \n4              abalone         Sex      4177        0.4989     0.3722   \n...                ...         ...       ...           ...        ...   \n2095  visualizing_soil        isns      8641        0.0546     0.7593   \n2096  visualizing_soil        isns      8641        0.0546     0.7593   \n2097  visualizing_soil        isns      8641        0.0546     0.7593   \n2098  visualizing_soil        isns      8641        0.0546     0.7593   \n2099  visualizing_soil        isns      8641        0.0546     0.7593   \n\n      imbalance  uniqueness  unalikeability  entropy  density  ...  max_char  \\\n0        1.2306      0.0014          0.6645   1.0949   4.1315  ...       1.0   \n1        1.2306      0.0014          0.6645   1.0949   4.1315  ...       1.0   \n2        1.2306      0.0014          0.6645   1.0949   4.1315  ...       1.0   \n3        1.2306      0.0014          0.6645   1.0949   4.1315  ...       1.0   \n4        1.2306      0.0014          0.6645   1.0949   4.1315  ...       1.0   \n...         ...         ...             ...      ...      ...  ...       ...   \n2095     3.1551      0.0002          0.3655   0.5518  28.7084  ...       1.0   \n2096     3.1551      0.0002          0.3655   0.5518  28.7084  ...       1.0   \n2097     3.1551      0.0002          0.3655   0.5518  28.7084  ...       1.0   \n2098     3.1551      0.0002          0.3655   0.5518  28.7084  ...       1.0   \n2099     3.1551      0.0002          0.3655   0.5518  28.7084  ...       1.0   \n\n               ml_method  impute_standard  impute_mode  impute_random  \\\n0           DecisionTree         0.207895     0.210994       0.210967   \n1     LogisticRegression         0.224598     0.218949       0.217384   \n2                    KNN         0.197234     0.194959       0.191123   \n3           RandomForest         0.218328     0.217519       0.218346   \n4               AdaBoost         0.098650     0.098650       0.098650   \n...                  ...              ...          ...            ...   \n2095  LogisticRegression         0.982831     0.976163       0.970925   \n2096                 KNN         0.986116     0.987859       0.984284   \n2097        RandomForest         0.992967     0.991714       0.987080   \n2098            AdaBoost         0.997011     0.991907       0.988433   \n2099                 SVC         0.965863     0.788850       0.840936   \n\n      impute_knn impute_mice  impute_logistic_regression  \\\n0       0.210602    0.210602                    0.209544   \n1       0.220448    0.218290                    0.226815   \n2       0.196384    0.199240                    0.201870   \n3       0.217738    0.217739                    0.219132   \n4       0.098650    0.098650                    0.098650   \n...          ...         ...                         ...   \n2095    0.991512    0.991512                    0.976163   \n2096    0.992673    0.992673                    0.987859   \n2097    0.996530    0.996626                    0.992003   \n2098    0.996433    0.996433                    0.991907   \n2099    0.953642    0.953642                    0.788850   \n\n      impute_random_forest  impute_kproto  \n0                 0.206456       0.210994  \n1                 0.225560       0.218949  \n2                 0.193907       0.194959  \n3                 0.216984       0.215354  \n4                 0.098650       0.098650  \n...                    ...            ...  \n2095              0.997589       0.976163  \n2096              0.995276       0.987859  \n2097              0.999518       0.991811  \n2098              0.999325       0.991907  \n2099              0.967536       0.788850  \n\n[2100 rows x 25 columns]",
      "text/html": "<div>\n<style scoped>\n    .dataframe tbody tr th:only-of-type {\n        vertical-align: middle;\n    }\n\n    .dataframe tbody tr th {\n        vertical-align: top;\n    }\n\n    .dataframe thead th {\n        text-align: right;\n    }\n</style>\n<table border=\"1\" class=\"dataframe\">\n  <thead>\n    <tr style=\"text-align: right;\">\n      <th></th>\n      <th>name</th>\n      <th>column_name</th>\n      <th>n_tuples</th>\n      <th>missing_perc</th>\n      <th>constancy</th>\n      <th>imbalance</th>\n      <th>uniqueness</th>\n      <th>unalikeability</th>\n      <th>entropy</th>\n      <th>density</th>\n      <th>...</th>\n      <th>max_char</th>\n      <th>ml_method</th>\n      <th>impute_standard</th>\n      <th>impute_mode</th>\n      <th>impute_random</th>\n      <th>impute_knn</th>\n      <th>impute_mice</th>\n      <th>impute_logistic_regression</th>\n      <th>impute_random_forest</th>\n      <th>impute_kproto</th>\n    </tr>\n  </thead>\n  <tbody>\n    <tr>\n      <th>0</th>\n      <td>abalone</td>\n      <td>Sex</td>\n      <td>4177</td>\n      <td>0.4989</td>\n      <td>0.3722</td>\n      <td>1.2306</td>\n      <td>0.0014</td>\n      <td>0.6645</td>\n      <td>1.0949</td>\n      <td>4.1315</td>\n      <td>...</td>\n      <td>1.0</td>\n      <td>DecisionTree</td>\n      <td>0.207895</td>\n      <td>0.210994</td>\n      <td>0.210967</td>\n      <td>0.210602</td>\n      <td>0.210602</td>\n      <td>0.209544</td>\n      <td>0.206456</td>\n      <td>0.210994</td>\n    </tr>\n    <tr>\n      <th>1</th>\n      <td>abalone</td>\n      <td>Sex</td>\n      <td>4177</td>\n      <td>0.4989</td>\n      <td>0.3722</td>\n      <td>1.2306</td>\n      <td>0.0014</td>\n      <td>0.6645</td>\n      <td>1.0949</td>\n      <td>4.1315</td>\n      <td>...</td>\n      <td>1.0</td>\n      <td>LogisticRegression</td>\n      <td>0.224598</td>\n      <td>0.218949</td>\n      <td>0.217384</td>\n      <td>0.220448</td>\n      <td>0.218290</td>\n      <td>0.226815</td>\n      <td>0.225560</td>\n      <td>0.218949</td>\n    </tr>\n    <tr>\n      <th>2</th>\n      <td>abalone</td>\n      <td>Sex</td>\n      <td>4177</td>\n      <td>0.4989</td>\n      <td>0.3722</td>\n      <td>1.2306</td>\n      <td>0.0014</td>\n      <td>0.6645</td>\n      <td>1.0949</td>\n      <td>4.1315</td>\n      <td>...</td>\n      <td>1.0</td>\n      <td>KNN</td>\n      <td>0.197234</td>\n      <td>0.194959</td>\n      <td>0.191123</td>\n      <td>0.196384</td>\n      <td>0.199240</td>\n      <td>0.201870</td>\n      <td>0.193907</td>\n      <td>0.194959</td>\n    </tr>\n    <tr>\n      <th>3</th>\n      <td>abalone</td>\n      <td>Sex</td>\n      <td>4177</td>\n      <td>0.4989</td>\n      <td>0.3722</td>\n      <td>1.2306</td>\n      <td>0.0014</td>\n      <td>0.6645</td>\n      <td>1.0949</td>\n      <td>4.1315</td>\n      <td>...</td>\n      <td>1.0</td>\n      <td>RandomForest</td>\n      <td>0.218328</td>\n      <td>0.217519</td>\n      <td>0.218346</td>\n      <td>0.217738</td>\n      <td>0.217739</td>\n      <td>0.219132</td>\n      <td>0.216984</td>\n      <td>0.215354</td>\n    </tr>\n    <tr>\n      <th>4</th>\n      <td>abalone</td>\n      <td>Sex</td>\n      <td>4177</td>\n      <td>0.4989</td>\n      <td>0.3722</td>\n      <td>1.2306</td>\n      <td>0.0014</td>\n      <td>0.6645</td>\n      <td>1.0949</td>\n      <td>4.1315</td>\n      <td>...</td>\n      <td>1.0</td>\n      <td>AdaBoost</td>\n      <td>0.098650</td>\n      <td>0.098650</td>\n      <td>0.098650</td>\n      <td>0.098650</td>\n      <td>0.098650</td>\n      <td>0.098650</td>\n      <td>0.098650</td>\n      <td>0.098650</td>\n    </tr>\n    <tr>\n      <th>...</th>\n      <td>...</td>\n      <td>...</td>\n      <td>...</td>\n      <td>...</td>\n      <td>...</td>\n      <td>...</td>\n      <td>...</td>\n      <td>...</td>\n      <td>...</td>\n      <td>...</td>\n      <td>...</td>\n      <td>...</td>\n      <td>...</td>\n      <td>...</td>\n      <td>...</td>\n      <td>...</td>\n      <td>...</td>\n      <td>...</td>\n      <td>...</td>\n      <td>...</td>\n      <td>...</td>\n    </tr>\n    <tr>\n      <th>2095</th>\n      <td>visualizing_soil</td>\n      <td>isns</td>\n      <td>8641</td>\n      <td>0.0546</td>\n      <td>0.7593</td>\n      <td>3.1551</td>\n      <td>0.0002</td>\n      <td>0.3655</td>\n      <td>0.5518</td>\n      <td>28.7084</td>\n      <td>...</td>\n      <td>1.0</td>\n      <td>LogisticRegression</td>\n      <td>0.982831</td>\n      <td>0.976163</td>\n      <td>0.970925</td>\n      <td>0.991512</td>\n      <td>0.991512</td>\n      <td>0.976163</td>\n      <td>0.997589</td>\n      <td>0.976163</td>\n    </tr>\n    <tr>\n      <th>2096</th>\n      <td>visualizing_soil</td>\n      <td>isns</td>\n      <td>8641</td>\n      <td>0.0546</td>\n      <td>0.7593</td>\n      <td>3.1551</td>\n      <td>0.0002</td>\n      <td>0.3655</td>\n      <td>0.5518</td>\n      <td>28.7084</td>\n      <td>...</td>\n      <td>1.0</td>\n      <td>KNN</td>\n      <td>0.986116</td>\n      <td>0.987859</td>\n      <td>0.984284</td>\n      <td>0.992673</td>\n      <td>0.992673</td>\n      <td>0.987859</td>\n      <td>0.995276</td>\n      <td>0.987859</td>\n    </tr>\n    <tr>\n      <th>2097</th>\n      <td>visualizing_soil</td>\n      <td>isns</td>\n      <td>8641</td>\n      <td>0.0546</td>\n      <td>0.7593</td>\n      <td>3.1551</td>\n      <td>0.0002</td>\n      <td>0.3655</td>\n      <td>0.5518</td>\n      <td>28.7084</td>\n      <td>...</td>\n      <td>1.0</td>\n      <td>RandomForest</td>\n      <td>0.992967</td>\n      <td>0.991714</td>\n      <td>0.987080</td>\n      <td>0.996530</td>\n      <td>0.996626</td>\n      <td>0.992003</td>\n      <td>0.999518</td>\n      <td>0.991811</td>\n    </tr>\n    <tr>\n      <th>2098</th>\n      <td>visualizing_soil</td>\n      <td>isns</td>\n      <td>8641</td>\n      <td>0.0546</td>\n      <td>0.7593</td>\n      <td>3.1551</td>\n      <td>0.0002</td>\n      <td>0.3655</td>\n      <td>0.5518</td>\n      <td>28.7084</td>\n      <td>...</td>\n      <td>1.0</td>\n      <td>AdaBoost</td>\n      <td>0.997011</td>\n      <td>0.991907</td>\n      <td>0.988433</td>\n      <td>0.996433</td>\n      <td>0.996433</td>\n      <td>0.991907</td>\n      <td>0.999325</td>\n      <td>0.991907</td>\n    </tr>\n    <tr>\n      <th>2099</th>\n      <td>visualizing_soil</td>\n      <td>isns</td>\n      <td>8641</td>\n      <td>0.0546</td>\n      <td>0.7593</td>\n      <td>3.1551</td>\n      <td>0.0002</td>\n      <td>0.3655</td>\n      <td>0.5518</td>\n      <td>28.7084</td>\n      <td>...</td>\n      <td>1.0</td>\n      <td>SVC</td>\n      <td>0.965863</td>\n      <td>0.788850</td>\n      <td>0.840936</td>\n      <td>0.953642</td>\n      <td>0.953642</td>\n      <td>0.788850</td>\n      <td>0.967536</td>\n      <td>0.788850</td>\n    </tr>\n  </tbody>\n</table>\n<p>2100 rows × 25 columns</p>\n</div>"
     },
     "execution_count": 25,
     "metadata": {},
     "output_type": "execute_result"
    }
   ],
   "source": [
    "exp_8"
   ],
   "metadata": {
    "collapsed": false
   }
  },
  {
   "cell_type": "code",
   "execution_count": 26,
   "outputs": [
    {
     "data": {
      "text/plain": "Index(['name', 'column_name', 'n_tuples', 'missing_perc', 'constancy',\n       'imbalance', 'uniqueness', 'unalikeability', 'entropy', 'density',\n       'mean_char', 'std_char', 'skewness_char', 'kurtosis_char', 'min_char',\n       'max_char', 'ml_method', 'impute_standard', 'impute_mode',\n       'impute_random', 'impute_knn', 'impute_mice',\n       'impute_logistic_regression', 'impute_random_forest', 'impute_kproto'],\n      dtype='object')"
     },
     "execution_count": 26,
     "metadata": {},
     "output_type": "execute_result"
    }
   ],
   "source": [
    "exp_8.columns"
   ],
   "metadata": {
    "collapsed": false
   }
  },
  {
   "cell_type": "code",
   "execution_count": 27,
   "outputs": [],
   "source": [
    "cols = ['n_tuples', 'missing_perc', 'constancy',\n",
    "       'imbalance', 'uniqueness', 'unalikeability', 'entropy', 'density',\n",
    "       'mean_char', 'std_char', 'skewness_char', 'kurtosis_char', 'min_char',\n",
    "       'max_char', 'impute_standard', 'impute_mode',\n",
    "       'impute_random', 'impute_knn', 'impute_mice',\n",
    "       'impute_logistic_regression', 'impute_random_forest', 'impute_kproto']"
   ],
   "metadata": {
    "collapsed": false
   }
  },
  {
   "cell_type": "code",
   "execution_count": 28,
   "outputs": [],
   "source": [
    "exp_1[cols] = exp_1[cols] + exp_2[cols] + exp_3[cols] + exp_4[cols] + exp_5[cols] + exp_6[cols] + exp_7[cols] + exp_8[cols]\n",
    "exp_1[cols] = exp_1[cols]/8"
   ],
   "metadata": {
    "collapsed": false
   }
  },
  {
   "cell_type": "code",
   "execution_count": 29,
   "outputs": [],
   "source": [
    "exp_1.to_csv(\"../kb/KBC.csv\",index=None)\n"
   ],
   "metadata": {
    "collapsed": false
   }
  },
  {
   "cell_type": "code",
   "execution_count": null,
   "outputs": [],
   "source": [],
   "metadata": {
    "collapsed": false
   }
  }
 ],
 "metadata": {
  "kernelspec": {
   "display_name": "Python 3",
   "language": "python",
   "name": "python3"
  },
  "language_info": {
   "codemirror_mode": {
    "name": "ipython",
    "version": 2
   },
   "file_extension": ".py",
   "mimetype": "text/x-python",
   "name": "python",
   "nbconvert_exporter": "python",
   "pygments_lexer": "ipython2",
   "version": "2.7.6"
  }
 },
 "nbformat": 4,
 "nbformat_minor": 0
}
