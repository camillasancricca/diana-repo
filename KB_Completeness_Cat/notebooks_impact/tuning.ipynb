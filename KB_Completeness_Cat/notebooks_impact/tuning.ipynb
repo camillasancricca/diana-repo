{
 "cells": [
  {
   "cell_type": "code",
   "execution_count": 4,
   "outputs": [],
   "source": [
    "import pandas as pd\n",
    "from sklearn.neighbors import KNeighborsRegressor\n",
    "from sklearn.preprocessing import StandardScaler\n",
    "import numpy as np\n",
    "from sklearn.metrics import root_mean_squared_error\n",
    "from scripts import kb\n",
    "import warnings\n",
    "warnings.filterwarnings(\"ignore\")\n",
    "kb_completeness = kb.get_kb_impact_completeness()"
   ],
   "metadata": {
    "collapsed": false
   }
  },
  {
   "cell_type": "code",
   "execution_count": 5,
   "outputs": [],
   "source": [
    "datasets = kb_completeness.name.unique()\n",
    "objects = kb_completeness.column_name.unique()\n",
    "ml_algorithms = kb_completeness.ml_algorithm.unique()\n",
    "\n",
    "columns_X = ['n_tuples', 'constancy',\n",
    "       'imbalance', 'uniqueness', 'unalikeability', 'entropy', 'density',\n",
    "       'mean_char', 'std_char', 'skewness_char', 'kurtosis_char', 'min_char',\n",
    "       'max_char', 'missing_perc']\n",
    "\n",
    "techniques = ['impute_standard', 'impute_mode',\n",
    "       'impute_random', 'impute_knn', 'impute_mice',\n",
    "       'impute_logistic_regression', 'impute_random_forest', 'impute_kproto']\n",
    "\n",
    "def training_testing_completeness(distance, k):\n",
    "    with open(\"../results/prediction_completeness.csv\", \"w\") as f1:\n",
    "        f1.write(\"dataset,model,technique,rmse\\n\")\n",
    "\n",
    "        for dataset in datasets:\n",
    "            for model in ml_algorithms:\n",
    "                for technique in techniques:\n",
    "\n",
    "                    data = kb_completeness.copy()\n",
    "\n",
    "                    df = data[(data[\"ml_algorithm\"] == model)].copy()\n",
    "\n",
    "                    train = df[df[\"name\"] != dataset]\n",
    "                    test = df[df[\"name\"] == dataset]\n",
    "\n",
    "                    X_train = train[columns_X]\n",
    "                    y_train = train[technique]\n",
    "                    X_test = test[columns_X]\n",
    "                    y_test = test[technique]\n",
    "\n",
    "                    X_test_not_scaled = X_test.reset_index(drop=True).copy()\n",
    "\n",
    "                    X_train = StandardScaler().fit_transform(X_train)\n",
    "                    X_train = np.nan_to_num(X_train)\n",
    "\n",
    "                    X_test = StandardScaler().fit_transform(X_test)\n",
    "                    X_test = np.nan_to_num(X_test)\n",
    "\n",
    "                    knn = KNeighborsRegressor(n_neighbors=k, metric=distance)\n",
    "                    knn.fit(X_train, y_train)\n",
    "\n",
    "                    y_pred = knn.predict(X_test)\n",
    "                    error = root_mean_squared_error(y_test, y_pred)\n",
    "                    #print(dataset+\": \"+str(error))\n",
    "                    f1.write(dataset + \",\" + model + \",\" + technique + \",\" + str(error) + \"\\n\")\n",
    "\n",
    "    data = pd.read_csv(\"../results/prediction_completeness.csv\")\n",
    "    print(\"Done! Final RMSE for \"+distance+\" and \"+str(k)+\" neighbours: \"+str(data.rmse.mean()))"
   ],
   "metadata": {
    "collapsed": false
   }
  },
  {
   "cell_type": "code",
   "execution_count": 6,
   "outputs": [
    {
     "name": "stdout",
     "output_type": "stream",
     "text": [
      "Done! Final RMSE for cosine and 14 neighbours: 0.03750194407465105\n",
      "Done! Final RMSE for euclidean and 14 neighbours: 0.03445399473219821\n",
      "Done! Final RMSE for manhattan and 14 neighbours: 0.03428640153711452\n"
     ]
    }
   ],
   "source": [
    "for distance in ['cosine','euclidean','manhattan']:\n",
    "    training_testing_completeness(distance, 14)"
   ],
   "metadata": {
    "collapsed": false
   }
  },
  {
   "cell_type": "code",
   "execution_count": 7,
   "outputs": [
    {
     "name": "stdout",
     "output_type": "stream",
     "text": [
      "Done! Final RMSE for manhattan and 16 neighbours: 0.033675432890968894\n",
      "Done! Final RMSE for manhattan and 17 neighbours: 0.03335791362454722\n",
      "Done! Final RMSE for manhattan and 18 neighbours: 0.03313336681800607\n",
      "Done! Final RMSE for manhattan and 19 neighbours: 0.03293154628660894\n",
      "Done! Final RMSE for manhattan and 20 neighbours: 0.03275508295163396\n"
     ]
    }
   ],
   "source": [
    "for k in [16,17,18,19,20]:\n",
    "    training_testing_completeness('manhattan', k)\n"
   ],
   "metadata": {
    "collapsed": false
   }
  },
  {
   "cell_type": "code",
   "execution_count": 8,
   "outputs": [
    {
     "name": "stdout",
     "output_type": "stream",
     "text": [
      "Done! Final RMSE for manhattan and 29 neighbours: 0.031288365862363346\n",
      "Done! Final RMSE for manhattan and 30 neighbours: 0.03109480482901224\n",
      "Done! Final RMSE for manhattan and 31 neighbours: 0.030957760168404215\n",
      "Done! Final RMSE for manhattan and 32 neighbours: 0.030837217455562956\n",
      "Done! Final RMSE for manhattan and 33 neighbours: 0.030697730728576837\n"
     ]
    }
   ],
   "source": [
    "for k in [29,30,31,32,33]:\n",
    "    training_testing_completeness('manhattan', k)\n"
   ],
   "metadata": {
    "collapsed": false
   }
  },
  {
   "cell_type": "code",
   "execution_count": 9,
   "outputs": [
    {
     "name": "stdout",
     "output_type": "stream",
     "text": [
      "Done! Final RMSE for manhattan and 30 neighbours: 0.03109480482901224\n",
      "Done! Final RMSE for manhattan and 31 neighbours: 0.030957760168404215\n",
      "Done! Final RMSE for manhattan and 32 neighbours: 0.030837217455562956\n",
      "Done! Final RMSE for manhattan and 33 neighbours: 0.030697730728576837\n",
      "Done! Final RMSE for manhattan and 34 neighbours: 0.030523142926943046\n",
      "Done! Final RMSE for manhattan and 35 neighbours: 0.03040744150568995\n"
     ]
    }
   ],
   "source": [
    "for k in [30,31,32,33,34,35]:\n",
    "    training_testing_completeness('manhattan', k)"
   ],
   "metadata": {
    "collapsed": false
   }
  },
  {
   "cell_type": "code",
   "execution_count": 12,
   "outputs": [
    {
     "name": "stdout",
     "output_type": "stream",
     "text": [
      "Done! Final RMSE for manhattan and 35 neighbours: 0.03040744150568995\n",
      "Done! Final RMSE for manhattan and 36 neighbours: 0.030344349599401868\n",
      "Done! Final RMSE for manhattan and 37 neighbours: 0.030246419458858986\n",
      "Done! Final RMSE for manhattan and 38 neighbours: 0.03013634326119047\n",
      "Done! Final RMSE for manhattan and 39 neighbours: 0.030056916261208405\n",
      "Done! Final RMSE for manhattan and 40 neighbours: 0.029943995529867345\n"
     ]
    }
   ],
   "source": [
    "for k in [35,36,37,38,39,40]:\n",
    "    training_testing_completeness('manhattan', k)"
   ],
   "metadata": {
    "collapsed": false
   }
  },
  {
   "cell_type": "code",
   "execution_count": 13,
   "outputs": [],
   "source": [
    "### best k = 35"
   ],
   "metadata": {
    "collapsed": false
   }
  },
  {
   "cell_type": "code",
   "execution_count": 14,
   "outputs": [
    {
     "name": "stdout",
     "output_type": "stream",
     "text": [
      "Done! Final RMSE for cosine and 35 neighbours: 0.03241262117425579\n",
      "Done! Final RMSE for euclidean and 35 neighbours: 0.0304920652536932\n",
      "Done! Final RMSE for manhattan and 35 neighbours: 0.03040744150568995\n"
     ]
    }
   ],
   "source": [
    "for distance in ['cosine','euclidean','manhattan']:\n",
    "    training_testing_completeness(distance, 35)\n"
   ],
   "metadata": {
    "collapsed": false
   }
  },
  {
   "cell_type": "code",
   "execution_count": null,
   "outputs": [],
   "source": [
    "### best distance is cosine\n"
   ],
   "metadata": {
    "collapsed": false
   }
  }
 ],
 "metadata": {
  "kernelspec": {
   "display_name": "Python 3",
   "language": "python",
   "name": "python3"
  },
  "language_info": {
   "codemirror_mode": {
    "name": "ipython",
    "version": 2
   },
   "file_extension": ".py",
   "mimetype": "text/x-python",
   "name": "python",
   "nbconvert_exporter": "python",
   "pygments_lexer": "ipython2",
   "version": "2.7.6"
  }
 },
 "nbformat": 4,
 "nbformat_minor": 0
}
