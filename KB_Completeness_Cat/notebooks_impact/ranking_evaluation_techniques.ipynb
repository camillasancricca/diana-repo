{
 "cells": [
  {
   "cell_type": "code",
   "execution_count": 1,
   "outputs": [],
   "source": [
    "import pandas as pd\n",
    "from scripts import tt_impact as tt\n",
    "from scripts import kb\n",
    "import numpy as np\n",
    "import warnings\n",
    "warnings.filterwarnings(\"ignore\")"
   ],
   "metadata": {
    "collapsed": false
   }
  },
  {
   "cell_type": "code",
   "execution_count": 2,
   "outputs": [
    {
     "data": {
      "text/plain": "                  name column_name  n_tuples  missing_perc  constancy  \\\n0              abalone         Sex    4177.0      0.500287     0.3663   \n1              abalone         Sex    4177.0      0.500287     0.3663   \n2              abalone         Sex    4177.0      0.500287     0.3663   \n3              abalone         Sex    4177.0      0.500287     0.3663   \n4              abalone         Sex    4177.0      0.500287     0.3663   \n...                ...         ...       ...           ...        ...   \n2095  visualizing_soil        isns    8641.0      0.050862     0.7594   \n2096  visualizing_soil        isns    8641.0      0.050862     0.7594   \n2097  visualizing_soil        isns    8641.0      0.050862     0.7594   \n2098  visualizing_soil        isns    8641.0      0.050862     0.7594   \n2099  visualizing_soil        isns    8641.0      0.050862     0.7594   \n\n      imbalance  uniqueness  unalikeability   entropy    density  ...  \\\n0      1.197025    0.001425        0.664975  1.095625   2.161625  ...   \n1      1.197025    0.001425        0.664975  1.095625   2.161625  ...   \n2      1.197025    0.001425        0.664975  1.095625   2.161625  ...   \n3      1.197025    0.001425        0.664975  1.095625   2.161625  ...   \n4      1.197025    0.001425        0.664975  1.095625   2.161625  ...   \n...         ...         ...             ...       ...        ...  ...   \n2095   3.156188    0.000200        0.365475  0.551775  28.338088  ...   \n2096   3.156188    0.000200        0.365475  0.551775  28.338088  ...   \n2097   3.156188    0.000200        0.365475  0.551775  28.338088  ...   \n2098   3.156188    0.000200        0.365475  0.551775  28.338088  ...   \n2099   3.156188    0.000200        0.365475  0.551775  28.338088  ...   \n\n      max_char        ml_algorithm  impute_standard  impute_mode  \\\n0          1.0        DecisionTree              0.0    -0.004576   \n1          1.0  LogisticRegression              0.0     0.013981   \n2          1.0                 KNN              0.0     0.000848   \n3          1.0        RandomForest              0.0    -0.005688   \n4          1.0            AdaBoost              0.0     0.000000   \n...        ...                 ...              ...          ...   \n2095       1.0  LogisticRegression              0.0     0.005139   \n2096       1.0                 KNN              0.0    -0.002216   \n2097       1.0        RandomForest              0.0     0.000581   \n2098       1.0            AdaBoost              0.0     0.002912   \n2099       1.0                 SVC              0.0     0.112025   \n\n      impute_random  impute_knn impute_mice  impute_logistic_regression  \\\n0         -0.003006   -0.000446   -0.000082                   -0.007539   \n1          0.011276    0.001248    0.001105                   -0.023138   \n2         -0.000432    0.012501    0.012727                   -0.016057   \n3         -0.002734    0.003263    0.003979                   -0.015124   \n4          0.000000    0.000000    0.000000                    0.000000   \n...             ...         ...         ...                         ...   \n2095       0.009534   -0.008253   -0.008290                    0.005139   \n2096       0.000978   -0.005959   -0.005996                   -0.002216   \n2097       0.004356   -0.002955   -0.003015                    0.000484   \n2098       0.006096   -0.000459   -0.000495                    0.002912   \n2099       0.092822   -0.022800   -0.022131                    0.112025   \n\n      impute_random_forest  impute_kproto  \n0                -0.006168      -0.004720  \n1                -0.015590       0.013981  \n2                 0.001379       0.000848  \n3                -0.017479      -0.009240  \n4                 0.000000       0.000000  \n...                    ...            ...  \n2095             -0.013618       0.005139  \n2096             -0.008402      -0.002216  \n2097             -0.005440       0.000545  \n2098             -0.003048       0.002912  \n2099             -0.034414       0.112025  \n\n[2100 rows x 25 columns]",
      "text/html": "<div>\n<style scoped>\n    .dataframe tbody tr th:only-of-type {\n        vertical-align: middle;\n    }\n\n    .dataframe tbody tr th {\n        vertical-align: top;\n    }\n\n    .dataframe thead th {\n        text-align: right;\n    }\n</style>\n<table border=\"1\" class=\"dataframe\">\n  <thead>\n    <tr style=\"text-align: right;\">\n      <th></th>\n      <th>name</th>\n      <th>column_name</th>\n      <th>n_tuples</th>\n      <th>missing_perc</th>\n      <th>constancy</th>\n      <th>imbalance</th>\n      <th>uniqueness</th>\n      <th>unalikeability</th>\n      <th>entropy</th>\n      <th>density</th>\n      <th>...</th>\n      <th>max_char</th>\n      <th>ml_algorithm</th>\n      <th>impute_standard</th>\n      <th>impute_mode</th>\n      <th>impute_random</th>\n      <th>impute_knn</th>\n      <th>impute_mice</th>\n      <th>impute_logistic_regression</th>\n      <th>impute_random_forest</th>\n      <th>impute_kproto</th>\n    </tr>\n  </thead>\n  <tbody>\n    <tr>\n      <th>0</th>\n      <td>abalone</td>\n      <td>Sex</td>\n      <td>4177.0</td>\n      <td>0.500287</td>\n      <td>0.3663</td>\n      <td>1.197025</td>\n      <td>0.001425</td>\n      <td>0.664975</td>\n      <td>1.095625</td>\n      <td>2.161625</td>\n      <td>...</td>\n      <td>1.0</td>\n      <td>DecisionTree</td>\n      <td>0.0</td>\n      <td>-0.004576</td>\n      <td>-0.003006</td>\n      <td>-0.000446</td>\n      <td>-0.000082</td>\n      <td>-0.007539</td>\n      <td>-0.006168</td>\n      <td>-0.004720</td>\n    </tr>\n    <tr>\n      <th>1</th>\n      <td>abalone</td>\n      <td>Sex</td>\n      <td>4177.0</td>\n      <td>0.500287</td>\n      <td>0.3663</td>\n      <td>1.197025</td>\n      <td>0.001425</td>\n      <td>0.664975</td>\n      <td>1.095625</td>\n      <td>2.161625</td>\n      <td>...</td>\n      <td>1.0</td>\n      <td>LogisticRegression</td>\n      <td>0.0</td>\n      <td>0.013981</td>\n      <td>0.011276</td>\n      <td>0.001248</td>\n      <td>0.001105</td>\n      <td>-0.023138</td>\n      <td>-0.015590</td>\n      <td>0.013981</td>\n    </tr>\n    <tr>\n      <th>2</th>\n      <td>abalone</td>\n      <td>Sex</td>\n      <td>4177.0</td>\n      <td>0.500287</td>\n      <td>0.3663</td>\n      <td>1.197025</td>\n      <td>0.001425</td>\n      <td>0.664975</td>\n      <td>1.095625</td>\n      <td>2.161625</td>\n      <td>...</td>\n      <td>1.0</td>\n      <td>KNN</td>\n      <td>0.0</td>\n      <td>0.000848</td>\n      <td>-0.000432</td>\n      <td>0.012501</td>\n      <td>0.012727</td>\n      <td>-0.016057</td>\n      <td>0.001379</td>\n      <td>0.000848</td>\n    </tr>\n    <tr>\n      <th>3</th>\n      <td>abalone</td>\n      <td>Sex</td>\n      <td>4177.0</td>\n      <td>0.500287</td>\n      <td>0.3663</td>\n      <td>1.197025</td>\n      <td>0.001425</td>\n      <td>0.664975</td>\n      <td>1.095625</td>\n      <td>2.161625</td>\n      <td>...</td>\n      <td>1.0</td>\n      <td>RandomForest</td>\n      <td>0.0</td>\n      <td>-0.005688</td>\n      <td>-0.002734</td>\n      <td>0.003263</td>\n      <td>0.003979</td>\n      <td>-0.015124</td>\n      <td>-0.017479</td>\n      <td>-0.009240</td>\n    </tr>\n    <tr>\n      <th>4</th>\n      <td>abalone</td>\n      <td>Sex</td>\n      <td>4177.0</td>\n      <td>0.500287</td>\n      <td>0.3663</td>\n      <td>1.197025</td>\n      <td>0.001425</td>\n      <td>0.664975</td>\n      <td>1.095625</td>\n      <td>2.161625</td>\n      <td>...</td>\n      <td>1.0</td>\n      <td>AdaBoost</td>\n      <td>0.0</td>\n      <td>0.000000</td>\n      <td>0.000000</td>\n      <td>0.000000</td>\n      <td>0.000000</td>\n      <td>0.000000</td>\n      <td>0.000000</td>\n      <td>0.000000</td>\n    </tr>\n    <tr>\n      <th>...</th>\n      <td>...</td>\n      <td>...</td>\n      <td>...</td>\n      <td>...</td>\n      <td>...</td>\n      <td>...</td>\n      <td>...</td>\n      <td>...</td>\n      <td>...</td>\n      <td>...</td>\n      <td>...</td>\n      <td>...</td>\n      <td>...</td>\n      <td>...</td>\n      <td>...</td>\n      <td>...</td>\n      <td>...</td>\n      <td>...</td>\n      <td>...</td>\n      <td>...</td>\n      <td>...</td>\n    </tr>\n    <tr>\n      <th>2095</th>\n      <td>visualizing_soil</td>\n      <td>isns</td>\n      <td>8641.0</td>\n      <td>0.050862</td>\n      <td>0.7594</td>\n      <td>3.156188</td>\n      <td>0.000200</td>\n      <td>0.365475</td>\n      <td>0.551775</td>\n      <td>28.338088</td>\n      <td>...</td>\n      <td>1.0</td>\n      <td>LogisticRegression</td>\n      <td>0.0</td>\n      <td>0.005139</td>\n      <td>0.009534</td>\n      <td>-0.008253</td>\n      <td>-0.008290</td>\n      <td>0.005139</td>\n      <td>-0.013618</td>\n      <td>0.005139</td>\n    </tr>\n    <tr>\n      <th>2096</th>\n      <td>visualizing_soil</td>\n      <td>isns</td>\n      <td>8641.0</td>\n      <td>0.050862</td>\n      <td>0.7594</td>\n      <td>3.156188</td>\n      <td>0.000200</td>\n      <td>0.365475</td>\n      <td>0.551775</td>\n      <td>28.338088</td>\n      <td>...</td>\n      <td>1.0</td>\n      <td>KNN</td>\n      <td>0.0</td>\n      <td>-0.002216</td>\n      <td>0.000978</td>\n      <td>-0.005959</td>\n      <td>-0.005996</td>\n      <td>-0.002216</td>\n      <td>-0.008402</td>\n      <td>-0.002216</td>\n    </tr>\n    <tr>\n      <th>2097</th>\n      <td>visualizing_soil</td>\n      <td>isns</td>\n      <td>8641.0</td>\n      <td>0.050862</td>\n      <td>0.7594</td>\n      <td>3.156188</td>\n      <td>0.000200</td>\n      <td>0.365475</td>\n      <td>0.551775</td>\n      <td>28.338088</td>\n      <td>...</td>\n      <td>1.0</td>\n      <td>RandomForest</td>\n      <td>0.0</td>\n      <td>0.000581</td>\n      <td>0.004356</td>\n      <td>-0.002955</td>\n      <td>-0.003015</td>\n      <td>0.000484</td>\n      <td>-0.005440</td>\n      <td>0.000545</td>\n    </tr>\n    <tr>\n      <th>2098</th>\n      <td>visualizing_soil</td>\n      <td>isns</td>\n      <td>8641.0</td>\n      <td>0.050862</td>\n      <td>0.7594</td>\n      <td>3.156188</td>\n      <td>0.000200</td>\n      <td>0.365475</td>\n      <td>0.551775</td>\n      <td>28.338088</td>\n      <td>...</td>\n      <td>1.0</td>\n      <td>AdaBoost</td>\n      <td>0.0</td>\n      <td>0.002912</td>\n      <td>0.006096</td>\n      <td>-0.000459</td>\n      <td>-0.000495</td>\n      <td>0.002912</td>\n      <td>-0.003048</td>\n      <td>0.002912</td>\n    </tr>\n    <tr>\n      <th>2099</th>\n      <td>visualizing_soil</td>\n      <td>isns</td>\n      <td>8641.0</td>\n      <td>0.050862</td>\n      <td>0.7594</td>\n      <td>3.156188</td>\n      <td>0.000200</td>\n      <td>0.365475</td>\n      <td>0.551775</td>\n      <td>28.338088</td>\n      <td>...</td>\n      <td>1.0</td>\n      <td>SVC</td>\n      <td>0.0</td>\n      <td>0.112025</td>\n      <td>0.092822</td>\n      <td>-0.022800</td>\n      <td>-0.022131</td>\n      <td>0.112025</td>\n      <td>-0.034414</td>\n      <td>0.112025</td>\n    </tr>\n  </tbody>\n</table>\n<p>2100 rows × 25 columns</p>\n</div>"
     },
     "execution_count": 2,
     "metadata": {},
     "output_type": "execute_result"
    }
   ],
   "source": [
    "kb_completeness = kb.get_kb_impact_completeness()\n",
    "kb_completeness"
   ],
   "metadata": {
    "collapsed": false
   }
  },
  {
   "cell_type": "code",
   "execution_count": 3,
   "outputs": [],
   "source": [
    "techniques = ['impute_standard', 'impute_mode',\n",
    "       'impute_random', 'impute_knn', 'impute_mice',\n",
    "       'impute_logistic_regression', 'impute_random_forest', 'impute_kproto']\n"
   ],
   "metadata": {
    "collapsed": false
   }
  },
  {
   "cell_type": "code",
   "execution_count": 4,
   "outputs": [
    {
     "data": {
      "text/plain": "       impute_standard  impute_mode  impute_random   impute_knn  impute_mice  \\\ncount           2100.0  2100.000000    2100.000000  2100.000000  2100.000000   \nmean               0.0     0.006230       0.013960     0.005504     0.005493   \nstd                0.0     0.039060       0.055915     0.062998     0.062294   \nmin                0.0    -0.404526      -0.782809    -1.187021    -1.054676   \n25%                0.0    -0.001523      -0.000384    -0.003295    -0.003500   \n50%                0.0     0.000085       0.002982     0.000000     0.000000   \n75%                0.0     0.008776       0.020483     0.012476     0.013064   \nmax                0.0     0.361374       0.551228     0.316264     0.290912   \n\n       impute_logistic_regression  impute_random_forest  impute_kproto  \ncount                 2100.000000           2100.000000    2100.000000  \nmean                     0.005295              0.004860       0.006408  \nstd                      0.053661              0.063681       0.039244  \nmin                     -0.917147             -1.035399      -0.627830  \n25%                     -0.003053             -0.003916      -0.001697  \n50%                      0.000000              0.000000       0.000083  \n75%                      0.009475              0.010009       0.009271  \nmax                      0.370424              0.379035       0.280677  ",
      "text/html": "<div>\n<style scoped>\n    .dataframe tbody tr th:only-of-type {\n        vertical-align: middle;\n    }\n\n    .dataframe tbody tr th {\n        vertical-align: top;\n    }\n\n    .dataframe thead th {\n        text-align: right;\n    }\n</style>\n<table border=\"1\" class=\"dataframe\">\n  <thead>\n    <tr style=\"text-align: right;\">\n      <th></th>\n      <th>impute_standard</th>\n      <th>impute_mode</th>\n      <th>impute_random</th>\n      <th>impute_knn</th>\n      <th>impute_mice</th>\n      <th>impute_logistic_regression</th>\n      <th>impute_random_forest</th>\n      <th>impute_kproto</th>\n    </tr>\n  </thead>\n  <tbody>\n    <tr>\n      <th>count</th>\n      <td>2100.0</td>\n      <td>2100.000000</td>\n      <td>2100.000000</td>\n      <td>2100.000000</td>\n      <td>2100.000000</td>\n      <td>2100.000000</td>\n      <td>2100.000000</td>\n      <td>2100.000000</td>\n    </tr>\n    <tr>\n      <th>mean</th>\n      <td>0.0</td>\n      <td>0.006230</td>\n      <td>0.013960</td>\n      <td>0.005504</td>\n      <td>0.005493</td>\n      <td>0.005295</td>\n      <td>0.004860</td>\n      <td>0.006408</td>\n    </tr>\n    <tr>\n      <th>std</th>\n      <td>0.0</td>\n      <td>0.039060</td>\n      <td>0.055915</td>\n      <td>0.062998</td>\n      <td>0.062294</td>\n      <td>0.053661</td>\n      <td>0.063681</td>\n      <td>0.039244</td>\n    </tr>\n    <tr>\n      <th>min</th>\n      <td>0.0</td>\n      <td>-0.404526</td>\n      <td>-0.782809</td>\n      <td>-1.187021</td>\n      <td>-1.054676</td>\n      <td>-0.917147</td>\n      <td>-1.035399</td>\n      <td>-0.627830</td>\n    </tr>\n    <tr>\n      <th>25%</th>\n      <td>0.0</td>\n      <td>-0.001523</td>\n      <td>-0.000384</td>\n      <td>-0.003295</td>\n      <td>-0.003500</td>\n      <td>-0.003053</td>\n      <td>-0.003916</td>\n      <td>-0.001697</td>\n    </tr>\n    <tr>\n      <th>50%</th>\n      <td>0.0</td>\n      <td>0.000085</td>\n      <td>0.002982</td>\n      <td>0.000000</td>\n      <td>0.000000</td>\n      <td>0.000000</td>\n      <td>0.000000</td>\n      <td>0.000083</td>\n    </tr>\n    <tr>\n      <th>75%</th>\n      <td>0.0</td>\n      <td>0.008776</td>\n      <td>0.020483</td>\n      <td>0.012476</td>\n      <td>0.013064</td>\n      <td>0.009475</td>\n      <td>0.010009</td>\n      <td>0.009271</td>\n    </tr>\n    <tr>\n      <th>max</th>\n      <td>0.0</td>\n      <td>0.361374</td>\n      <td>0.551228</td>\n      <td>0.316264</td>\n      <td>0.290912</td>\n      <td>0.370424</td>\n      <td>0.379035</td>\n      <td>0.280677</td>\n    </tr>\n  </tbody>\n</table>\n</div>"
     },
     "execution_count": 4,
     "metadata": {},
     "output_type": "execute_result"
    }
   ],
   "source": [
    "kb_completeness[techniques].describe()"
   ],
   "metadata": {
    "collapsed": false
   }
  },
  {
   "cell_type": "code",
   "execution_count": 5,
   "outputs": [],
   "source": [
    "### differenze di performance\n",
    "\n",
    "### differenza di impatto con varianza sul 0.05 (5%)\n",
    "### è da provare sia kb_performance sia kb_impact"
   ],
   "metadata": {
    "collapsed": false
   }
  },
  {
   "cell_type": "code",
   "execution_count": 6,
   "outputs": [
    {
     "name": "stdout",
     "output_type": "stream",
     "text": [
      "abalone: 0.0\n",
      "abalone: 0.016401359827050013\n",
      "abalone: 0.020422010092055\n",
      "abalone: 0.01762226017746928\n",
      "abalone: 0.017255246415361487\n",
      "abalone: 0.021969704878384174\n",
      "abalone: 0.023439864184305506\n",
      "abalone: 0.016400188606333143\n",
      "abalone: 0.0\n",
      "abalone: 0.00847624170140997\n",
      "abalone: 0.008125914092840462\n",
      "abalone: 0.009606080949011919\n",
      "abalone: 0.009748182596554574\n",
      "abalone: 0.019470079531092505\n",
      "abalone: 0.014448693032438141\n",
      "abalone: 0.008317397435709284\n",
      "abalone: 0.0\n",
      "abalone: 0.02393154604113961\n",
      "abalone: 0.029800725626896722\n",
      "abalone: 0.03052816695440601\n",
      "abalone: 0.030548090781864573\n",
      "abalone: 0.018369046468920205\n",
      "abalone: 0.027972229435223532\n",
      "abalone: 0.024360836125411796\n",
      "abalone: 0.0\n",
      "abalone: 0.010335502433902766\n",
      "abalone: 0.008758334508662063\n",
      "abalone: 0.01522081564933652\n",
      "abalone: 0.015624952488042243\n",
      "abalone: 0.022696212482902087\n",
      "abalone: 0.023263076982283463\n",
      "abalone: 0.012892641643835953\n",
      "abalone: 0.0\n",
      "abalone: 0.004552578376931626\n",
      "abalone: 0.008660370747601091\n",
      "abalone: 0.007484627640905049\n",
      "abalone: 0.006873108018742715\n",
      "abalone: 0.004958886372534651\n",
      "abalone: 0.005618245479330573\n",
      "abalone: 0.004140596508622396\n",
      "abalone: 0.0\n",
      "abalone: 0.06048612997116804\n",
      "abalone: 0.045987918353397425\n",
      "abalone: 0.04308688729411985\n",
      "abalone: 0.04251175785025266\n",
      "abalone: 0.03068951837083656\n",
      "abalone: 0.0330920592834442\n",
      "abalone: 0.057940600304905374\n",
      "BachChoralHarmony: 0.0\n",
      "BachChoralHarmony: 0.011176306348927157\n",
      "BachChoralHarmony: 0.053575613451544275\n",
      "BachChoralHarmony: 0.0218886135981688\n",
      "BachChoralHarmony: 0.022553841656475004\n",
      "BachChoralHarmony: 0.0247411259486338\n",
      "BachChoralHarmony: 0.03614955756977677\n",
      "BachChoralHarmony: 0.011304539384110687\n",
      "BachChoralHarmony: 0.0\n",
      "BachChoralHarmony: 0.012427685109305696\n",
      "BachChoralHarmony: 0.03944660944508739\n",
      "BachChoralHarmony: 0.026619565079760887\n",
      "BachChoralHarmony: 0.02673717546569094\n",
      "BachChoralHarmony: 0.016900734475627236\n",
      "BachChoralHarmony: 0.03707729460231185\n",
      "BachChoralHarmony: 0.012135742622111692\n",
      "BachChoralHarmony: 0.0\n",
      "BachChoralHarmony: 0.014844783749313736\n",
      "BachChoralHarmony: 0.055705103882404045\n",
      "BachChoralHarmony: 0.040100379931939836\n",
      "BachChoralHarmony: 0.04010469640770762\n",
      "BachChoralHarmony: 0.030381746768834685\n",
      "BachChoralHarmony: 0.044356209955643586\n",
      "BachChoralHarmony: 0.015488836280846838\n",
      "BachChoralHarmony: 0.0\n",
      "BachChoralHarmony: 0.0132050933903362\n",
      "BachChoralHarmony: 0.04285710348291497\n",
      "BachChoralHarmony: 0.04245285471909498\n",
      "BachChoralHarmony: 0.042074759122426114\n",
      "BachChoralHarmony: 0.015517870771462208\n",
      "BachChoralHarmony: 0.055186046748083674\n",
      "BachChoralHarmony: 0.01265150877106153\n",
      "BachChoralHarmony: 0.0\n",
      "BachChoralHarmony: 0.03888724972345039\n",
      "BachChoralHarmony: 0.15949654673050773\n",
      "BachChoralHarmony: 0.06911321795963767\n",
      "BachChoralHarmony: 0.06656766726316726\n",
      "BachChoralHarmony: 0.05551737704835173\n",
      "BachChoralHarmony: 0.1075767037445386\n",
      "BachChoralHarmony: 0.034962562702032\n",
      "BachChoralHarmony: 0.0\n",
      "BachChoralHarmony: 0.04805094252809646\n",
      "BachChoralHarmony: 0.10068156703741941\n",
      "BachChoralHarmony: 0.09351975082029489\n",
      "BachChoralHarmony: 0.09219204504424718\n",
      "BachChoralHarmony: 0.07525892896218257\n",
      "BachChoralHarmony: 0.09340585766210546\n",
      "BachChoralHarmony: 0.05190286790846605\n",
      "bank: 0.0\n",
      "bank: 0.006230382935810784\n",
      "bank: 0.01915386729186613\n",
      "bank: 0.011566731197492993\n",
      "bank: 0.011464528044643143\n",
      "bank: 0.006333997776678898\n",
      "bank: 0.007191986196983709\n",
      "bank: 0.0059296872588741\n",
      "bank: 0.0\n",
      "bank: 0.015039509019711395\n",
      "bank: 0.02442356645883325\n",
      "bank: 0.01887152418538741\n",
      "bank: 0.018877776039941438\n",
      "bank: 0.016693065596503888\n",
      "bank: 0.016857230058969993\n",
      "bank: 0.015100529868606957\n",
      "bank: 0.0\n",
      "bank: 0.012043038060700445\n",
      "bank: 0.01823544105811991\n",
      "bank: 0.018380624010047034\n",
      "bank: 0.018385420570774053\n",
      "bank: 0.015879953608390292\n",
      "bank: 0.018504566807969344\n",
      "bank: 0.012369145831138916\n",
      "bank: 0.0\n",
      "bank: 0.012647164249958494\n",
      "bank: 0.01998939619458434\n",
      "bank: 0.015087507297560148\n",
      "bank: 0.015853468771772194\n",
      "bank: 0.012124507353900943\n",
      "bank: 0.014744038766374866\n",
      "bank: 0.012431900400446668\n",
      "bank: 0.0\n",
      "bank: 0.010344170850096058\n",
      "bank: 0.03219252840164011\n",
      "bank: 0.011483835404424953\n",
      "bank: 0.010912071911980237\n",
      "bank: 0.008019953636851632\n",
      "bank: 0.01700067134321332\n",
      "bank: 0.009049507319461662\n",
      "bank: 0.0\n",
      "bank: 0.0341089524020858\n",
      "bank: 0.04989911160915527\n",
      "bank: 0.02995306953082734\n",
      "bank: 0.031006237888762087\n",
      "bank: 0.03820257606682382\n",
      "bank: 0.039972690759874835\n",
      "bank: 0.034097549889795735\n",
      "car: 0.0\n",
      "car: 0.010269317154746667\n",
      "car: 0.011275139957291892\n",
      "car: 0.00906525009491956\n",
      "car: 0.009806337215027182\n",
      "car: 0.012440927132332177\n",
      "car: 0.012229673908220134\n",
      "car: 0.010008442623223887\n",
      "car: 0.0\n",
      "car: 0.017671708889283065\n",
      "car: 0.02566341229503\n",
      "car: 0.024274821118604035\n",
      "car: 0.024179033848736754\n",
      "car: 0.02642663302036412\n",
      "car: 0.030708352660486445\n",
      "car: 0.01927044839566327\n",
      "car: 0.0\n",
      "car: 0.028099026197893128\n",
      "car: 0.026007417380932034\n",
      "car: 0.033240051218761904\n",
      "car: 0.035174475349916495\n",
      "car: 0.03607981012046421\n",
      "car: 0.038101989057773046\n",
      "car: 0.02664407958840419\n",
      "car: 0.0\n",
      "car: 0.01377417177529924\n",
      "car: 0.017359326566333474\n",
      "car: 0.014840901338321333\n",
      "car: 0.01625767778786585\n",
      "car: 0.01600183236578393\n",
      "car: 0.016933946543014885\n",
      "car: 0.013903762610361338\n",
      "car: 0.0\n",
      "car: 0.0223891264020617\n",
      "car: 0.030478825783975448\n",
      "car: 0.030374732874265675\n",
      "car: 0.03400043533288575\n",
      "car: 0.024466363505907324\n",
      "car: 0.033040339049828595\n",
      "car: 0.019158872737726852\n",
      "car: 0.0\n",
      "car: 0.09473044914340846\n",
      "car: 0.15311701591168464\n",
      "car: 0.1756709370377035\n",
      "car: 0.17742287084286576\n",
      "car: 0.1529899512056242\n",
      "car: 0.1801957515532424\n",
      "car: 0.10913093563606029\n",
      "drug: 0.0\n",
      "drug: 0.021957909279056095\n",
      "drug: 0.022759722618526258\n",
      "drug: 0.04323947970397635\n",
      "drug: 0.041473812477936425\n",
      "drug: 0.031605873127574756\n",
      "drug: 0.026779992008848175\n",
      "drug: 0.022455020989804234\n",
      "drug: 0.0\n",
      "drug: 0.02398333987418093\n",
      "drug: 0.019575446714013657\n",
      "drug: 0.02643584400122895\n",
      "drug: 0.02579368895822027\n",
      "drug: 0.01887656102754737\n",
      "drug: 0.015437603554804667\n",
      "drug: 0.023950374258046556\n",
      "drug: 0.0\n",
      "drug: 0.0947908849269846\n",
      "drug: 0.10177551245487756\n",
      "drug: 0.1096975763410052\n",
      "drug: 0.11036451245704185\n",
      "drug: 0.10359473557447255\n",
      "drug: 0.10257575376048357\n",
      "drug: 0.09498900252098869\n",
      "drug: 0.0\n",
      "drug: 0.02401301317060488\n",
      "drug: 0.016345273285567997\n",
      "drug: 0.035512732117589055\n",
      "drug: 0.035473180531071014\n",
      "drug: 0.023405804840174783\n",
      "drug: 0.025988043260674828\n",
      "drug: 0.023774931061280133\n",
      "drug: 0.0\n",
      "drug: 0.021950571981808914\n",
      "drug: 0.030369027153631722\n",
      "drug: 0.0302647000424657\n",
      "drug: 0.031169719146625936\n",
      "drug: 0.028947152578286596\n",
      "drug: 0.033043959855036595\n",
      "drug: 0.024513005658859707\n",
      "drug: 0.0\n",
      "drug: 0.06029897532641258\n",
      "drug: 0.06307125473506169\n",
      "drug: 0.028511769258936427\n",
      "drug: 0.0271006278737609\n",
      "drug: 0.0572538170701499\n",
      "drug: 0.03962616936276656\n",
      "drug: 0.05842636675048845\n",
      "electricity-normalized: 0.0\n",
      "electricity-normalized: 0.008782176149609007\n",
      "electricity-normalized: 0.008665630830450102\n",
      "electricity-normalized: 0.010558976334334986\n",
      "electricity-normalized: 0.010415224452168102\n",
      "electricity-normalized: 0.009071443905723358\n",
      "electricity-normalized: 0.009028509818908783\n",
      "electricity-normalized: 0.00872959077411814\n",
      "electricity-normalized: 0.0\n",
      "electricity-normalized: 0.011064699059021214\n",
      "electricity-normalized: 0.013423800262669225\n",
      "electricity-normalized: 0.009523200248899763\n",
      "electricity-normalized: 0.009275887030550744\n",
      "electricity-normalized: 0.011070417199454667\n",
      "electricity-normalized: 0.00644283905635764\n",
      "electricity-normalized: 0.011674127777474511\n",
      "electricity-normalized: 0.0\n",
      "electricity-normalized: 0.016257051983340404\n",
      "electricity-normalized: 0.018640643079052752\n",
      "electricity-normalized: 0.02076798116074625\n",
      "electricity-normalized: 0.020793722437645292\n",
      "electricity-normalized: 0.022373055431471826\n",
      "electricity-normalized: 0.022535015196054567\n",
      "electricity-normalized: 0.016452445041611967\n",
      "electricity-normalized: 0.0\n",
      "electricity-normalized: 0.009841806062550995\n",
      "electricity-normalized: 0.005539089686675841\n",
      "electricity-normalized: 0.007586961828312637\n",
      "electricity-normalized: 0.008090296960192526\n",
      "electricity-normalized: 0.007195560941961476\n",
      "electricity-normalized: 0.006972750047564783\n",
      "electricity-normalized: 0.009965133107638762\n",
      "electricity-normalized: 0.0\n",
      "electricity-normalized: 0.005476116524438839\n",
      "electricity-normalized: 0.008174618613990823\n",
      "electricity-normalized: 0.005473281113443043\n",
      "electricity-normalized: 0.0053520233549194645\n",
      "electricity-normalized: 0.003870155381197631\n",
      "electricity-normalized: 0.0037429741581626523\n",
      "electricity-normalized: 0.005890943551508594\n",
      "electricity-normalized: 0.0\n",
      "electricity-normalized: 0.028109405919643938\n",
      "electricity-normalized: 0.059987427798181274\n",
      "electricity-normalized: 0.05496662463796219\n",
      "electricity-normalized: 0.053336790151669054\n",
      "electricity-normalized: 0.060793089106973515\n",
      "electricity-normalized: 0.059839495975014256\n",
      "electricity-normalized: 0.04212525211960615\n",
      "german: 0.0\n",
      "german: 0.004344759178688588\n",
      "german: 0.015448397061162281\n",
      "german: 0.00530277938446012\n",
      "german: 0.004862079253673089\n",
      "german: 0.00424604001067662\n",
      "german: 0.00772166319017145\n",
      "german: 0.004551172541411346\n",
      "german: 0.0\n",
      "german: 0.004784447403458098\n",
      "german: 0.018164409824632816\n",
      "german: 0.008297104410434842\n",
      "german: 0.008334393754833774\n",
      "german: 0.004405313415727522\n",
      "german: 0.011758710777699917\n",
      "german: 0.004831757134803106\n",
      "german: 0.0\n",
      "german: 0.016253731338594063\n",
      "german: 0.017965308730789775\n",
      "german: 0.019431535577925187\n",
      "german: 0.01969717421819889\n",
      "german: 0.018236427103190612\n",
      "german: 0.01737938361096456\n",
      "german: 0.016219394189005205\n",
      "german: 0.0\n",
      "german: 0.012808403863214695\n",
      "german: 0.01914376595219318\n",
      "german: 0.007661692324489029\n",
      "german: 0.007773626310813373\n",
      "german: 0.008500265797874492\n",
      "german: 0.006360523331898383\n",
      "german: 0.01277422707013099\n",
      "german: 0.0\n",
      "german: 0.004821641855109773\n",
      "german: 0.028798415943998772\n",
      "german: 0.007915292402815709\n",
      "german: 0.007685830646232867\n",
      "german: 0.005999735988273367\n",
      "german: 0.015111629027939865\n",
      "german: 0.004690212576377931\n",
      "german: 0.0\n",
      "german: 0.03127683335486264\n",
      "german: 0.056937865725587206\n",
      "german: 0.0262354238181919\n",
      "german: 0.026678394930051915\n",
      "german: 0.03397728459808938\n",
      "german: 0.0517612024047997\n",
      "german: 0.03168670985290197\n",
      "house: 0.0\n",
      "house: 0.008808770194095473\n",
      "house: 0.012880081355361712\n",
      "house: 0.019327239622184748\n",
      "house: 0.018152214404891297\n",
      "house: 0.014591377651900503\n",
      "house: 0.013857633837120803\n",
      "house: 0.009566223866373322\n",
      "house: 0.0\n",
      "house: 0.014848624824186373\n",
      "house: 0.017649853324163314\n",
      "house: 0.014882167786198075\n",
      "house: 0.014490773069548754\n",
      "house: 0.013986489692459447\n",
      "house: 0.01269845675478018\n",
      "house: 0.014789333905873838\n",
      "house: 0.0\n",
      "house: 0.017756800964346994\n",
      "house: 0.021554488945038742\n",
      "house: 0.01890413947827376\n",
      "house: 0.018683140855675136\n",
      "house: 0.017532209597891858\n",
      "house: 0.020213811829476295\n",
      "house: 0.017586962814975318\n",
      "house: 0.0\n",
      "house: 0.014952448554442716\n",
      "house: 0.015945433300459003\n",
      "house: 0.019607883844122053\n",
      "house: 0.019617215215393707\n",
      "house: 0.014325138220846275\n",
      "house: 0.016640821017462927\n",
      "house: 0.014890466254514654\n",
      "house: 0.0\n",
      "house: 0.016338238094795832\n",
      "house: 0.02308996167381427\n",
      "house: 0.02378202283174005\n",
      "house: 0.0232820106295654\n",
      "house: 0.023639369619570822\n",
      "house: 0.022922240746930802\n",
      "house: 0.013389963266704587\n",
      "house: 0.0\n",
      "house: 0.04047406194098934\n",
      "house: 0.04745523361742084\n",
      "house: 0.04113697371850006\n",
      "house: 0.04058350213023638\n",
      "house: 0.04322022768711886\n",
      "house: 0.06203343401778035\n",
      "house: 0.03858085549483687\n",
      "mushrooms: 0.0\n",
      "mushrooms: 0.013721958585637573\n",
      "mushrooms: 0.021611548886391142\n",
      "mushrooms: 0.016601063947854558\n",
      "mushrooms: 0.016259771254728723\n",
      "mushrooms: 0.008972040606354141\n",
      "mushrooms: 0.013908659453011831\n",
      "mushrooms: 0.013664744183474109\n",
      "mushrooms: 0.0\n",
      "mushrooms: 0.013631862792787736\n",
      "mushrooms: 0.02020927724247116\n",
      "mushrooms: 0.015494534208566429\n",
      "mushrooms: 0.015301958477124738\n",
      "mushrooms: 0.01102638325617275\n",
      "mushrooms: 0.013634660079254715\n",
      "mushrooms: 0.01366898135333912\n",
      "mushrooms: 0.0\n",
      "mushrooms: 0.02385120808601862\n",
      "mushrooms: 0.03270578495649891\n",
      "mushrooms: 0.013948913358996699\n",
      "mushrooms: 0.013912909336431955\n",
      "mushrooms: 0.011577919448459144\n",
      "mushrooms: 0.015896872350089675\n",
      "mushrooms: 0.023935423592740538\n",
      "mushrooms: 0.0\n",
      "mushrooms: 0.014907845624237151\n",
      "mushrooms: 0.018590710463503923\n",
      "mushrooms: 0.01837836971999352\n",
      "mushrooms: 0.01847900151392834\n",
      "mushrooms: 0.01055767643608804\n",
      "mushrooms: 0.016610732870119185\n",
      "mushrooms: 0.014750163039640685\n",
      "mushrooms: 0.0\n",
      "mushrooms: 0.020210299279676287\n",
      "mushrooms: 0.03198451586647776\n",
      "mushrooms: 0.017341032486124265\n",
      "mushrooms: 0.015998327678211903\n",
      "mushrooms: 0.015330539739075237\n",
      "mushrooms: 0.029889073766746696\n",
      "mushrooms: 0.015083666792289391\n",
      "mushrooms: 0.0\n",
      "mushrooms: 0.07181369816439855\n",
      "mushrooms: 0.18205433911153934\n",
      "mushrooms: 0.10046636413596484\n",
      "mushrooms: 0.1006892723471662\n",
      "mushrooms: 0.07841411332955543\n",
      "mushrooms: 0.11891953230057366\n",
      "mushrooms: 0.07138194085581273\n",
      "mv: 0.0\n",
      "mv: 0.004502216506150634\n",
      "mv: 0.015338840045272494\n",
      "mv: 0.00657253318947605\n",
      "mv: 0.00631992377862453\n",
      "mv: 0.002202705944186519\n",
      "mv: 0.007497489719316455\n",
      "mv: 0.004428757572956377\n",
      "mv: 0.0\n",
      "mv: 0.006780121658330213\n",
      "mv: 0.011736067695287924\n",
      "mv: 0.034762566574240344\n",
      "mv: 0.034778224290834533\n",
      "mv: 0.03697300695105427\n",
      "mv: 0.0366873829407931\n",
      "mv: 0.006793959807190664\n",
      "mv: 0.0\n",
      "mv: 0.02031701979120359\n",
      "mv: 0.018393856637149007\n",
      "mv: 0.02495565545478015\n",
      "mv: 0.02497701617276216\n",
      "mv: 0.023252889449388664\n",
      "mv: 0.024405175068081836\n",
      "mv: 0.020563844851171652\n",
      "mv: 0.0\n",
      "mv: 0.0060589354310932346\n",
      "mv: 0.014361727470107145\n",
      "mv: 0.008673326099612681\n",
      "mv: 0.00873525713327815\n",
      "mv: 0.0051999806903752135\n",
      "mv: 0.009504234752008405\n",
      "mv: 0.006103431580641735\n",
      "mv: 0.0\n",
      "mv: 0.006649373285436446\n",
      "mv: 0.029533859407162022\n",
      "mv: 0.010178595397106928\n",
      "mv: 0.010000876902792338\n",
      "mv: 0.006222402344816344\n",
      "mv: 0.014761288931336443\n",
      "mv: 0.006668459549814975\n",
      "mv: 0.0\n",
      "mv: 0.06430938292361997\n",
      "mv: 0.06489462101586395\n",
      "mv: 0.04336334087211796\n",
      "mv: 0.04337595469325601\n",
      "mv: 0.03315427614847648\n",
      "mv: 0.04297687041680309\n",
      "mv: 0.06382753468986427\n",
      "nursery: 0.0\n",
      "nursery: 0.010789409335571438\n",
      "nursery: 0.015400552766975993\n",
      "nursery: 0.019759991938233662\n",
      "nursery: 0.019867466803298737\n",
      "nursery: 0.013979208394422677\n",
      "nursery: 0.015890604699428358\n",
      "nursery: 0.010829230142810726\n",
      "nursery: 0.0\n",
      "nursery: 0.014079928618164513\n",
      "nursery: 0.013514633760140003\n",
      "nursery: 0.025634744558114327\n",
      "nursery: 0.025407386000741116\n",
      "nursery: 0.016092628394423842\n",
      "nursery: 0.020904132162993576\n",
      "nursery: 0.01435906081944456\n",
      "nursery: 0.0\n",
      "nursery: 0.028756194285137534\n",
      "nursery: 0.024070006487112567\n",
      "nursery: 0.04275736208286439\n",
      "nursery: 0.04219915901041918\n",
      "nursery: 0.038419452005576143\n",
      "nursery: 0.04100435334056161\n",
      "nursery: 0.029073667962370108\n",
      "nursery: 0.0\n",
      "nursery: 0.012016969241545812\n",
      "nursery: 0.015599843492432508\n",
      "nursery: 0.022102616495399525\n",
      "nursery: 0.02212796674846794\n",
      "nursery: 0.014935895599592354\n",
      "nursery: 0.01892242179576823\n",
      "nursery: 0.01203393271919784\n",
      "nursery: 0.0\n",
      "nursery: 0.10628215686526596\n",
      "nursery: 0.10133699597855447\n",
      "nursery: 0.1012211231918643\n",
      "nursery: 0.09355838908387949\n",
      "nursery: 0.08382137376085624\n",
      "nursery: 0.10633152574068398\n",
      "nursery: 0.06936165219800758\n",
      "nursery: 0.0\n",
      "nursery: 0.16172419220858147\n",
      "nursery: 0.2529005439168445\n",
      "nursery: 0.40103279429661143\n",
      "nursery: 0.3927044306825003\n",
      "nursery: 0.32833224857438803\n",
      "nursery: 0.35121897826463566\n",
      "nursery: 0.18611301314612688\n",
      "soybean: 0.0\n",
      "soybean: 0.026473794330959345\n",
      "soybean: 0.03981377013394086\n",
      "soybean: 0.04470866835253158\n",
      "soybean: 0.04533792218594499\n",
      "soybean: 0.038192406218207055\n",
      "soybean: 0.04305912316356368\n",
      "soybean: 0.026346496191193034\n",
      "soybean: 0.0\n",
      "soybean: 0.07126067481488516\n",
      "soybean: 0.08381136878031756\n",
      "soybean: 0.08114988474032028\n",
      "soybean: 0.08124408191518787\n",
      "soybean: 0.07179670793889043\n",
      "soybean: 0.08063054259916858\n",
      "soybean: 0.0711346241987482\n",
      "soybean: 0.0\n",
      "soybean: 0.051457453624804535\n",
      "soybean: 0.0699726536614873\n",
      "soybean: 0.06493865275926117\n",
      "soybean: 0.06481774754745412\n",
      "soybean: 0.05674371955456278\n",
      "soybean: 0.060925277038101765\n",
      "soybean: 0.05163684552903717\n",
      "soybean: 0.0\n",
      "soybean: 0.0713586013051165\n",
      "soybean: 0.07826272402034455\n",
      "soybean: 0.07475406221049823\n",
      "soybean: 0.07643040148030876\n",
      "soybean: 0.07302015522557394\n",
      "soybean: 0.07550282769011217\n",
      "soybean: 0.07119131050686703\n",
      "soybean: 0.0\n",
      "soybean: 0.051288846249116345\n",
      "soybean: 0.05336776191255676\n",
      "soybean: 0.05500121349719002\n",
      "soybean: 0.05457253845313026\n",
      "soybean: 0.04964613039166685\n",
      "soybean: 0.054795242811413264\n",
      "soybean: 0.0514908242614616\n",
      "soybean: 0.0\n",
      "soybean: 0.05478575346911175\n",
      "soybean: 0.06893330092068635\n",
      "soybean: 0.07806855588565093\n",
      "soybean: 0.07921700866549351\n",
      "soybean: 0.0425564584610882\n",
      "soybean: 0.09850000894279701\n",
      "soybean: 0.05238716199023587\n",
      "stars: 0.0\n",
      "stars: 0.005390165536857677\n",
      "stars: 0.011636603215977957\n",
      "stars: 0.012717404221346675\n",
      "stars: 0.012004668809249153\n",
      "stars: 0.007172521501897474\n",
      "stars: 0.009726280214911525\n",
      "stars: 0.005208329171130194\n",
      "stars: 0.0\n",
      "stars: 0.012117229011177922\n",
      "stars: 0.008425269919386035\n",
      "stars: 0.020370300782515043\n",
      "stars: 0.020080204230476194\n",
      "stars: 0.018650579160531026\n",
      "stars: 0.02001543752455106\n",
      "stars: 0.012172968009863559\n",
      "stars: 0.0\n",
      "stars: 0.017236102969510992\n",
      "stars: 0.05365646994419832\n",
      "stars: 0.04474897468055802\n",
      "stars: 0.044165716945434336\n",
      "stars: 0.041867491172395736\n",
      "stars: 0.04146851190573315\n",
      "stars: 0.01679653638507606\n",
      "stars: 0.0\n",
      "stars: 0.006666143330213146\n",
      "stars: 0.012360845347955882\n",
      "stars: 0.013288713211273402\n",
      "stars: 0.013334599341865904\n",
      "stars: 0.008368612417969622\n",
      "stars: 0.012289093953199225\n",
      "stars: 0.007451363020236609\n",
      "stars: 0.0\n",
      "stars: 0.010229808994097924\n",
      "stars: 0.00838263191242217\n",
      "stars: 0.009252181588768433\n",
      "stars: 0.008885767622553454\n",
      "stars: 0.010374402623550383\n",
      "stars: 0.015072644699582662\n",
      "stars: 0.007667262894722164\n",
      "stars: 0.0\n",
      "stars: 0.03496543843024096\n",
      "stars: 0.0658164707886114\n",
      "stars: 0.04183774191947447\n",
      "stars: 0.04214063476190504\n",
      "stars: 0.04640441835829077\n",
      "stars: 0.06176280229586853\n",
      "stars: 0.03483362191565543\n",
      "visualizing_soil: 0.0\n",
      "visualizing_soil: 0.015063160715880616\n",
      "visualizing_soil: 0.007401124685622679\n",
      "visualizing_soil: 0.027990699674815885\n",
      "visualizing_soil: 0.027692205623255826\n",
      "visualizing_soil: 0.016270566228509906\n",
      "visualizing_soil: 0.03923100894892847\n",
      "visualizing_soil: 0.015174017439466855\n",
      "visualizing_soil: 0.0\n",
      "visualizing_soil: 0.003206079557556406\n",
      "visualizing_soil: 0.032918524729285824\n",
      "visualizing_soil: 0.03656462295085227\n",
      "visualizing_soil: 0.0363991829088217\n",
      "visualizing_soil: 0.004584781103205064\n",
      "visualizing_soil: 0.0643828183823641\n",
      "visualizing_soil: 0.0036270692169423735\n",
      "visualizing_soil: 0.0\n",
      "visualizing_soil: 0.0205759609737237\n",
      "visualizing_soil: 0.029980128519932047\n",
      "visualizing_soil: 0.01967807116653457\n",
      "visualizing_soil: 0.019547737592810227\n",
      "visualizing_soil: 0.02649541866762899\n",
      "visualizing_soil: 0.01767846370134924\n",
      "visualizing_soil: 0.020926808036101616\n",
      "visualizing_soil: 0.0\n",
      "visualizing_soil: 0.008974555065335366\n",
      "visualizing_soil: 0.007616555424019161\n",
      "visualizing_soil: 0.02487767777768398\n",
      "visualizing_soil: 0.02540762510816491\n",
      "visualizing_soil: 0.007757348747484422\n",
      "visualizing_soil: 0.038172517294255894\n",
      "visualizing_soil: 0.008831039661217992\n",
      "visualizing_soil: 0.0\n",
      "visualizing_soil: 0.009750596480200612\n",
      "visualizing_soil: 0.016413272464557285\n",
      "visualizing_soil: 0.007041788352344387\n",
      "visualizing_soil: 0.007019244027712059\n",
      "visualizing_soil: 0.010899685226122374\n",
      "visualizing_soil: 0.019971212970455142\n",
      "visualizing_soil: 0.010923031488978729\n",
      "visualizing_soil: 0.0\n",
      "visualizing_soil: 0.1331917352533301\n",
      "visualizing_soil: 0.09079288696779833\n",
      "visualizing_soil: 0.21101698398968655\n",
      "visualizing_soil: 0.21053932641237963\n",
      "visualizing_soil: 0.11367944562037678\n",
      "visualizing_soil: 0.40778427593633837\n",
      "visualizing_soil: 0.12254259873042862\n",
      "Done! Final RMSE: 0.03040744150568995\n",
      "Done!\n"
     ]
    }
   ],
   "source": [
    "tt.training_testing_completeness()\n",
    "tt.evaluate_techniques()"
   ],
   "metadata": {
    "collapsed": false
   }
  },
  {
   "cell_type": "code",
   "execution_count": 2,
   "outputs": [
    {
     "data": {
      "text/plain": "                 dataset               model  ranking_eval  \\\n0              abalone_0        DecisionTree         0.125   \n1              abalone_0  LogisticRegression         0.125   \n2              abalone_0                 KNN         0.125   \n3              abalone_0        RandomForest         0.125   \n4              abalone_0            AdaBoost         0.000   \n...                  ...                 ...           ...   \n2095  visualizing_soil_9  LogisticRegression         0.375   \n2096  visualizing_soil_9                 KNN         0.250   \n2097  visualizing_soil_9        RandomForest         0.500   \n2098  visualizing_soil_9            AdaBoost         0.625   \n2099  visualizing_soil_9                 SVC         0.125   \n\n                                           ranking_real  \\\n0     ['impute_standard' 'impute_mice' 'impute_knn' ...   \n1     ['impute_mode' 'impute_kproto' 'impute_random'...   \n2     ['impute_mice' 'impute_knn' 'impute_random_for...   \n3     ['impute_mice' 'impute_knn' 'impute_standard' ...   \n4     ['impute_standard' 'impute_mode' 'impute_rando...   \n...                                                 ...   \n2095  ['impute_random' 'impute_mode' 'impute_logisti...   \n2096  ['impute_random' 'impute_standard' 'impute_mod...   \n2097  ['impute_random' 'impute_mode' 'impute_kproto'...   \n2098  ['impute_random' 'impute_mode' 'impute_logisti...   \n2099  ['impute_mode' 'impute_logistic_regression' 'i...   \n\n                                           ranking_pred  \\\n0     ['impute_knn' 'impute_mice' 'impute_random' 'i...   \n1     ['impute_random' 'impute_knn' 'impute_mice' 'i...   \n2     ['impute_standard' 'impute_random' 'impute_kpr...   \n3     ['impute_random' 'impute_knn' 'impute_mice' 'i...   \n4     ['impute_random' 'impute_knn' 'impute_mice' 'i...   \n...                                                 ...   \n2095  ['impute_random' 'impute_kproto' 'impute_mode'...   \n2096  ['impute_standard' 'impute_random' 'impute_mod...   \n2097  ['impute_random' 'impute_mode' 'impute_kproto'...   \n2098  ['impute_random' 'impute_mode' 'impute_kproto'...   \n2099  ['impute_random' 'impute_kproto' 'impute_mode'...   \n\n                                             value_real  \\\n0     [ 0.00000000e+00 -8.23885617e-05 -4.45919477e-...   \n1     [ 0.01398138  0.01398138  0.01127597  0.001248...   \n2     [ 0.01272713  0.01250103  0.00137903  0.000848...   \n3     [ 0.00397915  0.00326287  0.         -0.002734...   \n4                             [0. 0. 0. 0. 0. 0. 0. 0.]   \n...                                                 ...   \n2095  [ 0.00953384  0.0051391   0.0051391   0.005139...   \n2096  [ 0.00097756  0.         -0.0022163  -0.002216...   \n2097  [ 0.00435628  0.00058134  0.000545    0.000484...   \n2098  [ 0.00609618  0.00291223  0.00291223  0.002912...   \n2099  [ 0.11202527  0.11202527  0.11202527  0.092822...   \n\n                                             value_pred  perc_completeness  \n0     [0.01489676 0.01437156 0.01420976 0.01224315 0...           0.500287  \n1     [0.01136579 0.00962017 0.00956955 0.00894954 0...           0.500287  \n2     [ 0.         -0.01540939 -0.02569527 -0.025740...           0.500287  \n3     [0.01274669 0.01136003 0.01127454 0.00918517 0...           0.500287  \n4     [0.0128118  0.00813822 0.00809668 0.0078016  0...           0.500287  \n...                                                 ...                ...  \n2095  [ 0.00972538  0.00190212  0.00178287  0.000238...           0.050862  \n2096  [ 0.         -0.00533171 -0.01015643 -0.010629...           0.050862  \n2097  [ 0.00727701  0.00392043  0.0035346   0.      ...           0.050862  \n2098  [ 0.0103805   0.00293547  0.00226139  0.      ...           0.050862  \n2099  [0.06361916 0.03330286 0.03247415 0.02796225 0...           0.050862  \n\n[2100 rows x 8 columns]",
      "text/html": "<div>\n<style scoped>\n    .dataframe tbody tr th:only-of-type {\n        vertical-align: middle;\n    }\n\n    .dataframe tbody tr th {\n        vertical-align: top;\n    }\n\n    .dataframe thead th {\n        text-align: right;\n    }\n</style>\n<table border=\"1\" class=\"dataframe\">\n  <thead>\n    <tr style=\"text-align: right;\">\n      <th></th>\n      <th>dataset</th>\n      <th>model</th>\n      <th>ranking_eval</th>\n      <th>ranking_real</th>\n      <th>ranking_pred</th>\n      <th>value_real</th>\n      <th>value_pred</th>\n      <th>perc_completeness</th>\n    </tr>\n  </thead>\n  <tbody>\n    <tr>\n      <th>0</th>\n      <td>abalone_0</td>\n      <td>DecisionTree</td>\n      <td>0.125</td>\n      <td>['impute_standard' 'impute_mice' 'impute_knn' ...</td>\n      <td>['impute_knn' 'impute_mice' 'impute_random' 'i...</td>\n      <td>[ 0.00000000e+00 -8.23885617e-05 -4.45919477e-...</td>\n      <td>[0.01489676 0.01437156 0.01420976 0.01224315 0...</td>\n      <td>0.500287</td>\n    </tr>\n    <tr>\n      <th>1</th>\n      <td>abalone_0</td>\n      <td>LogisticRegression</td>\n      <td>0.125</td>\n      <td>['impute_mode' 'impute_kproto' 'impute_random'...</td>\n      <td>['impute_random' 'impute_knn' 'impute_mice' 'i...</td>\n      <td>[ 0.01398138  0.01398138  0.01127597  0.001248...</td>\n      <td>[0.01136579 0.00962017 0.00956955 0.00894954 0...</td>\n      <td>0.500287</td>\n    </tr>\n    <tr>\n      <th>2</th>\n      <td>abalone_0</td>\n      <td>KNN</td>\n      <td>0.125</td>\n      <td>['impute_mice' 'impute_knn' 'impute_random_for...</td>\n      <td>['impute_standard' 'impute_random' 'impute_kpr...</td>\n      <td>[ 0.01272713  0.01250103  0.00137903  0.000848...</td>\n      <td>[ 0.         -0.01540939 -0.02569527 -0.025740...</td>\n      <td>0.500287</td>\n    </tr>\n    <tr>\n      <th>3</th>\n      <td>abalone_0</td>\n      <td>RandomForest</td>\n      <td>0.125</td>\n      <td>['impute_mice' 'impute_knn' 'impute_standard' ...</td>\n      <td>['impute_random' 'impute_knn' 'impute_mice' 'i...</td>\n      <td>[ 0.00397915  0.00326287  0.         -0.002734...</td>\n      <td>[0.01274669 0.01136003 0.01127454 0.00918517 0...</td>\n      <td>0.500287</td>\n    </tr>\n    <tr>\n      <th>4</th>\n      <td>abalone_0</td>\n      <td>AdaBoost</td>\n      <td>0.000</td>\n      <td>['impute_standard' 'impute_mode' 'impute_rando...</td>\n      <td>['impute_random' 'impute_knn' 'impute_mice' 'i...</td>\n      <td>[0. 0. 0. 0. 0. 0. 0. 0.]</td>\n      <td>[0.0128118  0.00813822 0.00809668 0.0078016  0...</td>\n      <td>0.500287</td>\n    </tr>\n    <tr>\n      <th>...</th>\n      <td>...</td>\n      <td>...</td>\n      <td>...</td>\n      <td>...</td>\n      <td>...</td>\n      <td>...</td>\n      <td>...</td>\n      <td>...</td>\n    </tr>\n    <tr>\n      <th>2095</th>\n      <td>visualizing_soil_9</td>\n      <td>LogisticRegression</td>\n      <td>0.375</td>\n      <td>['impute_random' 'impute_mode' 'impute_logisti...</td>\n      <td>['impute_random' 'impute_kproto' 'impute_mode'...</td>\n      <td>[ 0.00953384  0.0051391   0.0051391   0.005139...</td>\n      <td>[ 0.00972538  0.00190212  0.00178287  0.000238...</td>\n      <td>0.050862</td>\n    </tr>\n    <tr>\n      <th>2096</th>\n      <td>visualizing_soil_9</td>\n      <td>KNN</td>\n      <td>0.250</td>\n      <td>['impute_random' 'impute_standard' 'impute_mod...</td>\n      <td>['impute_standard' 'impute_random' 'impute_mod...</td>\n      <td>[ 0.00097756  0.         -0.0022163  -0.002216...</td>\n      <td>[ 0.         -0.00533171 -0.01015643 -0.010629...</td>\n      <td>0.050862</td>\n    </tr>\n    <tr>\n      <th>2097</th>\n      <td>visualizing_soil_9</td>\n      <td>RandomForest</td>\n      <td>0.500</td>\n      <td>['impute_random' 'impute_mode' 'impute_kproto'...</td>\n      <td>['impute_random' 'impute_mode' 'impute_kproto'...</td>\n      <td>[ 0.00435628  0.00058134  0.000545    0.000484...</td>\n      <td>[ 0.00727701  0.00392043  0.0035346   0.      ...</td>\n      <td>0.050862</td>\n    </tr>\n    <tr>\n      <th>2098</th>\n      <td>visualizing_soil_9</td>\n      <td>AdaBoost</td>\n      <td>0.625</td>\n      <td>['impute_random' 'impute_mode' 'impute_logisti...</td>\n      <td>['impute_random' 'impute_mode' 'impute_kproto'...</td>\n      <td>[ 0.00609618  0.00291223  0.00291223  0.002912...</td>\n      <td>[ 0.0103805   0.00293547  0.00226139  0.      ...</td>\n      <td>0.050862</td>\n    </tr>\n    <tr>\n      <th>2099</th>\n      <td>visualizing_soil_9</td>\n      <td>SVC</td>\n      <td>0.125</td>\n      <td>['impute_mode' 'impute_logistic_regression' 'i...</td>\n      <td>['impute_random' 'impute_kproto' 'impute_mode'...</td>\n      <td>[ 0.11202527  0.11202527  0.11202527  0.092822...</td>\n      <td>[0.06361916 0.03330286 0.03247415 0.02796225 0...</td>\n      <td>0.050862</td>\n    </tr>\n  </tbody>\n</table>\n<p>2100 rows × 8 columns</p>\n</div>"
     },
     "execution_count": 2,
     "metadata": {},
     "output_type": "execute_result"
    }
   ],
   "source": [
    "rankings = pd.read_csv(\"../results/techniques_completeness_evaluation_total.csv\")\n",
    "rankings"
   ],
   "metadata": {
    "collapsed": false
   }
  },
  {
   "cell_type": "code",
   "execution_count": 3,
   "outputs": [
    {
     "data": {
      "text/plain": "       ranking_eval  perc_completeness\ncount   2100.000000        2100.000000\nmean       0.167500           0.274684\nstd        0.164637           0.143749\nmin        0.000000           0.042188\n25%        0.000000           0.149725\n50%        0.125000           0.280813\n75%        0.250000           0.400162\nmax        1.000000           0.523125",
      "text/html": "<div>\n<style scoped>\n    .dataframe tbody tr th:only-of-type {\n        vertical-align: middle;\n    }\n\n    .dataframe tbody tr th {\n        vertical-align: top;\n    }\n\n    .dataframe thead th {\n        text-align: right;\n    }\n</style>\n<table border=\"1\" class=\"dataframe\">\n  <thead>\n    <tr style=\"text-align: right;\">\n      <th></th>\n      <th>ranking_eval</th>\n      <th>perc_completeness</th>\n    </tr>\n  </thead>\n  <tbody>\n    <tr>\n      <th>count</th>\n      <td>2100.000000</td>\n      <td>2100.000000</td>\n    </tr>\n    <tr>\n      <th>mean</th>\n      <td>0.167500</td>\n      <td>0.274684</td>\n    </tr>\n    <tr>\n      <th>std</th>\n      <td>0.164637</td>\n      <td>0.143749</td>\n    </tr>\n    <tr>\n      <th>min</th>\n      <td>0.000000</td>\n      <td>0.042188</td>\n    </tr>\n    <tr>\n      <th>25%</th>\n      <td>0.000000</td>\n      <td>0.149725</td>\n    </tr>\n    <tr>\n      <th>50%</th>\n      <td>0.125000</td>\n      <td>0.280813</td>\n    </tr>\n    <tr>\n      <th>75%</th>\n      <td>0.250000</td>\n      <td>0.400162</td>\n    </tr>\n    <tr>\n      <th>max</th>\n      <td>1.000000</td>\n      <td>0.523125</td>\n    </tr>\n  </tbody>\n</table>\n</div>"
     },
     "execution_count": 3,
     "metadata": {},
     "output_type": "execute_result"
    }
   ],
   "source": [
    "rankings.describe()\n"
   ],
   "metadata": {
    "collapsed": false
   }
  },
  {
   "cell_type": "code",
   "execution_count": 4,
   "outputs": [
    {
     "data": {
      "text/plain": "ranking_eval\n0.125    750\n0.000    606\n0.250    414\n0.375    180\n0.500     91\n0.625     38\n0.750     13\n1.000      8\nName: count, dtype: int64"
     },
     "execution_count": 4,
     "metadata": {},
     "output_type": "execute_result"
    }
   ],
   "source": [
    "rankings.ranking_eval.value_counts()\n"
   ],
   "metadata": {
    "collapsed": false
   }
  },
  {
   "cell_type": "code",
   "execution_count": 5,
   "outputs": [],
   "source": [
    "### in media ci becchiamo sempre per il 17% delle posizioni"
   ],
   "metadata": {
    "collapsed": false
   }
  },
  {
   "cell_type": "code",
   "execution_count": 6,
   "outputs": [],
   "source": [
    "def get_ranking_values_array(s):\n",
    "    s = s.replace(\".        ]\",\".0]\")\n",
    "    s = s.replace(\"   \",\" \")\n",
    "    s = s.replace(\"  \",\" \")\n",
    "    s = s.replace(\" ]\",\"]\")\n",
    "    s = s.replace(\"\\'\",\"\")\n",
    "    s = s.replace(\"[\",\"\")\n",
    "    s = s.replace(\"]\",\"\")\n",
    "    s = s.replace(\"    \",\" \")\n",
    "    s = s.replace(\"   \",\" \")\n",
    "    s = s.replace(\"  \",\" \")\n",
    "    s = s.split(\" \")\n",
    "    s = np.array(s)\n",
    "    s = np.delete(s, np.where(s == ''))\n",
    "    s = s.astype(float)\n",
    "    return s\n",
    "\n",
    "def get_ranking_array(s):\n",
    "    s = s.replace(\".        ]\",\".0]\")\n",
    "    s = s.replace(\"   \",\" \")\n",
    "    s = s.replace(\"  \",\" \")\n",
    "    s = s.replace(\" ]\",\"]\")\n",
    "    s = s.replace(\"\\'\",\"\")\n",
    "    s = s.replace(\"[\",\"\")\n",
    "    s = s.replace(\"]\",\"\")\n",
    "    s = s.split(\" \")\n",
    "    s = np.array(s)\n",
    "    return s"
   ],
   "metadata": {
    "collapsed": false
   }
  },
  {
   "cell_type": "code",
   "execution_count": 7,
   "outputs": [],
   "source": [
    "diff = []\n",
    "for i in range(0,len(rankings)):\n",
    "    v = rankings.loc[i].value_real\n",
    "    values = get_ranking_values_array(v)\n",
    "    value_1 = values[0]\n",
    "    value_2 = values[7]\n",
    "    diff.append([rankings.loc[i].dataset,value_1 - value_2])"
   ],
   "metadata": {
    "collapsed": false
   }
  },
  {
   "cell_type": "code",
   "execution_count": 8,
   "outputs": [
    {
     "data": {
      "text/plain": "                       0         1\n0              abalone_0  0.007539\n1              abalone_0  0.037119\n2              abalone_0  0.028784\n3              abalone_0  0.021458\n4              abalone_0  0.000000\n...                  ...       ...\n2095  visualizing_soil_9  0.023152\n2096  visualizing_soil_9  0.009380\n2097  visualizing_soil_9  0.009797\n2098  visualizing_soil_9  0.009144\n2099  visualizing_soil_9  0.146440\n\n[2100 rows x 2 columns]",
      "text/html": "<div>\n<style scoped>\n    .dataframe tbody tr th:only-of-type {\n        vertical-align: middle;\n    }\n\n    .dataframe tbody tr th {\n        vertical-align: top;\n    }\n\n    .dataframe thead th {\n        text-align: right;\n    }\n</style>\n<table border=\"1\" class=\"dataframe\">\n  <thead>\n    <tr style=\"text-align: right;\">\n      <th></th>\n      <th>0</th>\n      <th>1</th>\n    </tr>\n  </thead>\n  <tbody>\n    <tr>\n      <th>0</th>\n      <td>abalone_0</td>\n      <td>0.007539</td>\n    </tr>\n    <tr>\n      <th>1</th>\n      <td>abalone_0</td>\n      <td>0.037119</td>\n    </tr>\n    <tr>\n      <th>2</th>\n      <td>abalone_0</td>\n      <td>0.028784</td>\n    </tr>\n    <tr>\n      <th>3</th>\n      <td>abalone_0</td>\n      <td>0.021458</td>\n    </tr>\n    <tr>\n      <th>4</th>\n      <td>abalone_0</td>\n      <td>0.000000</td>\n    </tr>\n    <tr>\n      <th>...</th>\n      <td>...</td>\n      <td>...</td>\n    </tr>\n    <tr>\n      <th>2095</th>\n      <td>visualizing_soil_9</td>\n      <td>0.023152</td>\n    </tr>\n    <tr>\n      <th>2096</th>\n      <td>visualizing_soil_9</td>\n      <td>0.009380</td>\n    </tr>\n    <tr>\n      <th>2097</th>\n      <td>visualizing_soil_9</td>\n      <td>0.009797</td>\n    </tr>\n    <tr>\n      <th>2098</th>\n      <td>visualizing_soil_9</td>\n      <td>0.009144</td>\n    </tr>\n    <tr>\n      <th>2099</th>\n      <td>visualizing_soil_9</td>\n      <td>0.146440</td>\n    </tr>\n  </tbody>\n</table>\n<p>2100 rows × 2 columns</p>\n</div>"
     },
     "execution_count": 8,
     "metadata": {},
     "output_type": "execute_result"
    }
   ],
   "source": [
    "diff = pd.DataFrame(diff)\n",
    "diff"
   ],
   "metadata": {
    "collapsed": false
   }
  },
  {
   "cell_type": "code",
   "execution_count": 9,
   "outputs": [
    {
     "data": {
      "text/plain": "count    2100.000000\nmean        0.040714\nstd         0.084199\nmin         0.000000\n25%         0.004949\n50%         0.015580\n75%         0.041667\nmax         1.187021\nName: 1, dtype: float64"
     },
     "execution_count": 9,
     "metadata": {},
     "output_type": "execute_result"
    }
   ],
   "source": [
    "diff[1].describe()\n"
   ],
   "metadata": {
    "collapsed": false
   }
  },
  {
   "cell_type": "code",
   "execution_count": 10,
   "outputs": [
    {
     "data": {
      "text/plain": "np.float64(0.0155802028)"
     },
     "execution_count": 10,
     "metadata": {},
     "output_type": "execute_result"
    }
   ],
   "source": [
    "diff[1].median()"
   ],
   "metadata": {
    "collapsed": false
   }
  },
  {
   "cell_type": "code",
   "execution_count": 11,
   "outputs": [],
   "source": [
    "### studio delle differenze di impatto tra prima e ultima posizione del ranking delle tecniche (esperimenti)\n",
    "### media 4%\n",
    "### mediana 1% (anche il 50%-percentile)\n",
    "### massimo 118%\n",
    "### il 75%-percentile è 4%\n",
    "### relevance: perdiamo l'1% = mediana"
   ],
   "metadata": {
    "collapsed": false
   }
  },
  {
   "cell_type": "code",
   "execution_count": 11,
   "outputs": [],
   "source": [],
   "metadata": {
    "collapsed": false
   }
  },
  {
   "cell_type": "code",
   "execution_count": 11,
   "outputs": [],
   "source": [],
   "metadata": {
    "collapsed": false
   }
  },
  {
   "cell_type": "code",
   "execution_count": 12,
   "outputs": [],
   "source": [
    "### AVG PRECISION REC SYS"
   ],
   "metadata": {
    "collapsed": false
   }
  },
  {
   "cell_type": "code",
   "execution_count": 13,
   "outputs": [],
   "source": [
    "relevance = 0.01 ### stabilisco la relevance all'0,1% (10% della mediana)\n",
    "N = 3\n",
    "#N = [1,3,5] ### queste di calcolano tutte e 3"
   ],
   "metadata": {
    "collapsed": false
   }
  },
  {
   "cell_type": "code",
   "execution_count": 14,
   "outputs": [],
   "source": [
    "### avg precision (rec sys)\n",
    "\n",
    "###  sum(k=1-->N) 1/m * P(k)*rel(k)\n",
    "### where\n",
    "### m is the number of relevant item (the number of technique in a performance threshold), is variable\n",
    "### N is the number of item to recommend. is a variable: top1, top3...\n",
    "### P(k) is the precision at cutoff k\n",
    "### rel(k) is 1 if the item is relevant\n",
    "### P(k)*rel(k) --> +1 if the item is present in the most relevant, +0 otherwise"
   ],
   "metadata": {
    "collapsed": false
   }
  },
  {
   "cell_type": "code",
   "execution_count": 15,
   "outputs": [],
   "source": [
    "precision = []\n",
    "\n",
    "for i in range(0,len(rankings)):\n",
    "    v1 = rankings.loc[i].ranking_real\n",
    "    v2 = rankings.loc[i].ranking_pred\n",
    "    v3 = rankings.loc[i].value_real\n",
    "    v4 = rankings.loc[i].value_pred\n",
    "\n",
    "    ### prendo tutti i valori\n",
    "    rank_real = get_ranking_array(v1)\n",
    "    rank_pred = get_ranking_array(v2)\n",
    "    values_real = get_ranking_values_array(v3)\n",
    "    values_pred = get_ranking_values_array(v4)\n",
    "\n",
    "    ### calcolo m\n",
    "    indexes = np.where(values_real > (values_real[0] - relevance))[0]\n",
    "    m = len(indexes)\n",
    "    ### calcolo precision\n",
    "    P_k = 0\n",
    "    for j in range(0, N):\n",
    "        tech = rank_pred[j]\n",
    "        if tech in rank_real[indexes]:\n",
    "            P_k += 1\n",
    "    precision.append([rankings.loc[i].dataset,rankings.loc[i].model,P_k/m,m])\n",
    "precision = pd.DataFrame(precision,columns=['dataset','model','precision','m'])"
   ],
   "metadata": {
    "collapsed": false
   }
  },
  {
   "cell_type": "code",
   "execution_count": 16,
   "outputs": [
    {
     "data": {
      "text/plain": "                 dataset               model  precision  m\n0              abalone_0        DecisionTree   0.375000  8\n1              abalone_0  LogisticRegression   0.333333  3\n2              abalone_0                 KNN   0.000000  2\n3              abalone_0        RandomForest   0.600000  5\n4              abalone_0            AdaBoost   0.375000  8\n...                  ...                 ...        ... ..\n2095  visualizing_soil_9  LogisticRegression   0.600000  5\n2096  visualizing_soil_9                 KNN   0.375000  8\n2097  visualizing_soil_9        RandomForest   0.375000  8\n2098  visualizing_soil_9            AdaBoost   0.375000  8\n2099  visualizing_soil_9                 SVC   0.666667  3\n\n[2100 rows x 4 columns]",
      "text/html": "<div>\n<style scoped>\n    .dataframe tbody tr th:only-of-type {\n        vertical-align: middle;\n    }\n\n    .dataframe tbody tr th {\n        vertical-align: top;\n    }\n\n    .dataframe thead th {\n        text-align: right;\n    }\n</style>\n<table border=\"1\" class=\"dataframe\">\n  <thead>\n    <tr style=\"text-align: right;\">\n      <th></th>\n      <th>dataset</th>\n      <th>model</th>\n      <th>precision</th>\n      <th>m</th>\n    </tr>\n  </thead>\n  <tbody>\n    <tr>\n      <th>0</th>\n      <td>abalone_0</td>\n      <td>DecisionTree</td>\n      <td>0.375000</td>\n      <td>8</td>\n    </tr>\n    <tr>\n      <th>1</th>\n      <td>abalone_0</td>\n      <td>LogisticRegression</td>\n      <td>0.333333</td>\n      <td>3</td>\n    </tr>\n    <tr>\n      <th>2</th>\n      <td>abalone_0</td>\n      <td>KNN</td>\n      <td>0.000000</td>\n      <td>2</td>\n    </tr>\n    <tr>\n      <th>3</th>\n      <td>abalone_0</td>\n      <td>RandomForest</td>\n      <td>0.600000</td>\n      <td>5</td>\n    </tr>\n    <tr>\n      <th>4</th>\n      <td>abalone_0</td>\n      <td>AdaBoost</td>\n      <td>0.375000</td>\n      <td>8</td>\n    </tr>\n    <tr>\n      <th>...</th>\n      <td>...</td>\n      <td>...</td>\n      <td>...</td>\n      <td>...</td>\n    </tr>\n    <tr>\n      <th>2095</th>\n      <td>visualizing_soil_9</td>\n      <td>LogisticRegression</td>\n      <td>0.600000</td>\n      <td>5</td>\n    </tr>\n    <tr>\n      <th>2096</th>\n      <td>visualizing_soil_9</td>\n      <td>KNN</td>\n      <td>0.375000</td>\n      <td>8</td>\n    </tr>\n    <tr>\n      <th>2097</th>\n      <td>visualizing_soil_9</td>\n      <td>RandomForest</td>\n      <td>0.375000</td>\n      <td>8</td>\n    </tr>\n    <tr>\n      <th>2098</th>\n      <td>visualizing_soil_9</td>\n      <td>AdaBoost</td>\n      <td>0.375000</td>\n      <td>8</td>\n    </tr>\n    <tr>\n      <th>2099</th>\n      <td>visualizing_soil_9</td>\n      <td>SVC</td>\n      <td>0.666667</td>\n      <td>3</td>\n    </tr>\n  </tbody>\n</table>\n<p>2100 rows × 4 columns</p>\n</div>"
     },
     "execution_count": 16,
     "metadata": {},
     "output_type": "execute_result"
    }
   ],
   "source": [
    "precision\n"
   ],
   "metadata": {
    "collapsed": false
   }
  },
  {
   "cell_type": "code",
   "execution_count": 17,
   "outputs": [
    {
     "data": {
      "text/plain": "precision\n0.375000    857\n0.000000    343\n1.000000    324\n0.500000    145\n0.428571    124\n0.333333     73\n0.250000     48\n0.666667     46\n0.285714     31\n0.600000     27\n0.400000     25\n0.200000     24\n0.750000     21\n0.166667     12\nName: count, dtype: int64"
     },
     "execution_count": 17,
     "metadata": {},
     "output_type": "execute_result"
    }
   ],
   "source": [
    "precision.precision.value_counts()"
   ],
   "metadata": {
    "collapsed": false
   }
  },
  {
   "cell_type": "code",
   "execution_count": 18,
   "outputs": [
    {
     "data": {
      "text/plain": "m\n8    857\n1    471\n2    211\n7    155\n4    130\n3    115\n5     81\n6     80\nName: count, dtype: int64"
     },
     "execution_count": 18,
     "metadata": {},
     "output_type": "execute_result"
    }
   ],
   "source": [
    "precision.m.value_counts()"
   ],
   "metadata": {
    "collapsed": false
   }
  },
  {
   "cell_type": "code",
   "execution_count": 19,
   "outputs": [
    {
     "data": {
      "text/plain": "         precision            m\ncount  2100.000000  2100.000000\nmean      0.426488     5.040000\nstd       0.294850     2.963542\nmin       0.000000     1.000000\n25%       0.333333     2.000000\n50%       0.375000     6.000000\n75%       0.500000     8.000000\nmax       1.000000     8.000000",
      "text/html": "<div>\n<style scoped>\n    .dataframe tbody tr th:only-of-type {\n        vertical-align: middle;\n    }\n\n    .dataframe tbody tr th {\n        vertical-align: top;\n    }\n\n    .dataframe thead th {\n        text-align: right;\n    }\n</style>\n<table border=\"1\" class=\"dataframe\">\n  <thead>\n    <tr style=\"text-align: right;\">\n      <th></th>\n      <th>precision</th>\n      <th>m</th>\n    </tr>\n  </thead>\n  <tbody>\n    <tr>\n      <th>count</th>\n      <td>2100.000000</td>\n      <td>2100.000000</td>\n    </tr>\n    <tr>\n      <th>mean</th>\n      <td>0.426488</td>\n      <td>5.040000</td>\n    </tr>\n    <tr>\n      <th>std</th>\n      <td>0.294850</td>\n      <td>2.963542</td>\n    </tr>\n    <tr>\n      <th>min</th>\n      <td>0.000000</td>\n      <td>1.000000</td>\n    </tr>\n    <tr>\n      <th>25%</th>\n      <td>0.333333</td>\n      <td>2.000000</td>\n    </tr>\n    <tr>\n      <th>50%</th>\n      <td>0.375000</td>\n      <td>6.000000</td>\n    </tr>\n    <tr>\n      <th>75%</th>\n      <td>0.500000</td>\n      <td>8.000000</td>\n    </tr>\n    <tr>\n      <th>max</th>\n      <td>1.000000</td>\n      <td>8.000000</td>\n    </tr>\n  </tbody>\n</table>\n</div>"
     },
     "execution_count": 19,
     "metadata": {},
     "output_type": "execute_result"
    }
   ],
   "source": [
    "precision.describe()\n"
   ],
   "metadata": {
    "collapsed": false
   }
  },
  {
   "cell_type": "code",
   "execution_count": 20,
   "outputs": [
    {
     "data": {
      "text/plain": "np.float64(0.375)"
     },
     "execution_count": 20,
     "metadata": {},
     "output_type": "execute_result"
    }
   ],
   "source": [
    "precision.precision.median()"
   ],
   "metadata": {
    "collapsed": false
   }
  },
  {
   "cell_type": "code",
   "execution_count": 21,
   "outputs": [
    {
     "data": {
      "text/plain": "np.float64(0.5)"
     },
     "execution_count": 21,
     "metadata": {},
     "output_type": "execute_result"
    }
   ],
   "source": [
    "precision[precision.m < 6].precision.median()"
   ],
   "metadata": {
    "collapsed": false
   }
  },
  {
   "cell_type": "code",
   "execution_count": 26,
   "outputs": [],
   "source": [],
   "metadata": {
    "collapsed": false
   }
  },
  {
   "cell_type": "code",
   "execution_count": 22,
   "outputs": [],
   "source": [
    "### PRECISION FISSA CON N = m = 3"
   ],
   "metadata": {
    "collapsed": false
   }
  },
  {
   "cell_type": "code",
   "execution_count": 23,
   "outputs": [],
   "source": [
    "N = 3\n",
    "\n",
    "precision = []\n",
    "\n",
    "for i in range(0, len(rankings)):\n",
    "    v1 = rankings.loc[i].ranking_real\n",
    "    v2 = rankings.loc[i].ranking_pred\n",
    "    v3 = rankings.loc[i].value_real\n",
    "    v4 = rankings.loc[i].value_pred\n",
    "\n",
    "    ### prendo tutti i valori\n",
    "    rank_real = get_ranking_array(v1)\n",
    "    rank_pred = get_ranking_array(v2)\n",
    "    values_real = get_ranking_values_array(v3)\n",
    "    values_pred = get_ranking_values_array(v4)\n",
    "\n",
    "    ### calcolo m\n",
    "    indexes = [0,1,2]\n",
    "    #N = len(indexes)\n",
    "    ### calcolo precision\n",
    "    P_k = 0\n",
    "    for j in range(0, N):\n",
    "        tech = rank_pred[j]\n",
    "        if tech in rank_real[indexes]:\n",
    "            P_k += 1\n",
    "    precision.append([rankings.loc[i].dataset, rankings.loc[i].model, P_k / N, N])\n",
    "precision = pd.DataFrame(precision, columns=['dataset', 'model', 'precision','N'])\n"
   ],
   "metadata": {
    "collapsed": false
   }
  },
  {
   "cell_type": "code",
   "execution_count": 24,
   "outputs": [
    {
     "data": {
      "text/plain": "precision\n0.333333    811\n0.666667    738\n0.000000    394\n1.000000    157\nName: count, dtype: int64"
     },
     "execution_count": 24,
     "metadata": {},
     "output_type": "execute_result"
    }
   ],
   "source": [
    "precision.precision.value_counts()"
   ],
   "metadata": {
    "collapsed": false
   }
  },
  {
   "cell_type": "code",
   "execution_count": 25,
   "outputs": [
    {
     "data": {
      "text/plain": "         precision       N\ncount  2100.000000  2100.0\nmean      0.437778     3.0\nstd       0.286796     0.0\nmin       0.000000     3.0\n25%       0.333333     3.0\n50%       0.333333     3.0\n75%       0.666667     3.0\nmax       1.000000     3.0",
      "text/html": "<div>\n<style scoped>\n    .dataframe tbody tr th:only-of-type {\n        vertical-align: middle;\n    }\n\n    .dataframe tbody tr th {\n        vertical-align: top;\n    }\n\n    .dataframe thead th {\n        text-align: right;\n    }\n</style>\n<table border=\"1\" class=\"dataframe\">\n  <thead>\n    <tr style=\"text-align: right;\">\n      <th></th>\n      <th>precision</th>\n      <th>N</th>\n    </tr>\n  </thead>\n  <tbody>\n    <tr>\n      <th>count</th>\n      <td>2100.000000</td>\n      <td>2100.0</td>\n    </tr>\n    <tr>\n      <th>mean</th>\n      <td>0.437778</td>\n      <td>3.0</td>\n    </tr>\n    <tr>\n      <th>std</th>\n      <td>0.286796</td>\n      <td>0.0</td>\n    </tr>\n    <tr>\n      <th>min</th>\n      <td>0.000000</td>\n      <td>3.0</td>\n    </tr>\n    <tr>\n      <th>25%</th>\n      <td>0.333333</td>\n      <td>3.0</td>\n    </tr>\n    <tr>\n      <th>50%</th>\n      <td>0.333333</td>\n      <td>3.0</td>\n    </tr>\n    <tr>\n      <th>75%</th>\n      <td>0.666667</td>\n      <td>3.0</td>\n    </tr>\n    <tr>\n      <th>max</th>\n      <td>1.000000</td>\n      <td>3.0</td>\n    </tr>\n  </tbody>\n</table>\n</div>"
     },
     "execution_count": 25,
     "metadata": {},
     "output_type": "execute_result"
    }
   ],
   "source": [
    "precision.describe()\n"
   ],
   "metadata": {
    "collapsed": false
   }
  },
  {
   "cell_type": "code",
   "execution_count": 26,
   "outputs": [
    {
     "data": {
      "text/plain": "np.float64(0.3333333333333333)"
     },
     "execution_count": 26,
     "metadata": {},
     "output_type": "execute_result"
    }
   ],
   "source": [
    "precision.precision.median()\n"
   ],
   "metadata": {
    "collapsed": false
   }
  },
  {
   "cell_type": "code",
   "execution_count": 93,
   "outputs": [],
   "source": [],
   "metadata": {
    "collapsed": false
   }
  },
  {
   "cell_type": "code",
   "execution_count": 93,
   "outputs": [],
   "source": [],
   "metadata": {
    "collapsed": false
   }
  },
  {
   "cell_type": "code",
   "execution_count": 94,
   "outputs": [],
   "source": [
    "### forse ha senso qui far variare anche la N insieme alla m:\n",
    "relevance = 0.01 ### stabilisco la relevance all'0,1% (10% della mediana)\n",
    "#N = 3\n",
    "\n",
    "precision = []\n",
    "\n",
    "for i in range(0, len(rankings)):\n",
    "    v1 = rankings.loc[i].ranking_real\n",
    "    v2 = rankings.loc[i].ranking_pred\n",
    "    v3 = rankings.loc[i].value_real\n",
    "    v4 = rankings.loc[i].value_pred\n",
    "\n",
    "    ### prendo tutti i valori\n",
    "    rank_real = get_ranking_array(v1)\n",
    "    rank_pred = get_ranking_array(v2)\n",
    "    values_real = get_ranking_values_array(v3)\n",
    "    values_pred = get_ranking_values_array(v4)\n",
    "\n",
    "    ### calcolo m\n",
    "    indexes = np.where(values_real > (values_real[0] - relevance))[0]\n",
    "    m = len(indexes)\n",
    "    ### calcolo precision\n",
    "    P_k = 0\n",
    "    for i in range(0, m):\n",
    "        tech = rank_pred[i]\n",
    "        if tech in rank_real[indexes]:\n",
    "            P_k += 1\n",
    "    precision.append([rankings.loc[i].dataset, P_k / m, m])\n",
    "precision = pd.DataFrame(precision, columns=['dataset', 'precision', 'm'])"
   ],
   "metadata": {
    "collapsed": false
   }
  },
  {
   "cell_type": "code",
   "execution_count": 95,
   "outputs": [
    {
     "data": {
      "text/plain": "precision\n1.000000    1110\n0.000000     453\n0.500000     130\n0.857143     115\n0.666667      88\n0.250000      42\n0.833333      35\n0.333333      29\n0.800000      25\n0.600000      25\n0.750000      25\n0.400000      23\nName: count, dtype: int64"
     },
     "execution_count": 95,
     "metadata": {},
     "output_type": "execute_result"
    }
   ],
   "source": [
    "precision.precision.value_counts()"
   ],
   "metadata": {
    "collapsed": false
   }
  },
  {
   "cell_type": "code",
   "execution_count": 96,
   "outputs": [
    {
     "data": {
      "text/plain": "m\n8    857\n1    471\n2    211\n7    155\n4    130\n3    115\n5     81\n6     80\nName: count, dtype: int64"
     },
     "execution_count": 96,
     "metadata": {},
     "output_type": "execute_result"
    }
   ],
   "source": [
    "precision.m.value_counts()"
   ],
   "metadata": {
    "collapsed": false
   }
  },
  {
   "cell_type": "code",
   "execution_count": 97,
   "outputs": [
    {
     "data": {
      "text/plain": "         precision            m\ncount  2100.000000  2100.000000\nmean      0.687867     5.040000\nstd       0.405628     2.963542\nmin       0.000000     1.000000\n25%       0.400000     2.000000\n50%       1.000000     6.000000\n75%       1.000000     8.000000\nmax       1.000000     8.000000",
      "text/html": "<div>\n<style scoped>\n    .dataframe tbody tr th:only-of-type {\n        vertical-align: middle;\n    }\n\n    .dataframe tbody tr th {\n        vertical-align: top;\n    }\n\n    .dataframe thead th {\n        text-align: right;\n    }\n</style>\n<table border=\"1\" class=\"dataframe\">\n  <thead>\n    <tr style=\"text-align: right;\">\n      <th></th>\n      <th>precision</th>\n      <th>m</th>\n    </tr>\n  </thead>\n  <tbody>\n    <tr>\n      <th>count</th>\n      <td>2100.000000</td>\n      <td>2100.000000</td>\n    </tr>\n    <tr>\n      <th>mean</th>\n      <td>0.687867</td>\n      <td>5.040000</td>\n    </tr>\n    <tr>\n      <th>std</th>\n      <td>0.405628</td>\n      <td>2.963542</td>\n    </tr>\n    <tr>\n      <th>min</th>\n      <td>0.000000</td>\n      <td>1.000000</td>\n    </tr>\n    <tr>\n      <th>25%</th>\n      <td>0.400000</td>\n      <td>2.000000</td>\n    </tr>\n    <tr>\n      <th>50%</th>\n      <td>1.000000</td>\n      <td>6.000000</td>\n    </tr>\n    <tr>\n      <th>75%</th>\n      <td>1.000000</td>\n      <td>8.000000</td>\n    </tr>\n    <tr>\n      <th>max</th>\n      <td>1.000000</td>\n      <td>8.000000</td>\n    </tr>\n  </tbody>\n</table>\n</div>"
     },
     "execution_count": 97,
     "metadata": {},
     "output_type": "execute_result"
    }
   ],
   "source": [
    "precision.describe()"
   ],
   "metadata": {
    "collapsed": false
   }
  },
  {
   "cell_type": "code",
   "execution_count": 98,
   "outputs": [
    {
     "data": {
      "text/plain": "np.float64(1.0)"
     },
     "execution_count": 98,
     "metadata": {},
     "output_type": "execute_result"
    }
   ],
   "source": [
    "precision.precision.median()"
   ],
   "metadata": {
    "collapsed": false
   }
  },
  {
   "cell_type": "code",
   "execution_count": 99,
   "outputs": [],
   "source": [
    "### sempre precision = 1 con relevance = 0.01\n",
    "### precision = 0.85 con relevance = 0.0075\n",
    "### precision = 0.66 con relevance = 0.005"
   ],
   "metadata": {
    "collapsed": false
   }
  },
  {
   "cell_type": "code",
   "execution_count": 100,
   "outputs": [],
   "source": [
    "### tra impatto e performance non cambia niente\n",
    "### tanto vale tenere una relevance dello 0.01"
   ],
   "metadata": {
    "collapsed": false
   }
  },
  {
   "cell_type": "code",
   "execution_count": null,
   "outputs": [],
   "source": [],
   "metadata": {
    "collapsed": false
   }
  }
 ],
 "metadata": {
  "kernelspec": {
   "display_name": "Python 3",
   "language": "python",
   "name": "python3"
  },
  "language_info": {
   "codemirror_mode": {
    "name": "ipython",
    "version": 2
   },
   "file_extension": ".py",
   "mimetype": "text/x-python",
   "name": "python",
   "nbconvert_exporter": "python",
   "pygments_lexer": "ipython2",
   "version": "2.7.6"
  }
 },
 "nbformat": 4,
 "nbformat_minor": 0
}
