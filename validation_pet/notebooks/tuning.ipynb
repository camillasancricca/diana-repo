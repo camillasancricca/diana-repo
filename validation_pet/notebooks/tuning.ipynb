{
 "cells": [
  {
   "cell_type": "code",
   "execution_count": 10,
   "outputs": [],
   "source": [
    "import warnings\n",
    "warnings.filterwarnings(\"ignore\")\n",
    "import algorithms_class as alg"
   ],
   "metadata": {
    "collapsed": false
   }
  },
  {
   "cell_type": "code",
   "execution_count": 11,
   "outputs": [
    {
     "data": {
      "text/plain": "      AgeMonths Vaccinated    Size AdoptionLikelihood\n0           131        Yes   Large           Unlikely\n1            73         No   Large           Unlikely\n2           136         No  Medium           Unlikely\n3            97         No   Small           Unlikely\n4           123         No   Large           Unlikely\n...         ...        ...     ...                ...\n2002         72        Yes   Small             Likely\n2003        124        Yes   Small           Unlikely\n2004        113        Yes   Small           Unlikely\n2005         12        Yes   Large           Unlikely\n2006        126        Yes  Medium           Unlikely\n\n[2007 rows x 4 columns]",
      "text/html": "<div>\n<style scoped>\n    .dataframe tbody tr th:only-of-type {\n        vertical-align: middle;\n    }\n\n    .dataframe tbody tr th {\n        vertical-align: top;\n    }\n\n    .dataframe thead th {\n        text-align: right;\n    }\n</style>\n<table border=\"1\" class=\"dataframe\">\n  <thead>\n    <tr style=\"text-align: right;\">\n      <th></th>\n      <th>AgeMonths</th>\n      <th>Vaccinated</th>\n      <th>Size</th>\n      <th>AdoptionLikelihood</th>\n    </tr>\n  </thead>\n  <tbody>\n    <tr>\n      <th>0</th>\n      <td>131</td>\n      <td>Yes</td>\n      <td>Large</td>\n      <td>Unlikely</td>\n    </tr>\n    <tr>\n      <th>1</th>\n      <td>73</td>\n      <td>No</td>\n      <td>Large</td>\n      <td>Unlikely</td>\n    </tr>\n    <tr>\n      <th>2</th>\n      <td>136</td>\n      <td>No</td>\n      <td>Medium</td>\n      <td>Unlikely</td>\n    </tr>\n    <tr>\n      <th>3</th>\n      <td>97</td>\n      <td>No</td>\n      <td>Small</td>\n      <td>Unlikely</td>\n    </tr>\n    <tr>\n      <th>4</th>\n      <td>123</td>\n      <td>No</td>\n      <td>Large</td>\n      <td>Unlikely</td>\n    </tr>\n    <tr>\n      <th>...</th>\n      <td>...</td>\n      <td>...</td>\n      <td>...</td>\n      <td>...</td>\n    </tr>\n    <tr>\n      <th>2002</th>\n      <td>72</td>\n      <td>Yes</td>\n      <td>Small</td>\n      <td>Likely</td>\n    </tr>\n    <tr>\n      <th>2003</th>\n      <td>124</td>\n      <td>Yes</td>\n      <td>Small</td>\n      <td>Unlikely</td>\n    </tr>\n    <tr>\n      <th>2004</th>\n      <td>113</td>\n      <td>Yes</td>\n      <td>Small</td>\n      <td>Unlikely</td>\n    </tr>\n    <tr>\n      <th>2005</th>\n      <td>12</td>\n      <td>Yes</td>\n      <td>Large</td>\n      <td>Unlikely</td>\n    </tr>\n    <tr>\n      <th>2006</th>\n      <td>126</td>\n      <td>Yes</td>\n      <td>Medium</td>\n      <td>Unlikely</td>\n    </tr>\n  </tbody>\n</table>\n<p>2007 rows × 4 columns</p>\n</div>"
     },
     "execution_count": 11,
     "metadata": {},
     "output_type": "execute_result"
    }
   ],
   "source": [
    "import pandas as pd\n",
    "\n",
    "df = pd.read_csv(\"pet.csv\")\n",
    "df"
   ],
   "metadata": {
    "collapsed": false
   }
  },
  {
   "cell_type": "code",
   "execution_count": 12,
   "outputs": [],
   "source": [
    "selected_features = ['AgeMonths','Vaccinated','Size']\n",
    "target = 'AdoptionLikelihood'"
   ],
   "metadata": {
    "collapsed": false
   }
  },
  {
   "cell_type": "code",
   "execution_count": 13,
   "outputs": [],
   "source": [
    "classifiers = ['DecisionTree','LogisticRegression','KNN','RandomForest','AdaBoost','SVC']"
   ],
   "metadata": {
    "collapsed": false
   }
  },
  {
   "cell_type": "markdown",
   "source": [
    "TUNING"
   ],
   "metadata": {
    "collapsed": false
   }
  },
  {
   "cell_type": "code",
   "execution_count": 14,
   "outputs": [],
   "source": [
    "import numpy as np"
   ],
   "metadata": {
    "collapsed": false
   }
  },
  {
   "cell_type": "code",
   "execution_count": 15,
   "outputs": [
    {
     "data": {
      "text/plain": "      AgeMonths  Vaccinated_No  Vaccinated_Yes  Size_Large  Size_Medium  \\\n0           131          False            True        True        False   \n1            73           True           False        True        False   \n2           136           True           False       False         True   \n3            97           True           False       False        False   \n4           123           True           False        True        False   \n...         ...            ...             ...         ...          ...   \n2002         72          False            True       False        False   \n2003        124          False            True       False        False   \n2004        113          False            True       False        False   \n2005         12          False            True        True        False   \n2006        126          False            True       False         True   \n\n      Size_Small  \n0          False  \n1          False  \n2          False  \n3           True  \n4          False  \n...          ...  \n2002        True  \n2003        True  \n2004        True  \n2005       False  \n2006       False  \n\n[2007 rows x 6 columns]",
      "text/html": "<div>\n<style scoped>\n    .dataframe tbody tr th:only-of-type {\n        vertical-align: middle;\n    }\n\n    .dataframe tbody tr th {\n        vertical-align: top;\n    }\n\n    .dataframe thead th {\n        text-align: right;\n    }\n</style>\n<table border=\"1\" class=\"dataframe\">\n  <thead>\n    <tr style=\"text-align: right;\">\n      <th></th>\n      <th>AgeMonths</th>\n      <th>Vaccinated_No</th>\n      <th>Vaccinated_Yes</th>\n      <th>Size_Large</th>\n      <th>Size_Medium</th>\n      <th>Size_Small</th>\n    </tr>\n  </thead>\n  <tbody>\n    <tr>\n      <th>0</th>\n      <td>131</td>\n      <td>False</td>\n      <td>True</td>\n      <td>True</td>\n      <td>False</td>\n      <td>False</td>\n    </tr>\n    <tr>\n      <th>1</th>\n      <td>73</td>\n      <td>True</td>\n      <td>False</td>\n      <td>True</td>\n      <td>False</td>\n      <td>False</td>\n    </tr>\n    <tr>\n      <th>2</th>\n      <td>136</td>\n      <td>True</td>\n      <td>False</td>\n      <td>False</td>\n      <td>True</td>\n      <td>False</td>\n    </tr>\n    <tr>\n      <th>3</th>\n      <td>97</td>\n      <td>True</td>\n      <td>False</td>\n      <td>False</td>\n      <td>False</td>\n      <td>True</td>\n    </tr>\n    <tr>\n      <th>4</th>\n      <td>123</td>\n      <td>True</td>\n      <td>False</td>\n      <td>True</td>\n      <td>False</td>\n      <td>False</td>\n    </tr>\n    <tr>\n      <th>...</th>\n      <td>...</td>\n      <td>...</td>\n      <td>...</td>\n      <td>...</td>\n      <td>...</td>\n      <td>...</td>\n    </tr>\n    <tr>\n      <th>2002</th>\n      <td>72</td>\n      <td>False</td>\n      <td>True</td>\n      <td>False</td>\n      <td>False</td>\n      <td>True</td>\n    </tr>\n    <tr>\n      <th>2003</th>\n      <td>124</td>\n      <td>False</td>\n      <td>True</td>\n      <td>False</td>\n      <td>False</td>\n      <td>True</td>\n    </tr>\n    <tr>\n      <th>2004</th>\n      <td>113</td>\n      <td>False</td>\n      <td>True</td>\n      <td>False</td>\n      <td>False</td>\n      <td>True</td>\n    </tr>\n    <tr>\n      <th>2005</th>\n      <td>12</td>\n      <td>False</td>\n      <td>True</td>\n      <td>True</td>\n      <td>False</td>\n      <td>False</td>\n    </tr>\n    <tr>\n      <th>2006</th>\n      <td>126</td>\n      <td>False</td>\n      <td>True</td>\n      <td>False</td>\n      <td>True</td>\n      <td>False</td>\n    </tr>\n  </tbody>\n</table>\n<p>2007 rows × 6 columns</p>\n</div>"
     },
     "execution_count": 15,
     "metadata": {},
     "output_type": "execute_result"
    }
   ],
   "source": [
    "X = df[selected_features]\n",
    "y = df[target]\n",
    "X_encoded = alg.encoding_categorical_variables(X)\n",
    "X_encoded"
   ],
   "metadata": {
    "collapsed": false
   }
  },
  {
   "cell_type": "code",
   "execution_count": 37,
   "outputs": [
    {
     "name": "stdout",
     "output_type": "stream",
     "text": [
      "Training for DecisionTree...\n",
      "0.7775984822692878\n",
      "Training for DecisionTree...\n",
      "0.7813143458419549\n",
      "Training for DecisionTree...\n",
      "0.7828152453539108\n",
      "Training for DecisionTree...\n",
      "0.7835231587696762\n",
      "Training for DecisionTree...\n",
      "0.7814909749402399\n",
      "Training for DecisionTree...\n",
      "0.7916504691762549\n",
      "Training for DecisionTree...\n",
      "0.7762005594037642\n",
      "Training for DecisionTree...\n",
      "0.7809305192990541\n"
     ]
    },
    {
     "data": {
      "text/plain": "np.float64(0.7814026603910974)"
     },
     "execution_count": 37,
     "metadata": {},
     "output_type": "execute_result"
    }
   ],
   "source": [
    "classifier = 'DecisionTree'\n",
    "param = 160\n",
    "perf_mean = []\n",
    "for i in range(0,8):\n",
    "    perf_mean.append(alg.classification(X[selected_features], y, classifier, param, 8))\n",
    "np.median(perf_mean)"
   ],
   "metadata": {
    "collapsed": false
   }
  },
  {
   "cell_type": "code",
   "execution_count": 38,
   "outputs": [
    {
     "name": "stdout",
     "output_type": "stream",
     "text": [
      "Training for LogisticRegression...\n",
      "0.8042163230272448\n",
      "Training for LogisticRegression...\n",
      "0.8120568369539563\n",
      "Training for LogisticRegression...\n",
      "0.8089495136475173\n",
      "Training for LogisticRegression...\n",
      "0.8065153213164978\n",
      "Training for LogisticRegression...\n",
      "0.8122807833339976\n",
      "Training for LogisticRegression...\n",
      "0.8076272755938898\n",
      "Training for LogisticRegression...\n",
      "0.8129137226173617\n",
      "Training for LogisticRegression...\n",
      "0.8091983674662957\n"
     ]
    },
    {
     "data": {
      "text/plain": "np.float64(0.8090739405569065)"
     },
     "execution_count": 38,
     "metadata": {},
     "output_type": "execute_result"
    }
   ],
   "source": [
    "classifier = 'LogisticRegression'\n",
    "param = 1\n",
    "perf_mean = []\n",
    "for i in range(0,8):\n",
    "    perf_mean.append(alg.classification(X[selected_features], y, classifier, param, 8))\n",
    "np.median(perf_mean)"
   ],
   "metadata": {
    "collapsed": false
   }
  },
  {
   "cell_type": "code",
   "execution_count": 44,
   "outputs": [
    {
     "name": "stdout",
     "output_type": "stream",
     "text": [
      "Training for KNN...\n",
      "0.8607348762130962\n",
      "Training for KNN...\n",
      "0.8644836727074974\n",
      "Training for KNN...\n",
      "0.8647871002831516\n",
      "Training for KNN...\n",
      "0.8664995365347326\n",
      "Training for KNN...\n",
      "0.8592582103753937\n",
      "Training for KNN...\n",
      "0.8660155026051113\n",
      "Training for KNN...\n",
      "0.8655404606878345\n",
      "Training for KNN...\n",
      "0.861241458184834\n"
     ]
    },
    {
     "data": {
      "text/plain": "np.float64(0.8646353864953245)"
     },
     "execution_count": 44,
     "metadata": {},
     "output_type": "execute_result"
    }
   ],
   "source": [
    "classifier = 'KNN'\n",
    "param = 18\n",
    "perf_mean = []\n",
    "for i in range(0,8):\n",
    "    perf_mean.append(alg.classification(X[selected_features], y, classifier, param, 8))\n",
    "np.median(perf_mean)"
   ],
   "metadata": {
    "collapsed": false
   }
  },
  {
   "cell_type": "code",
   "execution_count": 52,
   "outputs": [
    {
     "name": "stdout",
     "output_type": "stream",
     "text": [
      "Training for RandomForest...\n",
      "0.7995845164828341\n",
      "Training for RandomForest...\n",
      "0.7982429633011559\n",
      "Training for RandomForest...\n",
      "0.808094482450225\n",
      "Training for RandomForest...\n",
      "0.7938799045667269\n",
      "Training for RandomForest...\n",
      "0.8038807398251532\n",
      "Training for RandomForest...\n",
      "0.8030849572689058\n",
      "Training for RandomForest...\n",
      "0.8088898680263137\n",
      "Training for RandomForest...\n",
      "0.8100785895005291\n"
     ]
    },
    {
     "data": {
      "text/plain": "np.float64(0.8034828485470296)"
     },
     "execution_count": 52,
     "metadata": {},
     "output_type": "execute_result"
    }
   ],
   "source": [
    "classifier = 'RandomForest'\n",
    "param = 150\n",
    "perf_mean = []\n",
    "for i in range(0,8):\n",
    "    perf_mean.append(alg.classification(X[selected_features], y, classifier, param, 8))\n",
    "np.median(perf_mean)"
   ],
   "metadata": {
    "collapsed": false
   }
  },
  {
   "cell_type": "code",
   "execution_count": 56,
   "outputs": [
    {
     "name": "stdout",
     "output_type": "stream",
     "text": [
      "Training for AdaBoost...\n",
      "0.8624982721338581\n",
      "Training for AdaBoost...\n",
      "0.8644902173140451\n",
      "Training for AdaBoost...\n",
      "0.8641640774405555\n",
      "Training for AdaBoost...\n",
      "0.858221235732449\n",
      "Training for AdaBoost...\n",
      "0.8601234947466635\n",
      "Training for AdaBoost...\n",
      "0.8583567261802412\n",
      "Training for AdaBoost...\n",
      "0.857735305193865\n",
      "Training for AdaBoost...\n",
      "0.8659199190837886\n"
     ]
    },
    {
     "data": {
      "text/plain": "np.float64(0.8613108834402607)"
     },
     "execution_count": 56,
     "metadata": {},
     "output_type": "execute_result"
    }
   ],
   "source": [
    "classifier = 'AdaBoost'\n",
    "param = 70\n",
    "perf_mean = []\n",
    "for i in range(0,8):\n",
    "    perf_mean.append(alg.classification(X[selected_features], y, classifier, param, 8))\n",
    "np.median(perf_mean)"
   ],
   "metadata": {
    "collapsed": false
   }
  },
  {
   "cell_type": "code",
   "execution_count": 57,
   "outputs": [
    {
     "name": "stdout",
     "output_type": "stream",
     "text": [
      "Training for SVC...\n",
      "0.83595709647986\n",
      "Training for SVC...\n",
      "0.8353891489612172\n",
      "Training for SVC...\n",
      "0.83770943145046\n",
      "Training for SVC...\n",
      "0.8216718746612529\n",
      "Training for SVC...\n",
      "0.8411203715296043\n",
      "Training for SVC...\n",
      "0.8289221028467777\n",
      "Training for SVC...\n",
      "0.8300541827360013\n",
      "Training for SVC...\n",
      "0.8373175943522404\n"
     ]
    },
    {
     "data": {
      "text/plain": "np.float64(0.8356731227205386)"
     },
     "execution_count": 57,
     "metadata": {},
     "output_type": "execute_result"
    }
   ],
   "source": [
    "classifier = 'SVC'\n",
    "param = 1\n",
    "perf_mean = []\n",
    "for i in range(0,8):\n",
    "    perf_mean.append(alg.classification(X[selected_features], y, classifier, param, 8))\n",
    "np.median(perf_mean)"
   ],
   "metadata": {
    "collapsed": false
   }
  },
  {
   "cell_type": "code",
   "execution_count": null,
   "outputs": [],
   "source": [],
   "metadata": {
    "collapsed": false
   }
  }
 ],
 "metadata": {
  "kernelspec": {
   "display_name": "Python 3",
   "language": "python",
   "name": "python3"
  },
  "language_info": {
   "codemirror_mode": {
    "name": "ipython",
    "version": 2
   },
   "file_extension": ".py",
   "mimetype": "text/x-python",
   "name": "python",
   "nbconvert_exporter": "python",
   "pygments_lexer": "ipython2",
   "version": "2.7.6"
  }
 },
 "nbformat": 4,
 "nbformat_minor": 0
}
