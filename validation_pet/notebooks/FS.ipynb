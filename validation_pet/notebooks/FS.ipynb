{
 "cells": [
  {
   "cell_type": "code",
   "execution_count": 1,
   "outputs": [],
   "source": [
    "import warnings\n",
    "warnings.filterwarnings(\"ignore\")\n",
    "import algorithms_class as alg"
   ],
   "metadata": {
    "collapsed": false
   }
  },
  {
   "cell_type": "code",
   "execution_count": 2,
   "outputs": [
    {
     "data": {
      "text/plain": "      PetID PetType             Breed  AgeMonths   Color    Size   WeightKg  \\\n0       500    Bird          Parakeet        131  Orange   Large   5.039768   \n1       501  Rabbit            Rabbit         73   White   Large  16.086727   \n2       502     Dog  Golden Retriever        136  Orange  Medium   2.076286   \n3       503    Bird          Parakeet         97   White   Small   3.339423   \n4       504  Rabbit            Rabbit        123    Gray   Large  20.498100   \n...     ...     ...               ...        ...     ...     ...        ...   \n2002   2502     Dog            Poodle         72  Orange   Small  27.039045   \n2003   2503  Rabbit            Rabbit        124   Brown   Small   4.726954   \n2004   2504  Rabbit            Rabbit        113  Orange   Small   1.758592   \n2005   2505     Dog          Labrador         12    Gray   Large  20.961592   \n2006   2506  Rabbit            Rabbit        126   White  Medium  18.519788   \n\n      Vaccinated  HealthCondition  TimeInShelterDays  AdoptionFee  \\\n0              1                0                 27          140   \n1              0                0                  8          235   \n2              0                0                 85          385   \n3              0                0                 61          217   \n4              0                0                 28           14   \n...          ...              ...                ...          ...   \n2002           1                0                 66           26   \n2003           1                1                 59          150   \n2004           1                0                 68          302   \n2005           1                0                 59          478   \n2006           1                0                 10          267   \n\n      PreviousOwner  AdoptionLikelihood  \n0                 0                   0  \n1                 0                   0  \n2                 0                   0  \n3                 1                   0  \n4                 1                   0  \n...             ...                 ...  \n2002              1                   1  \n2003              0                   0  \n2004              0                   0  \n2005              0                   0  \n2006              1                   0  \n\n[2007 rows x 13 columns]",
      "text/html": "<div>\n<style scoped>\n    .dataframe tbody tr th:only-of-type {\n        vertical-align: middle;\n    }\n\n    .dataframe tbody tr th {\n        vertical-align: top;\n    }\n\n    .dataframe thead th {\n        text-align: right;\n    }\n</style>\n<table border=\"1\" class=\"dataframe\">\n  <thead>\n    <tr style=\"text-align: right;\">\n      <th></th>\n      <th>PetID</th>\n      <th>PetType</th>\n      <th>Breed</th>\n      <th>AgeMonths</th>\n      <th>Color</th>\n      <th>Size</th>\n      <th>WeightKg</th>\n      <th>Vaccinated</th>\n      <th>HealthCondition</th>\n      <th>TimeInShelterDays</th>\n      <th>AdoptionFee</th>\n      <th>PreviousOwner</th>\n      <th>AdoptionLikelihood</th>\n    </tr>\n  </thead>\n  <tbody>\n    <tr>\n      <th>0</th>\n      <td>500</td>\n      <td>Bird</td>\n      <td>Parakeet</td>\n      <td>131</td>\n      <td>Orange</td>\n      <td>Large</td>\n      <td>5.039768</td>\n      <td>1</td>\n      <td>0</td>\n      <td>27</td>\n      <td>140</td>\n      <td>0</td>\n      <td>0</td>\n    </tr>\n    <tr>\n      <th>1</th>\n      <td>501</td>\n      <td>Rabbit</td>\n      <td>Rabbit</td>\n      <td>73</td>\n      <td>White</td>\n      <td>Large</td>\n      <td>16.086727</td>\n      <td>0</td>\n      <td>0</td>\n      <td>8</td>\n      <td>235</td>\n      <td>0</td>\n      <td>0</td>\n    </tr>\n    <tr>\n      <th>2</th>\n      <td>502</td>\n      <td>Dog</td>\n      <td>Golden Retriever</td>\n      <td>136</td>\n      <td>Orange</td>\n      <td>Medium</td>\n      <td>2.076286</td>\n      <td>0</td>\n      <td>0</td>\n      <td>85</td>\n      <td>385</td>\n      <td>0</td>\n      <td>0</td>\n    </tr>\n    <tr>\n      <th>3</th>\n      <td>503</td>\n      <td>Bird</td>\n      <td>Parakeet</td>\n      <td>97</td>\n      <td>White</td>\n      <td>Small</td>\n      <td>3.339423</td>\n      <td>0</td>\n      <td>0</td>\n      <td>61</td>\n      <td>217</td>\n      <td>1</td>\n      <td>0</td>\n    </tr>\n    <tr>\n      <th>4</th>\n      <td>504</td>\n      <td>Rabbit</td>\n      <td>Rabbit</td>\n      <td>123</td>\n      <td>Gray</td>\n      <td>Large</td>\n      <td>20.498100</td>\n      <td>0</td>\n      <td>0</td>\n      <td>28</td>\n      <td>14</td>\n      <td>1</td>\n      <td>0</td>\n    </tr>\n    <tr>\n      <th>...</th>\n      <td>...</td>\n      <td>...</td>\n      <td>...</td>\n      <td>...</td>\n      <td>...</td>\n      <td>...</td>\n      <td>...</td>\n      <td>...</td>\n      <td>...</td>\n      <td>...</td>\n      <td>...</td>\n      <td>...</td>\n      <td>...</td>\n    </tr>\n    <tr>\n      <th>2002</th>\n      <td>2502</td>\n      <td>Dog</td>\n      <td>Poodle</td>\n      <td>72</td>\n      <td>Orange</td>\n      <td>Small</td>\n      <td>27.039045</td>\n      <td>1</td>\n      <td>0</td>\n      <td>66</td>\n      <td>26</td>\n      <td>1</td>\n      <td>1</td>\n    </tr>\n    <tr>\n      <th>2003</th>\n      <td>2503</td>\n      <td>Rabbit</td>\n      <td>Rabbit</td>\n      <td>124</td>\n      <td>Brown</td>\n      <td>Small</td>\n      <td>4.726954</td>\n      <td>1</td>\n      <td>1</td>\n      <td>59</td>\n      <td>150</td>\n      <td>0</td>\n      <td>0</td>\n    </tr>\n    <tr>\n      <th>2004</th>\n      <td>2504</td>\n      <td>Rabbit</td>\n      <td>Rabbit</td>\n      <td>113</td>\n      <td>Orange</td>\n      <td>Small</td>\n      <td>1.758592</td>\n      <td>1</td>\n      <td>0</td>\n      <td>68</td>\n      <td>302</td>\n      <td>0</td>\n      <td>0</td>\n    </tr>\n    <tr>\n      <th>2005</th>\n      <td>2505</td>\n      <td>Dog</td>\n      <td>Labrador</td>\n      <td>12</td>\n      <td>Gray</td>\n      <td>Large</td>\n      <td>20.961592</td>\n      <td>1</td>\n      <td>0</td>\n      <td>59</td>\n      <td>478</td>\n      <td>0</td>\n      <td>0</td>\n    </tr>\n    <tr>\n      <th>2006</th>\n      <td>2506</td>\n      <td>Rabbit</td>\n      <td>Rabbit</td>\n      <td>126</td>\n      <td>White</td>\n      <td>Medium</td>\n      <td>18.519788</td>\n      <td>1</td>\n      <td>0</td>\n      <td>10</td>\n      <td>267</td>\n      <td>1</td>\n      <td>0</td>\n    </tr>\n  </tbody>\n</table>\n<p>2007 rows × 13 columns</p>\n</div>"
     },
     "execution_count": 2,
     "metadata": {},
     "output_type": "execute_result"
    }
   ],
   "source": [
    "import pandas as pd\n",
    "\n",
    "df = pd.read_csv(\"pet_adoption_data.csv\")\n",
    "df"
   ],
   "metadata": {
    "collapsed": false
   }
  },
  {
   "cell_type": "code",
   "execution_count": 3,
   "outputs": [
    {
     "data": {
      "text/plain": "Index(['PetID', 'PetType', 'Breed', 'AgeMonths', 'Color', 'Size', 'WeightKg',\n       'Vaccinated', 'HealthCondition', 'TimeInShelterDays', 'AdoptionFee',\n       'PreviousOwner', 'AdoptionLikelihood'],\n      dtype='object')"
     },
     "execution_count": 3,
     "metadata": {},
     "output_type": "execute_result"
    }
   ],
   "source": [
    "df.columns"
   ],
   "metadata": {
    "collapsed": false
   }
  },
  {
   "cell_type": "code",
   "execution_count": 4,
   "outputs": [
    {
     "data": {
      "text/plain": "array([[131.,   0.,   0.],\n       [ 73.,   0.,   0.],\n       [136.,   1.,   0.],\n       ...,\n       [113.,   0.,   1.],\n       [ 12.,   0.,   0.],\n       [126.,   1.,   0.]])"
     },
     "execution_count": 4,
     "metadata": {},
     "output_type": "execute_result"
    }
   ],
   "source": [
    "target = 'AdoptionLikelihood'\n",
    "features = ['PetID', 'PetType', 'Breed', 'AgeMonths', 'Color', 'Size', 'WeightKg',\n",
    "       'Vaccinated', 'HealthCondition', 'TimeInShelterDays', 'AdoptionFee',\n",
    "       'PreviousOwner']\n",
    "X = df[features]\n",
    "y = df[target]\n",
    "X_encoded = alg.encoding_categorical_variables(X)\n",
    "from sklearn.feature_selection import SelectKBest\n",
    "from sklearn.feature_selection import f_classif, mutual_info_classif, chi2\n",
    "\n",
    "X_new = SelectKBest(mutual_info_classif, k=3).fit_transform(X_encoded, y)\n",
    "X_new"
   ],
   "metadata": {
    "collapsed": false
   }
  },
  {
   "cell_type": "code",
   "execution_count": 5,
   "outputs": [],
   "source": [
    "selected_features = ['AgeMonths','Vaccinated','Size']"
   ],
   "metadata": {
    "collapsed": false
   }
  },
  {
   "cell_type": "code",
   "execution_count": 45,
   "outputs": [],
   "source": [
    "classifiers = ['DecisionTree','LogisticRegression','KNN','RandomForest','AdaBoost','SVC']"
   ],
   "metadata": {
    "collapsed": false
   }
  },
  {
   "cell_type": "markdown",
   "source": [
    "TUNING"
   ],
   "metadata": {
    "collapsed": false
   }
  },
  {
   "cell_type": "code",
   "execution_count": 46,
   "outputs": [],
   "source": [
    "import numpy as np"
   ],
   "metadata": {
    "collapsed": false
   }
  },
  {
   "cell_type": "code",
   "execution_count": 47,
   "outputs": [
    {
     "name": "stdout",
     "output_type": "stream",
     "text": [
      "Training for DecisionTree...\n",
      "0.7813581927523388\n",
      "Training for DecisionTree...\n",
      "0.7951864400431933\n",
      "Training for DecisionTree...\n",
      "0.7858763037754093\n",
      "Training for DecisionTree...\n",
      "0.7913102940383074\n",
      "Training for DecisionTree...\n",
      "0.7788239320501139\n",
      "Training for DecisionTree...\n",
      "0.7901724592084987\n",
      "Training for DecisionTree...\n",
      "0.7800992895488185\n",
      "Training for DecisionTree...\n",
      "0.7839264944936267\n"
     ]
    },
    {
     "data": {
      "text/plain": "np.float64(0.784901399134518)"
     },
     "execution_count": 47,
     "metadata": {},
     "output_type": "execute_result"
    }
   ],
   "source": [
    "classifier = 'DecisionTree'\n",
    "param = 160\n",
    "perf_mean = []\n",
    "for i in range(0,8):\n",
    "    perf_mean.append(alg.classification(X[selected_features], y, classifier, param, 8))\n",
    "np.median(perf_mean)"
   ],
   "metadata": {
    "collapsed": false
   }
  },
  {
   "cell_type": "code",
   "execution_count": 35,
   "outputs": [
    {
     "name": "stdout",
     "output_type": "stream",
     "text": [
      "Training for LogisticRegression...\n",
      "0.816280471101035\n",
      "Training for LogisticRegression...\n",
      "0.8205089913474359\n",
      "Training for LogisticRegression...\n",
      "0.8102731111993169\n",
      "Training for LogisticRegression...\n",
      "0.807375432014159\n",
      "Training for LogisticRegression...\n",
      "0.8114290086599343\n",
      "Training for LogisticRegression...\n",
      "0.8163529143507904\n",
      "Training for LogisticRegression...\n",
      "0.8101780041433355\n",
      "Training for LogisticRegression...\n",
      "0.8089895805915883\n"
     ]
    },
    {
     "data": {
      "text/plain": "np.float64(0.8108510599296256)"
     },
     "execution_count": 35,
     "metadata": {},
     "output_type": "execute_result"
    }
   ],
   "source": [
    "classifier = 'LogisticRegression'\n",
    "param = 1\n",
    "perf_mean = []\n",
    "for i in range(0,8):\n",
    "    perf_mean.append(alg.classification(X[selected_features], y, classifier, param, 8))\n",
    "np.median(perf_mean)"
   ],
   "metadata": {
    "collapsed": false
   }
  },
  {
   "cell_type": "code",
   "execution_count": 36,
   "outputs": [
    {
     "name": "stdout",
     "output_type": "stream",
     "text": [
      "Training for KNN...\n",
      "0.8564348414846699\n",
      "Training for KNN...\n",
      "0.8618784374226025\n",
      "Training for KNN...\n",
      "0.8539654014803364\n",
      "Training for KNN...\n",
      "0.8587779474886968\n",
      "Training for KNN...\n",
      "0.860737976390211\n",
      "Training for KNN...\n",
      "0.8591695923449996\n",
      "Training for KNN...\n",
      "0.8615550614654708\n",
      "Training for KNN...\n",
      "0.8578912026097754\n"
     ]
    },
    {
     "data": {
      "text/plain": "np.float64(0.8589737699168483)"
     },
     "execution_count": 36,
     "metadata": {},
     "output_type": "execute_result"
    }
   ],
   "source": [
    "classifier = 'KNN'\n",
    "param = 15\n",
    "perf_mean = []\n",
    "for i in range(0,8):\n",
    "    perf_mean.append(alg.classification(X[selected_features], y, classifier, param, 8))\n",
    "np.median(perf_mean)"
   ],
   "metadata": {
    "collapsed": false
   }
  },
  {
   "cell_type": "code",
   "execution_count": 37,
   "outputs": [
    {
     "name": "stdout",
     "output_type": "stream",
     "text": [
      "Training for RandomForest...\n",
      "0.7976652940155939\n",
      "Training for RandomForest...\n",
      "0.8022531430127131\n",
      "Training for RandomForest...\n",
      "0.7949055677975232\n",
      "Training for RandomForest...\n",
      "0.8032475931822727\n",
      "Training for RandomForest...\n",
      "0.8096212731032302\n",
      "Training for RandomForest...\n",
      "0.7890376560217838\n",
      "Training for RandomForest...\n",
      "0.7989616250117344\n",
      "Training for RandomForest...\n",
      "0.8017205307580557\n"
     ]
    },
    {
     "data": {
      "text/plain": "np.float64(0.8003410778848951)"
     },
     "execution_count": 37,
     "metadata": {},
     "output_type": "execute_result"
    }
   ],
   "source": [
    "classifier = 'RandomForest'\n",
    "param = 100\n",
    "perf_mean = []\n",
    "for i in range(0,8):\n",
    "    perf_mean.append(alg.classification(X[selected_features], y, classifier, param, 8))\n",
    "np.median(perf_mean)"
   ],
   "metadata": {
    "collapsed": false
   }
  },
  {
   "cell_type": "code",
   "execution_count": 38,
   "outputs": [
    {
     "name": "stdout",
     "output_type": "stream",
     "text": [
      "Training for AdaBoost...\n",
      "0.8615442966763447\n",
      "Training for AdaBoost...\n",
      "0.8701138120193928\n",
      "Training for AdaBoost...\n",
      "0.8614152750521753\n",
      "Training for AdaBoost...\n",
      "0.8589527058420143\n",
      "Training for AdaBoost...\n",
      "0.869187767155394\n",
      "Training for AdaBoost...\n",
      "0.8585729446529065\n",
      "Training for AdaBoost...\n",
      "0.8645102451043952\n",
      "Training for AdaBoost...\n",
      "0.8568627937757538\n"
     ]
    },
    {
     "data": {
      "text/plain": "np.float64(0.86147978586426)"
     },
     "execution_count": 38,
     "metadata": {},
     "output_type": "execute_result"
    }
   ],
   "source": [
    "classifier = 'AdaBoost'\n",
    "param = 40\n",
    "perf_mean = []\n",
    "for i in range(0,8):\n",
    "    perf_mean.append(alg.classification(X[selected_features], y, classifier, param, 8))\n",
    "np.median(perf_mean)"
   ],
   "metadata": {
    "collapsed": false
   }
  },
  {
   "cell_type": "code",
   "execution_count": 39,
   "outputs": [
    {
     "name": "stdout",
     "output_type": "stream",
     "text": [
      "Training for SVC...\n",
      "0.8304056439604037\n",
      "Training for SVC...\n",
      "0.833926298574995\n",
      "Training for SVC...\n",
      "0.8521942008710834\n",
      "Training for SVC...\n",
      "0.8461368017272897\n",
      "Training for SVC...\n",
      "0.8420381881358212\n",
      "Training for SVC...\n",
      "0.8421634633661146\n",
      "Training for SVC...\n",
      "0.8471695928294143\n",
      "Training for SVC...\n",
      "0.8442577478620743\n"
     ]
    },
    {
     "data": {
      "text/plain": "np.float64(0.8432106056140944)"
     },
     "execution_count": 39,
     "metadata": {},
     "output_type": "execute_result"
    }
   ],
   "source": [
    "classifier = 'SVC'\n",
    "param = 1\n",
    "perf_mean = []\n",
    "for i in range(0,8):\n",
    "    perf_mean.append(alg.classification(X[selected_features], y, classifier, param, 8))\n",
    "np.median(perf_mean)"
   ],
   "metadata": {
    "collapsed": false
   }
  },
  {
   "cell_type": "code",
   "execution_count": null,
   "outputs": [],
   "source": [],
   "metadata": {
    "collapsed": false
   }
  }
 ],
 "metadata": {
  "kernelspec": {
   "display_name": "Python 3",
   "language": "python",
   "name": "python3"
  },
  "language_info": {
   "codemirror_mode": {
    "name": "ipython",
    "version": 2
   },
   "file_extension": ".py",
   "mimetype": "text/x-python",
   "name": "python",
   "nbconvert_exporter": "python",
   "pygments_lexer": "ipython2",
   "version": "2.7.6"
  }
 },
 "nbformat": 4,
 "nbformat_minor": 0
}
