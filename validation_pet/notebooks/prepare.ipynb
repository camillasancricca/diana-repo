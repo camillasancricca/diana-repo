{
 "cells": [
  {
   "cell_type": "code",
   "execution_count": 44,
   "outputs": [],
   "source": [
    "import warnings\n",
    "warnings.filterwarnings(\"ignore\")\n",
    "import algorithms_class as alg"
   ],
   "metadata": {
    "collapsed": false
   }
  },
  {
   "cell_type": "code",
   "execution_count": 49,
   "metadata": {
    "collapsed": true
   },
   "outputs": [],
   "source": [
    "import pandas as pd\n",
    "df = pd.read_csv(\"pet_adoption_data.csv\")\n",
    "target = 'AdoptionLikelihood'\n",
    "features = ['AgeMonths','Vaccinated','Size',target]"
   ]
  },
  {
   "cell_type": "code",
   "execution_count": 50,
   "outputs": [],
   "source": [
    "df = df[features]"
   ],
   "metadata": {
    "collapsed": false
   }
  },
  {
   "cell_type": "code",
   "execution_count": 51,
   "outputs": [],
   "source": [
    "df.Vaccinated = df.Vaccinated.astype('object')\n",
    "df.AdoptionLikelihood = df.AdoptionLikelihood.astype('object')"
   ],
   "metadata": {
    "collapsed": false
   }
  },
  {
   "cell_type": "code",
   "execution_count": 52,
   "outputs": [],
   "source": [
    "df.loc[df['Vaccinated'] == 0, 'Vaccinated'] = 'No'\n",
    "df.loc[df['Vaccinated'] == 1, 'Vaccinated'] = 'Yes'\n",
    "\n",
    "df.loc[df['AdoptionLikelihood'] == 0, 'AdoptionLikelihood'] = 'Unlikely'\n",
    "df.loc[df['AdoptionLikelihood'] == 1, 'AdoptionLikelihood'] = 'Likely'"
   ],
   "metadata": {
    "collapsed": false
   }
  },
  {
   "cell_type": "code",
   "execution_count": 53,
   "outputs": [],
   "source": [
    "df.to_csv('pet.csv', index=None)\n"
   ],
   "metadata": {
    "collapsed": false
   }
  },
  {
   "cell_type": "code",
   "execution_count": null,
   "outputs": [],
   "source": [],
   "metadata": {
    "collapsed": false
   }
  }
 ],
 "metadata": {
  "kernelspec": {
   "display_name": "Python 3",
   "language": "python",
   "name": "python3"
  },
  "language_info": {
   "codemirror_mode": {
    "name": "ipython",
    "version": 2
   },
   "file_extension": ".py",
   "mimetype": "text/x-python",
   "name": "python",
   "nbconvert_exporter": "python",
   "pygments_lexer": "ipython2",
   "version": "2.7.6"
  }
 },
 "nbformat": 4,
 "nbformat_minor": 0
}
