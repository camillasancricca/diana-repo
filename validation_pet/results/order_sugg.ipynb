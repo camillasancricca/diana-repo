{
 "cells": [
  {
   "cell_type": "code",
   "execution_count": 2,
   "metadata": {
    "collapsed": true
   },
   "outputs": [],
   "source": [
    "import pandas as pd"
   ]
  },
  {
   "cell_type": "code",
   "execution_count": 3,
   "outputs": [],
   "source": [
    "schedule_sugg = pd.read_csv('schedule/compiled_schedule_suggested.csv')"
   ],
   "metadata": {
    "collapsed": false
   }
  },
  {
   "cell_type": "code",
   "execution_count": 8,
   "outputs": [
    {
     "name": "stdout",
     "output_type": "stream",
     "text": [
      "-----Order for LogisticRegression-----\n",
      "imp_col_1\n",
      "Vaccinated    3\n",
      "Size          1\n",
      "AgeMonths     1\n",
      "Name: count, dtype: int64\n",
      "imp_col_2\n",
      "AgeMonths    3\n",
      "Size         2\n",
      "Name: count, dtype: int64\n",
      "imp_col_3\n",
      "Size          2\n",
      "Vaccinated    2\n",
      "AgeMonths     1\n",
      "Name: count, dtype: int64\n",
      "-----Order for SVC-----\n",
      "imp_col_1\n",
      "AgeMonths     2\n",
      "Vaccinated    2\n",
      "Size          1\n",
      "Name: count, dtype: int64\n",
      "imp_col_2\n",
      "Size          2\n",
      "AgeMonths     2\n",
      "Vaccinated    1\n",
      "Name: count, dtype: int64\n",
      "imp_col_3\n",
      "Size          2\n",
      "Vaccinated    2\n",
      "AgeMonths     1\n",
      "Name: count, dtype: int64\n"
     ]
    }
   ],
   "source": [
    "for a in ['LogisticRegression','SVC']:\n",
    "    print('-----'+'Order for '+a+'-----')\n",
    "    schedule = schedule_sugg[schedule_sugg.algorithm == a].sort_values(by=['perf_2'], ascending=False).copy()\n",
    "    print(schedule[0:5].imp_col_1.value_counts())\n",
    "    print(schedule[0:5].imp_col_2.value_counts())\n",
    "    print(schedule[0:5].imp_col_3.value_counts())"
   ],
   "metadata": {
    "collapsed": false
   }
  },
  {
   "cell_type": "code",
   "execution_count": 5,
   "outputs": [],
   "source": [
    "### Prevale LR: Vaccinated, AgeMonths, Size = Vaccinated\n",
    "### Prevale SVC: AgeMonths = Vaccinated, Size = AgeMonths, Size = Vaccinated\n",
    "\n",
    "##sono comunque così variabili!"
   ],
   "metadata": {
    "collapsed": false
   }
  },
  {
   "cell_type": "code",
   "execution_count": null,
   "outputs": [],
   "source": [],
   "metadata": {
    "collapsed": false
   }
  }
 ],
 "metadata": {
  "kernelspec": {
   "display_name": "Python 3",
   "language": "python",
   "name": "python3"
  },
  "language_info": {
   "codemirror_mode": {
    "name": "ipython",
    "version": 2
   },
   "file_extension": ".py",
   "mimetype": "text/x-python",
   "name": "python",
   "nbconvert_exporter": "python",
   "pygments_lexer": "ipython2",
   "version": "2.7.6"
  }
 },
 "nbformat": 4,
 "nbformat_minor": 0
}
