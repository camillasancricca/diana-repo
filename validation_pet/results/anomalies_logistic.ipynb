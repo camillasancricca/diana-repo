{
 "cells": [
  {
   "cell_type": "code",
   "execution_count": 14,
   "metadata": {
    "collapsed": true
   },
   "outputs": [],
   "source": [
    "import pandas as pd\n",
    "import dirty_data as d\n",
    "from sklearn.linear_model import LogisticRegression\n",
    "import matplotlib.pyplot as plt\n",
    "import numpy as np\n",
    "import imputation as i\n",
    "import outlier_detection as od\n",
    "from utils import encoding_categorical_variables as enc\n",
    "from sklearn.preprocessing import StandardScaler"
   ]
  },
  {
   "cell_type": "code",
   "execution_count": 15,
   "outputs": [],
   "source": [
    "df = pd.read_csv(\"../dataset/pet.csv\")\n",
    "name_class = 'AdoptionLikelihood'\n",
    "\n",
    "selected_features = ['AgeMonths','Vaccinated','Size', name_class]\n",
    "selected_features_only = ['AgeMonths','Vaccinated','Size']\n",
    "\n",
    "df = df[selected_features]\n",
    "quality = pd.DataFrame([70,75,80,85,90,95])\n",
    "perc_quality = [70,75,80,85,90,95]\n",
    "\n",
    "param = {\n",
    "    'DecisionTree': 160,\n",
    "    'LogisticRegression': 1,\n",
    "    'KNN': 18,\n",
    "    'RandomForest': 150,\n",
    "    'AdaBoost': 70,\n",
    "    'SVC': 1\n",
    "}"
   ],
   "metadata": {
    "collapsed": false
   }
  },
  {
   "cell_type": "code",
   "execution_count": 22,
   "outputs": [],
   "source": [
    "def improve_completeness(df, imp_1, imp_2, imp_3, imp_col_1, imp_col_2, imp_col_3, name_class):\n",
    "    df_clean = df[selected_features_only].copy()\n",
    "\n",
    "    df_clean = i.impute(df_clean, imp_1, imp_col_1)\n",
    "    df_clean = i.impute(df_clean, imp_2, imp_col_2)\n",
    "    df_clean = i.impute(df_clean, imp_3, imp_col_3)\n",
    "\n",
    "    df_clean[name_class] = df[name_class]\n",
    "\n",
    "    return df_clean\n",
    "\n",
    "def improve_accuracy(df, od_1, od_2, imp_1, imp_2, imp_3, imp_col_1, imp_col_2, imp_col_3, name_class):\n",
    "\n",
    "    df_clean = df.copy()\n",
    "\n",
    "    df_clean = improve_completeness(df_clean, imp_1, imp_2, imp_3, imp_col_1, imp_col_2, imp_col_3, name_class)\n",
    "\n",
    "    indexes_1 = od.outliers(df_clean, od_1, selected_features[0])\n",
    "    indexes_2 = od.outliers(df_clean, od_2, selected_features[1])\n",
    "\n",
    "    df_clean.loc[indexes_1,selected_features[0]] = np.nan\n",
    "    df_clean.loc[indexes_2,selected_features[1]] = np.nan\n",
    "\n",
    "    df_clean[name_class] = df[name_class]\n",
    "\n",
    "    return df_clean"
   ],
   "metadata": {
    "collapsed": false
   }
  },
  {
   "cell_type": "code",
   "execution_count": 23,
   "outputs": [
    {
     "name": "stdout",
     "output_type": "stream",
     "text": [
      "saved dirty dataset 80%\n",
      "saved dirty dataset 90%\n"
     ]
    }
   ],
   "source": [
    "df_dirt_80 = d.injection(df, name_class, 80/100, 10, 1)\n",
    "df_dirt_90 = d.injection(df, name_class, 90/100, 10, 1)\n",
    "df_100 = df"
   ],
   "metadata": {
    "collapsed": false
   }
  },
  {
   "cell_type": "code",
   "execution_count": 23,
   "outputs": [],
   "source": [],
   "metadata": {
    "collapsed": false
   }
  },
  {
   "cell_type": "code",
   "execution_count": 24,
   "outputs": [
    {
     "data": {
      "text/plain": "array([[ 0.14718874,  0.56118199, -0.46586538, -0.07682637,  0.42788687,\n        -0.73473305,  0.36996351, -0.06499622]])"
     },
     "execution_count": 24,
     "metadata": {},
     "output_type": "execute_result"
    }
   ],
   "source": [
    "### quality 90%\n",
    "\n",
    "clf = LogisticRegression(C=param['LogisticRegression'])\n",
    "\n",
    "X = enc(df_dirt_90[selected_features_only])\n",
    "X = StandardScaler().fit_transform(X)\n",
    "X = np.nan_to_num(X)\n",
    "\n",
    "df_dirt_60 = clf.fit(X, df_dirt_90[name_class])\n",
    "importances_1 = df_dirt_60.coef_\n",
    "importances_1"
   ],
   "metadata": {
    "collapsed": false
   }
  },
  {
   "cell_type": "code",
   "execution_count": 25,
   "outputs": [
    {
     "data": {
      "text/plain": "array([[ 0.59949847,  0.56655791, -0.56655791,  0.        ,  0.45854287,\n        -0.8258967 ,  0.38821502,  0.        ]])"
     },
     "execution_count": 25,
     "metadata": {},
     "output_type": "execute_result"
    }
   ],
   "source": [
    "### quality 100%\n",
    "\n",
    "clf = LogisticRegression(C=param['LogisticRegression'])\n",
    "\n",
    "X = enc(df_100[selected_features_only])\n",
    "X = StandardScaler().fit_transform(X)\n",
    "X = np.nan_to_num(X)\n",
    "\n",
    "df_100 = clf.fit(X, df_100[name_class])\n",
    "importances_2 = df_100.coef_\n",
    "importances_2"
   ],
   "metadata": {
    "collapsed": false
   }
  },
  {
   "cell_type": "code",
   "execution_count": 26,
   "outputs": [
    {
     "data": {
      "text/plain": "array([[ 0.12444127,  0.58424918, -0.39468597, -0.13256004,  0.3531291 ,\n        -0.70637569,  0.3570243 ,  0.03173223]])"
     },
     "execution_count": 26,
     "metadata": {},
     "output_type": "execute_result"
    }
   ],
   "source": [
    "### quality 80%\n",
    "\n",
    "clf = LogisticRegression(C=param['LogisticRegression'])\n",
    "\n",
    "X = enc(df_dirt_80[selected_features_only])\n",
    "X = StandardScaler().fit_transform(X)\n",
    "X = np.nan_to_num(X)\n",
    "\n",
    "df_dirt_60 = clf.fit(X, df_dirt_90[name_class])\n",
    "importances_3 = df_dirt_60.coef_\n",
    "importances_3"
   ],
   "metadata": {
    "collapsed": false
   }
  },
  {
   "cell_type": "code",
   "execution_count": 27,
   "outputs": [
    {
     "name": "stdout",
     "output_type": "stream",
     "text": [
      "[[ 0.14718874  0.56118199 -0.46586538 -0.07682637  0.42788687 -0.73473305\n",
      "   0.36996351 -0.06499622]]\n",
      "[[ 0.59949847  0.56655791 -0.56655791  0.          0.45854287 -0.8258967\n",
      "   0.38821502  0.        ]]\n",
      "[[ 0.12444127  0.58424918 -0.39468597 -0.13256004  0.3531291  -0.70637569\n",
      "   0.3570243   0.03173223]]\n"
     ]
    }
   ],
   "source": [
    "print(importances_1)\n",
    "print(importances_2)\n",
    "print(importances_3)\n"
   ],
   "metadata": {
    "collapsed": false
   }
  },
  {
   "cell_type": "code",
   "execution_count": null,
   "outputs": [],
   "source": [],
   "metadata": {
    "collapsed": false
   }
  }
 ],
 "metadata": {
  "kernelspec": {
   "display_name": "Python 3",
   "language": "python",
   "name": "python3"
  },
  "language_info": {
   "codemirror_mode": {
    "name": "ipython",
    "version": 2
   },
   "file_extension": ".py",
   "mimetype": "text/x-python",
   "name": "python",
   "nbconvert_exporter": "python",
   "pygments_lexer": "ipython2",
   "version": "2.7.6"
  }
 },
 "nbformat": 4,
 "nbformat_minor": 0
}
