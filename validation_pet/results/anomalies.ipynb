{
 "cells": [
  {
   "cell_type": "code",
   "execution_count": 51,
   "metadata": {
    "collapsed": true
   },
   "outputs": [],
   "source": [
    "import pandas as pd"
   ]
  },
  {
   "cell_type": "code",
   "execution_count": 52,
   "outputs": [],
   "source": [
    "### which are the best techniques?\n",
    "\n",
    "schedule = pd.read_csv('schedule/compiled_sample_schedule.csv')\n",
    "suggested = pd.read_csv('schedule/compiled_schedule_suggested.csv')"
   ],
   "metadata": {
    "collapsed": false
   }
  },
  {
   "cell_type": "code",
   "execution_count": 53,
   "outputs": [],
   "source": [
    "### suggested impute_standard,impute_standard,impute_standard,IQR,ZSB,ZSB"
   ],
   "metadata": {
    "collapsed": false
   }
  },
  {
   "cell_type": "code",
   "execution_count": 66,
   "outputs": [
    {
     "data": {
      "text/plain": "                          imp_1                       imp_2  \\\n4752   impute_linear_regression  impute_logistic_regression   \n11137           impute_standard                 impute_mode   \n11147           impute_standard                 impute_mode   \n11187           impute_standard                 impute_mode   \n11207           impute_standard                 impute_mode   \n11217           impute_standard                 impute_mode   \n11297           impute_standard                 impute_mean   \n11347           impute_standard               impute_median   \n11547           impute_standard                  impute_knn   \n11617           impute_standard                 impute_mice   \n11667           impute_standard    impute_linear_regression   \n14317           impute_standard                 impute_mode   \n14327           impute_standard                 impute_mode   \n14367           impute_standard                 impute_mode   \n14387           impute_standard                 impute_mode   \n14397           impute_standard                 impute_mode   \n14477           impute_standard                 impute_mean   \n14527           impute_standard               impute_median   \n14797           impute_standard                 impute_mice   \n14847           impute_standard    impute_linear_regression   \n15957           impute_standard                 impute_mode   \n15977           impute_standard                 impute_mode   \n16317           impute_standard                  impute_knn   \n16437           impute_standard    impute_linear_regression   \n16682               impute_mode                  impute_knn   \n17372                impute_knn  impute_logistic_regression   \n17497           impute_standard                 impute_mode   \n17507           impute_standard                 impute_mode   \n17547           impute_standard                 impute_mode   \n17567           impute_standard                 impute_mode   \n17577           impute_standard                 impute_mode   \n17657           impute_standard                 impute_mean   \n17707           impute_standard               impute_median   \n17907           impute_standard                  impute_knn   \n17977           impute_standard                 impute_mice   \n18027           impute_standard    impute_linear_regression   \n19087           impute_standard                 impute_mode   \n19097           impute_standard                 impute_mode   \n19137           impute_standard                 impute_mode   \n19167           impute_standard                 impute_mode   \n19247           impute_standard                 impute_mean   \n19297           impute_standard               impute_median   \n\n                            imp_3  od_1  \n4752         impute_random_forest  PERC  \n11137                 impute_mean   IQR  \n11147               impute_median   IQR  \n11187                  impute_knn   IQR  \n11207                 impute_mice   IQR  \n11217    impute_linear_regression   IQR  \n11297  impute_logistic_regression   IQR  \n11347  impute_logistic_regression   IQR  \n11547  impute_logistic_regression   IQR  \n11617  impute_logistic_regression   IQR  \n11667  impute_logistic_regression   IQR  \n14317                 impute_mean  PERC  \n14327               impute_median  PERC  \n14367                  impute_knn  PERC  \n14387                 impute_mice  PERC  \n14397    impute_linear_regression  PERC  \n14477  impute_logistic_regression  PERC  \n14527  impute_logistic_regression  PERC  \n14797  impute_logistic_regression  PERC  \n14847  impute_logistic_regression  PERC  \n15957                  impute_knn   STD  \n15977                 impute_mice   STD  \n16317  impute_logistic_regression   STD  \n16437  impute_logistic_regression   STD  \n16682                 impute_mice   STD  \n17372        impute_random_forest   STD  \n17497                 impute_mean   ZSB  \n17507               impute_median   ZSB  \n17547                  impute_knn   ZSB  \n17567                 impute_mice   ZSB  \n17577    impute_linear_regression   ZSB  \n17657  impute_logistic_regression   ZSB  \n17707  impute_logistic_regression   ZSB  \n17907  impute_logistic_regression   ZSB  \n17977  impute_logistic_regression   ZSB  \n18027  impute_logistic_regression   ZSB  \n19087                 impute_mean   KNN  \n19097               impute_median   KNN  \n19137                  impute_knn   KNN  \n19167    impute_linear_regression   KNN  \n19247  impute_logistic_regression   KNN  \n19297  impute_logistic_regression   KNN  ",
      "text/html": "<div>\n<style scoped>\n    .dataframe tbody tr th:only-of-type {\n        vertical-align: middle;\n    }\n\n    .dataframe tbody tr th {\n        vertical-align: top;\n    }\n\n    .dataframe thead th {\n        text-align: right;\n    }\n</style>\n<table border=\"1\" class=\"dataframe\">\n  <thead>\n    <tr style=\"text-align: right;\">\n      <th></th>\n      <th>imp_1</th>\n      <th>imp_2</th>\n      <th>imp_3</th>\n      <th>od_1</th>\n    </tr>\n  </thead>\n  <tbody>\n    <tr>\n      <th>4752</th>\n      <td>impute_linear_regression</td>\n      <td>impute_logistic_regression</td>\n      <td>impute_random_forest</td>\n      <td>PERC</td>\n    </tr>\n    <tr>\n      <th>11137</th>\n      <td>impute_standard</td>\n      <td>impute_mode</td>\n      <td>impute_mean</td>\n      <td>IQR</td>\n    </tr>\n    <tr>\n      <th>11147</th>\n      <td>impute_standard</td>\n      <td>impute_mode</td>\n      <td>impute_median</td>\n      <td>IQR</td>\n    </tr>\n    <tr>\n      <th>11187</th>\n      <td>impute_standard</td>\n      <td>impute_mode</td>\n      <td>impute_knn</td>\n      <td>IQR</td>\n    </tr>\n    <tr>\n      <th>11207</th>\n      <td>impute_standard</td>\n      <td>impute_mode</td>\n      <td>impute_mice</td>\n      <td>IQR</td>\n    </tr>\n    <tr>\n      <th>11217</th>\n      <td>impute_standard</td>\n      <td>impute_mode</td>\n      <td>impute_linear_regression</td>\n      <td>IQR</td>\n    </tr>\n    <tr>\n      <th>11297</th>\n      <td>impute_standard</td>\n      <td>impute_mean</td>\n      <td>impute_logistic_regression</td>\n      <td>IQR</td>\n    </tr>\n    <tr>\n      <th>11347</th>\n      <td>impute_standard</td>\n      <td>impute_median</td>\n      <td>impute_logistic_regression</td>\n      <td>IQR</td>\n    </tr>\n    <tr>\n      <th>11547</th>\n      <td>impute_standard</td>\n      <td>impute_knn</td>\n      <td>impute_logistic_regression</td>\n      <td>IQR</td>\n    </tr>\n    <tr>\n      <th>11617</th>\n      <td>impute_standard</td>\n      <td>impute_mice</td>\n      <td>impute_logistic_regression</td>\n      <td>IQR</td>\n    </tr>\n    <tr>\n      <th>11667</th>\n      <td>impute_standard</td>\n      <td>impute_linear_regression</td>\n      <td>impute_logistic_regression</td>\n      <td>IQR</td>\n    </tr>\n    <tr>\n      <th>14317</th>\n      <td>impute_standard</td>\n      <td>impute_mode</td>\n      <td>impute_mean</td>\n      <td>PERC</td>\n    </tr>\n    <tr>\n      <th>14327</th>\n      <td>impute_standard</td>\n      <td>impute_mode</td>\n      <td>impute_median</td>\n      <td>PERC</td>\n    </tr>\n    <tr>\n      <th>14367</th>\n      <td>impute_standard</td>\n      <td>impute_mode</td>\n      <td>impute_knn</td>\n      <td>PERC</td>\n    </tr>\n    <tr>\n      <th>14387</th>\n      <td>impute_standard</td>\n      <td>impute_mode</td>\n      <td>impute_mice</td>\n      <td>PERC</td>\n    </tr>\n    <tr>\n      <th>14397</th>\n      <td>impute_standard</td>\n      <td>impute_mode</td>\n      <td>impute_linear_regression</td>\n      <td>PERC</td>\n    </tr>\n    <tr>\n      <th>14477</th>\n      <td>impute_standard</td>\n      <td>impute_mean</td>\n      <td>impute_logistic_regression</td>\n      <td>PERC</td>\n    </tr>\n    <tr>\n      <th>14527</th>\n      <td>impute_standard</td>\n      <td>impute_median</td>\n      <td>impute_logistic_regression</td>\n      <td>PERC</td>\n    </tr>\n    <tr>\n      <th>14797</th>\n      <td>impute_standard</td>\n      <td>impute_mice</td>\n      <td>impute_logistic_regression</td>\n      <td>PERC</td>\n    </tr>\n    <tr>\n      <th>14847</th>\n      <td>impute_standard</td>\n      <td>impute_linear_regression</td>\n      <td>impute_logistic_regression</td>\n      <td>PERC</td>\n    </tr>\n    <tr>\n      <th>15957</th>\n      <td>impute_standard</td>\n      <td>impute_mode</td>\n      <td>impute_knn</td>\n      <td>STD</td>\n    </tr>\n    <tr>\n      <th>15977</th>\n      <td>impute_standard</td>\n      <td>impute_mode</td>\n      <td>impute_mice</td>\n      <td>STD</td>\n    </tr>\n    <tr>\n      <th>16317</th>\n      <td>impute_standard</td>\n      <td>impute_knn</td>\n      <td>impute_logistic_regression</td>\n      <td>STD</td>\n    </tr>\n    <tr>\n      <th>16437</th>\n      <td>impute_standard</td>\n      <td>impute_linear_regression</td>\n      <td>impute_logistic_regression</td>\n      <td>STD</td>\n    </tr>\n    <tr>\n      <th>16682</th>\n      <td>impute_mode</td>\n      <td>impute_knn</td>\n      <td>impute_mice</td>\n      <td>STD</td>\n    </tr>\n    <tr>\n      <th>17372</th>\n      <td>impute_knn</td>\n      <td>impute_logistic_regression</td>\n      <td>impute_random_forest</td>\n      <td>STD</td>\n    </tr>\n    <tr>\n      <th>17497</th>\n      <td>impute_standard</td>\n      <td>impute_mode</td>\n      <td>impute_mean</td>\n      <td>ZSB</td>\n    </tr>\n    <tr>\n      <th>17507</th>\n      <td>impute_standard</td>\n      <td>impute_mode</td>\n      <td>impute_median</td>\n      <td>ZSB</td>\n    </tr>\n    <tr>\n      <th>17547</th>\n      <td>impute_standard</td>\n      <td>impute_mode</td>\n      <td>impute_knn</td>\n      <td>ZSB</td>\n    </tr>\n    <tr>\n      <th>17567</th>\n      <td>impute_standard</td>\n      <td>impute_mode</td>\n      <td>impute_mice</td>\n      <td>ZSB</td>\n    </tr>\n    <tr>\n      <th>17577</th>\n      <td>impute_standard</td>\n      <td>impute_mode</td>\n      <td>impute_linear_regression</td>\n      <td>ZSB</td>\n    </tr>\n    <tr>\n      <th>17657</th>\n      <td>impute_standard</td>\n      <td>impute_mean</td>\n      <td>impute_logistic_regression</td>\n      <td>ZSB</td>\n    </tr>\n    <tr>\n      <th>17707</th>\n      <td>impute_standard</td>\n      <td>impute_median</td>\n      <td>impute_logistic_regression</td>\n      <td>ZSB</td>\n    </tr>\n    <tr>\n      <th>17907</th>\n      <td>impute_standard</td>\n      <td>impute_knn</td>\n      <td>impute_logistic_regression</td>\n      <td>ZSB</td>\n    </tr>\n    <tr>\n      <th>17977</th>\n      <td>impute_standard</td>\n      <td>impute_mice</td>\n      <td>impute_logistic_regression</td>\n      <td>ZSB</td>\n    </tr>\n    <tr>\n      <th>18027</th>\n      <td>impute_standard</td>\n      <td>impute_linear_regression</td>\n      <td>impute_logistic_regression</td>\n      <td>ZSB</td>\n    </tr>\n    <tr>\n      <th>19087</th>\n      <td>impute_standard</td>\n      <td>impute_mode</td>\n      <td>impute_mean</td>\n      <td>KNN</td>\n    </tr>\n    <tr>\n      <th>19097</th>\n      <td>impute_standard</td>\n      <td>impute_mode</td>\n      <td>impute_median</td>\n      <td>KNN</td>\n    </tr>\n    <tr>\n      <th>19137</th>\n      <td>impute_standard</td>\n      <td>impute_mode</td>\n      <td>impute_knn</td>\n      <td>KNN</td>\n    </tr>\n    <tr>\n      <th>19167</th>\n      <td>impute_standard</td>\n      <td>impute_mode</td>\n      <td>impute_linear_regression</td>\n      <td>KNN</td>\n    </tr>\n    <tr>\n      <th>19247</th>\n      <td>impute_standard</td>\n      <td>impute_mean</td>\n      <td>impute_logistic_regression</td>\n      <td>KNN</td>\n    </tr>\n    <tr>\n      <th>19297</th>\n      <td>impute_standard</td>\n      <td>impute_median</td>\n      <td>impute_logistic_regression</td>\n      <td>KNN</td>\n    </tr>\n  </tbody>\n</table>\n</div>"
     },
     "execution_count": 66,
     "metadata": {},
     "output_type": "execute_result"
    }
   ],
   "source": [
    "sss = schedule[(schedule['AdaBoost_2'] > 0.775) & (schedule['quality'] == 70)]\n",
    "sss = sss[['imp_1','imp_2','imp_3','od_1']]\n",
    "sss"
   ],
   "metadata": {
    "collapsed": false
   }
  },
  {
   "cell_type": "code",
   "execution_count": 67,
   "outputs": [
    {
     "data": {
      "text/plain": "imp_1\nimpute_standard             39\nimpute_linear_regression     1\nimpute_mode                  1\nimpute_knn                   1\nName: count, dtype: int64"
     },
     "execution_count": 67,
     "metadata": {},
     "output_type": "execute_result"
    }
   ],
   "source": [
    "sss.imp_1.value_counts()\n"
   ],
   "metadata": {
    "collapsed": false
   }
  },
  {
   "cell_type": "code",
   "execution_count": 68,
   "outputs": [
    {
     "data": {
      "text/plain": "imp_2\nimpute_mode                   21\nimpute_mean                    4\nimpute_median                  4\nimpute_knn                     4\nimpute_linear_regression       4\nimpute_mice                    3\nimpute_logistic_regression     2\nName: count, dtype: int64"
     },
     "execution_count": 68,
     "metadata": {},
     "output_type": "execute_result"
    }
   ],
   "source": [
    "sss.imp_2.value_counts()\n"
   ],
   "metadata": {
    "collapsed": false
   }
  },
  {
   "cell_type": "code",
   "execution_count": 69,
   "outputs": [
    {
     "data": {
      "text/plain": "imp_3\nimpute_logistic_regression    18\nimpute_knn                     5\nimpute_mice                    5\nimpute_mean                    4\nimpute_median                  4\nimpute_linear_regression       4\nimpute_random_forest           2\nName: count, dtype: int64"
     },
     "execution_count": 69,
     "metadata": {},
     "output_type": "execute_result"
    }
   ],
   "source": [
    "sss.imp_3.value_counts()\n"
   ],
   "metadata": {
    "collapsed": false
   }
  },
  {
   "cell_type": "code",
   "execution_count": 70,
   "outputs": [
    {
     "data": {
      "text/plain": "od_1\nPERC    10\nIQR     10\nZSB     10\nSTD      6\nKNN      6\nName: count, dtype: int64"
     },
     "execution_count": 70,
     "metadata": {},
     "output_type": "execute_result"
    }
   ],
   "source": [
    "sss.od_1.value_counts()"
   ],
   "metadata": {
    "collapsed": false
   }
  },
  {
   "cell_type": "code",
   "execution_count": 46,
   "outputs": [
    {
     "ename": "AttributeError",
     "evalue": "'DataFrame' object has no attribute 'od_2'",
     "output_type": "error",
     "traceback": [
      "\u001B[0;31m---------------------------------------------------------------------------\u001B[0m",
      "\u001B[0;31mAttributeError\u001B[0m                            Traceback (most recent call last)",
      "\u001B[0;32m/var/folders/28/s2pb4zq55c74809tjsxsq73c0000gn/T/ipykernel_92230/922689275.py\u001B[0m in \u001B[0;36m?\u001B[0;34m()\u001B[0m\n\u001B[0;32m----> 1\u001B[0;31m \u001B[0msss\u001B[0m\u001B[0;34m.\u001B[0m\u001B[0mod_2\u001B[0m\u001B[0;34m.\u001B[0m\u001B[0mvalue_counts\u001B[0m\u001B[0;34m(\u001B[0m\u001B[0;34m)\u001B[0m\u001B[0;34m\u001B[0m\u001B[0;34m\u001B[0m\u001B[0m\n\u001B[0m",
      "\u001B[0;32m~/PycharmProjects/validationDIANA/venv/lib/python3.11/site-packages/pandas/core/generic.py\u001B[0m in \u001B[0;36m?\u001B[0;34m(self, name)\u001B[0m\n\u001B[1;32m   6295\u001B[0m             \u001B[0;32mand\u001B[0m \u001B[0mname\u001B[0m \u001B[0;32mnot\u001B[0m \u001B[0;32min\u001B[0m \u001B[0mself\u001B[0m\u001B[0;34m.\u001B[0m\u001B[0m_accessors\u001B[0m\u001B[0;34m\u001B[0m\u001B[0;34m\u001B[0m\u001B[0m\n\u001B[1;32m   6296\u001B[0m             \u001B[0;32mand\u001B[0m \u001B[0mself\u001B[0m\u001B[0;34m.\u001B[0m\u001B[0m_info_axis\u001B[0m\u001B[0;34m.\u001B[0m\u001B[0m_can_hold_identifiers_and_holds_name\u001B[0m\u001B[0;34m(\u001B[0m\u001B[0mname\u001B[0m\u001B[0;34m)\u001B[0m\u001B[0;34m\u001B[0m\u001B[0;34m\u001B[0m\u001B[0m\n\u001B[1;32m   6297\u001B[0m         ):\n\u001B[1;32m   6298\u001B[0m             \u001B[0;32mreturn\u001B[0m \u001B[0mself\u001B[0m\u001B[0;34m[\u001B[0m\u001B[0mname\u001B[0m\u001B[0;34m]\u001B[0m\u001B[0;34m\u001B[0m\u001B[0;34m\u001B[0m\u001B[0m\n\u001B[0;32m-> 6299\u001B[0;31m         \u001B[0;32mreturn\u001B[0m \u001B[0mobject\u001B[0m\u001B[0;34m.\u001B[0m\u001B[0m__getattribute__\u001B[0m\u001B[0;34m(\u001B[0m\u001B[0mself\u001B[0m\u001B[0;34m,\u001B[0m \u001B[0mname\u001B[0m\u001B[0;34m)\u001B[0m\u001B[0;34m\u001B[0m\u001B[0;34m\u001B[0m\u001B[0m\n\u001B[0m",
      "\u001B[0;31mAttributeError\u001B[0m: 'DataFrame' object has no attribute 'od_2'"
     ]
    }
   ],
   "source": [
    "sss.od_2.value_counts()"
   ],
   "metadata": {
    "collapsed": false
   }
  },
  {
   "cell_type": "code",
   "execution_count": 16,
   "outputs": [
    {
     "ename": "AttributeError",
     "evalue": "'DataFrame' object has no attribute 'od_3'",
     "output_type": "error",
     "traceback": [
      "\u001B[0;31m---------------------------------------------------------------------------\u001B[0m",
      "\u001B[0;31mAttributeError\u001B[0m                            Traceback (most recent call last)",
      "\u001B[0;32m/var/folders/28/s2pb4zq55c74809tjsxsq73c0000gn/T/ipykernel_92230/1393058551.py\u001B[0m in \u001B[0;36m?\u001B[0;34m()\u001B[0m\n\u001B[0;32m----> 1\u001B[0;31m \u001B[0msss\u001B[0m\u001B[0;34m.\u001B[0m\u001B[0mod_3\u001B[0m\u001B[0;34m.\u001B[0m\u001B[0mvalue_counts\u001B[0m\u001B[0;34m(\u001B[0m\u001B[0;34m)\u001B[0m\u001B[0;34m\u001B[0m\u001B[0;34m\u001B[0m\u001B[0m\n\u001B[0m",
      "\u001B[0;32m~/PycharmProjects/validationDIANA/venv/lib/python3.11/site-packages/pandas/core/generic.py\u001B[0m in \u001B[0;36m?\u001B[0;34m(self, name)\u001B[0m\n\u001B[1;32m   6295\u001B[0m             \u001B[0;32mand\u001B[0m \u001B[0mname\u001B[0m \u001B[0;32mnot\u001B[0m \u001B[0;32min\u001B[0m \u001B[0mself\u001B[0m\u001B[0;34m.\u001B[0m\u001B[0m_accessors\u001B[0m\u001B[0;34m\u001B[0m\u001B[0;34m\u001B[0m\u001B[0m\n\u001B[1;32m   6296\u001B[0m             \u001B[0;32mand\u001B[0m \u001B[0mself\u001B[0m\u001B[0;34m.\u001B[0m\u001B[0m_info_axis\u001B[0m\u001B[0;34m.\u001B[0m\u001B[0m_can_hold_identifiers_and_holds_name\u001B[0m\u001B[0;34m(\u001B[0m\u001B[0mname\u001B[0m\u001B[0;34m)\u001B[0m\u001B[0;34m\u001B[0m\u001B[0;34m\u001B[0m\u001B[0m\n\u001B[1;32m   6297\u001B[0m         ):\n\u001B[1;32m   6298\u001B[0m             \u001B[0;32mreturn\u001B[0m \u001B[0mself\u001B[0m\u001B[0;34m[\u001B[0m\u001B[0mname\u001B[0m\u001B[0;34m]\u001B[0m\u001B[0;34m\u001B[0m\u001B[0;34m\u001B[0m\u001B[0m\n\u001B[0;32m-> 6299\u001B[0;31m         \u001B[0;32mreturn\u001B[0m \u001B[0mobject\u001B[0m\u001B[0;34m.\u001B[0m\u001B[0m__getattribute__\u001B[0m\u001B[0;34m(\u001B[0m\u001B[0mself\u001B[0m\u001B[0;34m,\u001B[0m \u001B[0mname\u001B[0m\u001B[0;34m)\u001B[0m\u001B[0;34m\u001B[0m\u001B[0;34m\u001B[0m\u001B[0m\n\u001B[0m",
      "\u001B[0;31mAttributeError\u001B[0m: 'DataFrame' object has no attribute 'od_3'"
     ]
    }
   ],
   "source": [
    "sss.od_3.value_counts()\n"
   ],
   "metadata": {
    "collapsed": false
   }
  },
  {
   "cell_type": "code",
   "execution_count": null,
   "outputs": [],
   "source": [],
   "metadata": {
    "collapsed": false
   }
  }
 ],
 "metadata": {
  "kernelspec": {
   "display_name": "Python 3",
   "language": "python",
   "name": "python3"
  },
  "language_info": {
   "codemirror_mode": {
    "name": "ipython",
    "version": 2
   },
   "file_extension": ".py",
   "mimetype": "text/x-python",
   "name": "python",
   "nbconvert_exporter": "python",
   "pygments_lexer": "ipython2",
   "version": "2.7.6"
  }
 },
 "nbformat": 4,
 "nbformat_minor": 0
}
