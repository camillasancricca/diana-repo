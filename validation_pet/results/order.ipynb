{
 "cells": [
  {
   "cell_type": "code",
   "execution_count": 1,
   "metadata": {
    "collapsed": true
   },
   "outputs": [],
   "source": [
    "import pandas as pd"
   ]
  },
  {
   "cell_type": "code",
   "execution_count": 17,
   "outputs": [],
   "source": [
    "schedule = pd.read_csv('schedule/compiled_sample_schedule.csv')"
   ],
   "metadata": {
    "collapsed": false
   }
  },
  {
   "cell_type": "code",
   "execution_count": 18,
   "outputs": [],
   "source": [
    "schedule_50 = schedule[schedule.quality == 50]\n",
    "schedule_60 = schedule[schedule.quality == 60]\n",
    "schedule_70 = schedule[schedule.quality == 70]\n",
    "schedule_80 = schedule[schedule.quality == 80]\n",
    "schedule_90 = schedule[schedule.quality == 90]\n"
   ],
   "metadata": {
    "collapsed": false
   }
  },
  {
   "cell_type": "code",
   "execution_count": 7,
   "outputs": [
    {
     "name": "stdout",
     "output_type": "stream",
     "text": [
      "-----Order for LogisticRegression-----\n",
      "imp_col_1\n",
      "Vaccinated    16\n",
      "AgeMonths     12\n",
      "Size          12\n",
      "Name: count, dtype: int64\n",
      "imp_col_2\n",
      "Size          18\n",
      "AgeMonths     12\n",
      "Vaccinated    10\n",
      "Name: count, dtype: int64\n",
      "imp_col_3\n",
      "AgeMonths     16\n",
      "Vaccinated    14\n",
      "Size          10\n",
      "Name: count, dtype: int64\n",
      "-----Order for SVC-----\n",
      "imp_col_1\n",
      "AgeMonths     19\n",
      "Size          13\n",
      "Vaccinated     8\n",
      "Name: count, dtype: int64\n",
      "imp_col_2\n",
      "Vaccinated    18\n",
      "Size          15\n",
      "AgeMonths      7\n",
      "Name: count, dtype: int64\n",
      "imp_col_3\n",
      "Vaccinated    14\n",
      "AgeMonths     14\n",
      "Size          12\n",
      "Name: count, dtype: int64\n"
     ]
    }
   ],
   "source": [
    "for a in ['LogisticRegression','SVC']:\n",
    "    print('-----'+'Order for '+a+'-----')\n",
    "    schedule_90 = schedule_90.sort_values(by=[a+'_2'], ascending=False)\n",
    "    print(schedule_90[0:40].imp_col_1.value_counts())\n",
    "    print(schedule_90[0:40].imp_col_2.value_counts())\n",
    "    print(schedule_90[0:40].imp_col_3.value_counts())"
   ],
   "metadata": {
    "collapsed": false
   }
  },
  {
   "cell_type": "code",
   "execution_count": 5,
   "outputs": [],
   "source": [
    "### 90% Prevale LR: Vaccinated, Size, AgeMonths\n",
    "### 90% Prevale SVC: AgeMonths, Vaccinated, Size\n",
    "\n",
    "##sono comunque così variabili!"
   ],
   "metadata": {
    "collapsed": false
   }
  },
  {
   "cell_type": "code",
   "execution_count": 9,
   "outputs": [
    {
     "name": "stdout",
     "output_type": "stream",
     "text": [
      "-----Order for LogisticRegression-----\n",
      "imp_col_1\n",
      "AgeMonths     17\n",
      "Size          14\n",
      "Vaccinated     9\n",
      "Name: count, dtype: int64\n",
      "imp_col_2\n",
      "Vaccinated    17\n",
      "Size          13\n",
      "AgeMonths     10\n",
      "Name: count, dtype: int64\n",
      "imp_col_3\n",
      "Vaccinated    14\n",
      "AgeMonths     13\n",
      "Size          13\n",
      "Name: count, dtype: int64\n",
      "-----Order for SVC-----\n",
      "imp_col_1\n",
      "AgeMonths     16\n",
      "Size          14\n",
      "Vaccinated    10\n",
      "Name: count, dtype: int64\n",
      "imp_col_2\n",
      "Vaccinated    21\n",
      "AgeMonths     14\n",
      "Size           5\n",
      "Name: count, dtype: int64\n",
      "imp_col_3\n",
      "Size          21\n",
      "AgeMonths     10\n",
      "Vaccinated     9\n",
      "Name: count, dtype: int64\n"
     ]
    }
   ],
   "source": [
    "for a in ['LogisticRegression','SVC']:\n",
    "    print('-----'+'Order for '+a+'-----')\n",
    "    schedule_50 = schedule_50.sort_values(by=[a+'_2'], ascending=False)\n",
    "    print(schedule_50[0:40].imp_col_1.value_counts())\n",
    "    print(schedule_50[0:40].imp_col_2.value_counts())\n",
    "    print(schedule_50[0:40].imp_col_3.value_counts())\n"
   ],
   "metadata": {
    "collapsed": false
   }
  },
  {
   "cell_type": "code",
   "execution_count": null,
   "outputs": [],
   "source": [
    "### 90% Prevale LR: AgeMonths, Vaccinated, Size\n",
    "### 90% Prevale SVC: AgeMonths, Vaccinated, Size\n",
    "\n",
    "##sono comunque così variabili!"
   ],
   "metadata": {
    "collapsed": false
   }
  },
  {
   "cell_type": "code",
   "execution_count": null,
   "outputs": [],
   "source": [],
   "metadata": {
    "collapsed": false
   }
  }
 ],
 "metadata": {
  "kernelspec": {
   "display_name": "Python 3",
   "language": "python",
   "name": "python3"
  },
  "language_info": {
   "codemirror_mode": {
    "name": "ipython",
    "version": 2
   },
   "file_extension": ".py",
   "mimetype": "text/x-python",
   "name": "python",
   "nbconvert_exporter": "python",
   "pygments_lexer": "ipython2",
   "version": "2.7.6"
  }
 },
 "nbformat": 4,
 "nbformat_minor": 0
}
