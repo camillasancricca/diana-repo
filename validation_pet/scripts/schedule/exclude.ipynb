{
 "cells": [
  {
   "cell_type": "code",
   "execution_count": 1,
   "metadata": {
    "collapsed": true
   },
   "outputs": [],
   "source": [
    "import pandas as pd\n"
   ]
  },
  {
   "cell_type": "code",
   "execution_count": 2,
   "outputs": [],
   "source": [
    "df = pd.read_csv('sample_schedule.csv')\n"
   ],
   "metadata": {
    "collapsed": false
   }
  },
  {
   "cell_type": "code",
   "execution_count": 4,
   "outputs": [
    {
     "data": {
      "text/plain": "array(['impute_standard', 'impute_mode', 'impute_mean', 'impute_median',\n       'impute_random', 'impute_knn', 'impute_mice',\n       'impute_linear_regression', 'impute_logistic_regression'],\n      dtype=object)"
     },
     "execution_count": 4,
     "metadata": {},
     "output_type": "execute_result"
    }
   ],
   "source": [
    "df[df.imp_col_1 == 'Size']['imp_1'].unique()"
   ],
   "metadata": {
    "collapsed": false
   }
  },
  {
   "cell_type": "code",
   "execution_count": 79,
   "outputs": [
    {
     "data": {
      "text/plain": "        dimension_1   dimension_2                 imp_1          imp_2  \\\n0          accuracy  completeness       impute_standard    impute_mode   \n1          accuracy  completeness       impute_standard    impute_mode   \n2          accuracy  completeness       impute_standard    impute_mode   \n3          accuracy  completeness       impute_standard    impute_mode   \n4          accuracy  completeness       impute_standard    impute_mode   \n...             ...           ...                   ...            ...   \n92395  completeness      accuracy  impute_random_forest  impute_cmeans   \n92396  completeness      accuracy  impute_random_forest  impute_cmeans   \n92397  completeness      accuracy  impute_random_forest  impute_cmeans   \n92398  completeness      accuracy  impute_random_forest  impute_cmeans   \n92399  completeness      accuracy  impute_random_forest  impute_cmeans   \n\n               imp_3 od_1    imp_col_1   imp_col_2    imp_col_3  quality  ...  \\\n0        impute_mean  IQR  Temperature  CloudCover       Season       50  ...   \n1        impute_mean  IQR  Temperature  CloudCover       Season       60  ...   \n2        impute_mean  IQR  Temperature  CloudCover       Season       70  ...   \n3        impute_mean  IQR  Temperature  CloudCover       Season       80  ...   \n4        impute_mean  IQR  Temperature  CloudCover       Season       90  ...   \n...              ...  ...          ...         ...          ...      ...  ...   \n92395  impute_kproto  LOF       Season  CloudCover  Temperature       50  ...   \n92396  impute_kproto  LOF       Season  CloudCover  Temperature       60  ...   \n92397  impute_kproto  LOF       Season  CloudCover  Temperature       70  ...   \n92398  impute_kproto  LOF       Season  CloudCover  Temperature       80  ...   \n92399  impute_kproto  LOF       Season  CloudCover  Temperature       90  ...   \n\n       KNN_1  RandomForest_1  AdaBoost_1  SVC_1  DecisionTree_2  \\\n0          0               0           0      0               0   \n1          0               0           0      0               0   \n2          0               0           0      0               0   \n3          0               0           0      0               0   \n4          0               0           0      0               0   \n...      ...             ...         ...    ...             ...   \n92395      0               0           0      0               0   \n92396      0               0           0      0               0   \n92397      0               0           0      0               0   \n92398      0               0           0      0               0   \n92399      0               0           0      0               0   \n\n       LogisticRegression_2  KNN_2  RandomForest_2  AdaBoost_2  SVC_2  \n0                         0      0               0           0      0  \n1                         0      0               0           0      0  \n2                         0      0               0           0      0  \n3                         0      0               0           0      0  \n4                         0      0               0           0      0  \n...                     ...    ...             ...         ...    ...  \n92395                     0      0               0           0      0  \n92396                     0      0               0           0      0  \n92397                     0      0               0           0      0  \n92398                     0      0               0           0      0  \n92399                     0      0               0           0      0  \n\n[92400 rows x 28 columns]",
      "text/html": "<div>\n<style scoped>\n    .dataframe tbody tr th:only-of-type {\n        vertical-align: middle;\n    }\n\n    .dataframe tbody tr th {\n        vertical-align: top;\n    }\n\n    .dataframe thead th {\n        text-align: right;\n    }\n</style>\n<table border=\"1\" class=\"dataframe\">\n  <thead>\n    <tr style=\"text-align: right;\">\n      <th></th>\n      <th>dimension_1</th>\n      <th>dimension_2</th>\n      <th>imp_1</th>\n      <th>imp_2</th>\n      <th>imp_3</th>\n      <th>od_1</th>\n      <th>imp_col_1</th>\n      <th>imp_col_2</th>\n      <th>imp_col_3</th>\n      <th>quality</th>\n      <th>...</th>\n      <th>KNN_1</th>\n      <th>RandomForest_1</th>\n      <th>AdaBoost_1</th>\n      <th>SVC_1</th>\n      <th>DecisionTree_2</th>\n      <th>LogisticRegression_2</th>\n      <th>KNN_2</th>\n      <th>RandomForest_2</th>\n      <th>AdaBoost_2</th>\n      <th>SVC_2</th>\n    </tr>\n  </thead>\n  <tbody>\n    <tr>\n      <th>0</th>\n      <td>accuracy</td>\n      <td>completeness</td>\n      <td>impute_standard</td>\n      <td>impute_mode</td>\n      <td>impute_mean</td>\n      <td>IQR</td>\n      <td>Temperature</td>\n      <td>CloudCover</td>\n      <td>Season</td>\n      <td>50</td>\n      <td>...</td>\n      <td>0</td>\n      <td>0</td>\n      <td>0</td>\n      <td>0</td>\n      <td>0</td>\n      <td>0</td>\n      <td>0</td>\n      <td>0</td>\n      <td>0</td>\n      <td>0</td>\n    </tr>\n    <tr>\n      <th>1</th>\n      <td>accuracy</td>\n      <td>completeness</td>\n      <td>impute_standard</td>\n      <td>impute_mode</td>\n      <td>impute_mean</td>\n      <td>IQR</td>\n      <td>Temperature</td>\n      <td>CloudCover</td>\n      <td>Season</td>\n      <td>60</td>\n      <td>...</td>\n      <td>0</td>\n      <td>0</td>\n      <td>0</td>\n      <td>0</td>\n      <td>0</td>\n      <td>0</td>\n      <td>0</td>\n      <td>0</td>\n      <td>0</td>\n      <td>0</td>\n    </tr>\n    <tr>\n      <th>2</th>\n      <td>accuracy</td>\n      <td>completeness</td>\n      <td>impute_standard</td>\n      <td>impute_mode</td>\n      <td>impute_mean</td>\n      <td>IQR</td>\n      <td>Temperature</td>\n      <td>CloudCover</td>\n      <td>Season</td>\n      <td>70</td>\n      <td>...</td>\n      <td>0</td>\n      <td>0</td>\n      <td>0</td>\n      <td>0</td>\n      <td>0</td>\n      <td>0</td>\n      <td>0</td>\n      <td>0</td>\n      <td>0</td>\n      <td>0</td>\n    </tr>\n    <tr>\n      <th>3</th>\n      <td>accuracy</td>\n      <td>completeness</td>\n      <td>impute_standard</td>\n      <td>impute_mode</td>\n      <td>impute_mean</td>\n      <td>IQR</td>\n      <td>Temperature</td>\n      <td>CloudCover</td>\n      <td>Season</td>\n      <td>80</td>\n      <td>...</td>\n      <td>0</td>\n      <td>0</td>\n      <td>0</td>\n      <td>0</td>\n      <td>0</td>\n      <td>0</td>\n      <td>0</td>\n      <td>0</td>\n      <td>0</td>\n      <td>0</td>\n    </tr>\n    <tr>\n      <th>4</th>\n      <td>accuracy</td>\n      <td>completeness</td>\n      <td>impute_standard</td>\n      <td>impute_mode</td>\n      <td>impute_mean</td>\n      <td>IQR</td>\n      <td>Temperature</td>\n      <td>CloudCover</td>\n      <td>Season</td>\n      <td>90</td>\n      <td>...</td>\n      <td>0</td>\n      <td>0</td>\n      <td>0</td>\n      <td>0</td>\n      <td>0</td>\n      <td>0</td>\n      <td>0</td>\n      <td>0</td>\n      <td>0</td>\n      <td>0</td>\n    </tr>\n    <tr>\n      <th>...</th>\n      <td>...</td>\n      <td>...</td>\n      <td>...</td>\n      <td>...</td>\n      <td>...</td>\n      <td>...</td>\n      <td>...</td>\n      <td>...</td>\n      <td>...</td>\n      <td>...</td>\n      <td>...</td>\n      <td>...</td>\n      <td>...</td>\n      <td>...</td>\n      <td>...</td>\n      <td>...</td>\n      <td>...</td>\n      <td>...</td>\n      <td>...</td>\n      <td>...</td>\n      <td>...</td>\n    </tr>\n    <tr>\n      <th>92395</th>\n      <td>completeness</td>\n      <td>accuracy</td>\n      <td>impute_random_forest</td>\n      <td>impute_cmeans</td>\n      <td>impute_kproto</td>\n      <td>LOF</td>\n      <td>Season</td>\n      <td>CloudCover</td>\n      <td>Temperature</td>\n      <td>50</td>\n      <td>...</td>\n      <td>0</td>\n      <td>0</td>\n      <td>0</td>\n      <td>0</td>\n      <td>0</td>\n      <td>0</td>\n      <td>0</td>\n      <td>0</td>\n      <td>0</td>\n      <td>0</td>\n    </tr>\n    <tr>\n      <th>92396</th>\n      <td>completeness</td>\n      <td>accuracy</td>\n      <td>impute_random_forest</td>\n      <td>impute_cmeans</td>\n      <td>impute_kproto</td>\n      <td>LOF</td>\n      <td>Season</td>\n      <td>CloudCover</td>\n      <td>Temperature</td>\n      <td>60</td>\n      <td>...</td>\n      <td>0</td>\n      <td>0</td>\n      <td>0</td>\n      <td>0</td>\n      <td>0</td>\n      <td>0</td>\n      <td>0</td>\n      <td>0</td>\n      <td>0</td>\n      <td>0</td>\n    </tr>\n    <tr>\n      <th>92397</th>\n      <td>completeness</td>\n      <td>accuracy</td>\n      <td>impute_random_forest</td>\n      <td>impute_cmeans</td>\n      <td>impute_kproto</td>\n      <td>LOF</td>\n      <td>Season</td>\n      <td>CloudCover</td>\n      <td>Temperature</td>\n      <td>70</td>\n      <td>...</td>\n      <td>0</td>\n      <td>0</td>\n      <td>0</td>\n      <td>0</td>\n      <td>0</td>\n      <td>0</td>\n      <td>0</td>\n      <td>0</td>\n      <td>0</td>\n      <td>0</td>\n    </tr>\n    <tr>\n      <th>92398</th>\n      <td>completeness</td>\n      <td>accuracy</td>\n      <td>impute_random_forest</td>\n      <td>impute_cmeans</td>\n      <td>impute_kproto</td>\n      <td>LOF</td>\n      <td>Season</td>\n      <td>CloudCover</td>\n      <td>Temperature</td>\n      <td>80</td>\n      <td>...</td>\n      <td>0</td>\n      <td>0</td>\n      <td>0</td>\n      <td>0</td>\n      <td>0</td>\n      <td>0</td>\n      <td>0</td>\n      <td>0</td>\n      <td>0</td>\n      <td>0</td>\n    </tr>\n    <tr>\n      <th>92399</th>\n      <td>completeness</td>\n      <td>accuracy</td>\n      <td>impute_random_forest</td>\n      <td>impute_cmeans</td>\n      <td>impute_kproto</td>\n      <td>LOF</td>\n      <td>Season</td>\n      <td>CloudCover</td>\n      <td>Temperature</td>\n      <td>90</td>\n      <td>...</td>\n      <td>0</td>\n      <td>0</td>\n      <td>0</td>\n      <td>0</td>\n      <td>0</td>\n      <td>0</td>\n      <td>0</td>\n      <td>0</td>\n      <td>0</td>\n      <td>0</td>\n    </tr>\n  </tbody>\n</table>\n<p>92400 rows × 28 columns</p>\n</div>"
     },
     "execution_count": 79,
     "metadata": {},
     "output_type": "execute_result"
    }
   ],
   "source": [
    "df\n"
   ],
   "metadata": {
    "collapsed": false
   }
  },
  {
   "cell_type": "code",
   "execution_count": 82,
   "outputs": [],
   "source": [
    "num1 = 'Temperature'\n",
    "cat1 = 'CloudCover'\n",
    "cat2 = 'Season'\n",
    "\n",
    "imputation_techniques_num = ['impute_mean','impute_median','impute_linear_regression','impute_cmeans']\n",
    "imputation_techniques_cat = ['impute_mode','impute_logistic_regression', 'impute_kproto']"
   ],
   "metadata": {
    "collapsed": false
   }
  },
  {
   "cell_type": "code",
   "execution_count": 83,
   "outputs": [],
   "source": [
    "df1 = df[((df.imp_col_1 == num1)) & (df.imp_1.isin(imputation_techniques_cat))]\n",
    "df2 = df[((df.imp_col_2 == num1)) & (df.imp_2.isin(imputation_techniques_cat))]\n",
    "df3 = df[((df.imp_col_3 == num1)) & (df.imp_3.isin(imputation_techniques_cat))]\n",
    "\n",
    "df5 = df[((df.imp_col_1 == cat1) | (df.imp_col_1 == cat2)) & (df.imp_1.isin(imputation_techniques_num))]\n",
    "df6 = df[((df.imp_col_2 == cat1) | (df.imp_col_2 == cat2)) & (df.imp_2.isin(imputation_techniques_num))]\n",
    "df7 = df[((df.imp_col_3 == cat1) | (df.imp_col_3 == cat2)) & (df.imp_3.isin(imputation_techniques_num))]"
   ],
   "metadata": {
    "collapsed": false
   }
  },
  {
   "cell_type": "code",
   "execution_count": 85,
   "outputs": [],
   "source": [
    "for d in [df1,df2,df3,df5,df6,df7]:\n",
    "       df = df[~df.apply(tuple,1).isin(d.apply(tuple,1))]"
   ],
   "metadata": {
    "collapsed": false
   }
  },
  {
   "cell_type": "code",
   "execution_count": 86,
   "outputs": [
    {
     "data": {
      "text/plain": "        dimension_1   dimension_2                 imp_1          imp_2  \\\n15         accuracy  completeness       impute_standard    impute_mode   \n16         accuracy  completeness       impute_standard    impute_mode   \n17         accuracy  completeness       impute_standard    impute_mode   \n18         accuracy  completeness       impute_standard    impute_mode   \n19         accuracy  completeness       impute_standard    impute_mode   \n...             ...           ...                   ...            ...   \n92390  completeness      accuracy  impute_random_forest  impute_cmeans   \n92391  completeness      accuracy  impute_random_forest  impute_cmeans   \n92392  completeness      accuracy  impute_random_forest  impute_cmeans   \n92393  completeness      accuracy  impute_random_forest  impute_cmeans   \n92394  completeness      accuracy  impute_random_forest  impute_cmeans   \n\n               imp_3 od_1   imp_col_1    imp_col_2    imp_col_3  quality  ...  \\\n15       impute_mean  IQR  CloudCover       Season  Temperature       50  ...   \n16       impute_mean  IQR  CloudCover       Season  Temperature       60  ...   \n17       impute_mean  IQR  CloudCover       Season  Temperature       70  ...   \n18       impute_mean  IQR  CloudCover       Season  Temperature       80  ...   \n19       impute_mean  IQR  CloudCover       Season  Temperature       90  ...   \n...              ...  ...         ...          ...          ...      ...  ...   \n92390  impute_kproto  LOF      Season  Temperature   CloudCover       50  ...   \n92391  impute_kproto  LOF      Season  Temperature   CloudCover       60  ...   \n92392  impute_kproto  LOF      Season  Temperature   CloudCover       70  ...   \n92393  impute_kproto  LOF      Season  Temperature   CloudCover       80  ...   \n92394  impute_kproto  LOF      Season  Temperature   CloudCover       90  ...   \n\n       KNN_1  RandomForest_1  AdaBoost_1  SVC_1  DecisionTree_2  \\\n15         0               0           0      0               0   \n16         0               0           0      0               0   \n17         0               0           0      0               0   \n18         0               0           0      0               0   \n19         0               0           0      0               0   \n...      ...             ...         ...    ...             ...   \n92390      0               0           0      0               0   \n92391      0               0           0      0               0   \n92392      0               0           0      0               0   \n92393      0               0           0      0               0   \n92394      0               0           0      0               0   \n\n       LogisticRegression_2  KNN_2  RandomForest_2  AdaBoost_2  SVC_2  \n15                        0      0               0           0      0  \n16                        0      0               0           0      0  \n17                        0      0               0           0      0  \n18                        0      0               0           0      0  \n19                        0      0               0           0      0  \n...                     ...    ...             ...         ...    ...  \n92390                     0      0               0           0      0  \n92391                     0      0               0           0      0  \n92392                     0      0               0           0      0  \n92393                     0      0               0           0      0  \n92394                     0      0               0           0      0  \n\n[30380 rows x 28 columns]",
      "text/html": "<div>\n<style scoped>\n    .dataframe tbody tr th:only-of-type {\n        vertical-align: middle;\n    }\n\n    .dataframe tbody tr th {\n        vertical-align: top;\n    }\n\n    .dataframe thead th {\n        text-align: right;\n    }\n</style>\n<table border=\"1\" class=\"dataframe\">\n  <thead>\n    <tr style=\"text-align: right;\">\n      <th></th>\n      <th>dimension_1</th>\n      <th>dimension_2</th>\n      <th>imp_1</th>\n      <th>imp_2</th>\n      <th>imp_3</th>\n      <th>od_1</th>\n      <th>imp_col_1</th>\n      <th>imp_col_2</th>\n      <th>imp_col_3</th>\n      <th>quality</th>\n      <th>...</th>\n      <th>KNN_1</th>\n      <th>RandomForest_1</th>\n      <th>AdaBoost_1</th>\n      <th>SVC_1</th>\n      <th>DecisionTree_2</th>\n      <th>LogisticRegression_2</th>\n      <th>KNN_2</th>\n      <th>RandomForest_2</th>\n      <th>AdaBoost_2</th>\n      <th>SVC_2</th>\n    </tr>\n  </thead>\n  <tbody>\n    <tr>\n      <th>15</th>\n      <td>accuracy</td>\n      <td>completeness</td>\n      <td>impute_standard</td>\n      <td>impute_mode</td>\n      <td>impute_mean</td>\n      <td>IQR</td>\n      <td>CloudCover</td>\n      <td>Season</td>\n      <td>Temperature</td>\n      <td>50</td>\n      <td>...</td>\n      <td>0</td>\n      <td>0</td>\n      <td>0</td>\n      <td>0</td>\n      <td>0</td>\n      <td>0</td>\n      <td>0</td>\n      <td>0</td>\n      <td>0</td>\n      <td>0</td>\n    </tr>\n    <tr>\n      <th>16</th>\n      <td>accuracy</td>\n      <td>completeness</td>\n      <td>impute_standard</td>\n      <td>impute_mode</td>\n      <td>impute_mean</td>\n      <td>IQR</td>\n      <td>CloudCover</td>\n      <td>Season</td>\n      <td>Temperature</td>\n      <td>60</td>\n      <td>...</td>\n      <td>0</td>\n      <td>0</td>\n      <td>0</td>\n      <td>0</td>\n      <td>0</td>\n      <td>0</td>\n      <td>0</td>\n      <td>0</td>\n      <td>0</td>\n      <td>0</td>\n    </tr>\n    <tr>\n      <th>17</th>\n      <td>accuracy</td>\n      <td>completeness</td>\n      <td>impute_standard</td>\n      <td>impute_mode</td>\n      <td>impute_mean</td>\n      <td>IQR</td>\n      <td>CloudCover</td>\n      <td>Season</td>\n      <td>Temperature</td>\n      <td>70</td>\n      <td>...</td>\n      <td>0</td>\n      <td>0</td>\n      <td>0</td>\n      <td>0</td>\n      <td>0</td>\n      <td>0</td>\n      <td>0</td>\n      <td>0</td>\n      <td>0</td>\n      <td>0</td>\n    </tr>\n    <tr>\n      <th>18</th>\n      <td>accuracy</td>\n      <td>completeness</td>\n      <td>impute_standard</td>\n      <td>impute_mode</td>\n      <td>impute_mean</td>\n      <td>IQR</td>\n      <td>CloudCover</td>\n      <td>Season</td>\n      <td>Temperature</td>\n      <td>80</td>\n      <td>...</td>\n      <td>0</td>\n      <td>0</td>\n      <td>0</td>\n      <td>0</td>\n      <td>0</td>\n      <td>0</td>\n      <td>0</td>\n      <td>0</td>\n      <td>0</td>\n      <td>0</td>\n    </tr>\n    <tr>\n      <th>19</th>\n      <td>accuracy</td>\n      <td>completeness</td>\n      <td>impute_standard</td>\n      <td>impute_mode</td>\n      <td>impute_mean</td>\n      <td>IQR</td>\n      <td>CloudCover</td>\n      <td>Season</td>\n      <td>Temperature</td>\n      <td>90</td>\n      <td>...</td>\n      <td>0</td>\n      <td>0</td>\n      <td>0</td>\n      <td>0</td>\n      <td>0</td>\n      <td>0</td>\n      <td>0</td>\n      <td>0</td>\n      <td>0</td>\n      <td>0</td>\n    </tr>\n    <tr>\n      <th>...</th>\n      <td>...</td>\n      <td>...</td>\n      <td>...</td>\n      <td>...</td>\n      <td>...</td>\n      <td>...</td>\n      <td>...</td>\n      <td>...</td>\n      <td>...</td>\n      <td>...</td>\n      <td>...</td>\n      <td>...</td>\n      <td>...</td>\n      <td>...</td>\n      <td>...</td>\n      <td>...</td>\n      <td>...</td>\n      <td>...</td>\n      <td>...</td>\n      <td>...</td>\n      <td>...</td>\n    </tr>\n    <tr>\n      <th>92390</th>\n      <td>completeness</td>\n      <td>accuracy</td>\n      <td>impute_random_forest</td>\n      <td>impute_cmeans</td>\n      <td>impute_kproto</td>\n      <td>LOF</td>\n      <td>Season</td>\n      <td>Temperature</td>\n      <td>CloudCover</td>\n      <td>50</td>\n      <td>...</td>\n      <td>0</td>\n      <td>0</td>\n      <td>0</td>\n      <td>0</td>\n      <td>0</td>\n      <td>0</td>\n      <td>0</td>\n      <td>0</td>\n      <td>0</td>\n      <td>0</td>\n    </tr>\n    <tr>\n      <th>92391</th>\n      <td>completeness</td>\n      <td>accuracy</td>\n      <td>impute_random_forest</td>\n      <td>impute_cmeans</td>\n      <td>impute_kproto</td>\n      <td>LOF</td>\n      <td>Season</td>\n      <td>Temperature</td>\n      <td>CloudCover</td>\n      <td>60</td>\n      <td>...</td>\n      <td>0</td>\n      <td>0</td>\n      <td>0</td>\n      <td>0</td>\n      <td>0</td>\n      <td>0</td>\n      <td>0</td>\n      <td>0</td>\n      <td>0</td>\n      <td>0</td>\n    </tr>\n    <tr>\n      <th>92392</th>\n      <td>completeness</td>\n      <td>accuracy</td>\n      <td>impute_random_forest</td>\n      <td>impute_cmeans</td>\n      <td>impute_kproto</td>\n      <td>LOF</td>\n      <td>Season</td>\n      <td>Temperature</td>\n      <td>CloudCover</td>\n      <td>70</td>\n      <td>...</td>\n      <td>0</td>\n      <td>0</td>\n      <td>0</td>\n      <td>0</td>\n      <td>0</td>\n      <td>0</td>\n      <td>0</td>\n      <td>0</td>\n      <td>0</td>\n      <td>0</td>\n    </tr>\n    <tr>\n      <th>92393</th>\n      <td>completeness</td>\n      <td>accuracy</td>\n      <td>impute_random_forest</td>\n      <td>impute_cmeans</td>\n      <td>impute_kproto</td>\n      <td>LOF</td>\n      <td>Season</td>\n      <td>Temperature</td>\n      <td>CloudCover</td>\n      <td>80</td>\n      <td>...</td>\n      <td>0</td>\n      <td>0</td>\n      <td>0</td>\n      <td>0</td>\n      <td>0</td>\n      <td>0</td>\n      <td>0</td>\n      <td>0</td>\n      <td>0</td>\n      <td>0</td>\n    </tr>\n    <tr>\n      <th>92394</th>\n      <td>completeness</td>\n      <td>accuracy</td>\n      <td>impute_random_forest</td>\n      <td>impute_cmeans</td>\n      <td>impute_kproto</td>\n      <td>LOF</td>\n      <td>Season</td>\n      <td>Temperature</td>\n      <td>CloudCover</td>\n      <td>90</td>\n      <td>...</td>\n      <td>0</td>\n      <td>0</td>\n      <td>0</td>\n      <td>0</td>\n      <td>0</td>\n      <td>0</td>\n      <td>0</td>\n      <td>0</td>\n      <td>0</td>\n      <td>0</td>\n    </tr>\n  </tbody>\n</table>\n<p>30380 rows × 28 columns</p>\n</div>"
     },
     "execution_count": 86,
     "metadata": {},
     "output_type": "execute_result"
    }
   ],
   "source": [
    "df\n"
   ],
   "metadata": {
    "collapsed": false
   }
  },
  {
   "cell_type": "code",
   "execution_count": null,
   "outputs": [],
   "source": [],
   "metadata": {
    "collapsed": false
   }
  }
 ],
 "metadata": {
  "kernelspec": {
   "display_name": "Python 3",
   "language": "python",
   "name": "python3"
  },
  "language_info": {
   "codemirror_mode": {
    "name": "ipython",
    "version": 2
   },
   "file_extension": ".py",
   "mimetype": "text/x-python",
   "name": "python",
   "nbconvert_exporter": "python",
   "pygments_lexer": "ipython2",
   "version": "2.7.6"
  }
 },
 "nbformat": 4,
 "nbformat_minor": 0
}
