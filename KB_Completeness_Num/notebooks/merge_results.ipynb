{
 "cells": [
  {
   "cell_type": "code",
   "execution_count": 1,
   "metadata": {
    "collapsed": true
   },
   "outputs": [],
   "source": [
    "import pandas as pd\n"
   ]
  },
  {
   "cell_type": "code",
   "execution_count": 2,
   "outputs": [],
   "source": [
    "exp_1 = pd.read_csv(\"../numerical/experiment_1_numerical.csv\")\n",
    "exp_2 = pd.read_csv(\"../numerical/experiment_2_numerical.csv\")\n",
    "exp_3 = pd.read_csv(\"../numerical/experiment_3_numerical.csv\")\n",
    "exp_4 = pd.read_csv(\"../numerical/experiment_4_numerical.csv\")\n",
    "exp_5 = pd.read_csv(\"../numerical/experiment_5_numerical.csv\")\n",
    "exp_6 = pd.read_csv(\"../numerical/experiment_6_numerical.csv\")\n",
    "exp_7 = pd.read_csv(\"../numerical/experiment_7_numerical.csv\")\n",
    "exp_8 = pd.read_csv(\"../numerical/experiment_8_numerical.csv\")\n"
   ],
   "metadata": {
    "collapsed": false
   }
  },
  {
   "cell_type": "code",
   "execution_count": 3,
   "outputs": [
    {
     "data": {
      "text/plain": "                       name column_name  n_tuples  missing_perc  uniqueness  \\\n0                   abalone      Length      4177        0.5040      0.0613   \n1                   abalone      Length      4177        0.5040      0.0613   \n2                   abalone      Length      4177        0.5040      0.0613   \n3                   abalone      Length      4177        0.5040      0.0613   \n4                   abalone      Length      4177        0.5040      0.0613   \n...                     ...         ...       ...           ...         ...   \n3655  wall-robot-navigation          V4      5456        0.0477      0.3362   \n3656  wall-robot-navigation          V4      5456        0.0477      0.3362   \n3657  wall-robot-navigation          V4      5456        0.0477      0.3362   \n3658  wall-robot-navigation          V4      5456        0.0477      0.3362   \n3659  wall-robot-navigation          V4      5456        0.0477      0.3362   \n\n        min    max    mean  median     std  ...        ml_algorithm  \\\n0     0.130  0.815  0.5229   0.545  0.1203  ...        DecisionTree   \n1     0.130  0.815  0.5229   0.545  0.1203  ...  LogisticRegression   \n2     0.130  0.815  0.5229   0.545  0.1203  ...                 KNN   \n3     0.130  0.815  0.5229   0.545  0.1203  ...        RandomForest   \n4     0.130  0.815  0.5229   0.545  0.1203  ...            AdaBoost   \n...     ...    ...     ...     ...     ...  ...                 ...   \n3655  0.367  5.000  1.2717   1.067  0.8200  ...  LogisticRegression   \n3656  0.367  5.000  1.2717   1.067  0.8200  ...                 KNN   \n3657  0.367  5.000  1.2717   1.067  0.8200  ...        RandomForest   \n3658  0.367  5.000  1.2717   1.067  0.8200  ...            AdaBoost   \n3659  0.367  5.000  1.2717   1.067  0.8200  ...                 SVC   \n\n      impute_standard  impute_mean  impute_median  impute_random  impute_knn  \\\n0            0.174717     0.172400       0.167594       0.155505    0.172999   \n1            0.095721     0.167269       0.163051       0.132071    0.157387   \n2            0.168860     0.170591       0.168432       0.165469    0.166332   \n3            0.180452     0.181417       0.180619       0.170635    0.175568   \n4            0.082885     0.089505       0.089505       0.079189    0.089436   \n...               ...          ...            ...            ...         ...   \n3655         0.964218     0.964351       0.964959       0.964359    0.964490   \n3656         0.973415     0.974791       0.976010       0.973100    0.976615   \n3657         0.999540     0.999233       0.999386       0.999079    0.999234   \n3658         0.780567     0.780567       0.780567       0.780567    0.780567   \n3659         0.954240     0.954381       0.940954       0.949049    0.947739   \n\n      impute_mice  impute_linear_regression  impute_random_forest  \\\n0        0.173603                  0.174448              0.173586   \n1        0.164684                  0.162279              0.162119   \n2        0.169385                  0.164622              0.169893   \n3        0.180137                  0.180649              0.181697   \n4        0.089267                  0.089267              0.089267   \n...           ...                       ...                   ...   \n3655     0.964800                  0.964800              0.964642   \n3656     0.975551                  0.975551              0.975555   \n3657     0.999234                  0.999234              0.999387   \n3658     0.780567                  0.780567              0.780567   \n3659     0.954881                  0.954185              0.957411   \n\n      impute_cmeans  \n0          0.174984  \n1          0.167598  \n2          0.163412  \n3          0.185264  \n4          0.090949  \n...             ...  \n3655       0.964646  \n3656       0.975245  \n3657       0.999387  \n3658       0.780567  \n3659       0.962289  \n\n[3660 rows x 32 columns]",
      "text/html": "<div>\n<style scoped>\n    .dataframe tbody tr th:only-of-type {\n        vertical-align: middle;\n    }\n\n    .dataframe tbody tr th {\n        vertical-align: top;\n    }\n\n    .dataframe thead th {\n        text-align: right;\n    }\n</style>\n<table border=\"1\" class=\"dataframe\">\n  <thead>\n    <tr style=\"text-align: right;\">\n      <th></th>\n      <th>name</th>\n      <th>column_name</th>\n      <th>n_tuples</th>\n      <th>missing_perc</th>\n      <th>uniqueness</th>\n      <th>min</th>\n      <th>max</th>\n      <th>mean</th>\n      <th>median</th>\n      <th>std</th>\n      <th>...</th>\n      <th>ml_algorithm</th>\n      <th>impute_standard</th>\n      <th>impute_mean</th>\n      <th>impute_median</th>\n      <th>impute_random</th>\n      <th>impute_knn</th>\n      <th>impute_mice</th>\n      <th>impute_linear_regression</th>\n      <th>impute_random_forest</th>\n      <th>impute_cmeans</th>\n    </tr>\n  </thead>\n  <tbody>\n    <tr>\n      <th>0</th>\n      <td>abalone</td>\n      <td>Length</td>\n      <td>4177</td>\n      <td>0.5040</td>\n      <td>0.0613</td>\n      <td>0.130</td>\n      <td>0.815</td>\n      <td>0.5229</td>\n      <td>0.545</td>\n      <td>0.1203</td>\n      <td>...</td>\n      <td>DecisionTree</td>\n      <td>0.174717</td>\n      <td>0.172400</td>\n      <td>0.167594</td>\n      <td>0.155505</td>\n      <td>0.172999</td>\n      <td>0.173603</td>\n      <td>0.174448</td>\n      <td>0.173586</td>\n      <td>0.174984</td>\n    </tr>\n    <tr>\n      <th>1</th>\n      <td>abalone</td>\n      <td>Length</td>\n      <td>4177</td>\n      <td>0.5040</td>\n      <td>0.0613</td>\n      <td>0.130</td>\n      <td>0.815</td>\n      <td>0.5229</td>\n      <td>0.545</td>\n      <td>0.1203</td>\n      <td>...</td>\n      <td>LogisticRegression</td>\n      <td>0.095721</td>\n      <td>0.167269</td>\n      <td>0.163051</td>\n      <td>0.132071</td>\n      <td>0.157387</td>\n      <td>0.164684</td>\n      <td>0.162279</td>\n      <td>0.162119</td>\n      <td>0.167598</td>\n    </tr>\n    <tr>\n      <th>2</th>\n      <td>abalone</td>\n      <td>Length</td>\n      <td>4177</td>\n      <td>0.5040</td>\n      <td>0.0613</td>\n      <td>0.130</td>\n      <td>0.815</td>\n      <td>0.5229</td>\n      <td>0.545</td>\n      <td>0.1203</td>\n      <td>...</td>\n      <td>KNN</td>\n      <td>0.168860</td>\n      <td>0.170591</td>\n      <td>0.168432</td>\n      <td>0.165469</td>\n      <td>0.166332</td>\n      <td>0.169385</td>\n      <td>0.164622</td>\n      <td>0.169893</td>\n      <td>0.163412</td>\n    </tr>\n    <tr>\n      <th>3</th>\n      <td>abalone</td>\n      <td>Length</td>\n      <td>4177</td>\n      <td>0.5040</td>\n      <td>0.0613</td>\n      <td>0.130</td>\n      <td>0.815</td>\n      <td>0.5229</td>\n      <td>0.545</td>\n      <td>0.1203</td>\n      <td>...</td>\n      <td>RandomForest</td>\n      <td>0.180452</td>\n      <td>0.181417</td>\n      <td>0.180619</td>\n      <td>0.170635</td>\n      <td>0.175568</td>\n      <td>0.180137</td>\n      <td>0.180649</td>\n      <td>0.181697</td>\n      <td>0.185264</td>\n    </tr>\n    <tr>\n      <th>4</th>\n      <td>abalone</td>\n      <td>Length</td>\n      <td>4177</td>\n      <td>0.5040</td>\n      <td>0.0613</td>\n      <td>0.130</td>\n      <td>0.815</td>\n      <td>0.5229</td>\n      <td>0.545</td>\n      <td>0.1203</td>\n      <td>...</td>\n      <td>AdaBoost</td>\n      <td>0.082885</td>\n      <td>0.089505</td>\n      <td>0.089505</td>\n      <td>0.079189</td>\n      <td>0.089436</td>\n      <td>0.089267</td>\n      <td>0.089267</td>\n      <td>0.089267</td>\n      <td>0.090949</td>\n    </tr>\n    <tr>\n      <th>...</th>\n      <td>...</td>\n      <td>...</td>\n      <td>...</td>\n      <td>...</td>\n      <td>...</td>\n      <td>...</td>\n      <td>...</td>\n      <td>...</td>\n      <td>...</td>\n      <td>...</td>\n      <td>...</td>\n      <td>...</td>\n      <td>...</td>\n      <td>...</td>\n      <td>...</td>\n      <td>...</td>\n      <td>...</td>\n      <td>...</td>\n      <td>...</td>\n      <td>...</td>\n      <td>...</td>\n    </tr>\n    <tr>\n      <th>3655</th>\n      <td>wall-robot-navigation</td>\n      <td>V4</td>\n      <td>5456</td>\n      <td>0.0477</td>\n      <td>0.3362</td>\n      <td>0.367</td>\n      <td>5.000</td>\n      <td>1.2717</td>\n      <td>1.067</td>\n      <td>0.8200</td>\n      <td>...</td>\n      <td>LogisticRegression</td>\n      <td>0.964218</td>\n      <td>0.964351</td>\n      <td>0.964959</td>\n      <td>0.964359</td>\n      <td>0.964490</td>\n      <td>0.964800</td>\n      <td>0.964800</td>\n      <td>0.964642</td>\n      <td>0.964646</td>\n    </tr>\n    <tr>\n      <th>3656</th>\n      <td>wall-robot-navigation</td>\n      <td>V4</td>\n      <td>5456</td>\n      <td>0.0477</td>\n      <td>0.3362</td>\n      <td>0.367</td>\n      <td>5.000</td>\n      <td>1.2717</td>\n      <td>1.067</td>\n      <td>0.8200</td>\n      <td>...</td>\n      <td>KNN</td>\n      <td>0.973415</td>\n      <td>0.974791</td>\n      <td>0.976010</td>\n      <td>0.973100</td>\n      <td>0.976615</td>\n      <td>0.975551</td>\n      <td>0.975551</td>\n      <td>0.975555</td>\n      <td>0.975245</td>\n    </tr>\n    <tr>\n      <th>3657</th>\n      <td>wall-robot-navigation</td>\n      <td>V4</td>\n      <td>5456</td>\n      <td>0.0477</td>\n      <td>0.3362</td>\n      <td>0.367</td>\n      <td>5.000</td>\n      <td>1.2717</td>\n      <td>1.067</td>\n      <td>0.8200</td>\n      <td>...</td>\n      <td>RandomForest</td>\n      <td>0.999540</td>\n      <td>0.999233</td>\n      <td>0.999386</td>\n      <td>0.999079</td>\n      <td>0.999234</td>\n      <td>0.999234</td>\n      <td>0.999234</td>\n      <td>0.999387</td>\n      <td>0.999387</td>\n    </tr>\n    <tr>\n      <th>3658</th>\n      <td>wall-robot-navigation</td>\n      <td>V4</td>\n      <td>5456</td>\n      <td>0.0477</td>\n      <td>0.3362</td>\n      <td>0.367</td>\n      <td>5.000</td>\n      <td>1.2717</td>\n      <td>1.067</td>\n      <td>0.8200</td>\n      <td>...</td>\n      <td>AdaBoost</td>\n      <td>0.780567</td>\n      <td>0.780567</td>\n      <td>0.780567</td>\n      <td>0.780567</td>\n      <td>0.780567</td>\n      <td>0.780567</td>\n      <td>0.780567</td>\n      <td>0.780567</td>\n      <td>0.780567</td>\n    </tr>\n    <tr>\n      <th>3659</th>\n      <td>wall-robot-navigation</td>\n      <td>V4</td>\n      <td>5456</td>\n      <td>0.0477</td>\n      <td>0.3362</td>\n      <td>0.367</td>\n      <td>5.000</td>\n      <td>1.2717</td>\n      <td>1.067</td>\n      <td>0.8200</td>\n      <td>...</td>\n      <td>SVC</td>\n      <td>0.954240</td>\n      <td>0.954381</td>\n      <td>0.940954</td>\n      <td>0.949049</td>\n      <td>0.947739</td>\n      <td>0.954881</td>\n      <td>0.954185</td>\n      <td>0.957411</td>\n      <td>0.962289</td>\n    </tr>\n  </tbody>\n</table>\n<p>3660 rows × 32 columns</p>\n</div>"
     },
     "execution_count": 3,
     "metadata": {},
     "output_type": "execute_result"
    }
   ],
   "source": [
    "exp_8"
   ],
   "metadata": {
    "collapsed": false
   }
  },
  {
   "cell_type": "code",
   "execution_count": 4,
   "outputs": [],
   "source": [
    "cols = ['n_tuples', 'missing_perc', 'uniqueness', 'min',\n",
    "       'max', 'mean', 'median', 'std', 'skewness', 'kurtosis', 'mad', 'iqr',\n",
    "       'p_min', 'p_max', 'k_min', 'k_max', 's_min', 's_max', 'entropy',\n",
    "       'density', 'impute_standard', 'impute_mean',\n",
    "       'impute_median', 'impute_random', 'impute_knn', 'impute_mice',\n",
    "       'impute_linear_regression', 'impute_random_forest', 'impute_cmeans']"
   ],
   "metadata": {
    "collapsed": false
   }
  },
  {
   "cell_type": "code",
   "execution_count": 5,
   "outputs": [],
   "source": [
    "exp_1[cols] = exp_1[cols] + exp_2[cols] + exp_3[cols] + exp_4[cols] + exp_5[cols] + exp_6[cols] + exp_7[cols] + exp_8[cols]\n",
    "exp_1[cols] = exp_1[cols]/8"
   ],
   "metadata": {
    "collapsed": false
   }
  },
  {
   "cell_type": "code",
   "execution_count": 6,
   "outputs": [],
   "source": [
    "exp_1.to_csv(\"../kb/KBC.csv\",index=None)\n"
   ],
   "metadata": {
    "collapsed": false
   }
  },
  {
   "cell_type": "code",
   "execution_count": null,
   "outputs": [],
   "source": [],
   "metadata": {
    "collapsed": false
   }
  }
 ],
 "metadata": {
  "kernelspec": {
   "display_name": "Python 3",
   "language": "python",
   "name": "python3"
  },
  "language_info": {
   "codemirror_mode": {
    "name": "ipython",
    "version": 2
   },
   "file_extension": ".py",
   "mimetype": "text/x-python",
   "name": "python",
   "nbconvert_exporter": "python",
   "pygments_lexer": "ipython2",
   "version": "2.7.6"
  }
 },
 "nbformat": 4,
 "nbformat_minor": 0
}
