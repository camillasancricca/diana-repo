{
 "cells": [
  {
   "cell_type": "code",
   "execution_count": 1,
   "outputs": [],
   "source": [
    "import pandas as pd\n",
    "#from scripts import tt_impact as tt\n",
    "from scripts import kb\n",
    "import numpy as np\n",
    "import warnings\n",
    "warnings.filterwarnings(\"ignore\")"
   ],
   "metadata": {
    "collapsed": false
   }
  },
  {
   "cell_type": "code",
   "execution_count": 2,
   "outputs": [],
   "source": [
    "#tt.training_testing_completeness()\n",
    "#tt.evaluate_techniques()"
   ],
   "metadata": {
    "collapsed": false
   }
  },
  {
   "cell_type": "code",
   "execution_count": 3,
   "outputs": [
    {
     "data": {
      "text/plain": "                       dataset               model  ranking_eval  \\\n0                    abalone_0        DecisionTree      0.222222   \n1                    abalone_0  LogisticRegression      0.222222   \n2                    abalone_0                 KNN      0.222222   \n3                    abalone_0        RandomForest      0.222222   \n4                    abalone_0            AdaBoost      0.111111   \n...                        ...                 ...           ...   \n3655  wall-robot-navigation_29  LogisticRegression      0.222222   \n3656  wall-robot-navigation_29                 KNN      0.222222   \n3657  wall-robot-navigation_29        RandomForest      0.000000   \n3658  wall-robot-navigation_29            AdaBoost      0.111111   \n3659  wall-robot-navigation_29                 SVC      0.222222   \n\n                                           ranking_real  \\\n0     ['impute_random_forest' 'impute_mice' 'impute_...   \n1     ['impute_standard' 'impute_random' 'impute_knn...   \n2     ['impute_random' 'impute_median' 'impute_cmean...   \n3     ['impute_random_forest' 'impute_linear_regress...   \n4     ['impute_random' 'impute_mean' 'impute_median'...   \n...                                                 ...   \n3655  ['impute_random' 'impute_mean' 'impute_standar...   \n3656  ['impute_standard' 'impute_random' 'impute_cme...   \n3657  ['impute_mean' 'impute_knn' 'impute_mice' 'imp...   \n3658  ['impute_standard' 'impute_mean' 'impute_media...   \n3659  ['impute_random' 'impute_knn' 'impute_median' ...   \n\n                                           ranking_pred  \\\n0     ['impute_random' 'impute_random_forest' 'imput...   \n1     ['impute_standard' 'impute_random' 'impute_lin...   \n2     ['impute_random' 'impute_standard' 'impute_cme...   \n3     ['impute_random' 'impute_random_forest' 'imput...   \n4     ['impute_random' 'impute_random_forest' 'imput...   \n...                                                 ...   \n3655  ['impute_random' 'impute_standard' 'impute_mea...   \n3656  ['impute_random' 'impute_standard' 'impute_lin...   \n3657  ['impute_random' 'impute_standard' 'impute_cme...   \n3658  ['impute_standard' 'impute_cmeans' 'impute_lin...   \n3659  ['impute_random' 'impute_standard' 'impute_mea...   \n\n                                             value_real  \\\n0     [ 0.03070432  0.02607953  0.02265316  0.019428...   \n1     [ 0.         -0.23398274 -0.37743141 -0.413494...   \n2     [ 0.01583655  0.01346927  0.00908221  0.      ...   \n3     [ 0.00589609  0.00329654  0.00029558  0.000172...   \n4     [ 0.09197582  0.04205157  0.03069223  0.      ...   \n...                                                 ...   \n3655  [ 8.03463908e-05  7.45140033e-05  0.00000000e+...   \n3656  [ 0.         -0.00045032 -0.00145476 -0.001495...   \n3657  [2.10880504e-04 1.72426377e-04 1.33947461e-04 ...   \n3658                       [0. 0. 0. 0. 0. 0. 0. 0. 0.]   \n3659  [0.00737092 0.00681078 0.00621128 0.00353071 0...   \n\n                                             value_pred  perc_completeness  \n0     [0.02383525 0.01437308 0.01125935 0.00661402 0...           0.497662  \n1     [ 0.         -0.02209963 -0.0533367  -0.054928...           0.497662  \n2     [ 0.00063991  0.         -0.00879429 -0.009438...           0.497662  \n3     [ 1.97182086e-02  1.47554093e-02  7.14014888e-...           0.497662  \n4     [ 0.02381311  0.00779042  0.00721201  0.005057...           0.497662  \n...                                                 ...                ...  \n3655  [ 0.01046878  0.         -0.00335627 -0.007891...           0.048850  \n3656  [ 0.01259503  0.         -0.00113643 -0.001546...           0.048850  \n3657  [ 0.00904604  0.         -0.00019848 -0.000657...           0.048850  \n3658  [ 0.         -0.00644984 -0.00774526 -0.008353...           0.048850  \n3659  [ 0.0152945   0.         -0.01198566 -0.016223...           0.048850  \n\n[3660 rows x 8 columns]",
      "text/html": "<div>\n<style scoped>\n    .dataframe tbody tr th:only-of-type {\n        vertical-align: middle;\n    }\n\n    .dataframe tbody tr th {\n        vertical-align: top;\n    }\n\n    .dataframe thead th {\n        text-align: right;\n    }\n</style>\n<table border=\"1\" class=\"dataframe\">\n  <thead>\n    <tr style=\"text-align: right;\">\n      <th></th>\n      <th>dataset</th>\n      <th>model</th>\n      <th>ranking_eval</th>\n      <th>ranking_real</th>\n      <th>ranking_pred</th>\n      <th>value_real</th>\n      <th>value_pred</th>\n      <th>perc_completeness</th>\n    </tr>\n  </thead>\n  <tbody>\n    <tr>\n      <th>0</th>\n      <td>abalone_0</td>\n      <td>DecisionTree</td>\n      <td>0.222222</td>\n      <td>['impute_random_forest' 'impute_mice' 'impute_...</td>\n      <td>['impute_random' 'impute_random_forest' 'imput...</td>\n      <td>[ 0.03070432  0.02607953  0.02265316  0.019428...</td>\n      <td>[0.02383525 0.01437308 0.01125935 0.00661402 0...</td>\n      <td>0.497662</td>\n    </tr>\n    <tr>\n      <th>1</th>\n      <td>abalone_0</td>\n      <td>LogisticRegression</td>\n      <td>0.222222</td>\n      <td>['impute_standard' 'impute_random' 'impute_knn...</td>\n      <td>['impute_standard' 'impute_random' 'impute_lin...</td>\n      <td>[ 0.         -0.23398274 -0.37743141 -0.413494...</td>\n      <td>[ 0.         -0.02209963 -0.0533367  -0.054928...</td>\n      <td>0.497662</td>\n    </tr>\n    <tr>\n      <th>2</th>\n      <td>abalone_0</td>\n      <td>KNN</td>\n      <td>0.222222</td>\n      <td>['impute_random' 'impute_median' 'impute_cmean...</td>\n      <td>['impute_random' 'impute_standard' 'impute_cme...</td>\n      <td>[ 0.01583655  0.01346927  0.00908221  0.      ...</td>\n      <td>[ 0.00063991  0.         -0.00879429 -0.009438...</td>\n      <td>0.497662</td>\n    </tr>\n    <tr>\n      <th>3</th>\n      <td>abalone_0</td>\n      <td>RandomForest</td>\n      <td>0.222222</td>\n      <td>['impute_random_forest' 'impute_linear_regress...</td>\n      <td>['impute_random' 'impute_random_forest' 'imput...</td>\n      <td>[ 0.00589609  0.00329654  0.00029558  0.000172...</td>\n      <td>[ 1.97182086e-02  1.47554093e-02  7.14014888e-...</td>\n      <td>0.497662</td>\n    </tr>\n    <tr>\n      <th>4</th>\n      <td>abalone_0</td>\n      <td>AdaBoost</td>\n      <td>0.111111</td>\n      <td>['impute_random' 'impute_mean' 'impute_median'...</td>\n      <td>['impute_random' 'impute_random_forest' 'imput...</td>\n      <td>[ 0.09197582  0.04205157  0.03069223  0.      ...</td>\n      <td>[ 0.02381311  0.00779042  0.00721201  0.005057...</td>\n      <td>0.497662</td>\n    </tr>\n    <tr>\n      <th>...</th>\n      <td>...</td>\n      <td>...</td>\n      <td>...</td>\n      <td>...</td>\n      <td>...</td>\n      <td>...</td>\n      <td>...</td>\n      <td>...</td>\n    </tr>\n    <tr>\n      <th>3655</th>\n      <td>wall-robot-navigation_29</td>\n      <td>LogisticRegression</td>\n      <td>0.222222</td>\n      <td>['impute_random' 'impute_mean' 'impute_standar...</td>\n      <td>['impute_random' 'impute_standard' 'impute_mea...</td>\n      <td>[ 8.03463908e-05  7.45140033e-05  0.00000000e+...</td>\n      <td>[ 0.01046878  0.         -0.00335627 -0.007891...</td>\n      <td>0.048850</td>\n    </tr>\n    <tr>\n      <th>3656</th>\n      <td>wall-robot-navigation_29</td>\n      <td>KNN</td>\n      <td>0.222222</td>\n      <td>['impute_standard' 'impute_random' 'impute_cme...</td>\n      <td>['impute_random' 'impute_standard' 'impute_lin...</td>\n      <td>[ 0.         -0.00045032 -0.00145476 -0.001495...</td>\n      <td>[ 0.01259503  0.         -0.00113643 -0.001546...</td>\n      <td>0.048850</td>\n    </tr>\n    <tr>\n      <th>3657</th>\n      <td>wall-robot-navigation_29</td>\n      <td>RandomForest</td>\n      <td>0.000000</td>\n      <td>['impute_mean' 'impute_knn' 'impute_mice' 'imp...</td>\n      <td>['impute_random' 'impute_standard' 'impute_cme...</td>\n      <td>[2.10880504e-04 1.72426377e-04 1.33947461e-04 ...</td>\n      <td>[ 0.00904604  0.         -0.00019848 -0.000657...</td>\n      <td>0.048850</td>\n    </tr>\n    <tr>\n      <th>3658</th>\n      <td>wall-robot-navigation_29</td>\n      <td>AdaBoost</td>\n      <td>0.111111</td>\n      <td>['impute_standard' 'impute_mean' 'impute_media...</td>\n      <td>['impute_standard' 'impute_cmeans' 'impute_lin...</td>\n      <td>[0. 0. 0. 0. 0. 0. 0. 0. 0.]</td>\n      <td>[ 0.         -0.00644984 -0.00774526 -0.008353...</td>\n      <td>0.048850</td>\n    </tr>\n    <tr>\n      <th>3659</th>\n      <td>wall-robot-navigation_29</td>\n      <td>SVC</td>\n      <td>0.222222</td>\n      <td>['impute_random' 'impute_knn' 'impute_median' ...</td>\n      <td>['impute_random' 'impute_standard' 'impute_mea...</td>\n      <td>[0.00737092 0.00681078 0.00621128 0.00353071 0...</td>\n      <td>[ 0.0152945   0.         -0.01198566 -0.016223...</td>\n      <td>0.048850</td>\n    </tr>\n  </tbody>\n</table>\n<p>3660 rows × 8 columns</p>\n</div>"
     },
     "execution_count": 3,
     "metadata": {},
     "output_type": "execute_result"
    }
   ],
   "source": [
    "rankings = pd.read_csv(\"../results/techniques_completeness_evaluation_total.csv\")\n",
    "rankings"
   ],
   "metadata": {
    "collapsed": false
   }
  },
  {
   "cell_type": "code",
   "execution_count": 4,
   "outputs": [],
   "source": [
    "def get_ranking_values_array(s):\n",
    "    s = s.replace(\".        ]\",\".0]\")\n",
    "    s = s.replace(\"   \",\" \")\n",
    "    s = s.replace(\"  \",\" \")\n",
    "    s = s.replace(\" ]\",\"]\")\n",
    "    s = s.replace(\"\\'\",\"\")\n",
    "    s = s.replace(\"[\",\"\")\n",
    "    s = s.replace(\"]\",\"\")\n",
    "    s = s.replace(\"    \",\" \")\n",
    "    s = s.replace(\"   \",\" \")\n",
    "    s = s.replace(\"  \",\" \")\n",
    "    s = s.split(\" \")\n",
    "    s = np.array(s)\n",
    "    s = np.delete(s, np.where(s == ''))\n",
    "    s = s.astype(float)\n",
    "    return s\n",
    "\n",
    "def get_ranking_array(s):\n",
    "    s = s.replace(\".        ]\",\".0]\")\n",
    "    s = s.replace(\"   \",\" \")\n",
    "    s = s.replace(\"  \",\" \")\n",
    "    s = s.replace(\" ]\",\"]\")\n",
    "    s = s.replace(\"\\'\",\"\")\n",
    "    s = s.replace(\"[\",\"\")\n",
    "    s = s.replace(\"]\",\"\")\n",
    "    s = s.split(\" \")\n",
    "    s = np.array(s)\n",
    "    return s"
   ],
   "metadata": {
    "collapsed": false
   }
  },
  {
   "cell_type": "code",
   "execution_count": 4,
   "outputs": [],
   "source": [],
   "metadata": {
    "collapsed": false
   }
  },
  {
   "cell_type": "code",
   "execution_count": 5,
   "outputs": [],
   "source": [
    "### AVG PRECISION REC SYS"
   ],
   "metadata": {
    "collapsed": false
   }
  },
  {
   "cell_type": "code",
   "execution_count": 6,
   "outputs": [],
   "source": [
    "### avg precision (rec sys)\n",
    "\n",
    "###  sum(k=1-->N) 1/m * P(k)*rel(k)\n",
    "### where\n",
    "### m is the number of relevant item (the number of technique in a performance threshold), is variable\n",
    "### N is the number of item to recommend. is a variable: top1, top3...\n",
    "### P(k) is the precision at cutoff k\n",
    "### rel(k) is 1 if the item is relevant\n",
    "### P(k)*rel(k) --> +1 if the item is present in the most relevant, +0 otherwise"
   ],
   "metadata": {
    "collapsed": false
   }
  },
  {
   "cell_type": "code",
   "execution_count": 7,
   "outputs": [],
   "source": [
    "### relevance più adatta è 0.01! (vedere altro notebook per dettagli)"
   ],
   "metadata": {
    "collapsed": false
   }
  },
  {
   "cell_type": "code",
   "execution_count": 28,
   "outputs": [],
   "source": [
    "relevance = 0.001\n",
    "N = 1\n",
    "\n",
    "precision = []\n",
    "\n",
    "for i in range(0,len(rankings)):\n",
    "    v1 = rankings.loc[i].ranking_real\n",
    "    v2 = rankings.loc[i].ranking_pred\n",
    "    v3 = rankings.loc[i].value_real\n",
    "    v4 = rankings.loc[i].value_pred\n",
    "\n",
    "    ### prendo tutti i valori\n",
    "    rank_real = get_ranking_array(v1)\n",
    "    rank_pred = get_ranking_array(v2)\n",
    "    values_real = get_ranking_values_array(v3)\n",
    "    values_pred = get_ranking_values_array(v4)\n",
    "\n",
    "    ### calcolo m\n",
    "    indexes = np.where(values_real > (values_real[0] - relevance))[0]\n",
    "    m = len(indexes)\n",
    "    ### calcolo precision\n",
    "    P_k = 0\n",
    "    for j in range(0, N):\n",
    "        tech = rank_pred[j]\n",
    "        if tech in rank_real[indexes]:\n",
    "            P_k += 1\n",
    "    precision.append([rankings.loc[i].dataset,P_k/m,m,rankings.loc[i].perc_completeness])\n",
    "precision = pd.DataFrame(precision,columns=['dataset','precision','m','perc_c'])"
   ],
   "metadata": {
    "collapsed": false
   }
  },
  {
   "cell_type": "code",
   "execution_count": 29,
   "outputs": [
    {
     "data": {
      "text/plain": "                       dataset  precision  m    perc_c\n0                    abalone_0   0.000000  1  0.497662\n1                    abalone_0   1.000000  1  0.497662\n2                    abalone_0   1.000000  1  0.497662\n3                    abalone_0   0.000000  1  0.497662\n4                    abalone_0   1.000000  1  0.497662\n...                        ...        ... ..       ...\n3655  wall-robot-navigation_29   0.111111  9  0.048850\n3656  wall-robot-navigation_29   0.500000  2  0.048850\n3657  wall-robot-navigation_29   0.111111  9  0.048850\n3658  wall-robot-navigation_29   0.111111  9  0.048850\n3659  wall-robot-navigation_29   0.500000  2  0.048850\n\n[3660 rows x 4 columns]",
      "text/html": "<div>\n<style scoped>\n    .dataframe tbody tr th:only-of-type {\n        vertical-align: middle;\n    }\n\n    .dataframe tbody tr th {\n        vertical-align: top;\n    }\n\n    .dataframe thead th {\n        text-align: right;\n    }\n</style>\n<table border=\"1\" class=\"dataframe\">\n  <thead>\n    <tr style=\"text-align: right;\">\n      <th></th>\n      <th>dataset</th>\n      <th>precision</th>\n      <th>m</th>\n      <th>perc_c</th>\n    </tr>\n  </thead>\n  <tbody>\n    <tr>\n      <th>0</th>\n      <td>abalone_0</td>\n      <td>0.000000</td>\n      <td>1</td>\n      <td>0.497662</td>\n    </tr>\n    <tr>\n      <th>1</th>\n      <td>abalone_0</td>\n      <td>1.000000</td>\n      <td>1</td>\n      <td>0.497662</td>\n    </tr>\n    <tr>\n      <th>2</th>\n      <td>abalone_0</td>\n      <td>1.000000</td>\n      <td>1</td>\n      <td>0.497662</td>\n    </tr>\n    <tr>\n      <th>3</th>\n      <td>abalone_0</td>\n      <td>0.000000</td>\n      <td>1</td>\n      <td>0.497662</td>\n    </tr>\n    <tr>\n      <th>4</th>\n      <td>abalone_0</td>\n      <td>1.000000</td>\n      <td>1</td>\n      <td>0.497662</td>\n    </tr>\n    <tr>\n      <th>...</th>\n      <td>...</td>\n      <td>...</td>\n      <td>...</td>\n      <td>...</td>\n    </tr>\n    <tr>\n      <th>3655</th>\n      <td>wall-robot-navigation_29</td>\n      <td>0.111111</td>\n      <td>9</td>\n      <td>0.048850</td>\n    </tr>\n    <tr>\n      <th>3656</th>\n      <td>wall-robot-navigation_29</td>\n      <td>0.500000</td>\n      <td>2</td>\n      <td>0.048850</td>\n    </tr>\n    <tr>\n      <th>3657</th>\n      <td>wall-robot-navigation_29</td>\n      <td>0.111111</td>\n      <td>9</td>\n      <td>0.048850</td>\n    </tr>\n    <tr>\n      <th>3658</th>\n      <td>wall-robot-navigation_29</td>\n      <td>0.111111</td>\n      <td>9</td>\n      <td>0.048850</td>\n    </tr>\n    <tr>\n      <th>3659</th>\n      <td>wall-robot-navigation_29</td>\n      <td>0.500000</td>\n      <td>2</td>\n      <td>0.048850</td>\n    </tr>\n  </tbody>\n</table>\n<p>3660 rows × 4 columns</p>\n</div>"
     },
     "execution_count": 29,
     "metadata": {},
     "output_type": "execute_result"
    }
   ],
   "source": [
    "precision\n"
   ],
   "metadata": {
    "collapsed": false
   }
  },
  {
   "cell_type": "code",
   "execution_count": 30,
   "outputs": [
    {
     "data": {
      "text/plain": "np.float64(0.2)"
     },
     "execution_count": 30,
     "metadata": {},
     "output_type": "execute_result"
    }
   ],
   "source": [
    "precision.precision.median()"
   ],
   "metadata": {
    "collapsed": false
   }
  },
  {
   "cell_type": "code",
   "execution_count": 31,
   "outputs": [
    {
     "data": {
      "text/plain": "precision\n1.000000    1562\n0.000000    1386\n0.111111     311\n0.500000     142\n0.333333      72\n0.250000      49\n0.142857      42\n0.200000      38\n0.125000      33\n0.166667      25\nName: count, dtype: int64"
     },
     "execution_count": 31,
     "metadata": {},
     "output_type": "execute_result"
    }
   ],
   "source": [
    "precision.precision.value_counts()"
   ],
   "metadata": {
    "collapsed": false
   }
  },
  {
   "cell_type": "code",
   "execution_count": 32,
   "outputs": [
    {
     "data": {
      "text/plain": "perc_c\n0.097625    10\n0.299525     9\n0.050875     8\n0.346375     7\n0.199700     7\n            ..\n0.451863     1\n0.501900     1\n0.049737     1\n0.100037     1\n0.100375     1\nName: count, Length: 551, dtype: int64"
     },
     "execution_count": 32,
     "metadata": {},
     "output_type": "execute_result"
    }
   ],
   "source": [
    "precision[precision.precision == 0].perc_c.value_counts()"
   ],
   "metadata": {
    "collapsed": false
   }
  },
  {
   "cell_type": "code",
   "execution_count": 33,
   "outputs": [
    {
     "data": {
      "text/plain": "       precision            m       perc_c\ncount     1386.0  1386.000000  1386.000000\nmean         0.0     1.551948     0.268638\nstd          0.0     1.098328     0.145308\nmin          0.0     1.000000     0.040087\n25%          0.0     1.000000     0.149162\n50%          0.0     1.000000     0.253750\n75%          0.0     2.000000     0.399713\nmax          0.0     8.000000     0.529162",
      "text/html": "<div>\n<style scoped>\n    .dataframe tbody tr th:only-of-type {\n        vertical-align: middle;\n    }\n\n    .dataframe tbody tr th {\n        vertical-align: top;\n    }\n\n    .dataframe thead th {\n        text-align: right;\n    }\n</style>\n<table border=\"1\" class=\"dataframe\">\n  <thead>\n    <tr style=\"text-align: right;\">\n      <th></th>\n      <th>precision</th>\n      <th>m</th>\n      <th>perc_c</th>\n    </tr>\n  </thead>\n  <tbody>\n    <tr>\n      <th>count</th>\n      <td>1386.0</td>\n      <td>1386.000000</td>\n      <td>1386.000000</td>\n    </tr>\n    <tr>\n      <th>mean</th>\n      <td>0.0</td>\n      <td>1.551948</td>\n      <td>0.268638</td>\n    </tr>\n    <tr>\n      <th>std</th>\n      <td>0.0</td>\n      <td>1.098328</td>\n      <td>0.145308</td>\n    </tr>\n    <tr>\n      <th>min</th>\n      <td>0.0</td>\n      <td>1.000000</td>\n      <td>0.040087</td>\n    </tr>\n    <tr>\n      <th>25%</th>\n      <td>0.0</td>\n      <td>1.000000</td>\n      <td>0.149162</td>\n    </tr>\n    <tr>\n      <th>50%</th>\n      <td>0.0</td>\n      <td>1.000000</td>\n      <td>0.253750</td>\n    </tr>\n    <tr>\n      <th>75%</th>\n      <td>0.0</td>\n      <td>2.000000</td>\n      <td>0.399713</td>\n    </tr>\n    <tr>\n      <th>max</th>\n      <td>0.0</td>\n      <td>8.000000</td>\n      <td>0.529162</td>\n    </tr>\n  </tbody>\n</table>\n</div>"
     },
     "execution_count": 33,
     "metadata": {},
     "output_type": "execute_result"
    }
   ],
   "source": [
    "precision[precision.precision == 0].describe()"
   ],
   "metadata": {
    "collapsed": false
   }
  },
  {
   "cell_type": "code",
   "execution_count": 34,
   "outputs": [],
   "source": [
    "### per N = 1\n",
    "### la precision non dipende molto dalla percentuale dei missing values\n",
    "### la differenza è della relevance: ho precision bassa se ho poche azioni comprese nella mia relevance"
   ],
   "metadata": {
    "collapsed": false
   }
  },
  {
   "cell_type": "code",
   "execution_count": 34,
   "outputs": [],
   "source": [],
   "metadata": {
    "collapsed": false
   }
  },
  {
   "cell_type": "code",
   "execution_count": 35,
   "outputs": [],
   "source": [
    "relevance = 0.001\n",
    "N = 3\n",
    "\n",
    "precision = []\n",
    "\n",
    "for i in range(0,len(rankings)):\n",
    "    v1 = rankings.loc[i].ranking_real\n",
    "    v2 = rankings.loc[i].ranking_pred\n",
    "    v3 = rankings.loc[i].value_real\n",
    "    v4 = rankings.loc[i].value_pred\n",
    "\n",
    "    ### prendo tutti i valori\n",
    "    rank_real = get_ranking_array(v1)\n",
    "    rank_pred = get_ranking_array(v2)\n",
    "    values_real = get_ranking_values_array(v3)\n",
    "    values_pred = get_ranking_values_array(v4)\n",
    "\n",
    "    ### calcolo m\n",
    "    indexes = np.where(values_real > (values_real[0] - relevance))[0]\n",
    "    m = len(indexes)\n",
    "    ### calcolo precision\n",
    "    P_k = 0\n",
    "    for j in range(0, N):\n",
    "        tech = rank_pred[j]\n",
    "        if tech in rank_real[indexes]:\n",
    "            P_k += 1\n",
    "    precision.append([rankings.loc[i].dataset,P_k/m,m,rankings.loc[i].perc_completeness])\n",
    "precision = pd.DataFrame(precision,columns=['dataset','precision','m','perc_c'])"
   ],
   "metadata": {
    "collapsed": false
   }
  },
  {
   "cell_type": "code",
   "execution_count": 36,
   "outputs": [
    {
     "data": {
      "text/plain": "precision\n1.000000    2062\n0.000000     731\n0.333333     431\n0.500000     210\n0.250000      49\n0.666667      34\n0.428571      29\n0.375000      26\n0.400000      24\n0.285714      16\n0.200000      16\n0.600000      15\n0.750000       8\n0.166667       7\n0.142857       2\nName: count, dtype: int64"
     },
     "execution_count": 36,
     "metadata": {},
     "output_type": "execute_result"
    }
   ],
   "source": [
    "precision.precision.value_counts()"
   ],
   "metadata": {
    "collapsed": false
   }
  },
  {
   "cell_type": "code",
   "execution_count": 37,
   "outputs": [
    {
     "data": {
      "text/plain": "        precision           m      perc_c\ncount  821.000000  821.000000  821.000000\nmean     0.026156    1.801462    0.267498\nstd      0.075565    1.528844    0.146207\nmin      0.000000    1.000000    0.040087\n25%      0.000000    1.000000    0.148950\n50%      0.000000    1.000000    0.253750\n75%      0.000000    2.000000    0.399763\nmax      0.285714    8.000000    0.529162",
      "text/html": "<div>\n<style scoped>\n    .dataframe tbody tr th:only-of-type {\n        vertical-align: middle;\n    }\n\n    .dataframe tbody tr th {\n        vertical-align: top;\n    }\n\n    .dataframe thead th {\n        text-align: right;\n    }\n</style>\n<table border=\"1\" class=\"dataframe\">\n  <thead>\n    <tr style=\"text-align: right;\">\n      <th></th>\n      <th>precision</th>\n      <th>m</th>\n      <th>perc_c</th>\n    </tr>\n  </thead>\n  <tbody>\n    <tr>\n      <th>count</th>\n      <td>821.000000</td>\n      <td>821.000000</td>\n      <td>821.000000</td>\n    </tr>\n    <tr>\n      <th>mean</th>\n      <td>0.026156</td>\n      <td>1.801462</td>\n      <td>0.267498</td>\n    </tr>\n    <tr>\n      <th>std</th>\n      <td>0.075565</td>\n      <td>1.528844</td>\n      <td>0.146207</td>\n    </tr>\n    <tr>\n      <th>min</th>\n      <td>0.000000</td>\n      <td>1.000000</td>\n      <td>0.040087</td>\n    </tr>\n    <tr>\n      <th>25%</th>\n      <td>0.000000</td>\n      <td>1.000000</td>\n      <td>0.148950</td>\n    </tr>\n    <tr>\n      <th>50%</th>\n      <td>0.000000</td>\n      <td>1.000000</td>\n      <td>0.253750</td>\n    </tr>\n    <tr>\n      <th>75%</th>\n      <td>0.000000</td>\n      <td>2.000000</td>\n      <td>0.399763</td>\n    </tr>\n    <tr>\n      <th>max</th>\n      <td>0.285714</td>\n      <td>8.000000</td>\n      <td>0.529162</td>\n    </tr>\n  </tbody>\n</table>\n</div>"
     },
     "execution_count": 37,
     "metadata": {},
     "output_type": "execute_result"
    }
   ],
   "source": [
    "precision[precision.precision < 0.3].describe()\n"
   ],
   "metadata": {
    "collapsed": false
   }
  },
  {
   "cell_type": "code",
   "execution_count": 38,
   "outputs": [],
   "source": [
    "### per N = 3\n",
    "### la precision non si capisce da cosa dipende ...\n",
    "### m è basso... precision bassa con m bassa ma la percentuale dei missing non è così bassa"
   ],
   "metadata": {
    "collapsed": false
   }
  },
  {
   "cell_type": "code",
   "execution_count": 39,
   "outputs": [
    {
     "data": {
      "text/plain": "       precision            m       perc_c\ncount     2062.0  2062.000000  2062.000000\nmean         1.0     1.034918     0.283392\nstd          0.0     0.188827     0.141821\nmin          1.0     1.000000     0.040087\n25%          1.0     1.000000     0.150400\n50%          1.0     1.000000     0.298012\n75%          1.0     1.000000     0.400794\nmax          1.0     3.000000     0.529162",
      "text/html": "<div>\n<style scoped>\n    .dataframe tbody tr th:only-of-type {\n        vertical-align: middle;\n    }\n\n    .dataframe tbody tr th {\n        vertical-align: top;\n    }\n\n    .dataframe thead th {\n        text-align: right;\n    }\n</style>\n<table border=\"1\" class=\"dataframe\">\n  <thead>\n    <tr style=\"text-align: right;\">\n      <th></th>\n      <th>precision</th>\n      <th>m</th>\n      <th>perc_c</th>\n    </tr>\n  </thead>\n  <tbody>\n    <tr>\n      <th>count</th>\n      <td>2062.0</td>\n      <td>2062.000000</td>\n      <td>2062.000000</td>\n    </tr>\n    <tr>\n      <th>mean</th>\n      <td>1.0</td>\n      <td>1.034918</td>\n      <td>0.283392</td>\n    </tr>\n    <tr>\n      <th>std</th>\n      <td>0.0</td>\n      <td>0.188827</td>\n      <td>0.141821</td>\n    </tr>\n    <tr>\n      <th>min</th>\n      <td>1.0</td>\n      <td>1.000000</td>\n      <td>0.040087</td>\n    </tr>\n    <tr>\n      <th>25%</th>\n      <td>1.0</td>\n      <td>1.000000</td>\n      <td>0.150400</td>\n    </tr>\n    <tr>\n      <th>50%</th>\n      <td>1.0</td>\n      <td>1.000000</td>\n      <td>0.298012</td>\n    </tr>\n    <tr>\n      <th>75%</th>\n      <td>1.0</td>\n      <td>1.000000</td>\n      <td>0.400794</td>\n    </tr>\n    <tr>\n      <th>max</th>\n      <td>1.0</td>\n      <td>3.000000</td>\n      <td>0.529162</td>\n    </tr>\n  </tbody>\n</table>\n</div>"
     },
     "execution_count": 39,
     "metadata": {},
     "output_type": "execute_result"
    }
   ],
   "source": [
    "precision[precision.precision > 0.75].describe()"
   ],
   "metadata": {
    "collapsed": false
   }
  },
  {
   "cell_type": "code",
   "execution_count": 40,
   "outputs": [
    {
     "data": {
      "text/plain": "         precision            m       perc_c\ncount  1590.000000  1590.000000  1590.000000\nmean      0.209802     3.735849     0.263580\nstd       0.208352     3.090929     0.145575\nmin       0.000000     1.000000     0.040087\n25%       0.000000     1.000000     0.148062\n50%       0.250000     2.000000     0.250663\n75%       0.333333     6.000000     0.398962\nmax       0.666667     9.000000     0.529162",
      "text/html": "<div>\n<style scoped>\n    .dataframe tbody tr th:only-of-type {\n        vertical-align: middle;\n    }\n\n    .dataframe tbody tr th {\n        vertical-align: top;\n    }\n\n    .dataframe thead th {\n        text-align: right;\n    }\n</style>\n<table border=\"1\" class=\"dataframe\">\n  <thead>\n    <tr style=\"text-align: right;\">\n      <th></th>\n      <th>precision</th>\n      <th>m</th>\n      <th>perc_c</th>\n    </tr>\n  </thead>\n  <tbody>\n    <tr>\n      <th>count</th>\n      <td>1590.000000</td>\n      <td>1590.000000</td>\n      <td>1590.000000</td>\n    </tr>\n    <tr>\n      <th>mean</th>\n      <td>0.209802</td>\n      <td>3.735849</td>\n      <td>0.263580</td>\n    </tr>\n    <tr>\n      <th>std</th>\n      <td>0.208352</td>\n      <td>3.090929</td>\n      <td>0.145575</td>\n    </tr>\n    <tr>\n      <th>min</th>\n      <td>0.000000</td>\n      <td>1.000000</td>\n      <td>0.040087</td>\n    </tr>\n    <tr>\n      <th>25%</th>\n      <td>0.000000</td>\n      <td>1.000000</td>\n      <td>0.148062</td>\n    </tr>\n    <tr>\n      <th>50%</th>\n      <td>0.250000</td>\n      <td>2.000000</td>\n      <td>0.250663</td>\n    </tr>\n    <tr>\n      <th>75%</th>\n      <td>0.333333</td>\n      <td>6.000000</td>\n      <td>0.398962</td>\n    </tr>\n    <tr>\n      <th>max</th>\n      <td>0.666667</td>\n      <td>9.000000</td>\n      <td>0.529162</td>\n    </tr>\n  </tbody>\n</table>\n</div>"
     },
     "execution_count": 40,
     "metadata": {},
     "output_type": "execute_result"
    }
   ],
   "source": [
    "precision[precision.precision < 0.75].describe()"
   ],
   "metadata": {
    "collapsed": false
   }
  },
  {
   "cell_type": "code",
   "execution_count": 41,
   "outputs": [],
   "source": [
    "### ok ora si vede: precision alta se m è piccolo quindi per quelle ossevazioni che hanno variabilità di performance\n",
    "### più m è grande più la precision si abbassa, sono più accurato se m rimane piccolo\n",
    "### non sembra dipenda dalla percentuale ma dalla variabilità di m"
   ],
   "metadata": {
    "collapsed": false
   }
  },
  {
   "cell_type": "code",
   "execution_count": 41,
   "outputs": [],
   "source": [],
   "metadata": {
    "collapsed": false
   }
  },
  {
   "cell_type": "code",
   "execution_count": 41,
   "outputs": [],
   "source": [],
   "metadata": {
    "collapsed": false
   }
  },
  {
   "cell_type": "code",
   "execution_count": 42,
   "outputs": [],
   "source": [
    "#relevance = 0.02\n",
    "N = 3\n",
    "m = 3\n",
    "\n",
    "precision = []\n",
    "\n",
    "for i in range(0, len(rankings)):\n",
    "    v1 = rankings.loc[i].ranking_real\n",
    "    v2 = rankings.loc[i].ranking_pred\n",
    "    v3 = rankings.loc[i].value_real\n",
    "    v4 = rankings.loc[i].value_pred\n",
    "\n",
    "    ### prendo tutti i valori\n",
    "    rank_real = get_ranking_array(v1)\n",
    "    rank_pred = get_ranking_array(v2)\n",
    "    values_real = get_ranking_values_array(v3)\n",
    "    values_pred = get_ranking_values_array(v4)\n",
    "\n",
    "    ### calcolo m\n",
    "    indexes = [0,1,2]\n",
    "    #m = len(indexes)\n",
    "    ### calcolo precision\n",
    "    P_k = 0\n",
    "    for j in range(0, N):\n",
    "        tech = rank_pred[j]\n",
    "        if tech in rank_real[indexes]:\n",
    "            P_k += 1\n",
    "    precision.append([rankings.loc[i].dataset,P_k/m,m,rankings.loc[i].perc_completeness])\n",
    "precision = pd.DataFrame(precision,columns=['dataset','precision','m','perc_c'])"
   ],
   "metadata": {
    "collapsed": false
   }
  },
  {
   "cell_type": "code",
   "execution_count": 43,
   "outputs": [
    {
     "data": {
      "text/plain": "precision\n0.333333    1702\n0.666667    1366\n0.000000     444\n1.000000     148\nName: count, dtype: int64"
     },
     "execution_count": 43,
     "metadata": {},
     "output_type": "execute_result"
    }
   ],
   "source": [
    "precision.precision.value_counts()"
   ],
   "metadata": {
    "collapsed": false
   }
  },
  {
   "cell_type": "code",
   "execution_count": 44,
   "outputs": [
    {
     "data": {
      "text/plain": "       precision      m      perc_c\ncount      148.0  148.0  148.000000\nmean         1.0    3.0    0.246628\nstd          0.0    0.0    0.131188\nmin          1.0    3.0    0.046000\n25%          1.0    3.0    0.146775\n50%          1.0    3.0    0.250381\n75%          1.0    3.0    0.348112\nmax          1.0    3.0    0.508337",
      "text/html": "<div>\n<style scoped>\n    .dataframe tbody tr th:only-of-type {\n        vertical-align: middle;\n    }\n\n    .dataframe tbody tr th {\n        vertical-align: top;\n    }\n\n    .dataframe thead th {\n        text-align: right;\n    }\n</style>\n<table border=\"1\" class=\"dataframe\">\n  <thead>\n    <tr style=\"text-align: right;\">\n      <th></th>\n      <th>precision</th>\n      <th>m</th>\n      <th>perc_c</th>\n    </tr>\n  </thead>\n  <tbody>\n    <tr>\n      <th>count</th>\n      <td>148.0</td>\n      <td>148.0</td>\n      <td>148.000000</td>\n    </tr>\n    <tr>\n      <th>mean</th>\n      <td>1.0</td>\n      <td>3.0</td>\n      <td>0.246628</td>\n    </tr>\n    <tr>\n      <th>std</th>\n      <td>0.0</td>\n      <td>0.0</td>\n      <td>0.131188</td>\n    </tr>\n    <tr>\n      <th>min</th>\n      <td>1.0</td>\n      <td>3.0</td>\n      <td>0.046000</td>\n    </tr>\n    <tr>\n      <th>25%</th>\n      <td>1.0</td>\n      <td>3.0</td>\n      <td>0.146775</td>\n    </tr>\n    <tr>\n      <th>50%</th>\n      <td>1.0</td>\n      <td>3.0</td>\n      <td>0.250381</td>\n    </tr>\n    <tr>\n      <th>75%</th>\n      <td>1.0</td>\n      <td>3.0</td>\n      <td>0.348112</td>\n    </tr>\n    <tr>\n      <th>max</th>\n      <td>1.0</td>\n      <td>3.0</td>\n      <td>0.508337</td>\n    </tr>\n  </tbody>\n</table>\n</div>"
     },
     "execution_count": 44,
     "metadata": {},
     "output_type": "execute_result"
    }
   ],
   "source": [
    "precision[precision.precision > 0.75].describe()"
   ],
   "metadata": {
    "collapsed": false
   }
  },
  {
   "cell_type": "code",
   "execution_count": 45,
   "outputs": [],
   "source": [
    "### precision fissa N = m = 3\n",
    "### nessun pattern..."
   ],
   "metadata": {
    "collapsed": false
   }
  },
  {
   "cell_type": "code",
   "execution_count": null,
   "outputs": [],
   "source": [],
   "metadata": {
    "collapsed": false
   }
  },
  {
   "cell_type": "code",
   "execution_count": null,
   "outputs": [],
   "source": [],
   "metadata": {
    "collapsed": false
   }
  }
 ],
 "metadata": {
  "kernelspec": {
   "display_name": "Python 3",
   "language": "python",
   "name": "python3"
  },
  "language_info": {
   "codemirror_mode": {
    "name": "ipython",
    "version": 2
   },
   "file_extension": ".py",
   "mimetype": "text/x-python",
   "name": "python",
   "nbconvert_exporter": "python",
   "pygments_lexer": "ipython2",
   "version": "2.7.6"
  }
 },
 "nbformat": 4,
 "nbformat_minor": 0
}
