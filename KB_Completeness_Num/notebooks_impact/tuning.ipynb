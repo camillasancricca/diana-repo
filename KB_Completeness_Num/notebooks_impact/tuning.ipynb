{
 "cells": [
  {
   "cell_type": "code",
   "execution_count": 1,
   "outputs": [],
   "source": [
    "import pandas as pd\n",
    "from sklearn.neighbors import KNeighborsRegressor\n",
    "from sklearn.preprocessing import StandardScaler\n",
    "import numpy as np\n",
    "from sklearn.metrics import root_mean_squared_error\n",
    "from scripts import kb\n",
    "\n",
    "kb_completeness = kb.get_kb_impact_completeness()\n",
    "\n",
    "datasets = kb_completeness.name.unique()\n",
    "objects = kb_completeness.column_name.unique()\n",
    "ml_algorithms = kb_completeness.ml_algorithm.unique()\n",
    "\n",
    "columns_X = ['n_tuples', 'uniqueness', 'min',\n",
    "       'max', 'mean', 'median', 'std', 'skewness', 'kurtosis', 'mad', 'iqr',\n",
    "       'p_min', 'p_max', 'k_min', 'k_max', 's_min', 's_max', 'entropy',\n",
    "       'density', 'missing_perc']\n",
    "\n",
    "techniques = ['impute_standard', 'impute_mean',\n",
    "       'impute_median', 'impute_random', 'impute_knn', 'impute_mice',\n",
    "       'impute_linear_regression', 'impute_random_forest', 'impute_cmeans']\n",
    "\n",
    "def training_testing_completeness(distance, k):\n",
    "    with open(\"../results/prediction_completeness.csv\", \"w\") as f1:\n",
    "        f1.write(\"dataset,model,technique,rmse\\n\")\n",
    "\n",
    "        for dataset in datasets:\n",
    "            for model in ml_algorithms:\n",
    "                for technique in techniques:\n",
    "\n",
    "                    data = kb_completeness.copy()\n",
    "\n",
    "                    df = data[(data[\"ml_algorithm\"] == model)].copy()\n",
    "\n",
    "                    train = df[df[\"name\"] != dataset]\n",
    "                    test = df[df[\"name\"] == dataset]\n",
    "\n",
    "                    X_train = train[columns_X]\n",
    "                    y_train = train[technique]\n",
    "                    X_test = test[columns_X]\n",
    "                    y_test = test[technique]\n",
    "\n",
    "                    X_test_not_scaled = X_test.reset_index(drop=True).copy()\n",
    "\n",
    "                    X_train = StandardScaler().fit_transform(X_train)\n",
    "                    X_train = np.nan_to_num(X_train)\n",
    "\n",
    "                    X_test = StandardScaler().fit_transform(X_test)\n",
    "                    X_test = np.nan_to_num(X_test)\n",
    "\n",
    "                    knn = KNeighborsRegressor(n_neighbors=k, metric=distance)\n",
    "                    knn.fit(X_train, y_train)\n",
    "\n",
    "                    y_pred = knn.predict(X_test)\n",
    "                    error = root_mean_squared_error(y_test, y_pred)\n",
    "                    #print(dataset+\": \"+str(error))\n",
    "                    f1.write(dataset + \",\" + model + \",\" + technique + \",\" + str(error) + \"\\n\")\n",
    "\n",
    "    data = pd.read_csv(\"../results/prediction_completeness.csv\")\n",
    "    print(\"Done! Final RMSE for \"+distance+\" and \"+str(k)+\" neighbours: \"+str(data.rmse.mean()))"
   ],
   "metadata": {
    "collapsed": false
   }
  },
  {
   "cell_type": "code",
   "execution_count": 2,
   "outputs": [
    {
     "name": "stdout",
     "output_type": "stream",
     "text": [
      "Done! Final RMSE for cosine and 14 neighbours: 0.03514512001250314\n",
      "Done! Final RMSE for euclidean and 14 neighbours: 0.036440963282997646\n",
      "Done! Final RMSE for manhattan and 14 neighbours: 0.03663092203344591\n"
     ]
    }
   ],
   "source": [
    "for distance in ['cosine','euclidean','manhattan']:\n",
    "    training_testing_completeness(distance, 14)"
   ],
   "metadata": {
    "collapsed": false
   }
  },
  {
   "cell_type": "code",
   "execution_count": 3,
   "outputs": [
    {
     "name": "stdout",
     "output_type": "stream",
     "text": [
      "Done! Final RMSE for cosine and 6 neighbours: 0.03991882602327664\n",
      "Done! Final RMSE for cosine and 8 neighbours: 0.03823708062485948\n",
      "Done! Final RMSE for cosine and 10 neighbours: 0.03698233010656723\n",
      "Done! Final RMSE for cosine and 12 neighbours: 0.03605985745717254\n",
      "Done! Final RMSE for cosine and 14 neighbours: 0.03514512001250314\n",
      "Done! Final RMSE for cosine and 16 neighbours: 0.03452365572771227\n"
     ]
    }
   ],
   "source": [
    "for k in [6,8,10,12,14,16]:\n",
    "    training_testing_completeness('cosine', k)"
   ],
   "metadata": {
    "collapsed": false
   }
  },
  {
   "cell_type": "code",
   "execution_count": 4,
   "outputs": [
    {
     "name": "stdout",
     "output_type": "stream",
     "text": [
      "Done! Final RMSE for cosine and 16 neighbours: 0.03452365572771227\n",
      "Done! Final RMSE for cosine and 17 neighbours: 0.0342498777287806\n",
      "Done! Final RMSE for cosine and 18 neighbours: 0.03400443314221963\n",
      "Done! Final RMSE for cosine and 19 neighbours: 0.03390497232970522\n",
      "Done! Final RMSE for cosine and 20 neighbours: 0.033661152309438454\n"
     ]
    }
   ],
   "source": [
    "for k in [16,17,18,19,20]:\n",
    "    training_testing_completeness('cosine', k)\n"
   ],
   "metadata": {
    "collapsed": false
   }
  },
  {
   "cell_type": "code",
   "execution_count": 5,
   "outputs": [
    {
     "name": "stdout",
     "output_type": "stream",
     "text": [
      "Done! Final RMSE for cosine and 28 neighbours: 0.032351080539066414\n",
      "Done! Final RMSE for cosine and 30 neighbours: 0.032118686903739174\n"
     ]
    }
   ],
   "source": [
    "for k in [28,30]:\n",
    "    training_testing_completeness('cosine', k)\n"
   ],
   "metadata": {
    "collapsed": false
   }
  },
  {
   "cell_type": "code",
   "execution_count": 6,
   "outputs": [
    {
     "name": "stdout",
     "output_type": "stream",
     "text": [
      "Done! Final RMSE for cosine and 35 neighbours: 0.0317248181517502\n",
      "Done! Final RMSE for cosine and 40 neighbours: 0.03138646296677046\n"
     ]
    }
   ],
   "source": [
    "for k in [35,40]:\n",
    "    training_testing_completeness('cosine', k)\n"
   ],
   "metadata": {
    "collapsed": false
   }
  },
  {
   "cell_type": "code",
   "execution_count": 7,
   "outputs": [
    {
     "name": "stdout",
     "output_type": "stream",
     "text": [
      "Done! Final RMSE for cosine and 29 neighbours: 0.03219946845616403\n",
      "Done! Final RMSE for cosine and 30 neighbours: 0.032118686903739174\n",
      "Done! Final RMSE for cosine and 31 neighbours: 0.032051922731198126\n",
      "Done! Final RMSE for cosine and 32 neighbours: 0.03195974552208088\n",
      "Done! Final RMSE for cosine and 33 neighbours: 0.0318356806844158\n"
     ]
    }
   ],
   "source": [
    "for k in [29,30,31,32,33]:\n",
    "    training_testing_completeness('cosine', k)\n"
   ],
   "metadata": {
    "collapsed": false
   }
  },
  {
   "cell_type": "code",
   "execution_count": 8,
   "outputs": [
    {
     "name": "stdout",
     "output_type": "stream",
     "text": [
      "Done! Final RMSE for cosine and 30 neighbours: 0.032118686903739174\n",
      "Done! Final RMSE for cosine and 31 neighbours: 0.032051922731198126\n",
      "Done! Final RMSE for cosine and 32 neighbours: 0.03195974552208088\n",
      "Done! Final RMSE for cosine and 33 neighbours: 0.0318356806844158\n",
      "Done! Final RMSE for cosine and 34 neighbours: 0.03176476447924047\n",
      "Done! Final RMSE for cosine and 35 neighbours: 0.0317248181517502\n"
     ]
    }
   ],
   "source": [
    "for k in [30,31,32,33,34,35]:\n",
    "    training_testing_completeness('cosine', k)"
   ],
   "metadata": {
    "collapsed": false
   }
  },
  {
   "cell_type": "code",
   "execution_count": 9,
   "outputs": [
    {
     "name": "stdout",
     "output_type": "stream",
     "text": [
      "Done! Final RMSE for cosine and 35 neighbours: 0.0317248181517502\n",
      "Done! Final RMSE for cosine and 36 neighbours: 0.03166176343107265\n",
      "Done! Final RMSE for cosine and 37 neighbours: 0.03159684311214556\n",
      "Done! Final RMSE for cosine and 38 neighbours: 0.03152310878860519\n",
      "Done! Final RMSE for cosine and 39 neighbours: 0.03145414605126418\n",
      "Done! Final RMSE for cosine and 40 neighbours: 0.03138646296677046\n"
     ]
    }
   ],
   "source": [
    "for k in [35,36,37,38,39,40]:\n",
    "    training_testing_completeness('cosine', k)"
   ],
   "metadata": {
    "collapsed": false
   }
  },
  {
   "cell_type": "code",
   "execution_count": 10,
   "outputs": [],
   "source": [
    "### best k = 35"
   ],
   "metadata": {
    "collapsed": false
   }
  },
  {
   "cell_type": "code",
   "execution_count": 11,
   "outputs": [
    {
     "name": "stdout",
     "output_type": "stream",
     "text": [
      "Done! Final RMSE for cosine and 35 neighbours: 0.0317248181517502\n",
      "Done! Final RMSE for euclidean and 35 neighbours: 0.0325425647202705\n",
      "Done! Final RMSE for manhattan and 35 neighbours: 0.0330465804309964\n"
     ]
    }
   ],
   "source": [
    "for distance in ['cosine','euclidean','manhattan']:\n",
    "    training_testing_completeness(distance, 35)\n"
   ],
   "metadata": {
    "collapsed": false
   }
  },
  {
   "cell_type": "code",
   "execution_count": null,
   "outputs": [],
   "source": [
    "### best distance is cosine\n"
   ],
   "metadata": {
    "collapsed": false
   }
  }
 ],
 "metadata": {
  "kernelspec": {
   "display_name": "Python 3",
   "language": "python",
   "name": "python3"
  },
  "language_info": {
   "codemirror_mode": {
    "name": "ipython",
    "version": 2
   },
   "file_extension": ".py",
   "mimetype": "text/x-python",
   "name": "python",
   "nbconvert_exporter": "python",
   "pygments_lexer": "ipython2",
   "version": "2.7.6"
  }
 },
 "nbformat": 4,
 "nbformat_minor": 0
}
