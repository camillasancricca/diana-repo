{
 "cells": [
  {
   "cell_type": "code",
   "execution_count": 1,
   "outputs": [],
   "source": [
    "import pandas as pd\n",
    "from scripts import tt\n",
    "from scripts import kb\n",
    "import numpy as np\n",
    "import warnings\n",
    "warnings.filterwarnings(\"ignore\")"
   ],
   "metadata": {
    "collapsed": false
   }
  },
  {
   "cell_type": "code",
   "execution_count": 2,
   "outputs": [],
   "source": [
    "#tt.training_testing_completeness()\n",
    "#tt.evaluate_techniques()"
   ],
   "metadata": {
    "collapsed": false
   }
  },
  {
   "cell_type": "code",
   "execution_count": 3,
   "outputs": [
    {
     "data": {
      "text/plain": "                       dataset               model  ranking_eval  \\\n0                    abalone_0        DecisionTree      0.111111   \n1                    abalone_0  LogisticRegression      0.333333   \n2                    abalone_0                 KNN      0.222222   \n3                    abalone_0        RandomForest      0.222222   \n4                    abalone_0            AdaBoost      0.111111   \n...                        ...                 ...           ...   \n3655  wall-robot-navigation_29  LogisticRegression      0.111111   \n3656  wall-robot-navigation_29                 KNN      0.222222   \n3657  wall-robot-navigation_29        RandomForest      0.000000   \n3658  wall-robot-navigation_29            AdaBoost      0.444444   \n3659  wall-robot-navigation_29                 SVC      0.222222   \n\n                                           ranking_real  \\\n0     ['impute_mean' 'impute_standard' 'impute_media...   \n1     ['impute_mean' 'impute_median' 'impute_cmeans'...   \n2     ['impute_mean' 'impute_knn' 'impute_mice' 'imp...   \n3     ['impute_median' 'impute_mean' 'impute_cmeans'...   \n4     ['impute_linear_regression' 'impute_mice' 'imp...   \n...                                                 ...   \n3655  ['impute_knn' 'impute_cmeans' 'impute_median' ...   \n3656  ['impute_knn' 'impute_mice' 'impute_linear_reg...   \n3657  ['impute_standard' 'impute_median' 'impute_lin...   \n3658  ['impute_standard' 'impute_mean' 'impute_media...   \n3659  ['impute_standard' 'impute_cmeans' 'impute_mic...   \n\n                                           ranking_pred  \\\n0     ['impute_standard' 'impute_mean' 'impute_knn' ...   \n1     ['impute_knn' 'impute_mean' 'impute_mice' 'imp...   \n2     ['impute_median' 'impute_mice' 'impute_linear_...   \n3     ['impute_median' 'impute_standard' 'impute_cme...   \n4     ['impute_knn' 'impute_standard' 'impute_median...   \n...                                                 ...   \n3655  ['impute_random_forest' 'impute_knn' 'impute_m...   \n3656  ['impute_random_forest' 'impute_knn' 'impute_c...   \n3657  ['impute_random_forest' 'impute_knn' 'impute_m...   \n3658  ['impute_random_forest' 'impute_knn' 'impute_m...   \n3659  ['impute_random_forest' 'impute_knn' 'impute_m...   \n\n                                             value_real  \\\n0     [0.16707319 0.16704874 0.16537502 0.16526472 0...   \n1     [0.16872575 0.16585032 0.1655464  0.16543962 0...   \n2     [0.16593125 0.16329103 0.16215553 0.1619183  0...   \n3     [0.17672358 0.17644679 0.17600835 0.17437514 0...   \n4     [0.09411561 0.09409112 0.09401387 0.09334411 0...   \n...                                                 ...   \n3655  [0.964648   0.96462096 0.96460825 0.96460037 0...   \n3656  [0.97729731 0.9769229  0.9769229  0.97644329 0...   \n3657  [0.99934886 0.99932996 0.99927241 0.99927236 0...   \n3658  [0.78056659 0.78056659 0.78056659 0.78056659 0...   \n3659  [0.95499468 0.95445163 0.95341345 0.95322383 0...   \n\n                                             value_pred  perc_completeness  \n0     [0.79539105 0.79374983 0.79242218 0.79156877 0...           0.497662  \n1     [0.79056445 0.7877749  0.78704733 0.7869225  0...           0.497662  \n2     [0.78419537 0.78248948 0.78246874 0.78245198 0...           0.497662  \n3     [0.80751399 0.80750866 0.80546981 0.80447213 0...           0.497662  \n4     [0.74057332 0.73841406 0.73751066 0.73670692 0...           0.497662  \n...                                                 ...                ...  \n3655  [0.83770106 0.83527944 0.82620699 0.82473523 0...           0.048850  \n3656  [0.86401913 0.86226973 0.85828151 0.8578658  0...           0.048850  \n3657  [0.88544796 0.88444583 0.88356224 0.88341593 0...           0.048850  \n3658  [0.62941717 0.6103673  0.59846881 0.59558506 0...           0.048850  \n3659  [0.82365567 0.82221815 0.81771453 0.81516312 0...           0.048850  \n\n[3660 rows x 8 columns]",
      "text/html": "<div>\n<style scoped>\n    .dataframe tbody tr th:only-of-type {\n        vertical-align: middle;\n    }\n\n    .dataframe tbody tr th {\n        vertical-align: top;\n    }\n\n    .dataframe thead th {\n        text-align: right;\n    }\n</style>\n<table border=\"1\" class=\"dataframe\">\n  <thead>\n    <tr style=\"text-align: right;\">\n      <th></th>\n      <th>dataset</th>\n      <th>model</th>\n      <th>ranking_eval</th>\n      <th>ranking_real</th>\n      <th>ranking_pred</th>\n      <th>value_real</th>\n      <th>value_pred</th>\n      <th>perc_completeness</th>\n    </tr>\n  </thead>\n  <tbody>\n    <tr>\n      <th>0</th>\n      <td>abalone_0</td>\n      <td>DecisionTree</td>\n      <td>0.111111</td>\n      <td>['impute_mean' 'impute_standard' 'impute_media...</td>\n      <td>['impute_standard' 'impute_mean' 'impute_knn' ...</td>\n      <td>[0.16707319 0.16704874 0.16537502 0.16526472 0...</td>\n      <td>[0.79539105 0.79374983 0.79242218 0.79156877 0...</td>\n      <td>0.497662</td>\n    </tr>\n    <tr>\n      <th>1</th>\n      <td>abalone_0</td>\n      <td>LogisticRegression</td>\n      <td>0.333333</td>\n      <td>['impute_mean' 'impute_median' 'impute_cmeans'...</td>\n      <td>['impute_knn' 'impute_mean' 'impute_mice' 'imp...</td>\n      <td>[0.16872575 0.16585032 0.1655464  0.16543962 0...</td>\n      <td>[0.79056445 0.7877749  0.78704733 0.7869225  0...</td>\n      <td>0.497662</td>\n    </tr>\n    <tr>\n      <th>2</th>\n      <td>abalone_0</td>\n      <td>KNN</td>\n      <td>0.222222</td>\n      <td>['impute_mean' 'impute_knn' 'impute_mice' 'imp...</td>\n      <td>['impute_median' 'impute_mice' 'impute_linear_...</td>\n      <td>[0.16593125 0.16329103 0.16215553 0.1619183  0...</td>\n      <td>[0.78419537 0.78248948 0.78246874 0.78245198 0...</td>\n      <td>0.497662</td>\n    </tr>\n    <tr>\n      <th>3</th>\n      <td>abalone_0</td>\n      <td>RandomForest</td>\n      <td>0.222222</td>\n      <td>['impute_median' 'impute_mean' 'impute_cmeans'...</td>\n      <td>['impute_median' 'impute_standard' 'impute_cme...</td>\n      <td>[0.17672358 0.17644679 0.17600835 0.17437514 0...</td>\n      <td>[0.80751399 0.80750866 0.80546981 0.80447213 0...</td>\n      <td>0.497662</td>\n    </tr>\n    <tr>\n      <th>4</th>\n      <td>abalone_0</td>\n      <td>AdaBoost</td>\n      <td>0.111111</td>\n      <td>['impute_linear_regression' 'impute_mice' 'imp...</td>\n      <td>['impute_knn' 'impute_standard' 'impute_median...</td>\n      <td>[0.09411561 0.09409112 0.09401387 0.09334411 0...</td>\n      <td>[0.74057332 0.73841406 0.73751066 0.73670692 0...</td>\n      <td>0.497662</td>\n    </tr>\n    <tr>\n      <th>...</th>\n      <td>...</td>\n      <td>...</td>\n      <td>...</td>\n      <td>...</td>\n      <td>...</td>\n      <td>...</td>\n      <td>...</td>\n      <td>...</td>\n    </tr>\n    <tr>\n      <th>3655</th>\n      <td>wall-robot-navigation_29</td>\n      <td>LogisticRegression</td>\n      <td>0.111111</td>\n      <td>['impute_knn' 'impute_cmeans' 'impute_median' ...</td>\n      <td>['impute_random_forest' 'impute_knn' 'impute_m...</td>\n      <td>[0.964648   0.96462096 0.96460825 0.96460037 0...</td>\n      <td>[0.83770106 0.83527944 0.82620699 0.82473523 0...</td>\n      <td>0.048850</td>\n    </tr>\n    <tr>\n      <th>3656</th>\n      <td>wall-robot-navigation_29</td>\n      <td>KNN</td>\n      <td>0.222222</td>\n      <td>['impute_knn' 'impute_mice' 'impute_linear_reg...</td>\n      <td>['impute_random_forest' 'impute_knn' 'impute_c...</td>\n      <td>[0.97729731 0.9769229  0.9769229  0.97644329 0...</td>\n      <td>[0.86401913 0.86226973 0.85828151 0.8578658  0...</td>\n      <td>0.048850</td>\n    </tr>\n    <tr>\n      <th>3657</th>\n      <td>wall-robot-navigation_29</td>\n      <td>RandomForest</td>\n      <td>0.000000</td>\n      <td>['impute_standard' 'impute_median' 'impute_lin...</td>\n      <td>['impute_random_forest' 'impute_knn' 'impute_m...</td>\n      <td>[0.99934886 0.99932996 0.99927241 0.99927236 0...</td>\n      <td>[0.88544796 0.88444583 0.88356224 0.88341593 0...</td>\n      <td>0.048850</td>\n    </tr>\n    <tr>\n      <th>3658</th>\n      <td>wall-robot-navigation_29</td>\n      <td>AdaBoost</td>\n      <td>0.444444</td>\n      <td>['impute_standard' 'impute_mean' 'impute_media...</td>\n      <td>['impute_random_forest' 'impute_knn' 'impute_m...</td>\n      <td>[0.78056659 0.78056659 0.78056659 0.78056659 0...</td>\n      <td>[0.62941717 0.6103673  0.59846881 0.59558506 0...</td>\n      <td>0.048850</td>\n    </tr>\n    <tr>\n      <th>3659</th>\n      <td>wall-robot-navigation_29</td>\n      <td>SVC</td>\n      <td>0.222222</td>\n      <td>['impute_standard' 'impute_cmeans' 'impute_mic...</td>\n      <td>['impute_random_forest' 'impute_knn' 'impute_m...</td>\n      <td>[0.95499468 0.95445163 0.95341345 0.95322383 0...</td>\n      <td>[0.82365567 0.82221815 0.81771453 0.81516312 0...</td>\n      <td>0.048850</td>\n    </tr>\n  </tbody>\n</table>\n<p>3660 rows × 8 columns</p>\n</div>"
     },
     "execution_count": 3,
     "metadata": {},
     "output_type": "execute_result"
    }
   ],
   "source": [
    "rankings = pd.read_csv(\"../results/techniques_completeness_evaluation_total.csv\")\n",
    "rankings"
   ],
   "metadata": {
    "collapsed": false
   }
  },
  {
   "cell_type": "code",
   "execution_count": 4,
   "outputs": [],
   "source": [
    "def get_ranking_values_array(s):\n",
    "    s = s.replace(\".        ]\",\".0]\")\n",
    "    s = s.replace(\"   \",\" \")\n",
    "    s = s.replace(\"  \",\" \")\n",
    "    s = s.replace(\" ]\",\"]\")\n",
    "    s = s.replace(\"\\'\",\"\")\n",
    "    s = s.replace(\"[\",\"\")\n",
    "    s = s.replace(\"]\",\"\")\n",
    "    s = s.replace(\"    \",\" \")\n",
    "    s = s.replace(\"   \",\" \")\n",
    "    s = s.replace(\"  \",\" \")\n",
    "    s = s.split(\" \")\n",
    "    s = np.array(s)\n",
    "    s = np.delete(s, np.where(s == ''))\n",
    "    s = s.astype(float)\n",
    "    return s\n",
    "\n",
    "def get_ranking_array(s):\n",
    "    s = s.replace(\".        ]\",\".0]\")\n",
    "    s = s.replace(\"   \",\" \")\n",
    "    s = s.replace(\"  \",\" \")\n",
    "    s = s.replace(\" ]\",\"]\")\n",
    "    s = s.replace(\"\\'\",\"\")\n",
    "    s = s.replace(\"[\",\"\")\n",
    "    s = s.replace(\"]\",\"\")\n",
    "    s = s.split(\" \")\n",
    "    s = np.array(s)\n",
    "    return s"
   ],
   "metadata": {
    "collapsed": false
   }
  },
  {
   "cell_type": "code",
   "execution_count": 4,
   "outputs": [],
   "source": [],
   "metadata": {
    "collapsed": false
   }
  },
  {
   "cell_type": "code",
   "execution_count": 5,
   "outputs": [],
   "source": [
    "### AVG PRECISION REC SYS"
   ],
   "metadata": {
    "collapsed": false
   }
  },
  {
   "cell_type": "code",
   "execution_count": 6,
   "outputs": [],
   "source": [
    "### avg precision (rec sys)\n",
    "\n",
    "###  sum(k=1-->N) 1/m * P(k)*rel(k)\n",
    "### where\n",
    "### m is the number of relevant item (the number of technique in a performance threshold), is variable\n",
    "### N is the number of item to recommend. is a variable: top1, top3...\n",
    "### P(k) is the precision at cutoff k\n",
    "### rel(k) is 1 if the item is relevant\n",
    "### P(k)*rel(k) --> +1 if the item is present in the most relevant, +0 otherwise"
   ],
   "metadata": {
    "collapsed": false
   }
  },
  {
   "cell_type": "code",
   "execution_count": 7,
   "outputs": [],
   "source": [
    "### relevance più adatta è 0.01! (vedere altro notebook per dettagli)"
   ],
   "metadata": {
    "collapsed": false
   }
  },
  {
   "cell_type": "code",
   "execution_count": 8,
   "outputs": [],
   "source": [
    "relevance = 0.01\n",
    "N = 1\n",
    "\n",
    "precision = []\n",
    "\n",
    "for i in range(0,len(rankings)):\n",
    "    v1 = rankings.loc[i].ranking_real\n",
    "    v2 = rankings.loc[i].ranking_pred\n",
    "    v3 = rankings.loc[i].value_real\n",
    "    v4 = rankings.loc[i].value_pred\n",
    "\n",
    "    ### prendo tutti i valori\n",
    "    rank_real = get_ranking_array(v1)\n",
    "    rank_pred = get_ranking_array(v2)\n",
    "    values_real = get_ranking_values_array(v3)\n",
    "    values_pred = get_ranking_values_array(v4)\n",
    "\n",
    "    ### calcolo m\n",
    "    indexes = np.where(values_real > (values_real[0] - relevance))[0]\n",
    "    m = len(indexes)\n",
    "    ### calcolo precision\n",
    "    P_k = 0\n",
    "    for j in range(0, N):\n",
    "        tech = rank_pred[j]\n",
    "        if tech in rank_real[indexes]:\n",
    "            P_k += 1\n",
    "    precision.append([rankings.loc[i].dataset,P_k/m,m,rankings.loc[i].perc_completeness])\n",
    "precision = pd.DataFrame(precision,columns=['dataset','precision','m','perc_c'])"
   ],
   "metadata": {
    "collapsed": false
   }
  },
  {
   "cell_type": "code",
   "execution_count": 9,
   "outputs": [
    {
     "data": {
      "text/plain": "                       dataset  precision  m    perc_c\n0                    abalone_0   0.111111  9  0.497662\n1                    abalone_0   0.142857  7  0.497662\n2                    abalone_0   0.111111  9  0.497662\n3                    abalone_0   0.111111  9  0.497662\n4                    abalone_0   0.125000  8  0.497662\n...                        ...        ... ..       ...\n3655  wall-robot-navigation_29   0.111111  9  0.048850\n3656  wall-robot-navigation_29   0.111111  9  0.048850\n3657  wall-robot-navigation_29   0.111111  9  0.048850\n3658  wall-robot-navigation_29   0.111111  9  0.048850\n3659  wall-robot-navigation_29   0.111111  9  0.048850\n\n[3660 rows x 4 columns]",
      "text/html": "<div>\n<style scoped>\n    .dataframe tbody tr th:only-of-type {\n        vertical-align: middle;\n    }\n\n    .dataframe tbody tr th {\n        vertical-align: top;\n    }\n\n    .dataframe thead th {\n        text-align: right;\n    }\n</style>\n<table border=\"1\" class=\"dataframe\">\n  <thead>\n    <tr style=\"text-align: right;\">\n      <th></th>\n      <th>dataset</th>\n      <th>precision</th>\n      <th>m</th>\n      <th>perc_c</th>\n    </tr>\n  </thead>\n  <tbody>\n    <tr>\n      <th>0</th>\n      <td>abalone_0</td>\n      <td>0.111111</td>\n      <td>9</td>\n      <td>0.497662</td>\n    </tr>\n    <tr>\n      <th>1</th>\n      <td>abalone_0</td>\n      <td>0.142857</td>\n      <td>7</td>\n      <td>0.497662</td>\n    </tr>\n    <tr>\n      <th>2</th>\n      <td>abalone_0</td>\n      <td>0.111111</td>\n      <td>9</td>\n      <td>0.497662</td>\n    </tr>\n    <tr>\n      <th>3</th>\n      <td>abalone_0</td>\n      <td>0.111111</td>\n      <td>9</td>\n      <td>0.497662</td>\n    </tr>\n    <tr>\n      <th>4</th>\n      <td>abalone_0</td>\n      <td>0.125000</td>\n      <td>8</td>\n      <td>0.497662</td>\n    </tr>\n    <tr>\n      <th>...</th>\n      <td>...</td>\n      <td>...</td>\n      <td>...</td>\n      <td>...</td>\n    </tr>\n    <tr>\n      <th>3655</th>\n      <td>wall-robot-navigation_29</td>\n      <td>0.111111</td>\n      <td>9</td>\n      <td>0.048850</td>\n    </tr>\n    <tr>\n      <th>3656</th>\n      <td>wall-robot-navigation_29</td>\n      <td>0.111111</td>\n      <td>9</td>\n      <td>0.048850</td>\n    </tr>\n    <tr>\n      <th>3657</th>\n      <td>wall-robot-navigation_29</td>\n      <td>0.111111</td>\n      <td>9</td>\n      <td>0.048850</td>\n    </tr>\n    <tr>\n      <th>3658</th>\n      <td>wall-robot-navigation_29</td>\n      <td>0.111111</td>\n      <td>9</td>\n      <td>0.048850</td>\n    </tr>\n    <tr>\n      <th>3659</th>\n      <td>wall-robot-navigation_29</td>\n      <td>0.111111</td>\n      <td>9</td>\n      <td>0.048850</td>\n    </tr>\n  </tbody>\n</table>\n<p>3660 rows × 4 columns</p>\n</div>"
     },
     "execution_count": 9,
     "metadata": {},
     "output_type": "execute_result"
    }
   ],
   "source": [
    "precision\n"
   ],
   "metadata": {
    "collapsed": false
   }
  },
  {
   "cell_type": "code",
   "execution_count": 10,
   "outputs": [
    {
     "data": {
      "text/plain": "np.float64(0.1111111111111111)"
     },
     "execution_count": 10,
     "metadata": {},
     "output_type": "execute_result"
    }
   ],
   "source": [
    "precision.precision.median()"
   ],
   "metadata": {
    "collapsed": false
   }
  },
  {
   "cell_type": "code",
   "execution_count": 11,
   "outputs": [
    {
     "data": {
      "text/plain": "precision\n0.111111    1772\n0.125000     697\n0.000000     546\n0.142857     202\n0.500000     124\n0.166667      93\n0.200000      67\n0.250000      62\n1.000000      49\n0.333333      48\nName: count, dtype: int64"
     },
     "execution_count": 11,
     "metadata": {},
     "output_type": "execute_result"
    }
   ],
   "source": [
    "precision.precision.value_counts()"
   ],
   "metadata": {
    "collapsed": false
   }
  },
  {
   "cell_type": "code",
   "execution_count": 12,
   "outputs": [
    {
     "data": {
      "text/plain": "perc_c\n0.506250    6\n0.364175    6\n0.455000    6\n0.397500    6\n0.353750    6\n           ..\n0.106550    1\n0.256975    1\n0.101050    1\n0.097500    1\n0.449987    1\nName: count, Length: 346, dtype: int64"
     },
     "execution_count": 12,
     "metadata": {},
     "output_type": "execute_result"
    }
   ],
   "source": [
    "precision[precision.precision == 0].perc_c.value_counts()"
   ],
   "metadata": {
    "collapsed": false
   }
  },
  {
   "cell_type": "code",
   "execution_count": 13,
   "outputs": [
    {
     "data": {
      "text/plain": "       precision           m      perc_c\ncount      546.0  546.000000  546.000000\nmean         0.0    2.979853    0.295788\nstd          0.0    2.071554    0.145585\nmin          0.0    1.000000    0.040087\n25%          0.0    1.000000    0.150400\n50%          0.0    2.000000    0.300306\n75%          0.0    4.000000    0.410837\nmax          0.0    8.000000    0.529162",
      "text/html": "<div>\n<style scoped>\n    .dataframe tbody tr th:only-of-type {\n        vertical-align: middle;\n    }\n\n    .dataframe tbody tr th {\n        vertical-align: top;\n    }\n\n    .dataframe thead th {\n        text-align: right;\n    }\n</style>\n<table border=\"1\" class=\"dataframe\">\n  <thead>\n    <tr style=\"text-align: right;\">\n      <th></th>\n      <th>precision</th>\n      <th>m</th>\n      <th>perc_c</th>\n    </tr>\n  </thead>\n  <tbody>\n    <tr>\n      <th>count</th>\n      <td>546.0</td>\n      <td>546.000000</td>\n      <td>546.000000</td>\n    </tr>\n    <tr>\n      <th>mean</th>\n      <td>0.0</td>\n      <td>2.979853</td>\n      <td>0.295788</td>\n    </tr>\n    <tr>\n      <th>std</th>\n      <td>0.0</td>\n      <td>2.071554</td>\n      <td>0.145585</td>\n    </tr>\n    <tr>\n      <th>min</th>\n      <td>0.0</td>\n      <td>1.000000</td>\n      <td>0.040087</td>\n    </tr>\n    <tr>\n      <th>25%</th>\n      <td>0.0</td>\n      <td>1.000000</td>\n      <td>0.150400</td>\n    </tr>\n    <tr>\n      <th>50%</th>\n      <td>0.0</td>\n      <td>2.000000</td>\n      <td>0.300306</td>\n    </tr>\n    <tr>\n      <th>75%</th>\n      <td>0.0</td>\n      <td>4.000000</td>\n      <td>0.410837</td>\n    </tr>\n    <tr>\n      <th>max</th>\n      <td>0.0</td>\n      <td>8.000000</td>\n      <td>0.529162</td>\n    </tr>\n  </tbody>\n</table>\n</div>"
     },
     "execution_count": 13,
     "metadata": {},
     "output_type": "execute_result"
    }
   ],
   "source": [
    "precision[precision.precision == 0].describe()"
   ],
   "metadata": {
    "collapsed": false
   }
  },
  {
   "cell_type": "code",
   "execution_count": 14,
   "outputs": [],
   "source": [
    "### per N = 1\n",
    "### la precision non dipende molto dalla percentuale dei missing values\n",
    "### la differenza è della relevance: ho precision bassa se ho poche azioni comprese nella mia relevance"
   ],
   "metadata": {
    "collapsed": false
   }
  },
  {
   "cell_type": "code",
   "execution_count": 14,
   "outputs": [],
   "source": [],
   "metadata": {
    "collapsed": false
   }
  },
  {
   "cell_type": "code",
   "execution_count": 15,
   "outputs": [],
   "source": [
    "relevance = 0.01\n",
    "N = 3\n",
    "\n",
    "precision = []\n",
    "\n",
    "for i in range(0,len(rankings)):\n",
    "    v1 = rankings.loc[i].ranking_real\n",
    "    v2 = rankings.loc[i].ranking_pred\n",
    "    v3 = rankings.loc[i].value_real\n",
    "    v4 = rankings.loc[i].value_pred\n",
    "\n",
    "    ### prendo tutti i valori\n",
    "    rank_real = get_ranking_array(v1)\n",
    "    rank_pred = get_ranking_array(v2)\n",
    "    values_real = get_ranking_values_array(v3)\n",
    "    values_pred = get_ranking_values_array(v4)\n",
    "\n",
    "    ### calcolo m\n",
    "    indexes = np.where(values_real > (values_real[0] - relevance))[0]\n",
    "    m = len(indexes)\n",
    "    ### calcolo precision\n",
    "    P_k = 0\n",
    "    for j in range(0, N):\n",
    "        tech = rank_pred[j]\n",
    "        if tech in rank_real[indexes]:\n",
    "            P_k += 1\n",
    "    precision.append([rankings.loc[i].dataset,P_k/m,m,rankings.loc[i].perc_completeness])\n",
    "precision = pd.DataFrame(precision,columns=['dataset','precision','m','perc_c'])"
   ],
   "metadata": {
    "collapsed": false
   }
  },
  {
   "cell_type": "code",
   "execution_count": 16,
   "outputs": [
    {
     "data": {
      "text/plain": "precision\n0.333333    1884\n0.375000     684\n0.000000     235\n1.000000     192\n0.500000     184\n0.428571     153\n0.285714      85\n0.250000      70\n0.400000      55\n0.200000      34\n0.666667      27\n0.600000      21\n0.166667      18\n0.750000      16\n0.142857       2\nName: count, dtype: int64"
     },
     "execution_count": 16,
     "metadata": {},
     "output_type": "execute_result"
    }
   ],
   "source": [
    "precision.precision.value_counts()"
   ],
   "metadata": {
    "collapsed": false
   }
  },
  {
   "cell_type": "code",
   "execution_count": 17,
   "outputs": [
    {
     "data": {
      "text/plain": "        precision           m      perc_c\ncount  444.000000  444.000000  444.000000\nmean     0.116828    3.808559    0.292172\nstd      0.127084    2.478225    0.146715\nmin      0.000000    1.000000    0.040087\n25%      0.000000    1.000000    0.150419\n50%      0.000000    4.000000    0.300137\n75%      0.250000    7.000000    0.403625\nmax      0.285714    8.000000    0.511475",
      "text/html": "<div>\n<style scoped>\n    .dataframe tbody tr th:only-of-type {\n        vertical-align: middle;\n    }\n\n    .dataframe tbody tr th {\n        vertical-align: top;\n    }\n\n    .dataframe thead th {\n        text-align: right;\n    }\n</style>\n<table border=\"1\" class=\"dataframe\">\n  <thead>\n    <tr style=\"text-align: right;\">\n      <th></th>\n      <th>precision</th>\n      <th>m</th>\n      <th>perc_c</th>\n    </tr>\n  </thead>\n  <tbody>\n    <tr>\n      <th>count</th>\n      <td>444.000000</td>\n      <td>444.000000</td>\n      <td>444.000000</td>\n    </tr>\n    <tr>\n      <th>mean</th>\n      <td>0.116828</td>\n      <td>3.808559</td>\n      <td>0.292172</td>\n    </tr>\n    <tr>\n      <th>std</th>\n      <td>0.127084</td>\n      <td>2.478225</td>\n      <td>0.146715</td>\n    </tr>\n    <tr>\n      <th>min</th>\n      <td>0.000000</td>\n      <td>1.000000</td>\n      <td>0.040087</td>\n    </tr>\n    <tr>\n      <th>25%</th>\n      <td>0.000000</td>\n      <td>1.000000</td>\n      <td>0.150419</td>\n    </tr>\n    <tr>\n      <th>50%</th>\n      <td>0.000000</td>\n      <td>4.000000</td>\n      <td>0.300137</td>\n    </tr>\n    <tr>\n      <th>75%</th>\n      <td>0.250000</td>\n      <td>7.000000</td>\n      <td>0.403625</td>\n    </tr>\n    <tr>\n      <th>max</th>\n      <td>0.285714</td>\n      <td>8.000000</td>\n      <td>0.511475</td>\n    </tr>\n  </tbody>\n</table>\n</div>"
     },
     "execution_count": 17,
     "metadata": {},
     "output_type": "execute_result"
    }
   ],
   "source": [
    "precision[precision.precision < 0.3].describe()\n"
   ],
   "metadata": {
    "collapsed": false
   }
  },
  {
   "cell_type": "code",
   "execution_count": 18,
   "outputs": [],
   "source": [
    "### per N = 3\n",
    "### la precision non si capisce da cosa dipende ...\n",
    "### m è basso... precision bassa con m bassa ma la percentuale dei missing non è così bassa"
   ],
   "metadata": {
    "collapsed": false
   }
  },
  {
   "cell_type": "code",
   "execution_count": 19,
   "outputs": [
    {
     "data": {
      "text/plain": "       precision           m      perc_c\ncount      192.0  192.000000  192.000000\nmean         1.0    1.484375    0.283964\nstd          0.0    0.531486    0.133239\nmin          1.0    1.000000    0.040087\n25%          1.0    1.000000    0.199928\n50%          1.0    1.000000    0.279162\n75%          1.0    2.000000    0.399884\nmax          1.0    3.000000    0.502100",
      "text/html": "<div>\n<style scoped>\n    .dataframe tbody tr th:only-of-type {\n        vertical-align: middle;\n    }\n\n    .dataframe tbody tr th {\n        vertical-align: top;\n    }\n\n    .dataframe thead th {\n        text-align: right;\n    }\n</style>\n<table border=\"1\" class=\"dataframe\">\n  <thead>\n    <tr style=\"text-align: right;\">\n      <th></th>\n      <th>precision</th>\n      <th>m</th>\n      <th>perc_c</th>\n    </tr>\n  </thead>\n  <tbody>\n    <tr>\n      <th>count</th>\n      <td>192.0</td>\n      <td>192.000000</td>\n      <td>192.000000</td>\n    </tr>\n    <tr>\n      <th>mean</th>\n      <td>1.0</td>\n      <td>1.484375</td>\n      <td>0.283964</td>\n    </tr>\n    <tr>\n      <th>std</th>\n      <td>0.0</td>\n      <td>0.531486</td>\n      <td>0.133239</td>\n    </tr>\n    <tr>\n      <th>min</th>\n      <td>1.0</td>\n      <td>1.000000</td>\n      <td>0.040087</td>\n    </tr>\n    <tr>\n      <th>25%</th>\n      <td>1.0</td>\n      <td>1.000000</td>\n      <td>0.199928</td>\n    </tr>\n    <tr>\n      <th>50%</th>\n      <td>1.0</td>\n      <td>1.000000</td>\n      <td>0.279162</td>\n    </tr>\n    <tr>\n      <th>75%</th>\n      <td>1.0</td>\n      <td>2.000000</td>\n      <td>0.399884</td>\n    </tr>\n    <tr>\n      <th>max</th>\n      <td>1.0</td>\n      <td>3.000000</td>\n      <td>0.502100</td>\n    </tr>\n  </tbody>\n</table>\n</div>"
     },
     "execution_count": 19,
     "metadata": {},
     "output_type": "execute_result"
    }
   ],
   "source": [
    "precision[precision.precision > 0.75].describe()"
   ],
   "metadata": {
    "collapsed": false
   }
  },
  {
   "cell_type": "code",
   "execution_count": 20,
   "outputs": [
    {
     "data": {
      "text/plain": "         precision            m       perc_c\ncount  3452.000000  3452.000000  3452.000000\nmean      0.332139     7.473349     0.274133\nstd       0.108179     2.326977     0.144516\nmin       0.000000     1.000000     0.040087\n25%       0.333333     7.000000     0.149762\n50%       0.333333     9.000000     0.267500\n75%       0.375000     9.000000     0.400237\nmax       0.666667     9.000000     0.529162",
      "text/html": "<div>\n<style scoped>\n    .dataframe tbody tr th:only-of-type {\n        vertical-align: middle;\n    }\n\n    .dataframe tbody tr th {\n        vertical-align: top;\n    }\n\n    .dataframe thead th {\n        text-align: right;\n    }\n</style>\n<table border=\"1\" class=\"dataframe\">\n  <thead>\n    <tr style=\"text-align: right;\">\n      <th></th>\n      <th>precision</th>\n      <th>m</th>\n      <th>perc_c</th>\n    </tr>\n  </thead>\n  <tbody>\n    <tr>\n      <th>count</th>\n      <td>3452.000000</td>\n      <td>3452.000000</td>\n      <td>3452.000000</td>\n    </tr>\n    <tr>\n      <th>mean</th>\n      <td>0.332139</td>\n      <td>7.473349</td>\n      <td>0.274133</td>\n    </tr>\n    <tr>\n      <th>std</th>\n      <td>0.108179</td>\n      <td>2.326977</td>\n      <td>0.144516</td>\n    </tr>\n    <tr>\n      <th>min</th>\n      <td>0.000000</td>\n      <td>1.000000</td>\n      <td>0.040087</td>\n    </tr>\n    <tr>\n      <th>25%</th>\n      <td>0.333333</td>\n      <td>7.000000</td>\n      <td>0.149762</td>\n    </tr>\n    <tr>\n      <th>50%</th>\n      <td>0.333333</td>\n      <td>9.000000</td>\n      <td>0.267500</td>\n    </tr>\n    <tr>\n      <th>75%</th>\n      <td>0.375000</td>\n      <td>9.000000</td>\n      <td>0.400237</td>\n    </tr>\n    <tr>\n      <th>max</th>\n      <td>0.666667</td>\n      <td>9.000000</td>\n      <td>0.529162</td>\n    </tr>\n  </tbody>\n</table>\n</div>"
     },
     "execution_count": 20,
     "metadata": {},
     "output_type": "execute_result"
    }
   ],
   "source": [
    "precision[precision.precision < 0.75].describe()"
   ],
   "metadata": {
    "collapsed": false
   }
  },
  {
   "cell_type": "code",
   "execution_count": 21,
   "outputs": [],
   "source": [
    "### ok ora si vede: precision alta se m è piccolo quindi per quelle ossevazioni che hanno variabilità di performance\n",
    "### più m è grande più la precision si abbassa, sono più accurato se m rimane piccolo\n",
    "### non sembra dipenda dalla percentuale ma dalla variabilità di m"
   ],
   "metadata": {
    "collapsed": false
   }
  },
  {
   "cell_type": "code",
   "execution_count": 21,
   "outputs": [],
   "source": [],
   "metadata": {
    "collapsed": false
   }
  },
  {
   "cell_type": "code",
   "execution_count": 21,
   "outputs": [],
   "source": [],
   "metadata": {
    "collapsed": false
   }
  },
  {
   "cell_type": "code",
   "execution_count": 22,
   "outputs": [],
   "source": [
    "#relevance = 0.02\n",
    "N = 3\n",
    "m = 3\n",
    "\n",
    "precision = []\n",
    "\n",
    "for i in range(0, len(rankings)):\n",
    "    v1 = rankings.loc[i].ranking_real\n",
    "    v2 = rankings.loc[i].ranking_pred\n",
    "    v3 = rankings.loc[i].value_real\n",
    "    v4 = rankings.loc[i].value_pred\n",
    "\n",
    "    ### prendo tutti i valori\n",
    "    rank_real = get_ranking_array(v1)\n",
    "    rank_pred = get_ranking_array(v2)\n",
    "    values_real = get_ranking_values_array(v3)\n",
    "    values_pred = get_ranking_values_array(v4)\n",
    "\n",
    "    ### calcolo m\n",
    "    indexes = [0,1,2]\n",
    "    #m = len(indexes)\n",
    "    ### calcolo precision\n",
    "    P_k = 0\n",
    "    for j in range(0, N):\n",
    "        tech = rank_pred[j]\n",
    "        if tech in rank_real[indexes]:\n",
    "            P_k += 1\n",
    "    precision.append([rankings.loc[i].dataset,P_k/m,m,rankings.loc[i].perc_completeness])\n",
    "precision = pd.DataFrame(precision,columns=['dataset','precision','m','perc_c'])"
   ],
   "metadata": {
    "collapsed": false
   }
  },
  {
   "cell_type": "code",
   "execution_count": 23,
   "outputs": [
    {
     "data": {
      "text/plain": "precision\n0.333333    1718\n0.666667    1087\n0.000000     708\n1.000000     147\nName: count, dtype: int64"
     },
     "execution_count": 23,
     "metadata": {},
     "output_type": "execute_result"
    }
   ],
   "source": [
    "precision.precision.value_counts()"
   ],
   "metadata": {
    "collapsed": false
   }
  },
  {
   "cell_type": "code",
   "execution_count": 27,
   "outputs": [
    {
     "data": {
      "text/plain": "         precision       m       perc_c\ncount  3513.000000  3513.0  3513.000000\nmean      0.369295     3.0     0.274821\nstd       0.235575     0.0     0.143710\nmin       0.000000     3.0     0.040087\n25%       0.333333     3.0     0.149875\n50%       0.333333     3.0     0.275000\n75%       0.666667     3.0     0.400200\nmax       0.666667     3.0     0.529162",
      "text/html": "<div>\n<style scoped>\n    .dataframe tbody tr th:only-of-type {\n        vertical-align: middle;\n    }\n\n    .dataframe tbody tr th {\n        vertical-align: top;\n    }\n\n    .dataframe thead th {\n        text-align: right;\n    }\n</style>\n<table border=\"1\" class=\"dataframe\">\n  <thead>\n    <tr style=\"text-align: right;\">\n      <th></th>\n      <th>precision</th>\n      <th>m</th>\n      <th>perc_c</th>\n    </tr>\n  </thead>\n  <tbody>\n    <tr>\n      <th>count</th>\n      <td>3513.000000</td>\n      <td>3513.0</td>\n      <td>3513.000000</td>\n    </tr>\n    <tr>\n      <th>mean</th>\n      <td>0.369295</td>\n      <td>3.0</td>\n      <td>0.274821</td>\n    </tr>\n    <tr>\n      <th>std</th>\n      <td>0.235575</td>\n      <td>0.0</td>\n      <td>0.143710</td>\n    </tr>\n    <tr>\n      <th>min</th>\n      <td>0.000000</td>\n      <td>3.0</td>\n      <td>0.040087</td>\n    </tr>\n    <tr>\n      <th>25%</th>\n      <td>0.333333</td>\n      <td>3.0</td>\n      <td>0.149875</td>\n    </tr>\n    <tr>\n      <th>50%</th>\n      <td>0.333333</td>\n      <td>3.0</td>\n      <td>0.275000</td>\n    </tr>\n    <tr>\n      <th>75%</th>\n      <td>0.666667</td>\n      <td>3.0</td>\n      <td>0.400200</td>\n    </tr>\n    <tr>\n      <th>max</th>\n      <td>0.666667</td>\n      <td>3.0</td>\n      <td>0.529162</td>\n    </tr>\n  </tbody>\n</table>\n</div>"
     },
     "execution_count": 27,
     "metadata": {},
     "output_type": "execute_result"
    }
   ],
   "source": [
    "precision[precision.precision < 0.75].describe()"
   ],
   "metadata": {
    "collapsed": false
   }
  },
  {
   "cell_type": "code",
   "execution_count": 28,
   "outputs": [
    {
     "data": {
      "text/plain": "       precision      m      perc_c\ncount      147.0  147.0  147.000000\nmean         1.0    3.0    0.275941\nstd          0.0    0.0    0.147569\nmin          1.0    3.0    0.046650\n25%          1.0    3.0    0.149394\n50%          1.0    3.0    0.252075\n75%          1.0    3.0    0.400812\nmax          1.0    3.0    0.502100",
      "text/html": "<div>\n<style scoped>\n    .dataframe tbody tr th:only-of-type {\n        vertical-align: middle;\n    }\n\n    .dataframe tbody tr th {\n        vertical-align: top;\n    }\n\n    .dataframe thead th {\n        text-align: right;\n    }\n</style>\n<table border=\"1\" class=\"dataframe\">\n  <thead>\n    <tr style=\"text-align: right;\">\n      <th></th>\n      <th>precision</th>\n      <th>m</th>\n      <th>perc_c</th>\n    </tr>\n  </thead>\n  <tbody>\n    <tr>\n      <th>count</th>\n      <td>147.0</td>\n      <td>147.0</td>\n      <td>147.000000</td>\n    </tr>\n    <tr>\n      <th>mean</th>\n      <td>1.0</td>\n      <td>3.0</td>\n      <td>0.275941</td>\n    </tr>\n    <tr>\n      <th>std</th>\n      <td>0.0</td>\n      <td>0.0</td>\n      <td>0.147569</td>\n    </tr>\n    <tr>\n      <th>min</th>\n      <td>1.0</td>\n      <td>3.0</td>\n      <td>0.046650</td>\n    </tr>\n    <tr>\n      <th>25%</th>\n      <td>1.0</td>\n      <td>3.0</td>\n      <td>0.149394</td>\n    </tr>\n    <tr>\n      <th>50%</th>\n      <td>1.0</td>\n      <td>3.0</td>\n      <td>0.252075</td>\n    </tr>\n    <tr>\n      <th>75%</th>\n      <td>1.0</td>\n      <td>3.0</td>\n      <td>0.400812</td>\n    </tr>\n    <tr>\n      <th>max</th>\n      <td>1.0</td>\n      <td>3.0</td>\n      <td>0.502100</td>\n    </tr>\n  </tbody>\n</table>\n</div>"
     },
     "execution_count": 28,
     "metadata": {},
     "output_type": "execute_result"
    }
   ],
   "source": [
    "precision[precision.precision > 0.75].describe()"
   ],
   "metadata": {
    "collapsed": false
   }
  },
  {
   "cell_type": "code",
   "execution_count": 25,
   "outputs": [],
   "source": [
    "### precision fissa N = m = 3\n",
    "### nessun pattern..."
   ],
   "metadata": {
    "collapsed": false
   }
  },
  {
   "cell_type": "code",
   "execution_count": null,
   "outputs": [],
   "source": [],
   "metadata": {
    "collapsed": false
   }
  },
  {
   "cell_type": "code",
   "execution_count": null,
   "outputs": [],
   "source": [],
   "metadata": {
    "collapsed": false
   }
  }
 ],
 "metadata": {
  "kernelspec": {
   "display_name": "Python 3",
   "language": "python",
   "name": "python3"
  },
  "language_info": {
   "codemirror_mode": {
    "name": "ipython",
    "version": 2
   },
   "file_extension": ".py",
   "mimetype": "text/x-python",
   "name": "python",
   "nbconvert_exporter": "python",
   "pygments_lexer": "ipython2",
   "version": "2.7.6"
  }
 },
 "nbformat": 4,
 "nbformat_minor": 0
}
