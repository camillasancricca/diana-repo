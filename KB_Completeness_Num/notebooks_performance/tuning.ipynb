{
 "cells": [
  {
   "cell_type": "code",
   "execution_count": 3,
   "outputs": [],
   "source": [
    "import pandas as pd\n",
    "from sklearn.neighbors import KNeighborsRegressor\n",
    "from sklearn.preprocessing import StandardScaler\n",
    "import numpy as np\n",
    "from sklearn.metrics import root_mean_squared_error\n",
    "from scripts import kb\n",
    "\n",
    "kb_completeness = kb.get_kb_completeness()\n",
    "\n",
    "datasets = kb_completeness.name.unique()\n",
    "objects = kb_completeness.column_name.unique()\n",
    "ml_algorithms = kb_completeness.ml_algorithm.unique()\n",
    "\n",
    "columns_X = ['n_tuples', 'uniqueness', 'min',\n",
    "       'max', 'mean', 'median', 'std', 'skewness', 'kurtosis', 'mad', 'iqr',\n",
    "       'p_min', 'p_max', 'k_min', 'k_max', 's_min', 's_max', 'entropy',\n",
    "       'density', 'missing_perc']\n",
    "\n",
    "techniques = ['impute_standard', 'impute_mean',\n",
    "       'impute_median', 'impute_random', 'impute_knn', 'impute_mice',\n",
    "       'impute_linear_regression', 'impute_random_forest', 'impute_cmeans']\n",
    "\n",
    "def training_testing_completeness(distance, k):\n",
    "    with open(\"../results/prediction_completeness.csv\", \"w\") as f1:\n",
    "        f1.write(\"dataset,model,technique,rmse\\n\")\n",
    "\n",
    "        for dataset in datasets:\n",
    "            for model in ml_algorithms:\n",
    "                for technique in techniques:\n",
    "\n",
    "                    data = kb_completeness.copy()\n",
    "\n",
    "                    df = data[(data[\"ml_algorithm\"] == model)].copy()\n",
    "\n",
    "                    train = df[df[\"name\"] != dataset]\n",
    "                    test = df[df[\"name\"] == dataset]\n",
    "\n",
    "                    X_train = train[columns_X]\n",
    "                    y_train = train[technique]\n",
    "                    X_test = test[columns_X]\n",
    "                    y_test = test[technique]\n",
    "\n",
    "                    X_test_not_scaled = X_test.reset_index(drop=True).copy()\n",
    "\n",
    "                    X_train = StandardScaler().fit_transform(X_train)\n",
    "                    X_train = np.nan_to_num(X_train)\n",
    "\n",
    "                    X_test = StandardScaler().fit_transform(X_test)\n",
    "                    X_test = np.nan_to_num(X_test)\n",
    "\n",
    "                    knn = KNeighborsRegressor(n_neighbors=k, metric=distance)\n",
    "                    knn.fit(X_train, y_train)\n",
    "\n",
    "                    y_pred = knn.predict(X_test)\n",
    "                    error = root_mean_squared_error(y_test, y_pred)\n",
    "                    #print(dataset+\": \"+str(error))\n",
    "                    f1.write(dataset + \",\" + model + \",\" + technique + \",\" + str(error) + \"\\n\")\n",
    "\n",
    "    data = pd.read_csv(\"../results/prediction_completeness.csv\")\n",
    "    print(\"Done! Final RMSE for \"+distance+\" and \"+str(k)+\" neighbours: \"+str(data.rmse.mean()))"
   ],
   "metadata": {
    "collapsed": false
   }
  },
  {
   "cell_type": "code",
   "execution_count": 4,
   "outputs": [
    {
     "name": "stdout",
     "output_type": "stream",
     "text": [
      "Done! Final RMSE for cosine and 14 neighbours: 0.2234964096702528\n",
      "Done! Final RMSE for euclidean and 14 neighbours: 0.23700040612407924\n",
      "Done! Final RMSE for manhattan and 14 neighbours: 0.24779536855736914\n"
     ]
    }
   ],
   "source": [
    "for distance in ['cosine','euclidean','manhattan']:\n",
    "    training_testing_completeness(distance, 14)"
   ],
   "metadata": {
    "collapsed": false
   }
  },
  {
   "cell_type": "code",
   "execution_count": 5,
   "outputs": [
    {
     "name": "stdout",
     "output_type": "stream",
     "text": [
      "Done! Final RMSE for cosine and 6 neighbours: 0.2484942828092965\n",
      "Done! Final RMSE for cosine and 8 neighbours: 0.24153365317859538\n",
      "Done! Final RMSE for cosine and 10 neighbours: 0.23580131171634128\n",
      "Done! Final RMSE for cosine and 12 neighbours: 0.22883179467046666\n",
      "Done! Final RMSE for cosine and 14 neighbours: 0.2234964096702528\n",
      "Done! Final RMSE for cosine and 16 neighbours: 0.22080637307679482\n"
     ]
    }
   ],
   "source": [
    "for k in [6,8,10,12,14,16]:\n",
    "    training_testing_completeness('cosine', k)"
   ],
   "metadata": {
    "collapsed": false
   }
  },
  {
   "cell_type": "code",
   "execution_count": 6,
   "outputs": [
    {
     "name": "stdout",
     "output_type": "stream",
     "text": [
      "Done! Final RMSE for cosine and 16 neighbours: 0.22080637307679482\n",
      "Done! Final RMSE for cosine and 17 neighbours: 0.21919149831765278\n",
      "Done! Final RMSE for cosine and 18 neighbours: 0.21847573598914824\n",
      "Done! Final RMSE for cosine and 19 neighbours: 0.21750152149617577\n",
      "Done! Final RMSE for cosine and 20 neighbours: 0.21660755006501076\n"
     ]
    }
   ],
   "source": [
    "for k in [16,17,18,19,20]:\n",
    "    training_testing_completeness('cosine', k)\n"
   ],
   "metadata": {
    "collapsed": false
   }
  },
  {
   "cell_type": "code",
   "execution_count": 7,
   "outputs": [
    {
     "name": "stdout",
     "output_type": "stream",
     "text": [
      "Done! Final RMSE for cosine and 28 neighbours: 0.21189808231174462\n",
      "Done! Final RMSE for cosine and 30 neighbours: 0.21115120888260408\n"
     ]
    }
   ],
   "source": [
    "for k in [28,30]:\n",
    "    training_testing_completeness('cosine', k)\n"
   ],
   "metadata": {
    "collapsed": false
   }
  },
  {
   "cell_type": "code",
   "execution_count": 8,
   "outputs": [
    {
     "name": "stdout",
     "output_type": "stream",
     "text": [
      "Done! Final RMSE for cosine and 35 neighbours: 0.20886694731596211\n",
      "Done! Final RMSE for cosine and 40 neighbours: 0.20734816020965618\n"
     ]
    }
   ],
   "source": [
    "for k in [35,40]:\n",
    "    training_testing_completeness('cosine', k)\n"
   ],
   "metadata": {
    "collapsed": false
   }
  },
  {
   "cell_type": "code",
   "execution_count": 9,
   "outputs": [
    {
     "name": "stdout",
     "output_type": "stream",
     "text": [
      "Done! Final RMSE for cosine and 29 neighbours: 0.21146622001390292\n",
      "Done! Final RMSE for cosine and 30 neighbours: 0.21115120888260408\n",
      "Done! Final RMSE for cosine and 31 neighbours: 0.21090803957425963\n",
      "Done! Final RMSE for cosine and 32 neighbours: 0.21030037700146556\n",
      "Done! Final RMSE for cosine and 33 neighbours: 0.20973499477256022\n"
     ]
    }
   ],
   "source": [
    "for k in [29,30,31,32,33]:\n",
    "    training_testing_completeness('cosine', k)\n"
   ],
   "metadata": {
    "collapsed": false
   }
  },
  {
   "cell_type": "code",
   "execution_count": 11,
   "outputs": [
    {
     "name": "stdout",
     "output_type": "stream",
     "text": [
      "Done! Final RMSE for cosine and 25 neighbours: 0.21315782868746064\n",
      "Done! Final RMSE for cosine and 26 neighbours: 0.21301410500616663\n",
      "Done! Final RMSE for cosine and 27 neighbours: 0.21241772876877643\n",
      "Done! Final RMSE for cosine and 28 neighbours: 0.21189808231174462\n",
      "Done! Final RMSE for cosine and 29 neighbours: 0.21146622001390292\n",
      "Done! Final RMSE for cosine and 30 neighbours: 0.21115120888260408\n",
      "Done! Final RMSE for cosine and 31 neighbours: 0.21090803957425963\n",
      "Done! Final RMSE for cosine and 32 neighbours: 0.21030037700146556\n",
      "Done! Final RMSE for cosine and 33 neighbours: 0.20973499477256022\n",
      "Done! Final RMSE for cosine and 34 neighbours: 0.2092172169965556\n",
      "Done! Final RMSE for cosine and 35 neighbours: 0.20886694731596211\n"
     ]
    }
   ],
   "source": [
    "for k in [25,26,27,28,29,30,31,32,33,34,35]:\n",
    "    training_testing_completeness('cosine', k)"
   ],
   "metadata": {
    "collapsed": false
   }
  },
  {
   "cell_type": "code",
   "execution_count": 12,
   "outputs": [
    {
     "name": "stdout",
     "output_type": "stream",
     "text": [
      "Done! Final RMSE for cosine and 35 neighbours: 0.20886694731596211\n",
      "Done! Final RMSE for cosine and 36 neighbours: 0.20865878958147713\n",
      "Done! Final RMSE for cosine and 37 neighbours: 0.20844695101277075\n",
      "Done! Final RMSE for cosine and 38 neighbours: 0.2080538389141549\n",
      "Done! Final RMSE for cosine and 39 neighbours: 0.20782331246574073\n",
      "Done! Final RMSE for cosine and 40 neighbours: 0.20734816020965618\n"
     ]
    }
   ],
   "source": [
    "for k in [35,36,37,38,39,40]:\n",
    "    training_testing_completeness('cosine', k)"
   ],
   "metadata": {
    "collapsed": false
   }
  },
  {
   "cell_type": "code",
   "execution_count": null,
   "outputs": [],
   "source": [
    "### best k = 35"
   ],
   "metadata": {
    "collapsed": false
   }
  },
  {
   "cell_type": "code",
   "execution_count": 13,
   "outputs": [
    {
     "name": "stdout",
     "output_type": "stream",
     "text": [
      "Done! Final RMSE for cosine and 35 neighbours: 0.20886694731596211\n",
      "Done! Final RMSE for euclidean and 35 neighbours: 0.22718240853682345\n",
      "Done! Final RMSE for manhattan and 35 neighbours: 0.23147498501620317\n"
     ]
    }
   ],
   "source": [
    "for distance in ['cosine','euclidean','manhattan']:\n",
    "    training_testing_completeness(distance, 35)\n"
   ],
   "metadata": {
    "collapsed": false
   }
  },
  {
   "cell_type": "code",
   "execution_count": null,
   "outputs": [],
   "source": [
    "### best distance is cosine\n"
   ],
   "metadata": {
    "collapsed": false
   }
  }
 ],
 "metadata": {
  "kernelspec": {
   "display_name": "Python 3",
   "language": "python",
   "name": "python3"
  },
  "language_info": {
   "codemirror_mode": {
    "name": "ipython",
    "version": 2
   },
   "file_extension": ".py",
   "mimetype": "text/x-python",
   "name": "python",
   "nbconvert_exporter": "python",
   "pygments_lexer": "ipython2",
   "version": "2.7.6"
  }
 },
 "nbformat": 4,
 "nbformat_minor": 0
}
