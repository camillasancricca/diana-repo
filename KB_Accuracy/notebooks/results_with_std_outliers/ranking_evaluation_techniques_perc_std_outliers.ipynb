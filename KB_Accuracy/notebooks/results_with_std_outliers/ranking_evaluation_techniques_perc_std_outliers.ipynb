{
 "cells": [
  {
   "cell_type": "code",
   "execution_count": 18,
   "outputs": [],
   "source": [
    "import pandas as pd\n",
    "from scripts import tt\n",
    "from scripts import kb\n",
    "import numpy as np\n",
    "import warnings\n",
    "warnings.filterwarnings(\"ignore\")"
   ],
   "metadata": {
    "collapsed": false
   }
  },
  {
   "cell_type": "code",
   "execution_count": 19,
   "outputs": [
    {
     "data": {
      "text/plain": "               dataset  ranking_eval  \\\n0            acustic_0      0.000000   \n1            acustic_1      0.285714   \n2            acustic_2      0.142857   \n3            acustic_3      0.285714   \n4            acustic_4      0.285714   \n...                ...           ...   \n3035  qualitywhite_375      0.571429   \n3036  qualitywhite_376      0.571429   \n3037  qualitywhite_377      0.571429   \n3038  qualitywhite_378      0.571429   \n3039  qualitywhite_379      0.714286   \n\n                                      ranking_real  \\\n0     ['IQR' 'ZSB' 'ISO' 'LOF' 'STD' 'PERC' 'KNN']   \n1     ['IQR' 'ZSB' 'ISO' 'STD' 'LOF' 'PERC' 'KNN']   \n2     ['IQR' 'ISO' 'ZSB' 'STD' 'LOF' 'PERC' 'KNN']   \n3     ['IQR' 'ZSB' 'ISO' 'STD' 'LOF' 'PERC' 'KNN']   \n4     ['IQR' 'ZSB' 'ISO' 'STD' 'LOF' 'PERC' 'KNN']   \n...                                            ...   \n3035  ['KNN' 'ZSB' 'IQR' 'ISO' 'LOF' 'PERC' 'STD']   \n3036  ['KNN' 'ZSB' 'IQR' 'ISO' 'LOF' 'PERC' 'STD']   \n3037  ['KNN' 'ZSB' 'IQR' 'ISO' 'LOF' 'PERC' 'STD']   \n3038  ['KNN' 'ZSB' 'IQR' 'ISO' 'LOF' 'PERC' 'STD']   \n3039  ['ZSB' 'KNN' 'IQR' 'ISO' 'LOF' 'PERC' 'STD']   \n\n                                      ranking_pred  \\\n0     ['KNN' 'ISO' 'IQR' 'ZSB' 'LOF' 'STD' 'PERC']   \n1     ['KNN' 'IQR' 'ISO' 'ZSB' 'LOF' 'STD' 'PERC']   \n2     ['KNN' 'IQR' 'ISO' 'ZSB' 'LOF' 'STD' 'PERC']   \n3     ['KNN' 'IQR' 'ISO' 'ZSB' 'LOF' 'STD' 'PERC']   \n4     ['KNN' 'IQR' 'ISO' 'ZSB' 'LOF' 'STD' 'PERC']   \n...                                            ...   \n3035  ['ZSB' 'IQR' 'KNN' 'ISO' 'LOF' 'PERC' 'STD']   \n3036  ['ZSB' 'IQR' 'KNN' 'ISO' 'LOF' 'PERC' 'STD']   \n3037  ['ZSB' 'IQR' 'KNN' 'ISO' 'LOF' 'PERC' 'STD']   \n3038  ['ZSB' 'IQR' 'KNN' 'ISO' 'LOF' 'PERC' 'STD']   \n3039  ['ZSB' 'IQR' 'KNN' 'ISO' 'LOF' 'PERC' 'STD']   \n\n                                             value_real  \\\n0     [0.94668515 0.94213376 0.85549728 0.4369114  0...   \n1     [0.98051448 0.94161018 0.93254889 0.60297033 0...   \n2     [0.98249755 0.93626052 0.93461326 0.59084037 0...   \n3     [0.9906242  0.94368969 0.93097904 0.61406362 0...   \n4     [0.99186406 0.94633037 0.9358617  0.59613261 0...   \n...                                                 ...   \n3035  [0.98602777 0.98357832 0.94156047 0.33414665 0...   \n3036  [0.9864381  0.96374265 0.91884026 0.33155197 0...   \n3037  [0.98621598 0.98238981 0.94784339 0.33307814 0...   \n3038  [0.986172   0.98529906 0.95246579 0.33320944 0...   \n3039  [0.98623457 0.98512015 0.97143576 0.33342575 0...   \n\n                                             value_pred  perc_outliers  \\\n0     [0.96216282 0.804287   0.72069873 0.59458695 0...           10.0   \n1     [0.99597204 0.91898521 0.73663396 0.69649025 0...           10.0   \n2     [0.99397565 0.95047486 0.71472491 0.70857179 0...           10.0   \n3     [0.99292545 0.9459559  0.77950985 0.64065065 0...           10.0   \n4     [0.96369045 0.95404508 0.86932754 0.59937624 0...           10.0   \n...                                                 ...            ...   \n3035  [0.94782103 0.89402602 0.71634254 0.3355303  0...           50.0   \n3036  [0.92575008 0.85370258 0.68448497 0.33209999 0...           50.0   \n3037  [9.46106451e-01 8.96893351e-01 6.84383234e-01 ...           50.0   \n3038  [0.94674991 0.89239069 0.68840821 0.33915914 0...           50.0   \n3039  [0.95723623 0.91641466 0.69352052 0.33614344 0...           50.0   \n\n      std_outliers  \n0                1  \n1                2  \n2                3  \n3                4  \n4                5  \n...            ...  \n3035            60  \n3036            70  \n3037            80  \n3038            90  \n3039           100  \n\n[3040 rows x 8 columns]",
      "text/html": "<div>\n<style scoped>\n    .dataframe tbody tr th:only-of-type {\n        vertical-align: middle;\n    }\n\n    .dataframe tbody tr th {\n        vertical-align: top;\n    }\n\n    .dataframe thead th {\n        text-align: right;\n    }\n</style>\n<table border=\"1\" class=\"dataframe\">\n  <thead>\n    <tr style=\"text-align: right;\">\n      <th></th>\n      <th>dataset</th>\n      <th>ranking_eval</th>\n      <th>ranking_real</th>\n      <th>ranking_pred</th>\n      <th>value_real</th>\n      <th>value_pred</th>\n      <th>perc_outliers</th>\n      <th>std_outliers</th>\n    </tr>\n  </thead>\n  <tbody>\n    <tr>\n      <th>0</th>\n      <td>acustic_0</td>\n      <td>0.000000</td>\n      <td>['IQR' 'ZSB' 'ISO' 'LOF' 'STD' 'PERC' 'KNN']</td>\n      <td>['KNN' 'ISO' 'IQR' 'ZSB' 'LOF' 'STD' 'PERC']</td>\n      <td>[0.94668515 0.94213376 0.85549728 0.4369114  0...</td>\n      <td>[0.96216282 0.804287   0.72069873 0.59458695 0...</td>\n      <td>10.0</td>\n      <td>1</td>\n    </tr>\n    <tr>\n      <th>1</th>\n      <td>acustic_1</td>\n      <td>0.285714</td>\n      <td>['IQR' 'ZSB' 'ISO' 'STD' 'LOF' 'PERC' 'KNN']</td>\n      <td>['KNN' 'IQR' 'ISO' 'ZSB' 'LOF' 'STD' 'PERC']</td>\n      <td>[0.98051448 0.94161018 0.93254889 0.60297033 0...</td>\n      <td>[0.99597204 0.91898521 0.73663396 0.69649025 0...</td>\n      <td>10.0</td>\n      <td>2</td>\n    </tr>\n    <tr>\n      <th>2</th>\n      <td>acustic_2</td>\n      <td>0.142857</td>\n      <td>['IQR' 'ISO' 'ZSB' 'STD' 'LOF' 'PERC' 'KNN']</td>\n      <td>['KNN' 'IQR' 'ISO' 'ZSB' 'LOF' 'STD' 'PERC']</td>\n      <td>[0.98249755 0.93626052 0.93461326 0.59084037 0...</td>\n      <td>[0.99397565 0.95047486 0.71472491 0.70857179 0...</td>\n      <td>10.0</td>\n      <td>3</td>\n    </tr>\n    <tr>\n      <th>3</th>\n      <td>acustic_3</td>\n      <td>0.285714</td>\n      <td>['IQR' 'ZSB' 'ISO' 'STD' 'LOF' 'PERC' 'KNN']</td>\n      <td>['KNN' 'IQR' 'ISO' 'ZSB' 'LOF' 'STD' 'PERC']</td>\n      <td>[0.9906242  0.94368969 0.93097904 0.61406362 0...</td>\n      <td>[0.99292545 0.9459559  0.77950985 0.64065065 0...</td>\n      <td>10.0</td>\n      <td>4</td>\n    </tr>\n    <tr>\n      <th>4</th>\n      <td>acustic_4</td>\n      <td>0.285714</td>\n      <td>['IQR' 'ZSB' 'ISO' 'STD' 'LOF' 'PERC' 'KNN']</td>\n      <td>['KNN' 'IQR' 'ISO' 'ZSB' 'LOF' 'STD' 'PERC']</td>\n      <td>[0.99186406 0.94633037 0.9358617  0.59613261 0...</td>\n      <td>[0.96369045 0.95404508 0.86932754 0.59937624 0...</td>\n      <td>10.0</td>\n      <td>5</td>\n    </tr>\n    <tr>\n      <th>...</th>\n      <td>...</td>\n      <td>...</td>\n      <td>...</td>\n      <td>...</td>\n      <td>...</td>\n      <td>...</td>\n      <td>...</td>\n      <td>...</td>\n    </tr>\n    <tr>\n      <th>3035</th>\n      <td>qualitywhite_375</td>\n      <td>0.571429</td>\n      <td>['KNN' 'ZSB' 'IQR' 'ISO' 'LOF' 'PERC' 'STD']</td>\n      <td>['ZSB' 'IQR' 'KNN' 'ISO' 'LOF' 'PERC' 'STD']</td>\n      <td>[0.98602777 0.98357832 0.94156047 0.33414665 0...</td>\n      <td>[0.94782103 0.89402602 0.71634254 0.3355303  0...</td>\n      <td>50.0</td>\n      <td>60</td>\n    </tr>\n    <tr>\n      <th>3036</th>\n      <td>qualitywhite_376</td>\n      <td>0.571429</td>\n      <td>['KNN' 'ZSB' 'IQR' 'ISO' 'LOF' 'PERC' 'STD']</td>\n      <td>['ZSB' 'IQR' 'KNN' 'ISO' 'LOF' 'PERC' 'STD']</td>\n      <td>[0.9864381  0.96374265 0.91884026 0.33155197 0...</td>\n      <td>[0.92575008 0.85370258 0.68448497 0.33209999 0...</td>\n      <td>50.0</td>\n      <td>70</td>\n    </tr>\n    <tr>\n      <th>3037</th>\n      <td>qualitywhite_377</td>\n      <td>0.571429</td>\n      <td>['KNN' 'ZSB' 'IQR' 'ISO' 'LOF' 'PERC' 'STD']</td>\n      <td>['ZSB' 'IQR' 'KNN' 'ISO' 'LOF' 'PERC' 'STD']</td>\n      <td>[0.98621598 0.98238981 0.94784339 0.33307814 0...</td>\n      <td>[9.46106451e-01 8.96893351e-01 6.84383234e-01 ...</td>\n      <td>50.0</td>\n      <td>80</td>\n    </tr>\n    <tr>\n      <th>3038</th>\n      <td>qualitywhite_378</td>\n      <td>0.571429</td>\n      <td>['KNN' 'ZSB' 'IQR' 'ISO' 'LOF' 'PERC' 'STD']</td>\n      <td>['ZSB' 'IQR' 'KNN' 'ISO' 'LOF' 'PERC' 'STD']</td>\n      <td>[0.986172   0.98529906 0.95246579 0.33320944 0...</td>\n      <td>[0.94674991 0.89239069 0.68840821 0.33915914 0...</td>\n      <td>50.0</td>\n      <td>90</td>\n    </tr>\n    <tr>\n      <th>3039</th>\n      <td>qualitywhite_379</td>\n      <td>0.714286</td>\n      <td>['ZSB' 'KNN' 'IQR' 'ISO' 'LOF' 'PERC' 'STD']</td>\n      <td>['ZSB' 'IQR' 'KNN' 'ISO' 'LOF' 'PERC' 'STD']</td>\n      <td>[0.98623457 0.98512015 0.97143576 0.33342575 0...</td>\n      <td>[0.95723623 0.91641466 0.69352052 0.33614344 0...</td>\n      <td>50.0</td>\n      <td>100</td>\n    </tr>\n  </tbody>\n</table>\n<p>3040 rows × 8 columns</p>\n</div>"
     },
     "execution_count": 19,
     "metadata": {},
     "output_type": "execute_result"
    }
   ],
   "source": [
    "rankings = pd.read_csv(\"../results/techniques_accuracy_evaluation_total.csv\")\n",
    "rankings"
   ],
   "metadata": {
    "collapsed": false
   }
  },
  {
   "cell_type": "code",
   "execution_count": 20,
   "outputs": [],
   "source": [
    "def get_ranking_values_array(s):\n",
    "    s = s.replace(\".        ]\",\".0]\")\n",
    "    s = s.replace(\"   \",\" \")\n",
    "    s = s.replace(\"  \",\" \")\n",
    "    s = s.replace(\" ]\",\"]\")\n",
    "    s = s.replace(\"\\'\",\"\")\n",
    "    s = s.replace(\"[\",\"\")\n",
    "    s = s.replace(\"]\",\"\")\n",
    "    s = s.replace(\"    \",\" \")\n",
    "    s = s.replace(\"   \",\" \")\n",
    "    s = s.replace(\"  \",\" \")\n",
    "    s = s.split(\" \")\n",
    "    s = np.array(s)\n",
    "    s = np.delete(s, np.where(s == ''))\n",
    "    s = s.astype(float)\n",
    "    return s\n",
    "\n",
    "def get_ranking_array(s):\n",
    "    s = s.replace(\".        ]\",\".0]\")\n",
    "    s = s.replace(\"   \",\" \")\n",
    "    s = s.replace(\"  \",\" \")\n",
    "    s = s.replace(\" ]\",\"]\")\n",
    "    s = s.replace(\"\\'\",\"\")\n",
    "    s = s.replace(\"[\",\"\")\n",
    "    s = s.replace(\"]\",\"\")\n",
    "    s = s.split(\" \")\n",
    "    s = np.array(s)\n",
    "    return s"
   ],
   "metadata": {
    "collapsed": false
   }
  },
  {
   "cell_type": "code",
   "execution_count": 20,
   "outputs": [],
   "source": [],
   "metadata": {
    "collapsed": false
   }
  },
  {
   "cell_type": "code",
   "execution_count": 21,
   "outputs": [],
   "source": [
    "### AVG PRECISION REC SYS"
   ],
   "metadata": {
    "collapsed": false
   }
  },
  {
   "cell_type": "code",
   "execution_count": 22,
   "outputs": [],
   "source": [
    "### avg precision (rec sys)\n",
    "\n",
    "###  sum(k=1-->N) 1/m * P(k)*rel(k)\n",
    "### where\n",
    "### m is the number of relevant item (the number of technique in a performance threshold), is variable\n",
    "### N is the number of item to recommend. is a variable: top1, top3...\n",
    "### P(k) is the precision at cutoff k\n",
    "### rel(k) is 1 if the item is relevant\n",
    "### P(k)*rel(k) --> +1 if the item is present in the most relevant, +0 otherwise"
   ],
   "metadata": {
    "collapsed": false
   }
  },
  {
   "cell_type": "code",
   "execution_count": 23,
   "outputs": [],
   "source": [
    "### relevance più adatta è 0.02! (vedere sotto per dettagli)"
   ],
   "metadata": {
    "collapsed": false
   }
  },
  {
   "cell_type": "code",
   "execution_count": 24,
   "outputs": [],
   "source": [
    "relevance = 0.02\n",
    "N = 1\n",
    "\n",
    "precision = []\n",
    "\n",
    "for i in range(0,len(rankings)):\n",
    "    v1 = rankings.loc[i].ranking_real\n",
    "    v2 = rankings.loc[i].ranking_pred\n",
    "    v3 = rankings.loc[i].value_real\n",
    "    v4 = rankings.loc[i].value_pred\n",
    "\n",
    "    ### prendo tutti i valori\n",
    "    rank_real = get_ranking_array(v1)\n",
    "    rank_pred = get_ranking_array(v2)\n",
    "    values_real = get_ranking_values_array(v3)\n",
    "    values_pred = get_ranking_values_array(v4)\n",
    "\n",
    "    ### calcolo m\n",
    "    indexes = np.where(values_real > (values_real[0] - relevance))[0]\n",
    "    m = len(indexes)\n",
    "    ### calcolo precision\n",
    "    P_k = 0\n",
    "    for j in range(0, N):\n",
    "        tech = rank_pred[j]\n",
    "        if tech in rank_real[indexes]:\n",
    "            P_k += 1\n",
    "    precision.append([rankings.loc[i].dataset,P_k/m,m,rankings.loc[i].perc_outliers,rankings.loc[i].std_outliers])\n",
    "precision = pd.DataFrame(precision,columns=['dataset','precision','m','perc_o','std_o'])"
   ],
   "metadata": {
    "collapsed": false
   }
  },
  {
   "cell_type": "code",
   "execution_count": 25,
   "outputs": [
    {
     "data": {
      "text/plain": "               dataset  precision  m  perc_o  std_o\n0            acustic_0   0.000000  2    10.0      1\n1            acustic_1   0.000000  1    10.0      2\n2            acustic_2   0.000000  1    10.0      3\n3            acustic_3   0.000000  1    10.0      4\n4            acustic_4   0.000000  1    10.0      5\n...                ...        ... ..     ...    ...\n3035  qualitywhite_375   0.500000  2    50.0     60\n3036  qualitywhite_376   0.000000  1    50.0     70\n3037  qualitywhite_377   0.500000  2    50.0     80\n3038  qualitywhite_378   0.500000  2    50.0     90\n3039  qualitywhite_379   0.333333  3    50.0    100\n\n[3040 rows x 5 columns]",
      "text/html": "<div>\n<style scoped>\n    .dataframe tbody tr th:only-of-type {\n        vertical-align: middle;\n    }\n\n    .dataframe tbody tr th {\n        vertical-align: top;\n    }\n\n    .dataframe thead th {\n        text-align: right;\n    }\n</style>\n<table border=\"1\" class=\"dataframe\">\n  <thead>\n    <tr style=\"text-align: right;\">\n      <th></th>\n      <th>dataset</th>\n      <th>precision</th>\n      <th>m</th>\n      <th>perc_o</th>\n      <th>std_o</th>\n    </tr>\n  </thead>\n  <tbody>\n    <tr>\n      <th>0</th>\n      <td>acustic_0</td>\n      <td>0.000000</td>\n      <td>2</td>\n      <td>10.0</td>\n      <td>1</td>\n    </tr>\n    <tr>\n      <th>1</th>\n      <td>acustic_1</td>\n      <td>0.000000</td>\n      <td>1</td>\n      <td>10.0</td>\n      <td>2</td>\n    </tr>\n    <tr>\n      <th>2</th>\n      <td>acustic_2</td>\n      <td>0.000000</td>\n      <td>1</td>\n      <td>10.0</td>\n      <td>3</td>\n    </tr>\n    <tr>\n      <th>3</th>\n      <td>acustic_3</td>\n      <td>0.000000</td>\n      <td>1</td>\n      <td>10.0</td>\n      <td>4</td>\n    </tr>\n    <tr>\n      <th>4</th>\n      <td>acustic_4</td>\n      <td>0.000000</td>\n      <td>1</td>\n      <td>10.0</td>\n      <td>5</td>\n    </tr>\n    <tr>\n      <th>...</th>\n      <td>...</td>\n      <td>...</td>\n      <td>...</td>\n      <td>...</td>\n      <td>...</td>\n    </tr>\n    <tr>\n      <th>3035</th>\n      <td>qualitywhite_375</td>\n      <td>0.500000</td>\n      <td>2</td>\n      <td>50.0</td>\n      <td>60</td>\n    </tr>\n    <tr>\n      <th>3036</th>\n      <td>qualitywhite_376</td>\n      <td>0.000000</td>\n      <td>1</td>\n      <td>50.0</td>\n      <td>70</td>\n    </tr>\n    <tr>\n      <th>3037</th>\n      <td>qualitywhite_377</td>\n      <td>0.500000</td>\n      <td>2</td>\n      <td>50.0</td>\n      <td>80</td>\n    </tr>\n    <tr>\n      <th>3038</th>\n      <td>qualitywhite_378</td>\n      <td>0.500000</td>\n      <td>2</td>\n      <td>50.0</td>\n      <td>90</td>\n    </tr>\n    <tr>\n      <th>3039</th>\n      <td>qualitywhite_379</td>\n      <td>0.333333</td>\n      <td>3</td>\n      <td>50.0</td>\n      <td>100</td>\n    </tr>\n  </tbody>\n</table>\n<p>3040 rows × 5 columns</p>\n</div>"
     },
     "execution_count": 25,
     "metadata": {},
     "output_type": "execute_result"
    }
   ],
   "source": [
    "precision\n"
   ],
   "metadata": {
    "collapsed": false
   }
  },
  {
   "cell_type": "code",
   "execution_count": 26,
   "outputs": [
    {
     "data": {
      "text/plain": "np.float64(0.5)"
     },
     "execution_count": 26,
     "metadata": {},
     "output_type": "execute_result"
    }
   ],
   "source": [
    "precision.precision.median()"
   ],
   "metadata": {
    "collapsed": false
   }
  },
  {
   "cell_type": "code",
   "execution_count": 27,
   "outputs": [
    {
     "data": {
      "text/plain": "precision\n0.000000    1108\n0.500000    1006\n1.000000     656\n0.333333     269\n0.250000       1\nName: count, dtype: int64"
     },
     "execution_count": 27,
     "metadata": {},
     "output_type": "execute_result"
    }
   ],
   "source": [
    "precision.precision.value_counts()"
   ],
   "metadata": {
    "collapsed": false
   }
  },
  {
   "cell_type": "code",
   "execution_count": 34,
   "outputs": [
    {
     "data": {
      "text/plain": "perc_o\n50.0    295\n10.0    289\n20.0    189\n30.0    168\n40.0    167\nName: count, dtype: int64"
     },
     "execution_count": 34,
     "metadata": {},
     "output_type": "execute_result"
    }
   ],
   "source": [
    "precision[precision.precision == 0].perc_o.value_counts()"
   ],
   "metadata": {
    "collapsed": false
   }
  },
  {
   "cell_type": "code",
   "execution_count": 35,
   "outputs": [
    {
     "data": {
      "text/plain": "std_o\n1      93\n2      88\n3      82\n4      76\n9      73\n7      72\n10     72\n6      70\n5      67\n8      61\n20     54\n30     47\n40     38\n50     38\n60     37\n90     37\n100    36\n70     34\n80     33\nName: count, dtype: int64"
     },
     "execution_count": 35,
     "metadata": {},
     "output_type": "execute_result"
    }
   ],
   "source": [
    "precision[precision.precision == 0].std_o.value_counts()"
   ],
   "metadata": {
    "collapsed": false
   }
  },
  {
   "cell_type": "code",
   "execution_count": 28,
   "outputs": [
    {
     "data": {
      "text/plain": "perc_o\n10.0    323\n50.0    300\n40.0    281\n30.0    244\n20.0    230\nName: count, dtype: int64"
     },
     "execution_count": 28,
     "metadata": {},
     "output_type": "execute_result"
    }
   ],
   "source": [
    "precision[precision.precision < 0.35].perc_o.value_counts()"
   ],
   "metadata": {
    "collapsed": false
   }
  },
  {
   "cell_type": "code",
   "execution_count": 29,
   "outputs": [
    {
     "data": {
      "text/plain": "std_o\n1      97\n2      93\n9      87\n3      87\n10     86\n7      84\n4      83\n6      79\n5      75\n8      72\n20     72\n30     70\n40     59\n90     59\n50     58\n60     57\n100    56\n70     53\n80     51\nName: count, dtype: int64"
     },
     "execution_count": 29,
     "metadata": {},
     "output_type": "execute_result"
    }
   ],
   "source": [
    "precision[precision.precision < 0.35].std_o.value_counts()"
   ],
   "metadata": {
    "collapsed": false
   }
  },
  {
   "cell_type": "code",
   "execution_count": 38,
   "outputs": [
    {
     "data": {
      "text/plain": "       precision            m       perc_o        std_o\ncount     1108.0  1108.000000  1108.000000  1108.000000\nmean         0.0     1.194043    29.909747    21.681408\nstd          0.0     0.397918    15.593961    28.460761\nmin          0.0     1.000000    10.000000     1.000000\n25%          0.0     1.000000    10.000000     4.000000\n50%          0.0     1.000000    30.000000     8.000000\n75%          0.0     1.000000    50.000000    30.000000\nmax          0.0     3.000000    50.000000   100.000000",
      "text/html": "<div>\n<style scoped>\n    .dataframe tbody tr th:only-of-type {\n        vertical-align: middle;\n    }\n\n    .dataframe tbody tr th {\n        vertical-align: top;\n    }\n\n    .dataframe thead th {\n        text-align: right;\n    }\n</style>\n<table border=\"1\" class=\"dataframe\">\n  <thead>\n    <tr style=\"text-align: right;\">\n      <th></th>\n      <th>precision</th>\n      <th>m</th>\n      <th>perc_o</th>\n      <th>std_o</th>\n    </tr>\n  </thead>\n  <tbody>\n    <tr>\n      <th>count</th>\n      <td>1108.0</td>\n      <td>1108.000000</td>\n      <td>1108.000000</td>\n      <td>1108.000000</td>\n    </tr>\n    <tr>\n      <th>mean</th>\n      <td>0.0</td>\n      <td>1.194043</td>\n      <td>29.909747</td>\n      <td>21.681408</td>\n    </tr>\n    <tr>\n      <th>std</th>\n      <td>0.0</td>\n      <td>0.397918</td>\n      <td>15.593961</td>\n      <td>28.460761</td>\n    </tr>\n    <tr>\n      <th>min</th>\n      <td>0.0</td>\n      <td>1.000000</td>\n      <td>10.000000</td>\n      <td>1.000000</td>\n    </tr>\n    <tr>\n      <th>25%</th>\n      <td>0.0</td>\n      <td>1.000000</td>\n      <td>10.000000</td>\n      <td>4.000000</td>\n    </tr>\n    <tr>\n      <th>50%</th>\n      <td>0.0</td>\n      <td>1.000000</td>\n      <td>30.000000</td>\n      <td>8.000000</td>\n    </tr>\n    <tr>\n      <th>75%</th>\n      <td>0.0</td>\n      <td>1.000000</td>\n      <td>50.000000</td>\n      <td>30.000000</td>\n    </tr>\n    <tr>\n      <th>max</th>\n      <td>0.0</td>\n      <td>3.000000</td>\n      <td>50.000000</td>\n      <td>100.000000</td>\n    </tr>\n  </tbody>\n</table>\n</div>"
     },
     "execution_count": 38,
     "metadata": {},
     "output_type": "execute_result"
    }
   ],
   "source": [
    "precision[precision.precision == 0].describe()"
   ],
   "metadata": {
    "collapsed": false
   }
  },
  {
   "cell_type": "code",
   "execution_count": 107,
   "outputs": [],
   "source": [
    "### per N = 1\n",
    "### la precision non dipende molto dalla percentuale degli outliers\n",
    "### la precision dipende leggermente dalla std: minore è la std degli outliers più bassa è la precision\n",
    "### credo che la differenza sia della relevance: ho precision bassa se ho solo 1 azione compresa nella mia relevance"
   ],
   "metadata": {
    "collapsed": false
   }
  },
  {
   "cell_type": "code",
   "execution_count": 107,
   "outputs": [],
   "source": [],
   "metadata": {
    "collapsed": false
   }
  },
  {
   "cell_type": "code",
   "execution_count": 41,
   "outputs": [],
   "source": [
    "relevance = 0.02\n",
    "N = 3\n",
    "\n",
    "precision = []\n",
    "\n",
    "for i in range(0,len(rankings)):\n",
    "    v1 = rankings.loc[i].ranking_real\n",
    "    v2 = rankings.loc[i].ranking_pred\n",
    "    v3 = rankings.loc[i].value_real\n",
    "    v4 = rankings.loc[i].value_pred\n",
    "\n",
    "    ### prendo tutti i valori\n",
    "    rank_real = get_ranking_array(v1)\n",
    "    rank_pred = get_ranking_array(v2)\n",
    "    values_real = get_ranking_values_array(v3)\n",
    "    values_pred = get_ranking_values_array(v4)\n",
    "\n",
    "    ### calcolo m\n",
    "    indexes = np.where(values_real > (values_real[0] - relevance))[0]\n",
    "    m = len(indexes)\n",
    "    ### calcolo precision\n",
    "    P_k = 0\n",
    "    for j in range(0, N):\n",
    "        tech = rank_pred[j]\n",
    "        if tech in rank_real[indexes]:\n",
    "            P_k += 1\n",
    "    precision.append([rankings.loc[i].dataset,P_k/m,m,rankings.loc[i].perc_outliers,rankings.loc[i].std_outliers])\n",
    "precision = pd.DataFrame(precision,columns=['dataset','precision','m','perc_o','std_o'])"
   ],
   "metadata": {
    "collapsed": false
   }
  },
  {
   "cell_type": "code",
   "execution_count": 44,
   "outputs": [
    {
     "data": {
      "text/plain": "precision\n1.000000    2844\n0.500000      92\n0.000000      75\n0.666667      28\n0.750000       1\nName: count, dtype: int64"
     },
     "execution_count": 44,
     "metadata": {},
     "output_type": "execute_result"
    }
   ],
   "source": [
    "precision.precision.value_counts()"
   ],
   "metadata": {
    "collapsed": false
   }
  },
  {
   "cell_type": "code",
   "execution_count": 49,
   "outputs": [
    {
     "data": {
      "text/plain": "        precision           m      perc_o       std_o\ncount  196.000000  196.000000  196.000000  196.000000\nmean     0.333759    1.770408   12.806122   24.806122\nstd      0.269602    0.704085    6.058109   29.014818\nmin      0.000000    1.000000   10.000000    1.000000\n25%      0.000000    1.000000   10.000000    4.000000\n50%      0.500000    2.000000   10.000000    9.000000\n75%      0.500000    2.000000   10.000000   40.000000\nmax      0.750000    4.000000   40.000000  100.000000",
      "text/html": "<div>\n<style scoped>\n    .dataframe tbody tr th:only-of-type {\n        vertical-align: middle;\n    }\n\n    .dataframe tbody tr th {\n        vertical-align: top;\n    }\n\n    .dataframe thead th {\n        text-align: right;\n    }\n</style>\n<table border=\"1\" class=\"dataframe\">\n  <thead>\n    <tr style=\"text-align: right;\">\n      <th></th>\n      <th>precision</th>\n      <th>m</th>\n      <th>perc_o</th>\n      <th>std_o</th>\n    </tr>\n  </thead>\n  <tbody>\n    <tr>\n      <th>count</th>\n      <td>196.000000</td>\n      <td>196.000000</td>\n      <td>196.000000</td>\n      <td>196.000000</td>\n    </tr>\n    <tr>\n      <th>mean</th>\n      <td>0.333759</td>\n      <td>1.770408</td>\n      <td>12.806122</td>\n      <td>24.806122</td>\n    </tr>\n    <tr>\n      <th>std</th>\n      <td>0.269602</td>\n      <td>0.704085</td>\n      <td>6.058109</td>\n      <td>29.014818</td>\n    </tr>\n    <tr>\n      <th>min</th>\n      <td>0.000000</td>\n      <td>1.000000</td>\n      <td>10.000000</td>\n      <td>1.000000</td>\n    </tr>\n    <tr>\n      <th>25%</th>\n      <td>0.000000</td>\n      <td>1.000000</td>\n      <td>10.000000</td>\n      <td>4.000000</td>\n    </tr>\n    <tr>\n      <th>50%</th>\n      <td>0.500000</td>\n      <td>2.000000</td>\n      <td>10.000000</td>\n      <td>9.000000</td>\n    </tr>\n    <tr>\n      <th>75%</th>\n      <td>0.500000</td>\n      <td>2.000000</td>\n      <td>10.000000</td>\n      <td>40.000000</td>\n    </tr>\n    <tr>\n      <th>max</th>\n      <td>0.750000</td>\n      <td>4.000000</td>\n      <td>40.000000</td>\n      <td>100.000000</td>\n    </tr>\n  </tbody>\n</table>\n</div>"
     },
     "execution_count": 49,
     "metadata": {},
     "output_type": "execute_result"
    }
   ],
   "source": [
    "precision[precision.precision < 0.76].describe()\n"
   ],
   "metadata": {
    "collapsed": false
   }
  },
  {
   "cell_type": "code",
   "execution_count": 50,
   "outputs": [],
   "source": [
    "### per N = 3\n",
    "### la precision qui dipende dalla percentuale degli outliers!!"
   ],
   "metadata": {
    "collapsed": false
   }
  },
  {
   "cell_type": "code",
   "execution_count": null,
   "outputs": [],
   "source": [],
   "metadata": {
    "collapsed": false
   }
  },
  {
   "cell_type": "code",
   "execution_count": null,
   "outputs": [],
   "source": [],
   "metadata": {
    "collapsed": false
   }
  },
  {
   "cell_type": "code",
   "execution_count": null,
   "outputs": [],
   "source": [],
   "metadata": {
    "collapsed": false
   }
  },
  {
   "cell_type": "code",
   "execution_count": 51,
   "outputs": [],
   "source": [
    "#relevance = 0.02\n",
    "N = 3\n",
    "m = 3\n",
    "\n",
    "precision = []\n",
    "\n",
    "for i in range(0, len(rankings)):\n",
    "    v1 = rankings.loc[i].ranking_real\n",
    "    v2 = rankings.loc[i].ranking_pred\n",
    "    v3 = rankings.loc[i].value_real\n",
    "    v4 = rankings.loc[i].value_pred\n",
    "\n",
    "    ### prendo tutti i valori\n",
    "    rank_real = get_ranking_array(v1)\n",
    "    rank_pred = get_ranking_array(v2)\n",
    "    values_real = get_ranking_values_array(v3)\n",
    "    values_pred = get_ranking_values_array(v4)\n",
    "\n",
    "    ### calcolo m\n",
    "    #indexes = np.where(values_real > (values_real[0] - relevance))[0]\n",
    "    #m = len(indexes)\n",
    "    ### calcolo precision\n",
    "    P_k = 0\n",
    "    for j in range(0, N):\n",
    "        tech = rank_pred[j]\n",
    "        if tech in rank_real[indexes]:\n",
    "            P_k += 1\n",
    "    precision.append([rankings.loc[i].dataset, P_k / m, m, rankings.loc[i].perc_outliers, rankings.loc[i].std_outliers])\n",
    "precision = pd.DataFrame(precision, columns=['dataset', 'precision', 'm', 'perc_o', 'std_o'])"
   ],
   "metadata": {
    "collapsed": false
   }
  },
  {
   "cell_type": "code",
   "execution_count": 52,
   "outputs": [
    {
     "data": {
      "text/plain": "precision\n1.000000    2144\n0.666667     874\n0.333333      22\nName: count, dtype: int64"
     },
     "execution_count": 52,
     "metadata": {},
     "output_type": "execute_result"
    }
   ],
   "source": [
    "precision.precision.value_counts()"
   ],
   "metadata": {
    "collapsed": false
   }
  },
  {
   "cell_type": "code",
   "execution_count": 53,
   "outputs": [
    {
     "data": {
      "text/plain": "        precision      m      perc_o       std_o\ncount  896.000000  896.0  896.000000  896.000000\nmean     0.658482    3.0   22.243304   27.460938\nstd      0.051616    0.0   13.134073   31.688086\nmin      0.333333    3.0   10.000000    1.000000\n25%      0.666667    3.0   10.000000    4.000000\n50%      0.666667    3.0   20.000000    9.000000\n75%      0.666667    3.0   30.000000   50.000000\nmax      0.666667    3.0   50.000000  100.000000",
      "text/html": "<div>\n<style scoped>\n    .dataframe tbody tr th:only-of-type {\n        vertical-align: middle;\n    }\n\n    .dataframe tbody tr th {\n        vertical-align: top;\n    }\n\n    .dataframe thead th {\n        text-align: right;\n    }\n</style>\n<table border=\"1\" class=\"dataframe\">\n  <thead>\n    <tr style=\"text-align: right;\">\n      <th></th>\n      <th>precision</th>\n      <th>m</th>\n      <th>perc_o</th>\n      <th>std_o</th>\n    </tr>\n  </thead>\n  <tbody>\n    <tr>\n      <th>count</th>\n      <td>896.000000</td>\n      <td>896.0</td>\n      <td>896.000000</td>\n      <td>896.000000</td>\n    </tr>\n    <tr>\n      <th>mean</th>\n      <td>0.658482</td>\n      <td>3.0</td>\n      <td>22.243304</td>\n      <td>27.460938</td>\n    </tr>\n    <tr>\n      <th>std</th>\n      <td>0.051616</td>\n      <td>0.0</td>\n      <td>13.134073</td>\n      <td>31.688086</td>\n    </tr>\n    <tr>\n      <th>min</th>\n      <td>0.333333</td>\n      <td>3.0</td>\n      <td>10.000000</td>\n      <td>1.000000</td>\n    </tr>\n    <tr>\n      <th>25%</th>\n      <td>0.666667</td>\n      <td>3.0</td>\n      <td>10.000000</td>\n      <td>4.000000</td>\n    </tr>\n    <tr>\n      <th>50%</th>\n      <td>0.666667</td>\n      <td>3.0</td>\n      <td>20.000000</td>\n      <td>9.000000</td>\n    </tr>\n    <tr>\n      <th>75%</th>\n      <td>0.666667</td>\n      <td>3.0</td>\n      <td>30.000000</td>\n      <td>50.000000</td>\n    </tr>\n    <tr>\n      <th>max</th>\n      <td>0.666667</td>\n      <td>3.0</td>\n      <td>50.000000</td>\n      <td>100.000000</td>\n    </tr>\n  </tbody>\n</table>\n</div>"
     },
     "execution_count": 53,
     "metadata": {},
     "output_type": "execute_result"
    }
   ],
   "source": [
    "precision[precision.precision < 0.76].describe()"
   ],
   "metadata": {
    "collapsed": false
   }
  },
  {
   "cell_type": "code",
   "execution_count": null,
   "outputs": [],
   "source": [
    "### precision fissa N = m = 3\n",
    "### non c'è una dipendenza ..."
   ],
   "metadata": {
    "collapsed": false
   }
  },
  {
   "cell_type": "code",
   "execution_count": null,
   "outputs": [],
   "source": [],
   "metadata": {
    "collapsed": false
   }
  },
  {
   "cell_type": "code",
   "execution_count": null,
   "outputs": [],
   "source": [],
   "metadata": {
    "collapsed": false
   }
  },
  {
   "cell_type": "code",
   "execution_count": null,
   "outputs": [],
   "source": [],
   "metadata": {
    "collapsed": false
   }
  },
  {
   "cell_type": "code",
   "execution_count": 54,
   "outputs": [],
   "source": [
    "relevance = 0.02\n",
    "\n",
    "precision = []\n",
    "\n",
    "for i in range(0, len(rankings)):\n",
    "    v1 = rankings.loc[i].ranking_real\n",
    "    v2 = rankings.loc[i].ranking_pred\n",
    "    v3 = rankings.loc[i].value_real\n",
    "    v4 = rankings.loc[i].value_pred\n",
    "\n",
    "    ### prendo tutti i valori\n",
    "    rank_real = get_ranking_array(v1)\n",
    "    rank_pred = get_ranking_array(v2)\n",
    "    values_real = get_ranking_values_array(v3)\n",
    "    values_pred = get_ranking_values_array(v4)\n",
    "\n",
    "    ### calcolo m\n",
    "    indexes = np.where(values_real > (values_real[0] - relevance))[0]\n",
    "    m = len(indexes)\n",
    "    N = len(indexes)\n",
    "    ### calcolo precision\n",
    "    P_k = 0\n",
    "    for j in range(0, N):\n",
    "        tech = rank_pred[j]\n",
    "        if tech in rank_real[indexes]:\n",
    "            P_k += 1\n",
    "    precision.append([rankings.loc[i].dataset, P_k / m, m, rankings.loc[i].perc_outliers, rankings.loc[i].std_outliers])\n",
    "precision = pd.DataFrame(precision, columns=['dataset', 'precision', 'm', 'perc_o', 'std_o'])"
   ],
   "metadata": {
    "collapsed": false
   }
  },
  {
   "cell_type": "code",
   "execution_count": 55,
   "outputs": [
    {
     "data": {
      "text/plain": "precision\n1.000000    1568\n0.000000     909\n0.500000     535\n0.666667      28\nName: count, dtype: int64"
     },
     "execution_count": 55,
     "metadata": {},
     "output_type": "execute_result"
    }
   ],
   "source": [
    "precision.precision.value_counts()"
   ],
   "metadata": {
    "collapsed": false
   }
  },
  {
   "cell_type": "code",
   "execution_count": 56,
   "outputs": [
    {
     "data": {
      "text/plain": "         precision            m       perc_o       std_o\ncount  1472.000000  1472.000000  1472.000000  1472.00000\nmean      0.194407     1.411685    28.851902    25.67731\nstd       0.248122     0.529561    15.112533    30.28462\nmin       0.000000     1.000000    10.000000     1.00000\n25%       0.000000     1.000000    10.000000     4.00000\n50%       0.000000     1.000000    30.000000     9.00000\n75%       0.500000     2.000000    40.000000    40.00000\nmax       0.666667     3.000000    50.000000   100.00000",
      "text/html": "<div>\n<style scoped>\n    .dataframe tbody tr th:only-of-type {\n        vertical-align: middle;\n    }\n\n    .dataframe tbody tr th {\n        vertical-align: top;\n    }\n\n    .dataframe thead th {\n        text-align: right;\n    }\n</style>\n<table border=\"1\" class=\"dataframe\">\n  <thead>\n    <tr style=\"text-align: right;\">\n      <th></th>\n      <th>precision</th>\n      <th>m</th>\n      <th>perc_o</th>\n      <th>std_o</th>\n    </tr>\n  </thead>\n  <tbody>\n    <tr>\n      <th>count</th>\n      <td>1472.000000</td>\n      <td>1472.000000</td>\n      <td>1472.000000</td>\n      <td>1472.00000</td>\n    </tr>\n    <tr>\n      <th>mean</th>\n      <td>0.194407</td>\n      <td>1.411685</td>\n      <td>28.851902</td>\n      <td>25.67731</td>\n    </tr>\n    <tr>\n      <th>std</th>\n      <td>0.248122</td>\n      <td>0.529561</td>\n      <td>15.112533</td>\n      <td>30.28462</td>\n    </tr>\n    <tr>\n      <th>min</th>\n      <td>0.000000</td>\n      <td>1.000000</td>\n      <td>10.000000</td>\n      <td>1.00000</td>\n    </tr>\n    <tr>\n      <th>25%</th>\n      <td>0.000000</td>\n      <td>1.000000</td>\n      <td>10.000000</td>\n      <td>4.00000</td>\n    </tr>\n    <tr>\n      <th>50%</th>\n      <td>0.000000</td>\n      <td>1.000000</td>\n      <td>30.000000</td>\n      <td>9.00000</td>\n    </tr>\n    <tr>\n      <th>75%</th>\n      <td>0.500000</td>\n      <td>2.000000</td>\n      <td>40.000000</td>\n      <td>40.00000</td>\n    </tr>\n    <tr>\n      <th>max</th>\n      <td>0.666667</td>\n      <td>3.000000</td>\n      <td>50.000000</td>\n      <td>100.00000</td>\n    </tr>\n  </tbody>\n</table>\n</div>"
     },
     "execution_count": 56,
     "metadata": {},
     "output_type": "execute_result"
    }
   ],
   "source": [
    "precision[precision.precision < 0.76].describe()\n"
   ],
   "metadata": {
    "collapsed": false
   }
  },
  {
   "cell_type": "code",
   "execution_count": null,
   "outputs": [],
   "source": [
    "### precision variabile N = m = variabile con relevance\n",
    "### anche qui non vedo dipendenza ...\n"
   ],
   "metadata": {
    "collapsed": false
   }
  }
 ],
 "metadata": {
  "kernelspec": {
   "display_name": "Python 3",
   "language": "python",
   "name": "python3"
  },
  "language_info": {
   "codemirror_mode": {
    "name": "ipython",
    "version": 2
   },
   "file_extension": ".py",
   "mimetype": "text/x-python",
   "name": "python",
   "nbconvert_exporter": "python",
   "pygments_lexer": "ipython2",
   "version": "2.7.6"
  }
 },
 "nbformat": 4,
 "nbformat_minor": 0
}
