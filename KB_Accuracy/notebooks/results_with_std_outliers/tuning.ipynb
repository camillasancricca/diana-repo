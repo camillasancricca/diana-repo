{
 "cells": [
  {
   "cell_type": "code",
   "execution_count": 1,
   "metadata": {
    "collapsed": true
   },
   "outputs": [],
   "source": [
    "import warnings\n",
    "warnings.filterwarnings(\"ignore\")"
   ]
  },
  {
   "cell_type": "code",
   "execution_count": 2,
   "outputs": [],
   "source": [
    "import pandas as pd\n",
    "from sklearn.neighbors import KNeighborsRegressor\n",
    "from sklearn.preprocessing import StandardScaler\n",
    "import numpy as np\n",
    "from sklearn.metrics import root_mean_squared_error\n",
    "#from .kb import get_kb_accuracy\n",
    "\n",
    "kb_accuracy = pd.read_csv(\"scripts/KBA.csv\")\n",
    "\n",
    "techniques = kb_accuracy.technique_accuracy.unique()\n",
    "stds_outliers = kb_accuracy.std_outliers.unique()\n",
    "perc_outliers = kb_accuracy.percentage_outliers.unique()\n",
    "objects = kb_accuracy.column_name.unique()\n",
    "datasets = kb_accuracy.name.unique()\n",
    "\n",
    "columns = ['name', 'column_name', 'technique_accuracy']\n",
    "\n",
    "columns_X = ['n_tuples', 'uniqueness', 'min', 'max',\n",
    "       'mean', 'median', 'std', 'skewness', 'kurtosis', 'mad', 'iqr', 'p_min',\n",
    "       'p_max', 'k_min', 'k_max', 's_min', 's_max', 'entropy', 'density',\n",
    "       'percentage_outliers', 'std_outliers']\n",
    "\n",
    "columns_y = 'f1_technique'\n",
    "\n",
    "def training_testing_accuracy(distance, k):\n",
    "    with open(\"../results/prediction_accuracy.csv\", \"w\") as f1:\n",
    "        f1.write(\"dataset,technique,rmse\\n\")\n",
    "\n",
    "        with open(\"../results/techniques_accuracy_evaluation.csv\", \"w\") as f2:\n",
    "            f2.write(\"dataset,technique,real,pred\\n\")\n",
    "\n",
    "            for dataset in datasets:\n",
    "                    for technique in techniques:\n",
    "\n",
    "                        data = kb_accuracy.copy()\n",
    "\n",
    "                        df = data[(data[\"technique_accuracy\"] == technique)].copy()\n",
    "\n",
    "                        train = df[df[\"name\"] != dataset]\n",
    "                        test = df[df[\"name\"] == dataset]\n",
    "\n",
    "                        X_train = train[columns_X]\n",
    "                        y_train = train[columns_y]\n",
    "                        X_test = test[columns_X]\n",
    "                        y_test = test[columns_y]\n",
    "\n",
    "                        X_train = StandardScaler().fit_transform(X_train)\n",
    "                        X_train = np.nan_to_num(X_train)\n",
    "\n",
    "                        X_test = StandardScaler().fit_transform(X_test)\n",
    "                        X_test = np.nan_to_num(X_test)\n",
    "\n",
    "                        knn = KNeighborsRegressor(n_neighbors=k, metric=distance)\n",
    "                        knn.fit(X_train, y_train)\n",
    "\n",
    "                        y_pred = knn.predict(X_test)\n",
    "                        error = root_mean_squared_error(y_test, y_pred)\n",
    "                        #print(dataset+\": \"+str(error))\n",
    "                        f1.write(dataset + \",\" + technique + \",\" + str(error) + \"\\n\")\n",
    "\n",
    "                        y_test = y_test.reset_index(drop=True)\n",
    "                        for i in range(0, len(y_test)):\n",
    "                            f2.write(dataset + \"_\" + str(i) + \",\" + technique + \",\" + str(\n",
    "                                y_test[i]) + \",\" + str(y_pred[i]) + \"\\n\")\n",
    "\n",
    "    data = pd.read_csv(\"../results/prediction_accuracy.csv\")\n",
    "    print(\"Done! Final RMSE for \"+distance+\" and \"+str(k)+\" neighbours: \"+str(data.rmse.mean()))"
   ],
   "metadata": {
    "collapsed": false
   }
  },
  {
   "cell_type": "code",
   "execution_count": 4,
   "outputs": [],
   "source": [
    "data = kb_accuracy.copy()\n",
    "\n",
    "df = data[(data[\"technique_accuracy\"] == 'LOF')].copy()\n",
    "\n",
    "train = df[df[\"name\"] != 'acustic']\n",
    "test = df[df[\"name\"] == 'acustic']\n",
    "\n",
    "X_train = train[columns_X]\n",
    "y_train = train[columns_y]\n",
    "X_test = test[columns_X]\n",
    "y_test = test[columns_y]"
   ],
   "metadata": {
    "collapsed": false
   }
  },
  {
   "cell_type": "code",
   "execution_count": 12,
   "outputs": [],
   "source": [
    "X_test = X_test.reset_index(drop=True)"
   ],
   "metadata": {
    "collapsed": false
   }
  },
  {
   "cell_type": "code",
   "execution_count": 14,
   "outputs": [
    {
     "data": {
      "text/plain": "'10.0'"
     },
     "execution_count": 14,
     "metadata": {},
     "output_type": "execute_result"
    }
   ],
   "source": [
    "str(X_test.percentage_outliers[0])"
   ],
   "metadata": {
    "collapsed": false
   }
  },
  {
   "cell_type": "code",
   "execution_count": 3,
   "outputs": [
    {
     "name": "stdout",
     "output_type": "stream",
     "text": [
      "Done! Final RMSE for cosine and 14 neighbours: 0.14714717587782894\n",
      "Done! Final RMSE for euclidean and 14 neighbours: 0.13245590003879257\n",
      "Done! Final RMSE for manhattan and 14 neighbours: 0.12108558310348627\n"
     ]
    }
   ],
   "source": [
    "for distance in ['cosine','euclidean','manhattan']:\n",
    "    training_testing_accuracy(distance, 14)"
   ],
   "metadata": {
    "collapsed": false
   }
  },
  {
   "cell_type": "code",
   "execution_count": 11,
   "outputs": [
    {
     "name": "stdout",
     "output_type": "stream",
     "text": [
      "Done! Final RMSE for manhattan and 6 neighbours: 0.12416254930817079\n",
      "Done! Final RMSE for manhattan and 8 neighbours: 0.12266648381592435\n",
      "Done! Final RMSE for manhattan and 10 neighbours: 0.12195537084473615\n",
      "Done! Final RMSE for manhattan and 12 neighbours: 0.12158076268150923\n",
      "Done! Final RMSE for manhattan and 14 neighbours: 0.12108558310348627\n",
      "Done! Final RMSE for manhattan and 16 neighbours: 0.12073042393857412\n"
     ]
    }
   ],
   "source": [
    "for k in [6,8,10,12,14,16]:\n",
    "    training_testing_accuracy('manhattan', k)"
   ],
   "metadata": {
    "collapsed": false
   }
  },
  {
   "cell_type": "code",
   "execution_count": 12,
   "outputs": [
    {
     "name": "stdout",
     "output_type": "stream",
     "text": [
      "Done! Final RMSE for manhattan and 18 neighbours: 0.1203893375344208\n",
      "Done! Final RMSE for manhattan and 20 neighbours: 0.12015695290610198\n"
     ]
    }
   ],
   "source": [
    "for k in [18,20]:\n",
    "    training_testing_accuracy('manhattan', k)\n"
   ],
   "metadata": {
    "collapsed": false
   }
  },
  {
   "cell_type": "code",
   "execution_count": 13,
   "outputs": [
    {
     "name": "stdout",
     "output_type": "stream",
     "text": [
      "Done! Final RMSE for manhattan and 28 neighbours: 0.12001722180190022\n",
      "Done! Final RMSE for manhattan and 30 neighbours: 0.11994525184874918\n"
     ]
    }
   ],
   "source": [
    "for k in [28,30]:\n",
    "    training_testing_accuracy('manhattan', k)\n"
   ],
   "metadata": {
    "collapsed": false
   }
  },
  {
   "cell_type": "code",
   "execution_count": 15,
   "outputs": [
    {
     "name": "stdout",
     "output_type": "stream",
     "text": [
      "Done! Final RMSE for manhattan and 14 neighbours: 0.12108558310348627\n",
      "Done! Final RMSE for manhattan and 15 neighbours: 0.1210056840555883\n",
      "Done! Final RMSE for manhattan and 16 neighbours: 0.12073042393857412\n",
      "Done! Final RMSE for manhattan and 17 neighbours: 0.12058362748239063\n",
      "Done! Final RMSE for manhattan and 18 neighbours: 0.1203893375344208\n",
      "Done! Final RMSE for manhattan and 19 neighbours: 0.120196667658289\n",
      "Done! Final RMSE for manhattan and 20 neighbours: 0.12015695290610198\n",
      "Done! Final RMSE for manhattan and 21 neighbours: 0.11994598843640546\n",
      "Done! Final RMSE for manhattan and 22 neighbours: 0.11989104473891417\n",
      "Done! Final RMSE for manhattan and 23 neighbours: 0.1199140216555874\n",
      "Done! Final RMSE for manhattan and 24 neighbours: 0.11999230477068422\n",
      "Done! Final RMSE for manhattan and 25 neighbours: 0.11992795886910834\n",
      "Done! Final RMSE for manhattan and 26 neighbours: 0.11994362480793262\n",
      "Done! Final RMSE for manhattan and 27 neighbours: 0.11998643899678643\n"
     ]
    }
   ],
   "source": [
    "for k in [14,15,16,17,18,19,20,21,22,23,24,25,26,27]:\n",
    "    training_testing_accuracy('manhattan', k)"
   ],
   "metadata": {
    "collapsed": false
   }
  },
  {
   "cell_type": "code",
   "execution_count": 16,
   "outputs": [],
   "source": [
    "### best k = 22"
   ],
   "metadata": {
    "collapsed": false
   }
  },
  {
   "cell_type": "code",
   "execution_count": 17,
   "outputs": [
    {
     "name": "stdout",
     "output_type": "stream",
     "text": [
      "Done! Final RMSE for cosine and 22 neighbours: 0.14575263577352585\n",
      "Done! Final RMSE for euclidean and 22 neighbours: 0.13161654734822606\n",
      "Done! Final RMSE for manhattan and 22 neighbours: 0.11989104473891417\n"
     ]
    }
   ],
   "source": [
    "for distance in ['cosine','euclidean','manhattan']:\n",
    "    training_testing_accuracy(distance, 22)\n"
   ],
   "metadata": {
    "collapsed": false
   }
  },
  {
   "cell_type": "code",
   "execution_count": null,
   "outputs": [],
   "source": [
    "### best distance is manhattan\n"
   ],
   "metadata": {
    "collapsed": false
   }
  }
 ],
 "metadata": {
  "kernelspec": {
   "display_name": "Python 3",
   "language": "python",
   "name": "python3"
  },
  "language_info": {
   "codemirror_mode": {
    "name": "ipython",
    "version": 2
   },
   "file_extension": ".py",
   "mimetype": "text/x-python",
   "name": "python",
   "nbconvert_exporter": "python",
   "pygments_lexer": "ipython2",
   "version": "2.7.6"
  }
 },
 "nbformat": 4,
 "nbformat_minor": 0
}
