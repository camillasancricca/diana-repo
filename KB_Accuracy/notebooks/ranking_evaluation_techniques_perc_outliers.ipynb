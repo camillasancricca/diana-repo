{
 "cells": [
  {
   "cell_type": "code",
   "execution_count": 1,
   "outputs": [],
   "source": [
    "import pandas as pd\n",
    "from scripts import tt\n",
    "from scripts import kb\n",
    "import numpy as np\n",
    "import warnings\n",
    "warnings.filterwarnings(\"ignore\")"
   ],
   "metadata": {
    "collapsed": false
   }
  },
  {
   "cell_type": "code",
   "execution_count": 2,
   "outputs": [
    {
     "data": {
      "text/plain": "               dataset  ranking_eval  \\\n0            acustic_0      0.000000   \n1            acustic_1      0.285714   \n2            acustic_2      0.142857   \n3            acustic_3      0.285714   \n4            acustic_4      0.285714   \n...                ...           ...   \n3035  qualitywhite_375      0.571429   \n3036  qualitywhite_376      0.571429   \n3037  qualitywhite_377      0.571429   \n3038  qualitywhite_378      0.571429   \n3039  qualitywhite_379      0.714286   \n\n                                      ranking_real  \\\n0     ['IQR' 'ZSB' 'ISO' 'LOF' 'STD' 'PERC' 'KNN']   \n1     ['IQR' 'ZSB' 'ISO' 'STD' 'LOF' 'PERC' 'KNN']   \n2     ['IQR' 'ISO' 'ZSB' 'STD' 'LOF' 'PERC' 'KNN']   \n3     ['IQR' 'ZSB' 'ISO' 'STD' 'LOF' 'PERC' 'KNN']   \n4     ['IQR' 'ZSB' 'ISO' 'STD' 'LOF' 'PERC' 'KNN']   \n...                                            ...   \n3035  ['KNN' 'ZSB' 'IQR' 'ISO' 'LOF' 'PERC' 'STD']   \n3036  ['KNN' 'ZSB' 'IQR' 'ISO' 'LOF' 'PERC' 'STD']   \n3037  ['KNN' 'ZSB' 'IQR' 'ISO' 'LOF' 'PERC' 'STD']   \n3038  ['KNN' 'ZSB' 'IQR' 'ISO' 'LOF' 'PERC' 'STD']   \n3039  ['ZSB' 'KNN' 'IQR' 'ISO' 'LOF' 'PERC' 'STD']   \n\n                                      ranking_pred  \\\n0     ['KNN' 'ISO' 'IQR' 'ZSB' 'LOF' 'STD' 'PERC']   \n1     ['KNN' 'IQR' 'ISO' 'ZSB' 'LOF' 'STD' 'PERC']   \n2     ['KNN' 'IQR' 'ISO' 'ZSB' 'LOF' 'STD' 'PERC']   \n3     ['KNN' 'IQR' 'ISO' 'ZSB' 'LOF' 'STD' 'PERC']   \n4     ['KNN' 'IQR' 'ISO' 'ZSB' 'LOF' 'STD' 'PERC']   \n...                                            ...   \n3035  ['ZSB' 'IQR' 'KNN' 'ISO' 'LOF' 'PERC' 'STD']   \n3036  ['ZSB' 'IQR' 'KNN' 'ISO' 'LOF' 'PERC' 'STD']   \n3037  ['ZSB' 'IQR' 'KNN' 'ISO' 'LOF' 'PERC' 'STD']   \n3038  ['ZSB' 'IQR' 'KNN' 'ISO' 'LOF' 'PERC' 'STD']   \n3039  ['ZSB' 'IQR' 'KNN' 'ISO' 'LOF' 'PERC' 'STD']   \n\n                                             value_real  \\\n0     [0.94668515 0.94213376 0.85549728 0.4369114  0...   \n1     [0.98051448 0.94161018 0.93254889 0.60297033 0...   \n2     [0.98249755 0.93626052 0.93461326 0.59084037 0...   \n3     [0.9906242  0.94368969 0.93097904 0.61406362 0...   \n4     [0.99186406 0.94633037 0.9358617  0.59613261 0...   \n...                                                 ...   \n3035  [0.98602777 0.98357832 0.94156047 0.33414665 0...   \n3036  [0.9864381  0.96374265 0.91884026 0.33155197 0...   \n3037  [0.98621598 0.98238981 0.94784339 0.33307814 0...   \n3038  [0.986172   0.98529906 0.95246579 0.33320944 0...   \n3039  [0.98623457 0.98512015 0.97143576 0.33342575 0...   \n\n                                             value_pred  perc_outliers  \n0     [0.96855453 0.80237767 0.75637519 0.60270859 0...           10.0  \n1     [0.99435495 0.92005419 0.74609501 0.67545914 0...           10.0  \n2     [0.99398811 0.97686111 0.73069969 0.68754662 0...           10.0  \n3     [0.9935983  0.968123   0.77074222 0.64501441 0...           10.0  \n4     [0.99256803 0.9640586  0.85511308 0.5750533  0...           10.0  \n...                                                 ...            ...  \n3035  [0.86646914 0.72015299 0.67074822 0.33202066 0...           50.0  \n3036  [0.86275146 0.7246775  0.66229166 0.33634073 0...           50.0  \n3037  [0.85179404 0.73859358 0.66588451 0.33281882 0...           50.0  \n3038  [0.82845337 0.67284405 0.66203773 0.33452147 0...           50.0  \n3039  [0.85209714 0.69075259 0.66941447 0.33024568 0...           50.0  \n\n[3040 rows x 7 columns]",
      "text/html": "<div>\n<style scoped>\n    .dataframe tbody tr th:only-of-type {\n        vertical-align: middle;\n    }\n\n    .dataframe tbody tr th {\n        vertical-align: top;\n    }\n\n    .dataframe thead th {\n        text-align: right;\n    }\n</style>\n<table border=\"1\" class=\"dataframe\">\n  <thead>\n    <tr style=\"text-align: right;\">\n      <th></th>\n      <th>dataset</th>\n      <th>ranking_eval</th>\n      <th>ranking_real</th>\n      <th>ranking_pred</th>\n      <th>value_real</th>\n      <th>value_pred</th>\n      <th>perc_outliers</th>\n    </tr>\n  </thead>\n  <tbody>\n    <tr>\n      <th>0</th>\n      <td>acustic_0</td>\n      <td>0.000000</td>\n      <td>['IQR' 'ZSB' 'ISO' 'LOF' 'STD' 'PERC' 'KNN']</td>\n      <td>['KNN' 'ISO' 'IQR' 'ZSB' 'LOF' 'STD' 'PERC']</td>\n      <td>[0.94668515 0.94213376 0.85549728 0.4369114  0...</td>\n      <td>[0.96855453 0.80237767 0.75637519 0.60270859 0...</td>\n      <td>10.0</td>\n    </tr>\n    <tr>\n      <th>1</th>\n      <td>acustic_1</td>\n      <td>0.285714</td>\n      <td>['IQR' 'ZSB' 'ISO' 'STD' 'LOF' 'PERC' 'KNN']</td>\n      <td>['KNN' 'IQR' 'ISO' 'ZSB' 'LOF' 'STD' 'PERC']</td>\n      <td>[0.98051448 0.94161018 0.93254889 0.60297033 0...</td>\n      <td>[0.99435495 0.92005419 0.74609501 0.67545914 0...</td>\n      <td>10.0</td>\n    </tr>\n    <tr>\n      <th>2</th>\n      <td>acustic_2</td>\n      <td>0.142857</td>\n      <td>['IQR' 'ISO' 'ZSB' 'STD' 'LOF' 'PERC' 'KNN']</td>\n      <td>['KNN' 'IQR' 'ISO' 'ZSB' 'LOF' 'STD' 'PERC']</td>\n      <td>[0.98249755 0.93626052 0.93461326 0.59084037 0...</td>\n      <td>[0.99398811 0.97686111 0.73069969 0.68754662 0...</td>\n      <td>10.0</td>\n    </tr>\n    <tr>\n      <th>3</th>\n      <td>acustic_3</td>\n      <td>0.285714</td>\n      <td>['IQR' 'ZSB' 'ISO' 'STD' 'LOF' 'PERC' 'KNN']</td>\n      <td>['KNN' 'IQR' 'ISO' 'ZSB' 'LOF' 'STD' 'PERC']</td>\n      <td>[0.9906242  0.94368969 0.93097904 0.61406362 0...</td>\n      <td>[0.9935983  0.968123   0.77074222 0.64501441 0...</td>\n      <td>10.0</td>\n    </tr>\n    <tr>\n      <th>4</th>\n      <td>acustic_4</td>\n      <td>0.285714</td>\n      <td>['IQR' 'ZSB' 'ISO' 'STD' 'LOF' 'PERC' 'KNN']</td>\n      <td>['KNN' 'IQR' 'ISO' 'ZSB' 'LOF' 'STD' 'PERC']</td>\n      <td>[0.99186406 0.94633037 0.9358617  0.59613261 0...</td>\n      <td>[0.99256803 0.9640586  0.85511308 0.5750533  0...</td>\n      <td>10.0</td>\n    </tr>\n    <tr>\n      <th>...</th>\n      <td>...</td>\n      <td>...</td>\n      <td>...</td>\n      <td>...</td>\n      <td>...</td>\n      <td>...</td>\n      <td>...</td>\n    </tr>\n    <tr>\n      <th>3035</th>\n      <td>qualitywhite_375</td>\n      <td>0.571429</td>\n      <td>['KNN' 'ZSB' 'IQR' 'ISO' 'LOF' 'PERC' 'STD']</td>\n      <td>['ZSB' 'IQR' 'KNN' 'ISO' 'LOF' 'PERC' 'STD']</td>\n      <td>[0.98602777 0.98357832 0.94156047 0.33414665 0...</td>\n      <td>[0.86646914 0.72015299 0.67074822 0.33202066 0...</td>\n      <td>50.0</td>\n    </tr>\n    <tr>\n      <th>3036</th>\n      <td>qualitywhite_376</td>\n      <td>0.571429</td>\n      <td>['KNN' 'ZSB' 'IQR' 'ISO' 'LOF' 'PERC' 'STD']</td>\n      <td>['ZSB' 'IQR' 'KNN' 'ISO' 'LOF' 'PERC' 'STD']</td>\n      <td>[0.9864381  0.96374265 0.91884026 0.33155197 0...</td>\n      <td>[0.86275146 0.7246775  0.66229166 0.33634073 0...</td>\n      <td>50.0</td>\n    </tr>\n    <tr>\n      <th>3037</th>\n      <td>qualitywhite_377</td>\n      <td>0.571429</td>\n      <td>['KNN' 'ZSB' 'IQR' 'ISO' 'LOF' 'PERC' 'STD']</td>\n      <td>['ZSB' 'IQR' 'KNN' 'ISO' 'LOF' 'PERC' 'STD']</td>\n      <td>[0.98621598 0.98238981 0.94784339 0.33307814 0...</td>\n      <td>[0.85179404 0.73859358 0.66588451 0.33281882 0...</td>\n      <td>50.0</td>\n    </tr>\n    <tr>\n      <th>3038</th>\n      <td>qualitywhite_378</td>\n      <td>0.571429</td>\n      <td>['KNN' 'ZSB' 'IQR' 'ISO' 'LOF' 'PERC' 'STD']</td>\n      <td>['ZSB' 'IQR' 'KNN' 'ISO' 'LOF' 'PERC' 'STD']</td>\n      <td>[0.986172   0.98529906 0.95246579 0.33320944 0...</td>\n      <td>[0.82845337 0.67284405 0.66203773 0.33452147 0...</td>\n      <td>50.0</td>\n    </tr>\n    <tr>\n      <th>3039</th>\n      <td>qualitywhite_379</td>\n      <td>0.714286</td>\n      <td>['ZSB' 'KNN' 'IQR' 'ISO' 'LOF' 'PERC' 'STD']</td>\n      <td>['ZSB' 'IQR' 'KNN' 'ISO' 'LOF' 'PERC' 'STD']</td>\n      <td>[0.98623457 0.98512015 0.97143576 0.33342575 0...</td>\n      <td>[0.85209714 0.69075259 0.66941447 0.33024568 0...</td>\n      <td>50.0</td>\n    </tr>\n  </tbody>\n</table>\n<p>3040 rows × 7 columns</p>\n</div>"
     },
     "execution_count": 2,
     "metadata": {},
     "output_type": "execute_result"
    }
   ],
   "source": [
    "rankings = pd.read_csv(\"../results/techniques_accuracy_evaluation_total.csv\")\n",
    "rankings"
   ],
   "metadata": {
    "collapsed": false
   }
  },
  {
   "cell_type": "code",
   "execution_count": 3,
   "outputs": [],
   "source": [
    "def get_ranking_values_array(s):\n",
    "    s = s.replace(\".        ]\",\".0]\")\n",
    "    s = s.replace(\"   \",\" \")\n",
    "    s = s.replace(\"  \",\" \")\n",
    "    s = s.replace(\" ]\",\"]\")\n",
    "    s = s.replace(\"\\'\",\"\")\n",
    "    s = s.replace(\"[\",\"\")\n",
    "    s = s.replace(\"]\",\"\")\n",
    "    s = s.replace(\"    \",\" \")\n",
    "    s = s.replace(\"   \",\" \")\n",
    "    s = s.replace(\"  \",\" \")\n",
    "    s = s.split(\" \")\n",
    "    s = np.array(s)\n",
    "    s = np.delete(s, np.where(s == ''))\n",
    "    s = s.astype(float)\n",
    "    return s\n",
    "\n",
    "def get_ranking_array(s):\n",
    "    s = s.replace(\".        ]\",\".0]\")\n",
    "    s = s.replace(\"   \",\" \")\n",
    "    s = s.replace(\"  \",\" \")\n",
    "    s = s.replace(\" ]\",\"]\")\n",
    "    s = s.replace(\"\\'\",\"\")\n",
    "    s = s.replace(\"[\",\"\")\n",
    "    s = s.replace(\"]\",\"\")\n",
    "    s = s.split(\" \")\n",
    "    s = np.array(s)\n",
    "    return s"
   ],
   "metadata": {
    "collapsed": false
   }
  },
  {
   "cell_type": "code",
   "execution_count": 3,
   "outputs": [],
   "source": [],
   "metadata": {
    "collapsed": false
   }
  },
  {
   "cell_type": "code",
   "execution_count": 4,
   "outputs": [],
   "source": [
    "### AVG PRECISION REC SYS"
   ],
   "metadata": {
    "collapsed": false
   }
  },
  {
   "cell_type": "code",
   "execution_count": 5,
   "outputs": [],
   "source": [
    "### avg precision (rec sys)\n",
    "\n",
    "###  sum(k=1-->N) 1/m * P(k)*rel(k)\n",
    "### where\n",
    "### m is the number of relevant item (the number of technique in a performance threshold), is variable\n",
    "### N is the number of item to recommend. is a variable: top1, top3...\n",
    "### P(k) is the precision at cutoff k\n",
    "### rel(k) is 1 if the item is relevant\n",
    "### P(k)*rel(k) --> +1 if the item is present in the most relevant, +0 otherwise"
   ],
   "metadata": {
    "collapsed": false
   }
  },
  {
   "cell_type": "code",
   "execution_count": 6,
   "outputs": [],
   "source": [
    "### relevance più adatta è 0.03! (vedere sotto per dettagli)"
   ],
   "metadata": {
    "collapsed": false
   }
  },
  {
   "cell_type": "code",
   "execution_count": 7,
   "outputs": [],
   "source": [
    "relevance = 0.03\n",
    "N = 1\n",
    "\n",
    "precision = []\n",
    "\n",
    "for i in range(0,len(rankings)):\n",
    "    v1 = rankings.loc[i].ranking_real\n",
    "    v2 = rankings.loc[i].ranking_pred\n",
    "    v3 = rankings.loc[i].value_real\n",
    "    v4 = rankings.loc[i].value_pred\n",
    "\n",
    "    ### prendo tutti i valori\n",
    "    rank_real = get_ranking_array(v1)\n",
    "    rank_pred = get_ranking_array(v2)\n",
    "    values_real = get_ranking_values_array(v3)\n",
    "    values_pred = get_ranking_values_array(v4)\n",
    "\n",
    "    ### calcolo m\n",
    "    indexes = np.where(values_real > (values_real[0] - relevance))[0]\n",
    "    m = len(indexes)\n",
    "    ### calcolo precision\n",
    "    P_k = 0\n",
    "    for j in range(0, N):\n",
    "        tech = rank_pred[j]\n",
    "        if tech in rank_real[indexes]:\n",
    "            P_k += 1\n",
    "    precision.append([rankings.loc[i].dataset,P_k/m,m,rankings.loc[i].perc_outliers])\n",
    "precision = pd.DataFrame(precision,columns=['dataset','precision','m','perc_o'])"
   ],
   "metadata": {
    "collapsed": false
   }
  },
  {
   "cell_type": "code",
   "execution_count": 8,
   "outputs": [
    {
     "data": {
      "text/plain": "               dataset  precision  m  perc_o\n0            acustic_0   0.000000  2    10.0\n1            acustic_1   0.000000  1    10.0\n2            acustic_2   0.000000  1    10.0\n3            acustic_3   0.000000  1    10.0\n4            acustic_4   0.000000  1    10.0\n...                ...        ... ..     ...\n3035  qualitywhite_375   0.500000  2    50.0\n3036  qualitywhite_376   0.500000  2    50.0\n3037  qualitywhite_377   0.500000  2    50.0\n3038  qualitywhite_378   0.500000  2    50.0\n3039  qualitywhite_379   0.333333  3    50.0\n\n[3040 rows x 4 columns]",
      "text/html": "<div>\n<style scoped>\n    .dataframe tbody tr th:only-of-type {\n        vertical-align: middle;\n    }\n\n    .dataframe tbody tr th {\n        vertical-align: top;\n    }\n\n    .dataframe thead th {\n        text-align: right;\n    }\n</style>\n<table border=\"1\" class=\"dataframe\">\n  <thead>\n    <tr style=\"text-align: right;\">\n      <th></th>\n      <th>dataset</th>\n      <th>precision</th>\n      <th>m</th>\n      <th>perc_o</th>\n    </tr>\n  </thead>\n  <tbody>\n    <tr>\n      <th>0</th>\n      <td>acustic_0</td>\n      <td>0.000000</td>\n      <td>2</td>\n      <td>10.0</td>\n    </tr>\n    <tr>\n      <th>1</th>\n      <td>acustic_1</td>\n      <td>0.000000</td>\n      <td>1</td>\n      <td>10.0</td>\n    </tr>\n    <tr>\n      <th>2</th>\n      <td>acustic_2</td>\n      <td>0.000000</td>\n      <td>1</td>\n      <td>10.0</td>\n    </tr>\n    <tr>\n      <th>3</th>\n      <td>acustic_3</td>\n      <td>0.000000</td>\n      <td>1</td>\n      <td>10.0</td>\n    </tr>\n    <tr>\n      <th>4</th>\n      <td>acustic_4</td>\n      <td>0.000000</td>\n      <td>1</td>\n      <td>10.0</td>\n    </tr>\n    <tr>\n      <th>...</th>\n      <td>...</td>\n      <td>...</td>\n      <td>...</td>\n      <td>...</td>\n    </tr>\n    <tr>\n      <th>3035</th>\n      <td>qualitywhite_375</td>\n      <td>0.500000</td>\n      <td>2</td>\n      <td>50.0</td>\n    </tr>\n    <tr>\n      <th>3036</th>\n      <td>qualitywhite_376</td>\n      <td>0.500000</td>\n      <td>2</td>\n      <td>50.0</td>\n    </tr>\n    <tr>\n      <th>3037</th>\n      <td>qualitywhite_377</td>\n      <td>0.500000</td>\n      <td>2</td>\n      <td>50.0</td>\n    </tr>\n    <tr>\n      <th>3038</th>\n      <td>qualitywhite_378</td>\n      <td>0.500000</td>\n      <td>2</td>\n      <td>50.0</td>\n    </tr>\n    <tr>\n      <th>3039</th>\n      <td>qualitywhite_379</td>\n      <td>0.333333</td>\n      <td>3</td>\n      <td>50.0</td>\n    </tr>\n  </tbody>\n</table>\n<p>3040 rows × 4 columns</p>\n</div>"
     },
     "execution_count": 8,
     "metadata": {},
     "output_type": "execute_result"
    }
   ],
   "source": [
    "precision\n"
   ],
   "metadata": {
    "collapsed": false
   }
  },
  {
   "cell_type": "code",
   "execution_count": 9,
   "outputs": [
    {
     "data": {
      "text/plain": "np.float64(0.5)"
     },
     "execution_count": 9,
     "metadata": {},
     "output_type": "execute_result"
    }
   ],
   "source": [
    "precision.precision.median()"
   ],
   "metadata": {
    "collapsed": false
   }
  },
  {
   "cell_type": "code",
   "execution_count": 10,
   "outputs": [
    {
     "data": {
      "text/plain": "precision\n0.500000    1103\n0.000000    1063\n1.000000     473\n0.333333     399\n0.250000       2\nName: count, dtype: int64"
     },
     "execution_count": 10,
     "metadata": {},
     "output_type": "execute_result"
    }
   ],
   "source": [
    "precision.precision.value_counts()"
   ],
   "metadata": {
    "collapsed": false
   }
  },
  {
   "cell_type": "code",
   "execution_count": 11,
   "outputs": [
    {
     "data": {
      "text/plain": "perc_o\n50.0    344\n10.0    260\n20.0    165\n40.0    156\n30.0    138\nName: count, dtype: int64"
     },
     "execution_count": 11,
     "metadata": {},
     "output_type": "execute_result"
    }
   ],
   "source": [
    "precision[precision.precision == 0].perc_o.value_counts()"
   ],
   "metadata": {
    "collapsed": false
   }
  },
  {
   "cell_type": "code",
   "execution_count": 12,
   "outputs": [
    {
     "data": {
      "text/plain": "perc_o\n50.0    361\n10.0    314\n40.0    287\n30.0    277\n20.0    225\nName: count, dtype: int64"
     },
     "execution_count": 12,
     "metadata": {},
     "output_type": "execute_result"
    }
   ],
   "source": [
    "precision[precision.precision < 0.35].perc_o.value_counts()"
   ],
   "metadata": {
    "collapsed": false
   }
  },
  {
   "cell_type": "code",
   "execution_count": 13,
   "outputs": [
    {
     "data": {
      "text/plain": "       precision            m       perc_o\ncount     1063.0  1063.000000  1063.000000\nmean         0.0     1.222013    31.495767\nstd          0.0     0.420300    15.983800\nmin          0.0     1.000000    10.000000\n25%          0.0     1.000000    20.000000\n50%          0.0     1.000000    30.000000\n75%          0.0     1.000000    50.000000\nmax          0.0     3.000000    50.000000",
      "text/html": "<div>\n<style scoped>\n    .dataframe tbody tr th:only-of-type {\n        vertical-align: middle;\n    }\n\n    .dataframe tbody tr th {\n        vertical-align: top;\n    }\n\n    .dataframe thead th {\n        text-align: right;\n    }\n</style>\n<table border=\"1\" class=\"dataframe\">\n  <thead>\n    <tr style=\"text-align: right;\">\n      <th></th>\n      <th>precision</th>\n      <th>m</th>\n      <th>perc_o</th>\n    </tr>\n  </thead>\n  <tbody>\n    <tr>\n      <th>count</th>\n      <td>1063.0</td>\n      <td>1063.000000</td>\n      <td>1063.000000</td>\n    </tr>\n    <tr>\n      <th>mean</th>\n      <td>0.0</td>\n      <td>1.222013</td>\n      <td>31.495767</td>\n    </tr>\n    <tr>\n      <th>std</th>\n      <td>0.0</td>\n      <td>0.420300</td>\n      <td>15.983800</td>\n    </tr>\n    <tr>\n      <th>min</th>\n      <td>0.0</td>\n      <td>1.000000</td>\n      <td>10.000000</td>\n    </tr>\n    <tr>\n      <th>25%</th>\n      <td>0.0</td>\n      <td>1.000000</td>\n      <td>20.000000</td>\n    </tr>\n    <tr>\n      <th>50%</th>\n      <td>0.0</td>\n      <td>1.000000</td>\n      <td>30.000000</td>\n    </tr>\n    <tr>\n      <th>75%</th>\n      <td>0.0</td>\n      <td>1.000000</td>\n      <td>50.000000</td>\n    </tr>\n    <tr>\n      <th>max</th>\n      <td>0.0</td>\n      <td>3.000000</td>\n      <td>50.000000</td>\n    </tr>\n  </tbody>\n</table>\n</div>"
     },
     "execution_count": 13,
     "metadata": {},
     "output_type": "execute_result"
    }
   ],
   "source": [
    "precision[precision.precision == 0].describe()"
   ],
   "metadata": {
    "collapsed": false
   }
  },
  {
   "cell_type": "code",
   "execution_count": 14,
   "outputs": [],
   "source": [
    "### per N = 1\n",
    "### la precision non dipende molto dalla percentuale degli outliers\n",
    "### credo che la differenza sia della relevance: ho precision bassa se ho solo 1 azione compresa nella mia relevance"
   ],
   "metadata": {
    "collapsed": false
   }
  },
  {
   "cell_type": "code",
   "execution_count": 14,
   "outputs": [],
   "source": [],
   "metadata": {
    "collapsed": false
   }
  },
  {
   "cell_type": "code",
   "execution_count": 14,
   "outputs": [],
   "source": [],
   "metadata": {
    "collapsed": false
   }
  },
  {
   "cell_type": "code",
   "execution_count": 14,
   "outputs": [],
   "source": [],
   "metadata": {
    "collapsed": false
   }
  },
  {
   "cell_type": "code",
   "execution_count": 15,
   "outputs": [],
   "source": [
    "relevance = 0.03\n",
    "N = 3\n",
    "\n",
    "precision = []\n",
    "\n",
    "for i in range(0,len(rankings)):\n",
    "    v1 = rankings.loc[i].ranking_real\n",
    "    v2 = rankings.loc[i].ranking_pred\n",
    "    v3 = rankings.loc[i].value_real\n",
    "    v4 = rankings.loc[i].value_pred\n",
    "\n",
    "    ### prendo tutti i valori\n",
    "    rank_real = get_ranking_array(v1)\n",
    "    rank_pred = get_ranking_array(v2)\n",
    "    values_real = get_ranking_values_array(v3)\n",
    "    values_pred = get_ranking_values_array(v4)\n",
    "\n",
    "    ### calcolo m\n",
    "    indexes = np.where(values_real > (values_real[0] - relevance))[0]\n",
    "    m = len(indexes)\n",
    "    ### calcolo precision\n",
    "    P_k = 0\n",
    "    for j in range(0, N):\n",
    "        tech = rank_pred[j]\n",
    "        if tech in rank_real[indexes]:\n",
    "            P_k += 1\n",
    "    precision.append([rankings.loc[i].dataset,P_k/m,m,rankings.loc[i].perc_outliers])\n",
    "precision = pd.DataFrame(precision,columns=['dataset','precision','m','perc_o'])"
   ],
   "metadata": {
    "collapsed": false
   }
  },
  {
   "cell_type": "code",
   "execution_count": 16,
   "outputs": [
    {
     "data": {
      "text/plain": "precision\n1.000000    2827\n0.500000     104\n0.000000      58\n0.666667      49\n0.750000       2\nName: count, dtype: int64"
     },
     "execution_count": 16,
     "metadata": {},
     "output_type": "execute_result"
    }
   ],
   "source": [
    "precision.precision.value_counts()"
   ],
   "metadata": {
    "collapsed": false
   }
  },
  {
   "cell_type": "code",
   "execution_count": 17,
   "outputs": [
    {
     "data": {
      "text/plain": "        precision           m      perc_o\ncount  211.000000  211.000000  211.000000\nmean     0.401264    1.957346   12.985782\nstd      0.256386    0.712528    6.023350\nmin      0.000000    1.000000   10.000000\n25%      0.000000    1.000000   10.000000\n50%      0.500000    2.000000   10.000000\n75%      0.500000    2.000000   10.000000\nmax      0.666667    3.000000   30.000000",
      "text/html": "<div>\n<style scoped>\n    .dataframe tbody tr th:only-of-type {\n        vertical-align: middle;\n    }\n\n    .dataframe tbody tr th {\n        vertical-align: top;\n    }\n\n    .dataframe thead th {\n        text-align: right;\n    }\n</style>\n<table border=\"1\" class=\"dataframe\">\n  <thead>\n    <tr style=\"text-align: right;\">\n      <th></th>\n      <th>precision</th>\n      <th>m</th>\n      <th>perc_o</th>\n    </tr>\n  </thead>\n  <tbody>\n    <tr>\n      <th>count</th>\n      <td>211.000000</td>\n      <td>211.000000</td>\n      <td>211.000000</td>\n    </tr>\n    <tr>\n      <th>mean</th>\n      <td>0.401264</td>\n      <td>1.957346</td>\n      <td>12.985782</td>\n    </tr>\n    <tr>\n      <th>std</th>\n      <td>0.256386</td>\n      <td>0.712528</td>\n      <td>6.023350</td>\n    </tr>\n    <tr>\n      <th>min</th>\n      <td>0.000000</td>\n      <td>1.000000</td>\n      <td>10.000000</td>\n    </tr>\n    <tr>\n      <th>25%</th>\n      <td>0.000000</td>\n      <td>1.000000</td>\n      <td>10.000000</td>\n    </tr>\n    <tr>\n      <th>50%</th>\n      <td>0.500000</td>\n      <td>2.000000</td>\n      <td>10.000000</td>\n    </tr>\n    <tr>\n      <th>75%</th>\n      <td>0.500000</td>\n      <td>2.000000</td>\n      <td>10.000000</td>\n    </tr>\n    <tr>\n      <th>max</th>\n      <td>0.666667</td>\n      <td>3.000000</td>\n      <td>30.000000</td>\n    </tr>\n  </tbody>\n</table>\n</div>"
     },
     "execution_count": 17,
     "metadata": {},
     "output_type": "execute_result"
    }
   ],
   "source": [
    "precision[precision.precision < 0.75].describe()"
   ],
   "metadata": {
    "collapsed": false
   }
  },
  {
   "cell_type": "code",
   "execution_count": 18,
   "outputs": [
    {
     "data": {
      "text/plain": "       precision            m       perc_o\ncount     2827.0  2827.000000  2827.000000\nmean         1.0     1.684471    31.284047\nstd          0.0     0.682028    13.744186\nmin          1.0     1.000000    10.000000\n25%          1.0     1.000000    20.000000\n50%          1.0     2.000000    30.000000\n75%          1.0     2.000000    40.000000\nmax          1.0     3.000000    50.000000",
      "text/html": "<div>\n<style scoped>\n    .dataframe tbody tr th:only-of-type {\n        vertical-align: middle;\n    }\n\n    .dataframe tbody tr th {\n        vertical-align: top;\n    }\n\n    .dataframe thead th {\n        text-align: right;\n    }\n</style>\n<table border=\"1\" class=\"dataframe\">\n  <thead>\n    <tr style=\"text-align: right;\">\n      <th></th>\n      <th>precision</th>\n      <th>m</th>\n      <th>perc_o</th>\n    </tr>\n  </thead>\n  <tbody>\n    <tr>\n      <th>count</th>\n      <td>2827.0</td>\n      <td>2827.000000</td>\n      <td>2827.000000</td>\n    </tr>\n    <tr>\n      <th>mean</th>\n      <td>1.0</td>\n      <td>1.684471</td>\n      <td>31.284047</td>\n    </tr>\n    <tr>\n      <th>std</th>\n      <td>0.0</td>\n      <td>0.682028</td>\n      <td>13.744186</td>\n    </tr>\n    <tr>\n      <th>min</th>\n      <td>1.0</td>\n      <td>1.000000</td>\n      <td>10.000000</td>\n    </tr>\n    <tr>\n      <th>25%</th>\n      <td>1.0</td>\n      <td>1.000000</td>\n      <td>20.000000</td>\n    </tr>\n    <tr>\n      <th>50%</th>\n      <td>1.0</td>\n      <td>2.000000</td>\n      <td>30.000000</td>\n    </tr>\n    <tr>\n      <th>75%</th>\n      <td>1.0</td>\n      <td>2.000000</td>\n      <td>40.000000</td>\n    </tr>\n    <tr>\n      <th>max</th>\n      <td>1.0</td>\n      <td>3.000000</td>\n      <td>50.000000</td>\n    </tr>\n  </tbody>\n</table>\n</div>"
     },
     "execution_count": 18,
     "metadata": {},
     "output_type": "execute_result"
    }
   ],
   "source": [
    "precision[precision.precision > 0.75].describe()"
   ],
   "metadata": {
    "collapsed": false
   }
  },
  {
   "cell_type": "code",
   "execution_count": 19,
   "outputs": [],
   "source": [
    "### per N = 3 la precision qui dipende dalla percentuale degli outliers!!"
   ],
   "metadata": {
    "collapsed": false
   }
  },
  {
   "cell_type": "code",
   "execution_count": 19,
   "outputs": [],
   "source": [],
   "metadata": {
    "collapsed": false
   }
  },
  {
   "cell_type": "code",
   "execution_count": 19,
   "outputs": [],
   "source": [],
   "metadata": {
    "collapsed": false
   }
  },
  {
   "cell_type": "code",
   "execution_count": 19,
   "outputs": [],
   "source": [],
   "metadata": {
    "collapsed": false
   }
  },
  {
   "cell_type": "code",
   "execution_count": 20,
   "outputs": [],
   "source": [
    "#relevance = 0.03\n",
    "N = 3\n",
    "m = 3\n",
    "\n",
    "precision = []\n",
    "\n",
    "for i in range(0, len(rankings)):\n",
    "    v1 = rankings.loc[i].ranking_real\n",
    "    v2 = rankings.loc[i].ranking_pred\n",
    "    v3 = rankings.loc[i].value_real\n",
    "    v4 = rankings.loc[i].value_pred\n",
    "\n",
    "    ### prendo tutti i valori\n",
    "    rank_real = get_ranking_array(v1)\n",
    "    rank_pred = get_ranking_array(v2)\n",
    "    values_real = get_ranking_values_array(v3)\n",
    "    values_pred = get_ranking_values_array(v4)\n",
    "\n",
    "    ### calcolo m\n",
    "    indexes = [0,1,2]\n",
    "    #m = len(indexes)\n",
    "    ### calcolo precision\n",
    "    P_k = 0\n",
    "    for j in range(0, N):\n",
    "        tech = rank_pred[j]\n",
    "        if tech in rank_real[indexes]:\n",
    "            P_k += 1\n",
    "    precision.append([rankings.loc[i].dataset,P_k/m,m,rankings.loc[i].perc_outliers])\n",
    "precision = pd.DataFrame(precision,columns=['dataset','precision','m','perc_o'])"
   ],
   "metadata": {
    "collapsed": false
   }
  },
  {
   "cell_type": "code",
   "execution_count": 21,
   "outputs": [
    {
     "data": {
      "text/plain": "precision\n1.000000    2136\n0.666667     879\n0.333333      25\nName: count, dtype: int64"
     },
     "execution_count": 21,
     "metadata": {},
     "output_type": "execute_result"
    }
   ],
   "source": [
    "precision.precision.value_counts()"
   ],
   "metadata": {
    "collapsed": false
   }
  },
  {
   "cell_type": "code",
   "execution_count": 22,
   "outputs": [
    {
     "data": {
      "text/plain": "        precision      m      perc_o\ncount  904.000000  904.0  904.000000\nmean     0.657448    3.0   22.212389\nstd      0.054691    0.0   13.167934\nmin      0.333333    3.0   10.000000\n25%      0.666667    3.0   10.000000\n50%      0.666667    3.0   20.000000\n75%      0.666667    3.0   30.000000\nmax      0.666667    3.0   50.000000",
      "text/html": "<div>\n<style scoped>\n    .dataframe tbody tr th:only-of-type {\n        vertical-align: middle;\n    }\n\n    .dataframe tbody tr th {\n        vertical-align: top;\n    }\n\n    .dataframe thead th {\n        text-align: right;\n    }\n</style>\n<table border=\"1\" class=\"dataframe\">\n  <thead>\n    <tr style=\"text-align: right;\">\n      <th></th>\n      <th>precision</th>\n      <th>m</th>\n      <th>perc_o</th>\n    </tr>\n  </thead>\n  <tbody>\n    <tr>\n      <th>count</th>\n      <td>904.000000</td>\n      <td>904.0</td>\n      <td>904.000000</td>\n    </tr>\n    <tr>\n      <th>mean</th>\n      <td>0.657448</td>\n      <td>3.0</td>\n      <td>22.212389</td>\n    </tr>\n    <tr>\n      <th>std</th>\n      <td>0.054691</td>\n      <td>0.0</td>\n      <td>13.167934</td>\n    </tr>\n    <tr>\n      <th>min</th>\n      <td>0.333333</td>\n      <td>3.0</td>\n      <td>10.000000</td>\n    </tr>\n    <tr>\n      <th>25%</th>\n      <td>0.666667</td>\n      <td>3.0</td>\n      <td>10.000000</td>\n    </tr>\n    <tr>\n      <th>50%</th>\n      <td>0.666667</td>\n      <td>3.0</td>\n      <td>20.000000</td>\n    </tr>\n    <tr>\n      <th>75%</th>\n      <td>0.666667</td>\n      <td>3.0</td>\n      <td>30.000000</td>\n    </tr>\n    <tr>\n      <th>max</th>\n      <td>0.666667</td>\n      <td>3.0</td>\n      <td>50.000000</td>\n    </tr>\n  </tbody>\n</table>\n</div>"
     },
     "execution_count": 22,
     "metadata": {},
     "output_type": "execute_result"
    }
   ],
   "source": [
    "precision[precision.precision < 0.75].describe()"
   ],
   "metadata": {
    "collapsed": false
   }
  },
  {
   "cell_type": "code",
   "execution_count": 23,
   "outputs": [],
   "source": [
    "### precision fissa N = m = 3\n",
    "### non c'è una dipendenza ..."
   ],
   "metadata": {
    "collapsed": false
   }
  },
  {
   "cell_type": "code",
   "execution_count": 23,
   "outputs": [],
   "source": [],
   "metadata": {
    "collapsed": false
   }
  },
  {
   "cell_type": "code",
   "execution_count": 23,
   "outputs": [],
   "source": [],
   "metadata": {
    "collapsed": false
   }
  },
  {
   "cell_type": "code",
   "execution_count": 23,
   "outputs": [],
   "source": [],
   "metadata": {
    "collapsed": false
   }
  },
  {
   "cell_type": "code",
   "execution_count": 24,
   "outputs": [],
   "source": [
    "relevance = 0.03\n",
    "\n",
    "precision = []\n",
    "\n",
    "for i in range(0, len(rankings)):\n",
    "    v1 = rankings.loc[i].ranking_real\n",
    "    v2 = rankings.loc[i].ranking_pred\n",
    "    v3 = rankings.loc[i].value_real\n",
    "    v4 = rankings.loc[i].value_pred\n",
    "\n",
    "    ### prendo tutti i valori\n",
    "    rank_real = get_ranking_array(v1)\n",
    "    rank_pred = get_ranking_array(v2)\n",
    "    values_real = get_ranking_values_array(v3)\n",
    "    values_pred = get_ranking_values_array(v4)\n",
    "\n",
    "    ### calcolo m\n",
    "    indexes = np.where(values_real > (values_real[0] - relevance))[0]\n",
    "    m = len(indexes)\n",
    "    N = len(indexes)\n",
    "    ### calcolo precision\n",
    "    P_k = 0\n",
    "    for j in range(0, N):\n",
    "        tech = rank_pred[j]\n",
    "        if tech in rank_real[indexes]:\n",
    "            P_k += 1\n",
    "    precision.append([rankings.loc[i].dataset,P_k/m,m,rankings.loc[i].perc_outliers])\n",
    "precision = pd.DataFrame(precision,columns=['dataset','precision','m','perc_o'])"
   ],
   "metadata": {
    "collapsed": false
   }
  },
  {
   "cell_type": "code",
   "execution_count": 25,
   "outputs": [
    {
     "data": {
      "text/plain": "precision\n1.000000    1564\n0.000000     849\n0.500000     578\n0.666667      49\nName: count, dtype: int64"
     },
     "execution_count": 25,
     "metadata": {},
     "output_type": "execute_result"
    }
   ],
   "source": [
    "precision.precision.value_counts()"
   ],
   "metadata": {
    "collapsed": false
   }
  },
  {
   "cell_type": "code",
   "execution_count": 26,
   "outputs": [
    {
     "data": {
      "text/plain": "         precision            m       perc_o\ncount  1476.000000  1476.000000  1476.000000\nmean      0.217931     1.471545    29.620596\nstd       0.255352     0.561961    15.678713\nmin       0.000000     1.000000    10.000000\n25%       0.000000     1.000000    10.000000\n50%       0.000000     1.000000    30.000000\n75%       0.500000     2.000000    50.000000\nmax       0.666667     3.000000    50.000000",
      "text/html": "<div>\n<style scoped>\n    .dataframe tbody tr th:only-of-type {\n        vertical-align: middle;\n    }\n\n    .dataframe tbody tr th {\n        vertical-align: top;\n    }\n\n    .dataframe thead th {\n        text-align: right;\n    }\n</style>\n<table border=\"1\" class=\"dataframe\">\n  <thead>\n    <tr style=\"text-align: right;\">\n      <th></th>\n      <th>precision</th>\n      <th>m</th>\n      <th>perc_o</th>\n    </tr>\n  </thead>\n  <tbody>\n    <tr>\n      <th>count</th>\n      <td>1476.000000</td>\n      <td>1476.000000</td>\n      <td>1476.000000</td>\n    </tr>\n    <tr>\n      <th>mean</th>\n      <td>0.217931</td>\n      <td>1.471545</td>\n      <td>29.620596</td>\n    </tr>\n    <tr>\n      <th>std</th>\n      <td>0.255352</td>\n      <td>0.561961</td>\n      <td>15.678713</td>\n    </tr>\n    <tr>\n      <th>min</th>\n      <td>0.000000</td>\n      <td>1.000000</td>\n      <td>10.000000</td>\n    </tr>\n    <tr>\n      <th>25%</th>\n      <td>0.000000</td>\n      <td>1.000000</td>\n      <td>10.000000</td>\n    </tr>\n    <tr>\n      <th>50%</th>\n      <td>0.000000</td>\n      <td>1.000000</td>\n      <td>30.000000</td>\n    </tr>\n    <tr>\n      <th>75%</th>\n      <td>0.500000</td>\n      <td>2.000000</td>\n      <td>50.000000</td>\n    </tr>\n    <tr>\n      <th>max</th>\n      <td>0.666667</td>\n      <td>3.000000</td>\n      <td>50.000000</td>\n    </tr>\n  </tbody>\n</table>\n</div>"
     },
     "execution_count": 26,
     "metadata": {},
     "output_type": "execute_result"
    }
   ],
   "source": [
    "precision[precision.precision < 0.75].describe()\n"
   ],
   "metadata": {
    "collapsed": false
   }
  },
  {
   "cell_type": "code",
   "execution_count": 27,
   "outputs": [],
   "source": [
    "### precision variabile N = m = variabile con relevance\n",
    "### anche qui non vedo dipendenza (se non m un po' basso)\n"
   ],
   "metadata": {
    "collapsed": false
   }
  },
  {
   "cell_type": "code",
   "execution_count": null,
   "outputs": [],
   "source": [],
   "metadata": {
    "collapsed": false
   }
  }
 ],
 "metadata": {
  "kernelspec": {
   "display_name": "Python 3",
   "language": "python",
   "name": "python3"
  },
  "language_info": {
   "codemirror_mode": {
    "name": "ipython",
    "version": 2
   },
   "file_extension": ".py",
   "mimetype": "text/x-python",
   "name": "python",
   "nbconvert_exporter": "python",
   "pygments_lexer": "ipython2",
   "version": "2.7.6"
  }
 },
 "nbformat": 4,
 "nbformat_minor": 0
}
