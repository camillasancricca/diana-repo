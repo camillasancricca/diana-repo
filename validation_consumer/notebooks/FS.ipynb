{
 "cells": [
  {
   "cell_type": "code",
   "execution_count": 1,
   "outputs": [],
   "source": [
    "import warnings\n",
    "warnings.filterwarnings(\"ignore\")\n",
    "import algorithms_class as alg"
   ],
   "metadata": {
    "collapsed": false
   }
  },
  {
   "cell_type": "code",
   "execution_count": 2,
   "outputs": [
    {
     "data": {
      "text/plain": "      CustomerAge CustomerGender  CustomerSatisfaction  PurchaseIntent\n0              18           Male                     1               0\n1              35         Female                     2               1\n2              63           Male                     5               1\n3              63         Female                     3               1\n4              57           Male                     3               0\n...           ...            ...                   ...             ...\n8995           36         Female                     4               0\n8996           57           Male                     1               1\n8997           28           Male                     4               0\n8998           38           Male                     2               1\n8999           62           Male                     2               1\n\n[9000 rows x 4 columns]",
      "text/html": "<div>\n<style scoped>\n    .dataframe tbody tr th:only-of-type {\n        vertical-align: middle;\n    }\n\n    .dataframe tbody tr th {\n        vertical-align: top;\n    }\n\n    .dataframe thead th {\n        text-align: right;\n    }\n</style>\n<table border=\"1\" class=\"dataframe\">\n  <thead>\n    <tr style=\"text-align: right;\">\n      <th></th>\n      <th>CustomerAge</th>\n      <th>CustomerGender</th>\n      <th>CustomerSatisfaction</th>\n      <th>PurchaseIntent</th>\n    </tr>\n  </thead>\n  <tbody>\n    <tr>\n      <th>0</th>\n      <td>18</td>\n      <td>Male</td>\n      <td>1</td>\n      <td>0</td>\n    </tr>\n    <tr>\n      <th>1</th>\n      <td>35</td>\n      <td>Female</td>\n      <td>2</td>\n      <td>1</td>\n    </tr>\n    <tr>\n      <th>2</th>\n      <td>63</td>\n      <td>Male</td>\n      <td>5</td>\n      <td>1</td>\n    </tr>\n    <tr>\n      <th>3</th>\n      <td>63</td>\n      <td>Female</td>\n      <td>3</td>\n      <td>1</td>\n    </tr>\n    <tr>\n      <th>4</th>\n      <td>57</td>\n      <td>Male</td>\n      <td>3</td>\n      <td>0</td>\n    </tr>\n    <tr>\n      <th>...</th>\n      <td>...</td>\n      <td>...</td>\n      <td>...</td>\n      <td>...</td>\n    </tr>\n    <tr>\n      <th>8995</th>\n      <td>36</td>\n      <td>Female</td>\n      <td>4</td>\n      <td>0</td>\n    </tr>\n    <tr>\n      <th>8996</th>\n      <td>57</td>\n      <td>Male</td>\n      <td>1</td>\n      <td>1</td>\n    </tr>\n    <tr>\n      <th>8997</th>\n      <td>28</td>\n      <td>Male</td>\n      <td>4</td>\n      <td>0</td>\n    </tr>\n    <tr>\n      <th>8998</th>\n      <td>38</td>\n      <td>Male</td>\n      <td>2</td>\n      <td>1</td>\n    </tr>\n    <tr>\n      <th>8999</th>\n      <td>62</td>\n      <td>Male</td>\n      <td>2</td>\n      <td>1</td>\n    </tr>\n  </tbody>\n</table>\n<p>9000 rows × 4 columns</p>\n</div>"
     },
     "execution_count": 2,
     "metadata": {},
     "output_type": "execute_result"
    }
   ],
   "source": [
    "import pandas as pd\n",
    "\n",
    "df = pd.read_csv(\"consumer.csv\")\n",
    "df"
   ],
   "metadata": {
    "collapsed": false
   }
  },
  {
   "cell_type": "code",
   "execution_count": 3,
   "outputs": [],
   "source": [
    "target = 'PurchaseIntent'\n",
    "selected_features = ['CustomerAge','CustomerGender','CustomerSatisfaction']\n",
    "X = df[selected_features]\n",
    "y = df[target]"
   ],
   "metadata": {
    "collapsed": false
   }
  },
  {
   "cell_type": "code",
   "execution_count": 5,
   "outputs": [
    {
     "data": {
      "text/plain": "      CustomerAge  CustomerSatisfaction  CustomerGender_Female  \\\n0              18                     1                  False   \n1              35                     2                   True   \n2              63                     5                  False   \n3              63                     3                   True   \n4              57                     3                  False   \n...           ...                   ...                    ...   \n8995           36                     4                   True   \n8996           57                     1                  False   \n8997           28                     4                  False   \n8998           38                     2                  False   \n8999           62                     2                  False   \n\n      CustomerGender_Male  \n0                    True  \n1                   False  \n2                    True  \n3                   False  \n4                    True  \n...                   ...  \n8995                False  \n8996                 True  \n8997                 True  \n8998                 True  \n8999                 True  \n\n[9000 rows x 4 columns]",
      "text/html": "<div>\n<style scoped>\n    .dataframe tbody tr th:only-of-type {\n        vertical-align: middle;\n    }\n\n    .dataframe tbody tr th {\n        vertical-align: top;\n    }\n\n    .dataframe thead th {\n        text-align: right;\n    }\n</style>\n<table border=\"1\" class=\"dataframe\">\n  <thead>\n    <tr style=\"text-align: right;\">\n      <th></th>\n      <th>CustomerAge</th>\n      <th>CustomerSatisfaction</th>\n      <th>CustomerGender_Female</th>\n      <th>CustomerGender_Male</th>\n    </tr>\n  </thead>\n  <tbody>\n    <tr>\n      <th>0</th>\n      <td>18</td>\n      <td>1</td>\n      <td>False</td>\n      <td>True</td>\n    </tr>\n    <tr>\n      <th>1</th>\n      <td>35</td>\n      <td>2</td>\n      <td>True</td>\n      <td>False</td>\n    </tr>\n    <tr>\n      <th>2</th>\n      <td>63</td>\n      <td>5</td>\n      <td>False</td>\n      <td>True</td>\n    </tr>\n    <tr>\n      <th>3</th>\n      <td>63</td>\n      <td>3</td>\n      <td>True</td>\n      <td>False</td>\n    </tr>\n    <tr>\n      <th>4</th>\n      <td>57</td>\n      <td>3</td>\n      <td>False</td>\n      <td>True</td>\n    </tr>\n    <tr>\n      <th>...</th>\n      <td>...</td>\n      <td>...</td>\n      <td>...</td>\n      <td>...</td>\n    </tr>\n    <tr>\n      <th>8995</th>\n      <td>36</td>\n      <td>4</td>\n      <td>True</td>\n      <td>False</td>\n    </tr>\n    <tr>\n      <th>8996</th>\n      <td>57</td>\n      <td>1</td>\n      <td>False</td>\n      <td>True</td>\n    </tr>\n    <tr>\n      <th>8997</th>\n      <td>28</td>\n      <td>4</td>\n      <td>False</td>\n      <td>True</td>\n    </tr>\n    <tr>\n      <th>8998</th>\n      <td>38</td>\n      <td>2</td>\n      <td>False</td>\n      <td>True</td>\n    </tr>\n    <tr>\n      <th>8999</th>\n      <td>62</td>\n      <td>2</td>\n      <td>False</td>\n      <td>True</td>\n    </tr>\n  </tbody>\n</table>\n<p>9000 rows × 4 columns</p>\n</div>"
     },
     "execution_count": 5,
     "metadata": {},
     "output_type": "execute_result"
    }
   ],
   "source": [
    "X_encoded = alg.encoding_categorical_variables(X)\n",
    "X_encoded"
   ],
   "metadata": {
    "collapsed": false
   }
  },
  {
   "cell_type": "code",
   "execution_count": 8,
   "outputs": [
    {
     "data": {
      "text/plain": "array([[1, 0, 1],\n       [2, 1, 0],\n       [5, 0, 1],\n       ...,\n       [4, 0, 1],\n       [2, 0, 1],\n       [2, 0, 1]])"
     },
     "execution_count": 8,
     "metadata": {},
     "output_type": "execute_result"
    }
   ],
   "source": [
    "from sklearn.feature_selection import SelectKBest\n",
    "from sklearn.feature_selection import f_classif, mutual_info_classif\n",
    "\n",
    "X_new = SelectKBest(mutual_info_classif, k=3).fit_transform(X_encoded, y)\n",
    "X_new"
   ],
   "metadata": {
    "collapsed": false
   }
  },
  {
   "cell_type": "code",
   "execution_count": 8,
   "outputs": [],
   "source": [
    "classifiers = ['DecisionTree','LogisticRegression','KNN','RandomForest','AdaBoost','SVC']"
   ],
   "metadata": {
    "collapsed": false
   }
  },
  {
   "cell_type": "markdown",
   "source": [
    "TUNING"
   ],
   "metadata": {
    "collapsed": false
   }
  },
  {
   "cell_type": "code",
   "execution_count": 9,
   "outputs": [],
   "source": [
    "import numpy as np"
   ],
   "metadata": {
    "collapsed": false
   }
  },
  {
   "cell_type": "code",
   "execution_count": 49,
   "outputs": [
    {
     "name": "stdout",
     "output_type": "stream",
     "text": [
      "Training for DecisionTree...\n",
      "0.953497074956803\n",
      "Training for DecisionTree...\n",
      "0.9514174355287457\n",
      "Training for DecisionTree...\n",
      "0.9525808480526702\n",
      "Training for DecisionTree...\n",
      "0.9531032868615018\n",
      "Training for DecisionTree...\n",
      "0.9497324949904831\n"
     ]
    },
    {
     "data": {
      "text/plain": "np.float64(0.9525808480526702)"
     },
     "execution_count": 49,
     "metadata": {},
     "output_type": "execute_result"
    }
   ],
   "source": [
    "classifier = 'DecisionTree'\n",
    "param = 110\n",
    "perf_mean = []\n",
    "for param in [100,110,120,130,150]:\n",
    "    perf_mean.append(alg.classification(X[selected_features], y, classifier, param, 8))\n",
    "np.median(perf_mean)"
   ],
   "metadata": {
    "collapsed": false
   }
  },
  {
   "cell_type": "code",
   "execution_count": 18,
   "outputs": [
    {
     "name": "stdout",
     "output_type": "stream",
     "text": [
      "Training for LogisticRegression...\n",
      "0.8534337040238225\n",
      "Training for LogisticRegression...\n",
      "0.8546700737371558\n",
      "Training for LogisticRegression...\n",
      "0.8579177200576382\n",
      "Training for LogisticRegression...\n",
      "0.8529789950676105\n",
      "Training for LogisticRegression...\n",
      "0.8520007157436824\n",
      "Training for LogisticRegression...\n",
      "0.8536600298658871\n",
      "Training for LogisticRegression...\n",
      "0.8571258868225884\n",
      "Training for LogisticRegression...\n",
      "0.8543549035910202\n"
     ]
    },
    {
     "data": {
      "text/plain": "np.float64(0.8540074667284536)"
     },
     "execution_count": 18,
     "metadata": {},
     "output_type": "execute_result"
    }
   ],
   "source": [
    "classifier = 'LogisticRegression'\n",
    "param = 1\n",
    "perf_mean = []\n",
    "for i in range(0,8):\n",
    "    perf_mean.append(alg.classification(X[selected_features], y, classifier, param, 8))\n",
    "np.median(perf_mean)"
   ],
   "metadata": {
    "collapsed": false
   }
  },
  {
   "cell_type": "code",
   "execution_count": 53,
   "outputs": [
    {
     "name": "stdout",
     "output_type": "stream",
     "text": [
      "Training for KNN...\n",
      "0.954424282090893\n",
      "Training for KNN...\n",
      "0.9529234520802756\n",
      "Training for KNN...\n",
      "0.9538547826430845\n",
      "Training for KNN...\n",
      "0.9534571923378468\n",
      "Training for KNN...\n",
      "0.9521874744560641\n"
     ]
    },
    {
     "data": {
      "text/plain": "np.float64(0.9534571923378468)"
     },
     "execution_count": 53,
     "metadata": {},
     "output_type": "execute_result"
    }
   ],
   "source": [
    "classifier = 'KNN'\n",
    "param = 14\n",
    "perf_mean = []\n",
    "for param in [12,13,14,15,16]:\n",
    "    perf_mean.append(alg.classification(X[selected_features], y, classifier, param, 8))\n",
    "np.median(perf_mean)"
   ],
   "metadata": {
    "collapsed": false
   }
  },
  {
   "cell_type": "code",
   "execution_count": 56,
   "outputs": [
    {
     "name": "stdout",
     "output_type": "stream",
     "text": [
      "Training for RandomForest...\n",
      "0.9560555594300233\n",
      "Training for RandomForest...\n",
      "0.9510303612882511\n",
      "Training for RandomForest...\n",
      "0.9528948155006569\n"
     ]
    },
    {
     "data": {
      "text/plain": "np.float64(0.9528948155006569)"
     },
     "execution_count": 56,
     "metadata": {},
     "output_type": "execute_result"
    }
   ],
   "source": [
    "classifier = 'RandomForest'\n",
    "param = 150\n",
    "perf_mean = []\n",
    "for param in [120,145,150]:\n",
    "    perf_mean.append(alg.classification(X[selected_features], y, classifier, param, 8))\n",
    "np.median(perf_mean)"
   ],
   "metadata": {
    "collapsed": false
   }
  },
  {
   "cell_type": "code",
   "execution_count": 62,
   "outputs": [
    {
     "name": "stdout",
     "output_type": "stream",
     "text": [
      "Training for AdaBoost...\n",
      "0.9520011496435519\n",
      "Training for AdaBoost...\n",
      "0.9534939340358832\n",
      "Training for AdaBoost...\n",
      "0.952552922954788\n",
      "Training for AdaBoost...\n",
      "0.9523805902965804\n"
     ]
    },
    {
     "data": {
      "text/plain": "np.float64(0.9524667566256841)"
     },
     "execution_count": 62,
     "metadata": {},
     "output_type": "execute_result"
    }
   ],
   "source": [
    "classifier = 'AdaBoost'\n",
    "param = 110\n",
    "perf_mean = []\n",
    "for param in [120,130,140,150]:\n",
    "    perf_mean.append(alg.classification(X[selected_features], y, classifier, param, 8))\n",
    "np.median(perf_mean)"
   ],
   "metadata": {
    "collapsed": false
   }
  },
  {
   "cell_type": "code",
   "execution_count": 86,
   "outputs": [
    {
     "name": "stdout",
     "output_type": "stream",
     "text": [
      "Training for SVC...\n",
      "0.7137075391436274\n",
      "Training for SVC...\n",
      "0.7193154123799879\n",
      "Training for SVC...\n",
      "0.7141917360595671\n",
      "Training for SVC...\n",
      "0.7309354871011597\n",
      "Training for SVC...\n",
      "0.7060318788853752\n",
      "Training for SVC...\n",
      "0.7102741330866951\n",
      "Training for SVC...\n",
      "0.7329339788566213\n",
      "Training for SVC...\n",
      "0.7189041730300658\n"
     ]
    },
    {
     "data": {
      "text/plain": "np.float64(0.7165479545448165)"
     },
     "execution_count": 86,
     "metadata": {},
     "output_type": "execute_result"
    }
   ],
   "source": [
    "classifier = 'SVC'\n",
    "param = 1\n",
    "perf_mean = []\n",
    "for i in range(0,8):\n",
    "    perf_mean.append(alg.classification(X[selected_features], y, classifier, param, 8))\n",
    "np.median(perf_mean)"
   ],
   "metadata": {
    "collapsed": false
   }
  },
  {
   "cell_type": "code",
   "execution_count": null,
   "outputs": [],
   "source": [],
   "metadata": {
    "collapsed": false
   }
  }
 ],
 "metadata": {
  "kernelspec": {
   "display_name": "Python 3",
   "language": "python",
   "name": "python3"
  },
  "language_info": {
   "codemirror_mode": {
    "name": "ipython",
    "version": 2
   },
   "file_extension": ".py",
   "mimetype": "text/x-python",
   "name": "python",
   "nbconvert_exporter": "python",
   "pygments_lexer": "ipython2",
   "version": "2.7.6"
  }
 },
 "nbformat": 4,
 "nbformat_minor": 0
}
