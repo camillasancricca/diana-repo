{
 "cells": [
  {
   "cell_type": "code",
   "execution_count": 31,
   "metadata": {
    "collapsed": true
   },
   "outputs": [],
   "source": [
    "import pandas as pd\n",
    "import dirty_data as d\n",
    "from sklearn.ensemble import AdaBoostClassifier\n",
    "import matplotlib.pyplot as plt\n",
    "import numpy as np\n",
    "import imputation as i\n",
    "import outlier_detection as od\n",
    "from utils import encoding_categorical_variables as enc\n",
    "from sklearn.preprocessing import StandardScaler"
   ]
  },
  {
   "cell_type": "code",
   "execution_count": 32,
   "outputs": [],
   "source": [
    "df = pd.read_csv(\"../dataset/consumer.csv\")\n",
    "name_class = 'PurchaseIntent'\n",
    "\n",
    "selected_features = ['CustomerAge','CustomerSatisfaction','CustomerGender', name_class]\n",
    "selected_features_only = ['CustomerAge','CustomerSatisfaction','CustomerGender']\n",
    "df = df[selected_features]\n",
    "quality = pd.DataFrame([50,60,70,80,90])\n",
    "perc_quality = [50,60,70,80,90]\n",
    "param = {\n",
    "    'DecisionTree': 100,\n",
    "    'LogisticRegression': 1,\n",
    "    'KNN': 15,\n",
    "    'RandomForest': 120,\n",
    "    'AdaBoost': 120,\n",
    "    'SVC': 1\n",
    "}"
   ],
   "metadata": {
    "collapsed": false
   }
  },
  {
   "cell_type": "code",
   "execution_count": 33,
   "outputs": [],
   "source": [
    "def improve_completeness(df, imp_1, imp_2, imp_3, imp_col_1, imp_col_2, imp_col_3, name_class):\n",
    "    df_clean = df[selected_features_only].copy()\n",
    "\n",
    "    df_clean = i.impute(df_clean, imp_1, imp_col_1)\n",
    "    df_clean = i.impute(df_clean, imp_2, imp_col_2)\n",
    "    df_clean = i.impute(df_clean, imp_3, imp_col_3)\n",
    "\n",
    "    df_clean[name_class] = df[name_class]\n",
    "\n",
    "    return df_clean\n",
    "\n",
    "def improve_accuracy(df, od_1, od_2, imp_1, imp_2, imp_3, imp_col_1, imp_col_2, imp_col_3, name_class):\n",
    "\n",
    "    df_clean = df.copy()\n",
    "\n",
    "    df_clean = improve_completeness(df_clean, imp_1, imp_2, imp_3, imp_col_1, imp_col_2, imp_col_3, name_class)\n",
    "\n",
    "    indexes_1 = od.outliers(df_clean, od_1, selected_features[0])\n",
    "    indexes_2 = od.outliers(df_clean, od_2, selected_features[1])\n",
    "\n",
    "    df_clean.loc[indexes_1,selected_features[0]] = np.nan\n",
    "    df_clean.loc[indexes_2,selected_features[1]] = np.nan\n",
    "\n",
    "    df_clean[name_class] = df[name_class]\n",
    "\n",
    "    return df_clean"
   ],
   "metadata": {
    "collapsed": false
   }
  },
  {
   "cell_type": "code",
   "execution_count": 34,
   "outputs": [
    {
     "name": "stdout",
     "output_type": "stream",
     "text": [
      "saved dirty dataset 50%\n"
     ]
    }
   ],
   "source": [
    "df_dirt_50 = d.injection(df, name_class, 50/100, 10, 1)\n",
    "df_100 = df"
   ],
   "metadata": {
    "collapsed": false
   }
  },
  {
   "cell_type": "code",
   "execution_count": 34,
   "outputs": [],
   "source": [],
   "metadata": {
    "collapsed": false
   }
  },
  {
   "cell_type": "code",
   "execution_count": 35,
   "outputs": [
    {
     "name": "stderr",
     "output_type": "stream",
     "text": [
      "/Users/camillasancricca/PycharmProjects/validationDIANA/venv/lib/python3.11/site-packages/sklearn/ensemble/_weight_boosting.py:527: FutureWarning: The SAMME.R algorithm (the default) is deprecated and will be removed in 1.6. Use the SAMME algorithm to circumvent this warning.\n",
      "  warnings.warn(\n"
     ]
    },
    {
     "data": {
      "text/plain": "<Figure size 640x480 with 1 Axes>",
      "image/png": "[encoded data removed]"
     },
     "metadata": {},
     "output_type": "display_data"
    }
   ],
   "source": [
    "### quality 50%\n",
    "\n",
    "clf = AdaBoostClassifier(n_estimators=param['AdaBoost'])\n",
    "\n",
    "X = enc(df_dirt_50[selected_features_only])\n",
    "X = StandardScaler().fit_transform(X)\n",
    "X = np.nan_to_num(X)\n",
    "\n",
    "df_dirt_60 = clf.fit(X, df_dirt_50[name_class])\n",
    "importances_1 = df_dirt_60.feature_importances_\n",
    "\n",
    "forest_importances = pd.Series(importances_1)\n",
    "std = np.std([tree.feature_importances_ for tree in df_dirt_60.estimators_], axis=0)\n",
    "fig, ax = plt.subplots()\n",
    "forest_importances.plot.bar(yerr=std, ax=ax)\n",
    "ax.set_title(\"Feature importances\")\n",
    "plt.savefig(\"/Users/camillasancricca/Desktop/\" + '50-d' + \".pdf\", bbox_inches='tight')\n",
    "fig.tight_layout()"
   ],
   "metadata": {
    "collapsed": false
   }
  },
  {
   "cell_type": "code",
   "execution_count": 36,
   "outputs": [
    {
     "name": "stderr",
     "output_type": "stream",
     "text": [
      "/Users/camillasancricca/PycharmProjects/validationDIANA/venv/lib/python3.11/site-packages/sklearn/ensemble/_weight_boosting.py:527: FutureWarning: The SAMME.R algorithm (the default) is deprecated and will be removed in 1.6. Use the SAMME algorithm to circumvent this warning.\n",
      "  warnings.warn(\n"
     ]
    },
    {
     "data": {
      "text/plain": "<Figure size 640x480 with 1 Axes>",
      "image/png": "[encoded data removed]"
     },
     "metadata": {},
     "output_type": "display_data"
    }
   ],
   "source": [
    "### quality 100%\n",
    "\n",
    "clf = AdaBoostClassifier(n_estimators=param['AdaBoost'])\n",
    "\n",
    "X = enc(df_100[selected_features_only])\n",
    "X = StandardScaler().fit_transform(X)\n",
    "X = np.nan_to_num(X)\n",
    "\n",
    "df_100 = clf.fit(X, df_100[name_class])\n",
    "importances_1 = df_100.feature_importances_\n",
    "\n",
    "forest_importances = pd.Series(importances_1)\n",
    "std = np.std([tree.feature_importances_ for tree in df_100.estimators_], axis=0)\n",
    "fig, ax = plt.subplots()\n",
    "forest_importances.plot.bar(yerr=std, ax=ax)\n",
    "ax.set_title(\"Feature importances\")\n",
    "plt.savefig(\"/Users/camillasancricca/Desktop/\" + '100' + \".pdf\", bbox_inches='tight')\n",
    "fig.tight_layout()"
   ],
   "metadata": {
    "collapsed": false
   }
  },
  {
   "cell_type": "code",
   "execution_count": 37,
   "outputs": [
    {
     "name": "stdout",
     "output_type": "stream",
     "text": [
      "saved dirty dataset 50%\n"
     ]
    }
   ],
   "source": [
    "df_dirt_50 = d.injection(df, name_class, 50/100, 10, 1)\n",
    "\n",
    "df_clean_50 = improve_accuracy(df_dirt_50, 'ZSB', 'ZSB', 'impute_standard', 'impute_standard',\n",
    "                                           'impute_mode', 'CustomerAge','CustomerSatisfaction','CustomerGender', name_class)"
   ],
   "metadata": {
    "collapsed": false
   }
  },
  {
   "cell_type": "code",
   "execution_count": 38,
   "outputs": [
    {
     "name": "stderr",
     "output_type": "stream",
     "text": [
      "/Users/camillasancricca/PycharmProjects/validationDIANA/venv/lib/python3.11/site-packages/sklearn/ensemble/_weight_boosting.py:527: FutureWarning: The SAMME.R algorithm (the default) is deprecated and will be removed in 1.6. Use the SAMME algorithm to circumvent this warning.\n",
      "  warnings.warn(\n"
     ]
    },
    {
     "data": {
      "text/plain": "<Figure size 640x480 with 1 Axes>",
      "image/png": "[encoded data removed]"
     },
     "metadata": {},
     "output_type": "display_data"
    }
   ],
   "source": [
    "### quality 50%-clean\n",
    "\n",
    "clf = AdaBoostClassifier(n_estimators=param['AdaBoost'])\n",
    "\n",
    "X = enc(df_clean_50[selected_features_only])\n",
    "X = StandardScaler().fit_transform(X)\n",
    "X = np.nan_to_num(X)\n",
    "\n",
    "df_clean_50 = clf.fit(X, df_clean_50[name_class])\n",
    "importances_1 = df_clean_50.feature_importances_\n",
    "\n",
    "forest_importances = pd.Series(importances_1)\n",
    "std = np.std([tree.feature_importances_ for tree in df_clean_50.estimators_], axis=0)\n",
    "fig, ax = plt.subplots()\n",
    "forest_importances.plot.bar(yerr=std, ax=ax)\n",
    "ax.set_title(\"Feature importances\")\n",
    "plt.savefig(\"/Users/camillasancricca/Desktop/\" + '50-c' + \".pdf\", bbox_inches='tight')\n",
    "fig.tight_layout()"
   ],
   "metadata": {
    "collapsed": false
   }
  },
  {
   "cell_type": "code",
   "execution_count": null,
   "outputs": [],
   "source": [],
   "metadata": {
    "collapsed": false,
    "pycharm": {
     "is_executing": true
    }
   }
  },
  {
   "cell_type": "code",
   "execution_count": 38,
   "outputs": [],
   "source": [],
   "metadata": {
    "collapsed": false
   }
  }
 ],
 "metadata": {
  "kernelspec": {
   "display_name": "Python 3",
   "language": "python",
   "name": "python3"
  },
  "language_info": {
   "codemirror_mode": {
    "name": "ipython",
    "version": 2
   },
   "file_extension": ".py",
   "mimetype": "text/x-python",
   "name": "python",
   "nbconvert_exporter": "python",
   "pygments_lexer": "ipython2",
   "version": "2.7.6"
  }
 },
 "nbformat": 4,
 "nbformat_minor": 0
}
