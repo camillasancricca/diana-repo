{
 "cells": [
  {
   "cell_type": "code",
   "execution_count": 1,
   "metadata": {
    "collapsed": true
   },
   "outputs": [],
   "source": [
    "import pandas as pd"
   ]
  },
  {
   "cell_type": "code",
   "execution_count": 2,
   "outputs": [],
   "source": [
    "schedule = pd.read_csv('schedule/compiled_sample_schedule.csv')"
   ],
   "metadata": {
    "collapsed": false
   }
  },
  {
   "cell_type": "code",
   "execution_count": 3,
   "outputs": [],
   "source": [
    "schedule_50 = schedule[schedule.quality == 50]\n",
    "schedule_60 = schedule[schedule.quality == 60]\n",
    "schedule_70 = schedule[schedule.quality == 70]\n",
    "schedule_80 = schedule[schedule.quality == 80]\n",
    "schedule_90 = schedule[schedule.quality == 90]\n"
   ],
   "metadata": {
    "collapsed": false
   }
  },
  {
   "cell_type": "code",
   "execution_count": 6,
   "outputs": [
    {
     "name": "stdout",
     "output_type": "stream",
     "text": [
      "-----Order for DecisionTree-----\n",
      "imp_col_3\n",
      "Strength        34\n",
      "Intelligence     3\n",
      "Weaknesses       3\n",
      "Name: count, dtype: int64\n",
      "-----Order for LogisticRegression-----\n",
      "imp_col_3\n",
      "Strength        20\n",
      "Intelligence    16\n",
      "Weaknesses       4\n",
      "Name: count, dtype: int64\n",
      "-----Order for KNN-----\n",
      "imp_col_3\n",
      "Strength        29\n",
      "Intelligence    11\n",
      "Name: count, dtype: int64\n",
      "-----Order for RandomForest-----\n",
      "imp_col_3\n",
      "Strength        16\n",
      "Intelligence    15\n",
      "Weaknesses       9\n",
      "Name: count, dtype: int64\n",
      "-----Order for AdaBoost-----\n",
      "imp_col_3\n",
      "Strength        18\n",
      "Intelligence    14\n",
      "Weaknesses       8\n",
      "Name: count, dtype: int64\n",
      "-----Order for SVC-----\n",
      "imp_col_3\n",
      "Weaknesses      19\n",
      "Strength        15\n",
      "Intelligence     6\n",
      "Name: count, dtype: int64\n"
     ]
    }
   ],
   "source": [
    "for a in ['DecisionTree','LogisticRegression','KNN','RandomForest','AdaBoost','SVC']:\n",
    "    print('-----'+'Order for '+a+'-----')\n",
    "    schedule_90 = schedule_90.sort_values(by=[a+'_2'], ascending=False)\n",
    "    #print(schedule_90[0:40].imp_col_1.value_counts())\n",
    "    #print(schedule_90[0:40].imp_col_2.value_counts())\n",
    "    print(schedule_90[0:40].imp_col_3.value_counts())"
   ],
   "metadata": {
    "collapsed": false
   }
  },
  {
   "cell_type": "code",
   "execution_count": 5,
   "outputs": [],
   "source": [
    "### 90% Prevale: Weaknesses/Intelligence, Weaknesses/Intelligence, Strenght"
   ],
   "metadata": {
    "collapsed": false
   }
  },
  {
   "cell_type": "code",
   "execution_count": 9,
   "outputs": [
    {
     "name": "stdout",
     "output_type": "stream",
     "text": [
      "-----Order for DecisionTree-----\n",
      "imp_col_2\n",
      "Intelligence    18\n",
      "Weaknesses      11\n",
      "Strength        11\n",
      "Name: count, dtype: int64\n",
      "-----Order for LogisticRegression-----\n",
      "imp_col_2\n",
      "Weaknesses      17\n",
      "Intelligence    13\n",
      "Strength        10\n",
      "Name: count, dtype: int64\n",
      "-----Order for KNN-----\n",
      "imp_col_2\n",
      "Strength        15\n",
      "Weaknesses      13\n",
      "Intelligence    12\n",
      "Name: count, dtype: int64\n",
      "-----Order for RandomForest-----\n",
      "imp_col_2\n",
      "Weaknesses      22\n",
      "Strength        15\n",
      "Intelligence     3\n",
      "Name: count, dtype: int64\n",
      "-----Order for AdaBoost-----\n",
      "imp_col_2\n",
      "Strength        18\n",
      "Intelligence    16\n",
      "Weaknesses       6\n",
      "Name: count, dtype: int64\n",
      "-----Order for SVC-----\n",
      "imp_col_2\n",
      "Weaknesses      17\n",
      "Strength        14\n",
      "Intelligence     9\n",
      "Name: count, dtype: int64\n"
     ]
    }
   ],
   "source": [
    "for a in ['DecisionTree','LogisticRegression','KNN','RandomForest','AdaBoost','SVC']:\n",
    "    print('-----'+'Order for '+a+'-----')\n",
    "    schedule_50 = schedule_50.sort_values(by=[a+'_2'], ascending=False)\n",
    "    #print(schedule_50[0:40].imp_col_1.value_counts())\n",
    "    #print(schedule_50[0:40].imp_col_2.value_counts())\n",
    "    #print(schedule_50[0:40].imp_col_3.value_counts())\n"
   ],
   "metadata": {
    "collapsed": false
   }
  },
  {
   "cell_type": "code",
   "execution_count": null,
   "outputs": [],
   "source": [
    "### 50% Prevale: Weaknesses/Intelligence, Weaknesses/Strenght, Intelligence/Strenght\n"
   ],
   "metadata": {
    "collapsed": false
   }
  },
  {
   "cell_type": "code",
   "execution_count": null,
   "outputs": [],
   "source": [],
   "metadata": {
    "collapsed": false
   }
  }
 ],
 "metadata": {
  "kernelspec": {
   "display_name": "Python 3",
   "language": "python",
   "name": "python3"
  },
  "language_info": {
   "codemirror_mode": {
    "name": "ipython",
    "version": 2
   },
   "file_extension": ".py",
   "mimetype": "text/x-python",
   "name": "python",
   "nbconvert_exporter": "python",
   "pygments_lexer": "ipython2",
   "version": "2.7.6"
  }
 },
 "nbformat": 4,
 "nbformat_minor": 0
}
