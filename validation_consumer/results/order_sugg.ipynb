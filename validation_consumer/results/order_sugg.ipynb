{
 "cells": [
  {
   "cell_type": "code",
   "execution_count": 1,
   "metadata": {
    "collapsed": true
   },
   "outputs": [],
   "source": [
    "import pandas as pd"
   ]
  },
  {
   "cell_type": "code",
   "execution_count": 2,
   "outputs": [],
   "source": [
    "schedule_sugg = pd.read_csv('schedule/compiled_schedule_suggested.csv')"
   ],
   "metadata": {
    "collapsed": false
   }
  },
  {
   "cell_type": "code",
   "execution_count": 4,
   "outputs": [
    {
     "data": {
      "text/plain": "    dimension_1   dimension_2       imp_1       imp_2       imp_3 od_1 od_2  \\\n149    accuracy  completeness  impute_knn  impute_knn  impute_knn  ZSB  ZSB   \n131    accuracy  completeness  impute_knn  impute_knn  impute_knn  ZSB  ZSB   \n167    accuracy  completeness  impute_knn  impute_knn  impute_knn  ZSB  ZSB   \n125    accuracy  completeness  impute_knn  impute_knn  impute_knn  ZSB  ZSB   \n101    accuracy  completeness  impute_knn  impute_knn  impute_knn  ZSB  ZSB   \n173    accuracy  completeness  impute_knn  impute_knn  impute_knn  ZSB  ZSB   \n35     accuracy  completeness  impute_knn  impute_knn  impute_knn  ZSB  ZSB   \n29     accuracy  completeness  impute_knn  impute_knn  impute_knn  ZSB  ZSB   \n155    accuracy  completeness  impute_knn  impute_knn  impute_knn  ZSB  ZSB   \n5      accuracy  completeness  impute_knn  impute_knn  impute_knn  ZSB  ZSB   \n47     accuracy  completeness  impute_knn  impute_knn  impute_knn  ZSB  ZSB   \n95     accuracy  completeness  impute_knn  impute_knn  impute_knn  ZSB  ZSB   \n65     accuracy  completeness  impute_knn  impute_knn  impute_knn  ZSB  ZSB   \n143    accuracy  completeness  impute_knn  impute_knn  impute_knn  ZSB  ZSB   \n83     accuracy  completeness  impute_knn  impute_knn  impute_knn  ZSB  ZSB   \n11     accuracy  completeness  impute_knn  impute_knn  impute_knn  ZSB  ZSB   \n17     accuracy  completeness  impute_knn  impute_knn  impute_knn  ZSB  ZSB   \n107    accuracy  completeness  impute_knn  impute_knn  impute_knn  ZSB  ZSB   \n161    accuracy  completeness  impute_knn  impute_knn  impute_knn  ZSB  ZSB   \n23     accuracy  completeness  impute_knn  impute_knn  impute_knn  ZSB  ZSB   \n179    accuracy  completeness  impute_knn  impute_knn  impute_knn  ZSB  ZSB   \n77     accuracy  completeness  impute_knn  impute_knn  impute_knn  ZSB  ZSB   \n41     accuracy  completeness  impute_knn  impute_knn  impute_knn  ZSB  ZSB   \n71     accuracy  completeness  impute_knn  impute_knn  impute_knn  ZSB  ZSB   \n89     accuracy  completeness  impute_knn  impute_knn  impute_knn  ZSB  ZSB   \n119    accuracy  completeness  impute_knn  impute_knn  impute_knn  ZSB  ZSB   \n59     accuracy  completeness  impute_knn  impute_knn  impute_knn  ZSB  ZSB   \n53     accuracy  completeness  impute_knn  impute_knn  impute_knn  ZSB  ZSB   \n137    accuracy  completeness  impute_knn  impute_knn  impute_knn  ZSB  ZSB   \n113    accuracy  completeness  impute_knn  impute_knn  impute_knn  ZSB  ZSB   \n\n                imp_col_1             imp_col_2             imp_col_3  \\\n149           CustomerAge  CustomerSatisfaction        CustomerGender   \n131  CustomerSatisfaction        CustomerGender           CustomerAge   \n167  CustomerSatisfaction        CustomerGender           CustomerAge   \n125  CustomerSatisfaction           CustomerAge        CustomerGender   \n101        CustomerGender           CustomerAge  CustomerSatisfaction   \n173        CustomerGender           CustomerAge  CustomerSatisfaction   \n35         CustomerGender  CustomerSatisfaction           CustomerAge   \n29         CustomerGender           CustomerAge  CustomerSatisfaction   \n155           CustomerAge        CustomerGender  CustomerSatisfaction   \n5             CustomerAge  CustomerSatisfaction        CustomerGender   \n47            CustomerAge        CustomerGender  CustomerSatisfaction   \n95   CustomerSatisfaction        CustomerGender           CustomerAge   \n65         CustomerGender           CustomerAge  CustomerSatisfaction   \n143        CustomerGender  CustomerSatisfaction           CustomerAge   \n83            CustomerAge        CustomerGender  CustomerSatisfaction   \n11            CustomerAge        CustomerGender  CustomerSatisfaction   \n17   CustomerSatisfaction           CustomerAge        CustomerGender   \n107        CustomerGender  CustomerSatisfaction           CustomerAge   \n161  CustomerSatisfaction           CustomerAge        CustomerGender   \n23   CustomerSatisfaction        CustomerGender           CustomerAge   \n179        CustomerGender  CustomerSatisfaction           CustomerAge   \n77            CustomerAge  CustomerSatisfaction        CustomerGender   \n41            CustomerAge  CustomerSatisfaction        CustomerGender   \n71         CustomerGender  CustomerSatisfaction           CustomerAge   \n89   CustomerSatisfaction           CustomerAge        CustomerGender   \n119           CustomerAge        CustomerGender  CustomerSatisfaction   \n59   CustomerSatisfaction        CustomerGender           CustomerAge   \n53   CustomerSatisfaction           CustomerAge        CustomerGender   \n137        CustomerGender           CustomerAge  CustomerSatisfaction   \n113           CustomerAge  CustomerSatisfaction        CustomerGender   \n\n     quality algorithm  perf_dirty    perf_1    perf_2  \n149       90       SVC    0.394398  0.636008  0.740171  \n131       80       SVC    0.352249  0.568629  0.621844  \n167       90       SVC    0.429414  0.613234  0.564388  \n125       80       SVC    0.308870  0.632228  0.518795  \n101       70       SVC    0.429705  0.401776  0.513669  \n173       90       SVC    0.299245  0.601559  0.507615  \n35        50       SVC    0.456041  0.403838  0.507593  \n29        50       SVC    0.439945  0.499039  0.497053  \n155       90       SVC    0.433862  0.694812  0.488271  \n5         50       SVC    0.390439  0.324153  0.475400  \n47        60       SVC    0.305694  0.437247  0.470747  \n95        70       SVC    0.336103  0.438413  0.464922  \n65        60       SVC    0.353452  0.392297  0.454831  \n143       80       SVC    0.398389  0.511567  0.454417  \n83        70       SVC    0.341306  0.406415  0.441670  \n11        50       SVC    0.294961  0.334844  0.429364  \n17        50       SVC    0.374616  0.315606  0.415291  \n107       70       SVC    0.339553  0.429160  0.407651  \n161       90       SVC    0.349694  0.634984  0.406053  \n23        50       SVC    0.306220  0.509287  0.402282  \n179       90       SVC    0.303894  0.643646  0.399516  \n77        70       SVC    0.339596  0.460484  0.396287  \n41        60       SVC    0.359101  0.437693  0.392123  \n71        60       SVC    0.321272  0.356771  0.384121  \n89        70       SVC    0.392880  0.356115  0.380099  \n119       80       SVC    0.365350  0.456388  0.375411  \n59        60       SVC    0.304133  0.393645  0.374849  \n53        60       SVC    0.412561  0.435114  0.361069  \n137       80       SVC    0.565767  0.429290  0.333357  \n113       80       SVC    0.313392  0.557746  0.315693  ",
      "text/html": "<div>\n<style scoped>\n    .dataframe tbody tr th:only-of-type {\n        vertical-align: middle;\n    }\n\n    .dataframe tbody tr th {\n        vertical-align: top;\n    }\n\n    .dataframe thead th {\n        text-align: right;\n    }\n</style>\n<table border=\"1\" class=\"dataframe\">\n  <thead>\n    <tr style=\"text-align: right;\">\n      <th></th>\n      <th>dimension_1</th>\n      <th>dimension_2</th>\n      <th>imp_1</th>\n      <th>imp_2</th>\n      <th>imp_3</th>\n      <th>od_1</th>\n      <th>od_2</th>\n      <th>imp_col_1</th>\n      <th>imp_col_2</th>\n      <th>imp_col_3</th>\n      <th>quality</th>\n      <th>algorithm</th>\n      <th>perf_dirty</th>\n      <th>perf_1</th>\n      <th>perf_2</th>\n    </tr>\n  </thead>\n  <tbody>\n    <tr>\n      <th>149</th>\n      <td>accuracy</td>\n      <td>completeness</td>\n      <td>impute_knn</td>\n      <td>impute_knn</td>\n      <td>impute_knn</td>\n      <td>ZSB</td>\n      <td>ZSB</td>\n      <td>CustomerAge</td>\n      <td>CustomerSatisfaction</td>\n      <td>CustomerGender</td>\n      <td>90</td>\n      <td>SVC</td>\n      <td>0.394398</td>\n      <td>0.636008</td>\n      <td>0.740171</td>\n    </tr>\n    <tr>\n      <th>131</th>\n      <td>accuracy</td>\n      <td>completeness</td>\n      <td>impute_knn</td>\n      <td>impute_knn</td>\n      <td>impute_knn</td>\n      <td>ZSB</td>\n      <td>ZSB</td>\n      <td>CustomerSatisfaction</td>\n      <td>CustomerGender</td>\n      <td>CustomerAge</td>\n      <td>80</td>\n      <td>SVC</td>\n      <td>0.352249</td>\n      <td>0.568629</td>\n      <td>0.621844</td>\n    </tr>\n    <tr>\n      <th>167</th>\n      <td>accuracy</td>\n      <td>completeness</td>\n      <td>impute_knn</td>\n      <td>impute_knn</td>\n      <td>impute_knn</td>\n      <td>ZSB</td>\n      <td>ZSB</td>\n      <td>CustomerSatisfaction</td>\n      <td>CustomerGender</td>\n      <td>CustomerAge</td>\n      <td>90</td>\n      <td>SVC</td>\n      <td>0.429414</td>\n      <td>0.613234</td>\n      <td>0.564388</td>\n    </tr>\n    <tr>\n      <th>125</th>\n      <td>accuracy</td>\n      <td>completeness</td>\n      <td>impute_knn</td>\n      <td>impute_knn</td>\n      <td>impute_knn</td>\n      <td>ZSB</td>\n      <td>ZSB</td>\n      <td>CustomerSatisfaction</td>\n      <td>CustomerAge</td>\n      <td>CustomerGender</td>\n      <td>80</td>\n      <td>SVC</td>\n      <td>0.308870</td>\n      <td>0.632228</td>\n      <td>0.518795</td>\n    </tr>\n    <tr>\n      <th>101</th>\n      <td>accuracy</td>\n      <td>completeness</td>\n      <td>impute_knn</td>\n      <td>impute_knn</td>\n      <td>impute_knn</td>\n      <td>ZSB</td>\n      <td>ZSB</td>\n      <td>CustomerGender</td>\n      <td>CustomerAge</td>\n      <td>CustomerSatisfaction</td>\n      <td>70</td>\n      <td>SVC</td>\n      <td>0.429705</td>\n      <td>0.401776</td>\n      <td>0.513669</td>\n    </tr>\n    <tr>\n      <th>173</th>\n      <td>accuracy</td>\n      <td>completeness</td>\n      <td>impute_knn</td>\n      <td>impute_knn</td>\n      <td>impute_knn</td>\n      <td>ZSB</td>\n      <td>ZSB</td>\n      <td>CustomerGender</td>\n      <td>CustomerAge</td>\n      <td>CustomerSatisfaction</td>\n      <td>90</td>\n      <td>SVC</td>\n      <td>0.299245</td>\n      <td>0.601559</td>\n      <td>0.507615</td>\n    </tr>\n    <tr>\n      <th>35</th>\n      <td>accuracy</td>\n      <td>completeness</td>\n      <td>impute_knn</td>\n      <td>impute_knn</td>\n      <td>impute_knn</td>\n      <td>ZSB</td>\n      <td>ZSB</td>\n      <td>CustomerGender</td>\n      <td>CustomerSatisfaction</td>\n      <td>CustomerAge</td>\n      <td>50</td>\n      <td>SVC</td>\n      <td>0.456041</td>\n      <td>0.403838</td>\n      <td>0.507593</td>\n    </tr>\n    <tr>\n      <th>29</th>\n      <td>accuracy</td>\n      <td>completeness</td>\n      <td>impute_knn</td>\n      <td>impute_knn</td>\n      <td>impute_knn</td>\n      <td>ZSB</td>\n      <td>ZSB</td>\n      <td>CustomerGender</td>\n      <td>CustomerAge</td>\n      <td>CustomerSatisfaction</td>\n      <td>50</td>\n      <td>SVC</td>\n      <td>0.439945</td>\n      <td>0.499039</td>\n      <td>0.497053</td>\n    </tr>\n    <tr>\n      <th>155</th>\n      <td>accuracy</td>\n      <td>completeness</td>\n      <td>impute_knn</td>\n      <td>impute_knn</td>\n      <td>impute_knn</td>\n      <td>ZSB</td>\n      <td>ZSB</td>\n      <td>CustomerAge</td>\n      <td>CustomerGender</td>\n      <td>CustomerSatisfaction</td>\n      <td>90</td>\n      <td>SVC</td>\n      <td>0.433862</td>\n      <td>0.694812</td>\n      <td>0.488271</td>\n    </tr>\n    <tr>\n      <th>5</th>\n      <td>accuracy</td>\n      <td>completeness</td>\n      <td>impute_knn</td>\n      <td>impute_knn</td>\n      <td>impute_knn</td>\n      <td>ZSB</td>\n      <td>ZSB</td>\n      <td>CustomerAge</td>\n      <td>CustomerSatisfaction</td>\n      <td>CustomerGender</td>\n      <td>50</td>\n      <td>SVC</td>\n      <td>0.390439</td>\n      <td>0.324153</td>\n      <td>0.475400</td>\n    </tr>\n    <tr>\n      <th>47</th>\n      <td>accuracy</td>\n      <td>completeness</td>\n      <td>impute_knn</td>\n      <td>impute_knn</td>\n      <td>impute_knn</td>\n      <td>ZSB</td>\n      <td>ZSB</td>\n      <td>CustomerAge</td>\n      <td>CustomerGender</td>\n      <td>CustomerSatisfaction</td>\n      <td>60</td>\n      <td>SVC</td>\n      <td>0.305694</td>\n      <td>0.437247</td>\n      <td>0.470747</td>\n    </tr>\n    <tr>\n      <th>95</th>\n      <td>accuracy</td>\n      <td>completeness</td>\n      <td>impute_knn</td>\n      <td>impute_knn</td>\n      <td>impute_knn</td>\n      <td>ZSB</td>\n      <td>ZSB</td>\n      <td>CustomerSatisfaction</td>\n      <td>CustomerGender</td>\n      <td>CustomerAge</td>\n      <td>70</td>\n      <td>SVC</td>\n      <td>0.336103</td>\n      <td>0.438413</td>\n      <td>0.464922</td>\n    </tr>\n    <tr>\n      <th>65</th>\n      <td>accuracy</td>\n      <td>completeness</td>\n      <td>impute_knn</td>\n      <td>impute_knn</td>\n      <td>impute_knn</td>\n      <td>ZSB</td>\n      <td>ZSB</td>\n      <td>CustomerGender</td>\n      <td>CustomerAge</td>\n      <td>CustomerSatisfaction</td>\n      <td>60</td>\n      <td>SVC</td>\n      <td>0.353452</td>\n      <td>0.392297</td>\n      <td>0.454831</td>\n    </tr>\n    <tr>\n      <th>143</th>\n      <td>accuracy</td>\n      <td>completeness</td>\n      <td>impute_knn</td>\n      <td>impute_knn</td>\n      <td>impute_knn</td>\n      <td>ZSB</td>\n      <td>ZSB</td>\n      <td>CustomerGender</td>\n      <td>CustomerSatisfaction</td>\n      <td>CustomerAge</td>\n      <td>80</td>\n      <td>SVC</td>\n      <td>0.398389</td>\n      <td>0.511567</td>\n      <td>0.454417</td>\n    </tr>\n    <tr>\n      <th>83</th>\n      <td>accuracy</td>\n      <td>completeness</td>\n      <td>impute_knn</td>\n      <td>impute_knn</td>\n      <td>impute_knn</td>\n      <td>ZSB</td>\n      <td>ZSB</td>\n      <td>CustomerAge</td>\n      <td>CustomerGender</td>\n      <td>CustomerSatisfaction</td>\n      <td>70</td>\n      <td>SVC</td>\n      <td>0.341306</td>\n      <td>0.406415</td>\n      <td>0.441670</td>\n    </tr>\n    <tr>\n      <th>11</th>\n      <td>accuracy</td>\n      <td>completeness</td>\n      <td>impute_knn</td>\n      <td>impute_knn</td>\n      <td>impute_knn</td>\n      <td>ZSB</td>\n      <td>ZSB</td>\n      <td>CustomerAge</td>\n      <td>CustomerGender</td>\n      <td>CustomerSatisfaction</td>\n      <td>50</td>\n      <td>SVC</td>\n      <td>0.294961</td>\n      <td>0.334844</td>\n      <td>0.429364</td>\n    </tr>\n    <tr>\n      <th>17</th>\n      <td>accuracy</td>\n      <td>completeness</td>\n      <td>impute_knn</td>\n      <td>impute_knn</td>\n      <td>impute_knn</td>\n      <td>ZSB</td>\n      <td>ZSB</td>\n      <td>CustomerSatisfaction</td>\n      <td>CustomerAge</td>\n      <td>CustomerGender</td>\n      <td>50</td>\n      <td>SVC</td>\n      <td>0.374616</td>\n      <td>0.315606</td>\n      <td>0.415291</td>\n    </tr>\n    <tr>\n      <th>107</th>\n      <td>accuracy</td>\n      <td>completeness</td>\n      <td>impute_knn</td>\n      <td>impute_knn</td>\n      <td>impute_knn</td>\n      <td>ZSB</td>\n      <td>ZSB</td>\n      <td>CustomerGender</td>\n      <td>CustomerSatisfaction</td>\n      <td>CustomerAge</td>\n      <td>70</td>\n      <td>SVC</td>\n      <td>0.339553</td>\n      <td>0.429160</td>\n      <td>0.407651</td>\n    </tr>\n    <tr>\n      <th>161</th>\n      <td>accuracy</td>\n      <td>completeness</td>\n      <td>impute_knn</td>\n      <td>impute_knn</td>\n      <td>impute_knn</td>\n      <td>ZSB</td>\n      <td>ZSB</td>\n      <td>CustomerSatisfaction</td>\n      <td>CustomerAge</td>\n      <td>CustomerGender</td>\n      <td>90</td>\n      <td>SVC</td>\n      <td>0.349694</td>\n      <td>0.634984</td>\n      <td>0.406053</td>\n    </tr>\n    <tr>\n      <th>23</th>\n      <td>accuracy</td>\n      <td>completeness</td>\n      <td>impute_knn</td>\n      <td>impute_knn</td>\n      <td>impute_knn</td>\n      <td>ZSB</td>\n      <td>ZSB</td>\n      <td>CustomerSatisfaction</td>\n      <td>CustomerGender</td>\n      <td>CustomerAge</td>\n      <td>50</td>\n      <td>SVC</td>\n      <td>0.306220</td>\n      <td>0.509287</td>\n      <td>0.402282</td>\n    </tr>\n    <tr>\n      <th>179</th>\n      <td>accuracy</td>\n      <td>completeness</td>\n      <td>impute_knn</td>\n      <td>impute_knn</td>\n      <td>impute_knn</td>\n      <td>ZSB</td>\n      <td>ZSB</td>\n      <td>CustomerGender</td>\n      <td>CustomerSatisfaction</td>\n      <td>CustomerAge</td>\n      <td>90</td>\n      <td>SVC</td>\n      <td>0.303894</td>\n      <td>0.643646</td>\n      <td>0.399516</td>\n    </tr>\n    <tr>\n      <th>77</th>\n      <td>accuracy</td>\n      <td>completeness</td>\n      <td>impute_knn</td>\n      <td>impute_knn</td>\n      <td>impute_knn</td>\n      <td>ZSB</td>\n      <td>ZSB</td>\n      <td>CustomerAge</td>\n      <td>CustomerSatisfaction</td>\n      <td>CustomerGender</td>\n      <td>70</td>\n      <td>SVC</td>\n      <td>0.339596</td>\n      <td>0.460484</td>\n      <td>0.396287</td>\n    </tr>\n    <tr>\n      <th>41</th>\n      <td>accuracy</td>\n      <td>completeness</td>\n      <td>impute_knn</td>\n      <td>impute_knn</td>\n      <td>impute_knn</td>\n      <td>ZSB</td>\n      <td>ZSB</td>\n      <td>CustomerAge</td>\n      <td>CustomerSatisfaction</td>\n      <td>CustomerGender</td>\n      <td>60</td>\n      <td>SVC</td>\n      <td>0.359101</td>\n      <td>0.437693</td>\n      <td>0.392123</td>\n    </tr>\n    <tr>\n      <th>71</th>\n      <td>accuracy</td>\n      <td>completeness</td>\n      <td>impute_knn</td>\n      <td>impute_knn</td>\n      <td>impute_knn</td>\n      <td>ZSB</td>\n      <td>ZSB</td>\n      <td>CustomerGender</td>\n      <td>CustomerSatisfaction</td>\n      <td>CustomerAge</td>\n      <td>60</td>\n      <td>SVC</td>\n      <td>0.321272</td>\n      <td>0.356771</td>\n      <td>0.384121</td>\n    </tr>\n    <tr>\n      <th>89</th>\n      <td>accuracy</td>\n      <td>completeness</td>\n      <td>impute_knn</td>\n      <td>impute_knn</td>\n      <td>impute_knn</td>\n      <td>ZSB</td>\n      <td>ZSB</td>\n      <td>CustomerSatisfaction</td>\n      <td>CustomerAge</td>\n      <td>CustomerGender</td>\n      <td>70</td>\n      <td>SVC</td>\n      <td>0.392880</td>\n      <td>0.356115</td>\n      <td>0.380099</td>\n    </tr>\n    <tr>\n      <th>119</th>\n      <td>accuracy</td>\n      <td>completeness</td>\n      <td>impute_knn</td>\n      <td>impute_knn</td>\n      <td>impute_knn</td>\n      <td>ZSB</td>\n      <td>ZSB</td>\n      <td>CustomerAge</td>\n      <td>CustomerGender</td>\n      <td>CustomerSatisfaction</td>\n      <td>80</td>\n      <td>SVC</td>\n      <td>0.365350</td>\n      <td>0.456388</td>\n      <td>0.375411</td>\n    </tr>\n    <tr>\n      <th>59</th>\n      <td>accuracy</td>\n      <td>completeness</td>\n      <td>impute_knn</td>\n      <td>impute_knn</td>\n      <td>impute_knn</td>\n      <td>ZSB</td>\n      <td>ZSB</td>\n      <td>CustomerSatisfaction</td>\n      <td>CustomerGender</td>\n      <td>CustomerAge</td>\n      <td>60</td>\n      <td>SVC</td>\n      <td>0.304133</td>\n      <td>0.393645</td>\n      <td>0.374849</td>\n    </tr>\n    <tr>\n      <th>53</th>\n      <td>accuracy</td>\n      <td>completeness</td>\n      <td>impute_knn</td>\n      <td>impute_knn</td>\n      <td>impute_knn</td>\n      <td>ZSB</td>\n      <td>ZSB</td>\n      <td>CustomerSatisfaction</td>\n      <td>CustomerAge</td>\n      <td>CustomerGender</td>\n      <td>60</td>\n      <td>SVC</td>\n      <td>0.412561</td>\n      <td>0.435114</td>\n      <td>0.361069</td>\n    </tr>\n    <tr>\n      <th>137</th>\n      <td>accuracy</td>\n      <td>completeness</td>\n      <td>impute_knn</td>\n      <td>impute_knn</td>\n      <td>impute_knn</td>\n      <td>ZSB</td>\n      <td>ZSB</td>\n      <td>CustomerGender</td>\n      <td>CustomerAge</td>\n      <td>CustomerSatisfaction</td>\n      <td>80</td>\n      <td>SVC</td>\n      <td>0.565767</td>\n      <td>0.429290</td>\n      <td>0.333357</td>\n    </tr>\n    <tr>\n      <th>113</th>\n      <td>accuracy</td>\n      <td>completeness</td>\n      <td>impute_knn</td>\n      <td>impute_knn</td>\n      <td>impute_knn</td>\n      <td>ZSB</td>\n      <td>ZSB</td>\n      <td>CustomerAge</td>\n      <td>CustomerSatisfaction</td>\n      <td>CustomerGender</td>\n      <td>80</td>\n      <td>SVC</td>\n      <td>0.313392</td>\n      <td>0.557746</td>\n      <td>0.315693</td>\n    </tr>\n  </tbody>\n</table>\n</div>"
     },
     "execution_count": 4,
     "metadata": {},
     "output_type": "execute_result"
    }
   ],
   "source": [
    "schedule_sugg[schedule_sugg.algorithm == 'SVC'].sort_values(by=['perf_2'], ascending=False)"
   ],
   "metadata": {
    "collapsed": false
   }
  },
  {
   "cell_type": "code",
   "execution_count": 3,
   "outputs": [
    {
     "name": "stdout",
     "output_type": "stream",
     "text": [
      "-----Order for SVC-----\n",
      "imp_col_1\n",
      "CustomerSatisfaction    3\n",
      "CustomerAge             1\n",
      "CustomerGender          1\n",
      "Name: count, dtype: int64\n",
      "imp_col_2\n",
      "CustomerGender          2\n",
      "CustomerAge             2\n",
      "CustomerSatisfaction    1\n",
      "Name: count, dtype: int64\n",
      "imp_col_3\n",
      "CustomerGender          2\n",
      "CustomerAge             2\n",
      "CustomerSatisfaction    1\n",
      "Name: count, dtype: int64\n"
     ]
    }
   ],
   "source": [
    "for a in ['SVC']:\n",
    "    print('-----'+'Order for '+a+'-----')\n",
    "    schedule = schedule_sugg[schedule_sugg.algorithm == a].sort_values(by=['perf_2'], ascending=False).copy()\n",
    "    print(schedule[0:5].imp_col_1.value_counts())\n",
    "    print(schedule[0:5].imp_col_2.value_counts())\n",
    "    print(schedule[0:5].imp_col_3.value_counts())"
   ],
   "metadata": {
    "collapsed": false
   }
  },
  {
   "cell_type": "code",
   "execution_count": 4,
   "outputs": [],
   "source": [
    "### Prevale SVC: CustomerSatisfaction, CustomerGender = CustomerAge, CustomerGender = CustomerAge\n",
    "\n",
    "##sono comunque così variabili!"
   ],
   "metadata": {
    "collapsed": false
   }
  },
  {
   "cell_type": "code",
   "execution_count": null,
   "outputs": [],
   "source": [],
   "metadata": {
    "collapsed": false
   }
  }
 ],
 "metadata": {
  "kernelspec": {
   "display_name": "Python 3",
   "language": "python",
   "name": "python3"
  },
  "language_info": {
   "codemirror_mode": {
    "name": "ipython",
    "version": 2
   },
   "file_extension": ".py",
   "mimetype": "text/x-python",
   "name": "python",
   "nbconvert_exporter": "python",
   "pygments_lexer": "ipython2",
   "version": "2.7.6"
  }
 },
 "nbformat": 4,
 "nbformat_minor": 0
}
