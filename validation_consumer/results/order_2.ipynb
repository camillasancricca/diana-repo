{
 "cells": [
  {
   "cell_type": "code",
   "execution_count": 1,
   "metadata": {
    "collapsed": true
   },
   "outputs": [],
   "source": [
    "import pandas as pd"
   ]
  },
  {
   "cell_type": "code",
   "execution_count": 2,
   "outputs": [],
   "source": [
    "schedule = pd.read_csv('schedule/compiled_sample_schedule.csv')"
   ],
   "metadata": {
    "collapsed": false
   }
  },
  {
   "cell_type": "code",
   "execution_count": 3,
   "outputs": [],
   "source": [
    "schedule_50 = schedule[schedule.quality == 50]\n",
    "schedule_60 = schedule[schedule.quality == 60]\n",
    "schedule_70 = schedule[schedule.quality == 70]\n",
    "schedule_80 = schedule[schedule.quality == 80]\n",
    "schedule_90 = schedule[schedule.quality == 90]\n"
   ],
   "metadata": {
    "collapsed": false
   }
  },
  {
   "cell_type": "code",
   "execution_count": 4,
   "outputs": [
    {
     "name": "stdout",
     "output_type": "stream",
     "text": [
      "-----Order for SVC-----\n",
      "imp_col_1\n",
      "CustomerGender          26\n",
      "CustomerSatisfaction     7\n",
      "CustomerAge              7\n",
      "Name: count, dtype: int64\n",
      "imp_col_2\n",
      "CustomerSatisfaction    23\n",
      "CustomerAge             11\n",
      "CustomerGender           6\n",
      "Name: count, dtype: int64\n",
      "imp_col_3\n",
      "CustomerAge             22\n",
      "CustomerSatisfaction    10\n",
      "CustomerGender           8\n",
      "Name: count, dtype: int64\n"
     ]
    }
   ],
   "source": [
    "for a in ['SVC']:\n",
    "    print('-----'+'Order for '+a+'-----')\n",
    "    schedule_90 = schedule_90.sort_values(by=[a+'_2'], ascending=False)\n",
    "    print(schedule_90[0:40].imp_col_1.value_counts())\n",
    "    print(schedule_90[0:40].imp_col_2.value_counts())\n",
    "    print(schedule_90[0:40].imp_col_3.value_counts())"
   ],
   "metadata": {
    "collapsed": false
   }
  },
  {
   "cell_type": "code",
   "execution_count": 5,
   "outputs": [],
   "source": [
    "### 90% Prevale SVC: CustomerGender, CustomerSatisfaction, CustomerAge\n",
    "\n",
    "##sono comunque così variabili!"
   ],
   "metadata": {
    "collapsed": false
   }
  },
  {
   "cell_type": "code",
   "execution_count": 6,
   "outputs": [
    {
     "name": "stdout",
     "output_type": "stream",
     "text": [
      "-----Order for SVC-----\n",
      "imp_col_1\n",
      "CustomerGender          30\n",
      "CustomerSatisfaction     7\n",
      "CustomerAge              3\n",
      "Name: count, dtype: int64\n",
      "imp_col_2\n",
      "CustomerSatisfaction    16\n",
      "CustomerAge             15\n",
      "CustomerGender           9\n",
      "Name: count, dtype: int64\n",
      "imp_col_3\n",
      "CustomerAge             22\n",
      "CustomerSatisfaction    17\n",
      "CustomerGender           1\n",
      "Name: count, dtype: int64\n"
     ]
    }
   ],
   "source": [
    "for a in ['SVC']:\n",
    "    print('-----'+'Order for '+a+'-----')\n",
    "    schedule_50 = schedule_50.sort_values(by=[a+'_2'], ascending=False)\n",
    "    print(schedule_50[0:40].imp_col_1.value_counts())\n",
    "    print(schedule_50[0:40].imp_col_2.value_counts())\n",
    "    print(schedule_50[0:40].imp_col_3.value_counts())\n"
   ],
   "metadata": {
    "collapsed": false
   }
  },
  {
   "cell_type": "code",
   "execution_count": null,
   "outputs": [],
   "source": [
    "### 90% Prevale SVC: CustomerGender, CustomerSatisfaction, CustomerAge\n",
    "\n",
    "##sono comunque così variabili!"
   ],
   "metadata": {
    "collapsed": false
   }
  },
  {
   "cell_type": "code",
   "execution_count": null,
   "outputs": [],
   "source": [],
   "metadata": {
    "collapsed": false
   }
  }
 ],
 "metadata": {
  "kernelspec": {
   "display_name": "Python 3",
   "language": "python",
   "name": "python3"
  },
  "language_info": {
   "codemirror_mode": {
    "name": "ipython",
    "version": 2
   },
   "file_extension": ".py",
   "mimetype": "text/x-python",
   "name": "python",
   "nbconvert_exporter": "python",
   "pygments_lexer": "ipython2",
   "version": "2.7.6"
  }
 },
 "nbformat": 4,
 "nbformat_minor": 0
}
