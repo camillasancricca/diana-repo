{
 "cells": [
  {
   "cell_type": "code",
   "execution_count": 1,
   "metadata": {
    "collapsed": true
   },
   "outputs": [],
   "source": [
    "import pandas as pd\n",
    "import numpy as np\n",
    "from matplotlib import pyplot as plt"
   ]
  },
  {
   "cell_type": "code",
   "execution_count": 2,
   "outputs": [],
   "source": [
    "sample = pd.read_csv('schedule/compiled_sample_schedule.csv')\n",
    "suggested = pd.read_csv('schedule/compiled_suggested_schedule.csv')"
   ],
   "metadata": {
    "collapsed": false
   }
  },
  {
   "cell_type": "code",
   "execution_count": 3,
   "outputs": [],
   "source": [
    "models = ['DecisionTree','LogisticRegression','KNN','RandomForest','AdaBoost','SVC']"
   ],
   "metadata": {
    "collapsed": false
   }
  },
  {
   "cell_type": "code",
   "execution_count": 45,
   "outputs": [],
   "source": [
    "algorithm = 'DecisionTree'\n",
    "\n",
    "sample = pd.read_csv('schedule/compiled_sample_schedule.csv')\n",
    "suggested = pd.read_csv('schedule/compiled_suggested_schedule.csv')\n",
    "\n",
    "suggested = suggested[suggested.algorithm == algorithm]\n",
    "sample = sample[['dimension_1', 'dimension_2', 'imp_1', 'imp_2', 'imp_3', 'imp_4',\n",
    "       'imp_5', 'imp_6', 'imp_7', 'od_1', 'od_2', 'od_3', 'od_4', 'od_5',\n",
    "       'od_6', 'od_7', 'imp_col_1', 'imp_col_2', 'imp_col_3', 'imp_col_4',\n",
    "       'imp_col_5', 'imp_col_6', 'imp_col_7', algorithm + '_dirty', algorithm + '_1', algorithm + '_2']]"
   ],
   "metadata": {
    "collapsed": false
   }
  },
  {
   "cell_type": "code",
   "execution_count": 46,
   "outputs": [
    {
     "data": {
      "text/plain": "      dimension_1   dimension_2            imp_1            imp_2  \\\n0        accuracy  completeness  impute_standard  impute_standard   \n6        accuracy  completeness  impute_standard  impute_standard   \n12       accuracy  completeness  impute_standard  impute_standard   \n18       accuracy  completeness  impute_standard  impute_standard   \n24       accuracy  completeness  impute_standard  impute_standard   \n...           ...           ...              ...              ...   \n30210    accuracy  completeness       impute_knn  impute_standard   \n30216    accuracy  completeness       impute_knn  impute_standard   \n30222    accuracy  completeness       impute_knn  impute_standard   \n30228    accuracy  completeness       impute_knn  impute_standard   \n30234    accuracy  completeness       impute_knn  impute_standard   \n\n                 imp_3            imp_4            imp_5            imp_6  \\\n0      impute_standard  impute_standard  impute_standard  impute_standard   \n6      impute_standard  impute_standard  impute_standard       impute_knn   \n12     impute_standard  impute_standard  impute_standard  impute_standard   \n18     impute_standard  impute_standard  impute_standard       impute_knn   \n24     impute_standard  impute_standard       impute_knn  impute_standard   \n...                ...              ...              ...              ...   \n30210  impute_standard  impute_standard  impute_standard  impute_standard   \n30216  impute_standard  impute_standard  impute_standard  impute_standard   \n30222  impute_standard  impute_standard  impute_standard  impute_standard   \n30228  impute_standard  impute_standard  impute_standard  impute_standard   \n30234  impute_standard  impute_standard  impute_standard  impute_standard   \n\n                 imp_7 od_1  ...  imp_col_2    imp_col_3    imp_col_4  \\\n0           impute_knn  IQR  ...        RAM          ROM  Mobile_Size   \n6      impute_standard  IQR  ...        RAM          ROM  Mobile_Size   \n12          impute_knn  IQR  ...        RAM          ROM  Mobile_Size   \n18     impute_standard  IQR  ...        RAM          ROM  Mobile_Size   \n24     impute_standard  IQR  ...        RAM          ROM  Mobile_Size   \n...                ...  ...  ...        ...          ...          ...   \n30210  impute_standard  IQR  ...  Selfi_Cam  Primary_Cam  Mobile_Size   \n30216  impute_standard  IQR  ...  Selfi_Cam  Primary_Cam  Mobile_Size   \n30222  impute_standard  IQR  ...  Selfi_Cam  Primary_Cam  Mobile_Size   \n30228  impute_standard  IQR  ...  Selfi_Cam  Primary_Cam  Mobile_Size   \n30234  impute_standard  IQR  ...  Selfi_Cam  Primary_Cam  Mobile_Size   \n\n           imp_col_5      imp_col_6      imp_col_7     algorithm perf_dirty  \\\n0        Primary_Cam      Selfi_Cam  Battery_Power  DecisionTree   0.870917   \n6        Primary_Cam  Battery_Power      Selfi_Cam  DecisionTree   0.884015   \n12         Selfi_Cam    Primary_Cam  Battery_Power  DecisionTree   0.876780   \n18         Selfi_Cam  Battery_Power    Primary_Cam  DecisionTree   0.875907   \n24     Battery_Power    Primary_Cam      Selfi_Cam  DecisionTree   0.878528   \n...              ...            ...            ...           ...        ...   \n30210        Ratings            ROM            RAM  DecisionTree   0.879587   \n30216            RAM        Ratings            ROM  DecisionTree   0.867538   \n30222            RAM            ROM        Ratings  DecisionTree   0.891780   \n30228            ROM        Ratings            RAM  DecisionTree   0.876597   \n30234            ROM            RAM        Ratings  DecisionTree   0.851694   \n\n         perf_1    perf_2  \n0      0.878272  0.880308  \n6      0.891102  0.889549  \n12     0.854958  0.871165  \n18     0.875282  0.877625  \n24     0.839600  0.863360  \n...         ...       ...  \n30210  0.874815  0.876512  \n30216  0.856421  0.869758  \n30222  0.862478  0.886007  \n30228  0.880775  0.869434  \n30234  0.857771  0.876503  \n\n[5040 rows x 27 columns]",
      "text/html": "<div>\n<style scoped>\n    .dataframe tbody tr th:only-of-type {\n        vertical-align: middle;\n    }\n\n    .dataframe tbody tr th {\n        vertical-align: top;\n    }\n\n    .dataframe thead th {\n        text-align: right;\n    }\n</style>\n<table border=\"1\" class=\"dataframe\">\n  <thead>\n    <tr style=\"text-align: right;\">\n      <th></th>\n      <th>dimension_1</th>\n      <th>dimension_2</th>\n      <th>imp_1</th>\n      <th>imp_2</th>\n      <th>imp_3</th>\n      <th>imp_4</th>\n      <th>imp_5</th>\n      <th>imp_6</th>\n      <th>imp_7</th>\n      <th>od_1</th>\n      <th>...</th>\n      <th>imp_col_2</th>\n      <th>imp_col_3</th>\n      <th>imp_col_4</th>\n      <th>imp_col_5</th>\n      <th>imp_col_6</th>\n      <th>imp_col_7</th>\n      <th>algorithm</th>\n      <th>perf_dirty</th>\n      <th>perf_1</th>\n      <th>perf_2</th>\n    </tr>\n  </thead>\n  <tbody>\n    <tr>\n      <th>0</th>\n      <td>accuracy</td>\n      <td>completeness</td>\n      <td>impute_standard</td>\n      <td>impute_standard</td>\n      <td>impute_standard</td>\n      <td>impute_standard</td>\n      <td>impute_standard</td>\n      <td>impute_standard</td>\n      <td>impute_knn</td>\n      <td>IQR</td>\n      <td>...</td>\n      <td>RAM</td>\n      <td>ROM</td>\n      <td>Mobile_Size</td>\n      <td>Primary_Cam</td>\n      <td>Selfi_Cam</td>\n      <td>Battery_Power</td>\n      <td>DecisionTree</td>\n      <td>0.870917</td>\n      <td>0.878272</td>\n      <td>0.880308</td>\n    </tr>\n    <tr>\n      <th>6</th>\n      <td>accuracy</td>\n      <td>completeness</td>\n      <td>impute_standard</td>\n      <td>impute_standard</td>\n      <td>impute_standard</td>\n      <td>impute_standard</td>\n      <td>impute_standard</td>\n      <td>impute_knn</td>\n      <td>impute_standard</td>\n      <td>IQR</td>\n      <td>...</td>\n      <td>RAM</td>\n      <td>ROM</td>\n      <td>Mobile_Size</td>\n      <td>Primary_Cam</td>\n      <td>Battery_Power</td>\n      <td>Selfi_Cam</td>\n      <td>DecisionTree</td>\n      <td>0.884015</td>\n      <td>0.891102</td>\n      <td>0.889549</td>\n    </tr>\n    <tr>\n      <th>12</th>\n      <td>accuracy</td>\n      <td>completeness</td>\n      <td>impute_standard</td>\n      <td>impute_standard</td>\n      <td>impute_standard</td>\n      <td>impute_standard</td>\n      <td>impute_standard</td>\n      <td>impute_standard</td>\n      <td>impute_knn</td>\n      <td>IQR</td>\n      <td>...</td>\n      <td>RAM</td>\n      <td>ROM</td>\n      <td>Mobile_Size</td>\n      <td>Selfi_Cam</td>\n      <td>Primary_Cam</td>\n      <td>Battery_Power</td>\n      <td>DecisionTree</td>\n      <td>0.876780</td>\n      <td>0.854958</td>\n      <td>0.871165</td>\n    </tr>\n    <tr>\n      <th>18</th>\n      <td>accuracy</td>\n      <td>completeness</td>\n      <td>impute_standard</td>\n      <td>impute_standard</td>\n      <td>impute_standard</td>\n      <td>impute_standard</td>\n      <td>impute_standard</td>\n      <td>impute_knn</td>\n      <td>impute_standard</td>\n      <td>IQR</td>\n      <td>...</td>\n      <td>RAM</td>\n      <td>ROM</td>\n      <td>Mobile_Size</td>\n      <td>Selfi_Cam</td>\n      <td>Battery_Power</td>\n      <td>Primary_Cam</td>\n      <td>DecisionTree</td>\n      <td>0.875907</td>\n      <td>0.875282</td>\n      <td>0.877625</td>\n    </tr>\n    <tr>\n      <th>24</th>\n      <td>accuracy</td>\n      <td>completeness</td>\n      <td>impute_standard</td>\n      <td>impute_standard</td>\n      <td>impute_standard</td>\n      <td>impute_standard</td>\n      <td>impute_knn</td>\n      <td>impute_standard</td>\n      <td>impute_standard</td>\n      <td>IQR</td>\n      <td>...</td>\n      <td>RAM</td>\n      <td>ROM</td>\n      <td>Mobile_Size</td>\n      <td>Battery_Power</td>\n      <td>Primary_Cam</td>\n      <td>Selfi_Cam</td>\n      <td>DecisionTree</td>\n      <td>0.878528</td>\n      <td>0.839600</td>\n      <td>0.863360</td>\n    </tr>\n    <tr>\n      <th>...</th>\n      <td>...</td>\n      <td>...</td>\n      <td>...</td>\n      <td>...</td>\n      <td>...</td>\n      <td>...</td>\n      <td>...</td>\n      <td>...</td>\n      <td>...</td>\n      <td>...</td>\n      <td>...</td>\n      <td>...</td>\n      <td>...</td>\n      <td>...</td>\n      <td>...</td>\n      <td>...</td>\n      <td>...</td>\n      <td>...</td>\n      <td>...</td>\n      <td>...</td>\n      <td>...</td>\n    </tr>\n    <tr>\n      <th>30210</th>\n      <td>accuracy</td>\n      <td>completeness</td>\n      <td>impute_knn</td>\n      <td>impute_standard</td>\n      <td>impute_standard</td>\n      <td>impute_standard</td>\n      <td>impute_standard</td>\n      <td>impute_standard</td>\n      <td>impute_standard</td>\n      <td>IQR</td>\n      <td>...</td>\n      <td>Selfi_Cam</td>\n      <td>Primary_Cam</td>\n      <td>Mobile_Size</td>\n      <td>Ratings</td>\n      <td>ROM</td>\n      <td>RAM</td>\n      <td>DecisionTree</td>\n      <td>0.879587</td>\n      <td>0.874815</td>\n      <td>0.876512</td>\n    </tr>\n    <tr>\n      <th>30216</th>\n      <td>accuracy</td>\n      <td>completeness</td>\n      <td>impute_knn</td>\n      <td>impute_standard</td>\n      <td>impute_standard</td>\n      <td>impute_standard</td>\n      <td>impute_standard</td>\n      <td>impute_standard</td>\n      <td>impute_standard</td>\n      <td>IQR</td>\n      <td>...</td>\n      <td>Selfi_Cam</td>\n      <td>Primary_Cam</td>\n      <td>Mobile_Size</td>\n      <td>RAM</td>\n      <td>Ratings</td>\n      <td>ROM</td>\n      <td>DecisionTree</td>\n      <td>0.867538</td>\n      <td>0.856421</td>\n      <td>0.869758</td>\n    </tr>\n    <tr>\n      <th>30222</th>\n      <td>accuracy</td>\n      <td>completeness</td>\n      <td>impute_knn</td>\n      <td>impute_standard</td>\n      <td>impute_standard</td>\n      <td>impute_standard</td>\n      <td>impute_standard</td>\n      <td>impute_standard</td>\n      <td>impute_standard</td>\n      <td>IQR</td>\n      <td>...</td>\n      <td>Selfi_Cam</td>\n      <td>Primary_Cam</td>\n      <td>Mobile_Size</td>\n      <td>RAM</td>\n      <td>ROM</td>\n      <td>Ratings</td>\n      <td>DecisionTree</td>\n      <td>0.891780</td>\n      <td>0.862478</td>\n      <td>0.886007</td>\n    </tr>\n    <tr>\n      <th>30228</th>\n      <td>accuracy</td>\n      <td>completeness</td>\n      <td>impute_knn</td>\n      <td>impute_standard</td>\n      <td>impute_standard</td>\n      <td>impute_standard</td>\n      <td>impute_standard</td>\n      <td>impute_standard</td>\n      <td>impute_standard</td>\n      <td>IQR</td>\n      <td>...</td>\n      <td>Selfi_Cam</td>\n      <td>Primary_Cam</td>\n      <td>Mobile_Size</td>\n      <td>ROM</td>\n      <td>Ratings</td>\n      <td>RAM</td>\n      <td>DecisionTree</td>\n      <td>0.876597</td>\n      <td>0.880775</td>\n      <td>0.869434</td>\n    </tr>\n    <tr>\n      <th>30234</th>\n      <td>accuracy</td>\n      <td>completeness</td>\n      <td>impute_knn</td>\n      <td>impute_standard</td>\n      <td>impute_standard</td>\n      <td>impute_standard</td>\n      <td>impute_standard</td>\n      <td>impute_standard</td>\n      <td>impute_standard</td>\n      <td>IQR</td>\n      <td>...</td>\n      <td>Selfi_Cam</td>\n      <td>Primary_Cam</td>\n      <td>Mobile_Size</td>\n      <td>ROM</td>\n      <td>RAM</td>\n      <td>Ratings</td>\n      <td>DecisionTree</td>\n      <td>0.851694</td>\n      <td>0.857771</td>\n      <td>0.876503</td>\n    </tr>\n  </tbody>\n</table>\n<p>5040 rows × 27 columns</p>\n</div>"
     },
     "execution_count": 46,
     "metadata": {},
     "output_type": "execute_result"
    }
   ],
   "source": [
    "suggested"
   ],
   "metadata": {
    "collapsed": false
   }
  },
  {
   "cell_type": "code",
   "execution_count": 47,
   "outputs": [],
   "source": [
    "sample = sample[sample.imp_col_1 == 'Ratings']\n",
    "sample = sample[sample.imp_col_2 == 'RAM']\n",
    "sample = sample[sample.imp_col_3 == 'ROM']\n",
    "sample = sample[sample.imp_col_4 == 'Mobile_Size']\n",
    "sample = sample[sample.imp_col_5 == 'Primary_Cam']\n",
    "sample = sample[sample.imp_col_6 == 'Selfi_Cam']\n",
    "sample = sample[sample.imp_col_7 == 'Battery_Power']"
   ],
   "metadata": {
    "collapsed": false
   }
  },
  {
   "cell_type": "code",
   "execution_count": 48,
   "outputs": [],
   "source": [
    "# Decision Tree\n",
    "# impute_standard,impute_standard,impute_standard,impute_standard,impute_standard,impute_standard,impute_knn\n",
    "# IQR,IQR,ZSB,IQR,IQR,ZSB,ZSB"
   ],
   "metadata": {
    "collapsed": false
   }
  },
  {
   "cell_type": "code",
   "execution_count": 49,
   "outputs": [],
   "source": [
    "# Logistic Regression\n",
    "# impute_median,impute_median,impute_median,impute_median,impute_median,impute_random_forest,impute_mice\n",
    "# IQR,IQR,ZSB,IQR,IQR,ZSB,ZSB"
   ],
   "metadata": {
    "collapsed": false
   }
  },
  {
   "cell_type": "code",
   "execution_count": 50,
   "outputs": [],
   "source": [
    "# KNN\n",
    "# impute_median,impute_median,impute_median,impute_median,impute_median,impute_median,impute_knn\n",
    "# IQR,IQR,ZSB,IQR,IQR,ZSB,ZSB"
   ],
   "metadata": {
    "collapsed": false
   }
  },
  {
   "cell_type": "code",
   "execution_count": 51,
   "outputs": [
    {
     "name": "stdout",
     "output_type": "stream",
     "text": [
      "imp_1\n",
      "impute_standard    51\n",
      "impute_mean        14\n",
      "impute_median       2\n",
      "Name: count, dtype: int64\n",
      "\n",
      "\n",
      "imp_2\n",
      "impute_mean      37\n",
      "impute_median    24\n",
      "impute_random     6\n",
      "Name: count, dtype: int64\n",
      "\n",
      "\n",
      "imp_3\n",
      "impute_median    29\n",
      "impute_random    26\n",
      "impute_knn       12\n",
      "Name: count, dtype: int64\n",
      "\n",
      "\n",
      "imp_4\n",
      "impute_knn       28\n",
      "impute_random    20\n",
      "impute_mice      19\n",
      "Name: count, dtype: int64\n",
      "\n",
      "\n",
      "imp_5\n",
      "impute_linear_regression    28\n",
      "impute_mice                 27\n",
      "impute_knn                  12\n",
      "Name: count, dtype: int64\n",
      "\n",
      "\n",
      "imp_6\n",
      "impute_random_forest        39\n",
      "impute_linear_regression    22\n",
      "impute_mice                  6\n",
      "Name: count, dtype: int64\n",
      "\n",
      "\n",
      "imp_7\n",
      "impute_cmeans               52\n",
      "impute_random_forest        13\n",
      "impute_linear_regression     2\n",
      "Name: count, dtype: int64\n",
      "\n",
      "\n"
     ]
    }
   ],
   "source": [
    "for i in range(1,8):\n",
    "    print(sample.sort_values(by=[algorithm+'_2'])[0:1000]['imp_'+str(i)].value_counts())\n",
    "    print('\\n')\n"
   ],
   "metadata": {
    "collapsed": false
   }
  },
  {
   "cell_type": "code",
   "execution_count": 52,
   "outputs": [
    {
     "name": "stdout",
     "output_type": "stream",
     "text": [
      "od_1\n",
      "IQR    67\n",
      "Name: count, dtype: int64\n",
      "\n",
      "\n",
      "od_2\n",
      "ISO    67\n",
      "Name: count, dtype: int64\n",
      "\n",
      "\n",
      "od_3\n",
      "PERC    67\n",
      "Name: count, dtype: int64\n",
      "\n",
      "\n",
      "od_4\n",
      "STD    67\n",
      "Name: count, dtype: int64\n",
      "\n",
      "\n",
      "od_5\n",
      "ZSB    67\n",
      "Name: count, dtype: int64\n",
      "\n",
      "\n",
      "od_6\n",
      "KNN    67\n",
      "Name: count, dtype: int64\n",
      "\n",
      "\n",
      "od_7\n",
      "LOF    67\n",
      "Name: count, dtype: int64\n",
      "\n",
      "\n"
     ]
    }
   ],
   "source": [
    "for i in range(1,8):\n",
    "    print(sample.sort_values(by=[algorithm+'_2'])[0:1000]['od_'+str(i)].value_counts())\n",
    "    print('\\n')\n"
   ],
   "metadata": {
    "collapsed": false
   }
  },
  {
   "cell_type": "code",
   "execution_count": null,
   "outputs": [],
   "source": [
    "### sono simili in alcuni casi ma mi aspettavo più simili... probabilmente l'insieme delle colonne e i vari ordini influsce molto sulla randomicità!\n",
    "### eterogeneità di tecniche, soprattutto per quanto riguarda imputation\n"
   ],
   "metadata": {
    "collapsed": false
   }
  }
 ],
 "metadata": {
  "kernelspec": {
   "display_name": "Python 3",
   "language": "python",
   "name": "python3"
  },
  "language_info": {
   "codemirror_mode": {
    "name": "ipython",
    "version": 2
   },
   "file_extension": ".py",
   "mimetype": "text/x-python",
   "name": "python",
   "nbconvert_exporter": "python",
   "pygments_lexer": "ipython2",
   "version": "2.7.6"
  }
 },
 "nbformat": 4,
 "nbformat_minor": 0
}
