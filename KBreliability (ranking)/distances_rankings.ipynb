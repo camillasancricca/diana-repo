{
 "cells": [
  {
   "cell_type": "code",
   "execution_count": 1,
   "outputs": [
    {
     "data": {
      "text/plain": "              median\ndataset             \ncharacter  14.263082\nconsumer   14.253178\ngalaxy     20.292986\nheart      15.908917\npet        17.533199\nweather    15.895005",
      "text/html": "<div>\n<style scoped>\n    .dataframe tbody tr th:only-of-type {\n        vertical-align: middle;\n    }\n\n    .dataframe tbody tr th {\n        vertical-align: top;\n    }\n\n    .dataframe thead th {\n        text-align: right;\n    }\n</style>\n<table border=\"1\" class=\"dataframe\">\n  <thead>\n    <tr style=\"text-align: right;\">\n      <th></th>\n      <th>median</th>\n    </tr>\n    <tr>\n      <th>dataset</th>\n      <th></th>\n    </tr>\n  </thead>\n  <tbody>\n    <tr>\n      <th>character</th>\n      <td>14.263082</td>\n    </tr>\n    <tr>\n      <th>consumer</th>\n      <td>14.253178</td>\n    </tr>\n    <tr>\n      <th>galaxy</th>\n      <td>20.292986</td>\n    </tr>\n    <tr>\n      <th>heart</th>\n      <td>15.908917</td>\n    </tr>\n    <tr>\n      <th>pet</th>\n      <td>17.533199</td>\n    </tr>\n    <tr>\n      <th>weather</th>\n      <td>15.895005</td>\n    </tr>\n  </tbody>\n</table>\n</div>"
     },
     "execution_count": 1,
     "metadata": {},
     "output_type": "execute_result"
    }
   ],
   "source": [
    "import pandas as pd\n",
    "df = pd.read_csv('A-Dissimilarity.csv')\n",
    "df[['dataset','median']].groupby(['dataset']).median()"
   ],
   "metadata": {
    "collapsed": false
   }
  },
  {
   "cell_type": "code",
   "execution_count": null,
   "outputs": [],
   "source": [],
   "metadata": {
    "collapsed": false
   }
  },
  {
   "cell_type": "code",
   "execution_count": null,
   "outputs": [],
   "source": [],
   "metadata": {
    "collapsed": false
   }
  },
  {
   "cell_type": "code",
   "execution_count": 78,
   "outputs": [],
   "source": [
    "import pandas as pd"
   ],
   "metadata": {
    "collapsed": false
   }
  },
  {
   "cell_type": "code",
   "execution_count": 79,
   "outputs": [],
   "source": [
    "df = pd.read_csv('Dissimilarity.csv')"
   ],
   "metadata": {
    "collapsed": false
   }
  },
  {
   "cell_type": "code",
   "execution_count": 81,
   "outputs": [],
   "source": [
    "df[['dataset','perc','mean','median']].to_csv('A-Dissimilarity.csv',index=False)"
   ],
   "metadata": {
    "collapsed": false
   }
  },
  {
   "cell_type": "code",
   "execution_count": null,
   "outputs": [],
   "source": [],
   "metadata": {
    "collapsed": false
   }
  },
  {
   "cell_type": "code",
   "execution_count": null,
   "outputs": [],
   "source": [],
   "metadata": {
    "collapsed": false
   }
  },
  {
   "cell_type": "code",
   "execution_count": 72,
   "outputs": [],
   "source": [
    "import pandas as pd"
   ],
   "metadata": {
    "collapsed": false
   }
  },
  {
   "cell_type": "code",
   "execution_count": 73,
   "outputs": [],
   "source": [
    "neigh = ['0', '1', '2', '3', '4', '5', '6', '7', '8',\n",
    "       '9', '10', '11', '12', '13', '14', '15', '16', '17', '18', '19', '20',\n",
    "       '21', '22', '23', '24', '25', '26', '27', '28', '29', '30', '31', '32',\n",
    "       '33', '34']"
   ],
   "metadata": {
    "collapsed": false
   }
  },
  {
   "cell_type": "code",
   "execution_count": 74,
   "outputs": [],
   "source": [
    "df = pd.read_csv('distances_all.csv')\n",
    "df[neigh] = df[neigh]/2*100"
   ],
   "metadata": {
    "collapsed": false
   }
  },
  {
   "cell_type": "code",
   "execution_count": 75,
   "outputs": [],
   "source": [
    "df['mean'] = df[neigh].mean(numeric_only=True, axis=1)"
   ],
   "metadata": {
    "collapsed": false
   }
  },
  {
   "cell_type": "code",
   "execution_count": 76,
   "outputs": [],
   "source": [
    "df['median'] = df[neigh].median(numeric_only=True, axis=1)"
   ],
   "metadata": {
    "collapsed": false
   }
  },
  {
   "cell_type": "code",
   "execution_count": 77,
   "outputs": [],
   "source": [
    "df.to_csv('Dissimilarity.csv',index=False)"
   ],
   "metadata": {
    "collapsed": false
   }
  },
  {
   "cell_type": "code",
   "execution_count": null,
   "outputs": [],
   "source": [],
   "metadata": {
    "collapsed": false
   }
  },
  {
   "cell_type": "code",
   "execution_count": 35,
   "metadata": {
    "collapsed": true
   },
   "outputs": [],
   "source": [
    "from sklearn.neighbors import NearestNeighbors\n",
    "import pandas as pd\n",
    "import numpy as np\n",
    "from dirty_data import injection\n",
    "import data_profile_extraction as dp\n",
    "from sklearn.preprocessing import StandardScaler\n",
    "\n",
    "N = 35\n",
    "\n",
    "def knn(N, KB, sample):\n",
    "    neigh = NearestNeighbors(n_neighbors=N, metric='cosine')\n",
    "    neigh.fit(KB)\n",
    "    #neigh.kneighbors(sample, N, return_distance=False)\n",
    "    return neigh.kneighbors(sample, N, return_distance=True)"
   ]
  },
  {
   "cell_type": "code",
   "execution_count": 36,
   "outputs": [],
   "source": [
    "KBR = pd.read_csv('KBR.csv')\n",
    "\n",
    "columns_R = ['n_tuples', 'n_attributes', 'p_num_var', 'p_cat_var', 'p_avg_distinct',\n",
    "       'p_max_distinct', 'p_min_distinct', 'avg_density', 'max_density',\n",
    "       'min_density', 'avg_entropy', 'max_entropy', 'min_entropy',\n",
    "       'max_pearson', 'min_pearson', 'avg_pearson', 'duplication', 'min_min',\n",
    "       'max_min', 'mean_min', 'min_max', 'max_max', 'mean_max', 'min_mean',\n",
    "       'max_mean', 'mean_mean', 'min_median', 'max_median', 'mean_median',\n",
    "       'min_std', 'max_std', 'mean_std', 'min_skewness', 'max_skewness',\n",
    "       'mean_skewness', 'min_kurtosis', 'max_kurtosis', 'mean_kurtosis',\n",
    "       'min_mad', 'max_mad', 'mean_mad', 'min_iqr', 'max_iqr', 'mean_iqr', 'perc']\n",
    "\n",
    "columns_to_add = ['min_constancy', 'max_constancy', 'mean_constancy', 'min_imbalance',\n",
    "       'max_imbalance', 'mean_imbalance', 'min_unalikeability',\n",
    "       'max_unalikeability', 'mean_unalikeability', 'min_min_char',\n",
    "       'max_min_char', 'mean_min_char', 'min_max_char', 'max_max_char',\n",
    "       'mean_max_char', 'min_mean_char', 'max_mean_char', 'mean_mean_char',\n",
    "       'min_std_char', 'max_std_char', 'mean_std_char', 'min_skewness_char',\n",
    "       'max_skewness_char', 'mean_skewness_char', 'min_kurtosis_char',\n",
    "       'max_kurtosis_char', 'mean_kurtosis_char']\n"
   ],
   "metadata": {
    "collapsed": false
   }
  },
  {
   "cell_type": "code",
   "execution_count": 37,
   "outputs": [],
   "source": [
    "KBR = KBR[columns_R] ### n_neighbors=35"
   ],
   "metadata": {
    "collapsed": false
   }
  },
  {
   "cell_type": "code",
   "execution_count": 38,
   "outputs": [],
   "source": [
    "w_df = pd.read_csv('datasets/weather.csv')\n",
    "p_df = pd.read_csv('datasets/pet.csv')\n",
    "c_df = pd.read_csv('datasets/character.csv')\n",
    "\n",
    "con_df = pd.read_csv('datasets/consumer.csv')\n",
    "g_df = pd.read_csv('datasets/galaxy.csv')\n",
    "h_df = pd.read_csv('datasets/heart.csv')"
   ],
   "metadata": {
    "collapsed": false
   }
  },
  {
   "cell_type": "code",
   "execution_count": 68,
   "outputs": [],
   "source": [
    "df = w_df\n",
    "#df = p_df\n",
    "#df = c_df\n",
    "#df = con_df\n",
    "#df = g_df\n",
    "#df =h_df\n",
    "\n",
    "selected_features = ['Temperature','Precipitation','AtmosphericPressure']\n",
    "#selected_features = ['AgeMonths','Vaccinated','Size']\n",
    "#selected_features = ['Strength','Intelligence','Weaknesses']\n",
    "#selected_features = ['CustomerAge','CustomerSatisfaction','CustomerGender']\n",
    "#selected_features = ['eastwest','northsouth','radialposition']\n",
    "#selected_features = ['oldpeak','cp','thal']\n",
    "\n",
    "name_class = 'WeatherType'\n",
    "#name_class = 'AdoptionLikelihood'\n",
    "#name_class = 'BattleOutcome'\n",
    "#name_class = 'PurchaseIntent'\n",
    "#name_class = 'class'\n",
    "#name_class = 'disease'"
   ],
   "metadata": {
    "collapsed": false
   }
  },
  {
   "cell_type": "code",
   "execution_count": 69,
   "outputs": [
    {
     "name": "stdout",
     "output_type": "stream",
     "text": [
      "saved dirty dataset 50%\n",
      "saved dirty dataset 60%\n",
      "saved dirty dataset 70%\n",
      "saved dirty dataset 80%\n",
      "saved dirty dataset 90%\n"
     ]
    }
   ],
   "source": [
    "df = df[selected_features]\n",
    "\n",
    "profile = pd.DataFrame([])\n",
    "\n",
    "perc_quality = [50, 60, 70, 80, 90]\n",
    "\n",
    "for perc in perc_quality:\n",
    "    df_dirt = injection(df, name_class, perc/100, 10, 1)\n",
    "    test = dp.extract_profile_dataset(df, perc)\n",
    "    test = test[columns_R]\n",
    "    profile = pd.concat([profile,pd.DataFrame(test)])"
   ],
   "metadata": {
    "collapsed": false
   }
  },
  {
   "cell_type": "code",
   "execution_count": 70,
   "outputs": [],
   "source": [
    "### standardization\n",
    "scalerNum = StandardScaler().fit(KBR)\n",
    "KBR = scalerNum.transform(KBR)\n",
    "profiles = scalerNum.transform(profile)\n",
    "\n",
    "KBR = np.nan_to_num(KBR)"
   ],
   "metadata": {
    "collapsed": false
   }
  },
  {
   "cell_type": "code",
   "execution_count": 70,
   "outputs": [],
   "source": [],
   "metadata": {
    "collapsed": false
   }
  },
  {
   "cell_type": "code",
   "execution_count": 70,
   "outputs": [],
   "source": [],
   "metadata": {
    "collapsed": false
   }
  },
  {
   "cell_type": "code",
   "execution_count": 71,
   "outputs": [],
   "source": [
    "## weather\n",
    "distances = knn(35,KBR, profiles)\n",
    "pd.DataFrame(distances[0]).to_csv('distances_w.csv',index=False)"
   ],
   "metadata": {
    "collapsed": false
   }
  },
  {
   "cell_type": "code",
   "execution_count": 32,
   "outputs": [],
   "source": [],
   "metadata": {
    "collapsed": false
   }
  },
  {
   "cell_type": "code",
   "execution_count": 32,
   "outputs": [],
   "source": [],
   "metadata": {
    "collapsed": false
   }
  },
  {
   "cell_type": "code",
   "execution_count": 55,
   "outputs": [],
   "source": [
    "## galaxy\n",
    "distances = knn(35,KBR, profiles)\n",
    "pd.DataFrame(distances[0]).to_csv('distances_g.csv',index=False)"
   ],
   "metadata": {
    "collapsed": false
   }
  },
  {
   "cell_type": "code",
   "execution_count": 33,
   "outputs": [],
   "source": [],
   "metadata": {
    "collapsed": false
   }
  },
  {
   "cell_type": "code",
   "execution_count": null,
   "outputs": [],
   "source": [],
   "metadata": {
    "collapsed": false
   }
  },
  {
   "cell_type": "code",
   "execution_count": 67,
   "outputs": [],
   "source": [
    "# pet\n",
    "distances = knn(35,KBR, profiles)\n",
    "pd.DataFrame(distances[0]).to_csv('distances_p.csv',index=False)"
   ],
   "metadata": {
    "collapsed": false
   }
  },
  {
   "cell_type": "code",
   "execution_count": null,
   "outputs": [],
   "source": [],
   "metadata": {
    "collapsed": false
   }
  },
  {
   "cell_type": "code",
   "execution_count": null,
   "outputs": [],
   "source": [],
   "metadata": {
    "collapsed": false
   }
  },
  {
   "cell_type": "code",
   "execution_count": 51,
   "outputs": [],
   "source": [
    "# heart\n",
    "distances = knn(35,KBR, profiles)\n",
    "pd.DataFrame(distances[0]).to_csv('distances_h.csv',index=False)"
   ],
   "metadata": {
    "collapsed": false
   }
  },
  {
   "cell_type": "code",
   "execution_count": null,
   "outputs": [],
   "source": [],
   "metadata": {
    "collapsed": false
   }
  },
  {
   "cell_type": "code",
   "execution_count": null,
   "outputs": [],
   "source": [],
   "metadata": {
    "collapsed": false
   }
  },
  {
   "cell_type": "code",
   "execution_count": 63,
   "outputs": [],
   "source": [
    "# character\n",
    "distances = knn(35,KBR, profiles)\n",
    "pd.DataFrame(distances[0]).to_csv('distances_c.csv',index=False)"
   ],
   "metadata": {
    "collapsed": false
   }
  },
  {
   "cell_type": "code",
   "execution_count": null,
   "outputs": [],
   "source": [],
   "metadata": {
    "collapsed": false
   }
  },
  {
   "cell_type": "code",
   "execution_count": null,
   "outputs": [],
   "source": [],
   "metadata": {
    "collapsed": false
   }
  },
  {
   "cell_type": "code",
   "execution_count": 59,
   "outputs": [],
   "source": [
    "# consumer\n",
    "distances = knn(35,KBR, profiles)\n",
    "pd.DataFrame(distances[0]).to_csv('distances_con.csv',index=False)"
   ],
   "metadata": {
    "collapsed": false
   }
  },
  {
   "cell_type": "code",
   "execution_count": 19,
   "outputs": [],
   "source": [],
   "metadata": {
    "collapsed": false
   }
  },
  {
   "cell_type": "code",
   "execution_count": 19,
   "outputs": [],
   "source": [],
   "metadata": {
    "collapsed": false
   }
  },
  {
   "cell_type": "code",
   "execution_count": 19,
   "outputs": [],
   "source": [],
   "metadata": {
    "collapsed": false
   }
  },
  {
   "cell_type": "code",
   "execution_count": 19,
   "outputs": [],
   "source": [],
   "metadata": {
    "collapsed": false
   }
  }
 ],
 "metadata": {
  "kernelspec": {
   "display_name": "Python 3",
   "language": "python",
   "name": "python3"
  },
  "language_info": {
   "codemirror_mode": {
    "name": "ipython",
    "version": 2
   },
   "file_extension": ".py",
   "mimetype": "text/x-python",
   "name": "python",
   "nbconvert_exporter": "python",
   "pygments_lexer": "ipython2",
   "version": "2.7.6"
  }
 },
 "nbformat": 4,
 "nbformat_minor": 0
}
