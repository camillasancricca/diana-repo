{
 "cells": [
  {
   "cell_type": "code",
   "execution_count": 33,
   "outputs": [],
   "source": [
    "import pandas as pd"
   ],
   "metadata": {
    "collapsed": false
   }
  },
  {
   "cell_type": "code",
   "execution_count": 34,
   "outputs": [
    {
     "data": {
      "text/plain": "                   dataset               model     dimension      rmse\n0                  abalone        DecisionTree  completeness  0.094359\n1                  abalone        DecisionTree      accuracy  0.050002\n2                  abalone  LogisticRegression  completeness  0.060813\n3                  abalone  LogisticRegression      accuracy  0.049275\n4                  abalone                 KNN  completeness  0.047605\n..                     ...                 ...           ...       ...\n325  wall-robot-navigation        RandomForest      accuracy  0.087390\n326  wall-robot-navigation            AdaBoost  completeness  0.100547\n327  wall-robot-navigation            AdaBoost      accuracy  0.180835\n328  wall-robot-navigation                 SVC  completeness  0.485545\n329  wall-robot-navigation                 SVC      accuracy  0.256286\n\n[330 rows x 4 columns]",
      "text/html": "<div>\n<style scoped>\n    .dataframe tbody tr th:only-of-type {\n        vertical-align: middle;\n    }\n\n    .dataframe tbody tr th {\n        vertical-align: top;\n    }\n\n    .dataframe thead th {\n        text-align: right;\n    }\n</style>\n<table border=\"1\" class=\"dataframe\">\n  <thead>\n    <tr style=\"text-align: right;\">\n      <th></th>\n      <th>dataset</th>\n      <th>model</th>\n      <th>dimension</th>\n      <th>rmse</th>\n    </tr>\n  </thead>\n  <tbody>\n    <tr>\n      <th>0</th>\n      <td>abalone</td>\n      <td>DecisionTree</td>\n      <td>completeness</td>\n      <td>0.094359</td>\n    </tr>\n    <tr>\n      <th>1</th>\n      <td>abalone</td>\n      <td>DecisionTree</td>\n      <td>accuracy</td>\n      <td>0.050002</td>\n    </tr>\n    <tr>\n      <th>2</th>\n      <td>abalone</td>\n      <td>LogisticRegression</td>\n      <td>completeness</td>\n      <td>0.060813</td>\n    </tr>\n    <tr>\n      <th>3</th>\n      <td>abalone</td>\n      <td>LogisticRegression</td>\n      <td>accuracy</td>\n      <td>0.049275</td>\n    </tr>\n    <tr>\n      <th>4</th>\n      <td>abalone</td>\n      <td>KNN</td>\n      <td>completeness</td>\n      <td>0.047605</td>\n    </tr>\n    <tr>\n      <th>...</th>\n      <td>...</td>\n      <td>...</td>\n      <td>...</td>\n      <td>...</td>\n    </tr>\n    <tr>\n      <th>325</th>\n      <td>wall-robot-navigation</td>\n      <td>RandomForest</td>\n      <td>accuracy</td>\n      <td>0.087390</td>\n    </tr>\n    <tr>\n      <th>326</th>\n      <td>wall-robot-navigation</td>\n      <td>AdaBoost</td>\n      <td>completeness</td>\n      <td>0.100547</td>\n    </tr>\n    <tr>\n      <th>327</th>\n      <td>wall-robot-navigation</td>\n      <td>AdaBoost</td>\n      <td>accuracy</td>\n      <td>0.180835</td>\n    </tr>\n    <tr>\n      <th>328</th>\n      <td>wall-robot-navigation</td>\n      <td>SVC</td>\n      <td>completeness</td>\n      <td>0.485545</td>\n    </tr>\n    <tr>\n      <th>329</th>\n      <td>wall-robot-navigation</td>\n      <td>SVC</td>\n      <td>accuracy</td>\n      <td>0.256286</td>\n    </tr>\n  </tbody>\n</table>\n<p>330 rows × 4 columns</p>\n</div>"
     },
     "execution_count": 34,
     "metadata": {},
     "output_type": "execute_result"
    }
   ],
   "source": [
    "rmse = pd.read_csv('results_prediction_impact.csv')\n",
    "rmse"
   ],
   "metadata": {
    "collapsed": false
   }
  },
  {
   "cell_type": "code",
   "execution_count": 35,
   "outputs": [
    {
     "data": {
      "text/plain": "                 model     dimension      rmse\n0             AdaBoost      accuracy  0.097681\n1             AdaBoost  completeness  0.067043\n2             AdaBoost   consistency  0.052425\n3         DecisionTree      accuracy  0.087767\n4         DecisionTree  completeness  0.084994\n5         DecisionTree   consistency  0.024526\n6                  KNN      accuracy  0.118391\n7                  KNN  completeness  0.083950\n8                  KNN   consistency  0.049143\n9   LogisticRegression      accuracy  0.176984\n10  LogisticRegression  completeness  0.070872\n11  LogisticRegression   consistency  0.018295\n12        RandomForest      accuracy  0.061588\n13        RandomForest  completeness  0.071041\n14        RandomForest   consistency  0.045181\n15                 SVC      accuracy  0.221208\n16                 SVC  completeness  0.163741\n17                 SVC   consistency  0.032933",
      "text/html": "<div>\n<style scoped>\n    .dataframe tbody tr th:only-of-type {\n        vertical-align: middle;\n    }\n\n    .dataframe tbody tr th {\n        vertical-align: top;\n    }\n\n    .dataframe thead th {\n        text-align: right;\n    }\n</style>\n<table border=\"1\" class=\"dataframe\">\n  <thead>\n    <tr style=\"text-align: right;\">\n      <th></th>\n      <th>model</th>\n      <th>dimension</th>\n      <th>rmse</th>\n    </tr>\n  </thead>\n  <tbody>\n    <tr>\n      <th>0</th>\n      <td>AdaBoost</td>\n      <td>accuracy</td>\n      <td>0.097681</td>\n    </tr>\n    <tr>\n      <th>1</th>\n      <td>AdaBoost</td>\n      <td>completeness</td>\n      <td>0.067043</td>\n    </tr>\n    <tr>\n      <th>2</th>\n      <td>AdaBoost</td>\n      <td>consistency</td>\n      <td>0.052425</td>\n    </tr>\n    <tr>\n      <th>3</th>\n      <td>DecisionTree</td>\n      <td>accuracy</td>\n      <td>0.087767</td>\n    </tr>\n    <tr>\n      <th>4</th>\n      <td>DecisionTree</td>\n      <td>completeness</td>\n      <td>0.084994</td>\n    </tr>\n    <tr>\n      <th>5</th>\n      <td>DecisionTree</td>\n      <td>consistency</td>\n      <td>0.024526</td>\n    </tr>\n    <tr>\n      <th>6</th>\n      <td>KNN</td>\n      <td>accuracy</td>\n      <td>0.118391</td>\n    </tr>\n    <tr>\n      <th>7</th>\n      <td>KNN</td>\n      <td>completeness</td>\n      <td>0.083950</td>\n    </tr>\n    <tr>\n      <th>8</th>\n      <td>KNN</td>\n      <td>consistency</td>\n      <td>0.049143</td>\n    </tr>\n    <tr>\n      <th>9</th>\n      <td>LogisticRegression</td>\n      <td>accuracy</td>\n      <td>0.176984</td>\n    </tr>\n    <tr>\n      <th>10</th>\n      <td>LogisticRegression</td>\n      <td>completeness</td>\n      <td>0.070872</td>\n    </tr>\n    <tr>\n      <th>11</th>\n      <td>LogisticRegression</td>\n      <td>consistency</td>\n      <td>0.018295</td>\n    </tr>\n    <tr>\n      <th>12</th>\n      <td>RandomForest</td>\n      <td>accuracy</td>\n      <td>0.061588</td>\n    </tr>\n    <tr>\n      <th>13</th>\n      <td>RandomForest</td>\n      <td>completeness</td>\n      <td>0.071041</td>\n    </tr>\n    <tr>\n      <th>14</th>\n      <td>RandomForest</td>\n      <td>consistency</td>\n      <td>0.045181</td>\n    </tr>\n    <tr>\n      <th>15</th>\n      <td>SVC</td>\n      <td>accuracy</td>\n      <td>0.221208</td>\n    </tr>\n    <tr>\n      <th>16</th>\n      <td>SVC</td>\n      <td>completeness</td>\n      <td>0.163741</td>\n    </tr>\n    <tr>\n      <th>17</th>\n      <td>SVC</td>\n      <td>consistency</td>\n      <td>0.032933</td>\n    </tr>\n  </tbody>\n</table>\n</div>"
     },
     "execution_count": 35,
     "metadata": {},
     "output_type": "execute_result"
    }
   ],
   "source": [
    "rmse = rmse[['model','dimension','rmse']].groupby(['model','dimension']).median().reset_index().copy()\n",
    "rmse"
   ],
   "metadata": {
    "collapsed": false
   }
  },
  {
   "cell_type": "code",
   "execution_count": 36,
   "outputs": [],
   "source": [
    "KBR = pd.read_csv('KBR.csv')"
   ],
   "metadata": {
    "collapsed": false
   }
  },
  {
   "cell_type": "code",
   "execution_count": 37,
   "outputs": [
    {
     "data": {
      "text/plain": "                       name  n_tuples  n_attributes  p_num_var  p_cat_var  \\\n0                   abalone      4177             9   0.888889   0.111111   \n1                   abalone      4177             9   0.888889   0.111111   \n2                   abalone      4177             9   0.888889   0.111111   \n3                   abalone      4177             9   0.888889   0.111111   \n4                   abalone      4177             9   0.888889   0.111111   \n...                     ...       ...           ...        ...        ...   \n1645  wall-robot-navigation      5456             5   1.000000   0.000000   \n1646  wall-robot-navigation      5456             5   1.000000   0.000000   \n1647  wall-robot-navigation      5456             5   1.000000   0.000000   \n1648  wall-robot-navigation      5456             5   1.000000   0.000000   \n1649  wall-robot-navigation      5456             5   1.000000   0.000000   \n\n      p_avg_distinct  p_max_distinct  p_min_distinct  avg_density  \\\n0           0.119703        0.373953        0.000718     0.989206   \n1           0.119703        0.373953        0.000718     0.989206   \n2           0.119703        0.373953        0.000718     0.989206   \n3           0.119703        0.373953        0.000718     0.989206   \n4           0.119703        0.373953        0.000718     0.989206   \n...              ...             ...             ...          ...   \n1645        0.291312        0.411657        0.000733     1.191794   \n1646        0.291312        0.411657        0.000733     1.191794   \n1647        0.291312        0.411657        0.000733     1.191794   \n1648        0.291312        0.411657        0.000733     1.191794   \n1649        0.291312        0.411657        0.000733     1.191794   \n\n      max_density  ...  max_skewness_char  mean_skewness_char  \\\n0        8.713896  ...                NaN                 NaN   \n1        8.713896  ...                NaN                 NaN   \n2        8.713896  ...                NaN                 NaN   \n3        8.713896  ...                NaN                 NaN   \n4        8.713896  ...                NaN                 NaN   \n...           ...  ...                ...                 ...   \n1645     5.958893  ...                NaN                 NaN   \n1646     5.958893  ...                NaN                 NaN   \n1647     5.958893  ...                NaN                 NaN   \n1648     5.958893  ...                NaN                 NaN   \n1649     5.958893  ...                NaN                 NaN   \n\n      min_kurtosis_char  max_kurtosis_char  mean_kurtosis_char     dimension  \\\n0                   NaN                NaN                 NaN  completeness   \n1                   NaN                NaN                 NaN  completeness   \n2                   NaN                NaN                 NaN  completeness   \n3                   NaN                NaN                 NaN  completeness   \n4                   NaN                NaN                 NaN  completeness   \n...                 ...                ...                 ...           ...   \n1645                NaN                NaN                 NaN      accuracy   \n1646                NaN                NaN                 NaN      accuracy   \n1647                NaN                NaN                 NaN      accuracy   \n1648                NaN                NaN                 NaN      accuracy   \n1649                NaN                NaN                 NaN      accuracy   \n\n      perc               model     score    impact  \n0      0.9        DecisionTree  0.171302  0.765890  \n1      0.9  LogisticRegression  0.194713  0.829578  \n2      0.9                 KNN  0.177197  0.857117  \n3      0.9        RandomForest  0.227511  0.877388  \n4      0.9            AdaBoost  0.074488  0.716002  \n...    ...                 ...       ...       ...  \n1645   0.5  LogisticRegression  0.499050  0.518676  \n1646   0.5                 KNN  0.826260  0.853767  \n1647   0.5        RandomForest  0.946756  0.946756  \n1648   0.5            AdaBoost  0.911553  1.159816  \n1649   0.5                 SVC  0.415053  0.441342  \n\n[1650 rows x 82 columns]",
      "text/html": "<div>\n<style scoped>\n    .dataframe tbody tr th:only-of-type {\n        vertical-align: middle;\n    }\n\n    .dataframe tbody tr th {\n        vertical-align: top;\n    }\n\n    .dataframe thead th {\n        text-align: right;\n    }\n</style>\n<table border=\"1\" class=\"dataframe\">\n  <thead>\n    <tr style=\"text-align: right;\">\n      <th></th>\n      <th>name</th>\n      <th>n_tuples</th>\n      <th>n_attributes</th>\n      <th>p_num_var</th>\n      <th>p_cat_var</th>\n      <th>p_avg_distinct</th>\n      <th>p_max_distinct</th>\n      <th>p_min_distinct</th>\n      <th>avg_density</th>\n      <th>max_density</th>\n      <th>...</th>\n      <th>max_skewness_char</th>\n      <th>mean_skewness_char</th>\n      <th>min_kurtosis_char</th>\n      <th>max_kurtosis_char</th>\n      <th>mean_kurtosis_char</th>\n      <th>dimension</th>\n      <th>perc</th>\n      <th>model</th>\n      <th>score</th>\n      <th>impact</th>\n    </tr>\n  </thead>\n  <tbody>\n    <tr>\n      <th>0</th>\n      <td>abalone</td>\n      <td>4177</td>\n      <td>9</td>\n      <td>0.888889</td>\n      <td>0.111111</td>\n      <td>0.119703</td>\n      <td>0.373953</td>\n      <td>0.000718</td>\n      <td>0.989206</td>\n      <td>8.713896</td>\n      <td>...</td>\n      <td>NaN</td>\n      <td>NaN</td>\n      <td>NaN</td>\n      <td>NaN</td>\n      <td>NaN</td>\n      <td>completeness</td>\n      <td>0.9</td>\n      <td>DecisionTree</td>\n      <td>0.171302</td>\n      <td>0.765890</td>\n    </tr>\n    <tr>\n      <th>1</th>\n      <td>abalone</td>\n      <td>4177</td>\n      <td>9</td>\n      <td>0.888889</td>\n      <td>0.111111</td>\n      <td>0.119703</td>\n      <td>0.373953</td>\n      <td>0.000718</td>\n      <td>0.989206</td>\n      <td>8.713896</td>\n      <td>...</td>\n      <td>NaN</td>\n      <td>NaN</td>\n      <td>NaN</td>\n      <td>NaN</td>\n      <td>NaN</td>\n      <td>completeness</td>\n      <td>0.9</td>\n      <td>LogisticRegression</td>\n      <td>0.194713</td>\n      <td>0.829578</td>\n    </tr>\n    <tr>\n      <th>2</th>\n      <td>abalone</td>\n      <td>4177</td>\n      <td>9</td>\n      <td>0.888889</td>\n      <td>0.111111</td>\n      <td>0.119703</td>\n      <td>0.373953</td>\n      <td>0.000718</td>\n      <td>0.989206</td>\n      <td>8.713896</td>\n      <td>...</td>\n      <td>NaN</td>\n      <td>NaN</td>\n      <td>NaN</td>\n      <td>NaN</td>\n      <td>NaN</td>\n      <td>completeness</td>\n      <td>0.9</td>\n      <td>KNN</td>\n      <td>0.177197</td>\n      <td>0.857117</td>\n    </tr>\n    <tr>\n      <th>3</th>\n      <td>abalone</td>\n      <td>4177</td>\n      <td>9</td>\n      <td>0.888889</td>\n      <td>0.111111</td>\n      <td>0.119703</td>\n      <td>0.373953</td>\n      <td>0.000718</td>\n      <td>0.989206</td>\n      <td>8.713896</td>\n      <td>...</td>\n      <td>NaN</td>\n      <td>NaN</td>\n      <td>NaN</td>\n      <td>NaN</td>\n      <td>NaN</td>\n      <td>completeness</td>\n      <td>0.9</td>\n      <td>RandomForest</td>\n      <td>0.227511</td>\n      <td>0.877388</td>\n    </tr>\n    <tr>\n      <th>4</th>\n      <td>abalone</td>\n      <td>4177</td>\n      <td>9</td>\n      <td>0.888889</td>\n      <td>0.111111</td>\n      <td>0.119703</td>\n      <td>0.373953</td>\n      <td>0.000718</td>\n      <td>0.989206</td>\n      <td>8.713896</td>\n      <td>...</td>\n      <td>NaN</td>\n      <td>NaN</td>\n      <td>NaN</td>\n      <td>NaN</td>\n      <td>NaN</td>\n      <td>completeness</td>\n      <td>0.9</td>\n      <td>AdaBoost</td>\n      <td>0.074488</td>\n      <td>0.716002</td>\n    </tr>\n    <tr>\n      <th>...</th>\n      <td>...</td>\n      <td>...</td>\n      <td>...</td>\n      <td>...</td>\n      <td>...</td>\n      <td>...</td>\n      <td>...</td>\n      <td>...</td>\n      <td>...</td>\n      <td>...</td>\n      <td>...</td>\n      <td>...</td>\n      <td>...</td>\n      <td>...</td>\n      <td>...</td>\n      <td>...</td>\n      <td>...</td>\n      <td>...</td>\n      <td>...</td>\n      <td>...</td>\n      <td>...</td>\n    </tr>\n    <tr>\n      <th>1645</th>\n      <td>wall-robot-navigation</td>\n      <td>5456</td>\n      <td>5</td>\n      <td>1.000000</td>\n      <td>0.000000</td>\n      <td>0.291312</td>\n      <td>0.411657</td>\n      <td>0.000733</td>\n      <td>1.191794</td>\n      <td>5.958893</td>\n      <td>...</td>\n      <td>NaN</td>\n      <td>NaN</td>\n      <td>NaN</td>\n      <td>NaN</td>\n      <td>NaN</td>\n      <td>accuracy</td>\n      <td>0.5</td>\n      <td>LogisticRegression</td>\n      <td>0.499050</td>\n      <td>0.518676</td>\n    </tr>\n    <tr>\n      <th>1646</th>\n      <td>wall-robot-navigation</td>\n      <td>5456</td>\n      <td>5</td>\n      <td>1.000000</td>\n      <td>0.000000</td>\n      <td>0.291312</td>\n      <td>0.411657</td>\n      <td>0.000733</td>\n      <td>1.191794</td>\n      <td>5.958893</td>\n      <td>...</td>\n      <td>NaN</td>\n      <td>NaN</td>\n      <td>NaN</td>\n      <td>NaN</td>\n      <td>NaN</td>\n      <td>accuracy</td>\n      <td>0.5</td>\n      <td>KNN</td>\n      <td>0.826260</td>\n      <td>0.853767</td>\n    </tr>\n    <tr>\n      <th>1647</th>\n      <td>wall-robot-navigation</td>\n      <td>5456</td>\n      <td>5</td>\n      <td>1.000000</td>\n      <td>0.000000</td>\n      <td>0.291312</td>\n      <td>0.411657</td>\n      <td>0.000733</td>\n      <td>1.191794</td>\n      <td>5.958893</td>\n      <td>...</td>\n      <td>NaN</td>\n      <td>NaN</td>\n      <td>NaN</td>\n      <td>NaN</td>\n      <td>NaN</td>\n      <td>accuracy</td>\n      <td>0.5</td>\n      <td>RandomForest</td>\n      <td>0.946756</td>\n      <td>0.946756</td>\n    </tr>\n    <tr>\n      <th>1648</th>\n      <td>wall-robot-navigation</td>\n      <td>5456</td>\n      <td>5</td>\n      <td>1.000000</td>\n      <td>0.000000</td>\n      <td>0.291312</td>\n      <td>0.411657</td>\n      <td>0.000733</td>\n      <td>1.191794</td>\n      <td>5.958893</td>\n      <td>...</td>\n      <td>NaN</td>\n      <td>NaN</td>\n      <td>NaN</td>\n      <td>NaN</td>\n      <td>NaN</td>\n      <td>accuracy</td>\n      <td>0.5</td>\n      <td>AdaBoost</td>\n      <td>0.911553</td>\n      <td>1.159816</td>\n    </tr>\n    <tr>\n      <th>1649</th>\n      <td>wall-robot-navigation</td>\n      <td>5456</td>\n      <td>5</td>\n      <td>1.000000</td>\n      <td>0.000000</td>\n      <td>0.291312</td>\n      <td>0.411657</td>\n      <td>0.000733</td>\n      <td>1.191794</td>\n      <td>5.958893</td>\n      <td>...</td>\n      <td>NaN</td>\n      <td>NaN</td>\n      <td>NaN</td>\n      <td>NaN</td>\n      <td>NaN</td>\n      <td>accuracy</td>\n      <td>0.5</td>\n      <td>SVC</td>\n      <td>0.415053</td>\n      <td>0.441342</td>\n    </tr>\n  </tbody>\n</table>\n<p>1650 rows × 82 columns</p>\n</div>"
     },
     "execution_count": 37,
     "metadata": {},
     "output_type": "execute_result"
    }
   ],
   "source": [
    "KBR"
   ],
   "metadata": {
    "collapsed": false
   }
  },
  {
   "cell_type": "code",
   "execution_count": 38,
   "outputs": [
    {
     "data": {
      "text/plain": "         dimension               model     score\n0     completeness        DecisionTree  0.171302\n1     completeness  LogisticRegression  0.194713\n2     completeness                 KNN  0.177197\n3     completeness        RandomForest  0.227511\n4     completeness            AdaBoost  0.074488\n...            ...                 ...       ...\n1645      accuracy  LogisticRegression  0.499050\n1646      accuracy                 KNN  0.826260\n1647      accuracy        RandomForest  0.946756\n1648      accuracy            AdaBoost  0.911553\n1649      accuracy                 SVC  0.415053\n\n[1650 rows x 3 columns]",
      "text/html": "<div>\n<style scoped>\n    .dataframe tbody tr th:only-of-type {\n        vertical-align: middle;\n    }\n\n    .dataframe tbody tr th {\n        vertical-align: top;\n    }\n\n    .dataframe thead th {\n        text-align: right;\n    }\n</style>\n<table border=\"1\" class=\"dataframe\">\n  <thead>\n    <tr style=\"text-align: right;\">\n      <th></th>\n      <th>dimension</th>\n      <th>model</th>\n      <th>score</th>\n    </tr>\n  </thead>\n  <tbody>\n    <tr>\n      <th>0</th>\n      <td>completeness</td>\n      <td>DecisionTree</td>\n      <td>0.171302</td>\n    </tr>\n    <tr>\n      <th>1</th>\n      <td>completeness</td>\n      <td>LogisticRegression</td>\n      <td>0.194713</td>\n    </tr>\n    <tr>\n      <th>2</th>\n      <td>completeness</td>\n      <td>KNN</td>\n      <td>0.177197</td>\n    </tr>\n    <tr>\n      <th>3</th>\n      <td>completeness</td>\n      <td>RandomForest</td>\n      <td>0.227511</td>\n    </tr>\n    <tr>\n      <th>4</th>\n      <td>completeness</td>\n      <td>AdaBoost</td>\n      <td>0.074488</td>\n    </tr>\n    <tr>\n      <th>...</th>\n      <td>...</td>\n      <td>...</td>\n      <td>...</td>\n    </tr>\n    <tr>\n      <th>1645</th>\n      <td>accuracy</td>\n      <td>LogisticRegression</td>\n      <td>0.499050</td>\n    </tr>\n    <tr>\n      <th>1646</th>\n      <td>accuracy</td>\n      <td>KNN</td>\n      <td>0.826260</td>\n    </tr>\n    <tr>\n      <th>1647</th>\n      <td>accuracy</td>\n      <td>RandomForest</td>\n      <td>0.946756</td>\n    </tr>\n    <tr>\n      <th>1648</th>\n      <td>accuracy</td>\n      <td>AdaBoost</td>\n      <td>0.911553</td>\n    </tr>\n    <tr>\n      <th>1649</th>\n      <td>accuracy</td>\n      <td>SVC</td>\n      <td>0.415053</td>\n    </tr>\n  </tbody>\n</table>\n<p>1650 rows × 3 columns</p>\n</div>"
     },
     "execution_count": 38,
     "metadata": {},
     "output_type": "execute_result"
    }
   ],
   "source": [
    "perf = KBR[['dimension','model','score']]\n",
    "perf"
   ],
   "metadata": {
    "collapsed": false
   }
  },
  {
   "cell_type": "code",
   "execution_count": 39,
   "outputs": [
    {
     "data": {
      "text/plain": "       dimension               model     score\n0       accuracy            AdaBoost  0.282791\n1       accuracy        DecisionTree  0.202316\n2       accuracy                 KNN  0.236679\n3       accuracy  LogisticRegression  0.210842\n4       accuracy        RandomForest  0.187663\n5       accuracy                 SVC  0.214172\n6   completeness            AdaBoost  0.281848\n7   completeness        DecisionTree  0.194590\n8   completeness                 KNN  0.194663\n9   completeness  LogisticRegression  0.163753\n10  completeness        RandomForest  0.177602\n11  completeness                 SVC  0.198636\n12   consistency            AdaBoost  0.385749\n13   consistency        DecisionTree  0.137689\n14   consistency                 KNN  0.161157\n15   consistency  LogisticRegression  0.116085\n16   consistency        RandomForest  0.130746\n17   consistency                 SVC  0.123125",
      "text/html": "<div>\n<style scoped>\n    .dataframe tbody tr th:only-of-type {\n        vertical-align: middle;\n    }\n\n    .dataframe tbody tr th {\n        vertical-align: top;\n    }\n\n    .dataframe thead th {\n        text-align: right;\n    }\n</style>\n<table border=\"1\" class=\"dataframe\">\n  <thead>\n    <tr style=\"text-align: right;\">\n      <th></th>\n      <th>dimension</th>\n      <th>model</th>\n      <th>score</th>\n    </tr>\n  </thead>\n  <tbody>\n    <tr>\n      <th>0</th>\n      <td>accuracy</td>\n      <td>AdaBoost</td>\n      <td>0.282791</td>\n    </tr>\n    <tr>\n      <th>1</th>\n      <td>accuracy</td>\n      <td>DecisionTree</td>\n      <td>0.202316</td>\n    </tr>\n    <tr>\n      <th>2</th>\n      <td>accuracy</td>\n      <td>KNN</td>\n      <td>0.236679</td>\n    </tr>\n    <tr>\n      <th>3</th>\n      <td>accuracy</td>\n      <td>LogisticRegression</td>\n      <td>0.210842</td>\n    </tr>\n    <tr>\n      <th>4</th>\n      <td>accuracy</td>\n      <td>RandomForest</td>\n      <td>0.187663</td>\n    </tr>\n    <tr>\n      <th>5</th>\n      <td>accuracy</td>\n      <td>SVC</td>\n      <td>0.214172</td>\n    </tr>\n    <tr>\n      <th>6</th>\n      <td>completeness</td>\n      <td>AdaBoost</td>\n      <td>0.281848</td>\n    </tr>\n    <tr>\n      <th>7</th>\n      <td>completeness</td>\n      <td>DecisionTree</td>\n      <td>0.194590</td>\n    </tr>\n    <tr>\n      <th>8</th>\n      <td>completeness</td>\n      <td>KNN</td>\n      <td>0.194663</td>\n    </tr>\n    <tr>\n      <th>9</th>\n      <td>completeness</td>\n      <td>LogisticRegression</td>\n      <td>0.163753</td>\n    </tr>\n    <tr>\n      <th>10</th>\n      <td>completeness</td>\n      <td>RandomForest</td>\n      <td>0.177602</td>\n    </tr>\n    <tr>\n      <th>11</th>\n      <td>completeness</td>\n      <td>SVC</td>\n      <td>0.198636</td>\n    </tr>\n    <tr>\n      <th>12</th>\n      <td>consistency</td>\n      <td>AdaBoost</td>\n      <td>0.385749</td>\n    </tr>\n    <tr>\n      <th>13</th>\n      <td>consistency</td>\n      <td>DecisionTree</td>\n      <td>0.137689</td>\n    </tr>\n    <tr>\n      <th>14</th>\n      <td>consistency</td>\n      <td>KNN</td>\n      <td>0.161157</td>\n    </tr>\n    <tr>\n      <th>15</th>\n      <td>consistency</td>\n      <td>LogisticRegression</td>\n      <td>0.116085</td>\n    </tr>\n    <tr>\n      <th>16</th>\n      <td>consistency</td>\n      <td>RandomForest</td>\n      <td>0.130746</td>\n    </tr>\n    <tr>\n      <th>17</th>\n      <td>consistency</td>\n      <td>SVC</td>\n      <td>0.123125</td>\n    </tr>\n  </tbody>\n</table>\n</div>"
     },
     "execution_count": 39,
     "metadata": {},
     "output_type": "execute_result"
    }
   ],
   "source": [
    "std = perf.groupby(['dimension','model']).std().reset_index().copy()\n",
    "std"
   ],
   "metadata": {
    "collapsed": false
   }
  },
  {
   "cell_type": "code",
   "execution_count": 40,
   "outputs": [
    {
     "data": {
      "text/plain": "                 model     dimension      rmse       std\n0             AdaBoost      accuracy  0.097681  0.282791\n1             AdaBoost  completeness  0.067043  0.202316\n2             AdaBoost   consistency  0.052425  0.236679\n3         DecisionTree      accuracy  0.087767  0.210842\n4         DecisionTree  completeness  0.084994  0.187663\n5         DecisionTree   consistency  0.024526  0.214172\n6                  KNN      accuracy  0.118391  0.281848\n7                  KNN  completeness  0.083950  0.194590\n8                  KNN   consistency  0.049143  0.194663\n9   LogisticRegression      accuracy  0.176984  0.163753\n10  LogisticRegression  completeness  0.070872  0.177602\n11  LogisticRegression   consistency  0.018295  0.198636\n12        RandomForest      accuracy  0.061588  0.385749\n13        RandomForest  completeness  0.071041  0.137689\n14        RandomForest   consistency  0.045181  0.161157\n15                 SVC      accuracy  0.221208  0.116085\n16                 SVC  completeness  0.163741  0.130746\n17                 SVC   consistency  0.032933  0.123125",
      "text/html": "<div>\n<style scoped>\n    .dataframe tbody tr th:only-of-type {\n        vertical-align: middle;\n    }\n\n    .dataframe tbody tr th {\n        vertical-align: top;\n    }\n\n    .dataframe thead th {\n        text-align: right;\n    }\n</style>\n<table border=\"1\" class=\"dataframe\">\n  <thead>\n    <tr style=\"text-align: right;\">\n      <th></th>\n      <th>model</th>\n      <th>dimension</th>\n      <th>rmse</th>\n      <th>std</th>\n    </tr>\n  </thead>\n  <tbody>\n    <tr>\n      <th>0</th>\n      <td>AdaBoost</td>\n      <td>accuracy</td>\n      <td>0.097681</td>\n      <td>0.282791</td>\n    </tr>\n    <tr>\n      <th>1</th>\n      <td>AdaBoost</td>\n      <td>completeness</td>\n      <td>0.067043</td>\n      <td>0.202316</td>\n    </tr>\n    <tr>\n      <th>2</th>\n      <td>AdaBoost</td>\n      <td>consistency</td>\n      <td>0.052425</td>\n      <td>0.236679</td>\n    </tr>\n    <tr>\n      <th>3</th>\n      <td>DecisionTree</td>\n      <td>accuracy</td>\n      <td>0.087767</td>\n      <td>0.210842</td>\n    </tr>\n    <tr>\n      <th>4</th>\n      <td>DecisionTree</td>\n      <td>completeness</td>\n      <td>0.084994</td>\n      <td>0.187663</td>\n    </tr>\n    <tr>\n      <th>5</th>\n      <td>DecisionTree</td>\n      <td>consistency</td>\n      <td>0.024526</td>\n      <td>0.214172</td>\n    </tr>\n    <tr>\n      <th>6</th>\n      <td>KNN</td>\n      <td>accuracy</td>\n      <td>0.118391</td>\n      <td>0.281848</td>\n    </tr>\n    <tr>\n      <th>7</th>\n      <td>KNN</td>\n      <td>completeness</td>\n      <td>0.083950</td>\n      <td>0.194590</td>\n    </tr>\n    <tr>\n      <th>8</th>\n      <td>KNN</td>\n      <td>consistency</td>\n      <td>0.049143</td>\n      <td>0.194663</td>\n    </tr>\n    <tr>\n      <th>9</th>\n      <td>LogisticRegression</td>\n      <td>accuracy</td>\n      <td>0.176984</td>\n      <td>0.163753</td>\n    </tr>\n    <tr>\n      <th>10</th>\n      <td>LogisticRegression</td>\n      <td>completeness</td>\n      <td>0.070872</td>\n      <td>0.177602</td>\n    </tr>\n    <tr>\n      <th>11</th>\n      <td>LogisticRegression</td>\n      <td>consistency</td>\n      <td>0.018295</td>\n      <td>0.198636</td>\n    </tr>\n    <tr>\n      <th>12</th>\n      <td>RandomForest</td>\n      <td>accuracy</td>\n      <td>0.061588</td>\n      <td>0.385749</td>\n    </tr>\n    <tr>\n      <th>13</th>\n      <td>RandomForest</td>\n      <td>completeness</td>\n      <td>0.071041</td>\n      <td>0.137689</td>\n    </tr>\n    <tr>\n      <th>14</th>\n      <td>RandomForest</td>\n      <td>consistency</td>\n      <td>0.045181</td>\n      <td>0.161157</td>\n    </tr>\n    <tr>\n      <th>15</th>\n      <td>SVC</td>\n      <td>accuracy</td>\n      <td>0.221208</td>\n      <td>0.116085</td>\n    </tr>\n    <tr>\n      <th>16</th>\n      <td>SVC</td>\n      <td>completeness</td>\n      <td>0.163741</td>\n      <td>0.130746</td>\n    </tr>\n    <tr>\n      <th>17</th>\n      <td>SVC</td>\n      <td>consistency</td>\n      <td>0.032933</td>\n      <td>0.123125</td>\n    </tr>\n  </tbody>\n</table>\n</div>"
     },
     "execution_count": 40,
     "metadata": {},
     "output_type": "execute_result"
    }
   ],
   "source": [
    "rmse['std'] = std['score']\n",
    "rmse"
   ],
   "metadata": {
    "collapsed": false
   }
  },
  {
   "cell_type": "code",
   "execution_count": 41,
   "outputs": [],
   "source": [
    "rmse['P'] = 0"
   ],
   "metadata": {
    "collapsed": false
   }
  },
  {
   "cell_type": "code",
   "execution_count": 42,
   "outputs": [
    {
     "name": "stderr",
     "output_type": "stream",
     "text": [
      "/var/folders/28/s2pb4zq55c74809tjsxsq73c0000gn/T/ipykernel_68885/835716391.py:2: FutureWarning: ChainedAssignmentError: behaviour will change in pandas 3.0!\n",
      "You are setting values through chained assignment. Currently this works in certain cases, but when using Copy-on-Write (which will become the default behaviour in pandas 3.0) this will never work to update the original DataFrame or Series, because the intermediate object on which we are setting values will behave as a copy.\n",
      "A typical example is when you are setting values in a column of a DataFrame, like:\n",
      "\n",
      "df[\"col\"][row_indexer] = value\n",
      "\n",
      "Use `df.loc[row_indexer, \"col\"] = values` instead, to perform the assignment in a single step and ensure this keeps updating the original `df`.\n",
      "\n",
      "See the caveats in the documentation: https://pandas.pydata.org/pandas-docs/stable/user_guide/indexing.html#returning-a-view-versus-a-copy\n",
      "\n",
      "  rmse['P'].loc[i] = (rmse['rmse'][i]/rmse['std'][i])*100\n",
      "/var/folders/28/s2pb4zq55c74809tjsxsq73c0000gn/T/ipykernel_68885/835716391.py:2: SettingWithCopyWarning: \n",
      "A value is trying to be set on a copy of a slice from a DataFrame\n",
      "\n",
      "See the caveats in the documentation: https://pandas.pydata.org/pandas-docs/stable/user_guide/indexing.html#returning-a-view-versus-a-copy\n",
      "  rmse['P'].loc[i] = (rmse['rmse'][i]/rmse['std'][i])*100\n",
      "/var/folders/28/s2pb4zq55c74809tjsxsq73c0000gn/T/ipykernel_68885/835716391.py:2: FutureWarning: Setting an item of incompatible dtype is deprecated and will raise an error in a future version of pandas. Value '34.54165095553675' has dtype incompatible with int64, please explicitly cast to a compatible dtype first.\n",
      "  rmse['P'].loc[i] = (rmse['rmse'][i]/rmse['std'][i])*100\n",
      "/var/folders/28/s2pb4zq55c74809tjsxsq73c0000gn/T/ipykernel_68885/835716391.py:2: FutureWarning: ChainedAssignmentError: behaviour will change in pandas 3.0!\n",
      "You are setting values through chained assignment. Currently this works in certain cases, but when using Copy-on-Write (which will become the default behaviour in pandas 3.0) this will never work to update the original DataFrame or Series, because the intermediate object on which we are setting values will behave as a copy.\n",
      "A typical example is when you are setting values in a column of a DataFrame, like:\n",
      "\n",
      "df[\"col\"][row_indexer] = value\n",
      "\n",
      "Use `df.loc[row_indexer, \"col\"] = values` instead, to perform the assignment in a single step and ensure this keeps updating the original `df`.\n",
      "\n",
      "See the caveats in the documentation: https://pandas.pydata.org/pandas-docs/stable/user_guide/indexing.html#returning-a-view-versus-a-copy\n",
      "\n",
      "  rmse['P'].loc[i] = (rmse['rmse'][i]/rmse['std'][i])*100\n"
     ]
    }
   ],
   "source": [
    "for i in range(0, len(rmse)):\n",
    "       rmse['P'].loc[i] = (rmse['rmse'][i]/rmse['std'][i])*100"
   ],
   "metadata": {
    "collapsed": false
   }
  },
  {
   "cell_type": "code",
   "execution_count": 43,
   "outputs": [],
   "source": [
    "rmse.to_csv('B-PerfError.csv', index=False)\n"
   ],
   "metadata": {
    "collapsed": false
   }
  },
  {
   "cell_type": "code",
   "execution_count": 44,
   "outputs": [
    {
     "data": {
      "text/plain": "                 model     dimension      rmse       std           P\n0             AdaBoost      accuracy  0.097681  0.282791   34.541651\n1             AdaBoost  completeness  0.067043  0.202316   33.137740\n2             AdaBoost   consistency  0.052425  0.236679   22.150237\n3         DecisionTree      accuracy  0.087767  0.210842   41.627008\n4         DecisionTree  completeness  0.084994  0.187663   45.290961\n5         DecisionTree   consistency  0.024526  0.214172   11.451576\n6                  KNN      accuracy  0.118391  0.281848   42.005147\n7                  KNN  completeness  0.083950  0.194590   43.141982\n8                  KNN   consistency  0.049143  0.194663   25.245097\n9   LogisticRegression      accuracy  0.176984  0.163753  108.080211\n10  LogisticRegression  completeness  0.070872  0.177602   39.904669\n11  LogisticRegression   consistency  0.018295  0.198636    9.210228\n12        RandomForest      accuracy  0.061588  0.385749   15.965728\n13        RandomForest  completeness  0.071041  0.137689   51.595593\n14        RandomForest   consistency  0.045181  0.161157   28.035604\n15                 SVC      accuracy  0.221208  0.116085  190.557584\n16                 SVC  completeness  0.163741  0.130746  125.236715\n17                 SVC   consistency  0.032933  0.123125   26.747587",
      "text/html": "<div>\n<style scoped>\n    .dataframe tbody tr th:only-of-type {\n        vertical-align: middle;\n    }\n\n    .dataframe tbody tr th {\n        vertical-align: top;\n    }\n\n    .dataframe thead th {\n        text-align: right;\n    }\n</style>\n<table border=\"1\" class=\"dataframe\">\n  <thead>\n    <tr style=\"text-align: right;\">\n      <th></th>\n      <th>model</th>\n      <th>dimension</th>\n      <th>rmse</th>\n      <th>std</th>\n      <th>P</th>\n    </tr>\n  </thead>\n  <tbody>\n    <tr>\n      <th>0</th>\n      <td>AdaBoost</td>\n      <td>accuracy</td>\n      <td>0.097681</td>\n      <td>0.282791</td>\n      <td>34.541651</td>\n    </tr>\n    <tr>\n      <th>1</th>\n      <td>AdaBoost</td>\n      <td>completeness</td>\n      <td>0.067043</td>\n      <td>0.202316</td>\n      <td>33.137740</td>\n    </tr>\n    <tr>\n      <th>2</th>\n      <td>AdaBoost</td>\n      <td>consistency</td>\n      <td>0.052425</td>\n      <td>0.236679</td>\n      <td>22.150237</td>\n    </tr>\n    <tr>\n      <th>3</th>\n      <td>DecisionTree</td>\n      <td>accuracy</td>\n      <td>0.087767</td>\n      <td>0.210842</td>\n      <td>41.627008</td>\n    </tr>\n    <tr>\n      <th>4</th>\n      <td>DecisionTree</td>\n      <td>completeness</td>\n      <td>0.084994</td>\n      <td>0.187663</td>\n      <td>45.290961</td>\n    </tr>\n    <tr>\n      <th>5</th>\n      <td>DecisionTree</td>\n      <td>consistency</td>\n      <td>0.024526</td>\n      <td>0.214172</td>\n      <td>11.451576</td>\n    </tr>\n    <tr>\n      <th>6</th>\n      <td>KNN</td>\n      <td>accuracy</td>\n      <td>0.118391</td>\n      <td>0.281848</td>\n      <td>42.005147</td>\n    </tr>\n    <tr>\n      <th>7</th>\n      <td>KNN</td>\n      <td>completeness</td>\n      <td>0.083950</td>\n      <td>0.194590</td>\n      <td>43.141982</td>\n    </tr>\n    <tr>\n      <th>8</th>\n      <td>KNN</td>\n      <td>consistency</td>\n      <td>0.049143</td>\n      <td>0.194663</td>\n      <td>25.245097</td>\n    </tr>\n    <tr>\n      <th>9</th>\n      <td>LogisticRegression</td>\n      <td>accuracy</td>\n      <td>0.176984</td>\n      <td>0.163753</td>\n      <td>108.080211</td>\n    </tr>\n    <tr>\n      <th>10</th>\n      <td>LogisticRegression</td>\n      <td>completeness</td>\n      <td>0.070872</td>\n      <td>0.177602</td>\n      <td>39.904669</td>\n    </tr>\n    <tr>\n      <th>11</th>\n      <td>LogisticRegression</td>\n      <td>consistency</td>\n      <td>0.018295</td>\n      <td>0.198636</td>\n      <td>9.210228</td>\n    </tr>\n    <tr>\n      <th>12</th>\n      <td>RandomForest</td>\n      <td>accuracy</td>\n      <td>0.061588</td>\n      <td>0.385749</td>\n      <td>15.965728</td>\n    </tr>\n    <tr>\n      <th>13</th>\n      <td>RandomForest</td>\n      <td>completeness</td>\n      <td>0.071041</td>\n      <td>0.137689</td>\n      <td>51.595593</td>\n    </tr>\n    <tr>\n      <th>14</th>\n      <td>RandomForest</td>\n      <td>consistency</td>\n      <td>0.045181</td>\n      <td>0.161157</td>\n      <td>28.035604</td>\n    </tr>\n    <tr>\n      <th>15</th>\n      <td>SVC</td>\n      <td>accuracy</td>\n      <td>0.221208</td>\n      <td>0.116085</td>\n      <td>190.557584</td>\n    </tr>\n    <tr>\n      <th>16</th>\n      <td>SVC</td>\n      <td>completeness</td>\n      <td>0.163741</td>\n      <td>0.130746</td>\n      <td>125.236715</td>\n    </tr>\n    <tr>\n      <th>17</th>\n      <td>SVC</td>\n      <td>consistency</td>\n      <td>0.032933</td>\n      <td>0.123125</td>\n      <td>26.747587</td>\n    </tr>\n  </tbody>\n</table>\n</div>"
     },
     "execution_count": 44,
     "metadata": {},
     "output_type": "execute_result"
    }
   ],
   "source": [
    "rmse\n"
   ],
   "metadata": {
    "collapsed": false
   }
  },
  {
   "cell_type": "code",
   "execution_count": null,
   "outputs": [],
   "source": [],
   "metadata": {
    "collapsed": false,
    "pycharm": {
     "is_executing": true
    }
   }
  },
  {
   "cell_type": "code",
   "execution_count": 31,
   "outputs": [],
   "source": [],
   "metadata": {
    "collapsed": false
   }
  }
 ],
 "metadata": {
  "kernelspec": {
   "display_name": "Python 3",
   "language": "python",
   "name": "python3"
  },
  "language_info": {
   "codemirror_mode": {
    "name": "ipython",
    "version": 2
   },
   "file_extension": ".py",
   "mimetype": "text/x-python",
   "name": "python",
   "nbconvert_exporter": "python",
   "pygments_lexer": "ipython2",
   "version": "2.7.6"
  }
 },
 "nbformat": 4,
 "nbformat_minor": 0
}
