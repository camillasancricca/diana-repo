{
 "cells": [
  {
   "cell_type": "code",
   "execution_count": 23,
   "outputs": [],
   "source": [
    "import pandas as pd"
   ],
   "metadata": {
    "collapsed": false
   }
  },
  {
   "cell_type": "code",
   "execution_count": 26,
   "outputs": [],
   "source": [
    "rmse_num = pd.read_csv('prediction_completeness_num.csv')\n",
    "rmse_cat = pd.read_csv('prediction_completeness_cat.csv')"
   ],
   "metadata": {
    "collapsed": false
   }
  },
  {
   "cell_type": "code",
   "execution_count": 27,
   "outputs": [
    {
     "data": {
      "text/plain": "         ml_algorithm  impute_standard  impute_mode  impute_random  \\\n0            AdaBoost         0.289109     0.288727       0.288252   \n1        DecisionTree         0.231747     0.232138       0.233664   \n2                 KNN         0.211260     0.213550       0.213287   \n3  LogisticRegression         0.210317     0.214832       0.214551   \n4        RandomForest         0.220474     0.224032       0.225448   \n5                 SVC         0.201733     0.203850       0.204200   \n\n   impute_knn  impute_mice  impute_logistic_regression  impute_random_forest  \\\n0    0.291114     0.291012                    0.289616              0.291346   \n1    0.234152     0.234121                    0.231494              0.234034   \n2    0.218606     0.218566                    0.216731              0.218201   \n3    0.219063     0.219022                    0.217103              0.220149   \n4    0.226619     0.226737                    0.224858              0.227427   \n5    0.206777     0.206764                    0.204764              0.213874   \n\n   impute_kproto  \n0       0.288939  \n1       0.232152  \n2       0.213572  \n3       0.214834  \n4       0.223983  \n5       0.203090  ",
      "text/html": "<div>\n<style scoped>\n    .dataframe tbody tr th:only-of-type {\n        vertical-align: middle;\n    }\n\n    .dataframe tbody tr th {\n        vertical-align: top;\n    }\n\n    .dataframe thead th {\n        text-align: right;\n    }\n</style>\n<table border=\"1\" class=\"dataframe\">\n  <thead>\n    <tr style=\"text-align: right;\">\n      <th></th>\n      <th>ml_algorithm</th>\n      <th>impute_standard</th>\n      <th>impute_mode</th>\n      <th>impute_random</th>\n      <th>impute_knn</th>\n      <th>impute_mice</th>\n      <th>impute_logistic_regression</th>\n      <th>impute_random_forest</th>\n      <th>impute_kproto</th>\n    </tr>\n  </thead>\n  <tbody>\n    <tr>\n      <th>0</th>\n      <td>AdaBoost</td>\n      <td>0.289109</td>\n      <td>0.288727</td>\n      <td>0.288252</td>\n      <td>0.291114</td>\n      <td>0.291012</td>\n      <td>0.289616</td>\n      <td>0.291346</td>\n      <td>0.288939</td>\n    </tr>\n    <tr>\n      <th>1</th>\n      <td>DecisionTree</td>\n      <td>0.231747</td>\n      <td>0.232138</td>\n      <td>0.233664</td>\n      <td>0.234152</td>\n      <td>0.234121</td>\n      <td>0.231494</td>\n      <td>0.234034</td>\n      <td>0.232152</td>\n    </tr>\n    <tr>\n      <th>2</th>\n      <td>KNN</td>\n      <td>0.211260</td>\n      <td>0.213550</td>\n      <td>0.213287</td>\n      <td>0.218606</td>\n      <td>0.218566</td>\n      <td>0.216731</td>\n      <td>0.218201</td>\n      <td>0.213572</td>\n    </tr>\n    <tr>\n      <th>3</th>\n      <td>LogisticRegression</td>\n      <td>0.210317</td>\n      <td>0.214832</td>\n      <td>0.214551</td>\n      <td>0.219063</td>\n      <td>0.219022</td>\n      <td>0.217103</td>\n      <td>0.220149</td>\n      <td>0.214834</td>\n    </tr>\n    <tr>\n      <th>4</th>\n      <td>RandomForest</td>\n      <td>0.220474</td>\n      <td>0.224032</td>\n      <td>0.225448</td>\n      <td>0.226619</td>\n      <td>0.226737</td>\n      <td>0.224858</td>\n      <td>0.227427</td>\n      <td>0.223983</td>\n    </tr>\n    <tr>\n      <th>5</th>\n      <td>SVC</td>\n      <td>0.201733</td>\n      <td>0.203850</td>\n      <td>0.204200</td>\n      <td>0.206777</td>\n      <td>0.206764</td>\n      <td>0.204764</td>\n      <td>0.213874</td>\n      <td>0.203090</td>\n    </tr>\n  </tbody>\n</table>\n</div>"
     },
     "execution_count": 27,
     "metadata": {},
     "output_type": "execute_result"
    }
   ],
   "source": [
    "KBC = pd.read_csv('KBC.csv')\n",
    "KBC_cat = pd.read_csv('KBC_cat.csv')\n",
    "\n",
    "perf_num = KBC[['ml_algorithm', 'impute_standard', 'impute_mean',\n",
    "                'impute_median', 'impute_random', 'impute_knn', 'impute_mice',\n",
    "                'impute_linear_regression', 'impute_random_forest', 'impute_cmeans']]\n",
    "perf_cat = KBC_cat[['ml_algorithm', 'impute_standard', 'impute_mode',\n",
    "                    'impute_random', 'impute_knn', 'impute_mice',\n",
    "                    'impute_logistic_regression', 'impute_random_forest', 'impute_kproto']]\n",
    "\n",
    "std_num = perf_num.groupby(['ml_algorithm']).std().reset_index().copy()\n",
    "\n",
    "std_cat = perf_cat.groupby(['ml_algorithm']).std().reset_index().copy()\n",
    "std_cat"
   ],
   "metadata": {
    "collapsed": false
   }
  },
  {
   "cell_type": "code",
   "execution_count": 36,
   "outputs": [],
   "source": [
    "rmse_num_aggr = rmse_num[['model','technique','rmse']].groupby(['model','technique']).median().reset_index().copy()"
   ],
   "metadata": {
    "collapsed": false
   }
  },
  {
   "cell_type": "code",
   "execution_count": 38,
   "outputs": [],
   "source": [
    "rmse_cat_aggr = rmse_cat[['model','technique','rmse']].groupby(['model','technique']).median().reset_index().copy()"
   ],
   "metadata": {
    "collapsed": false
   }
  },
  {
   "cell_type": "code",
   "execution_count": 42,
   "outputs": [
    {
     "data": {
      "text/plain": "np.float64(0.2891086657991818)"
     },
     "execution_count": 42,
     "metadata": {},
     "output_type": "execute_result"
    }
   ],
   "source": [
    "std_cat['impute_standard'][std_cat.ml_algorithm == 'AdaBoost'].values[0]"
   ],
   "metadata": {
    "collapsed": false
   }
  },
  {
   "cell_type": "code",
   "execution_count": 57,
   "outputs": [],
   "source": [
    "rmse_num_aggr['P'] = 0\n",
    "rmse_cat_aggr['P'] = 0"
   ],
   "metadata": {
    "collapsed": false
   }
  },
  {
   "cell_type": "code",
   "execution_count": 58,
   "outputs": [],
   "source": [
    "for i in range(0,len(rmse_num_aggr)):\n",
    "       rmse_num_aggr['P'].loc[i] = (rmse_num_aggr.rmse[i]/std_num[rmse_num_aggr.technique[i]][std_num.ml_algorithm == rmse_num_aggr.model[i]].values[0])*100"
   ],
   "metadata": {
    "collapsed": false
   }
  },
  {
   "cell_type": "code",
   "execution_count": 61,
   "outputs": [],
   "source": [
    "for i in range(0,len(rmse_cat_aggr)):\n",
    "       rmse_cat_aggr['P'].loc[i] = (rmse_cat_aggr.rmse[i]/std_cat[rmse_cat_aggr.technique[i]][std_cat.ml_algorithm == rmse_cat_aggr.model[i]].values[0])*100"
   ],
   "metadata": {
    "collapsed": false
   }
  },
  {
   "cell_type": "code",
   "execution_count": 63,
   "outputs": [],
   "source": [
    "rmse_num_aggr['type'] = 'NUM'\n",
    "rmse_cat_aggr['type'] = 'CAT'"
   ],
   "metadata": {
    "collapsed": false
   }
  },
  {
   "cell_type": "code",
   "execution_count": 68,
   "outputs": [
    {
     "data": {
      "text/plain": "Index(['model', 'technique', 'rmse', 'P', 'type'], dtype='object')"
     },
     "execution_count": 68,
     "metadata": {},
     "output_type": "execute_result"
    }
   ],
   "source": [
    "rmse_cat_aggr.columns"
   ],
   "metadata": {
    "collapsed": false
   }
  },
  {
   "cell_type": "code",
   "execution_count": 69,
   "outputs": [],
   "source": [
    "cols = ['model', 'technique', 'P', 'type']"
   ],
   "metadata": {
    "collapsed": false
   }
  },
  {
   "cell_type": "code",
   "execution_count": 70,
   "outputs": [],
   "source": [
    "rmse_num_aggr[cols].to_csv('P_num.csv',index=False)"
   ],
   "metadata": {
    "collapsed": false
   }
  },
  {
   "cell_type": "code",
   "execution_count": 71,
   "outputs": [],
   "source": [
    "rmse_cat_aggr[cols].to_csv('P_cat.csv',index=False)"
   ],
   "metadata": {
    "collapsed": false
   }
  },
  {
   "cell_type": "code",
   "execution_count": null,
   "outputs": [],
   "source": [],
   "metadata": {
    "collapsed": false
   }
  },
  {
   "cell_type": "code",
   "execution_count": null,
   "outputs": [],
   "source": [],
   "metadata": {
    "collapsed": false
   }
  },
  {
   "cell_type": "code",
   "execution_count": null,
   "outputs": [],
   "source": [],
   "metadata": {
    "collapsed": false
   }
  },
  {
   "cell_type": "code",
   "execution_count": null,
   "outputs": [],
   "source": [],
   "metadata": {
    "collapsed": false
   }
  },
  {
   "cell_type": "code",
   "execution_count": null,
   "outputs": [],
   "source": [
    "import pandas as pd"
   ],
   "metadata": {
    "collapsed": false
   }
  },
  {
   "cell_type": "code",
   "execution_count": 48,
   "outputs": [],
   "source": [
    "rmse_num = pd.read_csv('prediction_completeness_num.csv')\n",
    "rmse_cat = pd.read_csv('prediction_completeness_cat.csv')\n"
   ],
   "metadata": {
    "collapsed": false
   }
  },
  {
   "cell_type": "code",
   "execution_count": 49,
   "outputs": [
    {
     "data": {
      "text/plain": "                   technique               model      rmse\n0              impute_cmeans            AdaBoost  0.030384\n1              impute_cmeans        DecisionTree  0.007801\n2              impute_cmeans                 KNN  0.012231\n3              impute_cmeans  LogisticRegression  0.092882\n4              impute_cmeans        RandomForest  0.005194\n5              impute_cmeans                 SVC  0.049993\n6                 impute_knn            AdaBoost  0.040402\n7                 impute_knn        DecisionTree  0.011114\n8                 impute_knn                 KNN  0.011177\n9                 impute_knn  LogisticRegression  0.099426\n10                impute_knn        RandomForest  0.007250\n11                impute_knn                 SVC  0.074735\n12  impute_linear_regression            AdaBoost  0.029572\n13  impute_linear_regression        DecisionTree  0.010140\n14  impute_linear_regression                 KNN  0.010586\n15  impute_linear_regression  LogisticRegression  0.093630\n16  impute_linear_regression        RandomForest  0.006611\n17  impute_linear_regression                 SVC  0.051235\n18               impute_mean            AdaBoost  0.030679\n19               impute_mean        DecisionTree  0.007132\n20               impute_mean                 KNN  0.012215\n21               impute_mean  LogisticRegression  0.090655\n22               impute_mean        RandomForest  0.005605\n23               impute_mean                 SVC  0.049647\n24             impute_median            AdaBoost  0.027806\n25             impute_median        DecisionTree  0.008230\n26             impute_median                 KNN  0.011900\n27             impute_median  LogisticRegression  0.090862\n28             impute_median        RandomForest  0.004960\n29             impute_median                 SVC  0.045689\n30               impute_mice            AdaBoost  0.030351\n31               impute_mice        DecisionTree  0.008315\n32               impute_mice                 KNN  0.011185\n33               impute_mice  LogisticRegression  0.094988\n34               impute_mice        RandomForest  0.005301\n35               impute_mice                 SVC  0.052287\n36             impute_random            AdaBoost  0.032485\n37             impute_random        DecisionTree  0.018383\n38             impute_random                 KNN  0.016958\n39             impute_random  LogisticRegression  0.066416\n40             impute_random        RandomForest  0.017131\n41             impute_random                 SVC  0.061205\n42      impute_random_forest            AdaBoost  0.059986\n43      impute_random_forest        DecisionTree  0.014559\n44      impute_random_forest                 KNN  0.011909\n45      impute_random_forest  LogisticRegression  0.100729\n46      impute_random_forest        RandomForest  0.011467\n47      impute_random_forest                 SVC  0.069741\n48           impute_standard            AdaBoost  0.000000\n49           impute_standard        DecisionTree  0.000000\n50           impute_standard                 KNN  0.000000\n51           impute_standard  LogisticRegression  0.000000\n52           impute_standard        RandomForest  0.000000\n53           impute_standard                 SVC  0.000000",
      "text/html": "<div>\n<style scoped>\n    .dataframe tbody tr th:only-of-type {\n        vertical-align: middle;\n    }\n\n    .dataframe tbody tr th {\n        vertical-align: top;\n    }\n\n    .dataframe thead th {\n        text-align: right;\n    }\n</style>\n<table border=\"1\" class=\"dataframe\">\n  <thead>\n    <tr style=\"text-align: right;\">\n      <th></th>\n      <th>technique</th>\n      <th>model</th>\n      <th>rmse</th>\n    </tr>\n  </thead>\n  <tbody>\n    <tr>\n      <th>0</th>\n      <td>impute_cmeans</td>\n      <td>AdaBoost</td>\n      <td>0.030384</td>\n    </tr>\n    <tr>\n      <th>1</th>\n      <td>impute_cmeans</td>\n      <td>DecisionTree</td>\n      <td>0.007801</td>\n    </tr>\n    <tr>\n      <th>2</th>\n      <td>impute_cmeans</td>\n      <td>KNN</td>\n      <td>0.012231</td>\n    </tr>\n    <tr>\n      <th>3</th>\n      <td>impute_cmeans</td>\n      <td>LogisticRegression</td>\n      <td>0.092882</td>\n    </tr>\n    <tr>\n      <th>4</th>\n      <td>impute_cmeans</td>\n      <td>RandomForest</td>\n      <td>0.005194</td>\n    </tr>\n    <tr>\n      <th>5</th>\n      <td>impute_cmeans</td>\n      <td>SVC</td>\n      <td>0.049993</td>\n    </tr>\n    <tr>\n      <th>6</th>\n      <td>impute_knn</td>\n      <td>AdaBoost</td>\n      <td>0.040402</td>\n    </tr>\n    <tr>\n      <th>7</th>\n      <td>impute_knn</td>\n      <td>DecisionTree</td>\n      <td>0.011114</td>\n    </tr>\n    <tr>\n      <th>8</th>\n      <td>impute_knn</td>\n      <td>KNN</td>\n      <td>0.011177</td>\n    </tr>\n    <tr>\n      <th>9</th>\n      <td>impute_knn</td>\n      <td>LogisticRegression</td>\n      <td>0.099426</td>\n    </tr>\n    <tr>\n      <th>10</th>\n      <td>impute_knn</td>\n      <td>RandomForest</td>\n      <td>0.007250</td>\n    </tr>\n    <tr>\n      <th>11</th>\n      <td>impute_knn</td>\n      <td>SVC</td>\n      <td>0.074735</td>\n    </tr>\n    <tr>\n      <th>12</th>\n      <td>impute_linear_regression</td>\n      <td>AdaBoost</td>\n      <td>0.029572</td>\n    </tr>\n    <tr>\n      <th>13</th>\n      <td>impute_linear_regression</td>\n      <td>DecisionTree</td>\n      <td>0.010140</td>\n    </tr>\n    <tr>\n      <th>14</th>\n      <td>impute_linear_regression</td>\n      <td>KNN</td>\n      <td>0.010586</td>\n    </tr>\n    <tr>\n      <th>15</th>\n      <td>impute_linear_regression</td>\n      <td>LogisticRegression</td>\n      <td>0.093630</td>\n    </tr>\n    <tr>\n      <th>16</th>\n      <td>impute_linear_regression</td>\n      <td>RandomForest</td>\n      <td>0.006611</td>\n    </tr>\n    <tr>\n      <th>17</th>\n      <td>impute_linear_regression</td>\n      <td>SVC</td>\n      <td>0.051235</td>\n    </tr>\n    <tr>\n      <th>18</th>\n      <td>impute_mean</td>\n      <td>AdaBoost</td>\n      <td>0.030679</td>\n    </tr>\n    <tr>\n      <th>19</th>\n      <td>impute_mean</td>\n      <td>DecisionTree</td>\n      <td>0.007132</td>\n    </tr>\n    <tr>\n      <th>20</th>\n      <td>impute_mean</td>\n      <td>KNN</td>\n      <td>0.012215</td>\n    </tr>\n    <tr>\n      <th>21</th>\n      <td>impute_mean</td>\n      <td>LogisticRegression</td>\n      <td>0.090655</td>\n    </tr>\n    <tr>\n      <th>22</th>\n      <td>impute_mean</td>\n      <td>RandomForest</td>\n      <td>0.005605</td>\n    </tr>\n    <tr>\n      <th>23</th>\n      <td>impute_mean</td>\n      <td>SVC</td>\n      <td>0.049647</td>\n    </tr>\n    <tr>\n      <th>24</th>\n      <td>impute_median</td>\n      <td>AdaBoost</td>\n      <td>0.027806</td>\n    </tr>\n    <tr>\n      <th>25</th>\n      <td>impute_median</td>\n      <td>DecisionTree</td>\n      <td>0.008230</td>\n    </tr>\n    <tr>\n      <th>26</th>\n      <td>impute_median</td>\n      <td>KNN</td>\n      <td>0.011900</td>\n    </tr>\n    <tr>\n      <th>27</th>\n      <td>impute_median</td>\n      <td>LogisticRegression</td>\n      <td>0.090862</td>\n    </tr>\n    <tr>\n      <th>28</th>\n      <td>impute_median</td>\n      <td>RandomForest</td>\n      <td>0.004960</td>\n    </tr>\n    <tr>\n      <th>29</th>\n      <td>impute_median</td>\n      <td>SVC</td>\n      <td>0.045689</td>\n    </tr>\n    <tr>\n      <th>30</th>\n      <td>impute_mice</td>\n      <td>AdaBoost</td>\n      <td>0.030351</td>\n    </tr>\n    <tr>\n      <th>31</th>\n      <td>impute_mice</td>\n      <td>DecisionTree</td>\n      <td>0.008315</td>\n    </tr>\n    <tr>\n      <th>32</th>\n      <td>impute_mice</td>\n      <td>KNN</td>\n      <td>0.011185</td>\n    </tr>\n    <tr>\n      <th>33</th>\n      <td>impute_mice</td>\n      <td>LogisticRegression</td>\n      <td>0.094988</td>\n    </tr>\n    <tr>\n      <th>34</th>\n      <td>impute_mice</td>\n      <td>RandomForest</td>\n      <td>0.005301</td>\n    </tr>\n    <tr>\n      <th>35</th>\n      <td>impute_mice</td>\n      <td>SVC</td>\n      <td>0.052287</td>\n    </tr>\n    <tr>\n      <th>36</th>\n      <td>impute_random</td>\n      <td>AdaBoost</td>\n      <td>0.032485</td>\n    </tr>\n    <tr>\n      <th>37</th>\n      <td>impute_random</td>\n      <td>DecisionTree</td>\n      <td>0.018383</td>\n    </tr>\n    <tr>\n      <th>38</th>\n      <td>impute_random</td>\n      <td>KNN</td>\n      <td>0.016958</td>\n    </tr>\n    <tr>\n      <th>39</th>\n      <td>impute_random</td>\n      <td>LogisticRegression</td>\n      <td>0.066416</td>\n    </tr>\n    <tr>\n      <th>40</th>\n      <td>impute_random</td>\n      <td>RandomForest</td>\n      <td>0.017131</td>\n    </tr>\n    <tr>\n      <th>41</th>\n      <td>impute_random</td>\n      <td>SVC</td>\n      <td>0.061205</td>\n    </tr>\n    <tr>\n      <th>42</th>\n      <td>impute_random_forest</td>\n      <td>AdaBoost</td>\n      <td>0.059986</td>\n    </tr>\n    <tr>\n      <th>43</th>\n      <td>impute_random_forest</td>\n      <td>DecisionTree</td>\n      <td>0.014559</td>\n    </tr>\n    <tr>\n      <th>44</th>\n      <td>impute_random_forest</td>\n      <td>KNN</td>\n      <td>0.011909</td>\n    </tr>\n    <tr>\n      <th>45</th>\n      <td>impute_random_forest</td>\n      <td>LogisticRegression</td>\n      <td>0.100729</td>\n    </tr>\n    <tr>\n      <th>46</th>\n      <td>impute_random_forest</td>\n      <td>RandomForest</td>\n      <td>0.011467</td>\n    </tr>\n    <tr>\n      <th>47</th>\n      <td>impute_random_forest</td>\n      <td>SVC</td>\n      <td>0.069741</td>\n    </tr>\n    <tr>\n      <th>48</th>\n      <td>impute_standard</td>\n      <td>AdaBoost</td>\n      <td>0.000000</td>\n    </tr>\n    <tr>\n      <th>49</th>\n      <td>impute_standard</td>\n      <td>DecisionTree</td>\n      <td>0.000000</td>\n    </tr>\n    <tr>\n      <th>50</th>\n      <td>impute_standard</td>\n      <td>KNN</td>\n      <td>0.000000</td>\n    </tr>\n    <tr>\n      <th>51</th>\n      <td>impute_standard</td>\n      <td>LogisticRegression</td>\n      <td>0.000000</td>\n    </tr>\n    <tr>\n      <th>52</th>\n      <td>impute_standard</td>\n      <td>RandomForest</td>\n      <td>0.000000</td>\n    </tr>\n    <tr>\n      <th>53</th>\n      <td>impute_standard</td>\n      <td>SVC</td>\n      <td>0.000000</td>\n    </tr>\n  </tbody>\n</table>\n</div>"
     },
     "execution_count": 49,
     "metadata": {},
     "output_type": "execute_result"
    }
   ],
   "source": [
    "rmse_num = rmse_num[['technique','model','rmse']].groupby(['technique','model']).median().reset_index().copy()\n",
    "rmse_cat = rmse_cat[['technique','model','rmse']].groupby(['technique','model']).median().reset_index().copy()\n",
    "rmse_num"
   ],
   "metadata": {
    "collapsed": false
   }
  },
  {
   "cell_type": "code",
   "execution_count": 50,
   "outputs": [],
   "source": [
    "KBC = pd.read_csv('KBC.csv')\n",
    "KBC_cat = pd.read_csv('KBC_cat.csv')\n"
   ],
   "metadata": {
    "collapsed": false
   }
  },
  {
   "cell_type": "code",
   "execution_count": 51,
   "outputs": [],
   "source": [
    "perf_num = KBC[['ml_algorithm', 'impute_standard', 'impute_mean',\n",
    "       'impute_median', 'impute_random', 'impute_knn', 'impute_mice',\n",
    "       'impute_linear_regression', 'impute_random_forest', 'impute_cmeans']]\n",
    "perf_cat = KBC_cat[['ml_algorithm', 'impute_standard', 'impute_mode',\n",
    "       'impute_random', 'impute_knn', 'impute_mice',\n",
    "       'impute_logistic_regression', 'impute_random_forest', 'impute_kproto']]\n"
   ],
   "metadata": {
    "collapsed": false
   }
  },
  {
   "cell_type": "code",
   "execution_count": 52,
   "outputs": [
    {
     "data": {
      "text/plain": "         ml_algorithm  impute_standard  impute_mean  impute_median  \\\n0            AdaBoost         0.249333     0.248915       0.248738   \n1        DecisionTree         0.191642     0.190768       0.190507   \n2                 KNN         0.188193     0.187000       0.187604   \n3  LogisticRegression         0.188433     0.183011       0.183561   \n4        RandomForest         0.187929     0.187317       0.187397   \n5                 SVC         0.192896     0.191046       0.192854   \n\n   impute_random  impute_knn  impute_mice  impute_linear_regression  \\\n0       0.247730    0.248337     0.248288                  0.248235   \n1       0.192604    0.191668     0.191062                  0.191045   \n2       0.187019    0.187458     0.187192                  0.187282   \n3       0.184878    0.184861     0.182624                  0.182534   \n4       0.188818    0.187427     0.187487                  0.187507   \n5       0.189997    0.190280     0.193168                  0.193100   \n\n   impute_random_forest  impute_cmeans  \n0              0.246062       0.248750  \n1              0.191882       0.190563  \n2              0.187670       0.186977  \n3              0.184730       0.183478  \n4              0.187804       0.187061  \n5              0.192028       0.191900  ",
      "text/html": "<div>\n<style scoped>\n    .dataframe tbody tr th:only-of-type {\n        vertical-align: middle;\n    }\n\n    .dataframe tbody tr th {\n        vertical-align: top;\n    }\n\n    .dataframe thead th {\n        text-align: right;\n    }\n</style>\n<table border=\"1\" class=\"dataframe\">\n  <thead>\n    <tr style=\"text-align: right;\">\n      <th></th>\n      <th>ml_algorithm</th>\n      <th>impute_standard</th>\n      <th>impute_mean</th>\n      <th>impute_median</th>\n      <th>impute_random</th>\n      <th>impute_knn</th>\n      <th>impute_mice</th>\n      <th>impute_linear_regression</th>\n      <th>impute_random_forest</th>\n      <th>impute_cmeans</th>\n    </tr>\n  </thead>\n  <tbody>\n    <tr>\n      <th>0</th>\n      <td>AdaBoost</td>\n      <td>0.249333</td>\n      <td>0.248915</td>\n      <td>0.248738</td>\n      <td>0.247730</td>\n      <td>0.248337</td>\n      <td>0.248288</td>\n      <td>0.248235</td>\n      <td>0.246062</td>\n      <td>0.248750</td>\n    </tr>\n    <tr>\n      <th>1</th>\n      <td>DecisionTree</td>\n      <td>0.191642</td>\n      <td>0.190768</td>\n      <td>0.190507</td>\n      <td>0.192604</td>\n      <td>0.191668</td>\n      <td>0.191062</td>\n      <td>0.191045</td>\n      <td>0.191882</td>\n      <td>0.190563</td>\n    </tr>\n    <tr>\n      <th>2</th>\n      <td>KNN</td>\n      <td>0.188193</td>\n      <td>0.187000</td>\n      <td>0.187604</td>\n      <td>0.187019</td>\n      <td>0.187458</td>\n      <td>0.187192</td>\n      <td>0.187282</td>\n      <td>0.187670</td>\n      <td>0.186977</td>\n    </tr>\n    <tr>\n      <th>3</th>\n      <td>LogisticRegression</td>\n      <td>0.188433</td>\n      <td>0.183011</td>\n      <td>0.183561</td>\n      <td>0.184878</td>\n      <td>0.184861</td>\n      <td>0.182624</td>\n      <td>0.182534</td>\n      <td>0.184730</td>\n      <td>0.183478</td>\n    </tr>\n    <tr>\n      <th>4</th>\n      <td>RandomForest</td>\n      <td>0.187929</td>\n      <td>0.187317</td>\n      <td>0.187397</td>\n      <td>0.188818</td>\n      <td>0.187427</td>\n      <td>0.187487</td>\n      <td>0.187507</td>\n      <td>0.187804</td>\n      <td>0.187061</td>\n    </tr>\n    <tr>\n      <th>5</th>\n      <td>SVC</td>\n      <td>0.192896</td>\n      <td>0.191046</td>\n      <td>0.192854</td>\n      <td>0.189997</td>\n      <td>0.190280</td>\n      <td>0.193168</td>\n      <td>0.193100</td>\n      <td>0.192028</td>\n      <td>0.191900</td>\n    </tr>\n  </tbody>\n</table>\n</div>"
     },
     "execution_count": 52,
     "metadata": {},
     "output_type": "execute_result"
    }
   ],
   "source": [
    "std_num = perf_num.groupby(['ml_algorithm']).std().reset_index().copy()\n",
    "std_num\n"
   ],
   "metadata": {
    "collapsed": false
   }
  },
  {
   "cell_type": "code",
   "execution_count": 53,
   "outputs": [
    {
     "data": {
      "text/plain": "         ml_algorithm  impute_standard  impute_mode  impute_random  \\\n0            AdaBoost         0.289109     0.288727       0.288252   \n1        DecisionTree         0.231747     0.232138       0.233664   \n2                 KNN         0.211260     0.213550       0.213287   \n3  LogisticRegression         0.210317     0.214832       0.214551   \n4        RandomForest         0.220474     0.224032       0.225448   \n5                 SVC         0.201733     0.203850       0.204200   \n\n   impute_knn  impute_mice  impute_logistic_regression  impute_random_forest  \\\n0    0.291114     0.291012                    0.289616              0.291346   \n1    0.234152     0.234121                    0.231494              0.234034   \n2    0.218606     0.218566                    0.216731              0.218201   \n3    0.219063     0.219022                    0.217103              0.220149   \n4    0.226619     0.226737                    0.224858              0.227427   \n5    0.206777     0.206764                    0.204764              0.213874   \n\n   impute_kproto  \n0       0.288939  \n1       0.232152  \n2       0.213572  \n3       0.214834  \n4       0.223983  \n5       0.203090  ",
      "text/html": "<div>\n<style scoped>\n    .dataframe tbody tr th:only-of-type {\n        vertical-align: middle;\n    }\n\n    .dataframe tbody tr th {\n        vertical-align: top;\n    }\n\n    .dataframe thead th {\n        text-align: right;\n    }\n</style>\n<table border=\"1\" class=\"dataframe\">\n  <thead>\n    <tr style=\"text-align: right;\">\n      <th></th>\n      <th>ml_algorithm</th>\n      <th>impute_standard</th>\n      <th>impute_mode</th>\n      <th>impute_random</th>\n      <th>impute_knn</th>\n      <th>impute_mice</th>\n      <th>impute_logistic_regression</th>\n      <th>impute_random_forest</th>\n      <th>impute_kproto</th>\n    </tr>\n  </thead>\n  <tbody>\n    <tr>\n      <th>0</th>\n      <td>AdaBoost</td>\n      <td>0.289109</td>\n      <td>0.288727</td>\n      <td>0.288252</td>\n      <td>0.291114</td>\n      <td>0.291012</td>\n      <td>0.289616</td>\n      <td>0.291346</td>\n      <td>0.288939</td>\n    </tr>\n    <tr>\n      <th>1</th>\n      <td>DecisionTree</td>\n      <td>0.231747</td>\n      <td>0.232138</td>\n      <td>0.233664</td>\n      <td>0.234152</td>\n      <td>0.234121</td>\n      <td>0.231494</td>\n      <td>0.234034</td>\n      <td>0.232152</td>\n    </tr>\n    <tr>\n      <th>2</th>\n      <td>KNN</td>\n      <td>0.211260</td>\n      <td>0.213550</td>\n      <td>0.213287</td>\n      <td>0.218606</td>\n      <td>0.218566</td>\n      <td>0.216731</td>\n      <td>0.218201</td>\n      <td>0.213572</td>\n    </tr>\n    <tr>\n      <th>3</th>\n      <td>LogisticRegression</td>\n      <td>0.210317</td>\n      <td>0.214832</td>\n      <td>0.214551</td>\n      <td>0.219063</td>\n      <td>0.219022</td>\n      <td>0.217103</td>\n      <td>0.220149</td>\n      <td>0.214834</td>\n    </tr>\n    <tr>\n      <th>4</th>\n      <td>RandomForest</td>\n      <td>0.220474</td>\n      <td>0.224032</td>\n      <td>0.225448</td>\n      <td>0.226619</td>\n      <td>0.226737</td>\n      <td>0.224858</td>\n      <td>0.227427</td>\n      <td>0.223983</td>\n    </tr>\n    <tr>\n      <th>5</th>\n      <td>SVC</td>\n      <td>0.201733</td>\n      <td>0.203850</td>\n      <td>0.204200</td>\n      <td>0.206777</td>\n      <td>0.206764</td>\n      <td>0.204764</td>\n      <td>0.213874</td>\n      <td>0.203090</td>\n    </tr>\n  </tbody>\n</table>\n</div>"
     },
     "execution_count": 53,
     "metadata": {},
     "output_type": "execute_result"
    }
   ],
   "source": [
    "std_cat = perf_cat.groupby(['ml_algorithm']).std().reset_index().copy()\n",
    "std_cat\n"
   ],
   "metadata": {
    "collapsed": false
   }
  },
  {
   "cell_type": "code",
   "execution_count": 54,
   "outputs": [],
   "source": [
    "## reliability metric:\n",
    "\n",
    "## 1. performance +/- std (standard deviation della performance in quel contesto) +/- rmse (quanto altro posso sbagliare rispetto alla variazione)\n",
    "## 2. distance of the first k-neighbors\n"
   ],
   "metadata": {
    "collapsed": false
   }
  },
  {
   "cell_type": "code",
   "execution_count": null,
   "outputs": [],
   "source": [],
   "metadata": {
    "collapsed": false
   }
  }
 ],
 "metadata": {
  "kernelspec": {
   "display_name": "Python 3",
   "language": "python",
   "name": "python3"
  },
  "language_info": {
   "codemirror_mode": {
    "name": "ipython",
    "version": 2
   },
   "file_extension": ".py",
   "mimetype": "text/x-python",
   "name": "python",
   "nbconvert_exporter": "python",
   "pygments_lexer": "ipython2",
   "version": "2.7.6"
  }
 },
 "nbformat": 4,
 "nbformat_minor": 0
}
