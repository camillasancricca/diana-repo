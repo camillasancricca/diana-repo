{
 "cells": [
  {
   "cell_type": "code",
   "execution_count": 5,
   "outputs": [
    {
     "data": {
      "text/plain": "              median\ndataset             \ncharacter   7.160159\nconsumer    7.470728\ngalaxy     28.564104\nheart      13.324902\npet        11.833974\nweather     7.794482",
      "text/html": "<div>\n<style scoped>\n    .dataframe tbody tr th:only-of-type {\n        vertical-align: middle;\n    }\n\n    .dataframe tbody tr th {\n        vertical-align: top;\n    }\n\n    .dataframe thead th {\n        text-align: right;\n    }\n</style>\n<table border=\"1\" class=\"dataframe\">\n  <thead>\n    <tr style=\"text-align: right;\">\n      <th></th>\n      <th>median</th>\n    </tr>\n    <tr>\n      <th>dataset</th>\n      <th></th>\n    </tr>\n  </thead>\n  <tbody>\n    <tr>\n      <th>character</th>\n      <td>7.160159</td>\n    </tr>\n    <tr>\n      <th>consumer</th>\n      <td>7.470728</td>\n    </tr>\n    <tr>\n      <th>galaxy</th>\n      <td>28.564104</td>\n    </tr>\n    <tr>\n      <th>heart</th>\n      <td>13.324902</td>\n    </tr>\n    <tr>\n      <th>pet</th>\n      <td>11.833974</td>\n    </tr>\n    <tr>\n      <th>weather</th>\n      <td>7.794482</td>\n    </tr>\n  </tbody>\n</table>\n</div>"
     },
     "execution_count": 5,
     "metadata": {},
     "output_type": "execute_result"
    }
   ],
   "source": [
    "import pandas as pd\n",
    "df = pd.read_csv('A-Dissimilarity.csv')\n",
    "df[['dataset','median']].groupby(['dataset']).median()"
   ],
   "metadata": {
    "collapsed": false
   }
  },
  {
   "cell_type": "code",
   "execution_count": null,
   "outputs": [],
   "source": [],
   "metadata": {
    "collapsed": false
   }
  },
  {
   "cell_type": "code",
   "execution_count": null,
   "outputs": [],
   "source": [],
   "metadata": {
    "collapsed": false
   }
  },
  {
   "cell_type": "code",
   "execution_count": null,
   "outputs": [],
   "source": [
    "import pandas as pd"
   ],
   "metadata": {
    "collapsed": false
   }
  },
  {
   "cell_type": "code",
   "execution_count": null,
   "outputs": [],
   "source": [
    "df = pd.read_csv('Dissimilarity.csv')"
   ],
   "metadata": {
    "collapsed": false
   }
  },
  {
   "cell_type": "code",
   "execution_count": 71,
   "outputs": [],
   "source": [
    "df[['dataset','name','perc','mean','median']].to_csv('A-Dissimilarity.csv',index=False)"
   ],
   "metadata": {
    "collapsed": false
   }
  },
  {
   "cell_type": "code",
   "execution_count": null,
   "outputs": [],
   "source": [],
   "metadata": {
    "collapsed": false
   }
  },
  {
   "cell_type": "code",
   "execution_count": null,
   "outputs": [],
   "source": [],
   "metadata": {
    "collapsed": false
   }
  },
  {
   "cell_type": "code",
   "execution_count": null,
   "outputs": [],
   "source": [
    "import pandas as pd"
   ],
   "metadata": {
    "collapsed": false
   }
  },
  {
   "cell_type": "code",
   "execution_count": 60,
   "outputs": [],
   "source": [
    "neigh = ['0', '1', '2', '3', '4', '5', '6', '7', '8',\n",
    "       '9', '10', '11', '12', '13', '14', '15', '16', '17', '18', '19', '20',\n",
    "       '21', '22', '23', '24', '25', '26', '27', '28', '29', '30', '31', '32',\n",
    "       '33', '34']"
   ],
   "metadata": {
    "collapsed": false
   }
  },
  {
   "cell_type": "code",
   "execution_count": 61,
   "outputs": [],
   "source": [
    "df = pd.read_csv('distances_all.csv')\n",
    "df[neigh] = df[neigh]/2*100"
   ],
   "metadata": {
    "collapsed": false
   }
  },
  {
   "cell_type": "code",
   "execution_count": 65,
   "outputs": [],
   "source": [
    "df['mean'] = df[neigh].mean(numeric_only=True, axis=1)"
   ],
   "metadata": {
    "collapsed": false
   }
  },
  {
   "cell_type": "code",
   "execution_count": 67,
   "outputs": [],
   "source": [
    "df['median'] = df[neigh].median(numeric_only=True, axis=1)"
   ],
   "metadata": {
    "collapsed": false
   }
  },
  {
   "cell_type": "code",
   "execution_count": 69,
   "outputs": [],
   "source": [
    "df.to_csv('distances_all.csv',index=False)"
   ],
   "metadata": {
    "collapsed": false
   }
  },
  {
   "cell_type": "code",
   "execution_count": null,
   "outputs": [],
   "source": [],
   "metadata": {
    "collapsed": false
   }
  },
  {
   "cell_type": "code",
   "execution_count": 8,
   "metadata": {
    "collapsed": true
   },
   "outputs": [],
   "source": [
    "from sklearn.neighbors import NearestNeighbors\n",
    "import pandas as pd\n",
    "import numpy as np\n",
    "from dirty_data import injection\n",
    "import data_profile_extraction as dp\n",
    "import numerical\n",
    "from sklearn.preprocessing import StandardScaler\n",
    "\n",
    "N = 35\n",
    "\n",
    "def knn(N, KB, sample):\n",
    "    neigh = NearestNeighbors(n_neighbors=N, metric='cosine')\n",
    "    neigh.fit(KB)\n",
    "    #neigh.kneighbors(sample, N, return_distance=False)\n",
    "    return neigh.kneighbors(sample, N, return_distance=True)"
   ]
  },
  {
   "cell_type": "code",
   "execution_count": 9,
   "outputs": [],
   "source": [
    "num = ['Temperature','Precipitation','AtmosphericPressure','AgeMonths','Strength','Intelligence','eastwest','northsouth','radialposition','oldpeak','CustomerAge','CustomerSatisfaction']\n",
    "categorical = ['Vaccinated','Size','Weaknesses','cp','thal','CustomerGender']"
   ],
   "metadata": {
    "collapsed": false
   }
  },
  {
   "cell_type": "code",
   "execution_count": 10,
   "outputs": [],
   "source": [
    "KBC = pd.read_csv('KBC.csv')\n",
    "KBC_cat = pd.read_csv('KBC_cat.csv')\n",
    "\n",
    "columns_C = ['n_tuples', 'uniqueness', 'min',\n",
    "       'max', 'mean', 'median', 'std', 'skewness', 'kurtosis', 'mad', 'iqr',\n",
    "       'p_min', 'p_max', 'k_min', 'k_max', 's_min', 's_max', 'entropy',\n",
    "       'density', 'missing_perc']\n",
    "\n",
    "columns_C_cat = ['n_tuples', 'constancy',\n",
    "       'imbalance', 'uniqueness', 'unalikeability', 'entropy', 'density',\n",
    "       'mean_char', 'std_char', 'skewness_char', 'kurtosis_char', 'min_char',\n",
    "       'max_char', 'missing_perc']"
   ],
   "metadata": {
    "collapsed": false
   }
  },
  {
   "cell_type": "code",
   "execution_count": 11,
   "outputs": [],
   "source": [
    "KBC = KBC[columns_C] ### n_neighbors=35\n",
    "KBC_cat = KBC_cat[columns_C_cat] ### n_neighbors=35"
   ],
   "metadata": {
    "collapsed": false
   }
  },
  {
   "cell_type": "code",
   "execution_count": 12,
   "outputs": [],
   "source": [
    "w_df = pd.read_csv('datasets/weather.csv')\n",
    "p_df = pd.read_csv('datasets/pet.csv')\n",
    "c_df = pd.read_csv('datasets/character.csv')\n",
    "\n",
    "con_df = pd.read_csv('datasets/consumer.csv')\n",
    "g_df = pd.read_csv('datasets/galaxy.csv')\n",
    "h_df = pd.read_csv('datasets/heart.csv')"
   ],
   "metadata": {
    "collapsed": false
   }
  },
  {
   "cell_type": "code",
   "execution_count": 50,
   "outputs": [],
   "source": [
    "#df = w_df\n",
    "#df = p_df\n",
    "#df = c_df\n",
    "#df = con_df\n",
    "#df = g_df\n",
    "#df =h_df\n",
    "\n",
    "selected_features = ['Temperature','Precipitation','AtmosphericPressure']\n",
    "selected_features = ['AgeMonths','Vaccinated','Size']\n",
    "selected_features = ['Strength','Intelligence','Weaknesses']\n",
    "selected_features = ['CustomerAge','CustomerSatisfaction','CustomerGender']\n",
    "selected_features = ['eastwest','northsouth','radialposition']\n",
    "selected_features = ['oldpeak','cp','thal']\n",
    "\n",
    "#name_class = 'WeatherType'\n",
    "#name_class = 'AdoptionLikelihood'\n",
    "#name_class = 'BattleOutcome'\n",
    "name_class = 'PurchaseIntent'\n",
    "#name_class = 'class'\n",
    "#name_class = 'disease'"
   ],
   "metadata": {
    "collapsed": false
   }
  },
  {
   "cell_type": "code",
   "execution_count": 51,
   "outputs": [
    {
     "name": "stdout",
     "output_type": "stream",
     "text": [
      "saved dirty dataset 50%\n",
      "saved dirty dataset 60%\n",
      "saved dirty dataset 70%\n",
      "saved dirty dataset 80%\n",
      "saved dirty dataset 90%\n"
     ]
    }
   ],
   "source": [
    "profiles_num = pd.DataFrame([])\n",
    "profiles_cat = pd.DataFrame([])\n",
    "\n",
    "perc_quality = [50, 60, 70, 80, 90]\n",
    "\n",
    "for perc in perc_quality:\n",
    "    df_dirt = injection(df, name_class, perc/100, 10, 1)\n",
    "    for s in selected_features:\n",
    "\n",
    "        if s in num:\n",
    "\n",
    "            test = np.array(numerical.get_features_num(df_dirt, s, perc))\n",
    "            test = pd.DataFrame(test.reshape(-1, len(test)), columns=columns_C)\n",
    "            profiles_num = pd.concat([profiles_num,test[columns_C]])\n",
    "\n",
    "        else:\n",
    "\n",
    "            test = np.array(dp.cat_profile(df_dirt, s, perc))\n",
    "            test = pd.DataFrame(test.reshape(-1, len(test)), columns=columns_C_cat)\n",
    "            profiles_cat = pd.concat([profiles_cat,test[columns_C_cat]])"
   ],
   "metadata": {
    "collapsed": false
   }
  },
  {
   "cell_type": "code",
   "execution_count": 52,
   "outputs": [],
   "source": [
    "### standardization\n",
    "scalerNum = StandardScaler().fit(KBC)\n",
    "KBC = scalerNum.transform(KBC)\n",
    "profiles_num = scalerNum.transform(profiles_num)"
   ],
   "metadata": {
    "collapsed": false
   }
  },
  {
   "cell_type": "code",
   "execution_count": 53,
   "outputs": [],
   "source": [
    "scalerCat = StandardScaler().fit(KBC_cat)\n",
    "KBC_cat = scalerCat.transform(KBC_cat)\n",
    "profiles_cat = scalerCat.transform(profiles_cat)"
   ],
   "metadata": {
    "collapsed": false
   }
  },
  {
   "cell_type": "code",
   "execution_count": 35,
   "outputs": [],
   "source": [],
   "metadata": {
    "collapsed": false
   }
  },
  {
   "cell_type": "code",
   "execution_count": null,
   "outputs": [],
   "source": [],
   "metadata": {
    "collapsed": false
   }
  },
  {
   "cell_type": "code",
   "execution_count": 27,
   "outputs": [],
   "source": [
    "## weather\n",
    "distances = knn(35,KBC, profiles_num)\n",
    "pd.DataFrame(distances[0]).to_csv('distances_w.csv',index=False)"
   ],
   "metadata": {
    "collapsed": false
   }
  },
  {
   "cell_type": "code",
   "execution_count": 27,
   "outputs": [],
   "source": [],
   "metadata": {
    "collapsed": false
   }
  },
  {
   "cell_type": "code",
   "execution_count": null,
   "outputs": [],
   "source": [],
   "metadata": {
    "collapsed": false
   }
  },
  {
   "cell_type": "code",
   "execution_count": 31,
   "outputs": [],
   "source": [
    "## galaxy\n",
    "distances = knn(35,KBC, profiles_num)\n",
    "pd.DataFrame(distances[0]).to_csv('distances_g.csv',index=False)"
   ],
   "metadata": {
    "collapsed": false
   }
  },
  {
   "cell_type": "code",
   "execution_count": null,
   "outputs": [],
   "source": [],
   "metadata": {
    "collapsed": false
   }
  },
  {
   "cell_type": "code",
   "execution_count": null,
   "outputs": [],
   "source": [],
   "metadata": {
    "collapsed": false
   }
  },
  {
   "cell_type": "code",
   "execution_count": 36,
   "outputs": [],
   "source": [
    "# pet\n",
    "distances = knn(35,KBC, profiles_num)\n",
    "pd.DataFrame(distances[0]).to_csv('distances_p_num.csv',index=False)"
   ],
   "metadata": {
    "collapsed": false
   }
  },
  {
   "cell_type": "code",
   "execution_count": 37,
   "outputs": [],
   "source": [
    "KBC_cat = np.nan_to_num(KBC_cat)\n",
    "profiles_cat = np.nan_to_num(profiles_cat)\n",
    "distances = knn(35,KBC_cat, profiles_cat)\n",
    "pd.DataFrame(distances[0]).to_csv('distances_p_cat.csv',index=False)"
   ],
   "metadata": {
    "collapsed": false
   }
  },
  {
   "cell_type": "code",
   "execution_count": null,
   "outputs": [],
   "source": [],
   "metadata": {
    "collapsed": false
   }
  },
  {
   "cell_type": "code",
   "execution_count": null,
   "outputs": [],
   "source": [],
   "metadata": {
    "collapsed": false
   }
  },
  {
   "cell_type": "code",
   "execution_count": 42,
   "outputs": [],
   "source": [
    "# heart\n",
    "distances = knn(35, KBC, profiles_num)\n",
    "pd.DataFrame(distances[0]).to_csv('distances_h_num.csv',index=False)"
   ],
   "metadata": {
    "collapsed": false
   }
  },
  {
   "cell_type": "code",
   "execution_count": 43,
   "outputs": [],
   "source": [
    "KBC_cat = np.nan_to_num(KBC_cat)\n",
    "profiles_cat = np.nan_to_num(profiles_cat)\n",
    "distances = knn(35, KBC_cat, profiles_cat)\n",
    "pd.DataFrame(distances[0]).to_csv('distances_h_cat.csv',index=False)"
   ],
   "metadata": {
    "collapsed": false
   }
  },
  {
   "cell_type": "code",
   "execution_count": null,
   "outputs": [],
   "source": [],
   "metadata": {
    "collapsed": false
   }
  },
  {
   "cell_type": "code",
   "execution_count": null,
   "outputs": [],
   "source": [],
   "metadata": {
    "collapsed": false
   }
  },
  {
   "cell_type": "code",
   "execution_count": 48,
   "outputs": [],
   "source": [
    "# character\n",
    "distances = knn(35, KBC, profiles_num)\n",
    "pd.DataFrame(distances[0]).to_csv('distances_c_num.csv',index=False)"
   ],
   "metadata": {
    "collapsed": false
   }
  },
  {
   "cell_type": "code",
   "execution_count": 49,
   "outputs": [],
   "source": [
    "KBC_cat = np.nan_to_num(KBC_cat)\n",
    "profiles_cat = np.nan_to_num(profiles_cat)\n",
    "distances = knn(35, KBC_cat, profiles_cat)\n",
    "pd.DataFrame(distances[0]).to_csv('distances_c_cat.csv',index=False)"
   ],
   "metadata": {
    "collapsed": false
   }
  },
  {
   "cell_type": "code",
   "execution_count": null,
   "outputs": [],
   "source": [],
   "metadata": {
    "collapsed": false
   }
  },
  {
   "cell_type": "code",
   "execution_count": null,
   "outputs": [],
   "source": [],
   "metadata": {
    "collapsed": false
   }
  },
  {
   "cell_type": "code",
   "execution_count": 54,
   "outputs": [],
   "source": [
    "# consumer\n",
    "distances = knn(35, KBC, profiles_num)\n",
    "pd.DataFrame(distances[0]).to_csv('distances_con_num.csv',index=False)"
   ],
   "metadata": {
    "collapsed": false
   }
  },
  {
   "cell_type": "code",
   "execution_count": 55,
   "outputs": [],
   "source": [
    "KBC_cat = np.nan_to_num(KBC_cat)\n",
    "profiles_cat = np.nan_to_num(profiles_cat)\n",
    "distances = knn(35, KBC_cat, profiles_cat)\n",
    "pd.DataFrame(distances[0]).to_csv('distances_con_cat.csv',index=False)"
   ],
   "metadata": {
    "collapsed": false
   }
  },
  {
   "cell_type": "code",
   "execution_count": 19,
   "outputs": [],
   "source": [],
   "metadata": {
    "collapsed": false
   }
  },
  {
   "cell_type": "code",
   "execution_count": 19,
   "outputs": [],
   "source": [],
   "metadata": {
    "collapsed": false
   }
  },
  {
   "cell_type": "code",
   "execution_count": 19,
   "outputs": [],
   "source": [],
   "metadata": {
    "collapsed": false
   }
  },
  {
   "cell_type": "code",
   "execution_count": 19,
   "outputs": [],
   "source": [],
   "metadata": {
    "collapsed": false
   }
  }
 ],
 "metadata": {
  "kernelspec": {
   "display_name": "Python 3",
   "language": "python",
   "name": "python3"
  },
  "language_info": {
   "codemirror_mode": {
    "name": "ipython",
    "version": 2
   },
   "file_extension": ".py",
   "mimetype": "text/x-python",
   "name": "python",
   "nbconvert_exporter": "python",
   "pygments_lexer": "ipython2",
   "version": "2.7.6"
  }
 },
 "nbformat": 4,
 "nbformat_minor": 0
}
