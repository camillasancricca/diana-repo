{
 "cells": [
  {
   "cell_type": "code",
   "execution_count": 1,
   "outputs": [],
   "source": [
    "import warnings\n",
    "warnings.filterwarnings(\"ignore\")\n",
    "import algorithms_class as alg"
   ],
   "metadata": {
    "collapsed": false
   }
  },
  {
   "cell_type": "code",
   "execution_count": 2,
   "outputs": [
    {
     "data": {
      "text/plain": "         Character   Universe  Strength  Speed  Intelligence SpecialAbilities  \\\n0     Wonder Woman     Marvel         7      8             3      Telekinesis   \n1         Iron Man     Marvel         4      7             9      Telekinesis   \n2         Iron Man  DC Comics         8      7             5      Telekinesis   \n3       Spider-Man  DC Comics         5      6            10      Telekinesis   \n4            Flash     Marvel         7      6             2     Invisibility   \n...            ...        ...       ...    ...           ...              ...   \n2346      Superman  DC Comics         9      8             5   Super Strength   \n2347      Superman  DC Comics         2      5             8   Super Strength   \n2348         Flash  DC Comics         5      3             3      Telekinesis   \n2349        Batman  DC Comics         5     10             6           Flight   \n2350    Spider-Man     Marvel         8      1             5   Super Strength   \n\n        Weaknesses  BattleOutcome  \n0       Kryptonite              0  \n1       Kryptonite              0  \n2            Magic              0  \n3       Kryptonite              0  \n4            Magic              0  \n...            ...            ...  \n2346    Kryptonite              0  \n2347         Magic              1  \n2348  Wooden Stake              0  \n2349  Wooden Stake              1  \n2350         Magic              1  \n\n[2351 rows x 8 columns]",
      "text/html": "<div>\n<style scoped>\n    .dataframe tbody tr th:only-of-type {\n        vertical-align: middle;\n    }\n\n    .dataframe tbody tr th {\n        vertical-align: top;\n    }\n\n    .dataframe thead th {\n        text-align: right;\n    }\n</style>\n<table border=\"1\" class=\"dataframe\">\n  <thead>\n    <tr style=\"text-align: right;\">\n      <th></th>\n      <th>Character</th>\n      <th>Universe</th>\n      <th>Strength</th>\n      <th>Speed</th>\n      <th>Intelligence</th>\n      <th>SpecialAbilities</th>\n      <th>Weaknesses</th>\n      <th>BattleOutcome</th>\n    </tr>\n  </thead>\n  <tbody>\n    <tr>\n      <th>0</th>\n      <td>Wonder Woman</td>\n      <td>Marvel</td>\n      <td>7</td>\n      <td>8</td>\n      <td>3</td>\n      <td>Telekinesis</td>\n      <td>Kryptonite</td>\n      <td>0</td>\n    </tr>\n    <tr>\n      <th>1</th>\n      <td>Iron Man</td>\n      <td>Marvel</td>\n      <td>4</td>\n      <td>7</td>\n      <td>9</td>\n      <td>Telekinesis</td>\n      <td>Kryptonite</td>\n      <td>0</td>\n    </tr>\n    <tr>\n      <th>2</th>\n      <td>Iron Man</td>\n      <td>DC Comics</td>\n      <td>8</td>\n      <td>7</td>\n      <td>5</td>\n      <td>Telekinesis</td>\n      <td>Magic</td>\n      <td>0</td>\n    </tr>\n    <tr>\n      <th>3</th>\n      <td>Spider-Man</td>\n      <td>DC Comics</td>\n      <td>5</td>\n      <td>6</td>\n      <td>10</td>\n      <td>Telekinesis</td>\n      <td>Kryptonite</td>\n      <td>0</td>\n    </tr>\n    <tr>\n      <th>4</th>\n      <td>Flash</td>\n      <td>Marvel</td>\n      <td>7</td>\n      <td>6</td>\n      <td>2</td>\n      <td>Invisibility</td>\n      <td>Magic</td>\n      <td>0</td>\n    </tr>\n    <tr>\n      <th>...</th>\n      <td>...</td>\n      <td>...</td>\n      <td>...</td>\n      <td>...</td>\n      <td>...</td>\n      <td>...</td>\n      <td>...</td>\n      <td>...</td>\n    </tr>\n    <tr>\n      <th>2346</th>\n      <td>Superman</td>\n      <td>DC Comics</td>\n      <td>9</td>\n      <td>8</td>\n      <td>5</td>\n      <td>Super Strength</td>\n      <td>Kryptonite</td>\n      <td>0</td>\n    </tr>\n    <tr>\n      <th>2347</th>\n      <td>Superman</td>\n      <td>DC Comics</td>\n      <td>2</td>\n      <td>5</td>\n      <td>8</td>\n      <td>Super Strength</td>\n      <td>Magic</td>\n      <td>1</td>\n    </tr>\n    <tr>\n      <th>2348</th>\n      <td>Flash</td>\n      <td>DC Comics</td>\n      <td>5</td>\n      <td>3</td>\n      <td>3</td>\n      <td>Telekinesis</td>\n      <td>Wooden Stake</td>\n      <td>0</td>\n    </tr>\n    <tr>\n      <th>2349</th>\n      <td>Batman</td>\n      <td>DC Comics</td>\n      <td>5</td>\n      <td>10</td>\n      <td>6</td>\n      <td>Flight</td>\n      <td>Wooden Stake</td>\n      <td>1</td>\n    </tr>\n    <tr>\n      <th>2350</th>\n      <td>Spider-Man</td>\n      <td>Marvel</td>\n      <td>8</td>\n      <td>1</td>\n      <td>5</td>\n      <td>Super Strength</td>\n      <td>Magic</td>\n      <td>1</td>\n    </tr>\n  </tbody>\n</table>\n<p>2351 rows × 8 columns</p>\n</div>"
     },
     "execution_count": 2,
     "metadata": {},
     "output_type": "execute_result"
    }
   ],
   "source": [
    "import pandas as pd\n",
    "\n",
    "df = pd.read_csv(\"character.csv\")\n",
    "df"
   ],
   "metadata": {
    "collapsed": false
   }
  },
  {
   "cell_type": "code",
   "execution_count": 3,
   "outputs": [
    {
     "data": {
      "text/plain": "Index(['Character', 'Universe', 'Strength', 'Speed', 'Intelligence',\n       'SpecialAbilities', 'Weaknesses', 'BattleOutcome'],\n      dtype='object')"
     },
     "execution_count": 3,
     "metadata": {},
     "output_type": "execute_result"
    }
   ],
   "source": [
    "df.columns"
   ],
   "metadata": {
    "collapsed": false
   }
  },
  {
   "cell_type": "code",
   "execution_count": 4,
   "outputs": [
    {
     "data": {
      "text/plain": "         Character   Universe  Strength  Speed  Intelligence SpecialAbilities  \\\n0     Wonder Woman     Marvel         7      8             3      Telekinesis   \n1         Iron Man     Marvel         4      7             9      Telekinesis   \n2         Iron Man  DC Comics         8      7             5      Telekinesis   \n3       Spider-Man  DC Comics         5      6            10      Telekinesis   \n4            Flash     Marvel         7      6             2     Invisibility   \n...            ...        ...       ...    ...           ...              ...   \n2346      Superman  DC Comics         9      8             5   Super Strength   \n2347      Superman  DC Comics         2      5             8   Super Strength   \n2348         Flash  DC Comics         5      3             3      Telekinesis   \n2349        Batman  DC Comics         5     10             6           Flight   \n2350    Spider-Man     Marvel         8      1             5   Super Strength   \n\n        Weaknesses  BattleOutcome  \n0       Kryptonite              0  \n1       Kryptonite              0  \n2            Magic              0  \n3       Kryptonite              0  \n4            Magic              0  \n...            ...            ...  \n2346    Kryptonite              0  \n2347         Magic              1  \n2348  Wooden Stake              0  \n2349  Wooden Stake              1  \n2350         Magic              1  \n\n[2351 rows x 8 columns]",
      "text/html": "<div>\n<style scoped>\n    .dataframe tbody tr th:only-of-type {\n        vertical-align: middle;\n    }\n\n    .dataframe tbody tr th {\n        vertical-align: top;\n    }\n\n    .dataframe thead th {\n        text-align: right;\n    }\n</style>\n<table border=\"1\" class=\"dataframe\">\n  <thead>\n    <tr style=\"text-align: right;\">\n      <th></th>\n      <th>Character</th>\n      <th>Universe</th>\n      <th>Strength</th>\n      <th>Speed</th>\n      <th>Intelligence</th>\n      <th>SpecialAbilities</th>\n      <th>Weaknesses</th>\n      <th>BattleOutcome</th>\n    </tr>\n  </thead>\n  <tbody>\n    <tr>\n      <th>0</th>\n      <td>Wonder Woman</td>\n      <td>Marvel</td>\n      <td>7</td>\n      <td>8</td>\n      <td>3</td>\n      <td>Telekinesis</td>\n      <td>Kryptonite</td>\n      <td>0</td>\n    </tr>\n    <tr>\n      <th>1</th>\n      <td>Iron Man</td>\n      <td>Marvel</td>\n      <td>4</td>\n      <td>7</td>\n      <td>9</td>\n      <td>Telekinesis</td>\n      <td>Kryptonite</td>\n      <td>0</td>\n    </tr>\n    <tr>\n      <th>2</th>\n      <td>Iron Man</td>\n      <td>DC Comics</td>\n      <td>8</td>\n      <td>7</td>\n      <td>5</td>\n      <td>Telekinesis</td>\n      <td>Magic</td>\n      <td>0</td>\n    </tr>\n    <tr>\n      <th>3</th>\n      <td>Spider-Man</td>\n      <td>DC Comics</td>\n      <td>5</td>\n      <td>6</td>\n      <td>10</td>\n      <td>Telekinesis</td>\n      <td>Kryptonite</td>\n      <td>0</td>\n    </tr>\n    <tr>\n      <th>4</th>\n      <td>Flash</td>\n      <td>Marvel</td>\n      <td>7</td>\n      <td>6</td>\n      <td>2</td>\n      <td>Invisibility</td>\n      <td>Magic</td>\n      <td>0</td>\n    </tr>\n    <tr>\n      <th>...</th>\n      <td>...</td>\n      <td>...</td>\n      <td>...</td>\n      <td>...</td>\n      <td>...</td>\n      <td>...</td>\n      <td>...</td>\n      <td>...</td>\n    </tr>\n    <tr>\n      <th>2346</th>\n      <td>Superman</td>\n      <td>DC Comics</td>\n      <td>9</td>\n      <td>8</td>\n      <td>5</td>\n      <td>Super Strength</td>\n      <td>Kryptonite</td>\n      <td>0</td>\n    </tr>\n    <tr>\n      <th>2347</th>\n      <td>Superman</td>\n      <td>DC Comics</td>\n      <td>2</td>\n      <td>5</td>\n      <td>8</td>\n      <td>Super Strength</td>\n      <td>Magic</td>\n      <td>1</td>\n    </tr>\n    <tr>\n      <th>2348</th>\n      <td>Flash</td>\n      <td>DC Comics</td>\n      <td>5</td>\n      <td>3</td>\n      <td>3</td>\n      <td>Telekinesis</td>\n      <td>Wooden Stake</td>\n      <td>0</td>\n    </tr>\n    <tr>\n      <th>2349</th>\n      <td>Batman</td>\n      <td>DC Comics</td>\n      <td>5</td>\n      <td>10</td>\n      <td>6</td>\n      <td>Flight</td>\n      <td>Wooden Stake</td>\n      <td>1</td>\n    </tr>\n    <tr>\n      <th>2350</th>\n      <td>Spider-Man</td>\n      <td>Marvel</td>\n      <td>8</td>\n      <td>1</td>\n      <td>5</td>\n      <td>Super Strength</td>\n      <td>Magic</td>\n      <td>1</td>\n    </tr>\n  </tbody>\n</table>\n<p>2351 rows × 8 columns</p>\n</div>"
     },
     "execution_count": 4,
     "metadata": {},
     "output_type": "execute_result"
    }
   ],
   "source": [
    "df"
   ],
   "metadata": {
    "collapsed": false
   }
  },
  {
   "cell_type": "code",
   "execution_count": 5,
   "outputs": [
    {
     "data": {
      "text/plain": "array([[7, 3, 1],\n       [4, 9, 1],\n       [8, 5, 0],\n       ...,\n       [5, 3, 0],\n       [5, 6, 0],\n       [8, 5, 0]])"
     },
     "execution_count": 5,
     "metadata": {},
     "output_type": "execute_result"
    }
   ],
   "source": [
    "target = 'BattleOutcome'\n",
    "features = ['Character', 'Universe', 'Strength', 'Speed', 'Intelligence',\n",
    "       'SpecialAbilities', 'Weaknesses']\n",
    "X = df[features]\n",
    "y = df[target]\n",
    "X_encoded = alg.encoding_categorical_variables(X)\n",
    "from sklearn.feature_selection import SelectKBest\n",
    "from sklearn.feature_selection import f_classif, mutual_info_classif, chi2\n",
    "\n",
    "X_new = SelectKBest(mutual_info_classif, k=3).fit_transform(X_encoded, y)\n",
    "X_new"
   ],
   "metadata": {
    "collapsed": false
   }
  },
  {
   "cell_type": "code",
   "execution_count": 30,
   "outputs": [],
   "source": [
    "selected_features = ['Strength','Intelligence','Weaknesses']"
   ],
   "metadata": {
    "collapsed": false
   }
  },
  {
   "cell_type": "code",
   "execution_count": 31,
   "outputs": [
    {
     "data": {
      "text/plain": "      Strength  Intelligence    Weaknesses\n0            7             3    Kryptonite\n1            4             9    Kryptonite\n2            8             5         Magic\n3            5            10    Kryptonite\n4            7             2         Magic\n...        ...           ...           ...\n2346         9             5    Kryptonite\n2347         2             8         Magic\n2348         5             3  Wooden Stake\n2349         5             6  Wooden Stake\n2350         8             5         Magic\n\n[2351 rows x 3 columns]",
      "text/html": "<div>\n<style scoped>\n    .dataframe tbody tr th:only-of-type {\n        vertical-align: middle;\n    }\n\n    .dataframe tbody tr th {\n        vertical-align: top;\n    }\n\n    .dataframe thead th {\n        text-align: right;\n    }\n</style>\n<table border=\"1\" class=\"dataframe\">\n  <thead>\n    <tr style=\"text-align: right;\">\n      <th></th>\n      <th>Strength</th>\n      <th>Intelligence</th>\n      <th>Weaknesses</th>\n    </tr>\n  </thead>\n  <tbody>\n    <tr>\n      <th>0</th>\n      <td>7</td>\n      <td>3</td>\n      <td>Kryptonite</td>\n    </tr>\n    <tr>\n      <th>1</th>\n      <td>4</td>\n      <td>9</td>\n      <td>Kryptonite</td>\n    </tr>\n    <tr>\n      <th>2</th>\n      <td>8</td>\n      <td>5</td>\n      <td>Magic</td>\n    </tr>\n    <tr>\n      <th>3</th>\n      <td>5</td>\n      <td>10</td>\n      <td>Kryptonite</td>\n    </tr>\n    <tr>\n      <th>4</th>\n      <td>7</td>\n      <td>2</td>\n      <td>Magic</td>\n    </tr>\n    <tr>\n      <th>...</th>\n      <td>...</td>\n      <td>...</td>\n      <td>...</td>\n    </tr>\n    <tr>\n      <th>2346</th>\n      <td>9</td>\n      <td>5</td>\n      <td>Kryptonite</td>\n    </tr>\n    <tr>\n      <th>2347</th>\n      <td>2</td>\n      <td>8</td>\n      <td>Magic</td>\n    </tr>\n    <tr>\n      <th>2348</th>\n      <td>5</td>\n      <td>3</td>\n      <td>Wooden Stake</td>\n    </tr>\n    <tr>\n      <th>2349</th>\n      <td>5</td>\n      <td>6</td>\n      <td>Wooden Stake</td>\n    </tr>\n    <tr>\n      <th>2350</th>\n      <td>8</td>\n      <td>5</td>\n      <td>Magic</td>\n    </tr>\n  </tbody>\n</table>\n<p>2351 rows × 3 columns</p>\n</div>"
     },
     "execution_count": 31,
     "metadata": {},
     "output_type": "execute_result"
    }
   ],
   "source": [
    "df[selected_features]"
   ],
   "metadata": {
    "collapsed": false
   }
  },
  {
   "cell_type": "code",
   "execution_count": 32,
   "outputs": [],
   "source": [
    "classifiers = ['DecisionTree','LogisticRegression','KNN','RandomForest','AdaBoost','SVC']"
   ],
   "metadata": {
    "collapsed": false
   }
  },
  {
   "cell_type": "markdown",
   "source": [
    "TUNING"
   ],
   "metadata": {
    "collapsed": false
   }
  },
  {
   "cell_type": "code",
   "execution_count": 33,
   "outputs": [],
   "source": [
    "import numpy as np"
   ],
   "metadata": {
    "collapsed": false
   }
  },
  {
   "cell_type": "code",
   "execution_count": 62,
   "outputs": [
    {
     "name": "stdout",
     "output_type": "stream",
     "text": [
      "Training for DecisionTree...\n",
      "0.7195615329335309\n",
      "Training for DecisionTree...\n",
      "0.7217623174150514\n",
      "Training for DecisionTree...\n",
      "0.728120842756717\n",
      "Training for DecisionTree...\n",
      "0.7345000369437894\n",
      "Training for DecisionTree...\n",
      "0.728834835560797\n",
      "Training for DecisionTree...\n",
      "0.7266688597999558\n",
      "Training for DecisionTree...\n",
      "0.7254916697308404\n",
      "Training for DecisionTree...\n",
      "0.7301713901305553\n"
     ]
    },
    {
     "data": {
      "text/plain": "np.float64(0.7273948512783364)"
     },
     "execution_count": 62,
     "metadata": {},
     "output_type": "execute_result"
    }
   ],
   "source": [
    "classifier = 'DecisionTree'\n",
    "param = 110\n",
    "perf_mean = []\n",
    "for i in range(0,8):\n",
    "    perf_mean.append(alg.classification(X[selected_features], y, classifier, param, 8))\n",
    "np.median(perf_mean)"
   ],
   "metadata": {
    "collapsed": false
   }
  },
  {
   "cell_type": "code",
   "execution_count": 63,
   "outputs": [
    {
     "name": "stdout",
     "output_type": "stream",
     "text": [
      "Training for LogisticRegression...\n",
      "0.7621560726962129\n",
      "Training for LogisticRegression...\n",
      "0.7678108899190084\n",
      "Training for LogisticRegression...\n",
      "0.7572144911667202\n",
      "Training for LogisticRegression...\n",
      "0.756463537629597\n",
      "Training for LogisticRegression...\n",
      "0.7733390676816101\n",
      "Training for LogisticRegression...\n",
      "0.7629094756119479\n",
      "Training for LogisticRegression...\n",
      "0.7534251860652299\n",
      "Training for LogisticRegression...\n",
      "0.7620184340394689\n"
     ]
    },
    {
     "data": {
      "text/plain": "np.float64(0.7620872533678409)"
     },
     "execution_count": 63,
     "metadata": {},
     "output_type": "execute_result"
    }
   ],
   "source": [
    "classifier = 'LogisticRegression'\n",
    "param = 1\n",
    "perf_mean = []\n",
    "for i in range(0,8):\n",
    "    perf_mean.append(alg.classification(X[selected_features], y, classifier, param, 8))\n",
    "np.median(perf_mean)"
   ],
   "metadata": {
    "collapsed": false
   }
  },
  {
   "cell_type": "code",
   "execution_count": 68,
   "outputs": [
    {
     "name": "stdout",
     "output_type": "stream",
     "text": [
      "Training for KNN...\n",
      "0.7301888371057048\n",
      "Training for KNN...\n",
      "0.7447836433569757\n",
      "Training for KNN...\n",
      "0.7395551116821735\n",
      "Training for KNN...\n",
      "0.7547358643258286\n",
      "Training for KNN...\n",
      "0.7311431742253955\n",
      "Training for KNN...\n",
      "0.7431632934823739\n",
      "Training for KNN...\n",
      "0.7448028004185456\n",
      "Training for KNN...\n",
      "0.7393647425858688\n"
     ]
    },
    {
     "data": {
      "text/plain": "np.float64(0.7413592025822737)"
     },
     "execution_count": 68,
     "metadata": {},
     "output_type": "execute_result"
    }
   ],
   "source": [
    "classifier = 'KNN'\n",
    "param = 14\n",
    "perf_mean = []\n",
    "for i in range(0,8):\n",
    "    perf_mean.append(alg.classification(X[selected_features], y, classifier, param, 8))\n",
    "np.median(perf_mean)"
   ],
   "metadata": {
    "collapsed": false
   }
  },
  {
   "cell_type": "code",
   "execution_count": 78,
   "outputs": [
    {
     "name": "stdout",
     "output_type": "stream",
     "text": [
      "Training for RandomForest...\n",
      "0.7241341354372692\n",
      "Training for RandomForest...\n",
      "0.7235146889787472\n",
      "Training for RandomForest...\n",
      "0.7185328328298229\n",
      "Training for RandomForest...\n",
      "0.7273353291725961\n",
      "Training for RandomForest...\n",
      "0.7231236710753891\n",
      "Training for RandomForest...\n",
      "0.7153171793567903\n",
      "Training for RandomForest...\n",
      "0.721640212538986\n",
      "Training for RandomForest...\n",
      "0.7301173085911199\n"
     ]
    },
    {
     "data": {
      "text/plain": "np.float64(0.7233191800270682)"
     },
     "execution_count": 78,
     "metadata": {},
     "output_type": "execute_result"
    }
   ],
   "source": [
    "classifier = 'RandomForest'\n",
    "param = 150\n",
    "perf_mean = []\n",
    "for i in range(0,8):\n",
    "    perf_mean.append(alg.classification(X[selected_features], y, classifier, param, 8))\n",
    "np.median(perf_mean)"
   ],
   "metadata": {
    "collapsed": false
   }
  },
  {
   "cell_type": "code",
   "execution_count": 85,
   "outputs": [
    {
     "name": "stdout",
     "output_type": "stream",
     "text": [
      "Training for AdaBoost...\n",
      "0.7543860983040752\n",
      "Training for AdaBoost...\n",
      "0.7574443779658977\n",
      "Training for AdaBoost...\n",
      "0.7582640286350497\n",
      "Training for AdaBoost...\n",
      "0.7620385680668653\n",
      "Training for AdaBoost...\n",
      "0.7623822941195435\n",
      "Training for AdaBoost...\n",
      "0.756097632880298\n",
      "Training for AdaBoost...\n",
      "0.7658759726898989\n",
      "Training for AdaBoost...\n",
      "0.7637866368246338\n"
     ]
    },
    {
     "data": {
      "text/plain": "np.float64(0.7601512983509575)"
     },
     "execution_count": 85,
     "metadata": {},
     "output_type": "execute_result"
    }
   ],
   "source": [
    "classifier = 'AdaBoost'\n",
    "param = 110\n",
    "perf_mean = []\n",
    "for i in range(0,8):\n",
    "    perf_mean.append(alg.classification(X[selected_features], y, classifier, param, 8))\n",
    "np.median(perf_mean)"
   ],
   "metadata": {
    "collapsed": false
   }
  },
  {
   "cell_type": "code",
   "execution_count": 86,
   "outputs": [
    {
     "name": "stdout",
     "output_type": "stream",
     "text": [
      "Training for SVC...\n",
      "0.7137075391436274\n",
      "Training for SVC...\n",
      "0.7193154123799879\n",
      "Training for SVC...\n",
      "0.7141917360595671\n",
      "Training for SVC...\n",
      "0.7309354871011597\n",
      "Training for SVC...\n",
      "0.7060318788853752\n",
      "Training for SVC...\n",
      "0.7102741330866951\n",
      "Training for SVC...\n",
      "0.7329339788566213\n",
      "Training for SVC...\n",
      "0.7189041730300658\n"
     ]
    },
    {
     "data": {
      "text/plain": "np.float64(0.7165479545448165)"
     },
     "execution_count": 86,
     "metadata": {},
     "output_type": "execute_result"
    }
   ],
   "source": [
    "classifier = 'SVC'\n",
    "param = 1\n",
    "perf_mean = []\n",
    "for i in range(0,8):\n",
    "    perf_mean.append(alg.classification(X[selected_features], y, classifier, param, 8))\n",
    "np.median(perf_mean)"
   ],
   "metadata": {
    "collapsed": false
   }
  },
  {
   "cell_type": "code",
   "execution_count": null,
   "outputs": [],
   "source": [],
   "metadata": {
    "collapsed": false
   }
  }
 ],
 "metadata": {
  "kernelspec": {
   "display_name": "Python 3",
   "language": "python",
   "name": "python3"
  },
  "language_info": {
   "codemirror_mode": {
    "name": "ipython",
    "version": 2
   },
   "file_extension": ".py",
   "mimetype": "text/x-python",
   "name": "python",
   "nbconvert_exporter": "python",
   "pygments_lexer": "ipython2",
   "version": "2.7.6"
  }
 },
 "nbformat": 4,
 "nbformat_minor": 0
}
