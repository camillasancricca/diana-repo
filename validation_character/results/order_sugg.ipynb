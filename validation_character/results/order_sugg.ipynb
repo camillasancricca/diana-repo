{
 "cells": [
  {
   "cell_type": "code",
   "execution_count": 5,
   "metadata": {
    "collapsed": true
   },
   "outputs": [],
   "source": [
    "import pandas as pd"
   ]
  },
  {
   "cell_type": "code",
   "execution_count": 6,
   "outputs": [],
   "source": [
    "schedule_sugg = pd.read_csv('schedule/compiled_schedule_suggested.csv')"
   ],
   "metadata": {
    "collapsed": false
   }
  },
  {
   "cell_type": "code",
   "execution_count": 7,
   "outputs": [
    {
     "name": "stdout",
     "output_type": "stream",
     "text": [
      "-----Order for SVC-----\n",
      "imp_col_1\n",
      "Strength        2\n",
      "Weaknesses      2\n",
      "Intelligence    1\n",
      "Name: count, dtype: int64\n",
      "imp_col_2\n",
      "Strength        3\n",
      "Intelligence    1\n",
      "Weaknesses      1\n",
      "Name: count, dtype: int64\n",
      "imp_col_3\n",
      "Intelligence    3\n",
      "Weaknesses      2\n",
      "Name: count, dtype: int64\n"
     ]
    }
   ],
   "source": [
    "for a in ['SVC']:\n",
    "    print('-----'+'Order for '+a+'-----')\n",
    "    schedule = schedule_sugg[schedule_sugg.algorithm == a].sort_values(by=['perf_2'], ascending=False).copy()\n",
    "    print(schedule[0:5].imp_col_1.value_counts())\n",
    "    print(schedule[0:5].imp_col_2.value_counts())\n",
    "    print(schedule[0:5].imp_col_3.value_counts())"
   ],
   "metadata": {
    "collapsed": false
   }
  },
  {
   "cell_type": "code",
   "execution_count": 4,
   "outputs": [],
   "source": [
    "### Prevale SVC: Strength = Weaknesses, Strength, Intelligence\n",
    "\n",
    "##sono comunque così variabili!"
   ],
   "metadata": {
    "collapsed": false
   }
  },
  {
   "cell_type": "code",
   "execution_count": null,
   "outputs": [],
   "source": [],
   "metadata": {
    "collapsed": false
   }
  }
 ],
 "metadata": {
  "kernelspec": {
   "display_name": "Python 3",
   "language": "python",
   "name": "python3"
  },
  "language_info": {
   "codemirror_mode": {
    "name": "ipython",
    "version": 2
   },
   "file_extension": ".py",
   "mimetype": "text/x-python",
   "name": "python",
   "nbconvert_exporter": "python",
   "pygments_lexer": "ipython2",
   "version": "2.7.6"
  }
 },
 "nbformat": 4,
 "nbformat_minor": 0
}
