{
 "cells": [
  {
   "cell_type": "code",
   "execution_count": 1,
   "outputs": [],
   "source": [
    "### prova con i sample per i grafi\n",
    "### partiamo da circa 0.72 come performance dirty per 70% di qualità"
   ],
   "metadata": {
    "collapsed": false
   }
  },
  {
   "cell_type": "code",
   "execution_count": 2,
   "outputs": [],
   "source": [
    "import dirty_data as d\n",
    "import algorithms_class as a\n",
    "import pandas as pd\n",
    "\n",
    "df = pd.read_csv(\"../dataset/weather.csv\")\n",
    "name_class = 'WeatherType'\n",
    "selected_features_only = ['Temperature', 'Precipitation', 'AtmosphericPressure']\n",
    "selected_features = ['Temperature', 'Precipitation', 'AtmosphericPressure','WeatherType']\n",
    "df = df[selected_features]\n",
    "\n",
    "param = {\n",
    "    'DecisionTree': 160,\n",
    "    'LogisticRegression': 1,\n",
    "    'KNN': 15,\n",
    "    'RandomForest': 20,\n",
    "    'AdaBoost': 40,\n",
    "    'SVC': 1\n",
    "}\n"
   ],
   "metadata": {
    "collapsed": false
   }
  },
  {
   "cell_type": "code",
   "execution_count": 3,
   "outputs": [
    {
     "name": "stdout",
     "output_type": "stream",
     "text": [
      "--- 13200 number of samples ---\n",
      "saved dirty dataset 70%\n",
      "Training for DecisionTree...\n",
      "0.7113929431110011\n",
      "\n",
      "\n",
      "--- 6600 number of samples ---\n",
      "saved dirty dataset 70%\n",
      "Training for DecisionTree...\n",
      "0.712228092567461\n",
      "\n",
      "\n",
      "--- 3960 number of samples ---\n",
      "saved dirty dataset 70%\n",
      "Training for DecisionTree...\n",
      "0.6976867507424532\n",
      "\n",
      "\n",
      "--- 2640 number of samples ---\n",
      "saved dirty dataset 70%\n",
      "Training for DecisionTree...\n",
      "0.6878443180633034\n",
      "\n",
      "\n",
      "--- 1320 number of samples ---\n",
      "saved dirty dataset 70%\n",
      "Training for DecisionTree...\n",
      "0.6475472707571986\n",
      "\n",
      "\n",
      "--- 660 number of samples ---\n",
      "saved dirty dataset 70%\n",
      "Training for DecisionTree...\n",
      "0.6108887529754827\n",
      "\n",
      "\n",
      "--- 132 number of samples ---\n",
      "saved dirty dataset 70%\n",
      "Training for DecisionTree...\n",
      "0.4894436122274997\n",
      "\n",
      "\n"
     ]
    }
   ],
   "source": [
    "m = 'DecisionTree'\n",
    "\n",
    "for p in [1,0.5,0.3,0.2,0.1,0.05,0.01]:\n",
    "    s = int(len(df)*p)\n",
    "    print('--- '+str(s)+' number of samples ---')\n",
    "    df_sample = df.sample(n=s).copy()\n",
    "    df_dirt = d.injection(df_sample, name_class, 0.7, 10, 1)\n",
    "    a.classification(df_dirt[selected_features_only], df_dirt[name_class], m, param[m], 4)\n",
    "    print(\"\\n\")"
   ],
   "metadata": {
    "collapsed": false
   }
  },
  {
   "cell_type": "code",
   "execution_count": 3,
   "outputs": [
    {
     "name": "stdout",
     "output_type": "stream",
     "text": [
      "--- 13200 number of samples ---\n",
      "saved dirty dataset 70%\n",
      "Training for RandomForest...\n",
      "0.7420618551354534\n",
      "\n",
      "\n",
      "--- 6600 number of samples ---\n",
      "saved dirty dataset 70%\n",
      "Training for RandomForest...\n",
      "0.7294237116323022\n",
      "\n",
      "\n",
      "--- 3960 number of samples ---\n",
      "saved dirty dataset 70%\n",
      "Training for RandomForest...\n",
      "0.7335683310103114\n",
      "\n",
      "\n",
      "--- 2640 number of samples ---\n",
      "saved dirty dataset 70%\n",
      "Training for RandomForest...\n",
      "0.7310744765754105\n",
      "\n",
      "\n",
      "--- 1320 number of samples ---\n",
      "saved dirty dataset 70%\n",
      "Training for RandomForest...\n",
      "0.7180195574573175\n",
      "\n",
      "\n",
      "--- 660 number of samples ---\n",
      "saved dirty dataset 70%\n",
      "Training for RandomForest...\n",
      "0.6945959399229524\n",
      "\n",
      "\n",
      "--- 132 number of samples ---\n",
      "saved dirty dataset 70%\n",
      "Training for RandomForest...\n",
      "0.6272408134306354\n",
      "\n",
      "\n"
     ]
    }
   ],
   "source": [
    "m = 'RandomForest'\n",
    "\n",
    "for p in [1,0.5,0.3,0.2,0.1,0.05,0.01]:\n",
    "    s = int(len(df)*p)\n",
    "    print('--- '+str(s)+' number of samples ---')\n",
    "    df_sample = df.sample(n=s).copy()\n",
    "    df_dirt = d.injection(df_sample, name_class, 0.7, 10, 1)\n",
    "    a.classification(df_dirt[selected_features_only], df_dirt[name_class], m, param[m], 4)\n",
    "    print(\"\\n\")\n"
   ],
   "metadata": {
    "collapsed": false
   }
  },
  {
   "cell_type": "code",
   "execution_count": 4,
   "outputs": [
    {
     "name": "stdout",
     "output_type": "stream",
     "text": [
      "--- 13200 number of samples ---\n",
      "saved dirty dataset 70%\n",
      "Training for AdaBoost...\n",
      "0.735333173422061\n",
      "\n",
      "\n",
      "--- 6600 number of samples ---\n",
      "saved dirty dataset 70%\n",
      "Training for AdaBoost...\n",
      "0.7244936277999517\n",
      "\n",
      "\n",
      "--- 3960 number of samples ---\n",
      "saved dirty dataset 70%\n",
      "Training for AdaBoost...\n",
      "0.7254587755172738\n",
      "\n",
      "\n",
      "--- 2640 number of samples ---\n",
      "saved dirty dataset 70%\n",
      "Training for AdaBoost...\n",
      "0.7045503025781839\n",
      "\n",
      "\n",
      "--- 1320 number of samples ---\n",
      "saved dirty dataset 70%\n",
      "Training for AdaBoost...\n",
      "0.6568563798868383\n",
      "\n",
      "\n",
      "--- 660 number of samples ---\n",
      "saved dirty dataset 70%\n",
      "Training for AdaBoost...\n",
      "0.6188844779460378\n",
      "\n",
      "\n",
      "--- 132 number of samples ---\n",
      "saved dirty dataset 70%\n",
      "Training for AdaBoost...\n",
      "0.5977593048713739\n",
      "\n",
      "\n"
     ]
    }
   ],
   "source": [
    "m = 'AdaBoost'\n",
    "\n",
    "for p in [1,0.5,0.3,0.2,0.1,0.05,0.01]:\n",
    "    s = int(len(df)*p)\n",
    "    print('--- '+str(s)+' number of samples ---')\n",
    "    df_sample = df.sample(n=s).copy()\n",
    "    df_dirt = d.injection(df_sample, name_class, 0.7, 10, 1)\n",
    "    a.classification(df_dirt[selected_features_only], df_dirt[name_class], m, param[m], 4)\n",
    "    print(\"\\n\")\n"
   ],
   "metadata": {
    "collapsed": false
   }
  },
  {
   "cell_type": "code",
   "execution_count": null,
   "outputs": [],
   "source": [
    "### comincio a scendere\n",
    "### DT: da 2500 sample in già\n",
    "### RF: da 1000 sample in già\n",
    "### ADA: da 2500 sample in già"
   ],
   "metadata": {
    "collapsed": false
   }
  },
  {
   "cell_type": "code",
   "execution_count": 4,
   "outputs": [],
   "source": [
    "### è la dimensionalità che compensa in questo caso!\n",
    "### il prossimo dataset deve essere a bassa dimensionalità...\n"
   ],
   "metadata": {
    "collapsed": false
   }
  },
  {
   "cell_type": "code",
   "execution_count": null,
   "outputs": [],
   "source": [],
   "metadata": {
    "collapsed": false
   }
  },
  {
   "cell_type": "code",
   "execution_count": null,
   "outputs": [],
   "source": [],
   "metadata": {
    "collapsed": false
   }
  },
  {
   "cell_type": "code",
   "execution_count": 11,
   "outputs": [
    {
     "name": "stdout",
     "output_type": "stream",
     "text": [
      "--- 0.7 quality ---\n",
      "saved dirty dataset 70%\n",
      "Training for DecisionTree...\n",
      "0.7090192781846729\n",
      "\n",
      "\n",
      "--- 0.65 quality ---\n",
      "saved dirty dataset 65%\n",
      "Training for DecisionTree...\n",
      "0.6802968487642471\n",
      "\n",
      "\n",
      "--- 0.6 quality ---\n",
      "saved dirty dataset 60%\n",
      "Training for DecisionTree...\n",
      "0.6560851018234432\n",
      "\n",
      "\n",
      "--- 0.55 quality ---\n",
      "saved dirty dataset 55%\n",
      "Training for DecisionTree...\n",
      "0.6247954589319559\n",
      "\n",
      "\n",
      "--- 0.5 quality ---\n",
      "saved dirty dataset 50%\n",
      "Training for DecisionTree...\n",
      "0.6048991222373634\n",
      "\n",
      "\n",
      "--- 0.7 quality ---\n",
      "saved dirty dataset 70%\n",
      "Training for RandomForest...\n",
      "0.7353235986090311\n",
      "\n",
      "\n",
      "--- 0.65 quality ---\n",
      "saved dirty dataset 65%\n",
      "Training for RandomForest...\n",
      "0.7121475321865403\n",
      "\n",
      "\n",
      "--- 0.6 quality ---\n",
      "saved dirty dataset 60%\n",
      "Training for RandomForest...\n",
      "0.6903008242973324\n",
      "\n",
      "\n",
      "--- 0.55 quality ---\n",
      "saved dirty dataset 55%\n",
      "Training for RandomForest...\n",
      "0.6606061975533484\n",
      "\n",
      "\n",
      "--- 0.5 quality ---\n",
      "saved dirty dataset 50%\n",
      "Training for RandomForest...\n",
      "0.6301208239576581\n",
      "\n",
      "\n",
      "--- 0.7 quality ---\n",
      "saved dirty dataset 70%\n",
      "Training for AdaBoost...\n",
      "0.7418125146400336\n",
      "\n",
      "\n",
      "--- 0.65 quality ---\n",
      "saved dirty dataset 65%\n",
      "Training for AdaBoost...\n",
      "0.7089921027332369\n",
      "\n",
      "\n",
      "--- 0.6 quality ---\n",
      "saved dirty dataset 60%\n",
      "Training for AdaBoost...\n",
      "0.6753676056073041\n",
      "\n",
      "\n",
      "--- 0.55 quality ---\n",
      "saved dirty dataset 55%\n",
      "Training for AdaBoost...\n",
      "0.6596757382125245\n",
      "\n",
      "\n",
      "--- 0.5 quality ---\n",
      "saved dirty dataset 50%\n",
      "Training for AdaBoost...\n",
      "0.6127606666644938\n",
      "\n",
      "\n"
     ]
    }
   ],
   "source": [
    "m = 'DecisionTree'\n",
    "\n",
    "for p in [0.7,0.65,0.6,0.55,0.5]:\n",
    "    print('--- ' + str(p) + ' quality ---')\n",
    "    df_dirt = d.injection(df, name_class, p, 10, 1)\n",
    "    a.classification(df_dirt[selected_features_only], df_dirt[name_class], m, param[m], 4)\n",
    "    print(\"\\n\")\n",
    "\n",
    "m = 'RandomForest'\n",
    "\n",
    "for p in [0.7,0.65,0.6,0.55,0.5]:\n",
    "    print('--- ' + str(p) + ' quality ---')\n",
    "    df_dirt = d.injection(df, name_class, p, 10, 1)\n",
    "    a.classification(df_dirt[selected_features_only], df_dirt[name_class], m, param[m], 4)\n",
    "    print(\"\\n\")\n",
    "\n",
    "m = 'AdaBoost'\n",
    "\n",
    "for p in [0.7,0.65,0.6,0.55,0.5]:\n",
    "    print('--- ' + str(p) + ' quality ---')\n",
    "    df_dirt = d.injection(df, name_class, p, 10, 1)\n",
    "    a.classification(df_dirt[selected_features_only], df_dirt[name_class], m, param[m], 4)\n",
    "    print(\"\\n\")\n"
   ],
   "metadata": {
    "collapsed": false
   }
  },
  {
   "cell_type": "code",
   "execution_count": null,
   "outputs": [],
   "source": [
    "### oppure sporcando con una percentuale di qualità più alta\n",
    "\n",
    "### DT scende subito dopo lo 0.7\n",
    "### RF scende dopo 0.6\n",
    "### ADA scende subito dopo lo 0.7"
   ],
   "metadata": {
    "collapsed": false
   }
  },
  {
   "cell_type": "code",
   "execution_count": null,
   "outputs": [],
   "source": [
    "### dataset troppo grande, sporcato troppo poco!\n"
   ],
   "metadata": {
    "collapsed": false
   }
  }
 ],
 "metadata": {
  "kernelspec": {
   "display_name": "Python 3",
   "language": "python",
   "name": "python3"
  },
  "language_info": {
   "codemirror_mode": {
    "name": "ipython",
    "version": 2
   },
   "file_extension": ".py",
   "mimetype": "text/x-python",
   "name": "python",
   "nbconvert_exporter": "python",
   "pygments_lexer": "ipython2",
   "version": "2.7.6"
  }
 },
 "nbformat": 4,
 "nbformat_minor": 0
}
