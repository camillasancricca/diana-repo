{
 "cells": [
  {
   "cell_type": "code",
   "execution_count": 1,
   "outputs": [],
   "source": [
    "import numpy as np\n",
    "import pandas as pd\n",
    "import matplotlib.pyplot as plt"
   ],
   "metadata": {
    "collapsed": false
   }
  },
  {
   "cell_type": "code",
   "execution_count": 2,
   "outputs": [],
   "source": [
    "algorithm = 'KNN'"
   ],
   "metadata": {
    "collapsed": false
   }
  },
  {
   "cell_type": "code",
   "execution_count": 3,
   "outputs": [],
   "source": [
    "suggested = pd.read_csv('compiled_schedule_suggested.csv')\n",
    "sample = pd.read_csv('compiled_sample_schedule.csv')\n",
    "sample = sample[sample.quality > 69]\n",
    "perc_quality = [70, 75, 80, 85, 90, 95]\n",
    "# %%\n",
    "suggested = suggested[suggested.algorithm == algorithm]\n",
    "# %%\n",
    "sample = sample[['dimension_1', 'dimension_2', 'imp_1', 'imp_2', 'imp_3', 'imp_col_1',\n",
    "                 'imp_col_2', 'imp_col_3', 'od_1', 'od_2', 'od_3', 'od_imp_1',\n",
    "                 'od_imp_2', 'od_imp_3', 'od_imp_col_1', 'od_imp_col_2', 'od_imp_col_3',\n",
    "                 'quality', algorithm+'_dirty', algorithm+'_1', algorithm+'_2']]"
   ],
   "metadata": {
    "collapsed": false
   }
  },
  {
   "cell_type": "code",
   "execution_count": 4,
   "outputs": [],
   "source": [
    "temp_suggested = suggested.copy()\n",
    "temp_suggested = temp_suggested.rename(columns={'perf_dirty':'KNN_dirty','perf_1':'KNN_1','perf_2':'KNN_2'})\n",
    "temp_suggested['suggested'] = 'YES'\n",
    "sample['suggested'] = 'NO'\n",
    "all = pd.concat([temp_suggested, sample])"
   ],
   "metadata": {
    "collapsed": false
   }
  },
  {
   "cell_type": "code",
   "execution_count": 5,
   "outputs": [
    {
     "data": {
      "text/plain": "        dimension_1   dimension_2            imp_1                 imp_2  \\\n12         accuracy  completeness    impute_median         impute_median   \n13         accuracy  completeness    impute_median         impute_median   \n14         accuracy  completeness    impute_median         impute_median   \n15         accuracy  completeness    impute_median         impute_median   \n16         accuracy  completeness    impute_median         impute_median   \n...             ...           ...              ...                   ...   \n34993  completeness      accuracy      impute_mean         impute_median   \n34995  completeness      accuracy  impute_standard  impute_random_forest   \n34996      accuracy  completeness    impute_median  impute_random_forest   \n34997  completeness      accuracy  impute_standard         impute_random   \n34998  completeness      accuracy  impute_standard            impute_knn   \n\n                          imp_3            imp_col_1            imp_col_2  \\\n12                impute_median          Temperature        Precipitation   \n13                impute_median          Temperature        Precipitation   \n14                impute_median          Temperature        Precipitation   \n15                impute_median          Temperature        Precipitation   \n16                impute_median          Temperature        Precipitation   \n...                         ...                  ...                  ...   \n34993  impute_linear_regression          Temperature  AtmosphericPressure   \n34995             impute_cmeans        Precipitation          Temperature   \n34996             impute_cmeans          Temperature  AtmosphericPressure   \n34997                impute_knn  AtmosphericPressure        Precipitation   \n34998      impute_random_forest        Precipitation          Temperature   \n\n                 imp_col_3 od_1  od_2  ...                  od_imp_3  \\\n12     AtmosphericPressure  IQR   ZSB  ...             impute_median   \n13     AtmosphericPressure  IQR   ZSB  ...             impute_median   \n14     AtmosphericPressure  IQR   ZSB  ...             impute_median   \n15     AtmosphericPressure  IQR   ZSB  ...             impute_median   \n16     AtmosphericPressure  IQR   ZSB  ...             impute_median   \n...                    ...  ...   ...  ...                       ...   \n34993        Precipitation  IQR   ISO  ...             impute_cmeans   \n34995  AtmosphericPressure  IQR   STD  ...      impute_random_forest   \n34996        Precipitation  ISO  PERC  ...             impute_cmeans   \n34997          Temperature  IQR   ZSB  ...               impute_mice   \n34998  AtmosphericPressure  ISO   ZSB  ...  impute_linear_regression   \n\n              od_imp_col_1         od_imp_col_2         od_imp_col_3 quality  \\\n12             Temperature        Precipitation  AtmosphericPressure      70   \n13             Temperature  AtmosphericPressure        Precipitation      70   \n14           Precipitation          Temperature  AtmosphericPressure      70   \n15           Precipitation  AtmosphericPressure          Temperature      70   \n16     AtmosphericPressure          Temperature        Precipitation      70   \n...                    ...                  ...                  ...     ...   \n34993        Precipitation          Temperature  AtmosphericPressure      75   \n34995  AtmosphericPressure        Precipitation          Temperature      70   \n34996          Temperature        Precipitation  AtmosphericPressure      80   \n34997        Precipitation          Temperature  AtmosphericPressure      90   \n34998        Precipitation          Temperature  AtmosphericPressure      80   \n\n      algorithm KNN_dirty     KNN_1     KNN_2  suggested  \n12          KNN  0.653300  0.717150  0.721481        YES  \n13          KNN  0.655213  0.724908  0.715391        YES  \n14          KNN  0.654931  0.721517  0.720514        YES  \n15          KNN  0.648571  0.724926  0.715429        YES  \n16          KNN  0.649740  0.718260  0.723854        YES  \n...         ...       ...       ...       ...        ...  \n34993       NaN  0.679731  0.685607  0.723121         NO  \n34995       NaN  0.651310  0.647660  0.672976         NO  \n34996       NaN  0.716698  0.743602  0.741194         NO  \n34997       NaN  0.779934  0.777634  0.787718         NO  \n34998       NaN  0.716698  0.708279  0.732010         NO  \n\n[26399 rows x 23 columns]",
      "text/html": "<div>\n<style scoped>\n    .dataframe tbody tr th:only-of-type {\n        vertical-align: middle;\n    }\n\n    .dataframe tbody tr th {\n        vertical-align: top;\n    }\n\n    .dataframe thead th {\n        text-align: right;\n    }\n</style>\n<table border=\"1\" class=\"dataframe\">\n  <thead>\n    <tr style=\"text-align: right;\">\n      <th></th>\n      <th>dimension_1</th>\n      <th>dimension_2</th>\n      <th>imp_1</th>\n      <th>imp_2</th>\n      <th>imp_3</th>\n      <th>imp_col_1</th>\n      <th>imp_col_2</th>\n      <th>imp_col_3</th>\n      <th>od_1</th>\n      <th>od_2</th>\n      <th>...</th>\n      <th>od_imp_3</th>\n      <th>od_imp_col_1</th>\n      <th>od_imp_col_2</th>\n      <th>od_imp_col_3</th>\n      <th>quality</th>\n      <th>algorithm</th>\n      <th>KNN_dirty</th>\n      <th>KNN_1</th>\n      <th>KNN_2</th>\n      <th>suggested</th>\n    </tr>\n  </thead>\n  <tbody>\n    <tr>\n      <th>12</th>\n      <td>accuracy</td>\n      <td>completeness</td>\n      <td>impute_median</td>\n      <td>impute_median</td>\n      <td>impute_median</td>\n      <td>Temperature</td>\n      <td>Precipitation</td>\n      <td>AtmosphericPressure</td>\n      <td>IQR</td>\n      <td>ZSB</td>\n      <td>...</td>\n      <td>impute_median</td>\n      <td>Temperature</td>\n      <td>Precipitation</td>\n      <td>AtmosphericPressure</td>\n      <td>70</td>\n      <td>KNN</td>\n      <td>0.653300</td>\n      <td>0.717150</td>\n      <td>0.721481</td>\n      <td>YES</td>\n    </tr>\n    <tr>\n      <th>13</th>\n      <td>accuracy</td>\n      <td>completeness</td>\n      <td>impute_median</td>\n      <td>impute_median</td>\n      <td>impute_median</td>\n      <td>Temperature</td>\n      <td>Precipitation</td>\n      <td>AtmosphericPressure</td>\n      <td>IQR</td>\n      <td>ZSB</td>\n      <td>...</td>\n      <td>impute_median</td>\n      <td>Temperature</td>\n      <td>AtmosphericPressure</td>\n      <td>Precipitation</td>\n      <td>70</td>\n      <td>KNN</td>\n      <td>0.655213</td>\n      <td>0.724908</td>\n      <td>0.715391</td>\n      <td>YES</td>\n    </tr>\n    <tr>\n      <th>14</th>\n      <td>accuracy</td>\n      <td>completeness</td>\n      <td>impute_median</td>\n      <td>impute_median</td>\n      <td>impute_median</td>\n      <td>Temperature</td>\n      <td>Precipitation</td>\n      <td>AtmosphericPressure</td>\n      <td>IQR</td>\n      <td>ZSB</td>\n      <td>...</td>\n      <td>impute_median</td>\n      <td>Precipitation</td>\n      <td>Temperature</td>\n      <td>AtmosphericPressure</td>\n      <td>70</td>\n      <td>KNN</td>\n      <td>0.654931</td>\n      <td>0.721517</td>\n      <td>0.720514</td>\n      <td>YES</td>\n    </tr>\n    <tr>\n      <th>15</th>\n      <td>accuracy</td>\n      <td>completeness</td>\n      <td>impute_median</td>\n      <td>impute_median</td>\n      <td>impute_median</td>\n      <td>Temperature</td>\n      <td>Precipitation</td>\n      <td>AtmosphericPressure</td>\n      <td>IQR</td>\n      <td>ZSB</td>\n      <td>...</td>\n      <td>impute_median</td>\n      <td>Precipitation</td>\n      <td>AtmosphericPressure</td>\n      <td>Temperature</td>\n      <td>70</td>\n      <td>KNN</td>\n      <td>0.648571</td>\n      <td>0.724926</td>\n      <td>0.715429</td>\n      <td>YES</td>\n    </tr>\n    <tr>\n      <th>16</th>\n      <td>accuracy</td>\n      <td>completeness</td>\n      <td>impute_median</td>\n      <td>impute_median</td>\n      <td>impute_median</td>\n      <td>Temperature</td>\n      <td>Precipitation</td>\n      <td>AtmosphericPressure</td>\n      <td>IQR</td>\n      <td>ZSB</td>\n      <td>...</td>\n      <td>impute_median</td>\n      <td>AtmosphericPressure</td>\n      <td>Temperature</td>\n      <td>Precipitation</td>\n      <td>70</td>\n      <td>KNN</td>\n      <td>0.649740</td>\n      <td>0.718260</td>\n      <td>0.723854</td>\n      <td>YES</td>\n    </tr>\n    <tr>\n      <th>...</th>\n      <td>...</td>\n      <td>...</td>\n      <td>...</td>\n      <td>...</td>\n      <td>...</td>\n      <td>...</td>\n      <td>...</td>\n      <td>...</td>\n      <td>...</td>\n      <td>...</td>\n      <td>...</td>\n      <td>...</td>\n      <td>...</td>\n      <td>...</td>\n      <td>...</td>\n      <td>...</td>\n      <td>...</td>\n      <td>...</td>\n      <td>...</td>\n      <td>...</td>\n      <td>...</td>\n    </tr>\n    <tr>\n      <th>34993</th>\n      <td>completeness</td>\n      <td>accuracy</td>\n      <td>impute_mean</td>\n      <td>impute_median</td>\n      <td>impute_linear_regression</td>\n      <td>Temperature</td>\n      <td>AtmosphericPressure</td>\n      <td>Precipitation</td>\n      <td>IQR</td>\n      <td>ISO</td>\n      <td>...</td>\n      <td>impute_cmeans</td>\n      <td>Precipitation</td>\n      <td>Temperature</td>\n      <td>AtmosphericPressure</td>\n      <td>75</td>\n      <td>NaN</td>\n      <td>0.679731</td>\n      <td>0.685607</td>\n      <td>0.723121</td>\n      <td>NO</td>\n    </tr>\n    <tr>\n      <th>34995</th>\n      <td>completeness</td>\n      <td>accuracy</td>\n      <td>impute_standard</td>\n      <td>impute_random_forest</td>\n      <td>impute_cmeans</td>\n      <td>Precipitation</td>\n      <td>Temperature</td>\n      <td>AtmosphericPressure</td>\n      <td>IQR</td>\n      <td>STD</td>\n      <td>...</td>\n      <td>impute_random_forest</td>\n      <td>AtmosphericPressure</td>\n      <td>Precipitation</td>\n      <td>Temperature</td>\n      <td>70</td>\n      <td>NaN</td>\n      <td>0.651310</td>\n      <td>0.647660</td>\n      <td>0.672976</td>\n      <td>NO</td>\n    </tr>\n    <tr>\n      <th>34996</th>\n      <td>accuracy</td>\n      <td>completeness</td>\n      <td>impute_median</td>\n      <td>impute_random_forest</td>\n      <td>impute_cmeans</td>\n      <td>Temperature</td>\n      <td>AtmosphericPressure</td>\n      <td>Precipitation</td>\n      <td>ISO</td>\n      <td>PERC</td>\n      <td>...</td>\n      <td>impute_cmeans</td>\n      <td>Temperature</td>\n      <td>Precipitation</td>\n      <td>AtmosphericPressure</td>\n      <td>80</td>\n      <td>NaN</td>\n      <td>0.716698</td>\n      <td>0.743602</td>\n      <td>0.741194</td>\n      <td>NO</td>\n    </tr>\n    <tr>\n      <th>34997</th>\n      <td>completeness</td>\n      <td>accuracy</td>\n      <td>impute_standard</td>\n      <td>impute_random</td>\n      <td>impute_knn</td>\n      <td>AtmosphericPressure</td>\n      <td>Precipitation</td>\n      <td>Temperature</td>\n      <td>IQR</td>\n      <td>ZSB</td>\n      <td>...</td>\n      <td>impute_mice</td>\n      <td>Precipitation</td>\n      <td>Temperature</td>\n      <td>AtmosphericPressure</td>\n      <td>90</td>\n      <td>NaN</td>\n      <td>0.779934</td>\n      <td>0.777634</td>\n      <td>0.787718</td>\n      <td>NO</td>\n    </tr>\n    <tr>\n      <th>34998</th>\n      <td>completeness</td>\n      <td>accuracy</td>\n      <td>impute_standard</td>\n      <td>impute_knn</td>\n      <td>impute_random_forest</td>\n      <td>Precipitation</td>\n      <td>Temperature</td>\n      <td>AtmosphericPressure</td>\n      <td>ISO</td>\n      <td>ZSB</td>\n      <td>...</td>\n      <td>impute_linear_regression</td>\n      <td>Precipitation</td>\n      <td>Temperature</td>\n      <td>AtmosphericPressure</td>\n      <td>80</td>\n      <td>NaN</td>\n      <td>0.716698</td>\n      <td>0.708279</td>\n      <td>0.732010</td>\n      <td>NO</td>\n    </tr>\n  </tbody>\n</table>\n<p>26399 rows × 23 columns</p>\n</div>"
     },
     "execution_count": 5,
     "metadata": {},
     "output_type": "execute_result"
    }
   ],
   "source": [
    "all"
   ],
   "metadata": {
    "collapsed": false
   }
  },
  {
   "cell_type": "code",
   "execution_count": 6,
   "outputs": [
    {
     "data": {
      "text/plain": "            quality     KNN_dirty         KNN_1         KNN_2\ncount  26399.000000  26399.000000  26399.000000  26399.000000\nmean      82.557673      0.730067      0.737611      0.740461\nstd        8.539351      0.054046      0.051793      0.049426\nmin       70.000000      0.646244      0.626130      0.599243\n25%       75.000000      0.679731      0.698348      0.703497\n50%       85.000000      0.743080      0.740860      0.741500\n75%       90.000000      0.779934      0.780521      0.780716\nmax       95.000000      0.814438      0.839995      0.845174",
      "text/html": "<div>\n<style scoped>\n    .dataframe tbody tr th:only-of-type {\n        vertical-align: middle;\n    }\n\n    .dataframe tbody tr th {\n        vertical-align: top;\n    }\n\n    .dataframe thead th {\n        text-align: right;\n    }\n</style>\n<table border=\"1\" class=\"dataframe\">\n  <thead>\n    <tr style=\"text-align: right;\">\n      <th></th>\n      <th>quality</th>\n      <th>KNN_dirty</th>\n      <th>KNN_1</th>\n      <th>KNN_2</th>\n    </tr>\n  </thead>\n  <tbody>\n    <tr>\n      <th>count</th>\n      <td>26399.000000</td>\n      <td>26399.000000</td>\n      <td>26399.000000</td>\n      <td>26399.000000</td>\n    </tr>\n    <tr>\n      <th>mean</th>\n      <td>82.557673</td>\n      <td>0.730067</td>\n      <td>0.737611</td>\n      <td>0.740461</td>\n    </tr>\n    <tr>\n      <th>std</th>\n      <td>8.539351</td>\n      <td>0.054046</td>\n      <td>0.051793</td>\n      <td>0.049426</td>\n    </tr>\n    <tr>\n      <th>min</th>\n      <td>70.000000</td>\n      <td>0.646244</td>\n      <td>0.626130</td>\n      <td>0.599243</td>\n    </tr>\n    <tr>\n      <th>25%</th>\n      <td>75.000000</td>\n      <td>0.679731</td>\n      <td>0.698348</td>\n      <td>0.703497</td>\n    </tr>\n    <tr>\n      <th>50%</th>\n      <td>85.000000</td>\n      <td>0.743080</td>\n      <td>0.740860</td>\n      <td>0.741500</td>\n    </tr>\n    <tr>\n      <th>75%</th>\n      <td>90.000000</td>\n      <td>0.779934</td>\n      <td>0.780521</td>\n      <td>0.780716</td>\n    </tr>\n    <tr>\n      <th>max</th>\n      <td>95.000000</td>\n      <td>0.814438</td>\n      <td>0.839995</td>\n      <td>0.845174</td>\n    </tr>\n  </tbody>\n</table>\n</div>"
     },
     "execution_count": 6,
     "metadata": {},
     "output_type": "execute_result"
    }
   ],
   "source": [
    "all.describe()\n"
   ],
   "metadata": {
    "collapsed": false
   }
  },
  {
   "cell_type": "code",
   "execution_count": 7,
   "outputs": [],
   "source": [
    "all_80 = all[all.quality == 80].copy()"
   ],
   "metadata": {
    "collapsed": false
   }
  },
  {
   "cell_type": "code",
   "execution_count": 8,
   "outputs": [
    {
     "data": {
      "text/plain": "       quality    KNN_dirty        KNN_1        KNN_2\ncount   4397.0  4397.000000  4397.000000  4397.000000\nmean      80.0     0.716709     0.721648     0.728192\nstd        0.0     0.000312     0.019290     0.021535\nmin       80.0     0.711746     0.690428     0.659327\n25%       80.0     0.716698     0.707521     0.711444\n50%       80.0     0.716698     0.713605     0.730607\n75%       80.0     0.716698     0.742215     0.744969\nmax       80.0     0.723630     0.774269     0.777916",
      "text/html": "<div>\n<style scoped>\n    .dataframe tbody tr th:only-of-type {\n        vertical-align: middle;\n    }\n\n    .dataframe tbody tr th {\n        vertical-align: top;\n    }\n\n    .dataframe thead th {\n        text-align: right;\n    }\n</style>\n<table border=\"1\" class=\"dataframe\">\n  <thead>\n    <tr style=\"text-align: right;\">\n      <th></th>\n      <th>quality</th>\n      <th>KNN_dirty</th>\n      <th>KNN_1</th>\n      <th>KNN_2</th>\n    </tr>\n  </thead>\n  <tbody>\n    <tr>\n      <th>count</th>\n      <td>4397.0</td>\n      <td>4397.000000</td>\n      <td>4397.000000</td>\n      <td>4397.000000</td>\n    </tr>\n    <tr>\n      <th>mean</th>\n      <td>80.0</td>\n      <td>0.716709</td>\n      <td>0.721648</td>\n      <td>0.728192</td>\n    </tr>\n    <tr>\n      <th>std</th>\n      <td>0.0</td>\n      <td>0.000312</td>\n      <td>0.019290</td>\n      <td>0.021535</td>\n    </tr>\n    <tr>\n      <th>min</th>\n      <td>80.0</td>\n      <td>0.711746</td>\n      <td>0.690428</td>\n      <td>0.659327</td>\n    </tr>\n    <tr>\n      <th>25%</th>\n      <td>80.0</td>\n      <td>0.716698</td>\n      <td>0.707521</td>\n      <td>0.711444</td>\n    </tr>\n    <tr>\n      <th>50%</th>\n      <td>80.0</td>\n      <td>0.716698</td>\n      <td>0.713605</td>\n      <td>0.730607</td>\n    </tr>\n    <tr>\n      <th>75%</th>\n      <td>80.0</td>\n      <td>0.716698</td>\n      <td>0.742215</td>\n      <td>0.744969</td>\n    </tr>\n    <tr>\n      <th>max</th>\n      <td>80.0</td>\n      <td>0.723630</td>\n      <td>0.774269</td>\n      <td>0.777916</td>\n    </tr>\n  </tbody>\n</table>\n</div>"
     },
     "execution_count": 8,
     "metadata": {},
     "output_type": "execute_result"
    }
   ],
   "source": [
    "all_80.describe()\n"
   ],
   "metadata": {
    "collapsed": false
   }
  },
  {
   "cell_type": "code",
   "execution_count": 38,
   "outputs": [
    {
     "data": {
      "text/plain": "        dimension_1   dimension_2            imp_1                     imp_2  \\\n444        accuracy  completeness    impute_median             impute_median   \n445        accuracy  completeness    impute_median             impute_median   \n446        accuracy  completeness    impute_median             impute_median   \n447        accuracy  completeness    impute_median             impute_median   \n448        accuracy  completeness    impute_median             impute_median   \n...             ...           ...              ...                       ...   \n34907      accuracy  completeness    impute_median             impute_random   \n34932  completeness      accuracy  impute_standard               impute_mice   \n34982      accuracy  completeness    impute_random  impute_linear_regression   \n34996      accuracy  completeness    impute_median      impute_random_forest   \n34998  completeness      accuracy  impute_standard                impute_knn   \n\n                          imp_3            imp_col_1            imp_col_2  \\\n444               impute_median          Temperature        Precipitation   \n445               impute_median          Temperature        Precipitation   \n446               impute_median          Temperature        Precipitation   \n447               impute_median          Temperature        Precipitation   \n448               impute_median          Temperature        Precipitation   \n...                         ...                  ...                  ...   \n34907             impute_cmeans        Precipitation          Temperature   \n34932  impute_linear_regression  AtmosphericPressure          Temperature   \n34982      impute_random_forest          Temperature  AtmosphericPressure   \n34996             impute_cmeans          Temperature  AtmosphericPressure   \n34998      impute_random_forest        Precipitation          Temperature   \n\n                 imp_col_3 od_1  od_2  ...                  od_imp_3  \\\n444    AtmosphericPressure  IQR   ZSB  ...             impute_median   \n445    AtmosphericPressure  IQR   ZSB  ...             impute_median   \n446    AtmosphericPressure  IQR   ZSB  ...             impute_median   \n447    AtmosphericPressure  IQR   ZSB  ...             impute_median   \n448    AtmosphericPressure  IQR   ZSB  ...             impute_median   \n...                    ...  ...   ...  ...                       ...   \n34907  AtmosphericPressure  IQR   ZSB  ...             impute_cmeans   \n34932        Precipitation  IQR  PERC  ...      impute_random_forest   \n34982        Precipitation  IQR   KNN  ...      impute_random_forest   \n34996        Precipitation  ISO  PERC  ...             impute_cmeans   \n34998  AtmosphericPressure  ISO   ZSB  ...  impute_linear_regression   \n\n              od_imp_col_1         od_imp_col_2         od_imp_col_3 quality  \\\n444            Temperature        Precipitation  AtmosphericPressure      80   \n445            Temperature  AtmosphericPressure        Precipitation      80   \n446          Precipitation          Temperature  AtmosphericPressure      80   \n447          Precipitation  AtmosphericPressure          Temperature      80   \n448    AtmosphericPressure          Temperature        Precipitation      80   \n...                    ...                  ...                  ...     ...   \n34907  AtmosphericPressure        Precipitation          Temperature      80   \n34932        Precipitation  AtmosphericPressure          Temperature      80   \n34982          Temperature  AtmosphericPressure        Precipitation      80   \n34996          Temperature        Precipitation  AtmosphericPressure      80   \n34998        Precipitation          Temperature  AtmosphericPressure      80   \n\n      algorithm KNN_dirty     KNN_1     KNN_2  suggested  \n444         KNN  0.712448  0.767252  0.768856        YES  \n445         KNN  0.718386  0.767231  0.766760        YES  \n446         KNN  0.717378  0.762225  0.768458        YES  \n447         KNN  0.718350  0.762385  0.759411        YES  \n448         KNN  0.720107  0.765502  0.766366        YES  \n...         ...       ...       ...       ...        ...  \n34907       NaN  0.716698  0.748889  0.725386         NO  \n34932       NaN  0.716698  0.714736  0.728976         NO  \n34982       NaN  0.716698  0.749229  0.728282         NO  \n34996       NaN  0.716698  0.743602  0.741194         NO  \n34998       NaN  0.716698  0.708279  0.732010         NO  \n\n[2516 rows x 23 columns]",
      "text/html": "<div>\n<style scoped>\n    .dataframe tbody tr th:only-of-type {\n        vertical-align: middle;\n    }\n\n    .dataframe tbody tr th {\n        vertical-align: top;\n    }\n\n    .dataframe thead th {\n        text-align: right;\n    }\n</style>\n<table border=\"1\" class=\"dataframe\">\n  <thead>\n    <tr style=\"text-align: right;\">\n      <th></th>\n      <th>dimension_1</th>\n      <th>dimension_2</th>\n      <th>imp_1</th>\n      <th>imp_2</th>\n      <th>imp_3</th>\n      <th>imp_col_1</th>\n      <th>imp_col_2</th>\n      <th>imp_col_3</th>\n      <th>od_1</th>\n      <th>od_2</th>\n      <th>...</th>\n      <th>od_imp_3</th>\n      <th>od_imp_col_1</th>\n      <th>od_imp_col_2</th>\n      <th>od_imp_col_3</th>\n      <th>quality</th>\n      <th>algorithm</th>\n      <th>KNN_dirty</th>\n      <th>KNN_1</th>\n      <th>KNN_2</th>\n      <th>suggested</th>\n    </tr>\n  </thead>\n  <tbody>\n    <tr>\n      <th>444</th>\n      <td>accuracy</td>\n      <td>completeness</td>\n      <td>impute_median</td>\n      <td>impute_median</td>\n      <td>impute_median</td>\n      <td>Temperature</td>\n      <td>Precipitation</td>\n      <td>AtmosphericPressure</td>\n      <td>IQR</td>\n      <td>ZSB</td>\n      <td>...</td>\n      <td>impute_median</td>\n      <td>Temperature</td>\n      <td>Precipitation</td>\n      <td>AtmosphericPressure</td>\n      <td>80</td>\n      <td>KNN</td>\n      <td>0.712448</td>\n      <td>0.767252</td>\n      <td>0.768856</td>\n      <td>YES</td>\n    </tr>\n    <tr>\n      <th>445</th>\n      <td>accuracy</td>\n      <td>completeness</td>\n      <td>impute_median</td>\n      <td>impute_median</td>\n      <td>impute_median</td>\n      <td>Temperature</td>\n      <td>Precipitation</td>\n      <td>AtmosphericPressure</td>\n      <td>IQR</td>\n      <td>ZSB</td>\n      <td>...</td>\n      <td>impute_median</td>\n      <td>Temperature</td>\n      <td>AtmosphericPressure</td>\n      <td>Precipitation</td>\n      <td>80</td>\n      <td>KNN</td>\n      <td>0.718386</td>\n      <td>0.767231</td>\n      <td>0.766760</td>\n      <td>YES</td>\n    </tr>\n    <tr>\n      <th>446</th>\n      <td>accuracy</td>\n      <td>completeness</td>\n      <td>impute_median</td>\n      <td>impute_median</td>\n      <td>impute_median</td>\n      <td>Temperature</td>\n      <td>Precipitation</td>\n      <td>AtmosphericPressure</td>\n      <td>IQR</td>\n      <td>ZSB</td>\n      <td>...</td>\n      <td>impute_median</td>\n      <td>Precipitation</td>\n      <td>Temperature</td>\n      <td>AtmosphericPressure</td>\n      <td>80</td>\n      <td>KNN</td>\n      <td>0.717378</td>\n      <td>0.762225</td>\n      <td>0.768458</td>\n      <td>YES</td>\n    </tr>\n    <tr>\n      <th>447</th>\n      <td>accuracy</td>\n      <td>completeness</td>\n      <td>impute_median</td>\n      <td>impute_median</td>\n      <td>impute_median</td>\n      <td>Temperature</td>\n      <td>Precipitation</td>\n      <td>AtmosphericPressure</td>\n      <td>IQR</td>\n      <td>ZSB</td>\n      <td>...</td>\n      <td>impute_median</td>\n      <td>Precipitation</td>\n      <td>AtmosphericPressure</td>\n      <td>Temperature</td>\n      <td>80</td>\n      <td>KNN</td>\n      <td>0.718350</td>\n      <td>0.762385</td>\n      <td>0.759411</td>\n      <td>YES</td>\n    </tr>\n    <tr>\n      <th>448</th>\n      <td>accuracy</td>\n      <td>completeness</td>\n      <td>impute_median</td>\n      <td>impute_median</td>\n      <td>impute_median</td>\n      <td>Temperature</td>\n      <td>Precipitation</td>\n      <td>AtmosphericPressure</td>\n      <td>IQR</td>\n      <td>ZSB</td>\n      <td>...</td>\n      <td>impute_median</td>\n      <td>AtmosphericPressure</td>\n      <td>Temperature</td>\n      <td>Precipitation</td>\n      <td>80</td>\n      <td>KNN</td>\n      <td>0.720107</td>\n      <td>0.765502</td>\n      <td>0.766366</td>\n      <td>YES</td>\n    </tr>\n    <tr>\n      <th>...</th>\n      <td>...</td>\n      <td>...</td>\n      <td>...</td>\n      <td>...</td>\n      <td>...</td>\n      <td>...</td>\n      <td>...</td>\n      <td>...</td>\n      <td>...</td>\n      <td>...</td>\n      <td>...</td>\n      <td>...</td>\n      <td>...</td>\n      <td>...</td>\n      <td>...</td>\n      <td>...</td>\n      <td>...</td>\n      <td>...</td>\n      <td>...</td>\n      <td>...</td>\n      <td>...</td>\n    </tr>\n    <tr>\n      <th>34907</th>\n      <td>accuracy</td>\n      <td>completeness</td>\n      <td>impute_median</td>\n      <td>impute_random</td>\n      <td>impute_cmeans</td>\n      <td>Precipitation</td>\n      <td>Temperature</td>\n      <td>AtmosphericPressure</td>\n      <td>IQR</td>\n      <td>ZSB</td>\n      <td>...</td>\n      <td>impute_cmeans</td>\n      <td>AtmosphericPressure</td>\n      <td>Precipitation</td>\n      <td>Temperature</td>\n      <td>80</td>\n      <td>NaN</td>\n      <td>0.716698</td>\n      <td>0.748889</td>\n      <td>0.725386</td>\n      <td>NO</td>\n    </tr>\n    <tr>\n      <th>34932</th>\n      <td>completeness</td>\n      <td>accuracy</td>\n      <td>impute_standard</td>\n      <td>impute_mice</td>\n      <td>impute_linear_regression</td>\n      <td>AtmosphericPressure</td>\n      <td>Temperature</td>\n      <td>Precipitation</td>\n      <td>IQR</td>\n      <td>PERC</td>\n      <td>...</td>\n      <td>impute_random_forest</td>\n      <td>Precipitation</td>\n      <td>AtmosphericPressure</td>\n      <td>Temperature</td>\n      <td>80</td>\n      <td>NaN</td>\n      <td>0.716698</td>\n      <td>0.714736</td>\n      <td>0.728976</td>\n      <td>NO</td>\n    </tr>\n    <tr>\n      <th>34982</th>\n      <td>accuracy</td>\n      <td>completeness</td>\n      <td>impute_random</td>\n      <td>impute_linear_regression</td>\n      <td>impute_random_forest</td>\n      <td>Temperature</td>\n      <td>AtmosphericPressure</td>\n      <td>Precipitation</td>\n      <td>IQR</td>\n      <td>KNN</td>\n      <td>...</td>\n      <td>impute_random_forest</td>\n      <td>Temperature</td>\n      <td>AtmosphericPressure</td>\n      <td>Precipitation</td>\n      <td>80</td>\n      <td>NaN</td>\n      <td>0.716698</td>\n      <td>0.749229</td>\n      <td>0.728282</td>\n      <td>NO</td>\n    </tr>\n    <tr>\n      <th>34996</th>\n      <td>accuracy</td>\n      <td>completeness</td>\n      <td>impute_median</td>\n      <td>impute_random_forest</td>\n      <td>impute_cmeans</td>\n      <td>Temperature</td>\n      <td>AtmosphericPressure</td>\n      <td>Precipitation</td>\n      <td>ISO</td>\n      <td>PERC</td>\n      <td>...</td>\n      <td>impute_cmeans</td>\n      <td>Temperature</td>\n      <td>Precipitation</td>\n      <td>AtmosphericPressure</td>\n      <td>80</td>\n      <td>NaN</td>\n      <td>0.716698</td>\n      <td>0.743602</td>\n      <td>0.741194</td>\n      <td>NO</td>\n    </tr>\n    <tr>\n      <th>34998</th>\n      <td>completeness</td>\n      <td>accuracy</td>\n      <td>impute_standard</td>\n      <td>impute_knn</td>\n      <td>impute_random_forest</td>\n      <td>Precipitation</td>\n      <td>Temperature</td>\n      <td>AtmosphericPressure</td>\n      <td>ISO</td>\n      <td>ZSB</td>\n      <td>...</td>\n      <td>impute_linear_regression</td>\n      <td>Precipitation</td>\n      <td>Temperature</td>\n      <td>AtmosphericPressure</td>\n      <td>80</td>\n      <td>NaN</td>\n      <td>0.716698</td>\n      <td>0.708279</td>\n      <td>0.732010</td>\n      <td>NO</td>\n    </tr>\n  </tbody>\n</table>\n<p>2516 rows × 23 columns</p>\n</div>"
     },
     "execution_count": 38,
     "metadata": {},
     "output_type": "execute_result"
    }
   ],
   "source": [
    "all_top = all_80[all_80.KNN_2 > 0.725]\n",
    "all_top"
   ],
   "metadata": {
    "collapsed": false
   }
  },
  {
   "cell_type": "code",
   "execution_count": 39,
   "outputs": [
    {
     "data": {
      "text/plain": "        dimension_1   dimension_2            imp_1                     imp_2  \\\n0      completeness      accuracy  impute_standard             impute_random   \n7      completeness      accuracy  impute_standard               impute_mean   \n20         accuracy  completeness    impute_median                impute_knn   \n40     completeness      accuracy      impute_mice  impute_linear_regression   \n58         accuracy  completeness    impute_median             impute_random   \n...             ...           ...              ...                       ...   \n34933  completeness      accuracy    impute_median             impute_random   \n34943  completeness      accuracy  impute_standard             impute_random   \n34964      accuracy  completeness    impute_random  impute_linear_regression   \n34982      accuracy  completeness    impute_random  impute_linear_regression   \n34998  completeness      accuracy  impute_standard                impute_knn   \n\n                      imp_3            imp_col_1            imp_col_2  \\\n0               impute_mice  AtmosphericPressure        Precipitation   \n7             impute_cmeans  AtmosphericPressure        Precipitation   \n20              impute_mice        Precipitation          Temperature   \n40            impute_cmeans        Precipitation  AtmosphericPressure   \n58     impute_random_forest  AtmosphericPressure          Temperature   \n...                     ...                  ...                  ...   \n34933           impute_mice  AtmosphericPressure          Temperature   \n34943         impute_cmeans        Precipitation          Temperature   \n34964         impute_cmeans        Precipitation  AtmosphericPressure   \n34982  impute_random_forest          Temperature  AtmosphericPressure   \n34998  impute_random_forest        Precipitation          Temperature   \n\n                 imp_col_3  od_1  od_2  ...                  od_imp_3  \\\n0              Temperature  PERC   KNN  ...      impute_random_forest   \n7              Temperature   ISO  PERC  ...             impute_cmeans   \n20     AtmosphericPressure   ISO   STD  ...               impute_mice   \n40             Temperature   ISO   STD  ...                impute_knn   \n58           Precipitation   ISO   KNN  ...  impute_linear_regression   \n...                    ...   ...   ...  ...                       ...   \n34933        Precipitation   IQR   ISO  ...             impute_random   \n34943  AtmosphericPressure   IQR  PERC  ...  impute_linear_regression   \n34964          Temperature   IQR  PERC  ...             impute_cmeans   \n34982        Precipitation   IQR   KNN  ...      impute_random_forest   \n34998  AtmosphericPressure   ISO   ZSB  ...  impute_linear_regression   \n\n              od_imp_col_1         od_imp_col_2         od_imp_col_3 quality  \\\n0              Temperature        Precipitation  AtmosphericPressure      80   \n7            Precipitation  AtmosphericPressure          Temperature      80   \n20     AtmosphericPressure          Temperature        Precipitation      80   \n40           Precipitation  AtmosphericPressure          Temperature      80   \n58           Precipitation  AtmosphericPressure          Temperature      80   \n...                    ...                  ...                  ...     ...   \n34933          Temperature        Precipitation  AtmosphericPressure      80   \n34943        Precipitation  AtmosphericPressure          Temperature      80   \n34964          Temperature        Precipitation  AtmosphericPressure      80   \n34982          Temperature  AtmosphericPressure        Precipitation      80   \n34998        Precipitation          Temperature  AtmosphericPressure      80   \n\n      algorithm KNN_dirty     KNN_1     KNN_2  suggested  \n0           NaN  0.716698  0.707465  0.711414         NO  \n7           NaN  0.716698  0.713361  0.724072         NO  \n20          NaN  0.716698  0.709226  0.705548         NO  \n40          NaN  0.716698  0.712851  0.710096         NO  \n58          NaN  0.716698  0.746208  0.722424         NO  \n...         ...       ...       ...       ...        ...  \n34933       NaN  0.716698  0.703024  0.724250         NO  \n34943       NaN  0.716698  0.705286  0.707925         NO  \n34964       NaN  0.716698  0.733035  0.712436         NO  \n34982       NaN  0.716698  0.749229  0.728282         NO  \n34998       NaN  0.716698  0.708279  0.732010         NO  \n\n[2876 rows x 23 columns]",
      "text/html": "<div>\n<style scoped>\n    .dataframe tbody tr th:only-of-type {\n        vertical-align: middle;\n    }\n\n    .dataframe tbody tr th {\n        vertical-align: top;\n    }\n\n    .dataframe thead th {\n        text-align: right;\n    }\n</style>\n<table border=\"1\" class=\"dataframe\">\n  <thead>\n    <tr style=\"text-align: right;\">\n      <th></th>\n      <th>dimension_1</th>\n      <th>dimension_2</th>\n      <th>imp_1</th>\n      <th>imp_2</th>\n      <th>imp_3</th>\n      <th>imp_col_1</th>\n      <th>imp_col_2</th>\n      <th>imp_col_3</th>\n      <th>od_1</th>\n      <th>od_2</th>\n      <th>...</th>\n      <th>od_imp_3</th>\n      <th>od_imp_col_1</th>\n      <th>od_imp_col_2</th>\n      <th>od_imp_col_3</th>\n      <th>quality</th>\n      <th>algorithm</th>\n      <th>KNN_dirty</th>\n      <th>KNN_1</th>\n      <th>KNN_2</th>\n      <th>suggested</th>\n    </tr>\n  </thead>\n  <tbody>\n    <tr>\n      <th>0</th>\n      <td>completeness</td>\n      <td>accuracy</td>\n      <td>impute_standard</td>\n      <td>impute_random</td>\n      <td>impute_mice</td>\n      <td>AtmosphericPressure</td>\n      <td>Precipitation</td>\n      <td>Temperature</td>\n      <td>PERC</td>\n      <td>KNN</td>\n      <td>...</td>\n      <td>impute_random_forest</td>\n      <td>Temperature</td>\n      <td>Precipitation</td>\n      <td>AtmosphericPressure</td>\n      <td>80</td>\n      <td>NaN</td>\n      <td>0.716698</td>\n      <td>0.707465</td>\n      <td>0.711414</td>\n      <td>NO</td>\n    </tr>\n    <tr>\n      <th>7</th>\n      <td>completeness</td>\n      <td>accuracy</td>\n      <td>impute_standard</td>\n      <td>impute_mean</td>\n      <td>impute_cmeans</td>\n      <td>AtmosphericPressure</td>\n      <td>Precipitation</td>\n      <td>Temperature</td>\n      <td>ISO</td>\n      <td>PERC</td>\n      <td>...</td>\n      <td>impute_cmeans</td>\n      <td>Precipitation</td>\n      <td>AtmosphericPressure</td>\n      <td>Temperature</td>\n      <td>80</td>\n      <td>NaN</td>\n      <td>0.716698</td>\n      <td>0.713361</td>\n      <td>0.724072</td>\n      <td>NO</td>\n    </tr>\n    <tr>\n      <th>20</th>\n      <td>accuracy</td>\n      <td>completeness</td>\n      <td>impute_median</td>\n      <td>impute_knn</td>\n      <td>impute_mice</td>\n      <td>Precipitation</td>\n      <td>Temperature</td>\n      <td>AtmosphericPressure</td>\n      <td>ISO</td>\n      <td>STD</td>\n      <td>...</td>\n      <td>impute_mice</td>\n      <td>AtmosphericPressure</td>\n      <td>Temperature</td>\n      <td>Precipitation</td>\n      <td>80</td>\n      <td>NaN</td>\n      <td>0.716698</td>\n      <td>0.709226</td>\n      <td>0.705548</td>\n      <td>NO</td>\n    </tr>\n    <tr>\n      <th>40</th>\n      <td>completeness</td>\n      <td>accuracy</td>\n      <td>impute_mice</td>\n      <td>impute_linear_regression</td>\n      <td>impute_cmeans</td>\n      <td>Precipitation</td>\n      <td>AtmosphericPressure</td>\n      <td>Temperature</td>\n      <td>ISO</td>\n      <td>STD</td>\n      <td>...</td>\n      <td>impute_knn</td>\n      <td>Precipitation</td>\n      <td>AtmosphericPressure</td>\n      <td>Temperature</td>\n      <td>80</td>\n      <td>NaN</td>\n      <td>0.716698</td>\n      <td>0.712851</td>\n      <td>0.710096</td>\n      <td>NO</td>\n    </tr>\n    <tr>\n      <th>58</th>\n      <td>accuracy</td>\n      <td>completeness</td>\n      <td>impute_median</td>\n      <td>impute_random</td>\n      <td>impute_random_forest</td>\n      <td>AtmosphericPressure</td>\n      <td>Temperature</td>\n      <td>Precipitation</td>\n      <td>ISO</td>\n      <td>KNN</td>\n      <td>...</td>\n      <td>impute_linear_regression</td>\n      <td>Precipitation</td>\n      <td>AtmosphericPressure</td>\n      <td>Temperature</td>\n      <td>80</td>\n      <td>NaN</td>\n      <td>0.716698</td>\n      <td>0.746208</td>\n      <td>0.722424</td>\n      <td>NO</td>\n    </tr>\n    <tr>\n      <th>...</th>\n      <td>...</td>\n      <td>...</td>\n      <td>...</td>\n      <td>...</td>\n      <td>...</td>\n      <td>...</td>\n      <td>...</td>\n      <td>...</td>\n      <td>...</td>\n      <td>...</td>\n      <td>...</td>\n      <td>...</td>\n      <td>...</td>\n      <td>...</td>\n      <td>...</td>\n      <td>...</td>\n      <td>...</td>\n      <td>...</td>\n      <td>...</td>\n      <td>...</td>\n      <td>...</td>\n    </tr>\n    <tr>\n      <th>34933</th>\n      <td>completeness</td>\n      <td>accuracy</td>\n      <td>impute_median</td>\n      <td>impute_random</td>\n      <td>impute_mice</td>\n      <td>AtmosphericPressure</td>\n      <td>Temperature</td>\n      <td>Precipitation</td>\n      <td>IQR</td>\n      <td>ISO</td>\n      <td>...</td>\n      <td>impute_random</td>\n      <td>Temperature</td>\n      <td>Precipitation</td>\n      <td>AtmosphericPressure</td>\n      <td>80</td>\n      <td>NaN</td>\n      <td>0.716698</td>\n      <td>0.703024</td>\n      <td>0.724250</td>\n      <td>NO</td>\n    </tr>\n    <tr>\n      <th>34943</th>\n      <td>completeness</td>\n      <td>accuracy</td>\n      <td>impute_standard</td>\n      <td>impute_random</td>\n      <td>impute_cmeans</td>\n      <td>Precipitation</td>\n      <td>Temperature</td>\n      <td>AtmosphericPressure</td>\n      <td>IQR</td>\n      <td>PERC</td>\n      <td>...</td>\n      <td>impute_linear_regression</td>\n      <td>Precipitation</td>\n      <td>AtmosphericPressure</td>\n      <td>Temperature</td>\n      <td>80</td>\n      <td>NaN</td>\n      <td>0.716698</td>\n      <td>0.705286</td>\n      <td>0.707925</td>\n      <td>NO</td>\n    </tr>\n    <tr>\n      <th>34964</th>\n      <td>accuracy</td>\n      <td>completeness</td>\n      <td>impute_random</td>\n      <td>impute_linear_regression</td>\n      <td>impute_cmeans</td>\n      <td>Precipitation</td>\n      <td>AtmosphericPressure</td>\n      <td>Temperature</td>\n      <td>IQR</td>\n      <td>PERC</td>\n      <td>...</td>\n      <td>impute_cmeans</td>\n      <td>Temperature</td>\n      <td>Precipitation</td>\n      <td>AtmosphericPressure</td>\n      <td>80</td>\n      <td>NaN</td>\n      <td>0.716698</td>\n      <td>0.733035</td>\n      <td>0.712436</td>\n      <td>NO</td>\n    </tr>\n    <tr>\n      <th>34982</th>\n      <td>accuracy</td>\n      <td>completeness</td>\n      <td>impute_random</td>\n      <td>impute_linear_regression</td>\n      <td>impute_random_forest</td>\n      <td>Temperature</td>\n      <td>AtmosphericPressure</td>\n      <td>Precipitation</td>\n      <td>IQR</td>\n      <td>KNN</td>\n      <td>...</td>\n      <td>impute_random_forest</td>\n      <td>Temperature</td>\n      <td>AtmosphericPressure</td>\n      <td>Precipitation</td>\n      <td>80</td>\n      <td>NaN</td>\n      <td>0.716698</td>\n      <td>0.749229</td>\n      <td>0.728282</td>\n      <td>NO</td>\n    </tr>\n    <tr>\n      <th>34998</th>\n      <td>completeness</td>\n      <td>accuracy</td>\n      <td>impute_standard</td>\n      <td>impute_knn</td>\n      <td>impute_random_forest</td>\n      <td>Precipitation</td>\n      <td>Temperature</td>\n      <td>AtmosphericPressure</td>\n      <td>ISO</td>\n      <td>ZSB</td>\n      <td>...</td>\n      <td>impute_linear_regression</td>\n      <td>Precipitation</td>\n      <td>Temperature</td>\n      <td>AtmosphericPressure</td>\n      <td>80</td>\n      <td>NaN</td>\n      <td>0.716698</td>\n      <td>0.708279</td>\n      <td>0.732010</td>\n      <td>NO</td>\n    </tr>\n  </tbody>\n</table>\n<p>2876 rows × 23 columns</p>\n</div>"
     },
     "execution_count": 39,
     "metadata": {},
     "output_type": "execute_result"
    }
   ],
   "source": [
    "all_bottom = all_80[all_80.KNN_2 < 0.74] ### sotto il 75 percentile\n",
    "all_bottom"
   ],
   "metadata": {
    "collapsed": false
   }
  },
  {
   "cell_type": "code",
   "execution_count": 40,
   "outputs": [
    {
     "data": {
      "text/plain": "suggested\nNO    2876\nName: count, dtype: int64"
     },
     "execution_count": 40,
     "metadata": {},
     "output_type": "execute_result"
    }
   ],
   "source": [
    "all_bottom.suggested.value_counts()\n"
   ],
   "metadata": {
    "collapsed": false
   }
  },
  {
   "cell_type": "code",
   "execution_count": 41,
   "outputs": [],
   "source": [
    "### come poter riconoscere che al primo step posso stopparmi e non fare il secondo?"
   ],
   "metadata": {
    "collapsed": false
   }
  },
  {
   "cell_type": "code",
   "execution_count": 42,
   "outputs": [
    {
     "data": {
      "text/plain": "        dimension_1 dimension_2            imp_1                     imp_2  \\\n34     completeness    accuracy    impute_median      impute_random_forest   \n65     completeness    accuracy  impute_standard             impute_median   \n86     completeness    accuracy      impute_mean               impute_mice   \n123    completeness    accuracy    impute_random                impute_knn   \n139    completeness    accuracy  impute_standard  impute_linear_regression   \n...             ...         ...              ...                       ...   \n34780  completeness    accuracy    impute_median             impute_random   \n34823  completeness    accuracy  impute_standard             impute_median   \n34894  completeness    accuracy  impute_standard               impute_mean   \n34932  completeness    accuracy  impute_standard               impute_mice   \n34998  completeness    accuracy  impute_standard                impute_knn   \n\n                          imp_3            imp_col_1            imp_col_2  \\\n34                impute_cmeans  AtmosphericPressure          Temperature   \n65                impute_random  AtmosphericPressure          Temperature   \n86         impute_random_forest  AtmosphericPressure        Precipitation   \n123    impute_linear_regression          Temperature        Precipitation   \n139        impute_random_forest        Precipitation          Temperature   \n...                         ...                  ...                  ...   \n34780  impute_linear_regression          Temperature        Precipitation   \n34823  impute_linear_regression  AtmosphericPressure        Precipitation   \n34894      impute_random_forest          Temperature  AtmosphericPressure   \n34932  impute_linear_regression  AtmosphericPressure          Temperature   \n34998      impute_random_forest        Precipitation          Temperature   \n\n                 imp_col_3 od_1  od_2  ...                  od_imp_3  \\\n34           Precipitation  STD   KNN  ...               impute_mice   \n65           Precipitation  ISO  PERC  ...             impute_cmeans   \n86             Temperature  IQR   KNN  ...      impute_random_forest   \n123    AtmosphericPressure  ISO  PERC  ...               impute_mice   \n139    AtmosphericPressure  IQR  PERC  ...               impute_mice   \n...                    ...  ...   ...  ...                       ...   \n34780  AtmosphericPressure  ISO  PERC  ...             impute_cmeans   \n34823          Temperature  IQR   ISO  ...             impute_cmeans   \n34894        Precipitation  STD   ZSB  ...             impute_cmeans   \n34932        Precipitation  IQR  PERC  ...      impute_random_forest   \n34998  AtmosphericPressure  ISO   ZSB  ...  impute_linear_regression   \n\n              od_imp_col_1         od_imp_col_2         od_imp_col_3 quality  \\\n34     AtmosphericPressure          Temperature        Precipitation      80   \n65             Temperature  AtmosphericPressure        Precipitation      80   \n86             Temperature  AtmosphericPressure        Precipitation      80   \n123          Precipitation          Temperature  AtmosphericPressure      80   \n139            Temperature        Precipitation  AtmosphericPressure      80   \n...                    ...                  ...                  ...     ...   \n34780          Temperature        Precipitation  AtmosphericPressure      80   \n34823  AtmosphericPressure        Precipitation          Temperature      80   \n34894  AtmosphericPressure          Temperature        Precipitation      80   \n34932        Precipitation  AtmosphericPressure          Temperature      80   \n34998        Precipitation          Temperature  AtmosphericPressure      80   \n\n      algorithm KNN_dirty     KNN_1     KNN_2  suggested  \n34          NaN  0.716698  0.709783  0.741182         NO  \n65          NaN  0.716698  0.707077  0.725599         NO  \n86          NaN  0.716698  0.707296  0.736338         NO  \n123         NaN  0.716698  0.698565  0.744849         NO  \n139         NaN  0.716698  0.716616  0.758779         NO  \n...         ...       ...       ...       ...        ...  \n34780       NaN  0.716698  0.706788  0.737249         NO  \n34823       NaN  0.716698  0.716573  0.742499         NO  \n34894       NaN  0.716698  0.709004  0.734377         NO  \n34932       NaN  0.716698  0.714736  0.728976         NO  \n34998       NaN  0.716698  0.708279  0.732010         NO  \n\n[1073 rows x 23 columns]",
      "text/html": "<div>\n<style scoped>\n    .dataframe tbody tr th:only-of-type {\n        vertical-align: middle;\n    }\n\n    .dataframe tbody tr th {\n        vertical-align: top;\n    }\n\n    .dataframe thead th {\n        text-align: right;\n    }\n</style>\n<table border=\"1\" class=\"dataframe\">\n  <thead>\n    <tr style=\"text-align: right;\">\n      <th></th>\n      <th>dimension_1</th>\n      <th>dimension_2</th>\n      <th>imp_1</th>\n      <th>imp_2</th>\n      <th>imp_3</th>\n      <th>imp_col_1</th>\n      <th>imp_col_2</th>\n      <th>imp_col_3</th>\n      <th>od_1</th>\n      <th>od_2</th>\n      <th>...</th>\n      <th>od_imp_3</th>\n      <th>od_imp_col_1</th>\n      <th>od_imp_col_2</th>\n      <th>od_imp_col_3</th>\n      <th>quality</th>\n      <th>algorithm</th>\n      <th>KNN_dirty</th>\n      <th>KNN_1</th>\n      <th>KNN_2</th>\n      <th>suggested</th>\n    </tr>\n  </thead>\n  <tbody>\n    <tr>\n      <th>34</th>\n      <td>completeness</td>\n      <td>accuracy</td>\n      <td>impute_median</td>\n      <td>impute_random_forest</td>\n      <td>impute_cmeans</td>\n      <td>AtmosphericPressure</td>\n      <td>Temperature</td>\n      <td>Precipitation</td>\n      <td>STD</td>\n      <td>KNN</td>\n      <td>...</td>\n      <td>impute_mice</td>\n      <td>AtmosphericPressure</td>\n      <td>Temperature</td>\n      <td>Precipitation</td>\n      <td>80</td>\n      <td>NaN</td>\n      <td>0.716698</td>\n      <td>0.709783</td>\n      <td>0.741182</td>\n      <td>NO</td>\n    </tr>\n    <tr>\n      <th>65</th>\n      <td>completeness</td>\n      <td>accuracy</td>\n      <td>impute_standard</td>\n      <td>impute_median</td>\n      <td>impute_random</td>\n      <td>AtmosphericPressure</td>\n      <td>Temperature</td>\n      <td>Precipitation</td>\n      <td>ISO</td>\n      <td>PERC</td>\n      <td>...</td>\n      <td>impute_cmeans</td>\n      <td>Temperature</td>\n      <td>AtmosphericPressure</td>\n      <td>Precipitation</td>\n      <td>80</td>\n      <td>NaN</td>\n      <td>0.716698</td>\n      <td>0.707077</td>\n      <td>0.725599</td>\n      <td>NO</td>\n    </tr>\n    <tr>\n      <th>86</th>\n      <td>completeness</td>\n      <td>accuracy</td>\n      <td>impute_mean</td>\n      <td>impute_mice</td>\n      <td>impute_random_forest</td>\n      <td>AtmosphericPressure</td>\n      <td>Precipitation</td>\n      <td>Temperature</td>\n      <td>IQR</td>\n      <td>KNN</td>\n      <td>...</td>\n      <td>impute_random_forest</td>\n      <td>Temperature</td>\n      <td>AtmosphericPressure</td>\n      <td>Precipitation</td>\n      <td>80</td>\n      <td>NaN</td>\n      <td>0.716698</td>\n      <td>0.707296</td>\n      <td>0.736338</td>\n      <td>NO</td>\n    </tr>\n    <tr>\n      <th>123</th>\n      <td>completeness</td>\n      <td>accuracy</td>\n      <td>impute_random</td>\n      <td>impute_knn</td>\n      <td>impute_linear_regression</td>\n      <td>Temperature</td>\n      <td>Precipitation</td>\n      <td>AtmosphericPressure</td>\n      <td>ISO</td>\n      <td>PERC</td>\n      <td>...</td>\n      <td>impute_mice</td>\n      <td>Precipitation</td>\n      <td>Temperature</td>\n      <td>AtmosphericPressure</td>\n      <td>80</td>\n      <td>NaN</td>\n      <td>0.716698</td>\n      <td>0.698565</td>\n      <td>0.744849</td>\n      <td>NO</td>\n    </tr>\n    <tr>\n      <th>139</th>\n      <td>completeness</td>\n      <td>accuracy</td>\n      <td>impute_standard</td>\n      <td>impute_linear_regression</td>\n      <td>impute_random_forest</td>\n      <td>Precipitation</td>\n      <td>Temperature</td>\n      <td>AtmosphericPressure</td>\n      <td>IQR</td>\n      <td>PERC</td>\n      <td>...</td>\n      <td>impute_mice</td>\n      <td>Temperature</td>\n      <td>Precipitation</td>\n      <td>AtmosphericPressure</td>\n      <td>80</td>\n      <td>NaN</td>\n      <td>0.716698</td>\n      <td>0.716616</td>\n      <td>0.758779</td>\n      <td>NO</td>\n    </tr>\n    <tr>\n      <th>...</th>\n      <td>...</td>\n      <td>...</td>\n      <td>...</td>\n      <td>...</td>\n      <td>...</td>\n      <td>...</td>\n      <td>...</td>\n      <td>...</td>\n      <td>...</td>\n      <td>...</td>\n      <td>...</td>\n      <td>...</td>\n      <td>...</td>\n      <td>...</td>\n      <td>...</td>\n      <td>...</td>\n      <td>...</td>\n      <td>...</td>\n      <td>...</td>\n      <td>...</td>\n      <td>...</td>\n    </tr>\n    <tr>\n      <th>34780</th>\n      <td>completeness</td>\n      <td>accuracy</td>\n      <td>impute_median</td>\n      <td>impute_random</td>\n      <td>impute_linear_regression</td>\n      <td>Temperature</td>\n      <td>Precipitation</td>\n      <td>AtmosphericPressure</td>\n      <td>ISO</td>\n      <td>PERC</td>\n      <td>...</td>\n      <td>impute_cmeans</td>\n      <td>Temperature</td>\n      <td>Precipitation</td>\n      <td>AtmosphericPressure</td>\n      <td>80</td>\n      <td>NaN</td>\n      <td>0.716698</td>\n      <td>0.706788</td>\n      <td>0.737249</td>\n      <td>NO</td>\n    </tr>\n    <tr>\n      <th>34823</th>\n      <td>completeness</td>\n      <td>accuracy</td>\n      <td>impute_standard</td>\n      <td>impute_median</td>\n      <td>impute_linear_regression</td>\n      <td>AtmosphericPressure</td>\n      <td>Precipitation</td>\n      <td>Temperature</td>\n      <td>IQR</td>\n      <td>ISO</td>\n      <td>...</td>\n      <td>impute_cmeans</td>\n      <td>AtmosphericPressure</td>\n      <td>Precipitation</td>\n      <td>Temperature</td>\n      <td>80</td>\n      <td>NaN</td>\n      <td>0.716698</td>\n      <td>0.716573</td>\n      <td>0.742499</td>\n      <td>NO</td>\n    </tr>\n    <tr>\n      <th>34894</th>\n      <td>completeness</td>\n      <td>accuracy</td>\n      <td>impute_standard</td>\n      <td>impute_mean</td>\n      <td>impute_random_forest</td>\n      <td>Temperature</td>\n      <td>AtmosphericPressure</td>\n      <td>Precipitation</td>\n      <td>STD</td>\n      <td>ZSB</td>\n      <td>...</td>\n      <td>impute_cmeans</td>\n      <td>AtmosphericPressure</td>\n      <td>Temperature</td>\n      <td>Precipitation</td>\n      <td>80</td>\n      <td>NaN</td>\n      <td>0.716698</td>\n      <td>0.709004</td>\n      <td>0.734377</td>\n      <td>NO</td>\n    </tr>\n    <tr>\n      <th>34932</th>\n      <td>completeness</td>\n      <td>accuracy</td>\n      <td>impute_standard</td>\n      <td>impute_mice</td>\n      <td>impute_linear_regression</td>\n      <td>AtmosphericPressure</td>\n      <td>Temperature</td>\n      <td>Precipitation</td>\n      <td>IQR</td>\n      <td>PERC</td>\n      <td>...</td>\n      <td>impute_random_forest</td>\n      <td>Precipitation</td>\n      <td>AtmosphericPressure</td>\n      <td>Temperature</td>\n      <td>80</td>\n      <td>NaN</td>\n      <td>0.716698</td>\n      <td>0.714736</td>\n      <td>0.728976</td>\n      <td>NO</td>\n    </tr>\n    <tr>\n      <th>34998</th>\n      <td>completeness</td>\n      <td>accuracy</td>\n      <td>impute_standard</td>\n      <td>impute_knn</td>\n      <td>impute_random_forest</td>\n      <td>Precipitation</td>\n      <td>Temperature</td>\n      <td>AtmosphericPressure</td>\n      <td>ISO</td>\n      <td>ZSB</td>\n      <td>...</td>\n      <td>impute_linear_regression</td>\n      <td>Precipitation</td>\n      <td>Temperature</td>\n      <td>AtmosphericPressure</td>\n      <td>80</td>\n      <td>NaN</td>\n      <td>0.716698</td>\n      <td>0.708279</td>\n      <td>0.732010</td>\n      <td>NO</td>\n    </tr>\n  </tbody>\n</table>\n<p>1073 rows × 23 columns</p>\n</div>"
     },
     "execution_count": 42,
     "metadata": {},
     "output_type": "execute_result"
    }
   ],
   "source": [
    "all_top[all_top.KNN_dirty > all_top.KNN_1]"
   ],
   "metadata": {
    "collapsed": false
   }
  },
  {
   "cell_type": "code",
   "execution_count": 43,
   "outputs": [
    {
     "data": {
      "text/plain": "        dimension_1   dimension_2            imp_1                     imp_2  \\\n0      completeness      accuracy  impute_standard             impute_random   \n7      completeness      accuracy  impute_standard               impute_mean   \n20         accuracy  completeness    impute_median                impute_knn   \n40     completeness      accuracy      impute_mice  impute_linear_regression   \n65     completeness      accuracy  impute_standard             impute_median   \n...             ...           ...              ...                       ...   \n34905  completeness      accuracy      impute_mean             impute_random   \n34932  completeness      accuracy  impute_standard               impute_mice   \n34933  completeness      accuracy    impute_median             impute_random   \n34943  completeness      accuracy  impute_standard             impute_random   \n34998  completeness      accuracy  impute_standard                impute_knn   \n\n                          imp_3            imp_col_1            imp_col_2  \\\n0                   impute_mice  AtmosphericPressure        Precipitation   \n7                 impute_cmeans  AtmosphericPressure        Precipitation   \n20                  impute_mice        Precipitation          Temperature   \n40                impute_cmeans        Precipitation  AtmosphericPressure   \n65                impute_random  AtmosphericPressure          Temperature   \n...                         ...                  ...                  ...   \n34905                impute_knn        Precipitation          Temperature   \n34932  impute_linear_regression  AtmosphericPressure          Temperature   \n34933               impute_mice  AtmosphericPressure          Temperature   \n34943             impute_cmeans        Precipitation          Temperature   \n34998      impute_random_forest        Precipitation          Temperature   \n\n                 imp_col_3  od_1  od_2  ...                  od_imp_3  \\\n0              Temperature  PERC   KNN  ...      impute_random_forest   \n7              Temperature   ISO  PERC  ...             impute_cmeans   \n20     AtmosphericPressure   ISO   STD  ...               impute_mice   \n40             Temperature   ISO   STD  ...                impute_knn   \n65           Precipitation   ISO  PERC  ...             impute_cmeans   \n...                    ...   ...   ...  ...                       ...   \n34905  AtmosphericPressure   ISO  PERC  ...  impute_linear_regression   \n34932        Precipitation   IQR  PERC  ...      impute_random_forest   \n34933        Precipitation   IQR   ISO  ...             impute_random   \n34943  AtmosphericPressure   IQR  PERC  ...  impute_linear_regression   \n34998  AtmosphericPressure   ISO   ZSB  ...  impute_linear_regression   \n\n              od_imp_col_1         od_imp_col_2         od_imp_col_3 quality  \\\n0              Temperature        Precipitation  AtmosphericPressure      80   \n7            Precipitation  AtmosphericPressure          Temperature      80   \n20     AtmosphericPressure          Temperature        Precipitation      80   \n40           Precipitation  AtmosphericPressure          Temperature      80   \n65             Temperature  AtmosphericPressure        Precipitation      80   \n...                    ...                  ...                  ...     ...   \n34905          Temperature  AtmosphericPressure        Precipitation      80   \n34932        Precipitation  AtmosphericPressure          Temperature      80   \n34933          Temperature        Precipitation  AtmosphericPressure      80   \n34943        Precipitation  AtmosphericPressure          Temperature      80   \n34998        Precipitation          Temperature  AtmosphericPressure      80   \n\n      algorithm KNN_dirty     KNN_1     KNN_2  suggested  \n0           NaN  0.716698  0.707465  0.711414         NO  \n7           NaN  0.716698  0.713361  0.724072         NO  \n20          NaN  0.716698  0.709226  0.705548         NO  \n40          NaN  0.716698  0.712851  0.710096         NO  \n65          NaN  0.716698  0.707077  0.725599         NO  \n...         ...       ...       ...       ...        ...  \n34905       NaN  0.716698  0.698615  0.690160         NO  \n34932       NaN  0.716698  0.714736  0.728976         NO  \n34933       NaN  0.716698  0.703024  0.724250         NO  \n34943       NaN  0.716698  0.705286  0.707925         NO  \n34998       NaN  0.716698  0.708279  0.732010         NO  \n\n[2075 rows x 23 columns]",
      "text/html": "<div>\n<style scoped>\n    .dataframe tbody tr th:only-of-type {\n        vertical-align: middle;\n    }\n\n    .dataframe tbody tr th {\n        vertical-align: top;\n    }\n\n    .dataframe thead th {\n        text-align: right;\n    }\n</style>\n<table border=\"1\" class=\"dataframe\">\n  <thead>\n    <tr style=\"text-align: right;\">\n      <th></th>\n      <th>dimension_1</th>\n      <th>dimension_2</th>\n      <th>imp_1</th>\n      <th>imp_2</th>\n      <th>imp_3</th>\n      <th>imp_col_1</th>\n      <th>imp_col_2</th>\n      <th>imp_col_3</th>\n      <th>od_1</th>\n      <th>od_2</th>\n      <th>...</th>\n      <th>od_imp_3</th>\n      <th>od_imp_col_1</th>\n      <th>od_imp_col_2</th>\n      <th>od_imp_col_3</th>\n      <th>quality</th>\n      <th>algorithm</th>\n      <th>KNN_dirty</th>\n      <th>KNN_1</th>\n      <th>KNN_2</th>\n      <th>suggested</th>\n    </tr>\n  </thead>\n  <tbody>\n    <tr>\n      <th>0</th>\n      <td>completeness</td>\n      <td>accuracy</td>\n      <td>impute_standard</td>\n      <td>impute_random</td>\n      <td>impute_mice</td>\n      <td>AtmosphericPressure</td>\n      <td>Precipitation</td>\n      <td>Temperature</td>\n      <td>PERC</td>\n      <td>KNN</td>\n      <td>...</td>\n      <td>impute_random_forest</td>\n      <td>Temperature</td>\n      <td>Precipitation</td>\n      <td>AtmosphericPressure</td>\n      <td>80</td>\n      <td>NaN</td>\n      <td>0.716698</td>\n      <td>0.707465</td>\n      <td>0.711414</td>\n      <td>NO</td>\n    </tr>\n    <tr>\n      <th>7</th>\n      <td>completeness</td>\n      <td>accuracy</td>\n      <td>impute_standard</td>\n      <td>impute_mean</td>\n      <td>impute_cmeans</td>\n      <td>AtmosphericPressure</td>\n      <td>Precipitation</td>\n      <td>Temperature</td>\n      <td>ISO</td>\n      <td>PERC</td>\n      <td>...</td>\n      <td>impute_cmeans</td>\n      <td>Precipitation</td>\n      <td>AtmosphericPressure</td>\n      <td>Temperature</td>\n      <td>80</td>\n      <td>NaN</td>\n      <td>0.716698</td>\n      <td>0.713361</td>\n      <td>0.724072</td>\n      <td>NO</td>\n    </tr>\n    <tr>\n      <th>20</th>\n      <td>accuracy</td>\n      <td>completeness</td>\n      <td>impute_median</td>\n      <td>impute_knn</td>\n      <td>impute_mice</td>\n      <td>Precipitation</td>\n      <td>Temperature</td>\n      <td>AtmosphericPressure</td>\n      <td>ISO</td>\n      <td>STD</td>\n      <td>...</td>\n      <td>impute_mice</td>\n      <td>AtmosphericPressure</td>\n      <td>Temperature</td>\n      <td>Precipitation</td>\n      <td>80</td>\n      <td>NaN</td>\n      <td>0.716698</td>\n      <td>0.709226</td>\n      <td>0.705548</td>\n      <td>NO</td>\n    </tr>\n    <tr>\n      <th>40</th>\n      <td>completeness</td>\n      <td>accuracy</td>\n      <td>impute_mice</td>\n      <td>impute_linear_regression</td>\n      <td>impute_cmeans</td>\n      <td>Precipitation</td>\n      <td>AtmosphericPressure</td>\n      <td>Temperature</td>\n      <td>ISO</td>\n      <td>STD</td>\n      <td>...</td>\n      <td>impute_knn</td>\n      <td>Precipitation</td>\n      <td>AtmosphericPressure</td>\n      <td>Temperature</td>\n      <td>80</td>\n      <td>NaN</td>\n      <td>0.716698</td>\n      <td>0.712851</td>\n      <td>0.710096</td>\n      <td>NO</td>\n    </tr>\n    <tr>\n      <th>65</th>\n      <td>completeness</td>\n      <td>accuracy</td>\n      <td>impute_standard</td>\n      <td>impute_median</td>\n      <td>impute_random</td>\n      <td>AtmosphericPressure</td>\n      <td>Temperature</td>\n      <td>Precipitation</td>\n      <td>ISO</td>\n      <td>PERC</td>\n      <td>...</td>\n      <td>impute_cmeans</td>\n      <td>Temperature</td>\n      <td>AtmosphericPressure</td>\n      <td>Precipitation</td>\n      <td>80</td>\n      <td>NaN</td>\n      <td>0.716698</td>\n      <td>0.707077</td>\n      <td>0.725599</td>\n      <td>NO</td>\n    </tr>\n    <tr>\n      <th>...</th>\n      <td>...</td>\n      <td>...</td>\n      <td>...</td>\n      <td>...</td>\n      <td>...</td>\n      <td>...</td>\n      <td>...</td>\n      <td>...</td>\n      <td>...</td>\n      <td>...</td>\n      <td>...</td>\n      <td>...</td>\n      <td>...</td>\n      <td>...</td>\n      <td>...</td>\n      <td>...</td>\n      <td>...</td>\n      <td>...</td>\n      <td>...</td>\n      <td>...</td>\n      <td>...</td>\n    </tr>\n    <tr>\n      <th>34905</th>\n      <td>completeness</td>\n      <td>accuracy</td>\n      <td>impute_mean</td>\n      <td>impute_random</td>\n      <td>impute_knn</td>\n      <td>Precipitation</td>\n      <td>Temperature</td>\n      <td>AtmosphericPressure</td>\n      <td>ISO</td>\n      <td>PERC</td>\n      <td>...</td>\n      <td>impute_linear_regression</td>\n      <td>Temperature</td>\n      <td>AtmosphericPressure</td>\n      <td>Precipitation</td>\n      <td>80</td>\n      <td>NaN</td>\n      <td>0.716698</td>\n      <td>0.698615</td>\n      <td>0.690160</td>\n      <td>NO</td>\n    </tr>\n    <tr>\n      <th>34932</th>\n      <td>completeness</td>\n      <td>accuracy</td>\n      <td>impute_standard</td>\n      <td>impute_mice</td>\n      <td>impute_linear_regression</td>\n      <td>AtmosphericPressure</td>\n      <td>Temperature</td>\n      <td>Precipitation</td>\n      <td>IQR</td>\n      <td>PERC</td>\n      <td>...</td>\n      <td>impute_random_forest</td>\n      <td>Precipitation</td>\n      <td>AtmosphericPressure</td>\n      <td>Temperature</td>\n      <td>80</td>\n      <td>NaN</td>\n      <td>0.716698</td>\n      <td>0.714736</td>\n      <td>0.728976</td>\n      <td>NO</td>\n    </tr>\n    <tr>\n      <th>34933</th>\n      <td>completeness</td>\n      <td>accuracy</td>\n      <td>impute_median</td>\n      <td>impute_random</td>\n      <td>impute_mice</td>\n      <td>AtmosphericPressure</td>\n      <td>Temperature</td>\n      <td>Precipitation</td>\n      <td>IQR</td>\n      <td>ISO</td>\n      <td>...</td>\n      <td>impute_random</td>\n      <td>Temperature</td>\n      <td>Precipitation</td>\n      <td>AtmosphericPressure</td>\n      <td>80</td>\n      <td>NaN</td>\n      <td>0.716698</td>\n      <td>0.703024</td>\n      <td>0.724250</td>\n      <td>NO</td>\n    </tr>\n    <tr>\n      <th>34943</th>\n      <td>completeness</td>\n      <td>accuracy</td>\n      <td>impute_standard</td>\n      <td>impute_random</td>\n      <td>impute_cmeans</td>\n      <td>Precipitation</td>\n      <td>Temperature</td>\n      <td>AtmosphericPressure</td>\n      <td>IQR</td>\n      <td>PERC</td>\n      <td>...</td>\n      <td>impute_linear_regression</td>\n      <td>Precipitation</td>\n      <td>AtmosphericPressure</td>\n      <td>Temperature</td>\n      <td>80</td>\n      <td>NaN</td>\n      <td>0.716698</td>\n      <td>0.705286</td>\n      <td>0.707925</td>\n      <td>NO</td>\n    </tr>\n    <tr>\n      <th>34998</th>\n      <td>completeness</td>\n      <td>accuracy</td>\n      <td>impute_standard</td>\n      <td>impute_knn</td>\n      <td>impute_random_forest</td>\n      <td>Precipitation</td>\n      <td>Temperature</td>\n      <td>AtmosphericPressure</td>\n      <td>ISO</td>\n      <td>ZSB</td>\n      <td>...</td>\n      <td>impute_linear_regression</td>\n      <td>Precipitation</td>\n      <td>Temperature</td>\n      <td>AtmosphericPressure</td>\n      <td>80</td>\n      <td>NaN</td>\n      <td>0.716698</td>\n      <td>0.708279</td>\n      <td>0.732010</td>\n      <td>NO</td>\n    </tr>\n  </tbody>\n</table>\n<p>2075 rows × 23 columns</p>\n</div>"
     },
     "execution_count": 43,
     "metadata": {},
     "output_type": "execute_result"
    }
   ],
   "source": [
    "all_bottom[all_bottom.KNN_dirty > all_bottom.KNN_1]\n"
   ],
   "metadata": {
    "collapsed": false
   }
  },
  {
   "cell_type": "code",
   "execution_count": 43,
   "outputs": [],
   "source": [
    "### quelle che hanno KKN1 minore del caso dirty sono il doppio nell'elenco delle bottom finali"
   ],
   "metadata": {
    "collapsed": false
   }
  },
  {
   "cell_type": "code",
   "execution_count": 44,
   "outputs": [
    {
     "data": {
      "text/plain": "dimension_1\ncompleteness    1195\naccuracy          21\nName: count, dtype: int64"
     },
     "execution_count": 44,
     "metadata": {},
     "output_type": "execute_result"
    }
   ],
   "source": [
    "all_top[all_top.KNN_dirty > all_top.KNN_1].dimension_1.value_counts()\n"
   ],
   "metadata": {
    "collapsed": false
   }
  },
  {
   "cell_type": "code",
   "execution_count": 45,
   "outputs": [
    {
     "data": {
      "text/plain": "dimension_1\ncompleteness    1452\naccuracy         623\nName: count, dtype: int64"
     },
     "execution_count": 45,
     "metadata": {},
     "output_type": "execute_result"
    }
   ],
   "source": [
    "all_bottom[all_bottom.KNN_dirty > all_bottom.KNN_1].dimension_1.value_counts()\n"
   ],
   "metadata": {
    "collapsed": false
   }
  },
  {
   "cell_type": "code",
   "execution_count": 46,
   "outputs": [],
   "source": [
    "### la maggio parte dei sample che hanno la prima performance (prima dimensione improvement) che scende rispetto al dirty corrispondono alla seconda dimensione del ranking. tuttavia, sono comunque nei top..."
   ],
   "metadata": {
    "collapsed": false
   }
  },
  {
   "cell_type": "code",
   "execution_count": 47,
   "outputs": [
    {
     "data": {
      "text/plain": "dimension_1\naccuracy        1421\ncompleteness    1328\nName: count, dtype: int64"
     },
     "execution_count": 47,
     "metadata": {},
     "output_type": "execute_result"
    }
   ],
   "source": [
    "all_top.dimension_1.value_counts()\n"
   ],
   "metadata": {
    "collapsed": false
   }
  },
  {
   "cell_type": "code",
   "execution_count": 51,
   "outputs": [],
   "source": [
    "### addirittura, sono quasi tutte quelle nei top in cui diminuisce la performance che hanno l'improvement della seconda dimensione del ranking per primo"
   ],
   "metadata": {
    "collapsed": false
   }
  },
  {
   "cell_type": "code",
   "execution_count": 52,
   "outputs": [
    {
     "data": {
      "text/plain": "       quality    KNN_dirty        KNN_1        KNN_2\ncount   1216.0  1216.000000  1216.000000  1216.000000\nmean      80.0     0.716698     0.709296     0.738959\nstd        0.0     0.000000     0.004941     0.011473\nmin       80.0     0.716698     0.690428     0.720042\n25%       80.0     0.716698     0.705837     0.729847\n50%       80.0     0.716698     0.709639     0.737903\n75%       80.0     0.716698     0.713434     0.746302\nmax       80.0     0.716698     0.716681     0.773918",
      "text/html": "<div>\n<style scoped>\n    .dataframe tbody tr th:only-of-type {\n        vertical-align: middle;\n    }\n\n    .dataframe tbody tr th {\n        vertical-align: top;\n    }\n\n    .dataframe thead th {\n        text-align: right;\n    }\n</style>\n<table border=\"1\" class=\"dataframe\">\n  <thead>\n    <tr style=\"text-align: right;\">\n      <th></th>\n      <th>quality</th>\n      <th>KNN_dirty</th>\n      <th>KNN_1</th>\n      <th>KNN_2</th>\n    </tr>\n  </thead>\n  <tbody>\n    <tr>\n      <th>count</th>\n      <td>1216.0</td>\n      <td>1216.000000</td>\n      <td>1216.000000</td>\n      <td>1216.000000</td>\n    </tr>\n    <tr>\n      <th>mean</th>\n      <td>80.0</td>\n      <td>0.716698</td>\n      <td>0.709296</td>\n      <td>0.738959</td>\n    </tr>\n    <tr>\n      <th>std</th>\n      <td>0.0</td>\n      <td>0.000000</td>\n      <td>0.004941</td>\n      <td>0.011473</td>\n    </tr>\n    <tr>\n      <th>min</th>\n      <td>80.0</td>\n      <td>0.716698</td>\n      <td>0.690428</td>\n      <td>0.720042</td>\n    </tr>\n    <tr>\n      <th>25%</th>\n      <td>80.0</td>\n      <td>0.716698</td>\n      <td>0.705837</td>\n      <td>0.729847</td>\n    </tr>\n    <tr>\n      <th>50%</th>\n      <td>80.0</td>\n      <td>0.716698</td>\n      <td>0.709639</td>\n      <td>0.737903</td>\n    </tr>\n    <tr>\n      <th>75%</th>\n      <td>80.0</td>\n      <td>0.716698</td>\n      <td>0.713434</td>\n      <td>0.746302</td>\n    </tr>\n    <tr>\n      <th>max</th>\n      <td>80.0</td>\n      <td>0.716698</td>\n      <td>0.716681</td>\n      <td>0.773918</td>\n    </tr>\n  </tbody>\n</table>\n</div>"
     },
     "execution_count": 52,
     "metadata": {},
     "output_type": "execute_result"
    }
   ],
   "source": [
    "all_top[all_top.KNN_dirty > all_top.KNN_1].describe()"
   ],
   "metadata": {
    "collapsed": false
   }
  },
  {
   "cell_type": "code",
   "execution_count": 53,
   "outputs": [
    {
     "data": {
      "text/plain": "       quality    KNN_dirty        KNN_1        KNN_2\ncount   1533.0  1533.000000  1533.000000  1533.000000\nmean      80.0     0.716729     0.743903     0.744614\nstd        0.0     0.000528     0.012025     0.012414\nmin       80.0     0.711746     0.716724     0.720020\n25%       80.0     0.716698     0.736558     0.735867\n50%       80.0     0.716698     0.744432     0.744691\n75%       80.0     0.716698     0.749229     0.751996\nmax       80.0     0.723630     0.774269     0.777916",
      "text/html": "<div>\n<style scoped>\n    .dataframe tbody tr th:only-of-type {\n        vertical-align: middle;\n    }\n\n    .dataframe tbody tr th {\n        vertical-align: top;\n    }\n\n    .dataframe thead th {\n        text-align: right;\n    }\n</style>\n<table border=\"1\" class=\"dataframe\">\n  <thead>\n    <tr style=\"text-align: right;\">\n      <th></th>\n      <th>quality</th>\n      <th>KNN_dirty</th>\n      <th>KNN_1</th>\n      <th>KNN_2</th>\n    </tr>\n  </thead>\n  <tbody>\n    <tr>\n      <th>count</th>\n      <td>1533.0</td>\n      <td>1533.000000</td>\n      <td>1533.000000</td>\n      <td>1533.000000</td>\n    </tr>\n    <tr>\n      <th>mean</th>\n      <td>80.0</td>\n      <td>0.716729</td>\n      <td>0.743903</td>\n      <td>0.744614</td>\n    </tr>\n    <tr>\n      <th>std</th>\n      <td>0.0</td>\n      <td>0.000528</td>\n      <td>0.012025</td>\n      <td>0.012414</td>\n    </tr>\n    <tr>\n      <th>min</th>\n      <td>80.0</td>\n      <td>0.711746</td>\n      <td>0.716724</td>\n      <td>0.720020</td>\n    </tr>\n    <tr>\n      <th>25%</th>\n      <td>80.0</td>\n      <td>0.716698</td>\n      <td>0.736558</td>\n      <td>0.735867</td>\n    </tr>\n    <tr>\n      <th>50%</th>\n      <td>80.0</td>\n      <td>0.716698</td>\n      <td>0.744432</td>\n      <td>0.744691</td>\n    </tr>\n    <tr>\n      <th>75%</th>\n      <td>80.0</td>\n      <td>0.716698</td>\n      <td>0.749229</td>\n      <td>0.751996</td>\n    </tr>\n    <tr>\n      <th>max</th>\n      <td>80.0</td>\n      <td>0.723630</td>\n      <td>0.774269</td>\n      <td>0.777916</td>\n    </tr>\n  </tbody>\n</table>\n</div>"
     },
     "execution_count": 53,
     "metadata": {},
     "output_type": "execute_result"
    }
   ],
   "source": [
    "all_top[all_top.KNN_dirty < all_top.KNN_1].describe()"
   ],
   "metadata": {
    "collapsed": false
   }
  },
  {
   "cell_type": "code",
   "execution_count": 54,
   "outputs": [],
   "source": [
    "### come previsto, il salto avviene comunque!\n",
    "### semplicemente il 75 percentile nel caso KNN_dirty < KNN_1 è un pochino più basso\n",
    "### non so se azzarderei euristiche in questo senso, e la prima performance dopo la prima dimensione è l'unico valore che possiamo confrontare per fare pruning!!!\n",
    "### non sarebbe meglio optare per un sample casuale ??? scelgo le tuple che sono meno similari, qualcosa del genere?"
   ],
   "metadata": {
    "collapsed": false
   }
  },
  {
   "cell_type": "code",
   "execution_count": null,
   "outputs": [],
   "source": [],
   "metadata": {
    "collapsed": false
   }
  },
  {
   "cell_type": "code",
   "execution_count": null,
   "outputs": [],
   "source": [],
   "metadata": {
    "collapsed": false
   }
  },
  {
   "cell_type": "code",
   "execution_count": null,
   "outputs": [],
   "source": [
    "# altro problema: c'è un grosso problema negli alberi (DT, RF, ADABOOST)\n",
    "# le performance del dato sporco sono più alte di quello pulito, inoltre, sono sotto le performance originali...\n",
    "# non mi sembrano faked, penso solo che il dataset sia abbastanza grande per permettere all'algoritmo di non essere influenzato dagli errori\n",
    "# il secondo dataset della validazione deve essere più piccolo\n"
   ],
   "metadata": {
    "collapsed": false
   }
  }
 ],
 "metadata": {
  "kernelspec": {
   "display_name": "Python 3",
   "language": "python",
   "name": "python3"
  },
  "language_info": {
   "codemirror_mode": {
    "name": "ipython",
    "version": 2
   },
   "file_extension": ".py",
   "mimetype": "text/x-python",
   "name": "python",
   "nbconvert_exporter": "python",
   "pygments_lexer": "ipython2",
   "version": "2.7.6"
  }
 },
 "nbformat": 4,
 "nbformat_minor": 0
}
