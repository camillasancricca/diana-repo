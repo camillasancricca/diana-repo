{
 "cells": [
  {
   "cell_type": "code",
   "execution_count": 1,
   "outputs": [],
   "source": [
    "import numpy as np\n",
    "import pandas as pd\n",
    "import matplotlib.pyplot as plt"
   ],
   "metadata": {
    "collapsed": false
   }
  },
  {
   "cell_type": "code",
   "execution_count": 2,
   "outputs": [],
   "source": [
    "algorithm = 'KNN'"
   ],
   "metadata": {
    "collapsed": false
   }
  },
  {
   "cell_type": "code",
   "execution_count": 3,
   "outputs": [],
   "source": [
    "suggested = pd.read_csv('compiled_schedule_suggested.csv')\n",
    "sample = pd.read_csv('compiled_sample_schedule.csv')\n",
    "sample = sample[sample.quality > 69]\n",
    "perc_quality = [70, 75, 80, 85, 90, 95]\n",
    "# %%\n",
    "suggested = suggested[suggested.algorithm == algorithm]\n",
    "# %%\n",
    "sample = sample[['dimension_1', 'dimension_2', 'imp_1', 'imp_2', 'imp_3', 'imp_col_1',\n",
    "                 'imp_col_2', 'imp_col_3', 'od_1', 'od_2', 'od_3', 'od_imp_1',\n",
    "                 'od_imp_2', 'od_imp_3', 'od_imp_col_1', 'od_imp_col_2', 'od_imp_col_3',\n",
    "                 'quality', algorithm+'_dirty', algorithm+'_1', algorithm+'_2']]"
   ],
   "metadata": {
    "collapsed": false
   }
  },
  {
   "cell_type": "code",
   "execution_count": 4,
   "outputs": [],
   "source": [
    "temp_suggested = suggested.copy()\n",
    "temp_suggested = temp_suggested.rename(columns={'perf_dirty':'KNN_dirty','perf_1':'KNN_1','perf_2':'KNN_2'})\n",
    "temp_suggested['suggested'] = 'YES'\n",
    "sample['suggested'] = 'NO'\n",
    "all = pd.concat([temp_suggested, sample])"
   ],
   "metadata": {
    "collapsed": false
   }
  },
  {
   "cell_type": "code",
   "execution_count": 5,
   "outputs": [
    {
     "data": {
      "text/plain": "        dimension_1   dimension_2            imp_1                 imp_2  \\\n12         accuracy  completeness    impute_median         impute_median   \n13         accuracy  completeness    impute_median         impute_median   \n14         accuracy  completeness    impute_median         impute_median   \n15         accuracy  completeness    impute_median         impute_median   \n16         accuracy  completeness    impute_median         impute_median   \n...             ...           ...              ...                   ...   \n34993  completeness      accuracy      impute_mean         impute_median   \n34995  completeness      accuracy  impute_standard  impute_random_forest   \n34996      accuracy  completeness    impute_median  impute_random_forest   \n34997  completeness      accuracy  impute_standard         impute_random   \n34998  completeness      accuracy  impute_standard            impute_knn   \n\n                          imp_3            imp_col_1            imp_col_2  \\\n12                impute_median          Temperature        Precipitation   \n13                impute_median          Temperature        Precipitation   \n14                impute_median          Temperature        Precipitation   \n15                impute_median          Temperature        Precipitation   \n16                impute_median          Temperature        Precipitation   \n...                         ...                  ...                  ...   \n34993  impute_linear_regression          Temperature  AtmosphericPressure   \n34995             impute_cmeans        Precipitation          Temperature   \n34996             impute_cmeans          Temperature  AtmosphericPressure   \n34997                impute_knn  AtmosphericPressure        Precipitation   \n34998      impute_random_forest        Precipitation          Temperature   \n\n                 imp_col_3 od_1  od_2  ...                  od_imp_3  \\\n12     AtmosphericPressure  IQR   ZSB  ...             impute_median   \n13     AtmosphericPressure  IQR   ZSB  ...             impute_median   \n14     AtmosphericPressure  IQR   ZSB  ...             impute_median   \n15     AtmosphericPressure  IQR   ZSB  ...             impute_median   \n16     AtmosphericPressure  IQR   ZSB  ...             impute_median   \n...                    ...  ...   ...  ...                       ...   \n34993        Precipitation  IQR   ISO  ...             impute_cmeans   \n34995  AtmosphericPressure  IQR   STD  ...      impute_random_forest   \n34996        Precipitation  ISO  PERC  ...             impute_cmeans   \n34997          Temperature  IQR   ZSB  ...               impute_mice   \n34998  AtmosphericPressure  ISO   ZSB  ...  impute_linear_regression   \n\n              od_imp_col_1         od_imp_col_2         od_imp_col_3 quality  \\\n12             Temperature        Precipitation  AtmosphericPressure      70   \n13             Temperature  AtmosphericPressure        Precipitation      70   \n14           Precipitation          Temperature  AtmosphericPressure      70   \n15           Precipitation  AtmosphericPressure          Temperature      70   \n16     AtmosphericPressure          Temperature        Precipitation      70   \n...                    ...                  ...                  ...     ...   \n34993        Precipitation          Temperature  AtmosphericPressure      75   \n34995  AtmosphericPressure        Precipitation          Temperature      70   \n34996          Temperature        Precipitation  AtmosphericPressure      80   \n34997        Precipitation          Temperature  AtmosphericPressure      90   \n34998        Precipitation          Temperature  AtmosphericPressure      80   \n\n      algorithm KNN_dirty     KNN_1     KNN_2  suggested  \n12          KNN  0.653300  0.717150  0.721481        YES  \n13          KNN  0.655213  0.724908  0.715391        YES  \n14          KNN  0.654931  0.721517  0.720514        YES  \n15          KNN  0.648571  0.724926  0.715429        YES  \n16          KNN  0.649740  0.718260  0.723854        YES  \n...         ...       ...       ...       ...        ...  \n34993       NaN  0.679731  0.685607  0.723121         NO  \n34995       NaN  0.651310  0.647660  0.672976         NO  \n34996       NaN  0.716698  0.743602  0.741194         NO  \n34997       NaN  0.779934  0.777634  0.787718         NO  \n34998       NaN  0.716698  0.708279  0.732010         NO  \n\n[26399 rows x 23 columns]",
      "text/html": "<div>\n<style scoped>\n    .dataframe tbody tr th:only-of-type {\n        vertical-align: middle;\n    }\n\n    .dataframe tbody tr th {\n        vertical-align: top;\n    }\n\n    .dataframe thead th {\n        text-align: right;\n    }\n</style>\n<table border=\"1\" class=\"dataframe\">\n  <thead>\n    <tr style=\"text-align: right;\">\n      <th></th>\n      <th>dimension_1</th>\n      <th>dimension_2</th>\n      <th>imp_1</th>\n      <th>imp_2</th>\n      <th>imp_3</th>\n      <th>imp_col_1</th>\n      <th>imp_col_2</th>\n      <th>imp_col_3</th>\n      <th>od_1</th>\n      <th>od_2</th>\n      <th>...</th>\n      <th>od_imp_3</th>\n      <th>od_imp_col_1</th>\n      <th>od_imp_col_2</th>\n      <th>od_imp_col_3</th>\n      <th>quality</th>\n      <th>algorithm</th>\n      <th>KNN_dirty</th>\n      <th>KNN_1</th>\n      <th>KNN_2</th>\n      <th>suggested</th>\n    </tr>\n  </thead>\n  <tbody>\n    <tr>\n      <th>12</th>\n      <td>accuracy</td>\n      <td>completeness</td>\n      <td>impute_median</td>\n      <td>impute_median</td>\n      <td>impute_median</td>\n      <td>Temperature</td>\n      <td>Precipitation</td>\n      <td>AtmosphericPressure</td>\n      <td>IQR</td>\n      <td>ZSB</td>\n      <td>...</td>\n      <td>impute_median</td>\n      <td>Temperature</td>\n      <td>Precipitation</td>\n      <td>AtmosphericPressure</td>\n      <td>70</td>\n      <td>KNN</td>\n      <td>0.653300</td>\n      <td>0.717150</td>\n      <td>0.721481</td>\n      <td>YES</td>\n    </tr>\n    <tr>\n      <th>13</th>\n      <td>accuracy</td>\n      <td>completeness</td>\n      <td>impute_median</td>\n      <td>impute_median</td>\n      <td>impute_median</td>\n      <td>Temperature</td>\n      <td>Precipitation</td>\n      <td>AtmosphericPressure</td>\n      <td>IQR</td>\n      <td>ZSB</td>\n      <td>...</td>\n      <td>impute_median</td>\n      <td>Temperature</td>\n      <td>AtmosphericPressure</td>\n      <td>Precipitation</td>\n      <td>70</td>\n      <td>KNN</td>\n      <td>0.655213</td>\n      <td>0.724908</td>\n      <td>0.715391</td>\n      <td>YES</td>\n    </tr>\n    <tr>\n      <th>14</th>\n      <td>accuracy</td>\n      <td>completeness</td>\n      <td>impute_median</td>\n      <td>impute_median</td>\n      <td>impute_median</td>\n      <td>Temperature</td>\n      <td>Precipitation</td>\n      <td>AtmosphericPressure</td>\n      <td>IQR</td>\n      <td>ZSB</td>\n      <td>...</td>\n      <td>impute_median</td>\n      <td>Precipitation</td>\n      <td>Temperature</td>\n      <td>AtmosphericPressure</td>\n      <td>70</td>\n      <td>KNN</td>\n      <td>0.654931</td>\n      <td>0.721517</td>\n      <td>0.720514</td>\n      <td>YES</td>\n    </tr>\n    <tr>\n      <th>15</th>\n      <td>accuracy</td>\n      <td>completeness</td>\n      <td>impute_median</td>\n      <td>impute_median</td>\n      <td>impute_median</td>\n      <td>Temperature</td>\n      <td>Precipitation</td>\n      <td>AtmosphericPressure</td>\n      <td>IQR</td>\n      <td>ZSB</td>\n      <td>...</td>\n      <td>impute_median</td>\n      <td>Precipitation</td>\n      <td>AtmosphericPressure</td>\n      <td>Temperature</td>\n      <td>70</td>\n      <td>KNN</td>\n      <td>0.648571</td>\n      <td>0.724926</td>\n      <td>0.715429</td>\n      <td>YES</td>\n    </tr>\n    <tr>\n      <th>16</th>\n      <td>accuracy</td>\n      <td>completeness</td>\n      <td>impute_median</td>\n      <td>impute_median</td>\n      <td>impute_median</td>\n      <td>Temperature</td>\n      <td>Precipitation</td>\n      <td>AtmosphericPressure</td>\n      <td>IQR</td>\n      <td>ZSB</td>\n      <td>...</td>\n      <td>impute_median</td>\n      <td>AtmosphericPressure</td>\n      <td>Temperature</td>\n      <td>Precipitation</td>\n      <td>70</td>\n      <td>KNN</td>\n      <td>0.649740</td>\n      <td>0.718260</td>\n      <td>0.723854</td>\n      <td>YES</td>\n    </tr>\n    <tr>\n      <th>...</th>\n      <td>...</td>\n      <td>...</td>\n      <td>...</td>\n      <td>...</td>\n      <td>...</td>\n      <td>...</td>\n      <td>...</td>\n      <td>...</td>\n      <td>...</td>\n      <td>...</td>\n      <td>...</td>\n      <td>...</td>\n      <td>...</td>\n      <td>...</td>\n      <td>...</td>\n      <td>...</td>\n      <td>...</td>\n      <td>...</td>\n      <td>...</td>\n      <td>...</td>\n      <td>...</td>\n    </tr>\n    <tr>\n      <th>34993</th>\n      <td>completeness</td>\n      <td>accuracy</td>\n      <td>impute_mean</td>\n      <td>impute_median</td>\n      <td>impute_linear_regression</td>\n      <td>Temperature</td>\n      <td>AtmosphericPressure</td>\n      <td>Precipitation</td>\n      <td>IQR</td>\n      <td>ISO</td>\n      <td>...</td>\n      <td>impute_cmeans</td>\n      <td>Precipitation</td>\n      <td>Temperature</td>\n      <td>AtmosphericPressure</td>\n      <td>75</td>\n      <td>NaN</td>\n      <td>0.679731</td>\n      <td>0.685607</td>\n      <td>0.723121</td>\n      <td>NO</td>\n    </tr>\n    <tr>\n      <th>34995</th>\n      <td>completeness</td>\n      <td>accuracy</td>\n      <td>impute_standard</td>\n      <td>impute_random_forest</td>\n      <td>impute_cmeans</td>\n      <td>Precipitation</td>\n      <td>Temperature</td>\n      <td>AtmosphericPressure</td>\n      <td>IQR</td>\n      <td>STD</td>\n      <td>...</td>\n      <td>impute_random_forest</td>\n      <td>AtmosphericPressure</td>\n      <td>Precipitation</td>\n      <td>Temperature</td>\n      <td>70</td>\n      <td>NaN</td>\n      <td>0.651310</td>\n      <td>0.647660</td>\n      <td>0.672976</td>\n      <td>NO</td>\n    </tr>\n    <tr>\n      <th>34996</th>\n      <td>accuracy</td>\n      <td>completeness</td>\n      <td>impute_median</td>\n      <td>impute_random_forest</td>\n      <td>impute_cmeans</td>\n      <td>Temperature</td>\n      <td>AtmosphericPressure</td>\n      <td>Precipitation</td>\n      <td>ISO</td>\n      <td>PERC</td>\n      <td>...</td>\n      <td>impute_cmeans</td>\n      <td>Temperature</td>\n      <td>Precipitation</td>\n      <td>AtmosphericPressure</td>\n      <td>80</td>\n      <td>NaN</td>\n      <td>0.716698</td>\n      <td>0.743602</td>\n      <td>0.741194</td>\n      <td>NO</td>\n    </tr>\n    <tr>\n      <th>34997</th>\n      <td>completeness</td>\n      <td>accuracy</td>\n      <td>impute_standard</td>\n      <td>impute_random</td>\n      <td>impute_knn</td>\n      <td>AtmosphericPressure</td>\n      <td>Precipitation</td>\n      <td>Temperature</td>\n      <td>IQR</td>\n      <td>ZSB</td>\n      <td>...</td>\n      <td>impute_mice</td>\n      <td>Precipitation</td>\n      <td>Temperature</td>\n      <td>AtmosphericPressure</td>\n      <td>90</td>\n      <td>NaN</td>\n      <td>0.779934</td>\n      <td>0.777634</td>\n      <td>0.787718</td>\n      <td>NO</td>\n    </tr>\n    <tr>\n      <th>34998</th>\n      <td>completeness</td>\n      <td>accuracy</td>\n      <td>impute_standard</td>\n      <td>impute_knn</td>\n      <td>impute_random_forest</td>\n      <td>Precipitation</td>\n      <td>Temperature</td>\n      <td>AtmosphericPressure</td>\n      <td>ISO</td>\n      <td>ZSB</td>\n      <td>...</td>\n      <td>impute_linear_regression</td>\n      <td>Precipitation</td>\n      <td>Temperature</td>\n      <td>AtmosphericPressure</td>\n      <td>80</td>\n      <td>NaN</td>\n      <td>0.716698</td>\n      <td>0.708279</td>\n      <td>0.732010</td>\n      <td>NO</td>\n    </tr>\n  </tbody>\n</table>\n<p>26399 rows × 23 columns</p>\n</div>"
     },
     "execution_count": 5,
     "metadata": {},
     "output_type": "execute_result"
    }
   ],
   "source": [
    "all"
   ],
   "metadata": {
    "collapsed": false
   }
  },
  {
   "cell_type": "code",
   "execution_count": 6,
   "outputs": [
    {
     "data": {
      "text/plain": "            quality     KNN_dirty         KNN_1         KNN_2\ncount  26399.000000  26399.000000  26399.000000  26399.000000\nmean      82.557673      0.730067      0.737611      0.740461\nstd        8.539351      0.054046      0.051793      0.049426\nmin       70.000000      0.646244      0.626130      0.599243\n25%       75.000000      0.679731      0.698348      0.703497\n50%       85.000000      0.743080      0.740860      0.741500\n75%       90.000000      0.779934      0.780521      0.780716\nmax       95.000000      0.814438      0.839995      0.845174",
      "text/html": "<div>\n<style scoped>\n    .dataframe tbody tr th:only-of-type {\n        vertical-align: middle;\n    }\n\n    .dataframe tbody tr th {\n        vertical-align: top;\n    }\n\n    .dataframe thead th {\n        text-align: right;\n    }\n</style>\n<table border=\"1\" class=\"dataframe\">\n  <thead>\n    <tr style=\"text-align: right;\">\n      <th></th>\n      <th>quality</th>\n      <th>KNN_dirty</th>\n      <th>KNN_1</th>\n      <th>KNN_2</th>\n    </tr>\n  </thead>\n  <tbody>\n    <tr>\n      <th>count</th>\n      <td>26399.000000</td>\n      <td>26399.000000</td>\n      <td>26399.000000</td>\n      <td>26399.000000</td>\n    </tr>\n    <tr>\n      <th>mean</th>\n      <td>82.557673</td>\n      <td>0.730067</td>\n      <td>0.737611</td>\n      <td>0.740461</td>\n    </tr>\n    <tr>\n      <th>std</th>\n      <td>8.539351</td>\n      <td>0.054046</td>\n      <td>0.051793</td>\n      <td>0.049426</td>\n    </tr>\n    <tr>\n      <th>min</th>\n      <td>70.000000</td>\n      <td>0.646244</td>\n      <td>0.626130</td>\n      <td>0.599243</td>\n    </tr>\n    <tr>\n      <th>25%</th>\n      <td>75.000000</td>\n      <td>0.679731</td>\n      <td>0.698348</td>\n      <td>0.703497</td>\n    </tr>\n    <tr>\n      <th>50%</th>\n      <td>85.000000</td>\n      <td>0.743080</td>\n      <td>0.740860</td>\n      <td>0.741500</td>\n    </tr>\n    <tr>\n      <th>75%</th>\n      <td>90.000000</td>\n      <td>0.779934</td>\n      <td>0.780521</td>\n      <td>0.780716</td>\n    </tr>\n    <tr>\n      <th>max</th>\n      <td>95.000000</td>\n      <td>0.814438</td>\n      <td>0.839995</td>\n      <td>0.845174</td>\n    </tr>\n  </tbody>\n</table>\n</div>"
     },
     "execution_count": 6,
     "metadata": {},
     "output_type": "execute_result"
    }
   ],
   "source": [
    "all.describe()\n"
   ],
   "metadata": {
    "collapsed": false
   }
  },
  {
   "cell_type": "code",
   "execution_count": 7,
   "outputs": [],
   "source": [
    "all_80 = all[all.quality == 80].copy()"
   ],
   "metadata": {
    "collapsed": false
   }
  },
  {
   "cell_type": "code",
   "execution_count": 8,
   "outputs": [
    {
     "data": {
      "text/plain": "       quality    KNN_dirty        KNN_1        KNN_2\ncount   4397.0  4397.000000  4397.000000  4397.000000\nmean      80.0     0.716709     0.721648     0.728192\nstd        0.0     0.000312     0.019290     0.021535\nmin       80.0     0.711746     0.690428     0.659327\n25%       80.0     0.716698     0.707521     0.711444\n50%       80.0     0.716698     0.713605     0.730607\n75%       80.0     0.716698     0.742215     0.744969\nmax       80.0     0.723630     0.774269     0.777916",
      "text/html": "<div>\n<style scoped>\n    .dataframe tbody tr th:only-of-type {\n        vertical-align: middle;\n    }\n\n    .dataframe tbody tr th {\n        vertical-align: top;\n    }\n\n    .dataframe thead th {\n        text-align: right;\n    }\n</style>\n<table border=\"1\" class=\"dataframe\">\n  <thead>\n    <tr style=\"text-align: right;\">\n      <th></th>\n      <th>quality</th>\n      <th>KNN_dirty</th>\n      <th>KNN_1</th>\n      <th>KNN_2</th>\n    </tr>\n  </thead>\n  <tbody>\n    <tr>\n      <th>count</th>\n      <td>4397.0</td>\n      <td>4397.000000</td>\n      <td>4397.000000</td>\n      <td>4397.000000</td>\n    </tr>\n    <tr>\n      <th>mean</th>\n      <td>80.0</td>\n      <td>0.716709</td>\n      <td>0.721648</td>\n      <td>0.728192</td>\n    </tr>\n    <tr>\n      <th>std</th>\n      <td>0.0</td>\n      <td>0.000312</td>\n      <td>0.019290</td>\n      <td>0.021535</td>\n    </tr>\n    <tr>\n      <th>min</th>\n      <td>80.0</td>\n      <td>0.711746</td>\n      <td>0.690428</td>\n      <td>0.659327</td>\n    </tr>\n    <tr>\n      <th>25%</th>\n      <td>80.0</td>\n      <td>0.716698</td>\n      <td>0.707521</td>\n      <td>0.711444</td>\n    </tr>\n    <tr>\n      <th>50%</th>\n      <td>80.0</td>\n      <td>0.716698</td>\n      <td>0.713605</td>\n      <td>0.730607</td>\n    </tr>\n    <tr>\n      <th>75%</th>\n      <td>80.0</td>\n      <td>0.716698</td>\n      <td>0.742215</td>\n      <td>0.744969</td>\n    </tr>\n    <tr>\n      <th>max</th>\n      <td>80.0</td>\n      <td>0.723630</td>\n      <td>0.774269</td>\n      <td>0.777916</td>\n    </tr>\n  </tbody>\n</table>\n</div>"
     },
     "execution_count": 8,
     "metadata": {},
     "output_type": "execute_result"
    }
   ],
   "source": [
    "all_80.describe()\n"
   ],
   "metadata": {
    "collapsed": false
   }
  },
  {
   "cell_type": "code",
   "execution_count": 9,
   "outputs": [
    {
     "data": {
      "text/plain": "        dimension_1   dimension_2            imp_1                     imp_2  \\\n444        accuracy  completeness    impute_median             impute_median   \n445        accuracy  completeness    impute_median             impute_median   \n446        accuracy  completeness    impute_median             impute_median   \n448        accuracy  completeness    impute_median             impute_median   \n449        accuracy  completeness    impute_median             impute_median   \n...             ...           ...              ...                       ...   \n33702      accuracy  completeness  impute_standard  impute_linear_regression   \n33763      accuracy  completeness       impute_knn               impute_mice   \n34103      accuracy  completeness  impute_standard                impute_knn   \n34329  completeness      accuracy      impute_mice  impute_linear_regression   \n34826      accuracy  completeness  impute_standard               impute_mean   \n\n                          imp_3            imp_col_1            imp_col_2  \\\n444               impute_median          Temperature        Precipitation   \n445               impute_median          Temperature        Precipitation   \n446               impute_median          Temperature        Precipitation   \n448               impute_median          Temperature        Precipitation   \n449               impute_median          Temperature        Precipitation   \n...                         ...                  ...                  ...   \n33702      impute_random_forest          Temperature        Precipitation   \n33763      impute_random_forest  AtmosphericPressure        Precipitation   \n34103  impute_linear_regression        Precipitation          Temperature   \n34329             impute_cmeans  AtmosphericPressure          Temperature   \n34826      impute_random_forest        Precipitation  AtmosphericPressure   \n\n                 imp_col_3  od_1 od_2  ...                  od_imp_3  \\\n444    AtmosphericPressure   IQR  ZSB  ...             impute_median   \n445    AtmosphericPressure   IQR  ZSB  ...             impute_median   \n446    AtmosphericPressure   IQR  ZSB  ...             impute_median   \n448    AtmosphericPressure   IQR  ZSB  ...             impute_median   \n449    AtmosphericPressure   IQR  ZSB  ...             impute_median   \n...                    ...   ...  ...  ...                       ...   \n33702  AtmosphericPressure  PERC  STD  ...      impute_random_forest   \n33763          Temperature   IQR  ISO  ...  impute_linear_regression   \n34103  AtmosphericPressure   ISO  STD  ...             impute_cmeans   \n34329        Precipitation   IQR  ISO  ...                impute_knn   \n34826          Temperature   IQR  ISO  ...  impute_linear_regression   \n\n              od_imp_col_1         od_imp_col_2         od_imp_col_3 quality  \\\n444            Temperature        Precipitation  AtmosphericPressure      80   \n445            Temperature  AtmosphericPressure        Precipitation      80   \n446          Precipitation          Temperature  AtmosphericPressure      80   \n448    AtmosphericPressure          Temperature        Precipitation      80   \n449    AtmosphericPressure        Precipitation          Temperature      80   \n...                    ...                  ...                  ...     ...   \n33702          Temperature  AtmosphericPressure        Precipitation      80   \n33763          Temperature  AtmosphericPressure        Precipitation      80   \n34103        Precipitation  AtmosphericPressure          Temperature      80   \n34329        Precipitation  AtmosphericPressure          Temperature      80   \n34826  AtmosphericPressure          Temperature        Precipitation      80   \n\n      algorithm KNN_dirty     KNN_1     KNN_2  suggested  \n444         KNN  0.712448  0.767252  0.768856        YES  \n445         KNN  0.718386  0.767231  0.766760        YES  \n446         KNN  0.717378  0.762225  0.768458        YES  \n448         KNN  0.720107  0.765502  0.766366        YES  \n449         KNN  0.715929  0.768678  0.768136        YES  \n...         ...       ...       ...       ...        ...  \n33702       NaN  0.716698  0.751303  0.764415         NO  \n33763       NaN  0.716698  0.756847  0.760007         NO  \n34103       NaN  0.716698  0.760736  0.771859         NO  \n34329       NaN  0.716698  0.714967  0.768930         NO  \n34826       NaN  0.716698  0.756847  0.764499         NO  \n\n[256 rows x 23 columns]",
      "text/html": "<div>\n<style scoped>\n    .dataframe tbody tr th:only-of-type {\n        vertical-align: middle;\n    }\n\n    .dataframe tbody tr th {\n        vertical-align: top;\n    }\n\n    .dataframe thead th {\n        text-align: right;\n    }\n</style>\n<table border=\"1\" class=\"dataframe\">\n  <thead>\n    <tr style=\"text-align: right;\">\n      <th></th>\n      <th>dimension_1</th>\n      <th>dimension_2</th>\n      <th>imp_1</th>\n      <th>imp_2</th>\n      <th>imp_3</th>\n      <th>imp_col_1</th>\n      <th>imp_col_2</th>\n      <th>imp_col_3</th>\n      <th>od_1</th>\n      <th>od_2</th>\n      <th>...</th>\n      <th>od_imp_3</th>\n      <th>od_imp_col_1</th>\n      <th>od_imp_col_2</th>\n      <th>od_imp_col_3</th>\n      <th>quality</th>\n      <th>algorithm</th>\n      <th>KNN_dirty</th>\n      <th>KNN_1</th>\n      <th>KNN_2</th>\n      <th>suggested</th>\n    </tr>\n  </thead>\n  <tbody>\n    <tr>\n      <th>444</th>\n      <td>accuracy</td>\n      <td>completeness</td>\n      <td>impute_median</td>\n      <td>impute_median</td>\n      <td>impute_median</td>\n      <td>Temperature</td>\n      <td>Precipitation</td>\n      <td>AtmosphericPressure</td>\n      <td>IQR</td>\n      <td>ZSB</td>\n      <td>...</td>\n      <td>impute_median</td>\n      <td>Temperature</td>\n      <td>Precipitation</td>\n      <td>AtmosphericPressure</td>\n      <td>80</td>\n      <td>KNN</td>\n      <td>0.712448</td>\n      <td>0.767252</td>\n      <td>0.768856</td>\n      <td>YES</td>\n    </tr>\n    <tr>\n      <th>445</th>\n      <td>accuracy</td>\n      <td>completeness</td>\n      <td>impute_median</td>\n      <td>impute_median</td>\n      <td>impute_median</td>\n      <td>Temperature</td>\n      <td>Precipitation</td>\n      <td>AtmosphericPressure</td>\n      <td>IQR</td>\n      <td>ZSB</td>\n      <td>...</td>\n      <td>impute_median</td>\n      <td>Temperature</td>\n      <td>AtmosphericPressure</td>\n      <td>Precipitation</td>\n      <td>80</td>\n      <td>KNN</td>\n      <td>0.718386</td>\n      <td>0.767231</td>\n      <td>0.766760</td>\n      <td>YES</td>\n    </tr>\n    <tr>\n      <th>446</th>\n      <td>accuracy</td>\n      <td>completeness</td>\n      <td>impute_median</td>\n      <td>impute_median</td>\n      <td>impute_median</td>\n      <td>Temperature</td>\n      <td>Precipitation</td>\n      <td>AtmosphericPressure</td>\n      <td>IQR</td>\n      <td>ZSB</td>\n      <td>...</td>\n      <td>impute_median</td>\n      <td>Precipitation</td>\n      <td>Temperature</td>\n      <td>AtmosphericPressure</td>\n      <td>80</td>\n      <td>KNN</td>\n      <td>0.717378</td>\n      <td>0.762225</td>\n      <td>0.768458</td>\n      <td>YES</td>\n    </tr>\n    <tr>\n      <th>448</th>\n      <td>accuracy</td>\n      <td>completeness</td>\n      <td>impute_median</td>\n      <td>impute_median</td>\n      <td>impute_median</td>\n      <td>Temperature</td>\n      <td>Precipitation</td>\n      <td>AtmosphericPressure</td>\n      <td>IQR</td>\n      <td>ZSB</td>\n      <td>...</td>\n      <td>impute_median</td>\n      <td>AtmosphericPressure</td>\n      <td>Temperature</td>\n      <td>Precipitation</td>\n      <td>80</td>\n      <td>KNN</td>\n      <td>0.720107</td>\n      <td>0.765502</td>\n      <td>0.766366</td>\n      <td>YES</td>\n    </tr>\n    <tr>\n      <th>449</th>\n      <td>accuracy</td>\n      <td>completeness</td>\n      <td>impute_median</td>\n      <td>impute_median</td>\n      <td>impute_median</td>\n      <td>Temperature</td>\n      <td>Precipitation</td>\n      <td>AtmosphericPressure</td>\n      <td>IQR</td>\n      <td>ZSB</td>\n      <td>...</td>\n      <td>impute_median</td>\n      <td>AtmosphericPressure</td>\n      <td>Precipitation</td>\n      <td>Temperature</td>\n      <td>80</td>\n      <td>KNN</td>\n      <td>0.715929</td>\n      <td>0.768678</td>\n      <td>0.768136</td>\n      <td>YES</td>\n    </tr>\n    <tr>\n      <th>...</th>\n      <td>...</td>\n      <td>...</td>\n      <td>...</td>\n      <td>...</td>\n      <td>...</td>\n      <td>...</td>\n      <td>...</td>\n      <td>...</td>\n      <td>...</td>\n      <td>...</td>\n      <td>...</td>\n      <td>...</td>\n      <td>...</td>\n      <td>...</td>\n      <td>...</td>\n      <td>...</td>\n      <td>...</td>\n      <td>...</td>\n      <td>...</td>\n      <td>...</td>\n      <td>...</td>\n    </tr>\n    <tr>\n      <th>33702</th>\n      <td>accuracy</td>\n      <td>completeness</td>\n      <td>impute_standard</td>\n      <td>impute_linear_regression</td>\n      <td>impute_random_forest</td>\n      <td>Temperature</td>\n      <td>Precipitation</td>\n      <td>AtmosphericPressure</td>\n      <td>PERC</td>\n      <td>STD</td>\n      <td>...</td>\n      <td>impute_random_forest</td>\n      <td>Temperature</td>\n      <td>AtmosphericPressure</td>\n      <td>Precipitation</td>\n      <td>80</td>\n      <td>NaN</td>\n      <td>0.716698</td>\n      <td>0.751303</td>\n      <td>0.764415</td>\n      <td>NO</td>\n    </tr>\n    <tr>\n      <th>33763</th>\n      <td>accuracy</td>\n      <td>completeness</td>\n      <td>impute_knn</td>\n      <td>impute_mice</td>\n      <td>impute_random_forest</td>\n      <td>AtmosphericPressure</td>\n      <td>Precipitation</td>\n      <td>Temperature</td>\n      <td>IQR</td>\n      <td>ISO</td>\n      <td>...</td>\n      <td>impute_linear_regression</td>\n      <td>Temperature</td>\n      <td>AtmosphericPressure</td>\n      <td>Precipitation</td>\n      <td>80</td>\n      <td>NaN</td>\n      <td>0.716698</td>\n      <td>0.756847</td>\n      <td>0.760007</td>\n      <td>NO</td>\n    </tr>\n    <tr>\n      <th>34103</th>\n      <td>accuracy</td>\n      <td>completeness</td>\n      <td>impute_standard</td>\n      <td>impute_knn</td>\n      <td>impute_linear_regression</td>\n      <td>Precipitation</td>\n      <td>Temperature</td>\n      <td>AtmosphericPressure</td>\n      <td>ISO</td>\n      <td>STD</td>\n      <td>...</td>\n      <td>impute_cmeans</td>\n      <td>Precipitation</td>\n      <td>AtmosphericPressure</td>\n      <td>Temperature</td>\n      <td>80</td>\n      <td>NaN</td>\n      <td>0.716698</td>\n      <td>0.760736</td>\n      <td>0.771859</td>\n      <td>NO</td>\n    </tr>\n    <tr>\n      <th>34329</th>\n      <td>completeness</td>\n      <td>accuracy</td>\n      <td>impute_mice</td>\n      <td>impute_linear_regression</td>\n      <td>impute_cmeans</td>\n      <td>AtmosphericPressure</td>\n      <td>Temperature</td>\n      <td>Precipitation</td>\n      <td>IQR</td>\n      <td>ISO</td>\n      <td>...</td>\n      <td>impute_knn</td>\n      <td>Precipitation</td>\n      <td>AtmosphericPressure</td>\n      <td>Temperature</td>\n      <td>80</td>\n      <td>NaN</td>\n      <td>0.716698</td>\n      <td>0.714967</td>\n      <td>0.768930</td>\n      <td>NO</td>\n    </tr>\n    <tr>\n      <th>34826</th>\n      <td>accuracy</td>\n      <td>completeness</td>\n      <td>impute_standard</td>\n      <td>impute_mean</td>\n      <td>impute_random_forest</td>\n      <td>Precipitation</td>\n      <td>AtmosphericPressure</td>\n      <td>Temperature</td>\n      <td>IQR</td>\n      <td>ISO</td>\n      <td>...</td>\n      <td>impute_linear_regression</td>\n      <td>AtmosphericPressure</td>\n      <td>Temperature</td>\n      <td>Precipitation</td>\n      <td>80</td>\n      <td>NaN</td>\n      <td>0.716698</td>\n      <td>0.756847</td>\n      <td>0.764499</td>\n      <td>NO</td>\n    </tr>\n  </tbody>\n</table>\n<p>256 rows × 23 columns</p>\n</div>"
     },
     "execution_count": 9,
     "metadata": {},
     "output_type": "execute_result"
    }
   ],
   "source": [
    "all_top = all_80[all_80.KNN_2 > 0.76]\n",
    "all_top"
   ],
   "metadata": {
    "collapsed": false
   }
  },
  {
   "cell_type": "code",
   "execution_count": 27,
   "outputs": [
    {
     "data": {
      "text/plain": "suggested\nNO     221\nYES     35\nName: count, dtype: int64"
     },
     "execution_count": 27,
     "metadata": {},
     "output_type": "execute_result"
    }
   ],
   "source": [
    "all_top.suggested.value_counts()\n"
   ],
   "metadata": {
    "collapsed": false
   }
  },
  {
   "cell_type": "code",
   "execution_count": null,
   "outputs": [],
   "source": [
    "### 35 combinazioni suggerito sono nelle top 250 di 35 000 combinazioni"
   ],
   "metadata": {
    "collapsed": false
   }
  },
  {
   "cell_type": "code",
   "execution_count": null,
   "outputs": [],
   "source": [],
   "metadata": {
    "collapsed": false
   }
  },
  {
   "cell_type": "code",
   "execution_count": null,
   "outputs": [],
   "source": [],
   "metadata": {
    "collapsed": false
   }
  },
  {
   "cell_type": "code",
   "execution_count": 41,
   "outputs": [
    {
     "data": {
      "text/plain": "od_1\nIQR     201\nISO      52\nPERC      3\nName: count, dtype: int64"
     },
     "execution_count": 41,
     "metadata": {},
     "output_type": "execute_result"
    }
   ],
   "source": [
    "all_top.od_1.value_counts()\n"
   ],
   "metadata": {
    "collapsed": false
   }
  },
  {
   "cell_type": "code",
   "execution_count": 42,
   "outputs": [
    {
     "data": {
      "text/plain": "od_2\nISO     107\nSTD      97\nZSB      35\nPERC     17\nName: count, dtype: int64"
     },
     "execution_count": 42,
     "metadata": {},
     "output_type": "execute_result"
    }
   ],
   "source": [
    "all_top.od_2.value_counts()\n"
   ],
   "metadata": {
    "collapsed": false
   }
  },
  {
   "cell_type": "code",
   "execution_count": 43,
   "outputs": [
    {
     "data": {
      "text/plain": "od_3\nZSB     226\nPERC     17\nSTD      13\nName: count, dtype: int64"
     },
     "execution_count": 43,
     "metadata": {},
     "output_type": "execute_result"
    }
   ],
   "source": [
    "all_top.od_3.value_counts()\n"
   ],
   "metadata": {
    "collapsed": false
   }
  },
  {
   "cell_type": "code",
   "execution_count": 48,
   "outputs": [
    {
     "data": {
      "text/plain": "    od_1 od_2 od_3\n444  IQR  ZSB  ZSB",
      "text/html": "<div>\n<style scoped>\n    .dataframe tbody tr th:only-of-type {\n        vertical-align: middle;\n    }\n\n    .dataframe tbody tr th {\n        vertical-align: top;\n    }\n\n    .dataframe thead th {\n        text-align: right;\n    }\n</style>\n<table border=\"1\" class=\"dataframe\">\n  <thead>\n    <tr style=\"text-align: right;\">\n      <th></th>\n      <th>od_1</th>\n      <th>od_2</th>\n      <th>od_3</th>\n    </tr>\n  </thead>\n  <tbody>\n    <tr>\n      <th>444</th>\n      <td>IQR</td>\n      <td>ZSB</td>\n      <td>ZSB</td>\n    </tr>\n  </tbody>\n</table>\n</div>"
     },
     "execution_count": 48,
     "metadata": {},
     "output_type": "execute_result"
    }
   ],
   "source": [
    "all_top[0:1][['od_1','od_2','od_3']]\n"
   ],
   "metadata": {
    "collapsed": false
   }
  },
  {
   "cell_type": "code",
   "execution_count": 49,
   "outputs": [],
   "source": [
    "### anche le altre combinazioni al top sono molto simili alle combinazioni suggerite\n"
   ],
   "metadata": {
    "collapsed": false
   }
  },
  {
   "cell_type": "code",
   "execution_count": null,
   "outputs": [],
   "source": [],
   "metadata": {
    "collapsed": false
   }
  },
  {
   "cell_type": "code",
   "execution_count": null,
   "outputs": [],
   "source": [],
   "metadata": {
    "collapsed": false
   }
  },
  {
   "cell_type": "code",
   "execution_count": 50,
   "outputs": [
    {
     "data": {
      "text/plain": "imp_col_1\nPrecipitation          112\nTemperature             79\nAtmosphericPressure     65\nName: count, dtype: int64"
     },
     "execution_count": 50,
     "metadata": {},
     "output_type": "execute_result"
    }
   ],
   "source": [
    "all_top.imp_col_1.value_counts()"
   ],
   "metadata": {
    "collapsed": false
   }
  },
  {
   "cell_type": "code",
   "execution_count": 52,
   "outputs": [
    {
     "data": {
      "text/plain": "imp_col_2\nTemperature            90\nAtmosphericPressure    88\nPrecipitation          78\nName: count, dtype: int64"
     },
     "execution_count": 52,
     "metadata": {},
     "output_type": "execute_result"
    }
   ],
   "source": [
    "all_top.imp_col_2.value_counts()"
   ],
   "metadata": {
    "collapsed": false
   }
  },
  {
   "cell_type": "code",
   "execution_count": 53,
   "outputs": [
    {
     "data": {
      "text/plain": "imp_col_3\nAtmosphericPressure    103\nTemperature             87\nPrecipitation           66\nName: count, dtype: int64"
     },
     "execution_count": 53,
     "metadata": {},
     "output_type": "execute_result"
    }
   ],
   "source": [
    "all_top.imp_col_3.value_counts()"
   ],
   "metadata": {
    "collapsed": false
   }
  },
  {
   "cell_type": "code",
   "execution_count": 56,
   "outputs": [],
   "source": [
    "all_subset = all_top[(all_top.imp_col_1 == 'Precipitation') & (all_top.od_imp_col_1 == 'Precipitation')]\n",
    "all_subset = all_subset[(all_subset.imp_col_2 == 'Temperature') & (all_subset.od_imp_col_2 == 'Temperature')]\n",
    "all_subset = all_subset[(all_subset.imp_col_3 == 'AtmosphericPressure') & (all_subset.od_imp_col_3 == 'AtmosphericPressure')]"
   ],
   "metadata": {
    "collapsed": false
   }
  },
  {
   "cell_type": "code",
   "execution_count": 57,
   "outputs": [
    {
     "data": {
      "text/plain": "        dimension_1   dimension_2            imp_1                     imp_2  \\\n518        accuracy  completeness    impute_median             impute_median   \n5249       accuracy  completeness      impute_mean      impute_random_forest   \n10651      accuracy  completeness  impute_standard             impute_median   \n16187      accuracy  completeness       impute_knn  impute_linear_regression   \n17624  completeness      accuracy  impute_standard               impute_mean   \n20035  completeness      accuracy  impute_standard             impute_median   \n32138      accuracy  completeness      impute_mean             impute_median   \n\n                          imp_3      imp_col_1    imp_col_2  \\\n518               impute_median  Precipitation  Temperature   \n5249              impute_cmeans  Precipitation  Temperature   \n10651             impute_random  Precipitation  Temperature   \n16187             impute_cmeans  Precipitation  Temperature   \n17624             impute_cmeans  Precipitation  Temperature   \n20035             impute_cmeans  Precipitation  Temperature   \n32138  impute_linear_regression  Precipitation  Temperature   \n\n                 imp_col_3 od_1 od_2  ...                  od_imp_3  \\\n518    AtmosphericPressure  IQR  ZSB  ...             impute_median   \n5249   AtmosphericPressure  IQR  ISO  ...             impute_random   \n10651  AtmosphericPressure  IQR  ISO  ...             impute_random   \n16187  AtmosphericPressure  IQR  STD  ...               impute_mice   \n17624  AtmosphericPressure  IQR  ISO  ...             impute_cmeans   \n20035  AtmosphericPressure  IQR  ISO  ...  impute_linear_regression   \n32138  AtmosphericPressure  IQR  ISO  ...             impute_cmeans   \n\n        od_imp_col_1 od_imp_col_2         od_imp_col_3 quality algorithm  \\\n518    Precipitation  Temperature  AtmosphericPressure      80       KNN   \n5249   Precipitation  Temperature  AtmosphericPressure      80       NaN   \n10651  Precipitation  Temperature  AtmosphericPressure      80       NaN   \n16187  Precipitation  Temperature  AtmosphericPressure      80       NaN   \n17624  Precipitation  Temperature  AtmosphericPressure      80       NaN   \n20035  Precipitation  Temperature  AtmosphericPressure      80       NaN   \n32138  Precipitation  Temperature  AtmosphericPressure      80       NaN   \n\n      KNN_dirty     KNN_1     KNN_2  suggested  \n518    0.719811  0.770123  0.772463        YES  \n5249   0.716698  0.756552  0.761590         NO  \n10651  0.716698  0.766221  0.766969         NO  \n16187  0.716698  0.758635  0.765516         NO  \n17624  0.716698  0.718193  0.773763         NO  \n20035  0.716698  0.718934  0.760456         NO  \n32138  0.716698  0.766221  0.770131         NO  \n\n[7 rows x 23 columns]",
      "text/html": "<div>\n<style scoped>\n    .dataframe tbody tr th:only-of-type {\n        vertical-align: middle;\n    }\n\n    .dataframe tbody tr th {\n        vertical-align: top;\n    }\n\n    .dataframe thead th {\n        text-align: right;\n    }\n</style>\n<table border=\"1\" class=\"dataframe\">\n  <thead>\n    <tr style=\"text-align: right;\">\n      <th></th>\n      <th>dimension_1</th>\n      <th>dimension_2</th>\n      <th>imp_1</th>\n      <th>imp_2</th>\n      <th>imp_3</th>\n      <th>imp_col_1</th>\n      <th>imp_col_2</th>\n      <th>imp_col_3</th>\n      <th>od_1</th>\n      <th>od_2</th>\n      <th>...</th>\n      <th>od_imp_3</th>\n      <th>od_imp_col_1</th>\n      <th>od_imp_col_2</th>\n      <th>od_imp_col_3</th>\n      <th>quality</th>\n      <th>algorithm</th>\n      <th>KNN_dirty</th>\n      <th>KNN_1</th>\n      <th>KNN_2</th>\n      <th>suggested</th>\n    </tr>\n  </thead>\n  <tbody>\n    <tr>\n      <th>518</th>\n      <td>accuracy</td>\n      <td>completeness</td>\n      <td>impute_median</td>\n      <td>impute_median</td>\n      <td>impute_median</td>\n      <td>Precipitation</td>\n      <td>Temperature</td>\n      <td>AtmosphericPressure</td>\n      <td>IQR</td>\n      <td>ZSB</td>\n      <td>...</td>\n      <td>impute_median</td>\n      <td>Precipitation</td>\n      <td>Temperature</td>\n      <td>AtmosphericPressure</td>\n      <td>80</td>\n      <td>KNN</td>\n      <td>0.719811</td>\n      <td>0.770123</td>\n      <td>0.772463</td>\n      <td>YES</td>\n    </tr>\n    <tr>\n      <th>5249</th>\n      <td>accuracy</td>\n      <td>completeness</td>\n      <td>impute_mean</td>\n      <td>impute_random_forest</td>\n      <td>impute_cmeans</td>\n      <td>Precipitation</td>\n      <td>Temperature</td>\n      <td>AtmosphericPressure</td>\n      <td>IQR</td>\n      <td>ISO</td>\n      <td>...</td>\n      <td>impute_random</td>\n      <td>Precipitation</td>\n      <td>Temperature</td>\n      <td>AtmosphericPressure</td>\n      <td>80</td>\n      <td>NaN</td>\n      <td>0.716698</td>\n      <td>0.756552</td>\n      <td>0.761590</td>\n      <td>NO</td>\n    </tr>\n    <tr>\n      <th>10651</th>\n      <td>accuracy</td>\n      <td>completeness</td>\n      <td>impute_standard</td>\n      <td>impute_median</td>\n      <td>impute_random</td>\n      <td>Precipitation</td>\n      <td>Temperature</td>\n      <td>AtmosphericPressure</td>\n      <td>IQR</td>\n      <td>ISO</td>\n      <td>...</td>\n      <td>impute_random</td>\n      <td>Precipitation</td>\n      <td>Temperature</td>\n      <td>AtmosphericPressure</td>\n      <td>80</td>\n      <td>NaN</td>\n      <td>0.716698</td>\n      <td>0.766221</td>\n      <td>0.766969</td>\n      <td>NO</td>\n    </tr>\n    <tr>\n      <th>16187</th>\n      <td>accuracy</td>\n      <td>completeness</td>\n      <td>impute_knn</td>\n      <td>impute_linear_regression</td>\n      <td>impute_cmeans</td>\n      <td>Precipitation</td>\n      <td>Temperature</td>\n      <td>AtmosphericPressure</td>\n      <td>IQR</td>\n      <td>STD</td>\n      <td>...</td>\n      <td>impute_mice</td>\n      <td>Precipitation</td>\n      <td>Temperature</td>\n      <td>AtmosphericPressure</td>\n      <td>80</td>\n      <td>NaN</td>\n      <td>0.716698</td>\n      <td>0.758635</td>\n      <td>0.765516</td>\n      <td>NO</td>\n    </tr>\n    <tr>\n      <th>17624</th>\n      <td>completeness</td>\n      <td>accuracy</td>\n      <td>impute_standard</td>\n      <td>impute_mean</td>\n      <td>impute_cmeans</td>\n      <td>Precipitation</td>\n      <td>Temperature</td>\n      <td>AtmosphericPressure</td>\n      <td>IQR</td>\n      <td>ISO</td>\n      <td>...</td>\n      <td>impute_cmeans</td>\n      <td>Precipitation</td>\n      <td>Temperature</td>\n      <td>AtmosphericPressure</td>\n      <td>80</td>\n      <td>NaN</td>\n      <td>0.716698</td>\n      <td>0.718193</td>\n      <td>0.773763</td>\n      <td>NO</td>\n    </tr>\n    <tr>\n      <th>20035</th>\n      <td>completeness</td>\n      <td>accuracy</td>\n      <td>impute_standard</td>\n      <td>impute_median</td>\n      <td>impute_cmeans</td>\n      <td>Precipitation</td>\n      <td>Temperature</td>\n      <td>AtmosphericPressure</td>\n      <td>IQR</td>\n      <td>ISO</td>\n      <td>...</td>\n      <td>impute_linear_regression</td>\n      <td>Precipitation</td>\n      <td>Temperature</td>\n      <td>AtmosphericPressure</td>\n      <td>80</td>\n      <td>NaN</td>\n      <td>0.716698</td>\n      <td>0.718934</td>\n      <td>0.760456</td>\n      <td>NO</td>\n    </tr>\n    <tr>\n      <th>32138</th>\n      <td>accuracy</td>\n      <td>completeness</td>\n      <td>impute_mean</td>\n      <td>impute_median</td>\n      <td>impute_linear_regression</td>\n      <td>Precipitation</td>\n      <td>Temperature</td>\n      <td>AtmosphericPressure</td>\n      <td>IQR</td>\n      <td>ISO</td>\n      <td>...</td>\n      <td>impute_cmeans</td>\n      <td>Precipitation</td>\n      <td>Temperature</td>\n      <td>AtmosphericPressure</td>\n      <td>80</td>\n      <td>NaN</td>\n      <td>0.716698</td>\n      <td>0.766221</td>\n      <td>0.770131</td>\n      <td>NO</td>\n    </tr>\n  </tbody>\n</table>\n<p>7 rows × 23 columns</p>\n</div>"
     },
     "execution_count": 57,
     "metadata": {},
     "output_type": "execute_result"
    }
   ],
   "source": [
    "all_subset"
   ],
   "metadata": {
    "collapsed": false
   }
  },
  {
   "cell_type": "code",
   "execution_count": 68,
   "outputs": [
    {
     "data": {
      "text/plain": "imp_1\nimpute_standard    3\nimpute_mean        2\nimpute_median      1\nimpute_knn         1\nName: count, dtype: int64"
     },
     "execution_count": 68,
     "metadata": {},
     "output_type": "execute_result"
    }
   ],
   "source": [
    "all_subset.imp_1.value_counts()"
   ],
   "metadata": {
    "collapsed": false
   }
  },
  {
   "cell_type": "code",
   "execution_count": 69,
   "outputs": [
    {
     "data": {
      "text/plain": "imp_2\nimpute_median               4\nimpute_random_forest        1\nimpute_linear_regression    1\nimpute_mean                 1\nName: count, dtype: int64"
     },
     "execution_count": 69,
     "metadata": {},
     "output_type": "execute_result"
    }
   ],
   "source": [
    "all_subset.imp_2.value_counts()"
   ],
   "metadata": {
    "collapsed": false
   }
  },
  {
   "cell_type": "code",
   "execution_count": 70,
   "outputs": [
    {
     "data": {
      "text/plain": "imp_2\nimpute_median               4\nimpute_random_forest        1\nimpute_linear_regression    1\nimpute_mean                 1\nName: count, dtype: int64"
     },
     "execution_count": 70,
     "metadata": {},
     "output_type": "execute_result"
    }
   ],
   "source": [
    "all_subset.imp_2.value_counts()"
   ],
   "metadata": {
    "collapsed": false
   }
  },
  {
   "cell_type": "code",
   "execution_count": 71,
   "outputs": [
    {
     "data": {
      "text/plain": "             imp_1          imp_2          imp_3\n518  impute_median  impute_median  impute_median",
      "text/html": "<div>\n<style scoped>\n    .dataframe tbody tr th:only-of-type {\n        vertical-align: middle;\n    }\n\n    .dataframe tbody tr th {\n        vertical-align: top;\n    }\n\n    .dataframe thead th {\n        text-align: right;\n    }\n</style>\n<table border=\"1\" class=\"dataframe\">\n  <thead>\n    <tr style=\"text-align: right;\">\n      <th></th>\n      <th>imp_1</th>\n      <th>imp_2</th>\n      <th>imp_3</th>\n    </tr>\n  </thead>\n  <tbody>\n    <tr>\n      <th>518</th>\n      <td>impute_median</td>\n      <td>impute_median</td>\n      <td>impute_median</td>\n    </tr>\n  </tbody>\n</table>\n</div>"
     },
     "execution_count": 71,
     "metadata": {},
     "output_type": "execute_result"
    }
   ],
   "source": [
    "all_subset[0:1][['imp_1', 'imp_2', 'imp_3']]"
   ],
   "metadata": {
    "collapsed": false
   }
  },
  {
   "cell_type": "code",
   "execution_count": null,
   "outputs": [],
   "source": [
    "### anche nel caso delle imputation le combinazioni sono simili alle suggested"
   ],
   "metadata": {
    "collapsed": false
   }
  },
  {
   "cell_type": "code",
   "execution_count": 73,
   "outputs": [
    {
     "data": {
      "text/plain": "od_imp_1\nimpute_standard    5\nimpute_median      2\nName: count, dtype: int64"
     },
     "execution_count": 73,
     "metadata": {},
     "output_type": "execute_result"
    }
   ],
   "source": [
    "all_subset.od_imp_1.value_counts()"
   ],
   "metadata": {
    "collapsed": false
   }
  },
  {
   "cell_type": "code",
   "execution_count": 74,
   "outputs": [
    {
     "data": {
      "text/plain": "od_imp_2\nimpute_median    4\nimpute_mean      1\nimpute_random    1\nimpute_mice      1\nName: count, dtype: int64"
     },
     "execution_count": 74,
     "metadata": {},
     "output_type": "execute_result"
    }
   ],
   "source": [
    "all_subset.od_imp_2.value_counts()"
   ],
   "metadata": {
    "collapsed": false
   }
  },
  {
   "cell_type": "code",
   "execution_count": 75,
   "outputs": [
    {
     "data": {
      "text/plain": "od_imp_3\nimpute_random               2\nimpute_cmeans               2\nimpute_median               1\nimpute_mice                 1\nimpute_linear_regression    1\nName: count, dtype: int64"
     },
     "execution_count": 75,
     "metadata": {},
     "output_type": "execute_result"
    }
   ],
   "source": [
    "all_subset.od_imp_3.value_counts()"
   ],
   "metadata": {
    "collapsed": false
   }
  },
  {
   "cell_type": "code",
   "execution_count": 76,
   "outputs": [
    {
     "data": {
      "text/plain": "          od_imp_1       od_imp_2       od_imp_3\n518  impute_median  impute_median  impute_median",
      "text/html": "<div>\n<style scoped>\n    .dataframe tbody tr th:only-of-type {\n        vertical-align: middle;\n    }\n\n    .dataframe tbody tr th {\n        vertical-align: top;\n    }\n\n    .dataframe thead th {\n        text-align: right;\n    }\n</style>\n<table border=\"1\" class=\"dataframe\">\n  <thead>\n    <tr style=\"text-align: right;\">\n      <th></th>\n      <th>od_imp_1</th>\n      <th>od_imp_2</th>\n      <th>od_imp_3</th>\n    </tr>\n  </thead>\n  <tbody>\n    <tr>\n      <th>518</th>\n      <td>impute_median</td>\n      <td>impute_median</td>\n      <td>impute_median</td>\n    </tr>\n  </tbody>\n</table>\n</div>"
     },
     "execution_count": 76,
     "metadata": {},
     "output_type": "execute_result"
    }
   ],
   "source": [
    "all_subset[0:1][['od_imp_1', 'od_imp_2', 'od_imp_3']]\n"
   ],
   "metadata": {
    "collapsed": false
   }
  },
  {
   "cell_type": "code",
   "execution_count": null,
   "outputs": [],
   "source": [
    "### posso provare che le combinazioni randomiche che fanno parte dello schedule sono proprio quelle più simili al suggested schedule"
   ],
   "metadata": {
    "collapsed": false
   }
  },
  {
   "cell_type": "code",
   "execution_count": 80,
   "outputs": [],
   "source": [
    "prova = all.copy()"
   ],
   "metadata": {
    "collapsed": false
   }
  },
  {
   "cell_type": "code",
   "execution_count": 81,
   "outputs": [
    {
     "data": {
      "text/plain": "Index(['dimension_1', 'dimension_2', 'imp_1', 'imp_2', 'imp_3', 'imp_col_1',\n       'imp_col_2', 'imp_col_3', 'od_1', 'od_2', 'od_3', 'od_imp_1',\n       'od_imp_2', 'od_imp_3', 'od_imp_col_1', 'od_imp_col_2', 'od_imp_col_3',\n       'quality', 'algorithm', 'KNN_dirty', 'KNN_1', 'KNN_2', 'suggested'],\n      dtype='object')"
     },
     "execution_count": 81,
     "metadata": {},
     "output_type": "execute_result"
    }
   ],
   "source": [
    "prova.columns"
   ],
   "metadata": {
    "collapsed": false
   }
  },
  {
   "cell_type": "code",
   "execution_count": 82,
   "outputs": [],
   "source": [
    "prova = prova.drop(columns=['KNN_dirty', 'KNN_1', 'KNN_2', 'suggested'])\n"
   ],
   "metadata": {
    "collapsed": false
   }
  },
  {
   "cell_type": "code",
   "execution_count": 84,
   "outputs": [
    {
     "data": {
      "text/plain": "        dimension_1   dimension_2            imp_1                 imp_2  \\\n12         accuracy  completeness    impute_median         impute_median   \n13         accuracy  completeness    impute_median         impute_median   \n14         accuracy  completeness    impute_median         impute_median   \n15         accuracy  completeness    impute_median         impute_median   \n16         accuracy  completeness    impute_median         impute_median   \n...             ...           ...              ...                   ...   \n34993  completeness      accuracy      impute_mean         impute_median   \n34995  completeness      accuracy  impute_standard  impute_random_forest   \n34996      accuracy  completeness    impute_median  impute_random_forest   \n34997  completeness      accuracy  impute_standard         impute_random   \n34998  completeness      accuracy  impute_standard            impute_knn   \n\n                          imp_3            imp_col_1            imp_col_2  \\\n12                impute_median          Temperature        Precipitation   \n13                impute_median          Temperature        Precipitation   \n14                impute_median          Temperature        Precipitation   \n15                impute_median          Temperature        Precipitation   \n16                impute_median          Temperature        Precipitation   \n...                         ...                  ...                  ...   \n34993  impute_linear_regression          Temperature  AtmosphericPressure   \n34995             impute_cmeans        Precipitation          Temperature   \n34996             impute_cmeans          Temperature  AtmosphericPressure   \n34997                impute_knn  AtmosphericPressure        Precipitation   \n34998      impute_random_forest        Precipitation          Temperature   \n\n                 imp_col_3 od_1  od_2 od_3       od_imp_1  \\\n12     AtmosphericPressure  IQR   ZSB  ZSB  impute_median   \n13     AtmosphericPressure  IQR   ZSB  ZSB  impute_median   \n14     AtmosphericPressure  IQR   ZSB  ZSB  impute_median   \n15     AtmosphericPressure  IQR   ZSB  ZSB  impute_median   \n16     AtmosphericPressure  IQR   ZSB  ZSB  impute_median   \n...                    ...  ...   ...  ...            ...   \n34993        Precipitation  IQR   ISO  STD  impute_median   \n34995  AtmosphericPressure  IQR   STD  LOF    impute_mean   \n34996        Precipitation  ISO  PERC  STD     impute_knn   \n34997          Temperature  IQR   ZSB  LOF  impute_median   \n34998  AtmosphericPressure  ISO   ZSB  LOF    impute_mean   \n\n                   od_imp_2                  od_imp_3         od_imp_col_1  \\\n12            impute_median             impute_median          Temperature   \n13            impute_median             impute_median          Temperature   \n14            impute_median             impute_median        Precipitation   \n15            impute_median             impute_median        Precipitation   \n16            impute_median             impute_median  AtmosphericPressure   \n...                     ...                       ...                  ...   \n34993  impute_random_forest             impute_cmeans        Precipitation   \n34995         impute_random      impute_random_forest  AtmosphericPressure   \n34996  impute_random_forest             impute_cmeans          Temperature   \n34997         impute_random               impute_mice        Precipitation   \n34998           impute_mice  impute_linear_regression        Precipitation   \n\n              od_imp_col_2         od_imp_col_3  quality algorithm  \n12           Precipitation  AtmosphericPressure       70       KNN  \n13     AtmosphericPressure        Precipitation       70       KNN  \n14             Temperature  AtmosphericPressure       70       KNN  \n15     AtmosphericPressure          Temperature       70       KNN  \n16             Temperature        Precipitation       70       KNN  \n...                    ...                  ...      ...       ...  \n34993          Temperature  AtmosphericPressure       75       NaN  \n34995        Precipitation          Temperature       70       NaN  \n34996        Precipitation  AtmosphericPressure       80       NaN  \n34997          Temperature  AtmosphericPressure       90       NaN  \n34998          Temperature  AtmosphericPressure       80       NaN  \n\n[26399 rows x 19 columns]",
      "text/html": "<div>\n<style scoped>\n    .dataframe tbody tr th:only-of-type {\n        vertical-align: middle;\n    }\n\n    .dataframe tbody tr th {\n        vertical-align: top;\n    }\n\n    .dataframe thead th {\n        text-align: right;\n    }\n</style>\n<table border=\"1\" class=\"dataframe\">\n  <thead>\n    <tr style=\"text-align: right;\">\n      <th></th>\n      <th>dimension_1</th>\n      <th>dimension_2</th>\n      <th>imp_1</th>\n      <th>imp_2</th>\n      <th>imp_3</th>\n      <th>imp_col_1</th>\n      <th>imp_col_2</th>\n      <th>imp_col_3</th>\n      <th>od_1</th>\n      <th>od_2</th>\n      <th>od_3</th>\n      <th>od_imp_1</th>\n      <th>od_imp_2</th>\n      <th>od_imp_3</th>\n      <th>od_imp_col_1</th>\n      <th>od_imp_col_2</th>\n      <th>od_imp_col_3</th>\n      <th>quality</th>\n      <th>algorithm</th>\n    </tr>\n  </thead>\n  <tbody>\n    <tr>\n      <th>12</th>\n      <td>accuracy</td>\n      <td>completeness</td>\n      <td>impute_median</td>\n      <td>impute_median</td>\n      <td>impute_median</td>\n      <td>Temperature</td>\n      <td>Precipitation</td>\n      <td>AtmosphericPressure</td>\n      <td>IQR</td>\n      <td>ZSB</td>\n      <td>ZSB</td>\n      <td>impute_median</td>\n      <td>impute_median</td>\n      <td>impute_median</td>\n      <td>Temperature</td>\n      <td>Precipitation</td>\n      <td>AtmosphericPressure</td>\n      <td>70</td>\n      <td>KNN</td>\n    </tr>\n    <tr>\n      <th>13</th>\n      <td>accuracy</td>\n      <td>completeness</td>\n      <td>impute_median</td>\n      <td>impute_median</td>\n      <td>impute_median</td>\n      <td>Temperature</td>\n      <td>Precipitation</td>\n      <td>AtmosphericPressure</td>\n      <td>IQR</td>\n      <td>ZSB</td>\n      <td>ZSB</td>\n      <td>impute_median</td>\n      <td>impute_median</td>\n      <td>impute_median</td>\n      <td>Temperature</td>\n      <td>AtmosphericPressure</td>\n      <td>Precipitation</td>\n      <td>70</td>\n      <td>KNN</td>\n    </tr>\n    <tr>\n      <th>14</th>\n      <td>accuracy</td>\n      <td>completeness</td>\n      <td>impute_median</td>\n      <td>impute_median</td>\n      <td>impute_median</td>\n      <td>Temperature</td>\n      <td>Precipitation</td>\n      <td>AtmosphericPressure</td>\n      <td>IQR</td>\n      <td>ZSB</td>\n      <td>ZSB</td>\n      <td>impute_median</td>\n      <td>impute_median</td>\n      <td>impute_median</td>\n      <td>Precipitation</td>\n      <td>Temperature</td>\n      <td>AtmosphericPressure</td>\n      <td>70</td>\n      <td>KNN</td>\n    </tr>\n    <tr>\n      <th>15</th>\n      <td>accuracy</td>\n      <td>completeness</td>\n      <td>impute_median</td>\n      <td>impute_median</td>\n      <td>impute_median</td>\n      <td>Temperature</td>\n      <td>Precipitation</td>\n      <td>AtmosphericPressure</td>\n      <td>IQR</td>\n      <td>ZSB</td>\n      <td>ZSB</td>\n      <td>impute_median</td>\n      <td>impute_median</td>\n      <td>impute_median</td>\n      <td>Precipitation</td>\n      <td>AtmosphericPressure</td>\n      <td>Temperature</td>\n      <td>70</td>\n      <td>KNN</td>\n    </tr>\n    <tr>\n      <th>16</th>\n      <td>accuracy</td>\n      <td>completeness</td>\n      <td>impute_median</td>\n      <td>impute_median</td>\n      <td>impute_median</td>\n      <td>Temperature</td>\n      <td>Precipitation</td>\n      <td>AtmosphericPressure</td>\n      <td>IQR</td>\n      <td>ZSB</td>\n      <td>ZSB</td>\n      <td>impute_median</td>\n      <td>impute_median</td>\n      <td>impute_median</td>\n      <td>AtmosphericPressure</td>\n      <td>Temperature</td>\n      <td>Precipitation</td>\n      <td>70</td>\n      <td>KNN</td>\n    </tr>\n    <tr>\n      <th>...</th>\n      <td>...</td>\n      <td>...</td>\n      <td>...</td>\n      <td>...</td>\n      <td>...</td>\n      <td>...</td>\n      <td>...</td>\n      <td>...</td>\n      <td>...</td>\n      <td>...</td>\n      <td>...</td>\n      <td>...</td>\n      <td>...</td>\n      <td>...</td>\n      <td>...</td>\n      <td>...</td>\n      <td>...</td>\n      <td>...</td>\n      <td>...</td>\n    </tr>\n    <tr>\n      <th>34993</th>\n      <td>completeness</td>\n      <td>accuracy</td>\n      <td>impute_mean</td>\n      <td>impute_median</td>\n      <td>impute_linear_regression</td>\n      <td>Temperature</td>\n      <td>AtmosphericPressure</td>\n      <td>Precipitation</td>\n      <td>IQR</td>\n      <td>ISO</td>\n      <td>STD</td>\n      <td>impute_median</td>\n      <td>impute_random_forest</td>\n      <td>impute_cmeans</td>\n      <td>Precipitation</td>\n      <td>Temperature</td>\n      <td>AtmosphericPressure</td>\n      <td>75</td>\n      <td>NaN</td>\n    </tr>\n    <tr>\n      <th>34995</th>\n      <td>completeness</td>\n      <td>accuracy</td>\n      <td>impute_standard</td>\n      <td>impute_random_forest</td>\n      <td>impute_cmeans</td>\n      <td>Precipitation</td>\n      <td>Temperature</td>\n      <td>AtmosphericPressure</td>\n      <td>IQR</td>\n      <td>STD</td>\n      <td>LOF</td>\n      <td>impute_mean</td>\n      <td>impute_random</td>\n      <td>impute_random_forest</td>\n      <td>AtmosphericPressure</td>\n      <td>Precipitation</td>\n      <td>Temperature</td>\n      <td>70</td>\n      <td>NaN</td>\n    </tr>\n    <tr>\n      <th>34996</th>\n      <td>accuracy</td>\n      <td>completeness</td>\n      <td>impute_median</td>\n      <td>impute_random_forest</td>\n      <td>impute_cmeans</td>\n      <td>Temperature</td>\n      <td>AtmosphericPressure</td>\n      <td>Precipitation</td>\n      <td>ISO</td>\n      <td>PERC</td>\n      <td>STD</td>\n      <td>impute_knn</td>\n      <td>impute_random_forest</td>\n      <td>impute_cmeans</td>\n      <td>Temperature</td>\n      <td>Precipitation</td>\n      <td>AtmosphericPressure</td>\n      <td>80</td>\n      <td>NaN</td>\n    </tr>\n    <tr>\n      <th>34997</th>\n      <td>completeness</td>\n      <td>accuracy</td>\n      <td>impute_standard</td>\n      <td>impute_random</td>\n      <td>impute_knn</td>\n      <td>AtmosphericPressure</td>\n      <td>Precipitation</td>\n      <td>Temperature</td>\n      <td>IQR</td>\n      <td>ZSB</td>\n      <td>LOF</td>\n      <td>impute_median</td>\n      <td>impute_random</td>\n      <td>impute_mice</td>\n      <td>Precipitation</td>\n      <td>Temperature</td>\n      <td>AtmosphericPressure</td>\n      <td>90</td>\n      <td>NaN</td>\n    </tr>\n    <tr>\n      <th>34998</th>\n      <td>completeness</td>\n      <td>accuracy</td>\n      <td>impute_standard</td>\n      <td>impute_knn</td>\n      <td>impute_random_forest</td>\n      <td>Precipitation</td>\n      <td>Temperature</td>\n      <td>AtmosphericPressure</td>\n      <td>ISO</td>\n      <td>ZSB</td>\n      <td>LOF</td>\n      <td>impute_mean</td>\n      <td>impute_mice</td>\n      <td>impute_linear_regression</td>\n      <td>Precipitation</td>\n      <td>Temperature</td>\n      <td>AtmosphericPressure</td>\n      <td>80</td>\n      <td>NaN</td>\n    </tr>\n  </tbody>\n</table>\n<p>26399 rows × 19 columns</p>\n</div>"
     },
     "execution_count": 84,
     "metadata": {},
     "output_type": "execute_result"
    }
   ],
   "source": [
    "prova"
   ],
   "metadata": {
    "collapsed": false
   }
  },
  {
   "cell_type": "code",
   "execution_count": 85,
   "outputs": [
    {
     "data": {
      "text/plain": "        dimension_1   dimension_2            imp_1                 imp_2  \\\n12         accuracy  completeness    impute_median         impute_median   \n13         accuracy  completeness    impute_median         impute_median   \n14         accuracy  completeness    impute_median         impute_median   \n15         accuracy  completeness    impute_median         impute_median   \n16         accuracy  completeness    impute_median         impute_median   \n...             ...           ...              ...                   ...   \n34993  completeness      accuracy      impute_mean         impute_median   \n34995  completeness      accuracy  impute_standard  impute_random_forest   \n34996      accuracy  completeness    impute_median  impute_random_forest   \n34997  completeness      accuracy  impute_standard         impute_random   \n34998  completeness      accuracy  impute_standard            impute_knn   \n\n                          imp_3            imp_col_1            imp_col_2  \\\n12                impute_median          Temperature        Precipitation   \n13                impute_median          Temperature        Precipitation   \n14                impute_median          Temperature        Precipitation   \n15                impute_median          Temperature        Precipitation   \n16                impute_median          Temperature        Precipitation   \n...                         ...                  ...                  ...   \n34993  impute_linear_regression          Temperature  AtmosphericPressure   \n34995             impute_cmeans        Precipitation          Temperature   \n34996             impute_cmeans          Temperature  AtmosphericPressure   \n34997                impute_knn  AtmosphericPressure        Precipitation   \n34998      impute_random_forest        Precipitation          Temperature   \n\n                 imp_col_3 od_1  od_2 od_3       od_imp_1  \\\n12     AtmosphericPressure  IQR   ZSB  ZSB  impute_median   \n13     AtmosphericPressure  IQR   ZSB  ZSB  impute_median   \n14     AtmosphericPressure  IQR   ZSB  ZSB  impute_median   \n15     AtmosphericPressure  IQR   ZSB  ZSB  impute_median   \n16     AtmosphericPressure  IQR   ZSB  ZSB  impute_median   \n...                    ...  ...   ...  ...            ...   \n34993        Precipitation  IQR   ISO  STD  impute_median   \n34995  AtmosphericPressure  IQR   STD  LOF    impute_mean   \n34996        Precipitation  ISO  PERC  STD     impute_knn   \n34997          Temperature  IQR   ZSB  LOF  impute_median   \n34998  AtmosphericPressure  ISO   ZSB  LOF    impute_mean   \n\n                   od_imp_2                  od_imp_3         od_imp_col_1  \\\n12            impute_median             impute_median          Temperature   \n13            impute_median             impute_median          Temperature   \n14            impute_median             impute_median        Precipitation   \n15            impute_median             impute_median        Precipitation   \n16            impute_median             impute_median  AtmosphericPressure   \n...                     ...                       ...                  ...   \n34993  impute_random_forest             impute_cmeans        Precipitation   \n34995         impute_random      impute_random_forest  AtmosphericPressure   \n34996  impute_random_forest             impute_cmeans          Temperature   \n34997         impute_random               impute_mice        Precipitation   \n34998           impute_mice  impute_linear_regression        Precipitation   \n\n              od_imp_col_2         od_imp_col_3  quality algorithm  \n12           Precipitation  AtmosphericPressure       70       KNN  \n13     AtmosphericPressure        Precipitation       70       KNN  \n14             Temperature  AtmosphericPressure       70       KNN  \n15     AtmosphericPressure          Temperature       70       KNN  \n16             Temperature        Precipitation       70       KNN  \n...                    ...                  ...      ...       ...  \n34993          Temperature  AtmosphericPressure       75       NaN  \n34995        Precipitation          Temperature       70       NaN  \n34996        Precipitation  AtmosphericPressure       80       NaN  \n34997          Temperature  AtmosphericPressure       90       NaN  \n34998          Temperature  AtmosphericPressure       80       NaN  \n\n[26399 rows x 19 columns]",
      "text/html": "<div>\n<style scoped>\n    .dataframe tbody tr th:only-of-type {\n        vertical-align: middle;\n    }\n\n    .dataframe tbody tr th {\n        vertical-align: top;\n    }\n\n    .dataframe thead th {\n        text-align: right;\n    }\n</style>\n<table border=\"1\" class=\"dataframe\">\n  <thead>\n    <tr style=\"text-align: right;\">\n      <th></th>\n      <th>dimension_1</th>\n      <th>dimension_2</th>\n      <th>imp_1</th>\n      <th>imp_2</th>\n      <th>imp_3</th>\n      <th>imp_col_1</th>\n      <th>imp_col_2</th>\n      <th>imp_col_3</th>\n      <th>od_1</th>\n      <th>od_2</th>\n      <th>od_3</th>\n      <th>od_imp_1</th>\n      <th>od_imp_2</th>\n      <th>od_imp_3</th>\n      <th>od_imp_col_1</th>\n      <th>od_imp_col_2</th>\n      <th>od_imp_col_3</th>\n      <th>quality</th>\n      <th>algorithm</th>\n    </tr>\n  </thead>\n  <tbody>\n    <tr>\n      <th>12</th>\n      <td>accuracy</td>\n      <td>completeness</td>\n      <td>impute_median</td>\n      <td>impute_median</td>\n      <td>impute_median</td>\n      <td>Temperature</td>\n      <td>Precipitation</td>\n      <td>AtmosphericPressure</td>\n      <td>IQR</td>\n      <td>ZSB</td>\n      <td>ZSB</td>\n      <td>impute_median</td>\n      <td>impute_median</td>\n      <td>impute_median</td>\n      <td>Temperature</td>\n      <td>Precipitation</td>\n      <td>AtmosphericPressure</td>\n      <td>70</td>\n      <td>KNN</td>\n    </tr>\n    <tr>\n      <th>13</th>\n      <td>accuracy</td>\n      <td>completeness</td>\n      <td>impute_median</td>\n      <td>impute_median</td>\n      <td>impute_median</td>\n      <td>Temperature</td>\n      <td>Precipitation</td>\n      <td>AtmosphericPressure</td>\n      <td>IQR</td>\n      <td>ZSB</td>\n      <td>ZSB</td>\n      <td>impute_median</td>\n      <td>impute_median</td>\n      <td>impute_median</td>\n      <td>Temperature</td>\n      <td>AtmosphericPressure</td>\n      <td>Precipitation</td>\n      <td>70</td>\n      <td>KNN</td>\n    </tr>\n    <tr>\n      <th>14</th>\n      <td>accuracy</td>\n      <td>completeness</td>\n      <td>impute_median</td>\n      <td>impute_median</td>\n      <td>impute_median</td>\n      <td>Temperature</td>\n      <td>Precipitation</td>\n      <td>AtmosphericPressure</td>\n      <td>IQR</td>\n      <td>ZSB</td>\n      <td>ZSB</td>\n      <td>impute_median</td>\n      <td>impute_median</td>\n      <td>impute_median</td>\n      <td>Precipitation</td>\n      <td>Temperature</td>\n      <td>AtmosphericPressure</td>\n      <td>70</td>\n      <td>KNN</td>\n    </tr>\n    <tr>\n      <th>15</th>\n      <td>accuracy</td>\n      <td>completeness</td>\n      <td>impute_median</td>\n      <td>impute_median</td>\n      <td>impute_median</td>\n      <td>Temperature</td>\n      <td>Precipitation</td>\n      <td>AtmosphericPressure</td>\n      <td>IQR</td>\n      <td>ZSB</td>\n      <td>ZSB</td>\n      <td>impute_median</td>\n      <td>impute_median</td>\n      <td>impute_median</td>\n      <td>Precipitation</td>\n      <td>AtmosphericPressure</td>\n      <td>Temperature</td>\n      <td>70</td>\n      <td>KNN</td>\n    </tr>\n    <tr>\n      <th>16</th>\n      <td>accuracy</td>\n      <td>completeness</td>\n      <td>impute_median</td>\n      <td>impute_median</td>\n      <td>impute_median</td>\n      <td>Temperature</td>\n      <td>Precipitation</td>\n      <td>AtmosphericPressure</td>\n      <td>IQR</td>\n      <td>ZSB</td>\n      <td>ZSB</td>\n      <td>impute_median</td>\n      <td>impute_median</td>\n      <td>impute_median</td>\n      <td>AtmosphericPressure</td>\n      <td>Temperature</td>\n      <td>Precipitation</td>\n      <td>70</td>\n      <td>KNN</td>\n    </tr>\n    <tr>\n      <th>...</th>\n      <td>...</td>\n      <td>...</td>\n      <td>...</td>\n      <td>...</td>\n      <td>...</td>\n      <td>...</td>\n      <td>...</td>\n      <td>...</td>\n      <td>...</td>\n      <td>...</td>\n      <td>...</td>\n      <td>...</td>\n      <td>...</td>\n      <td>...</td>\n      <td>...</td>\n      <td>...</td>\n      <td>...</td>\n      <td>...</td>\n      <td>...</td>\n    </tr>\n    <tr>\n      <th>34993</th>\n      <td>completeness</td>\n      <td>accuracy</td>\n      <td>impute_mean</td>\n      <td>impute_median</td>\n      <td>impute_linear_regression</td>\n      <td>Temperature</td>\n      <td>AtmosphericPressure</td>\n      <td>Precipitation</td>\n      <td>IQR</td>\n      <td>ISO</td>\n      <td>STD</td>\n      <td>impute_median</td>\n      <td>impute_random_forest</td>\n      <td>impute_cmeans</td>\n      <td>Precipitation</td>\n      <td>Temperature</td>\n      <td>AtmosphericPressure</td>\n      <td>75</td>\n      <td>NaN</td>\n    </tr>\n    <tr>\n      <th>34995</th>\n      <td>completeness</td>\n      <td>accuracy</td>\n      <td>impute_standard</td>\n      <td>impute_random_forest</td>\n      <td>impute_cmeans</td>\n      <td>Precipitation</td>\n      <td>Temperature</td>\n      <td>AtmosphericPressure</td>\n      <td>IQR</td>\n      <td>STD</td>\n      <td>LOF</td>\n      <td>impute_mean</td>\n      <td>impute_random</td>\n      <td>impute_random_forest</td>\n      <td>AtmosphericPressure</td>\n      <td>Precipitation</td>\n      <td>Temperature</td>\n      <td>70</td>\n      <td>NaN</td>\n    </tr>\n    <tr>\n      <th>34996</th>\n      <td>accuracy</td>\n      <td>completeness</td>\n      <td>impute_median</td>\n      <td>impute_random_forest</td>\n      <td>impute_cmeans</td>\n      <td>Temperature</td>\n      <td>AtmosphericPressure</td>\n      <td>Precipitation</td>\n      <td>ISO</td>\n      <td>PERC</td>\n      <td>STD</td>\n      <td>impute_knn</td>\n      <td>impute_random_forest</td>\n      <td>impute_cmeans</td>\n      <td>Temperature</td>\n      <td>Precipitation</td>\n      <td>AtmosphericPressure</td>\n      <td>80</td>\n      <td>NaN</td>\n    </tr>\n    <tr>\n      <th>34997</th>\n      <td>completeness</td>\n      <td>accuracy</td>\n      <td>impute_standard</td>\n      <td>impute_random</td>\n      <td>impute_knn</td>\n      <td>AtmosphericPressure</td>\n      <td>Precipitation</td>\n      <td>Temperature</td>\n      <td>IQR</td>\n      <td>ZSB</td>\n      <td>LOF</td>\n      <td>impute_median</td>\n      <td>impute_random</td>\n      <td>impute_mice</td>\n      <td>Precipitation</td>\n      <td>Temperature</td>\n      <td>AtmosphericPressure</td>\n      <td>90</td>\n      <td>NaN</td>\n    </tr>\n    <tr>\n      <th>34998</th>\n      <td>completeness</td>\n      <td>accuracy</td>\n      <td>impute_standard</td>\n      <td>impute_knn</td>\n      <td>impute_random_forest</td>\n      <td>Precipitation</td>\n      <td>Temperature</td>\n      <td>AtmosphericPressure</td>\n      <td>ISO</td>\n      <td>ZSB</td>\n      <td>LOF</td>\n      <td>impute_mean</td>\n      <td>impute_mice</td>\n      <td>impute_linear_regression</td>\n      <td>Precipitation</td>\n      <td>Temperature</td>\n      <td>AtmosphericPressure</td>\n      <td>80</td>\n      <td>NaN</td>\n    </tr>\n  </tbody>\n</table>\n<p>26399 rows × 19 columns</p>\n</div>"
     },
     "execution_count": 85,
     "metadata": {},
     "output_type": "execute_result"
    }
   ],
   "source": [
    "prova.drop_duplicates()\n"
   ],
   "metadata": {
    "collapsed": false
   }
  },
  {
   "cell_type": "code",
   "execution_count": null,
   "outputs": [],
   "source": [
    "### non ci sono combinazioni duplicate, troppo poco probabile!\n"
   ],
   "metadata": {
    "collapsed": false
   }
  }
 ],
 "metadata": {
  "kernelspec": {
   "display_name": "Python 3",
   "language": "python",
   "name": "python3"
  },
  "language_info": {
   "codemirror_mode": {
    "name": "ipython",
    "version": 2
   },
   "file_extension": ".py",
   "mimetype": "text/x-python",
   "name": "python",
   "nbconvert_exporter": "python",
   "pygments_lexer": "ipython2",
   "version": "2.7.6"
  }
 },
 "nbformat": 4,
 "nbformat_minor": 0
}
