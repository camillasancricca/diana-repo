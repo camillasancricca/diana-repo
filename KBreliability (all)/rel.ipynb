{
 "cells": [
  {
   "cell_type": "code",
   "execution_count": 1,
   "metadata": {
    "collapsed": true
   },
   "outputs": [
    {
     "data": {
      "text/plain": "         A       B\n0    15.90   45.29\n1    15.90   41.63\n2     7.79    0.00\n3     7.79    0.00\n4     7.79    0.00\n..     ...     ...\n281  15.09  125.24\n282  13.32   23.44\n283  13.32   23.78\n284  13.32   23.78\n285  10.05  109.65\n\n[286 rows x 2 columns]",
      "text/html": "<div>\n<style scoped>\n    .dataframe tbody tr th:only-of-type {\n        vertical-align: middle;\n    }\n\n    .dataframe tbody tr th {\n        vertical-align: top;\n    }\n\n    .dataframe thead th {\n        text-align: right;\n    }\n</style>\n<table border=\"1\" class=\"dataframe\">\n  <thead>\n    <tr style=\"text-align: right;\">\n      <th></th>\n      <th>A</th>\n      <th>B</th>\n    </tr>\n  </thead>\n  <tbody>\n    <tr>\n      <th>0</th>\n      <td>15.90</td>\n      <td>45.29</td>\n    </tr>\n    <tr>\n      <th>1</th>\n      <td>15.90</td>\n      <td>41.63</td>\n    </tr>\n    <tr>\n      <th>2</th>\n      <td>7.79</td>\n      <td>0.00</td>\n    </tr>\n    <tr>\n      <th>3</th>\n      <td>7.79</td>\n      <td>0.00</td>\n    </tr>\n    <tr>\n      <th>4</th>\n      <td>7.79</td>\n      <td>0.00</td>\n    </tr>\n    <tr>\n      <th>...</th>\n      <td>...</td>\n      <td>...</td>\n    </tr>\n    <tr>\n      <th>281</th>\n      <td>15.09</td>\n      <td>125.24</td>\n    </tr>\n    <tr>\n      <th>282</th>\n      <td>13.32</td>\n      <td>23.44</td>\n    </tr>\n    <tr>\n      <th>283</th>\n      <td>13.32</td>\n      <td>23.78</td>\n    </tr>\n    <tr>\n      <th>284</th>\n      <td>13.32</td>\n      <td>23.78</td>\n    </tr>\n    <tr>\n      <th>285</th>\n      <td>10.05</td>\n      <td>109.65</td>\n    </tr>\n  </tbody>\n</table>\n<p>286 rows × 2 columns</p>\n</div>"
     },
     "execution_count": 1,
     "metadata": {},
     "output_type": "execute_result"
    }
   ],
   "source": [
    "import pandas as pd\n",
    "df = pd.read_csv('reliability.csv')\n",
    "df\n"
   ]
  },
  {
   "cell_type": "code",
   "execution_count": 8,
   "outputs": [
    {
     "data": {
      "text/plain": "         A       B      C      D      E\n0    15.90   45.29  30.60  24.72  21.78\n1    15.90   41.63  28.76  23.62  21.05\n2     7.79    0.00   3.90   5.45   6.23\n3     7.79    0.00   3.90   5.45   6.23\n4     7.79    0.00   3.90   5.45   6.23\n..     ...     ...    ...    ...    ...\n281  15.09  125.24  70.16  48.13  37.12\n282  13.32   23.44  18.38  16.36  15.34\n283  13.32   23.78  18.55  16.46  15.41\n284  13.32   23.78  18.55  16.46  15.41\n285  10.05  109.65  59.85  39.93  29.97\n\n[286 rows x 5 columns]",
      "text/html": "<div>\n<style scoped>\n    .dataframe tbody tr th:only-of-type {\n        vertical-align: middle;\n    }\n\n    .dataframe tbody tr th {\n        vertical-align: top;\n    }\n\n    .dataframe thead th {\n        text-align: right;\n    }\n</style>\n<table border=\"1\" class=\"dataframe\">\n  <thead>\n    <tr style=\"text-align: right;\">\n      <th></th>\n      <th>A</th>\n      <th>B</th>\n      <th>C</th>\n      <th>D</th>\n      <th>E</th>\n    </tr>\n  </thead>\n  <tbody>\n    <tr>\n      <th>0</th>\n      <td>15.90</td>\n      <td>45.29</td>\n      <td>30.60</td>\n      <td>24.72</td>\n      <td>21.78</td>\n    </tr>\n    <tr>\n      <th>1</th>\n      <td>15.90</td>\n      <td>41.63</td>\n      <td>28.76</td>\n      <td>23.62</td>\n      <td>21.05</td>\n    </tr>\n    <tr>\n      <th>2</th>\n      <td>7.79</td>\n      <td>0.00</td>\n      <td>3.90</td>\n      <td>5.45</td>\n      <td>6.23</td>\n    </tr>\n    <tr>\n      <th>3</th>\n      <td>7.79</td>\n      <td>0.00</td>\n      <td>3.90</td>\n      <td>5.45</td>\n      <td>6.23</td>\n    </tr>\n    <tr>\n      <th>4</th>\n      <td>7.79</td>\n      <td>0.00</td>\n      <td>3.90</td>\n      <td>5.45</td>\n      <td>6.23</td>\n    </tr>\n    <tr>\n      <th>...</th>\n      <td>...</td>\n      <td>...</td>\n      <td>...</td>\n      <td>...</td>\n      <td>...</td>\n    </tr>\n    <tr>\n      <th>281</th>\n      <td>15.09</td>\n      <td>125.24</td>\n      <td>70.16</td>\n      <td>48.13</td>\n      <td>37.12</td>\n    </tr>\n    <tr>\n      <th>282</th>\n      <td>13.32</td>\n      <td>23.44</td>\n      <td>18.38</td>\n      <td>16.36</td>\n      <td>15.34</td>\n    </tr>\n    <tr>\n      <th>283</th>\n      <td>13.32</td>\n      <td>23.78</td>\n      <td>18.55</td>\n      <td>16.46</td>\n      <td>15.41</td>\n    </tr>\n    <tr>\n      <th>284</th>\n      <td>13.32</td>\n      <td>23.78</td>\n      <td>18.55</td>\n      <td>16.46</td>\n      <td>15.41</td>\n    </tr>\n    <tr>\n      <th>285</th>\n      <td>10.05</td>\n      <td>109.65</td>\n      <td>59.85</td>\n      <td>39.93</td>\n      <td>29.97</td>\n    </tr>\n  </tbody>\n</table>\n<p>286 rows × 5 columns</p>\n</div>"
     },
     "execution_count": 8,
     "metadata": {},
     "output_type": "execute_result"
    }
   ],
   "source": [
    "df['C'] = round(df.A*0.5 + df.B*0.5,2)\n",
    "df['D'] = round(df.A*0.7 + df.B*0.3,2)\n",
    "df['E'] = round(df.A*0.8 + df.B*0.2,2)\n",
    "df\n"
   ],
   "metadata": {
    "collapsed": false
   }
  },
  {
   "cell_type": "code",
   "execution_count": 9,
   "outputs": [],
   "source": [
    "df.to_csv('rel.csv',index=False)\n"
   ],
   "metadata": {
    "collapsed": false
   }
  },
  {
   "cell_type": "code",
   "execution_count": null,
   "outputs": [],
   "source": [],
   "metadata": {
    "collapsed": false
   }
  }
 ],
 "metadata": {
  "kernelspec": {
   "display_name": "Python 3",
   "language": "python",
   "name": "python3"
  },
  "language_info": {
   "codemirror_mode": {
    "name": "ipython",
    "version": 2
   },
   "file_extension": ".py",
   "mimetype": "text/x-python",
   "name": "python",
   "nbconvert_exporter": "python",
   "pygments_lexer": "ipython2",
   "version": "2.7.6"
  }
 },
 "nbformat": 4,
 "nbformat_minor": 0
}
