{
 "cells": [
  {
   "cell_type": "code",
   "execution_count": 1,
   "outputs": [],
   "source": [
    "import itertools\n",
    "\n",
    "import pandas as pd\n",
    "\n",
    "selected_features = ['Temperature','Precipitation','AtmosphericPressure']\n",
    "imputation_techniques = ['impute_standard','impute_mean','impute_median','impute_random','impute_knn','impute_mice','impute_linear_regression','impute_random_forest','impute_cmeans']\n",
    "od_techniques = ['IQR', 'ISO', 'PERC', 'STD', 'ZSB', 'KNN', 'LOF']\n",
    "dimensions = ['accuracy','completeness']"
   ],
   "metadata": {
    "collapsed": false
   }
  },
  {
   "cell_type": "code",
   "execution_count": 2,
   "outputs": [],
   "source": [
    "quality = pd.DataFrame([60,65,70,75,80,85,90,95])"
   ],
   "metadata": {
    "collapsed": false
   }
  },
  {
   "cell_type": "code",
   "execution_count": 3,
   "outputs": [],
   "source": [
    "dim = pd.DataFrame(list(itertools.permutations(dimensions)))"
   ],
   "metadata": {
    "collapsed": false
   }
  },
  {
   "cell_type": "code",
   "execution_count": 4,
   "outputs": [],
   "source": [
    "order = list(itertools.permutations(selected_features))"
   ],
   "metadata": {
    "collapsed": false
   }
  },
  {
   "cell_type": "code",
   "execution_count": 5,
   "outputs": [],
   "source": [
    "imp = list(itertools.combinations(imputation_techniques,3))"
   ],
   "metadata": {
    "collapsed": false
   }
  },
  {
   "cell_type": "code",
   "execution_count": 6,
   "outputs": [],
   "source": [
    "ods = list(itertools.combinations(od_techniques,3))"
   ],
   "metadata": {
    "collapsed": false
   }
  },
  {
   "cell_type": "code",
   "execution_count": 7,
   "outputs": [],
   "source": [
    "###schedule"
   ],
   "metadata": {
    "collapsed": false
   }
  },
  {
   "cell_type": "code",
   "execution_count": 8,
   "outputs": [],
   "source": [
    "order = pd.DataFrame(order)\n",
    "imp = pd.DataFrame(imp)"
   ],
   "metadata": {
    "collapsed": false
   }
  },
  {
   "cell_type": "code",
   "execution_count": 9,
   "outputs": [],
   "source": [
    "schedule_compl = imp.merge(order, how='cross')"
   ],
   "metadata": {
    "collapsed": false
   }
  },
  {
   "cell_type": "code",
   "execution_count": 10,
   "outputs": [],
   "source": [
    "schedule_acc = pd.DataFrame(ods).merge(schedule_compl, how='cross')"
   ],
   "metadata": {
    "collapsed": false
   }
  },
  {
   "cell_type": "code",
   "execution_count": 11,
   "outputs": [],
   "source": [
    "schedule_tot = schedule_compl.merge(schedule_acc, how='cross')"
   ],
   "metadata": {
    "collapsed": false
   }
  },
  {
   "cell_type": "code",
   "execution_count": 12,
   "outputs": [],
   "source": [
    "schedule_tot_dim = dim.merge(schedule_tot, how='cross')"
   ],
   "metadata": {
    "collapsed": false
   }
  },
  {
   "cell_type": "code",
   "execution_count": 13,
   "outputs": [],
   "source": [
    "schedule_tot_perc = schedule_tot_dim.merge(quality, how='cross')"
   ],
   "metadata": {
    "collapsed": false
   }
  },
  {
   "cell_type": "code",
   "execution_count": 14,
   "outputs": [],
   "source": [
    "schedule_tot_perc.columns = ['dimension_1','dimension_2','imp_1','imp_2','imp_3','imp_col_1','imp_col_2','imp_col_3','od_1','od_2','od_3','od_imp_1','od_imp_2','od_imp_3','od_imp_col_1','od_imp_col_2','od_imp_col_3','quality']"
   ],
   "metadata": {
    "collapsed": false
   }
  },
  {
   "cell_type": "code",
   "execution_count": 20,
   "outputs": [],
   "source": [
    "N = len(schedule_tot_perc)"
   ],
   "metadata": {
    "collapsed": false
   }
  },
  {
   "cell_type": "code",
   "execution_count": 21,
   "outputs": [
    {
     "data": {
      "text/plain": "142248960"
     },
     "execution_count": 21,
     "metadata": {},
     "output_type": "execute_result"
    }
   ],
   "source": [
    "N"
   ],
   "metadata": {
    "collapsed": false
   }
  },
  {
   "cell_type": "code",
   "execution_count": 24,
   "outputs": [
    {
     "data": {
      "text/plain": "14224"
     },
     "execution_count": 24,
     "metadata": {},
     "output_type": "execute_result"
    }
   ],
   "source": [
    "size = int(N*0.0001)\n",
    "size"
   ],
   "metadata": {
    "collapsed": false
   }
  },
  {
   "cell_type": "code",
   "execution_count": 25,
   "outputs": [],
   "source": [
    "sample = schedule_tot_perc.sample(n=size)"
   ],
   "metadata": {
    "collapsed": false
   }
  },
  {
   "cell_type": "code",
   "execution_count": 26,
   "outputs": [
    {
     "data": {
      "text/plain": "            dimension_1   dimension_2            imp_1  \\\n53517718       accuracy  completeness    impute_median   \n119329465  completeness      accuracy    impute_median   \n72203880   completeness      accuracy  impute_standard   \n2928385        accuracy  completeness  impute_standard   \n129819365  completeness      accuracy    impute_random   \n...                 ...           ...              ...   \n122018751  completeness      accuracy    impute_median   \n66217736       accuracy  completeness       impute_knn   \n42324897       accuracy  completeness    impute_median   \n86111550   completeness      accuracy  impute_standard   \n132232724  completeness      accuracy    impute_random   \n\n                              imp_2                 imp_3  \\\n53517718       impute_random_forest         impute_cmeans   \n119329465                impute_knn  impute_random_forest   \n72203880                impute_mean         impute_random   \n2928385                 impute_mean           impute_mice   \n129819365               impute_mice  impute_random_forest   \n...                             ...                   ...   \n122018751               impute_mice         impute_cmeans   \n66217736   impute_linear_regression         impute_cmeans   \n42324897              impute_random            impute_knn   \n86111550              impute_random         impute_cmeans   \n132232724  impute_linear_regression         impute_cmeans   \n\n                     imp_col_1            imp_col_2            imp_col_3  \\\n53517718           Temperature  AtmosphericPressure        Precipitation   \n119329465  AtmosphericPressure        Precipitation          Temperature   \n72203880           Temperature  AtmosphericPressure        Precipitation   \n2928385          Precipitation          Temperature  AtmosphericPressure   \n129819365          Temperature  AtmosphericPressure        Precipitation   \n...                        ...                  ...                  ...   \n122018751          Temperature        Precipitation  AtmosphericPressure   \n66217736           Temperature  AtmosphericPressure        Precipitation   \n42324897   AtmosphericPressure        Precipitation          Temperature   \n86111550   AtmosphericPressure          Temperature        Precipitation   \n132232724          Temperature  AtmosphericPressure        Precipitation   \n\n           od_1  od_2  od_3         od_imp_1       od_imp_2  \\\n53517718    IQR  PERC   LOF  impute_standard     impute_knn   \n119329465   ISO   STD   KNN    impute_median  impute_random   \n72203880    ISO   ZSB   KNN    impute_median    impute_mice   \n2928385    PERC   STD   KNN  impute_standard    impute_mice   \n129819365   STD   ZSB   LOF  impute_standard    impute_mice   \n...         ...   ...   ...              ...            ...   \n122018751   ISO   ZSB   KNN    impute_median  impute_random   \n66217736    IQR  PERC   LOF  impute_standard    impute_mean   \n42324897    STD   ZSB   LOF  impute_standard     impute_knn   \n86111550    IQR  PERC   KNN  impute_standard    impute_mean   \n132232724   IQR   ISO  PERC    impute_random    impute_mice   \n\n                           od_imp_3         od_imp_col_1         od_imp_col_2  \\\n53517718       impute_random_forest        Precipitation          Temperature   \n119329465               impute_mice        Precipitation  AtmosphericPressure   \n72203880       impute_random_forest        Precipitation  AtmosphericPressure   \n2928385               impute_cmeans          Temperature        Precipitation   \n129819365  impute_linear_regression          Temperature        Precipitation   \n...                             ...                  ...                  ...   \n122018751                impute_knn          Temperature  AtmosphericPressure   \n66217736   impute_linear_regression          Temperature  AtmosphericPressure   \n42324897       impute_random_forest  AtmosphericPressure          Temperature   \n86111550                 impute_knn        Precipitation  AtmosphericPressure   \n132232724  impute_linear_regression        Precipitation          Temperature   \n\n                  od_imp_col_3  quality  \n53517718   AtmosphericPressure       90  \n119329465          Temperature       65  \n72203880           Temperature       60  \n2928385    AtmosphericPressure       65  \n129819365  AtmosphericPressure       85  \n...                        ...      ...  \n122018751        Precipitation       95  \n66217736         Precipitation       60  \n42324897         Precipitation       65  \n86111550           Temperature       90  \n132232724  AtmosphericPressure       80  \n\n[14224 rows x 18 columns]",
      "text/html": "<div>\n<style scoped>\n    .dataframe tbody tr th:only-of-type {\n        vertical-align: middle;\n    }\n\n    .dataframe tbody tr th {\n        vertical-align: top;\n    }\n\n    .dataframe thead th {\n        text-align: right;\n    }\n</style>\n<table border=\"1\" class=\"dataframe\">\n  <thead>\n    <tr style=\"text-align: right;\">\n      <th></th>\n      <th>dimension_1</th>\n      <th>dimension_2</th>\n      <th>imp_1</th>\n      <th>imp_2</th>\n      <th>imp_3</th>\n      <th>imp_col_1</th>\n      <th>imp_col_2</th>\n      <th>imp_col_3</th>\n      <th>od_1</th>\n      <th>od_2</th>\n      <th>od_3</th>\n      <th>od_imp_1</th>\n      <th>od_imp_2</th>\n      <th>od_imp_3</th>\n      <th>od_imp_col_1</th>\n      <th>od_imp_col_2</th>\n      <th>od_imp_col_3</th>\n      <th>quality</th>\n    </tr>\n  </thead>\n  <tbody>\n    <tr>\n      <th>53517718</th>\n      <td>accuracy</td>\n      <td>completeness</td>\n      <td>impute_median</td>\n      <td>impute_random_forest</td>\n      <td>impute_cmeans</td>\n      <td>Temperature</td>\n      <td>AtmosphericPressure</td>\n      <td>Precipitation</td>\n      <td>IQR</td>\n      <td>PERC</td>\n      <td>LOF</td>\n      <td>impute_standard</td>\n      <td>impute_knn</td>\n      <td>impute_random_forest</td>\n      <td>Precipitation</td>\n      <td>Temperature</td>\n      <td>AtmosphericPressure</td>\n      <td>90</td>\n    </tr>\n    <tr>\n      <th>119329465</th>\n      <td>completeness</td>\n      <td>accuracy</td>\n      <td>impute_median</td>\n      <td>impute_knn</td>\n      <td>impute_random_forest</td>\n      <td>AtmosphericPressure</td>\n      <td>Precipitation</td>\n      <td>Temperature</td>\n      <td>ISO</td>\n      <td>STD</td>\n      <td>KNN</td>\n      <td>impute_median</td>\n      <td>impute_random</td>\n      <td>impute_mice</td>\n      <td>Precipitation</td>\n      <td>AtmosphericPressure</td>\n      <td>Temperature</td>\n      <td>65</td>\n    </tr>\n    <tr>\n      <th>72203880</th>\n      <td>completeness</td>\n      <td>accuracy</td>\n      <td>impute_standard</td>\n      <td>impute_mean</td>\n      <td>impute_random</td>\n      <td>Temperature</td>\n      <td>AtmosphericPressure</td>\n      <td>Precipitation</td>\n      <td>ISO</td>\n      <td>ZSB</td>\n      <td>KNN</td>\n      <td>impute_median</td>\n      <td>impute_mice</td>\n      <td>impute_random_forest</td>\n      <td>Precipitation</td>\n      <td>AtmosphericPressure</td>\n      <td>Temperature</td>\n      <td>60</td>\n    </tr>\n    <tr>\n      <th>2928385</th>\n      <td>accuracy</td>\n      <td>completeness</td>\n      <td>impute_standard</td>\n      <td>impute_mean</td>\n      <td>impute_mice</td>\n      <td>Precipitation</td>\n      <td>Temperature</td>\n      <td>AtmosphericPressure</td>\n      <td>PERC</td>\n      <td>STD</td>\n      <td>KNN</td>\n      <td>impute_standard</td>\n      <td>impute_mice</td>\n      <td>impute_cmeans</td>\n      <td>Temperature</td>\n      <td>Precipitation</td>\n      <td>AtmosphericPressure</td>\n      <td>65</td>\n    </tr>\n    <tr>\n      <th>129819365</th>\n      <td>completeness</td>\n      <td>accuracy</td>\n      <td>impute_random</td>\n      <td>impute_mice</td>\n      <td>impute_random_forest</td>\n      <td>Temperature</td>\n      <td>AtmosphericPressure</td>\n      <td>Precipitation</td>\n      <td>STD</td>\n      <td>ZSB</td>\n      <td>LOF</td>\n      <td>impute_standard</td>\n      <td>impute_mice</td>\n      <td>impute_linear_regression</td>\n      <td>Temperature</td>\n      <td>Precipitation</td>\n      <td>AtmosphericPressure</td>\n      <td>85</td>\n    </tr>\n    <tr>\n      <th>...</th>\n      <td>...</td>\n      <td>...</td>\n      <td>...</td>\n      <td>...</td>\n      <td>...</td>\n      <td>...</td>\n      <td>...</td>\n      <td>...</td>\n      <td>...</td>\n      <td>...</td>\n      <td>...</td>\n      <td>...</td>\n      <td>...</td>\n      <td>...</td>\n      <td>...</td>\n      <td>...</td>\n      <td>...</td>\n      <td>...</td>\n    </tr>\n    <tr>\n      <th>122018751</th>\n      <td>completeness</td>\n      <td>accuracy</td>\n      <td>impute_median</td>\n      <td>impute_mice</td>\n      <td>impute_cmeans</td>\n      <td>Temperature</td>\n      <td>Precipitation</td>\n      <td>AtmosphericPressure</td>\n      <td>ISO</td>\n      <td>ZSB</td>\n      <td>KNN</td>\n      <td>impute_median</td>\n      <td>impute_random</td>\n      <td>impute_knn</td>\n      <td>Temperature</td>\n      <td>AtmosphericPressure</td>\n      <td>Precipitation</td>\n      <td>95</td>\n    </tr>\n    <tr>\n      <th>66217736</th>\n      <td>accuracy</td>\n      <td>completeness</td>\n      <td>impute_knn</td>\n      <td>impute_linear_regression</td>\n      <td>impute_cmeans</td>\n      <td>Temperature</td>\n      <td>AtmosphericPressure</td>\n      <td>Precipitation</td>\n      <td>IQR</td>\n      <td>PERC</td>\n      <td>LOF</td>\n      <td>impute_standard</td>\n      <td>impute_mean</td>\n      <td>impute_linear_regression</td>\n      <td>Temperature</td>\n      <td>AtmosphericPressure</td>\n      <td>Precipitation</td>\n      <td>60</td>\n    </tr>\n    <tr>\n      <th>42324897</th>\n      <td>accuracy</td>\n      <td>completeness</td>\n      <td>impute_median</td>\n      <td>impute_random</td>\n      <td>impute_knn</td>\n      <td>AtmosphericPressure</td>\n      <td>Precipitation</td>\n      <td>Temperature</td>\n      <td>STD</td>\n      <td>ZSB</td>\n      <td>LOF</td>\n      <td>impute_standard</td>\n      <td>impute_knn</td>\n      <td>impute_random_forest</td>\n      <td>AtmosphericPressure</td>\n      <td>Temperature</td>\n      <td>Precipitation</td>\n      <td>65</td>\n    </tr>\n    <tr>\n      <th>86111550</th>\n      <td>completeness</td>\n      <td>accuracy</td>\n      <td>impute_standard</td>\n      <td>impute_random</td>\n      <td>impute_cmeans</td>\n      <td>AtmosphericPressure</td>\n      <td>Temperature</td>\n      <td>Precipitation</td>\n      <td>IQR</td>\n      <td>PERC</td>\n      <td>KNN</td>\n      <td>impute_standard</td>\n      <td>impute_mean</td>\n      <td>impute_knn</td>\n      <td>Precipitation</td>\n      <td>AtmosphericPressure</td>\n      <td>Temperature</td>\n      <td>90</td>\n    </tr>\n    <tr>\n      <th>132232724</th>\n      <td>completeness</td>\n      <td>accuracy</td>\n      <td>impute_random</td>\n      <td>impute_linear_regression</td>\n      <td>impute_cmeans</td>\n      <td>Temperature</td>\n      <td>AtmosphericPressure</td>\n      <td>Precipitation</td>\n      <td>IQR</td>\n      <td>ISO</td>\n      <td>PERC</td>\n      <td>impute_random</td>\n      <td>impute_mice</td>\n      <td>impute_linear_regression</td>\n      <td>Precipitation</td>\n      <td>Temperature</td>\n      <td>AtmosphericPressure</td>\n      <td>80</td>\n    </tr>\n  </tbody>\n</table>\n<p>14224 rows × 18 columns</p>\n</div>"
     },
     "execution_count": 26,
     "metadata": {},
     "output_type": "execute_result"
    }
   ],
   "source": [
    "sample"
   ],
   "metadata": {
    "collapsed": false
   }
  },
  {
   "cell_type": "code",
   "execution_count": 27,
   "outputs": [],
   "source": [
    "sample.to_csv('sample_schedule.csv',index=False)"
   ],
   "metadata": {
    "collapsed": false
   }
  },
  {
   "cell_type": "code",
   "execution_count": null,
   "outputs": [],
   "source": [
    "### aggiungere al sample_schedule le azioni suggerite"
   ],
   "metadata": {
    "collapsed": false
   }
  },
  {
   "cell_type": "code",
   "execution_count": null,
   "outputs": [],
   "source": [
    "### eseguo prima lo schedule delle azioni suggerite\n",
    "### va fatto per ogni percentuale di qualità e sul profilo del dataset sporco!"
   ],
   "metadata": {
    "collapsed": false
   }
  },
  {
   "cell_type": "code",
   "execution_count": null,
   "outputs": [],
   "source": [],
   "metadata": {
    "collapsed": false
   }
  },
  {
   "cell_type": "code",
   "execution_count": null,
   "outputs": [],
   "source": [],
   "metadata": {
    "collapsed": false
   }
  },
  {
   "cell_type": "code",
   "execution_count": null,
   "outputs": [],
   "source": [],
   "metadata": {
    "collapsed": false
   }
  },
  {
   "cell_type": "code",
   "execution_count": null,
   "outputs": [],
   "source": [],
   "metadata": {
    "collapsed": false
   }
  },
  {
   "cell_type": "code",
   "execution_count": null,
   "outputs": [],
   "source": [
    "#schedule_tot_perc.to_csv('schedule.csv',index=False)"
   ],
   "metadata": {
    "collapsed": false,
    "pycharm": {
     "is_executing": true
    }
   }
  },
  {
   "cell_type": "code",
   "execution_count": null,
   "outputs": [],
   "source": [
    "### aggiungere dopo quando prendo il sample altrimenti non funziona troppo grande"
   ],
   "metadata": {
    "collapsed": false
   }
  },
  {
   "cell_type": "code",
   "execution_count": 17,
   "outputs": [],
   "source": [
    "#schedule_tot_perc[['DecisionTree_1','LogisticRegression_1','KNN_1','RandomForest_1','AdaBoost_1','SVC_1','DecisionTree_2','LogisticRegression_2','KNN_2','RandomForest_2','AdaBoost_2','SVC_2']] = 0"
   ],
   "metadata": {
    "collapsed": false
   }
  },
  {
   "cell_type": "code",
   "execution_count": null,
   "outputs": [],
   "source": [
    "#schedule_tot_perc.to_csv('schedule.csv',index=None)"
   ],
   "metadata": {
    "collapsed": false,
    "pycharm": {
     "is_executing": true
    }
   }
  },
  {
   "cell_type": "code",
   "execution_count": null,
   "outputs": [],
   "source": [],
   "metadata": {
    "collapsed": false
   }
  },
  {
   "cell_type": "code",
   "execution_count": null,
   "outputs": [],
   "source": [],
   "metadata": {
    "collapsed": false
   }
  },
  {
   "cell_type": "code",
   "execution_count": null,
   "outputs": [],
   "source": [],
   "metadata": {
    "collapsed": false
   }
  },
  {
   "cell_type": "code",
   "execution_count": null,
   "outputs": [],
   "source": [
    "# 3 numerical columns\n",
    "# % quality: 95,90,85,80,75,70,65,60\n",
    "# splits: 8 cross-validation\n",
    "# seeds: from 1 to 8? - maybe only 1 with 8-fold\n",
    "\n",
    "### pseudocode for 1 seed\n",
    "\n",
    "### SUGGESTED SCHEDULE\n",
    "# forall % of quality\n",
    "    # create dirty data\n",
    "\n",
    "    # extract suggested ranking + technique for imp and ods\n",
    "\n",
    "    # create suggested schedule given the suggestions (for each % of quality a different ranking and schedule)\n",
    "\n",
    "        ## considering setup of the line:\n",
    "\n",
    "    # improve acc -> improve compl\n",
    "    # or (depending on the line)\n",
    "    # improve compl -> improve acc\n",
    "\n",
    "# --- #\n",
    "\n",
    "### SAMPLE SCHEDULE\n",
    "# forall line of schedule\n",
    "    # create dirty data\n",
    "\n",
    "        ## considering setup of the line:\n",
    "\n",
    "    # improve acc -> improve compl\n",
    "    # or (depending on the line)\n",
    "    # improve compl -> improve acc\n",
    "\n",
    "# --- #\n",
    "\n",
    "## improve acc (od_1, od_2, od_3)\n",
    "        # apply od on columns 1 2 3\n",
    "        # create dataset without outliers -> with nan\n",
    "\n",
    "        # extract new column profiles\n",
    "        # exctract suggested technique for imp\n",
    "\n",
    "        # forall possible orders (123, 231, 321, ...)\n",
    "            # improve compl(imp_1,imp_2_imp_3,imp_col_1,imp_col_2,imp_col_3)\n",
    "            # save combination ods - imp and results for 6 algorithms\n",
    "\n",
    "# --- #\n",
    "\n",
    "## improve compl (imp_1,imp_2_imp_3,imp_col_1,imp_col_2,imp_col_3)\n",
    "    # apply imputation on columns in that order\n",
    "    # save combination imp and results for 6 algorithms\n"
   ],
   "metadata": {
    "collapsed": false
   }
  }
 ],
 "metadata": {
  "kernelspec": {
   "display_name": "Python 3",
   "language": "python",
   "name": "python3"
  },
  "language_info": {
   "codemirror_mode": {
    "name": "ipython",
    "version": 2
   },
   "file_extension": ".py",
   "mimetype": "text/x-python",
   "name": "python",
   "nbconvert_exporter": "python",
   "pygments_lexer": "ipython2",
   "version": "2.7.6"
  }
 },
 "nbformat": 4,
 "nbformat_minor": 0
}
