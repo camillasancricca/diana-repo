{
 "cells": [
  {
   "cell_type": "code",
   "execution_count": 69,
   "metadata": {
    "collapsed": true
   },
   "outputs": [
    {
     "data": {
      "text/plain": "        dimension_1   dimension_2                     imp_1  \\\n0      completeness      accuracy           impute_standard   \n1      completeness      accuracy  impute_linear_regression   \n2      completeness      accuracy             impute_median   \n3          accuracy  completeness                impute_knn   \n4          accuracy  completeness           impute_standard   \n...             ...           ...                       ...   \n34995  completeness      accuracy           impute_standard   \n34996      accuracy  completeness             impute_median   \n34997  completeness      accuracy           impute_standard   \n34998  completeness      accuracy           impute_standard   \n34999      accuracy  completeness             impute_median   \n\n                      imp_2                     imp_3            imp_col_1  \\\n0             impute_random               impute_mice  AtmosphericPressure   \n1      impute_random_forest             impute_cmeans          Temperature   \n2             impute_random  impute_linear_regression        Precipitation   \n3               impute_mice      impute_random_forest  AtmosphericPressure   \n4             impute_median  impute_linear_regression          Temperature   \n...                     ...                       ...                  ...   \n34995  impute_random_forest             impute_cmeans        Precipitation   \n34996  impute_random_forest             impute_cmeans          Temperature   \n34997         impute_random                impute_knn  AtmosphericPressure   \n34998            impute_knn      impute_random_forest        Precipitation   \n34999            impute_knn               impute_mice  AtmosphericPressure   \n\n                 imp_col_2            imp_col_3  od_1  od_2  ...     KNN_1  \\\n0            Precipitation          Temperature  PERC   KNN  ...  0.707465   \n1            Precipitation  AtmosphericPressure   IQR   ZSB  ...  0.631757   \n2      AtmosphericPressure          Temperature   IQR   ISO  ...  0.628371   \n3              Temperature        Precipitation   ISO  PERC  ...  0.625692   \n4            Precipitation  AtmosphericPressure   IQR  PERC  ...  0.742215   \n...                    ...                  ...   ...   ...  ...       ...   \n34995          Temperature  AtmosphericPressure   IQR   STD  ...  0.647660   \n34996  AtmosphericPressure        Precipitation   ISO  PERC  ...  0.743602   \n34997        Precipitation          Temperature   IQR   ZSB  ...  0.777634   \n34998          Temperature  AtmosphericPressure   ISO   ZSB  ...  0.708279   \n34999          Temperature        Precipitation  PERC   STD  ...  0.627224   \n\n      RandomForest_1 AdaBoost_1     SVC_1 DecisionTree_2 LogisticRegression_2  \\\n0           0.781448   0.778914  0.195302       0.709054             0.459282   \n1           0.707279   0.699954  0.246435       0.639501             0.566027   \n2           0.703367   0.705435  0.267497       0.597757             0.486336   \n3           0.683249   0.689185  0.294205       0.633896             0.295456   \n4           0.766872   0.763178  0.344529       0.738199             0.592609   \n...              ...        ...       ...            ...                  ...   \n34995       0.733235   0.728152  0.207915       0.671022             0.494580   \n34996       0.776617   0.768867  0.191841       0.739456             0.499256   \n34997       0.829457   0.812490  0.174586       0.764329             0.705379   \n34998       0.777732   0.769581  0.188992       0.716861             0.617209   \n34999       0.631053   0.646636  0.174368       0.613920             0.348604   \n\n          KNN_2  RandomForest_2  AdaBoost_2     SVC_2  \n0      0.711414        0.759013    0.752079  0.267931  \n1      0.656177        0.689548    0.701564  0.217889  \n2      0.602195        0.641939    0.645291  0.189560  \n3      0.608728        0.667810    0.673135  0.194967  \n4      0.753555        0.766980    0.749408  0.443997  \n...         ...             ...         ...       ...  \n34995  0.672976        0.712249    0.716983  0.242898  \n34996  0.741194        0.764594    0.761844  0.161067  \n34997  0.787718        0.811989    0.815523  0.467705  \n34998  0.732010        0.766113    0.749799  0.275977  \n34999  0.612885        0.631112    0.633691  0.172805  \n\n[35000 rows x 36 columns]",
      "text/html": "<div>\n<style scoped>\n    .dataframe tbody tr th:only-of-type {\n        vertical-align: middle;\n    }\n\n    .dataframe tbody tr th {\n        vertical-align: top;\n    }\n\n    .dataframe thead th {\n        text-align: right;\n    }\n</style>\n<table border=\"1\" class=\"dataframe\">\n  <thead>\n    <tr style=\"text-align: right;\">\n      <th></th>\n      <th>dimension_1</th>\n      <th>dimension_2</th>\n      <th>imp_1</th>\n      <th>imp_2</th>\n      <th>imp_3</th>\n      <th>imp_col_1</th>\n      <th>imp_col_2</th>\n      <th>imp_col_3</th>\n      <th>od_1</th>\n      <th>od_2</th>\n      <th>...</th>\n      <th>KNN_1</th>\n      <th>RandomForest_1</th>\n      <th>AdaBoost_1</th>\n      <th>SVC_1</th>\n      <th>DecisionTree_2</th>\n      <th>LogisticRegression_2</th>\n      <th>KNN_2</th>\n      <th>RandomForest_2</th>\n      <th>AdaBoost_2</th>\n      <th>SVC_2</th>\n    </tr>\n  </thead>\n  <tbody>\n    <tr>\n      <th>0</th>\n      <td>completeness</td>\n      <td>accuracy</td>\n      <td>impute_standard</td>\n      <td>impute_random</td>\n      <td>impute_mice</td>\n      <td>AtmosphericPressure</td>\n      <td>Precipitation</td>\n      <td>Temperature</td>\n      <td>PERC</td>\n      <td>KNN</td>\n      <td>...</td>\n      <td>0.707465</td>\n      <td>0.781448</td>\n      <td>0.778914</td>\n      <td>0.195302</td>\n      <td>0.709054</td>\n      <td>0.459282</td>\n      <td>0.711414</td>\n      <td>0.759013</td>\n      <td>0.752079</td>\n      <td>0.267931</td>\n    </tr>\n    <tr>\n      <th>1</th>\n      <td>completeness</td>\n      <td>accuracy</td>\n      <td>impute_linear_regression</td>\n      <td>impute_random_forest</td>\n      <td>impute_cmeans</td>\n      <td>Temperature</td>\n      <td>Precipitation</td>\n      <td>AtmosphericPressure</td>\n      <td>IQR</td>\n      <td>ZSB</td>\n      <td>...</td>\n      <td>0.631757</td>\n      <td>0.707279</td>\n      <td>0.699954</td>\n      <td>0.246435</td>\n      <td>0.639501</td>\n      <td>0.566027</td>\n      <td>0.656177</td>\n      <td>0.689548</td>\n      <td>0.701564</td>\n      <td>0.217889</td>\n    </tr>\n    <tr>\n      <th>2</th>\n      <td>completeness</td>\n      <td>accuracy</td>\n      <td>impute_median</td>\n      <td>impute_random</td>\n      <td>impute_linear_regression</td>\n      <td>Precipitation</td>\n      <td>AtmosphericPressure</td>\n      <td>Temperature</td>\n      <td>IQR</td>\n      <td>ISO</td>\n      <td>...</td>\n      <td>0.628371</td>\n      <td>0.703367</td>\n      <td>0.705435</td>\n      <td>0.267497</td>\n      <td>0.597757</td>\n      <td>0.486336</td>\n      <td>0.602195</td>\n      <td>0.641939</td>\n      <td>0.645291</td>\n      <td>0.189560</td>\n    </tr>\n    <tr>\n      <th>3</th>\n      <td>accuracy</td>\n      <td>completeness</td>\n      <td>impute_knn</td>\n      <td>impute_mice</td>\n      <td>impute_random_forest</td>\n      <td>AtmosphericPressure</td>\n      <td>Temperature</td>\n      <td>Precipitation</td>\n      <td>ISO</td>\n      <td>PERC</td>\n      <td>...</td>\n      <td>0.625692</td>\n      <td>0.683249</td>\n      <td>0.689185</td>\n      <td>0.294205</td>\n      <td>0.633896</td>\n      <td>0.295456</td>\n      <td>0.608728</td>\n      <td>0.667810</td>\n      <td>0.673135</td>\n      <td>0.194967</td>\n    </tr>\n    <tr>\n      <th>4</th>\n      <td>accuracy</td>\n      <td>completeness</td>\n      <td>impute_standard</td>\n      <td>impute_median</td>\n      <td>impute_linear_regression</td>\n      <td>Temperature</td>\n      <td>Precipitation</td>\n      <td>AtmosphericPressure</td>\n      <td>IQR</td>\n      <td>PERC</td>\n      <td>...</td>\n      <td>0.742215</td>\n      <td>0.766872</td>\n      <td>0.763178</td>\n      <td>0.344529</td>\n      <td>0.738199</td>\n      <td>0.592609</td>\n      <td>0.753555</td>\n      <td>0.766980</td>\n      <td>0.749408</td>\n      <td>0.443997</td>\n    </tr>\n    <tr>\n      <th>...</th>\n      <td>...</td>\n      <td>...</td>\n      <td>...</td>\n      <td>...</td>\n      <td>...</td>\n      <td>...</td>\n      <td>...</td>\n      <td>...</td>\n      <td>...</td>\n      <td>...</td>\n      <td>...</td>\n      <td>...</td>\n      <td>...</td>\n      <td>...</td>\n      <td>...</td>\n      <td>...</td>\n      <td>...</td>\n      <td>...</td>\n      <td>...</td>\n      <td>...</td>\n      <td>...</td>\n    </tr>\n    <tr>\n      <th>34995</th>\n      <td>completeness</td>\n      <td>accuracy</td>\n      <td>impute_standard</td>\n      <td>impute_random_forest</td>\n      <td>impute_cmeans</td>\n      <td>Precipitation</td>\n      <td>Temperature</td>\n      <td>AtmosphericPressure</td>\n      <td>IQR</td>\n      <td>STD</td>\n      <td>...</td>\n      <td>0.647660</td>\n      <td>0.733235</td>\n      <td>0.728152</td>\n      <td>0.207915</td>\n      <td>0.671022</td>\n      <td>0.494580</td>\n      <td>0.672976</td>\n      <td>0.712249</td>\n      <td>0.716983</td>\n      <td>0.242898</td>\n    </tr>\n    <tr>\n      <th>34996</th>\n      <td>accuracy</td>\n      <td>completeness</td>\n      <td>impute_median</td>\n      <td>impute_random_forest</td>\n      <td>impute_cmeans</td>\n      <td>Temperature</td>\n      <td>AtmosphericPressure</td>\n      <td>Precipitation</td>\n      <td>ISO</td>\n      <td>PERC</td>\n      <td>...</td>\n      <td>0.743602</td>\n      <td>0.776617</td>\n      <td>0.768867</td>\n      <td>0.191841</td>\n      <td>0.739456</td>\n      <td>0.499256</td>\n      <td>0.741194</td>\n      <td>0.764594</td>\n      <td>0.761844</td>\n      <td>0.161067</td>\n    </tr>\n    <tr>\n      <th>34997</th>\n      <td>completeness</td>\n      <td>accuracy</td>\n      <td>impute_standard</td>\n      <td>impute_random</td>\n      <td>impute_knn</td>\n      <td>AtmosphericPressure</td>\n      <td>Precipitation</td>\n      <td>Temperature</td>\n      <td>IQR</td>\n      <td>ZSB</td>\n      <td>...</td>\n      <td>0.777634</td>\n      <td>0.829457</td>\n      <td>0.812490</td>\n      <td>0.174586</td>\n      <td>0.764329</td>\n      <td>0.705379</td>\n      <td>0.787718</td>\n      <td>0.811989</td>\n      <td>0.815523</td>\n      <td>0.467705</td>\n    </tr>\n    <tr>\n      <th>34998</th>\n      <td>completeness</td>\n      <td>accuracy</td>\n      <td>impute_standard</td>\n      <td>impute_knn</td>\n      <td>impute_random_forest</td>\n      <td>Precipitation</td>\n      <td>Temperature</td>\n      <td>AtmosphericPressure</td>\n      <td>ISO</td>\n      <td>ZSB</td>\n      <td>...</td>\n      <td>0.708279</td>\n      <td>0.777732</td>\n      <td>0.769581</td>\n      <td>0.188992</td>\n      <td>0.716861</td>\n      <td>0.617209</td>\n      <td>0.732010</td>\n      <td>0.766113</td>\n      <td>0.749799</td>\n      <td>0.275977</td>\n    </tr>\n    <tr>\n      <th>34999</th>\n      <td>accuracy</td>\n      <td>completeness</td>\n      <td>impute_median</td>\n      <td>impute_knn</td>\n      <td>impute_mice</td>\n      <td>AtmosphericPressure</td>\n      <td>Temperature</td>\n      <td>Precipitation</td>\n      <td>PERC</td>\n      <td>STD</td>\n      <td>...</td>\n      <td>0.627224</td>\n      <td>0.631053</td>\n      <td>0.646636</td>\n      <td>0.174368</td>\n      <td>0.613920</td>\n      <td>0.348604</td>\n      <td>0.612885</td>\n      <td>0.631112</td>\n      <td>0.633691</td>\n      <td>0.172805</td>\n    </tr>\n  </tbody>\n</table>\n<p>35000 rows × 36 columns</p>\n</div>"
     },
     "execution_count": 69,
     "metadata": {},
     "output_type": "execute_result"
    }
   ],
   "source": [
    "import pandas as pd\n",
    "sample = pd.read_csv('compiled_sample_schedule.csv')\n",
    "sample"
   ]
  },
  {
   "cell_type": "code",
   "execution_count": 70,
   "outputs": [
    {
     "data": {
      "text/plain": "      dimension_1   dimension_2       imp_1                     imp_2  \\\n5676     accuracy  completeness  impute_knn  impute_linear_regression   \n26473    accuracy  completeness  impute_knn  impute_linear_regression   \n30738    accuracy  completeness  impute_knn  impute_linear_regression   \n\n               imp_3            imp_col_1            imp_col_2    imp_col_3  \\\n5676   impute_cmeans  AtmosphericPressure        Precipitation  Temperature   \n26473  impute_cmeans        Precipitation  AtmosphericPressure  Temperature   \n30738  impute_cmeans  AtmosphericPressure        Precipitation  Temperature   \n\n      od_1 od_2  ...     KNN_1 RandomForest_1 AdaBoost_1     SVC_1  \\\n5676   ISO  KNN  ...  0.733217       0.756249   0.766693  0.247053   \n26473  ISO  KNN  ...  0.733217       0.756249   0.766693  0.247053   \n30738  ISO  KNN  ...  0.733217       0.756249   0.766693  0.247053   \n\n      DecisionTree_2 LogisticRegression_2     KNN_2  RandomForest_2  \\\n5676        0.724658             0.567686  0.729068        0.749973   \n26473       0.707496             0.588837  0.725147        0.744348   \n30738       0.724658             0.567686  0.729068        0.749973   \n\n       AdaBoost_2     SVC_2  \n5676     0.739802  0.246921  \n26473    0.737899  0.296283  \n30738    0.739802  0.246921  \n\n[3 rows x 36 columns]",
      "text/html": "<div>\n<style scoped>\n    .dataframe tbody tr th:only-of-type {\n        vertical-align: middle;\n    }\n\n    .dataframe tbody tr th {\n        vertical-align: top;\n    }\n\n    .dataframe thead th {\n        text-align: right;\n    }\n</style>\n<table border=\"1\" class=\"dataframe\">\n  <thead>\n    <tr style=\"text-align: right;\">\n      <th></th>\n      <th>dimension_1</th>\n      <th>dimension_2</th>\n      <th>imp_1</th>\n      <th>imp_2</th>\n      <th>imp_3</th>\n      <th>imp_col_1</th>\n      <th>imp_col_2</th>\n      <th>imp_col_3</th>\n      <th>od_1</th>\n      <th>od_2</th>\n      <th>...</th>\n      <th>KNN_1</th>\n      <th>RandomForest_1</th>\n      <th>AdaBoost_1</th>\n      <th>SVC_1</th>\n      <th>DecisionTree_2</th>\n      <th>LogisticRegression_2</th>\n      <th>KNN_2</th>\n      <th>RandomForest_2</th>\n      <th>AdaBoost_2</th>\n      <th>SVC_2</th>\n    </tr>\n  </thead>\n  <tbody>\n    <tr>\n      <th>5676</th>\n      <td>accuracy</td>\n      <td>completeness</td>\n      <td>impute_knn</td>\n      <td>impute_linear_regression</td>\n      <td>impute_cmeans</td>\n      <td>AtmosphericPressure</td>\n      <td>Precipitation</td>\n      <td>Temperature</td>\n      <td>ISO</td>\n      <td>KNN</td>\n      <td>...</td>\n      <td>0.733217</td>\n      <td>0.756249</td>\n      <td>0.766693</td>\n      <td>0.247053</td>\n      <td>0.724658</td>\n      <td>0.567686</td>\n      <td>0.729068</td>\n      <td>0.749973</td>\n      <td>0.739802</td>\n      <td>0.246921</td>\n    </tr>\n    <tr>\n      <th>26473</th>\n      <td>accuracy</td>\n      <td>completeness</td>\n      <td>impute_knn</td>\n      <td>impute_linear_regression</td>\n      <td>impute_cmeans</td>\n      <td>Precipitation</td>\n      <td>AtmosphericPressure</td>\n      <td>Temperature</td>\n      <td>ISO</td>\n      <td>KNN</td>\n      <td>...</td>\n      <td>0.733217</td>\n      <td>0.756249</td>\n      <td>0.766693</td>\n      <td>0.247053</td>\n      <td>0.707496</td>\n      <td>0.588837</td>\n      <td>0.725147</td>\n      <td>0.744348</td>\n      <td>0.737899</td>\n      <td>0.296283</td>\n    </tr>\n    <tr>\n      <th>30738</th>\n      <td>accuracy</td>\n      <td>completeness</td>\n      <td>impute_knn</td>\n      <td>impute_linear_regression</td>\n      <td>impute_cmeans</td>\n      <td>AtmosphericPressure</td>\n      <td>Precipitation</td>\n      <td>Temperature</td>\n      <td>ISO</td>\n      <td>KNN</td>\n      <td>...</td>\n      <td>0.733217</td>\n      <td>0.756249</td>\n      <td>0.766693</td>\n      <td>0.247053</td>\n      <td>0.724658</td>\n      <td>0.567686</td>\n      <td>0.729068</td>\n      <td>0.749973</td>\n      <td>0.739802</td>\n      <td>0.246921</td>\n    </tr>\n  </tbody>\n</table>\n<p>3 rows × 36 columns</p>\n</div>"
     },
     "execution_count": 70,
     "metadata": {},
     "output_type": "execute_result"
    }
   ],
   "source": [
    "prova = sample[(sample.imp_1 == 'impute_knn') & (sample.imp_2 == 'impute_linear_regression') & (sample.imp_3 == 'impute_cmeans') & (sample.od_1 == 'ISO') & (sample.od_2 == 'KNN') & (sample.od_3 == 'LOF') & (sample.quality == 75)]\n",
    "prova"
   ],
   "metadata": {
    "collapsed": false
   }
  },
  {
   "cell_type": "code",
   "execution_count": 71,
   "outputs": [
    {
     "data": {
      "text/plain": "      dimension_1   dimension_2            imp_1                     imp_2  \\\n3734     accuracy  completeness  impute_standard  impute_linear_regression   \n22097    accuracy  completeness  impute_standard  impute_linear_regression   \n\n                      imp_3            imp_col_1            imp_col_2  \\\n3734   impute_random_forest        Precipitation  AtmosphericPressure   \n22097  impute_random_forest  AtmosphericPressure        Precipitation   \n\n         imp_col_3  od_1 od_2  ...     KNN_1 RandomForest_1 AdaBoost_1  \\\n3734   Temperature  PERC  ZSB  ...  0.705422       0.709362   0.712271   \n22097  Temperature  PERC  ZSB  ...  0.705422       0.709362   0.712271   \n\n          SVC_1 DecisionTree_2 LogisticRegression_2     KNN_2  RandomForest_2  \\\n3734   0.334114       0.683002             0.518256  0.709123        0.707324   \n22097  0.334114       0.682452             0.440159  0.703889        0.706963   \n\n       AdaBoost_2     SVC_2  \n3734     0.720343  0.337613  \n22097    0.706434  0.214062  \n\n[2 rows x 36 columns]",
      "text/html": "<div>\n<style scoped>\n    .dataframe tbody tr th:only-of-type {\n        vertical-align: middle;\n    }\n\n    .dataframe tbody tr th {\n        vertical-align: top;\n    }\n\n    .dataframe thead th {\n        text-align: right;\n    }\n</style>\n<table border=\"1\" class=\"dataframe\">\n  <thead>\n    <tr style=\"text-align: right;\">\n      <th></th>\n      <th>dimension_1</th>\n      <th>dimension_2</th>\n      <th>imp_1</th>\n      <th>imp_2</th>\n      <th>imp_3</th>\n      <th>imp_col_1</th>\n      <th>imp_col_2</th>\n      <th>imp_col_3</th>\n      <th>od_1</th>\n      <th>od_2</th>\n      <th>...</th>\n      <th>KNN_1</th>\n      <th>RandomForest_1</th>\n      <th>AdaBoost_1</th>\n      <th>SVC_1</th>\n      <th>DecisionTree_2</th>\n      <th>LogisticRegression_2</th>\n      <th>KNN_2</th>\n      <th>RandomForest_2</th>\n      <th>AdaBoost_2</th>\n      <th>SVC_2</th>\n    </tr>\n  </thead>\n  <tbody>\n    <tr>\n      <th>3734</th>\n      <td>accuracy</td>\n      <td>completeness</td>\n      <td>impute_standard</td>\n      <td>impute_linear_regression</td>\n      <td>impute_random_forest</td>\n      <td>Precipitation</td>\n      <td>AtmosphericPressure</td>\n      <td>Temperature</td>\n      <td>PERC</td>\n      <td>ZSB</td>\n      <td>...</td>\n      <td>0.705422</td>\n      <td>0.709362</td>\n      <td>0.712271</td>\n      <td>0.334114</td>\n      <td>0.683002</td>\n      <td>0.518256</td>\n      <td>0.709123</td>\n      <td>0.707324</td>\n      <td>0.720343</td>\n      <td>0.337613</td>\n    </tr>\n    <tr>\n      <th>22097</th>\n      <td>accuracy</td>\n      <td>completeness</td>\n      <td>impute_standard</td>\n      <td>impute_linear_regression</td>\n      <td>impute_random_forest</td>\n      <td>AtmosphericPressure</td>\n      <td>Precipitation</td>\n      <td>Temperature</td>\n      <td>PERC</td>\n      <td>ZSB</td>\n      <td>...</td>\n      <td>0.705422</td>\n      <td>0.709362</td>\n      <td>0.712271</td>\n      <td>0.334114</td>\n      <td>0.682452</td>\n      <td>0.440159</td>\n      <td>0.703889</td>\n      <td>0.706963</td>\n      <td>0.706434</td>\n      <td>0.214062</td>\n    </tr>\n  </tbody>\n</table>\n<p>2 rows × 36 columns</p>\n</div>"
     },
     "execution_count": 71,
     "metadata": {},
     "output_type": "execute_result"
    }
   ],
   "source": [
    "prova = sample[(sample.imp_1 == 'impute_standard') & (sample.imp_2 == 'impute_linear_regression') & (sample.imp_3 == 'impute_random_forest') & (sample.od_1 == 'PERC') & (sample.od_2 == 'ZSB') & (sample.od_3 == 'KNN') & (sample.quality == 80) & (sample.dimension_1 == 'accuracy')]\n",
    "prova"
   ],
   "metadata": {
    "collapsed": false
   }
  },
  {
   "cell_type": "code",
   "execution_count": null,
   "outputs": [],
   "source": [
    "### di quelle con prima l'accuracy posso escludere tutte le combinazioni della completeness!"
   ],
   "metadata": {
    "collapsed": false
   }
  },
  {
   "cell_type": "code",
   "execution_count": 41,
   "outputs": [],
   "source": [
    "selected_features = ['Temperature','Precipitation','AtmosphericPressure']\n",
    "imputation_techniques = ['impute_standard','impute_mean','impute_median','impute_random','impute_knn','impute_mice','impute_linear_regression','impute_random_forest','impute_cmeans']\n",
    "od_techniques = ['IQR', 'ISO', 'PERC', 'STD', 'ZSB', 'KNN', 'LOF']\n",
    "dimensions = ['accuracy','completeness']\n",
    "quality = pd.DataFrame([70,75,80,85,90,95])\n",
    "algorithms = ['DecisionTree', 'LogisticRegression', 'KNN', 'RandomForest', 'AdaBoost', 'SVC']\n",
    "ranking = {'DecisionTree': 'completeness', 'LogisticRegression': 'accuracy', 'KNN': 'accuracy', 'RandomForest': 'accuracy', 'AdaBoost': 'completeness', 'SVC': 'accuracy'}\n",
    "c_tech = {'DecisionTree': {'Temperature': 'impute_standard', 'Precipitation': 'impute_standard', 'AtmosphericPressure': 'impute_standard'}, 'LogisticRegression': {'Temperature': 'impute_random_forest', 'Precipitation': 'impute_random_forest', 'AtmosphericPressure': 'impute_random_forest'}, 'KNN': {'Temperature': 'impute_median', 'Precipitation': 'impute_median', 'AtmosphericPressure': 'impute_median'}, 'RandomForest': {'Temperature': 'impute_standard', 'Precipitation': 'impute_standard', 'AtmosphericPressure': 'impute_standard'}, 'AdaBoost': {'Temperature': 'impute_standard', 'Precipitation': 'impute_standard', 'AtmosphericPressure': 'impute_standard'}, 'SVC': {'Temperature': 'impute_knn', 'Precipitation': 'impute_knn', 'AtmosphericPressure': 'impute_knn'}}\n",
    "a_tech = {'Temperature': 'IQR', 'Precipitation': 'ZSB', 'AtmosphericPressure': 'ZSB'}\n",
    "schedule_columns = ['dimension_1', 'dimension_2', 'imp_1', 'imp_2', 'imp_3', 'imp_col_1', 'imp_col_2',\n",
    "                                 'imp_col_3', 'od_1', 'od_2', 'od_3', 'od_imp_1', 'od_imp_2', 'od_imp_3',\n",
    "                                 'od_imp_col_1', 'od_imp_col_2', 'od_imp_col_3', 'quality', 'algorithm']"
   ],
   "metadata": {
    "collapsed": false
   }
  },
  {
   "cell_type": "code",
   "execution_count": 42,
   "outputs": [],
   "source": [
    "import itertools"
   ],
   "metadata": {
    "collapsed": false
   }
  },
  {
   "cell_type": "code",
   "execution_count": 43,
   "outputs": [],
   "source": [
    "dim = pd.DataFrame(list(itertools.permutations(dimensions)))\n",
    "order = list(itertools.permutations(selected_features))\n",
    "imp = list(itertools.combinations(imputation_techniques, 3))\n",
    "ods = list(itertools.combinations(od_techniques, 3))"
   ],
   "metadata": {
    "collapsed": false
   }
  },
  {
   "cell_type": "code",
   "execution_count": 64,
   "outputs": [],
   "source": [
    "order = pd.DataFrame(order)\n",
    "imp = pd.DataFrame(imp)\n",
    "schedule_compl = imp.merge(order, how='cross')\n",
    "schedule_tot = pd.DataFrame(ods).merge(schedule_compl, how='cross')\n",
    "schedule_tot.columns = ['0_z', '1_z', '2_z', '0_x', '1_x', '2_x', '0_y', '1_y', '2_y']"
   ],
   "metadata": {
    "collapsed": false
   }
  },
  {
   "cell_type": "code",
   "execution_count": 65,
   "outputs": [],
   "source": [
    "schedule_tot_dim = dim.merge(schedule_tot, how='cross')"
   ],
   "metadata": {
    "collapsed": false
   }
  },
  {
   "cell_type": "code",
   "execution_count": 66,
   "outputs": [],
   "source": [
    "schedule_tot_dim.columns = ['0_k', '1_k', '0_z', '1_z', '2_z', '0_x', '1_x', '2_x', '0_y', '1_y', '2_y']"
   ],
   "metadata": {
    "collapsed": false
   }
  },
  {
   "cell_type": "code",
   "execution_count": 67,
   "outputs": [
    {
     "data": {
      "text/plain": "                 0_k           1_k  0_z  1_z   2_z                       0_x  \\\n0           accuracy  completeness  IQR  ISO  PERC           impute_standard   \n1           accuracy  completeness  IQR  ISO  PERC           impute_standard   \n2           accuracy  completeness  IQR  ISO  PERC           impute_standard   \n3           accuracy  completeness  IQR  ISO  PERC           impute_standard   \n4           accuracy  completeness  IQR  ISO  PERC           impute_standard   \n...              ...           ...  ...  ...   ...                       ...   \n211675  completeness      accuracy  ZSB  KNN   LOF  impute_linear_regression   \n211676  completeness      accuracy  ZSB  KNN   LOF  impute_linear_regression   \n211677  completeness      accuracy  ZSB  KNN   LOF  impute_linear_regression   \n211678  completeness      accuracy  ZSB  KNN   LOF  impute_linear_regression   \n211679  completeness      accuracy  ZSB  KNN   LOF  impute_linear_regression   \n\n                         1_x            2_x                  0_y  \\\n0                impute_mean  impute_median          Temperature   \n1                impute_mean  impute_median          Temperature   \n2                impute_mean  impute_median          Temperature   \n3                impute_mean  impute_median          Temperature   \n4                impute_mean  impute_median          Temperature   \n...                      ...            ...                  ...   \n211675  impute_random_forest  impute_cmeans  AtmosphericPressure   \n211676  impute_random_forest  impute_cmeans  AtmosphericPressure   \n211677  impute_random_forest  impute_cmeans  AtmosphericPressure   \n211678  impute_random_forest  impute_cmeans  AtmosphericPressure   \n211679  impute_random_forest  impute_cmeans  AtmosphericPressure   \n\n                  1_y                  2_y   0  \n0       Precipitation  AtmosphericPressure  70  \n1       Precipitation  AtmosphericPressure  75  \n2       Precipitation  AtmosphericPressure  80  \n3       Precipitation  AtmosphericPressure  85  \n4       Precipitation  AtmosphericPressure  90  \n...               ...                  ...  ..  \n211675  Precipitation          Temperature  75  \n211676  Precipitation          Temperature  80  \n211677  Precipitation          Temperature  85  \n211678  Precipitation          Temperature  90  \n211679  Precipitation          Temperature  95  \n\n[211680 rows x 12 columns]",
      "text/html": "<div>\n<style scoped>\n    .dataframe tbody tr th:only-of-type {\n        vertical-align: middle;\n    }\n\n    .dataframe tbody tr th {\n        vertical-align: top;\n    }\n\n    .dataframe thead th {\n        text-align: right;\n    }\n</style>\n<table border=\"1\" class=\"dataframe\">\n  <thead>\n    <tr style=\"text-align: right;\">\n      <th></th>\n      <th>0_k</th>\n      <th>1_k</th>\n      <th>0_z</th>\n      <th>1_z</th>\n      <th>2_z</th>\n      <th>0_x</th>\n      <th>1_x</th>\n      <th>2_x</th>\n      <th>0_y</th>\n      <th>1_y</th>\n      <th>2_y</th>\n      <th>0</th>\n    </tr>\n  </thead>\n  <tbody>\n    <tr>\n      <th>0</th>\n      <td>accuracy</td>\n      <td>completeness</td>\n      <td>IQR</td>\n      <td>ISO</td>\n      <td>PERC</td>\n      <td>impute_standard</td>\n      <td>impute_mean</td>\n      <td>impute_median</td>\n      <td>Temperature</td>\n      <td>Precipitation</td>\n      <td>AtmosphericPressure</td>\n      <td>70</td>\n    </tr>\n    <tr>\n      <th>1</th>\n      <td>accuracy</td>\n      <td>completeness</td>\n      <td>IQR</td>\n      <td>ISO</td>\n      <td>PERC</td>\n      <td>impute_standard</td>\n      <td>impute_mean</td>\n      <td>impute_median</td>\n      <td>Temperature</td>\n      <td>Precipitation</td>\n      <td>AtmosphericPressure</td>\n      <td>75</td>\n    </tr>\n    <tr>\n      <th>2</th>\n      <td>accuracy</td>\n      <td>completeness</td>\n      <td>IQR</td>\n      <td>ISO</td>\n      <td>PERC</td>\n      <td>impute_standard</td>\n      <td>impute_mean</td>\n      <td>impute_median</td>\n      <td>Temperature</td>\n      <td>Precipitation</td>\n      <td>AtmosphericPressure</td>\n      <td>80</td>\n    </tr>\n    <tr>\n      <th>3</th>\n      <td>accuracy</td>\n      <td>completeness</td>\n      <td>IQR</td>\n      <td>ISO</td>\n      <td>PERC</td>\n      <td>impute_standard</td>\n      <td>impute_mean</td>\n      <td>impute_median</td>\n      <td>Temperature</td>\n      <td>Precipitation</td>\n      <td>AtmosphericPressure</td>\n      <td>85</td>\n    </tr>\n    <tr>\n      <th>4</th>\n      <td>accuracy</td>\n      <td>completeness</td>\n      <td>IQR</td>\n      <td>ISO</td>\n      <td>PERC</td>\n      <td>impute_standard</td>\n      <td>impute_mean</td>\n      <td>impute_median</td>\n      <td>Temperature</td>\n      <td>Precipitation</td>\n      <td>AtmosphericPressure</td>\n      <td>90</td>\n    </tr>\n    <tr>\n      <th>...</th>\n      <td>...</td>\n      <td>...</td>\n      <td>...</td>\n      <td>...</td>\n      <td>...</td>\n      <td>...</td>\n      <td>...</td>\n      <td>...</td>\n      <td>...</td>\n      <td>...</td>\n      <td>...</td>\n      <td>...</td>\n    </tr>\n    <tr>\n      <th>211675</th>\n      <td>completeness</td>\n      <td>accuracy</td>\n      <td>ZSB</td>\n      <td>KNN</td>\n      <td>LOF</td>\n      <td>impute_linear_regression</td>\n      <td>impute_random_forest</td>\n      <td>impute_cmeans</td>\n      <td>AtmosphericPressure</td>\n      <td>Precipitation</td>\n      <td>Temperature</td>\n      <td>75</td>\n    </tr>\n    <tr>\n      <th>211676</th>\n      <td>completeness</td>\n      <td>accuracy</td>\n      <td>ZSB</td>\n      <td>KNN</td>\n      <td>LOF</td>\n      <td>impute_linear_regression</td>\n      <td>impute_random_forest</td>\n      <td>impute_cmeans</td>\n      <td>AtmosphericPressure</td>\n      <td>Precipitation</td>\n      <td>Temperature</td>\n      <td>80</td>\n    </tr>\n    <tr>\n      <th>211677</th>\n      <td>completeness</td>\n      <td>accuracy</td>\n      <td>ZSB</td>\n      <td>KNN</td>\n      <td>LOF</td>\n      <td>impute_linear_regression</td>\n      <td>impute_random_forest</td>\n      <td>impute_cmeans</td>\n      <td>AtmosphericPressure</td>\n      <td>Precipitation</td>\n      <td>Temperature</td>\n      <td>85</td>\n    </tr>\n    <tr>\n      <th>211678</th>\n      <td>completeness</td>\n      <td>accuracy</td>\n      <td>ZSB</td>\n      <td>KNN</td>\n      <td>LOF</td>\n      <td>impute_linear_regression</td>\n      <td>impute_random_forest</td>\n      <td>impute_cmeans</td>\n      <td>AtmosphericPressure</td>\n      <td>Precipitation</td>\n      <td>Temperature</td>\n      <td>90</td>\n    </tr>\n    <tr>\n      <th>211679</th>\n      <td>completeness</td>\n      <td>accuracy</td>\n      <td>ZSB</td>\n      <td>KNN</td>\n      <td>LOF</td>\n      <td>impute_linear_regression</td>\n      <td>impute_random_forest</td>\n      <td>impute_cmeans</td>\n      <td>AtmosphericPressure</td>\n      <td>Precipitation</td>\n      <td>Temperature</td>\n      <td>95</td>\n    </tr>\n  </tbody>\n</table>\n<p>211680 rows × 12 columns</p>\n</div>"
     },
     "execution_count": 67,
     "metadata": {},
     "output_type": "execute_result"
    }
   ],
   "source": [
    "schedule_tot_perc = schedule_tot_dim.merge(quality, how='cross')\n",
    "schedule_tot_perc"
   ],
   "metadata": {
    "collapsed": false
   }
  },
  {
   "cell_type": "code",
   "execution_count": 68,
   "outputs": [],
   "source": [
    "schedule_tot_perc.columns = ['dimension_1', 'dimension_2', 'od_1', 'od_2', 'od_3', 'imp_1', 'imp_2', 'imp_3', 'imp_col_1', 'imp_col_2',\n",
    "                             'imp_col_3', 'quality']\n"
   ],
   "metadata": {
    "collapsed": false
   }
  },
  {
   "cell_type": "code",
   "execution_count": null,
   "outputs": [],
   "source": [],
   "metadata": {
    "collapsed": false
   }
  }
 ],
 "metadata": {
  "kernelspec": {
   "display_name": "Python 3",
   "language": "python",
   "name": "python3"
  },
  "language_info": {
   "codemirror_mode": {
    "name": "ipython",
    "version": 2
   },
   "file_extension": ".py",
   "mimetype": "text/x-python",
   "name": "python",
   "nbconvert_exporter": "python",
   "pygments_lexer": "ipython2",
   "version": "2.7.6"
  }
 },
 "nbformat": 4,
 "nbformat_minor": 0
}
