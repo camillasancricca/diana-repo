{
 "cells": [
  {
   "cell_type": "code",
   "execution_count": 1,
   "metadata": {
    "collapsed": true
   },
   "outputs": [],
   "source": [
    "import pandas as pd"
   ]
  },
  {
   "cell_type": "code",
   "execution_count": 2,
   "outputs": [],
   "source": [
    "schedule_sugg = pd.read_csv('schedule/compiled_schedule_suggested.csv')"
   ],
   "metadata": {
    "collapsed": false
   }
  },
  {
   "cell_type": "code",
   "execution_count": 4,
   "outputs": [
    {
     "data": {
      "text/plain": "    dimension_1   dimension_2       imp_1       imp_2       imp_3 od_1 od_2  \\\n167    accuracy  completeness  impute_knn  impute_knn  impute_knn  IQR  ZSB   \n155    accuracy  completeness  impute_knn  impute_knn  impute_knn  IQR  ZSB   \n173    accuracy  completeness  impute_knn  impute_knn  impute_knn  IQR  ZSB   \n161    accuracy  completeness  impute_knn  impute_knn  impute_knn  IQR  ZSB   \n179    accuracy  completeness  impute_knn  impute_knn  impute_knn  IQR  ZSB   \n119    accuracy  completeness  impute_knn  impute_knn  impute_knn  IQR  ZSB   \n149    accuracy  completeness  impute_knn  impute_knn  impute_knn  IQR  ZSB   \n113    accuracy  completeness  impute_knn  impute_knn  impute_knn  IQR  ZSB   \n89     accuracy  completeness  impute_knn  impute_knn  impute_knn  IQR  ZSB   \n65     accuracy  completeness  impute_knn  impute_knn  impute_knn  IQR  ZSB   \n143    accuracy  completeness  impute_knn  impute_knn  impute_knn  IQR  ZSB   \n137    accuracy  completeness  impute_knn  impute_knn  impute_knn  IQR  ZSB   \n125    accuracy  completeness  impute_knn  impute_knn  impute_knn  IQR  ZSB   \n71     accuracy  completeness  impute_knn  impute_knn  impute_knn  IQR  ZSB   \n83     accuracy  completeness  impute_knn  impute_knn  impute_knn  IQR  ZSB   \n53     accuracy  completeness  impute_knn  impute_knn  impute_knn  IQR  ZSB   \n131    accuracy  completeness  impute_knn  impute_knn  impute_knn  IQR  ZSB   \n107    accuracy  completeness  impute_knn  impute_knn  impute_knn  IQR  ZSB   \n47     accuracy  completeness  impute_knn  impute_knn  impute_knn  IQR  ZSB   \n29     accuracy  completeness  impute_knn  impute_knn  impute_knn  IQR  ZSB   \n59     accuracy  completeness  impute_knn  impute_knn  impute_knn  IQR  ZSB   \n17     accuracy  completeness  impute_knn  impute_knn  impute_knn  IQR  ZSB   \n77     accuracy  completeness  impute_knn  impute_knn  impute_knn  IQR  ZSB   \n101    accuracy  completeness  impute_knn  impute_knn  impute_knn  IQR  ZSB   \n95     accuracy  completeness  impute_knn  impute_knn  impute_knn  IQR  ZSB   \n41     accuracy  completeness  impute_knn  impute_knn  impute_knn  IQR  ZSB   \n35     accuracy  completeness  impute_knn  impute_knn  impute_knn  IQR  ZSB   \n11     accuracy  completeness  impute_knn  impute_knn  impute_knn  IQR  ZSB   \n23     accuracy  completeness  impute_knn  impute_knn  impute_knn  IQR  ZSB   \n5      accuracy  completeness  impute_knn  impute_knn  impute_knn  IQR  ZSB   \n\n    od_3            imp_col_1            imp_col_2            imp_col_3  \\\n167  ZSB        Precipitation  AtmosphericPressure          Temperature   \n155  ZSB          Temperature  AtmosphericPressure        Precipitation   \n173  ZSB  AtmosphericPressure          Temperature        Precipitation   \n161  ZSB        Precipitation          Temperature  AtmosphericPressure   \n179  ZSB  AtmosphericPressure        Precipitation          Temperature   \n119  ZSB          Temperature  AtmosphericPressure        Precipitation   \n149  ZSB          Temperature        Precipitation  AtmosphericPressure   \n113  ZSB          Temperature        Precipitation  AtmosphericPressure   \n89   ZSB        Precipitation          Temperature  AtmosphericPressure   \n65   ZSB  AtmosphericPressure          Temperature        Precipitation   \n143  ZSB  AtmosphericPressure        Precipitation          Temperature   \n137  ZSB  AtmosphericPressure          Temperature        Precipitation   \n125  ZSB        Precipitation          Temperature  AtmosphericPressure   \n71   ZSB  AtmosphericPressure        Precipitation          Temperature   \n83   ZSB          Temperature  AtmosphericPressure        Precipitation   \n53   ZSB        Precipitation          Temperature  AtmosphericPressure   \n131  ZSB        Precipitation  AtmosphericPressure          Temperature   \n107  ZSB  AtmosphericPressure        Precipitation          Temperature   \n47   ZSB          Temperature  AtmosphericPressure        Precipitation   \n29   ZSB  AtmosphericPressure          Temperature        Precipitation   \n59   ZSB        Precipitation  AtmosphericPressure          Temperature   \n17   ZSB        Precipitation          Temperature  AtmosphericPressure   \n77   ZSB          Temperature        Precipitation  AtmosphericPressure   \n101  ZSB  AtmosphericPressure          Temperature        Precipitation   \n95   ZSB        Precipitation  AtmosphericPressure          Temperature   \n41   ZSB          Temperature        Precipitation  AtmosphericPressure   \n35   ZSB  AtmosphericPressure        Precipitation          Temperature   \n11   ZSB          Temperature  AtmosphericPressure        Precipitation   \n23   ZSB        Precipitation  AtmosphericPressure          Temperature   \n5    ZSB          Temperature        Precipitation  AtmosphericPressure   \n\n     quality algorithm  perf_dirty    perf_1    perf_2  \n167       90       SVC    0.162227  0.566603  0.695946  \n155       90       SVC    0.171262  0.649336  0.617580  \n173       90       SVC    0.155604  0.583619  0.615656  \n161       90       SVC    0.219937  0.627395  0.596994  \n179       90       SVC    0.170799  0.507318  0.596031  \n119       80       SVC    0.174870  0.474353  0.533872  \n149       90       SVC    0.161410  0.528654  0.518912  \n113       80       SVC    0.179001  0.455792  0.515027  \n89        70       SVC    0.200971  0.310511  0.485399  \n65        60       SVC    0.210871  0.291207  0.471758  \n143       80       SVC    0.177241  0.361637  0.469051  \n137       80       SVC    0.259909  0.416643  0.457871  \n125       80       SVC    0.167461  0.318235  0.443362  \n71        60       SVC    0.203480  0.254078  0.438731  \n83        70       SVC    0.221386  0.377162  0.410651  \n53        60       SVC    0.206592  0.285912  0.398376  \n131       80       SVC    0.198344  0.485599  0.395354  \n107       70       SVC    0.268821  0.264627  0.383556  \n47        60       SVC    0.214428  0.268498  0.370931  \n29        50       SVC    0.222728  0.189961  0.370644  \n59        60       SVC    0.262418  0.227104  0.366018  \n17        50       SVC    0.230732  0.203700  0.358327  \n77        70       SVC    0.203644  0.343205  0.342401  \n101       70       SVC    0.241506  0.317552  0.340030  \n95        70       SVC    0.207638  0.319772  0.336711  \n41        60       SVC    0.251329  0.230864  0.335833  \n35        50       SVC    0.220011  0.221573  0.331943  \n11        50       SVC    0.223287  0.156304  0.317385  \n23        50       SVC    0.229240  0.193328  0.287342  \n5         50       SVC    0.215929  0.202469  0.217440  ",
      "text/html": "<div>\n<style scoped>\n    .dataframe tbody tr th:only-of-type {\n        vertical-align: middle;\n    }\n\n    .dataframe tbody tr th {\n        vertical-align: top;\n    }\n\n    .dataframe thead th {\n        text-align: right;\n    }\n</style>\n<table border=\"1\" class=\"dataframe\">\n  <thead>\n    <tr style=\"text-align: right;\">\n      <th></th>\n      <th>dimension_1</th>\n      <th>dimension_2</th>\n      <th>imp_1</th>\n      <th>imp_2</th>\n      <th>imp_3</th>\n      <th>od_1</th>\n      <th>od_2</th>\n      <th>od_3</th>\n      <th>imp_col_1</th>\n      <th>imp_col_2</th>\n      <th>imp_col_3</th>\n      <th>quality</th>\n      <th>algorithm</th>\n      <th>perf_dirty</th>\n      <th>perf_1</th>\n      <th>perf_2</th>\n    </tr>\n  </thead>\n  <tbody>\n    <tr>\n      <th>167</th>\n      <td>accuracy</td>\n      <td>completeness</td>\n      <td>impute_knn</td>\n      <td>impute_knn</td>\n      <td>impute_knn</td>\n      <td>IQR</td>\n      <td>ZSB</td>\n      <td>ZSB</td>\n      <td>Precipitation</td>\n      <td>AtmosphericPressure</td>\n      <td>Temperature</td>\n      <td>90</td>\n      <td>SVC</td>\n      <td>0.162227</td>\n      <td>0.566603</td>\n      <td>0.695946</td>\n    </tr>\n    <tr>\n      <th>155</th>\n      <td>accuracy</td>\n      <td>completeness</td>\n      <td>impute_knn</td>\n      <td>impute_knn</td>\n      <td>impute_knn</td>\n      <td>IQR</td>\n      <td>ZSB</td>\n      <td>ZSB</td>\n      <td>Temperature</td>\n      <td>AtmosphericPressure</td>\n      <td>Precipitation</td>\n      <td>90</td>\n      <td>SVC</td>\n      <td>0.171262</td>\n      <td>0.649336</td>\n      <td>0.617580</td>\n    </tr>\n    <tr>\n      <th>173</th>\n      <td>accuracy</td>\n      <td>completeness</td>\n      <td>impute_knn</td>\n      <td>impute_knn</td>\n      <td>impute_knn</td>\n      <td>IQR</td>\n      <td>ZSB</td>\n      <td>ZSB</td>\n      <td>AtmosphericPressure</td>\n      <td>Temperature</td>\n      <td>Precipitation</td>\n      <td>90</td>\n      <td>SVC</td>\n      <td>0.155604</td>\n      <td>0.583619</td>\n      <td>0.615656</td>\n    </tr>\n    <tr>\n      <th>161</th>\n      <td>accuracy</td>\n      <td>completeness</td>\n      <td>impute_knn</td>\n      <td>impute_knn</td>\n      <td>impute_knn</td>\n      <td>IQR</td>\n      <td>ZSB</td>\n      <td>ZSB</td>\n      <td>Precipitation</td>\n      <td>Temperature</td>\n      <td>AtmosphericPressure</td>\n      <td>90</td>\n      <td>SVC</td>\n      <td>0.219937</td>\n      <td>0.627395</td>\n      <td>0.596994</td>\n    </tr>\n    <tr>\n      <th>179</th>\n      <td>accuracy</td>\n      <td>completeness</td>\n      <td>impute_knn</td>\n      <td>impute_knn</td>\n      <td>impute_knn</td>\n      <td>IQR</td>\n      <td>ZSB</td>\n      <td>ZSB</td>\n      <td>AtmosphericPressure</td>\n      <td>Precipitation</td>\n      <td>Temperature</td>\n      <td>90</td>\n      <td>SVC</td>\n      <td>0.170799</td>\n      <td>0.507318</td>\n      <td>0.596031</td>\n    </tr>\n    <tr>\n      <th>119</th>\n      <td>accuracy</td>\n      <td>completeness</td>\n      <td>impute_knn</td>\n      <td>impute_knn</td>\n      <td>impute_knn</td>\n      <td>IQR</td>\n      <td>ZSB</td>\n      <td>ZSB</td>\n      <td>Temperature</td>\n      <td>AtmosphericPressure</td>\n      <td>Precipitation</td>\n      <td>80</td>\n      <td>SVC</td>\n      <td>0.174870</td>\n      <td>0.474353</td>\n      <td>0.533872</td>\n    </tr>\n    <tr>\n      <th>149</th>\n      <td>accuracy</td>\n      <td>completeness</td>\n      <td>impute_knn</td>\n      <td>impute_knn</td>\n      <td>impute_knn</td>\n      <td>IQR</td>\n      <td>ZSB</td>\n      <td>ZSB</td>\n      <td>Temperature</td>\n      <td>Precipitation</td>\n      <td>AtmosphericPressure</td>\n      <td>90</td>\n      <td>SVC</td>\n      <td>0.161410</td>\n      <td>0.528654</td>\n      <td>0.518912</td>\n    </tr>\n    <tr>\n      <th>113</th>\n      <td>accuracy</td>\n      <td>completeness</td>\n      <td>impute_knn</td>\n      <td>impute_knn</td>\n      <td>impute_knn</td>\n      <td>IQR</td>\n      <td>ZSB</td>\n      <td>ZSB</td>\n      <td>Temperature</td>\n      <td>Precipitation</td>\n      <td>AtmosphericPressure</td>\n      <td>80</td>\n      <td>SVC</td>\n      <td>0.179001</td>\n      <td>0.455792</td>\n      <td>0.515027</td>\n    </tr>\n    <tr>\n      <th>89</th>\n      <td>accuracy</td>\n      <td>completeness</td>\n      <td>impute_knn</td>\n      <td>impute_knn</td>\n      <td>impute_knn</td>\n      <td>IQR</td>\n      <td>ZSB</td>\n      <td>ZSB</td>\n      <td>Precipitation</td>\n      <td>Temperature</td>\n      <td>AtmosphericPressure</td>\n      <td>70</td>\n      <td>SVC</td>\n      <td>0.200971</td>\n      <td>0.310511</td>\n      <td>0.485399</td>\n    </tr>\n    <tr>\n      <th>65</th>\n      <td>accuracy</td>\n      <td>completeness</td>\n      <td>impute_knn</td>\n      <td>impute_knn</td>\n      <td>impute_knn</td>\n      <td>IQR</td>\n      <td>ZSB</td>\n      <td>ZSB</td>\n      <td>AtmosphericPressure</td>\n      <td>Temperature</td>\n      <td>Precipitation</td>\n      <td>60</td>\n      <td>SVC</td>\n      <td>0.210871</td>\n      <td>0.291207</td>\n      <td>0.471758</td>\n    </tr>\n    <tr>\n      <th>143</th>\n      <td>accuracy</td>\n      <td>completeness</td>\n      <td>impute_knn</td>\n      <td>impute_knn</td>\n      <td>impute_knn</td>\n      <td>IQR</td>\n      <td>ZSB</td>\n      <td>ZSB</td>\n      <td>AtmosphericPressure</td>\n      <td>Precipitation</td>\n      <td>Temperature</td>\n      <td>80</td>\n      <td>SVC</td>\n      <td>0.177241</td>\n      <td>0.361637</td>\n      <td>0.469051</td>\n    </tr>\n    <tr>\n      <th>137</th>\n      <td>accuracy</td>\n      <td>completeness</td>\n      <td>impute_knn</td>\n      <td>impute_knn</td>\n      <td>impute_knn</td>\n      <td>IQR</td>\n      <td>ZSB</td>\n      <td>ZSB</td>\n      <td>AtmosphericPressure</td>\n      <td>Temperature</td>\n      <td>Precipitation</td>\n      <td>80</td>\n      <td>SVC</td>\n      <td>0.259909</td>\n      <td>0.416643</td>\n      <td>0.457871</td>\n    </tr>\n    <tr>\n      <th>125</th>\n      <td>accuracy</td>\n      <td>completeness</td>\n      <td>impute_knn</td>\n      <td>impute_knn</td>\n      <td>impute_knn</td>\n      <td>IQR</td>\n      <td>ZSB</td>\n      <td>ZSB</td>\n      <td>Precipitation</td>\n      <td>Temperature</td>\n      <td>AtmosphericPressure</td>\n      <td>80</td>\n      <td>SVC</td>\n      <td>0.167461</td>\n      <td>0.318235</td>\n      <td>0.443362</td>\n    </tr>\n    <tr>\n      <th>71</th>\n      <td>accuracy</td>\n      <td>completeness</td>\n      <td>impute_knn</td>\n      <td>impute_knn</td>\n      <td>impute_knn</td>\n      <td>IQR</td>\n      <td>ZSB</td>\n      <td>ZSB</td>\n      <td>AtmosphericPressure</td>\n      <td>Precipitation</td>\n      <td>Temperature</td>\n      <td>60</td>\n      <td>SVC</td>\n      <td>0.203480</td>\n      <td>0.254078</td>\n      <td>0.438731</td>\n    </tr>\n    <tr>\n      <th>83</th>\n      <td>accuracy</td>\n      <td>completeness</td>\n      <td>impute_knn</td>\n      <td>impute_knn</td>\n      <td>impute_knn</td>\n      <td>IQR</td>\n      <td>ZSB</td>\n      <td>ZSB</td>\n      <td>Temperature</td>\n      <td>AtmosphericPressure</td>\n      <td>Precipitation</td>\n      <td>70</td>\n      <td>SVC</td>\n      <td>0.221386</td>\n      <td>0.377162</td>\n      <td>0.410651</td>\n    </tr>\n    <tr>\n      <th>53</th>\n      <td>accuracy</td>\n      <td>completeness</td>\n      <td>impute_knn</td>\n      <td>impute_knn</td>\n      <td>impute_knn</td>\n      <td>IQR</td>\n      <td>ZSB</td>\n      <td>ZSB</td>\n      <td>Precipitation</td>\n      <td>Temperature</td>\n      <td>AtmosphericPressure</td>\n      <td>60</td>\n      <td>SVC</td>\n      <td>0.206592</td>\n      <td>0.285912</td>\n      <td>0.398376</td>\n    </tr>\n    <tr>\n      <th>131</th>\n      <td>accuracy</td>\n      <td>completeness</td>\n      <td>impute_knn</td>\n      <td>impute_knn</td>\n      <td>impute_knn</td>\n      <td>IQR</td>\n      <td>ZSB</td>\n      <td>ZSB</td>\n      <td>Precipitation</td>\n      <td>AtmosphericPressure</td>\n      <td>Temperature</td>\n      <td>80</td>\n      <td>SVC</td>\n      <td>0.198344</td>\n      <td>0.485599</td>\n      <td>0.395354</td>\n    </tr>\n    <tr>\n      <th>107</th>\n      <td>accuracy</td>\n      <td>completeness</td>\n      <td>impute_knn</td>\n      <td>impute_knn</td>\n      <td>impute_knn</td>\n      <td>IQR</td>\n      <td>ZSB</td>\n      <td>ZSB</td>\n      <td>AtmosphericPressure</td>\n      <td>Precipitation</td>\n      <td>Temperature</td>\n      <td>70</td>\n      <td>SVC</td>\n      <td>0.268821</td>\n      <td>0.264627</td>\n      <td>0.383556</td>\n    </tr>\n    <tr>\n      <th>47</th>\n      <td>accuracy</td>\n      <td>completeness</td>\n      <td>impute_knn</td>\n      <td>impute_knn</td>\n      <td>impute_knn</td>\n      <td>IQR</td>\n      <td>ZSB</td>\n      <td>ZSB</td>\n      <td>Temperature</td>\n      <td>AtmosphericPressure</td>\n      <td>Precipitation</td>\n      <td>60</td>\n      <td>SVC</td>\n      <td>0.214428</td>\n      <td>0.268498</td>\n      <td>0.370931</td>\n    </tr>\n    <tr>\n      <th>29</th>\n      <td>accuracy</td>\n      <td>completeness</td>\n      <td>impute_knn</td>\n      <td>impute_knn</td>\n      <td>impute_knn</td>\n      <td>IQR</td>\n      <td>ZSB</td>\n      <td>ZSB</td>\n      <td>AtmosphericPressure</td>\n      <td>Temperature</td>\n      <td>Precipitation</td>\n      <td>50</td>\n      <td>SVC</td>\n      <td>0.222728</td>\n      <td>0.189961</td>\n      <td>0.370644</td>\n    </tr>\n    <tr>\n      <th>59</th>\n      <td>accuracy</td>\n      <td>completeness</td>\n      <td>impute_knn</td>\n      <td>impute_knn</td>\n      <td>impute_knn</td>\n      <td>IQR</td>\n      <td>ZSB</td>\n      <td>ZSB</td>\n      <td>Precipitation</td>\n      <td>AtmosphericPressure</td>\n      <td>Temperature</td>\n      <td>60</td>\n      <td>SVC</td>\n      <td>0.262418</td>\n      <td>0.227104</td>\n      <td>0.366018</td>\n    </tr>\n    <tr>\n      <th>17</th>\n      <td>accuracy</td>\n      <td>completeness</td>\n      <td>impute_knn</td>\n      <td>impute_knn</td>\n      <td>impute_knn</td>\n      <td>IQR</td>\n      <td>ZSB</td>\n      <td>ZSB</td>\n      <td>Precipitation</td>\n      <td>Temperature</td>\n      <td>AtmosphericPressure</td>\n      <td>50</td>\n      <td>SVC</td>\n      <td>0.230732</td>\n      <td>0.203700</td>\n      <td>0.358327</td>\n    </tr>\n    <tr>\n      <th>77</th>\n      <td>accuracy</td>\n      <td>completeness</td>\n      <td>impute_knn</td>\n      <td>impute_knn</td>\n      <td>impute_knn</td>\n      <td>IQR</td>\n      <td>ZSB</td>\n      <td>ZSB</td>\n      <td>Temperature</td>\n      <td>Precipitation</td>\n      <td>AtmosphericPressure</td>\n      <td>70</td>\n      <td>SVC</td>\n      <td>0.203644</td>\n      <td>0.343205</td>\n      <td>0.342401</td>\n    </tr>\n    <tr>\n      <th>101</th>\n      <td>accuracy</td>\n      <td>completeness</td>\n      <td>impute_knn</td>\n      <td>impute_knn</td>\n      <td>impute_knn</td>\n      <td>IQR</td>\n      <td>ZSB</td>\n      <td>ZSB</td>\n      <td>AtmosphericPressure</td>\n      <td>Temperature</td>\n      <td>Precipitation</td>\n      <td>70</td>\n      <td>SVC</td>\n      <td>0.241506</td>\n      <td>0.317552</td>\n      <td>0.340030</td>\n    </tr>\n    <tr>\n      <th>95</th>\n      <td>accuracy</td>\n      <td>completeness</td>\n      <td>impute_knn</td>\n      <td>impute_knn</td>\n      <td>impute_knn</td>\n      <td>IQR</td>\n      <td>ZSB</td>\n      <td>ZSB</td>\n      <td>Precipitation</td>\n      <td>AtmosphericPressure</td>\n      <td>Temperature</td>\n      <td>70</td>\n      <td>SVC</td>\n      <td>0.207638</td>\n      <td>0.319772</td>\n      <td>0.336711</td>\n    </tr>\n    <tr>\n      <th>41</th>\n      <td>accuracy</td>\n      <td>completeness</td>\n      <td>impute_knn</td>\n      <td>impute_knn</td>\n      <td>impute_knn</td>\n      <td>IQR</td>\n      <td>ZSB</td>\n      <td>ZSB</td>\n      <td>Temperature</td>\n      <td>Precipitation</td>\n      <td>AtmosphericPressure</td>\n      <td>60</td>\n      <td>SVC</td>\n      <td>0.251329</td>\n      <td>0.230864</td>\n      <td>0.335833</td>\n    </tr>\n    <tr>\n      <th>35</th>\n      <td>accuracy</td>\n      <td>completeness</td>\n      <td>impute_knn</td>\n      <td>impute_knn</td>\n      <td>impute_knn</td>\n      <td>IQR</td>\n      <td>ZSB</td>\n      <td>ZSB</td>\n      <td>AtmosphericPressure</td>\n      <td>Precipitation</td>\n      <td>Temperature</td>\n      <td>50</td>\n      <td>SVC</td>\n      <td>0.220011</td>\n      <td>0.221573</td>\n      <td>0.331943</td>\n    </tr>\n    <tr>\n      <th>11</th>\n      <td>accuracy</td>\n      <td>completeness</td>\n      <td>impute_knn</td>\n      <td>impute_knn</td>\n      <td>impute_knn</td>\n      <td>IQR</td>\n      <td>ZSB</td>\n      <td>ZSB</td>\n      <td>Temperature</td>\n      <td>AtmosphericPressure</td>\n      <td>Precipitation</td>\n      <td>50</td>\n      <td>SVC</td>\n      <td>0.223287</td>\n      <td>0.156304</td>\n      <td>0.317385</td>\n    </tr>\n    <tr>\n      <th>23</th>\n      <td>accuracy</td>\n      <td>completeness</td>\n      <td>impute_knn</td>\n      <td>impute_knn</td>\n      <td>impute_knn</td>\n      <td>IQR</td>\n      <td>ZSB</td>\n      <td>ZSB</td>\n      <td>Precipitation</td>\n      <td>AtmosphericPressure</td>\n      <td>Temperature</td>\n      <td>50</td>\n      <td>SVC</td>\n      <td>0.229240</td>\n      <td>0.193328</td>\n      <td>0.287342</td>\n    </tr>\n    <tr>\n      <th>5</th>\n      <td>accuracy</td>\n      <td>completeness</td>\n      <td>impute_knn</td>\n      <td>impute_knn</td>\n      <td>impute_knn</td>\n      <td>IQR</td>\n      <td>ZSB</td>\n      <td>ZSB</td>\n      <td>Temperature</td>\n      <td>Precipitation</td>\n      <td>AtmosphericPressure</td>\n      <td>50</td>\n      <td>SVC</td>\n      <td>0.215929</td>\n      <td>0.202469</td>\n      <td>0.217440</td>\n    </tr>\n  </tbody>\n</table>\n</div>"
     },
     "execution_count": 4,
     "metadata": {},
     "output_type": "execute_result"
    }
   ],
   "source": [
    "schedule_sugg[schedule_sugg.algorithm == 'SVC'].sort_values(by=['perf_2'], ascending=False)"
   ],
   "metadata": {
    "collapsed": false
   }
  },
  {
   "cell_type": "code",
   "execution_count": 7,
   "outputs": [
    {
     "name": "stdout",
     "output_type": "stream",
     "text": [
      "-----Order for SVC-----\n",
      "imp_col_1\n",
      "Precipitation          2\n",
      "AtmosphericPressure    2\n",
      "Temperature            1\n",
      "Name: count, dtype: int64\n",
      "imp_col_2\n",
      "AtmosphericPressure    2\n",
      "Temperature            2\n",
      "Precipitation          1\n",
      "Name: count, dtype: int64\n",
      "imp_col_3\n",
      "Temperature            2\n",
      "Precipitation          2\n",
      "AtmosphericPressure    1\n",
      "Name: count, dtype: int64\n"
     ]
    }
   ],
   "source": [
    "for a in ['SVC']:\n",
    "    print('-----'+'Order for '+a+'-----')\n",
    "    schedule = schedule_sugg[schedule_sugg.algorithm == a].sort_values(by=['perf_2'], ascending=False).copy()\n",
    "    print(schedule[0:5].imp_col_1.value_counts())\n",
    "    print(schedule[0:5].imp_col_2.value_counts())\n",
    "    print(schedule[0:5].imp_col_3.value_counts())"
   ],
   "metadata": {
    "collapsed": false
   }
  },
  {
   "cell_type": "code",
   "execution_count": 4,
   "outputs": [],
   "source": [
    "### Prevale SVC: Precipitation = AtmosphericPressure, AtmosphericPressure = Temperature, Temperature = Precipitation\n",
    "\n",
    "##sono comunque così variabili!"
   ],
   "metadata": {
    "collapsed": false
   }
  },
  {
   "cell_type": "code",
   "execution_count": null,
   "outputs": [],
   "source": [],
   "metadata": {
    "collapsed": false
   }
  }
 ],
 "metadata": {
  "kernelspec": {
   "display_name": "Python 3",
   "language": "python",
   "name": "python3"
  },
  "language_info": {
   "codemirror_mode": {
    "name": "ipython",
    "version": 2
   },
   "file_extension": ".py",
   "mimetype": "text/x-python",
   "name": "python",
   "nbconvert_exporter": "python",
   "pygments_lexer": "ipython2",
   "version": "2.7.6"
  }
 },
 "nbformat": 4,
 "nbformat_minor": 0
}
