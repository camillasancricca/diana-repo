{
 "cells": [
  {
   "cell_type": "code",
   "execution_count": 4,
   "metadata": {
    "collapsed": true
   },
   "outputs": [],
   "source": [
    "import pandas as pd"
   ]
  },
  {
   "cell_type": "code",
   "execution_count": 5,
   "outputs": [],
   "source": [
    "schedule = pd.read_csv('schedule/compiled_sample_schedule.csv')"
   ],
   "metadata": {
    "collapsed": false
   }
  },
  {
   "cell_type": "code",
   "execution_count": 6,
   "outputs": [],
   "source": [
    "schedule_50 = schedule[schedule.quality == 50]\n",
    "schedule_60 = schedule[schedule.quality == 60]\n",
    "schedule_70 = schedule[schedule.quality == 70]\n",
    "schedule_80 = schedule[schedule.quality == 80]\n",
    "schedule_90 = schedule[schedule.quality == 90]\n"
   ],
   "metadata": {
    "collapsed": false
   }
  },
  {
   "cell_type": "code",
   "execution_count": 7,
   "outputs": [
    {
     "name": "stdout",
     "output_type": "stream",
     "text": [
      "-----Order for SVC-----\n",
      "imp_col_1\n",
      "Temperature            18\n",
      "AtmosphericPressure    13\n",
      "Precipitation           9\n",
      "Name: count, dtype: int64\n",
      "imp_col_2\n",
      "Precipitation          15\n",
      "AtmosphericPressure    13\n",
      "Temperature            12\n",
      "Name: count, dtype: int64\n",
      "imp_col_3\n",
      "Precipitation          16\n",
      "AtmosphericPressure    14\n",
      "Temperature            10\n",
      "Name: count, dtype: int64\n"
     ]
    }
   ],
   "source": [
    "for a in ['SVC']:\n",
    "    print('-----'+'Order for '+a+'-----')\n",
    "    schedule_90 = schedule_90.sort_values(by=[a+'_2'], ascending=False)\n",
    "    print(schedule_90[0:40].imp_col_1.value_counts())\n",
    "    print(schedule_90[0:40].imp_col_2.value_counts())\n",
    "    print(schedule_90[0:40].imp_col_3.value_counts())"
   ],
   "metadata": {
    "collapsed": false
   }
  },
  {
   "cell_type": "code",
   "execution_count": 5,
   "outputs": [],
   "source": [
    "### 90% Prevale SVC: Temperature, Precipitation, AtmosphericPressure\n",
    "\n",
    "##sono comunque così variabili!"
   ],
   "metadata": {
    "collapsed": false
   }
  },
  {
   "cell_type": "code",
   "execution_count": 8,
   "outputs": [
    {
     "name": "stdout",
     "output_type": "stream",
     "text": [
      "-----Order for SVC-----\n",
      "imp_col_1\n",
      "Temperature            15\n",
      "Precipitation          13\n",
      "AtmosphericPressure    12\n",
      "Name: count, dtype: int64\n",
      "imp_col_2\n",
      "Precipitation          16\n",
      "Temperature            13\n",
      "AtmosphericPressure    11\n",
      "Name: count, dtype: int64\n",
      "imp_col_3\n",
      "AtmosphericPressure    17\n",
      "Temperature            12\n",
      "Precipitation          11\n",
      "Name: count, dtype: int64\n"
     ]
    }
   ],
   "source": [
    "for a in ['SVC']:\n",
    "    print('-----'+'Order for '+a+'-----')\n",
    "    schedule_50 = schedule_50.sort_values(by=[a+'_2'], ascending=False)\n",
    "    print(schedule_50[0:40].imp_col_1.value_counts())\n",
    "    print(schedule_50[0:40].imp_col_2.value_counts())\n",
    "    print(schedule_50[0:40].imp_col_3.value_counts())\n"
   ],
   "metadata": {
    "collapsed": false
   }
  },
  {
   "cell_type": "code",
   "execution_count": null,
   "outputs": [],
   "source": [
    "### 90% Prevale SVC: Temperature, Precipitation, AtmosphericPressure\n",
    "\n",
    "##sono comunque così variabili!"
   ],
   "metadata": {
    "collapsed": false
   }
  },
  {
   "cell_type": "code",
   "execution_count": null,
   "outputs": [],
   "source": [],
   "metadata": {
    "collapsed": false
   }
  }
 ],
 "metadata": {
  "kernelspec": {
   "display_name": "Python 3",
   "language": "python",
   "name": "python3"
  },
  "language_info": {
   "codemirror_mode": {
    "name": "ipython",
    "version": 2
   },
   "file_extension": ".py",
   "mimetype": "text/x-python",
   "name": "python",
   "nbconvert_exporter": "python",
   "pygments_lexer": "ipython2",
   "version": "2.7.6"
  }
 },
 "nbformat": 4,
 "nbformat_minor": 0
}
